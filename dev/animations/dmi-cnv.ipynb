{
 "cells": [
  {
   "cell_type": "markdown",
   "metadata": {},
   "source": [
    "# DMI Cnv class"
   ]
  },
  {
   "cell_type": "code",
   "execution_count": 1,
   "metadata": {},
   "outputs": [
    {
     "name": "stdout",
     "output_type": "stream",
     "text": [
      "Running OOMMF (ExeOOMMFRunner) [2020/06/17 20:51]... (4.2 s)\n",
      "Average m: (-0.026591186724711547, -2.2437587336641827e-09, 0.12666881786936904)\n"
     ]
    },
    {
     "data": {
      "application/vnd.jupyter.widget-view+json": {
       "model_id": "c46c01bdef7343b585afe2afcedf4ddc",
       "version_major": 2,
       "version_minor": 0
      },
      "text/plain": [
       "Output()"
      ]
     },
     "metadata": {},
     "output_type": "display_data"
    }
   ],
   "source": [
    "import os\n",
    "import k3d\n",
    "import random\n",
    "import discretisedfield as df\n",
    "import micromagneticmodel as mm\n",
    "import micromagneticdata as md\n",
    "import oommfc as oc\n",
    "\n",
    "p1 = (-15e-9, 0, 0)\n",
    "p2 = (15e-9, 1e-9, 1e-9)\n",
    "n = (10, 1, 1)\n",
    "\n",
    "region = df.Region(p1=p1, p2=p2)\n",
    "mesh = df.Mesh(region, n=n)\n",
    "\n",
    "Ms = 1e6\n",
    "D = 1e-2\n",
    "\n",
    "random.seed(2)\n",
    "def value_random(point):\n",
    "    m = [random.random()*2 - 1 for i in range(3)]\n",
    "    return m\n",
    "\n",
    "system = mm.System(name='dmi_cnv')\n",
    "system.energy = mm.DMI(D=D, crystalclass='Cnv')\n",
    "system.dynamics = mm.Damping(alpha=0.5)  # No precession to make animations faster\n",
    "system.m = df.Field(mesh, dim=3, value=value_random, norm=Ms)\n",
    "\n",
    "try:\n",
    "    oc.delete(system)\n",
    "except FileNotFoundError:\n",
    "    pass\n",
    "\n",
    "td = oc.TimeDriver()\n",
    "td.drive(system, t=70e-12, n=250)  # The aim is to have 10s videos n=10*25=250\n",
    "\n",
    "print(f'Average m: {system.m.orientation.average}')\n",
    "\n",
    "system.m.k3d_vector()"
   ]
  },
  {
   "cell_type": "code",
   "execution_count": 2,
   "metadata": {},
   "outputs": [
    {
     "data": {
      "application/vnd.jupyter.widget-view+json": {
       "model_id": "acbba67e32cf4a56b5c252002d3cf2fd",
       "version_major": 2,
       "version_minor": 0
      },
      "text/plain": [
       "interactive(children=(BoundedIntText(value=0, description='drive', max=1), IntSlider(value=0, continuous_updat…"
      ]
     },
     "metadata": {},
     "output_type": "display_data"
    },
    {
     "data": {
      "application/vnd.jupyter.widget-view+json": {
       "model_id": "3453a0b5f45342dca2c9d828fb25e26d",
       "version_major": 2,
       "version_minor": 0
      },
      "text/plain": [
       "Output()"
      ]
     },
     "metadata": {},
     "output_type": "display_data"
    }
   ],
   "source": [
    "data = md.Data(name=system.name)\n",
    "\n",
    "plot = k3d.plot()\n",
    "\n",
    "@df.interact(drive_number=data.selector(),\n",
    "             timestep=data.drive(0).slider(continuous_update=False))\n",
    "def my_plot(drive_number, timestep):\n",
    "    data.drive(drive_number).step(timestep).orientation.k3d_vector(plot=plot, interactive_field=system.m, head_size=2)\n",
    "\n",
    "plot.display()"
   ]
  },
  {
   "cell_type": "code",
   "execution_count": 3,
   "metadata": {},
   "outputs": [],
   "source": [
    "data.drive(0).ovf2vtk()"
   ]
  },
  {
   "cell_type": "code",
   "execution_count": null,
   "metadata": {},
   "outputs": [],
   "source": []
  }
 ],
 "metadata": {
  "kernelspec": {
   "display_name": "Python 3",
   "language": "python",
   "name": "python3"
  },
  "language_info": {
   "codemirror_mode": {
    "name": "ipython",
    "version": 3
   },
   "file_extension": ".py",
   "mimetype": "text/x-python",
   "name": "python",
   "nbconvert_exporter": "python",
   "pygments_lexer": "ipython3",
   "version": "3.8.3"
  }
 },
 "nbformat": 4,
 "nbformat_minor": 4
}
