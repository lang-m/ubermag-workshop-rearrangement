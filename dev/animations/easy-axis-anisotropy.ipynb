{
 "cells": [
  {
   "cell_type": "markdown",
   "metadata": {},
   "source": [
    "# Easy-axis anisotropy"
   ]
  },
  {
   "cell_type": "code",
   "execution_count": 4,
   "metadata": {},
   "outputs": [
    {
     "name": "stdout",
     "output_type": "stream",
     "text": [
      "Running OOMMF (ExeOOMMFRunner) [2020/06/17 19:47]... (4.3 s)\n",
      "Average m: (-0.0016704562077211817, 0.0022670496279978015, 0.20001664073426362)\n"
     ]
    },
    {
     "data": {
      "application/vnd.jupyter.widget-view+json": {
       "model_id": "fb059c5b5fcf496e83fbfe7bce26d620",
       "version_major": 2,
       "version_minor": 0
      },
      "text/plain": [
       "Output()"
      ]
     },
     "metadata": {},
     "output_type": "display_data"
    }
   ],
   "source": [
    "import os\n",
    "import k3d\n",
    "import random\n",
    "import discretisedfield as df\n",
    "import micromagneticmodel as mm\n",
    "import micromagneticdata as md\n",
    "import oommfc as oc\n",
    "\n",
    "p1 = (-15e-9, 0, 0)\n",
    "p2 = (15e-9, 1e-9, 1e-9)\n",
    "n = (10, 1, 1)\n",
    "\n",
    "region = df.Region(p1=p1, p2=p2)\n",
    "mesh = df.Mesh(region, n=n)\n",
    "\n",
    "Ms = 1e6\n",
    "u = (0, 0, 1)\n",
    "K = 7e5\n",
    "\n",
    "random.seed(3)\n",
    "def value_random(point):\n",
    "    m = [random.random()*2 - 1 for i in range(3)]\n",
    "    return m\n",
    "\n",
    "system = mm.System(name='easy_axis_anisotropy')\n",
    "system.energy = mm.UniaxialAnisotropy(K=K, u=u)\n",
    "system.dynamics = mm.Damping(alpha=0.5)  # No precession to make animations faster\n",
    "system.m = df.Field(mesh, dim=3, value=value_random, norm=Ms)\n",
    "\n",
    "try:\n",
    "    oc.delete(system)\n",
    "except FileNotFoundError:\n",
    "    pass\n",
    "\n",
    "td = oc.TimeDriver()\n",
    "td.drive(system, t=70e-12, n=250)  # The aim is to have 10s videos n=10*25=250\n",
    "\n",
    "print(f'Average m: {system.m.orientation.average}')\n",
    "\n",
    "system.m.k3d_vector()"
   ]
  },
  {
   "cell_type": "code",
   "execution_count": 5,
   "metadata": {},
   "outputs": [
    {
     "data": {
      "application/vnd.jupyter.widget-view+json": {
       "model_id": "3f01848a4b774d3684b326687054cbba",
       "version_major": 2,
       "version_minor": 0
      },
      "text/plain": [
       "interactive(children=(BoundedIntText(value=0, description='drive', max=1), IntSlider(value=0, continuous_updat…"
      ]
     },
     "metadata": {},
     "output_type": "display_data"
    },
    {
     "data": {
      "application/vnd.jupyter.widget-view+json": {
       "model_id": "516a6767eaba40a8b51796137bf31d41",
       "version_major": 2,
       "version_minor": 0
      },
      "text/plain": [
       "Output()"
      ]
     },
     "metadata": {},
     "output_type": "display_data"
    }
   ],
   "source": [
    "data = md.Data(name=system.name)\n",
    "\n",
    "plot = k3d.plot()\n",
    "\n",
    "@df.interact(drive_number=data.selector(),\n",
    "             timestep=data.drive(0).slider(continuous_update=False))\n",
    "def my_plot(drive_number, timestep):\n",
    "    data.drive(drive_number).step(timestep).orientation.k3d_vector(plot=plot, interactive_field=system.m, head_size=2)\n",
    "\n",
    "plot.display()"
   ]
  },
  {
   "cell_type": "code",
   "execution_count": 6,
   "metadata": {},
   "outputs": [],
   "source": [
    "data.drive(0).ovf2vtk()"
   ]
  },
  {
   "cell_type": "code",
   "execution_count": null,
   "metadata": {},
   "outputs": [],
   "source": []
  }
 ],
 "metadata": {
  "kernelspec": {
   "display_name": "Python 3",
   "language": "python",
   "name": "python3"
  },
  "language_info": {
   "codemirror_mode": {
    "name": "ipython",
    "version": 3
   },
   "file_extension": ".py",
   "mimetype": "text/x-python",
   "name": "python",
   "nbconvert_exporter": "python",
   "pygments_lexer": "ipython3",
   "version": "3.8.3"
  }
 },
 "nbformat": 4,
 "nbformat_minor": 4
}
