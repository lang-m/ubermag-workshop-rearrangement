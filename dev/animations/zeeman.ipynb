{
 "cells": [
  {
   "cell_type": "markdown",
   "metadata": {},
   "source": [
    "# Zeeman"
   ]
  },
  {
   "cell_type": "code",
   "execution_count": 25,
   "metadata": {},
   "outputs": [
    {
     "name": "stdout",
     "output_type": "stream",
     "text": [
      "Average m: (0.0027960939060462596, 0.08947728616077029, -0.18334260617819192)\n",
      "Running OOMMF (ExeOOMMFRunner) [2020/06/17 19:04]... (3.3 s)\n",
      "Average m: (0.001726556778177771, -0.0008477720026368556, 0.9999431312278257)\n"
     ]
    },
    {
     "data": {
      "application/vnd.jupyter.widget-view+json": {
       "model_id": "164956e07f6c4aa2b85487e783f5366f",
       "version_major": 2,
       "version_minor": 0
      },
      "text/plain": [
       "Output()"
      ]
     },
     "metadata": {},
     "output_type": "display_data"
    }
   ],
   "source": [
    "import os\n",
    "import k3d\n",
    "import random\n",
    "import discretisedfield as df\n",
    "import micromagneticmodel as mm\n",
    "import micromagneticdata as md\n",
    "import oommfc as oc\n",
    "\n",
    "p1 = (-15e-9, 0, 0)\n",
    "p2 = (15e-9, 1e-9, 1e-9)\n",
    "n = (10, 1, 1)\n",
    "\n",
    "region = df.Region(p1=p1, p2=p2)\n",
    "mesh = df.Mesh(region, n=n)\n",
    "\n",
    "Ms = 1e6\n",
    "H = (0, 0, 1e6)\n",
    "\n",
    "random.seed(2)\n",
    "def value_random(point):\n",
    "    m = [random.random()*2 - 1 for i in range(3)]\n",
    "    return m\n",
    "\n",
    "system = mm.System(name='zeeman')\n",
    "system.energy = mm.Zeeman(H=H)\n",
    "system.dynamics = mm.Damping(alpha=0.5)  # No precession to make animations faster\n",
    "system.m = df.Field(mesh, dim=3, value=value_random, norm=Ms)\n",
    "\n",
    "print(f'Average m: {system.m.orientation.average}')\n",
    "\n",
    "try:\n",
    "    oc.delete(system)\n",
    "except FileNotFoundError:\n",
    "    pass\n",
    "\n",
    "td = oc.TimeDriver()\n",
    "td.drive(system, t=70e-12, n=250)  # The aim is to have 10s videos n=10*25=250\n",
    "\n",
    "print(f'Average m: {system.m.orientation.average}')\n",
    "\n",
    "system.m.k3d_vector()"
   ]
  },
  {
   "cell_type": "code",
   "execution_count": 26,
   "metadata": {},
   "outputs": [
    {
     "data": {
      "application/vnd.jupyter.widget-view+json": {
       "model_id": "de5a830b991046abbb7fb543e653b099",
       "version_major": 2,
       "version_minor": 0
      },
      "text/plain": [
       "interactive(children=(BoundedIntText(value=0, description='drive', max=1), IntSlider(value=0, continuous_updat…"
      ]
     },
     "metadata": {},
     "output_type": "display_data"
    },
    {
     "data": {
      "application/vnd.jupyter.widget-view+json": {
       "model_id": "7ed88ece67314485b4aa3de08b724110",
       "version_major": 2,
       "version_minor": 0
      },
      "text/plain": [
       "Output()"
      ]
     },
     "metadata": {},
     "output_type": "display_data"
    }
   ],
   "source": [
    "data = md.Data(name=system.name)\n",
    "\n",
    "plot = k3d.plot()\n",
    "\n",
    "@df.interact(drive_number=data.selector(),\n",
    "             timestep=data.drive(0).slider(continuous_update=False))\n",
    "def my_plot(drive_number, timestep):\n",
    "    data.drive(drive_number).step(timestep).orientation.k3d_vector(plot=plot, interactive_field=system.m, head_size=2)\n",
    "\n",
    "plot.display()"
   ]
  },
  {
   "cell_type": "code",
   "execution_count": 27,
   "metadata": {},
   "outputs": [],
   "source": [
    "data.drive(0).ovf2vtk()"
   ]
  }
 ],
 "metadata": {
  "kernelspec": {
   "display_name": "Python 3",
   "language": "python",
   "name": "python3"
  },
  "language_info": {
   "codemirror_mode": {
    "name": "ipython",
    "version": 3
   },
   "file_extension": ".py",
   "mimetype": "text/x-python",
   "name": "python",
   "nbconvert_exporter": "python",
   "pygments_lexer": "ipython3",
   "version": "3.8.3"
  }
 },
 "nbformat": 4,
 "nbformat_minor": 4
}
