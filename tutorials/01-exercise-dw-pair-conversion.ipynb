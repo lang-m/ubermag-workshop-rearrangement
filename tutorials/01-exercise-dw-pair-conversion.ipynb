{
 "cells": [
  {
   "cell_type": "markdown",
   "metadata": {},
   "source": [
    "# Exercise 01: Domain wall pair conversion\n",
    "\n",
    "We want to simulate a domain wall conversion in a two-dimensional thin film sample with:\n",
    "\n",
    "- exchange energy constant $A = 15 \\,\\text{pJ}\\,\\text{m}^{-1}$,\n",
    "- Dzyaloshinskii-Moriya energy constant $D = 3 \\,\\text{mJ}\\,\\text{m}^{-2}$,\n",
    "- uniaxial anisotropy constant $K = 0.5 \\,\\text{MJ}\\,\\text{m}^{-3}$ with $\\hat{\\mathbf{u}} = (0, 0, 1)$ in the out of plane direction,\n",
    "- gyrotropic ratio $\\gamma = 2.211 \\times 10^{5} \\,\\text{m}\\,\\text{A}^{-1}\\,\\text{s}^{-1}$, and\n",
    "- Gilbert damping $\\alpha=0.3$.\n",
    "\n",
    "Please carry out the following steps:\n",
    "\n",
    "1. Create the following geometry with discretisation cell size $(2 \\,\\text{nm}, 2 \\,\\text{nm}, 2 \\,\\text{nm})$.\n",
    "    \n",
    "    <img src=\"figures/dw_pair_conversion_geometry.png\" width=\"400\">  \n",
    "\n",
    "2. Initialise the magnetisation so that when relaxes, a domain pair is present in the narrower part of the geometry.\n",
    "\n",
    "3. Relax the system. Is a domain wall pair contained in the constrained part?\n",
    "\n",
    "4. Apply the spin polarised current in the positive $x$ direction with velocity $\\mathbf{u} = (400, 0, 0) \\,\\text{m}\\,\\text{s}^{-1}$, with $\\beta=0.5$.\n",
    "\n",
    "5. Evolve the system over $0.2 \\,\\text{ns}$. What did you get? [1]\n",
    "\n",
    "#### References\n",
    "\n",
    "[1] Zhou, Y., & Ezawa, M. (2014). A reversible conversion between a skyrmion and a domain-wall pair in a junction geometry. *Nature Communications* **5**, 8. https://doi.org/10.1038/ncomms5652\n",
    "\n",
    "\n",
    "## Solution"
   ]
  },
  {
   "cell_type": "code",
   "execution_count": 5,
   "metadata": {},
   "outputs": [
    {
     "data": {
      "application/vnd.jupyter.widget-view+json": {
       "model_id": "5ec2148e90e94169a8b0f371904bf466",
       "version_major": 2,
       "version_minor": 0
      },
      "text/plain": [
       "Output()"
      ]
     },
     "metadata": {},
     "output_type": "display_data"
    }
   ],
   "source": [
    "import oommfc as oc\n",
    "import discretisedfield as df\n",
    "import micromagneticmodel as mm\n",
    "%matplotlib inline\n",
    "\n",
    "Ms = 5.8e5  # saturation magnetisation (A/m)\n",
    "A = 15e-12  # exchange energy constant (J/)\n",
    "D = 3e-3  # Dzyaloshinkii-Moriya energy constant (J/m**2)\n",
    "K = 0.5e6  # uniaxial anisotropy constant (J/m**3)\n",
    "u = (0, 0, 1)  # easy axis\n",
    "gamma0 = 2.211e5  # gyromagnetic ratio (m/As)\n",
    "alpha = 0.3  # Gilbert damping\n",
    "\n",
    "system = mm.System(name='dw_pair_conversion')\n",
    "system.energy = mm.Exchange(A=A) + mm.DMI(D=D, crystalclass=\"Cnv\") + mm.UniaxialAnisotropy(K=K, u=u)\n",
    "system.dynamics = mm.Precession(gamma0=2.211e5) + mm.Damping(alpha=alpha)\n",
    "\n",
    "p1 = (0, 0, 0)\n",
    "p2 = (150e-9, 50e-9, 2e-9)\n",
    "cell = (2e-9, 2e-9, 2e-9)\n",
    "\n",
    "region = df.Region(p1=p1, p2=p2)\n",
    "mesh = df.Mesh(region=region, cell=cell)\n",
    "\n",
    "def Ms_fun(pos):\n",
    "    x, y, z = pos\n",
    "    if x < 50e-9 and (y < 15e-9 or y > 35e-9):\n",
    "        return 0\n",
    "    else:\n",
    "        return Ms\n",
    "    \n",
    "def m_init(pos):\n",
    "    x, y, z = pos\n",
    "    if 30e-9 < x < 40e-9:\n",
    "        return (0.1, 0.1, -1)\n",
    "    else:\n",
    "        return (0.1, 0.1, 1)\n",
    "    \n",
    "system.m = df.Field(mesh, dim=3, value=m_init, norm=Ms_fun)\n",
    "\n",
    "system.m.z.plane('z').k3d_voxels(filter_field=system.m.norm)"
   ]
  },
  {
   "cell_type": "code",
   "execution_count": 6,
   "metadata": {},
   "outputs": [
    {
     "name": "stdout",
     "output_type": "stream",
     "text": [
      "Running OOMMF (ExeOOMMFRunner) [2020/04/29 11:03]... (2.5 s)\n"
     ]
    },
    {
     "data": {
      "application/vnd.jupyter.widget-view+json": {
       "model_id": "0142d3d7975d4f4fb9ed876145d9756b",
       "version_major": 2,
       "version_minor": 0
      },
      "text/plain": [
       "Output()"
      ]
     },
     "metadata": {},
     "output_type": "display_data"
    }
   ],
   "source": [
    "md = oc.MinDriver()\n",
    "md.drive(system)\n",
    "\n",
    "system.m.z.plane('z').k3d_voxels(filter_field=system.m.norm)"
   ]
  },
  {
   "cell_type": "code",
   "execution_count": 7,
   "metadata": {},
   "outputs": [],
   "source": [
    "ux = 400  # velocity in x direction (m/s)\n",
    "beta = 0.5  # non-adiabatic STT parameter\n",
    "\n",
    "system.dynamics += mm.ZhangLi(u=ux, beta=beta)"
   ]
  },
  {
   "cell_type": "code",
   "execution_count": 8,
   "metadata": {},
   "outputs": [
    {
     "name": "stdout",
     "output_type": "stream",
     "text": [
      "Running OOMMF (ExeOOMMFRunner) [2020/04/29 11:03]... (6.8 s)\n"
     ]
    },
    {
     "data": {
      "application/vnd.jupyter.widget-view+json": {
       "model_id": "97196c8911c0421e929f452606ab4991",
       "version_major": 2,
       "version_minor": 0
      },
      "text/plain": [
       "Output()"
      ]
     },
     "metadata": {},
     "output_type": "display_data"
    }
   ],
   "source": [
    "td = oc.TimeDriver()\n",
    "td.drive(system, t=0.2e-9, n=200)\n",
    "\n",
    "system.m.z.plane('z').k3d_voxels(filter_field=system.m.norm)"
   ]
  },
  {
   "cell_type": "markdown",
   "metadata": {},
   "source": [
    "As a result, we got a skyrmion formed in the wider region."
   ]
  }
 ],
 "metadata": {
  "kernelspec": {
   "display_name": "Python 3",
   "language": "python",
   "name": "python3"
  },
  "language_info": {
   "codemirror_mode": {
    "name": "ipython",
    "version": 3
   },
   "file_extension": ".py",
   "mimetype": "text/x-python",
   "name": "python",
   "nbconvert_exporter": "python",
   "pygments_lexer": "ipython3",
   "version": "3.8.1"
  },
  "widgets": {
   "application/vnd.jupyter.widget-state+json": {
    "state": {
     "0a0f485aa87848149b55fca53fc686fb": {
      "buffers": [
       {
        "data": "eNolw2dslWUYgOHbHyb8MDExxhhjjAqCgIDQQSmlpaUtXXSP073X6fuNs7/D3puy9yqjQNl7j7KLbMqQPQREjTuuqI3PiVdypX4MaZ0howtkfQLZMrcr2LpB/qdQKIu7Q2kPKJcVPaHqM6iRdb3A3huU1PqA8TmYgX3BEdjvNRxBr2MGdcIMfgMz5E35Fmbo25j938Ho/y5G2HsYA97HCP9Afog+8CP0iM6yC/qgruiR3dCjuqNF9UAb3BMtupfsjRbTB21IX9kPLTYIFRcsQ1DxoaihYaiEATIclTgQlRQhB6GSI1EpUXIwalg0KjVGDkGlxaLS41AZ8XIoKjMBlZUok1DZyaicFDkMlZuKykuT6Wi2DLT8TLSCLJmNVpiDVhSYi1ach1ZiQy/JRy8tQC8rRC8vksXoFSUYlYGlGFVlGNXlsgKzphKztgqzrvr/9TU47LWyDkdDPQ5lx6k1SIVTl4aGy9BxmQYuh4nb6ZBO3C4nHrdLuvF4PHi9Xrw+H75Ay8Ln92MNHy5HYI0YiTVylByNNUqOHoM1Zqwch3/sePzjJuAfP1FOwj9hMtbEKViTpsppWJOnY02ZgTV1ppyFNa0Ra/psrBlz5FysmfOwZsnG+fgaF+CbvRDfnEX45i7GN2+JXIp3/jK8C5bjXbhCrsS7aBWexavxLGnCs3SNXIt72Trcy9fjXtEsN+BauRHXqk24VrfgatqMs2kLzjVbca7dhmPddhzrd+Bo3onZvAtzwx6MjXsxNu3DaNmP3nIAffNBtC2H0LYeRtt2BLX9qDxGw47jNOw8gX1XK/bdJ6nfc0qepm7vGer2naV2/zlqD5yn5mAb1YcuyItUHb5E5ZHLVB69QsWxq1Qcv0b5ieuUtd6gtLWd0pM3KTl1i+LTtyk6c4eis3cpPHePgvP3yW97gK3tIbYLj8j74jG5F5+Qc+kp2ZefkXXlOZlXX5Bx7SXp178m7cYrUtu/IaX9W5JvfkfSre9JvP0DCXd+JP7Ln4i7+zOx934h5v6vRD/4jaiHvxP56A8iHv9J+JO/CHv6N6HP/iH4q38Jft5ByIsOQl92EPaqg/8ABrdj6Q==",
        "encoding": "base64",
        "path": [
         "color_map",
         "compressed_buffer"
        ]
       },
       {
        "data": "eNpjYBBzZoCDaU4Q2gNKn3BEyDE4MDA02DOggAZ7AIx6BIM=",
        "encoding": "base64",
        "path": [
         "model_matrix",
         "compressed_buffer"
        ]
       },
       {
        "data": "eNqdlT2I1EAUx1cLBQVBLBTUTisRQQ7Uwl4bmxNBsREREUSwthAFT7G5SixEC+XQAxFRUWzvuuydX4WnZ3PLXvZ29zbJJJnMZCaT6Esy+brLhMN/NxPeLzPvvfm/VkuhTn9kWiiXncoBublgkewiZBnDZRWpNUSYEEqpXxGLxaWSRbJNieesKlGm5zMeFBKZwpLSHfjKGUFKlE15NQwUSf1NJBcpM/AdJcplQREbVSFlSV7AXCWKcBHWB2fh5XUoGlAsJtVzQpEkr/Q9igDV6RsWklWWcl3sERUpuQv1MPYoZKBIG6AGUHOaVVmKQ+VEpCJx6ox63e7KyIHC5CxAGdjnpUpnxVYmKeTE7P7UZme1hWWT8LCEsuL0rq9ULQgiwoCaS+13TyYnn76f61g0kCz4hYvilSpy/aEEc/S56buXx89euff6i+4wUaBsX4QbBMUBghqLHyfOjR04eOzCw89/TPr/qMAbfJ+6fnzPtu17T96c/jEk8oY5KtpgrmJUf/7ZpcM7Nm3eefTq8699r4SCXIk1r1OkJaxHkcG3F9fGdm3ZuvvEjZfVU4EBlC0jb6zaDoW0U+P3hztnDu3bf2R84tNiOVd4gKC3McbSybJ2V3R7FDJXb0/dOn/q9MXbr+Z1lxXNgBveYC1KUGtJe/Po/oPHb9vVvlKjSFB/rIAifUGbmdF+6SgnNaMwryltaifYGvZ6QwsXSYgaUY4vrW+thQKMg6Ozyq9gT41ClFdeedYm6dmishsnhtxgfQamfjFS5LRJ7Ce9VZRaYD59iK1ErZi2U0w6OQNjU6RyEsEtYWYlbRQ3k736D5veoyQ=",
        "encoding": "base64",
        "path": [
         "voxels",
         "compressed_buffer"
        ]
       }
      ],
      "model_module": "k3d",
      "model_module_version": "2.7.4",
      "model_name": "ObjectModel",
      "state": {
       "_view_count": null,
       "_view_module": null,
       "_view_module_version": "",
       "_view_name": null,
       "colorLegend": false,
       "color_map": {
        "compressed_buffer": {},
        "dtype": "uint32",
        "shape": [
         256
        ]
       },
       "compression_level": 0,
       "id": 139690593385552,
       "model_matrix": {
        "compressed_buffer": {},
        "dtype": "float32",
        "shape": [
         4,
         4
        ]
       },
       "name": "Voxels #1",
       "opacity": 1,
       "outlines": false,
       "outlines_color": 0,
       "type": "Voxels",
       "visible": true,
       "voxels": {
        "compressed_buffer": {},
        "dtype": "uint8",
        "shape": [
         1,
         25,
         75
        ]
       },
       "wireframe": false
      }
     },
     "139dc580e29a4ff2a7a1d44348318214": {
      "model_module": "@jupyter-widgets/base",
      "model_module_version": "1.2.0",
      "model_name": "LayoutModel",
      "state": {}
     },
     "1dca148fb5d14573978d4ffdc2830c89": {
      "model_module": "@jupyter-widgets/base",
      "model_module_version": "1.2.0",
      "model_name": "LayoutModel",
      "state": {}
     },
     "209d7704bab541eebc5d1b24cc6a715f": {
      "model_module": "k3d",
      "model_module_version": "2.7.4",
      "model_name": "PlotModel",
      "state": {
       "_backend_version": "2.7.4",
       "_dom_classes": [],
       "_view_count": null,
       "antialias": 3,
       "auto_rendering": true,
       "axes": [
        "x (nm)",
        "y (nm)",
        "z (nm)"
       ],
       "axes_helper": 1,
       "background_color": 16777215,
       "camera": [
        206.4820910752125,
        -172.47313652667142,
        14.158209101430517,
        74.9000000609085,
        24.899999994784594,
        1,
        0,
        0,
        1
       ],
       "camera_animation": [],
       "camera_auto_fit": true,
       "camera_fov": 60,
       "camera_no_pan": false,
       "camera_no_rotate": false,
       "camera_no_zoom": false,
       "clipping_planes": [],
       "colorbar_object_id": -1,
       "fps": 25,
       "fps_meter": false,
       "grid": [
        -1,
        -1,
        -1,
        1,
        1,
        1
       ],
       "grid_auto_fit": true,
       "grid_visible": true,
       "height": 512,
       "layout": "IPY_MODEL_fe32f085f5a74531839165706f13e28e",
       "lighting": 1.5,
       "menu_visibility": true,
       "mode": "view",
       "name": null,
       "object_ids": [
        139689427045648
       ],
       "rendering_steps": 1,
       "screenshot": "",
       "screenshot_scale": 2,
       "snapshot": "",
       "time": 0,
       "voxel_paint_color": 0
      }
     },
     "374c81dcfd4f4dc2b0661e5d87bae62e": {
      "model_module": "@jupyter-widgets/base",
      "model_module_version": "1.2.0",
      "model_name": "LayoutModel",
      "state": {}
     },
     "41757a2532e648f3a0f89840dbdf3bf5": {
      "model_module": "@jupyter-widgets/base",
      "model_module_version": "1.2.0",
      "model_name": "LayoutModel",
      "state": {}
     },
     "4ff2547974e14096bee3ae7309dd9959": {
      "buffers": [
       {
        "data": "eNolw2dslWUYgOHbHyb8MDExxhhjjAqCgIDQQSmlpaUtXXSP073X6fuNs7/D3puy9yqjQNl7j7KLbMqQPQREjTuuqI3PiVdypX4MaZ0howtkfQLZMrcr2LpB/qdQKIu7Q2kPKJcVPaHqM6iRdb3A3huU1PqA8TmYgX3BEdjvNRxBr2MGdcIMfgMz5E35Fmbo25j938Ho/y5G2HsYA97HCP9Afog+8CP0iM6yC/qgruiR3dCjuqNF9UAb3BMtupfsjRbTB21IX9kPLTYIFRcsQ1DxoaihYaiEATIclTgQlRQhB6GSI1EpUXIwalg0KjVGDkGlxaLS41AZ8XIoKjMBlZUok1DZyaicFDkMlZuKykuT6Wi2DLT8TLSCLJmNVpiDVhSYi1ach1ZiQy/JRy8tQC8rRC8vksXoFSUYlYGlGFVlGNXlsgKzphKztgqzrvr/9TU47LWyDkdDPQ5lx6k1SIVTl4aGy9BxmQYuh4nb6ZBO3C4nHrdLuvF4PHi9Xrw+H75Ay8Ln92MNHy5HYI0YiTVylByNNUqOHoM1Zqwch3/sePzjJuAfP1FOwj9hMtbEKViTpsppWJOnY02ZgTV1ppyFNa0Ra/psrBlz5FysmfOwZsnG+fgaF+CbvRDfnEX45i7GN2+JXIp3/jK8C5bjXbhCrsS7aBWexavxLGnCs3SNXIt72Trcy9fjXtEsN+BauRHXqk24VrfgatqMs2kLzjVbca7dhmPddhzrd+Bo3onZvAtzwx6MjXsxNu3DaNmP3nIAffNBtC2H0LYeRtt2BLX9qDxGw47jNOw8gX1XK/bdJ6nfc0qepm7vGer2naV2/zlqD5yn5mAb1YcuyItUHb5E5ZHLVB69QsWxq1Qcv0b5ieuUtd6gtLWd0pM3KTl1i+LTtyk6c4eis3cpPHePgvP3yW97gK3tIbYLj8j74jG5F5+Qc+kp2ZefkXXlOZlXX5Bx7SXp178m7cYrUtu/IaX9W5JvfkfSre9JvP0DCXd+JP7Ln4i7+zOx934h5v6vRD/4jaiHvxP56A8iHv9J+JO/CHv6N6HP/iH4q38Jft5ByIsOQl92EPaqg/8ABrdj6Q==",
        "encoding": "base64",
        "path": [
         "color_map",
         "compressed_buffer"
        ]
       },
       {
        "data": "eNpjYBBzZoCDaU4Q2gNKn3BEyDE4MDA02DOggAZ7AIx6BIM=",
        "encoding": "base64",
        "path": [
         "model_matrix",
         "compressed_buffer"
        ]
       },
       {
        "data": "eNpjYMABnr758PETEHyEgQ/oAC7zEajo/ZunuExieP3p248fP3/+IBJ8+/wGp1Hvvv78/fsPDPzGDhDSP7+9x23Ut19//hIN/vz+8RGnUW++Ao36Ryz4i8+oF59+gIz6TwwAGvXnxyecRj149+03sUb9Bxn18e2nr9++fn778NTSMi9tSQEeLi4efnE157xFF158+fWHJKM+//j1+9ePT0/PLi/zUBflZmdlZeMSVLBJm3ns0UeQD0kw6utvYPj/+vL83PIydzVhTlZmZhZ2PhnzhIn77r77/psko74BPfHv95fn50FGCXGwMDExs/FKGUd177z55htpRn3/8+//v99fYUYxMzIysfJIGoZ3bLv++is1jDIIa9t67fXXXwPlKiqGFRVjkIrpioqpnYp5kB4lAxXLKyqWolQs26lY45BeDwIAHfNIbw==",
        "encoding": "base64",
        "path": [
         "voxels",
         "compressed_buffer"
        ]
       }
      ],
      "model_module": "k3d",
      "model_module_version": "2.7.4",
      "model_name": "ObjectModel",
      "state": {
       "_view_count": null,
       "_view_module": null,
       "_view_module_version": "",
       "_view_name": null,
       "colorLegend": false,
       "color_map": {
        "compressed_buffer": {},
        "dtype": "uint32",
        "shape": [
         256
        ]
       },
       "compression_level": 0,
       "id": 139690593740496,
       "model_matrix": {
        "compressed_buffer": {},
        "dtype": "float32",
        "shape": [
         4,
         4
        ]
       },
       "name": "Voxels #1",
       "opacity": 1,
       "outlines": false,
       "outlines_color": 0,
       "type": "Voxels",
       "visible": true,
       "voxels": {
        "compressed_buffer": {},
        "dtype": "uint8",
        "shape": [
         1,
         25,
         75
        ]
       },
       "wireframe": false
      }
     },
     "5b55cca841d04f798491e14c8b95399b": {
      "buffers": [
       {
        "data": "eNolw2dslWUYgOHbHyb8MDExxhhjjAqCgIDQQSmlpaUtXXSP073X6fuNs7/D3puy9yqjQNl7j7KLbMqQPQREjTuuqI3PiVdypX4MaZ0howtkfQLZMrcr2LpB/qdQKIu7Q2kPKJcVPaHqM6iRdb3A3huU1PqA8TmYgX3BEdjvNRxBr2MGdcIMfgMz5E35Fmbo25j938Ho/y5G2HsYA97HCP9Afog+8CP0iM6yC/qgruiR3dCjuqNF9UAb3BMtupfsjRbTB21IX9kPLTYIFRcsQ1DxoaihYaiEATIclTgQlRQhB6GSI1EpUXIwalg0KjVGDkGlxaLS41AZ8XIoKjMBlZUok1DZyaicFDkMlZuKykuT6Wi2DLT8TLSCLJmNVpiDVhSYi1ach1ZiQy/JRy8tQC8rRC8vksXoFSUYlYGlGFVlGNXlsgKzphKztgqzrvr/9TU47LWyDkdDPQ5lx6k1SIVTl4aGy9BxmQYuh4nb6ZBO3C4nHrdLuvF4PHi9Xrw+H75Ay8Ln92MNHy5HYI0YiTVylByNNUqOHoM1Zqwch3/sePzjJuAfP1FOwj9hMtbEKViTpsppWJOnY02ZgTV1ppyFNa0Ra/psrBlz5FysmfOwZsnG+fgaF+CbvRDfnEX45i7GN2+JXIp3/jK8C5bjXbhCrsS7aBWexavxLGnCs3SNXIt72Trcy9fjXtEsN+BauRHXqk24VrfgatqMs2kLzjVbca7dhmPddhzrd+Bo3onZvAtzwx6MjXsxNu3DaNmP3nIAffNBtC2H0LYeRtt2BLX9qDxGw47jNOw8gX1XK/bdJ6nfc0qepm7vGer2naV2/zlqD5yn5mAb1YcuyItUHb5E5ZHLVB69QsWxq1Qcv0b5ieuUtd6gtLWd0pM3KTl1i+LTtyk6c4eis3cpPHePgvP3yW97gK3tIbYLj8j74jG5F5+Qc+kp2ZefkXXlOZlXX5Bx7SXp178m7cYrUtu/IaX9W5JvfkfSre9JvP0DCXd+JP7Ln4i7+zOx934h5v6vRD/4jaiHvxP56A8iHv9J+JO/CHv6N6HP/iH4q38Jft5ByIsOQl92EPaqg/8ABrdj6Q==",
        "encoding": "base64",
        "path": [
         "color_map",
         "compressed_buffer"
        ]
       },
       {
        "data": "eNpjYBBzZoCDaU4Q2gNKn3BEyDE4MDA02DOggAZ7AIx6BIM=",
        "encoding": "base64",
        "path": [
         "model_matrix",
         "compressed_buffer"
        ]
       },
       {
        "data": "eNpjYMAB/pMMGEaNGuJGoQFGEPhPFTBq1KhRw9io0UJm1Cg4AADbo7jF",
        "encoding": "base64",
        "path": [
         "voxels",
         "compressed_buffer"
        ]
       }
      ],
      "model_module": "k3d",
      "model_module_version": "2.7.4",
      "model_name": "ObjectModel",
      "state": {
       "_view_count": null,
       "_view_module": null,
       "_view_module_version": "",
       "_view_name": null,
       "colorLegend": false,
       "color_map": {
        "compressed_buffer": {},
        "dtype": "uint32",
        "shape": [
         256
        ]
       },
       "compression_level": 0,
       "id": 139689427045648,
       "model_matrix": {
        "compressed_buffer": {},
        "dtype": "float32",
        "shape": [
         4,
         4
        ]
       },
       "name": "Voxels #1",
       "opacity": 1,
       "outlines": false,
       "outlines_color": 0,
       "type": "Voxels",
       "visible": true,
       "voxels": {
        "compressed_buffer": {},
        "dtype": "uint8",
        "shape": [
         1,
         25,
         75
        ]
       },
       "wireframe": false
      }
     },
     "5f0b1e9932634f099d661a0e3376fe24": {
      "model_module": "k3d",
      "model_module_version": "2.7.4",
      "model_name": "PlotModel",
      "state": {
       "_backend_version": "2.7.4",
       "_dom_classes": [],
       "_view_count": null,
       "antialias": 3,
       "auto_rendering": true,
       "axes": [
        "x (nm)",
        "y (nm)",
        "z (nm)"
       ],
       "axes_helper": 1,
       "background_color": 16777215,
       "camera": [
        206.4820910752125,
        -172.47313652667142,
        14.158209101430378,
        74.9000000609085,
        24.899999994784594,
        1,
        0,
        0,
        1
       ],
       "camera_animation": [],
       "camera_auto_fit": true,
       "camera_fov": 60,
       "camera_no_pan": false,
       "camera_no_rotate": false,
       "camera_no_zoom": false,
       "clipping_planes": [],
       "colorbar_object_id": -1,
       "fps": 25,
       "fps_meter": false,
       "grid": [
        -1,
        -1,
        -1,
        1,
        1,
        1
       ],
       "grid_auto_fit": true,
       "grid_visible": true,
       "height": 512,
       "layout": "IPY_MODEL_139dc580e29a4ff2a7a1d44348318214",
       "lighting": 1.5,
       "menu_visibility": true,
       "mode": "view",
       "name": null,
       "object_ids": [
        139690593740496
       ],
       "rendering_steps": 1,
       "screenshot": "",
       "screenshot_scale": 2,
       "snapshot": "",
       "time": 0,
       "voxel_paint_color": 0
      }
     },
     "a144235cc5bc4a2cbafd2115fb0f4686": {
      "model_module": "@jupyter-widgets/base",
      "model_module_version": "1.2.0",
      "model_name": "LayoutModel",
      "state": {}
     },
     "c62ec5c924cd405b9418e0c0e28414ad": {
      "model_module": "@jupyter-widgets/output",
      "model_module_version": "1.0.0",
      "model_name": "OutputModel",
      "state": {
       "layout": "IPY_MODEL_41757a2532e648f3a0f89840dbdf3bf5",
       "outputs": [
        {
         "data": {
          "application/vnd.jupyter.widget-view+json": {
           "model_id": "209d7704bab541eebc5d1b24cc6a715f",
           "version_major": 2,
           "version_minor": 0
          },
          "text/plain": "Plot(antialias=3, axes=['x', 'y', 'z'], axes_helper=1.0, background_color=16777215, camera=[2, -3, 0.2, 0.0, 0…"
         },
         "metadata": {},
         "output_type": "display_data"
        }
       ]
      }
     },
     "d28ded989b764139ad617ef7e54e949f": {
      "model_module": "@jupyter-widgets/output",
      "model_module_version": "1.0.0",
      "model_name": "OutputModel",
      "state": {
       "layout": "IPY_MODEL_374c81dcfd4f4dc2b0661e5d87bae62e",
       "outputs": [
        {
         "data": {
          "application/vnd.jupyter.widget-view+json": {
           "model_id": "f524d7dc6ce94076a4ca75e9f94e32f4",
           "version_major": 2,
           "version_minor": 0
          },
          "text/plain": "Plot(antialias=3, axes=['x', 'y', 'z'], axes_helper=1.0, background_color=16777215, camera=[2, -3, 0.2, 0.0, 0…"
         },
         "metadata": {},
         "output_type": "display_data"
        }
       ]
      }
     },
     "f524d7dc6ce94076a4ca75e9f94e32f4": {
      "model_module": "k3d",
      "model_module_version": "2.7.4",
      "model_name": "PlotModel",
      "state": {
       "_backend_version": "2.7.4",
       "_dom_classes": [],
       "_view_count": null,
       "antialias": 3,
       "auto_rendering": true,
       "axes": [
        "x (nm)",
        "y (nm)",
        "z (nm)"
       ],
       "axes_helper": 1,
       "background_color": 16777215,
       "camera": [
        206.4820910752125,
        -172.47313652667142,
        14.158209101430378,
        74.9000000609085,
        24.899999994784594,
        1,
        0,
        0,
        1
       ],
       "camera_animation": [],
       "camera_auto_fit": true,
       "camera_fov": 60,
       "camera_no_pan": false,
       "camera_no_rotate": false,
       "camera_no_zoom": false,
       "clipping_planes": [],
       "colorbar_object_id": -1,
       "fps": 25,
       "fps_meter": false,
       "grid": [
        -1,
        -1,
        -1,
        1,
        1,
        1
       ],
       "grid_auto_fit": true,
       "grid_visible": true,
       "height": 512,
       "layout": "IPY_MODEL_a144235cc5bc4a2cbafd2115fb0f4686",
       "lighting": 1.5,
       "menu_visibility": true,
       "mode": "view",
       "name": null,
       "object_ids": [
        139690593385552
       ],
       "rendering_steps": 1,
       "screenshot": "",
       "screenshot_scale": 2,
       "snapshot": "",
       "time": 0,
       "voxel_paint_color": 0
      }
     },
     "fdd8c457a27f4b69909bb68de66e8eaf": {
      "model_module": "@jupyter-widgets/output",
      "model_module_version": "1.0.0",
      "model_name": "OutputModel",
      "state": {
       "layout": "IPY_MODEL_1dca148fb5d14573978d4ffdc2830c89",
       "outputs": [
        {
         "data": {
          "application/vnd.jupyter.widget-view+json": {
           "model_id": "5f0b1e9932634f099d661a0e3376fe24",
           "version_major": 2,
           "version_minor": 0
          },
          "text/plain": "Plot(antialias=3, axes=['x', 'y', 'z'], axes_helper=1.0, background_color=16777215, camera=[2, -3, 0.2, 0.0, 0…"
         },
         "metadata": {},
         "output_type": "display_data"
        }
       ]
      }
     },
     "fe32f085f5a74531839165706f13e28e": {
      "model_module": "@jupyter-widgets/base",
      "model_module_version": "1.2.0",
      "model_name": "LayoutModel",
      "state": {}
     }
    },
    "version_major": 2,
    "version_minor": 0
   }
  }
 },
 "nbformat": 4,
 "nbformat_minor": 4
}
