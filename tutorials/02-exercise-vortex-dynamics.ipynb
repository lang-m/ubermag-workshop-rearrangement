{
 "cells": [
  {
   "cell_type": "markdown",
   "metadata": {},
   "source": [
    "# Exercise 02: Vortex dynamics\n",
    "\n",
    "We want to simulate vortex dynamics in a two-dimensional disk sample with $d=100 \\,\\text{nm}$ diameter and $5\\,\\text{nm}$ thickness with:\n",
    "\n",
    "- magnetisation saturation $M_\\text{s} = 8 \\times 10^{5} \\,\\text{A}\\,\\text{m}^{-1}$,\n",
    "- exchange energy constant $A = 13 \\,\\text{pJ}\\,\\text{m}^{-1}$,\n",
    "- gyrotropic ratio $\\gamma = 2.211 \\times 10^{5} \\,\\text{m}\\,\\text{A}^{-1}\\,\\text{s}^{-1}$, and\n",
    "- Gilbert damping $\\alpha=0.2$.\n",
    "\n",
    "Please carry out the following steps:\n",
    "\n",
    "1. Initialise the system so that $(m_{x}, m_{y}, m_{z}) = (-Ay, Ax, 10)$, where $A = 10^{9}\\,\\text{m}^{-1}$.\n",
    "2. Minimise the system's energy. What state did you obtain?\n",
    "3. Apply an external magnetic field of $H = 10^{4} \\,\\text{A}\\,\\text{m}^{-1}$ in the positive $x$ direction and relax the system. Did the vortex core move in the positive $y$ direction?\n",
    "4. Turn off an external magnetic field and simulate the vortex dynamics for $t = 5 \\,\\text{ns}$ and save magnetisation in $n = 500$ steps. Plot all three components of magnetisation as a function of time.\n",
    "\n",
    "## Solution"
   ]
  },
  {
   "cell_type": "code",
   "execution_count": 1,
   "metadata": {},
   "outputs": [
    {
     "name": "stdout",
     "output_type": "stream",
     "text": [
      "Running OOMMF (ExeOOMMFRunner) [2020/04/29 09:51]... (1.7 s)\n"
     ]
    },
    {
     "data": {
      "application/vnd.jupyter.widget-view+json": {
       "model_id": "bd8c9b6aecb74c8292fc51b59da6a3a4",
       "version_major": 2,
       "version_minor": 0
      },
      "text/plain": [
       "Output()"
      ]
     },
     "metadata": {},
     "output_type": "display_data"
    }
   ],
   "source": [
    "import discretisedfield as df\n",
    "import micromagneticmodel as mm\n",
    "import oommfc as oc\n",
    "%matplotlib inline\n",
    "\n",
    "# Geometry\n",
    "d = 100e-9  # disk diameter (m)\n",
    "thickness = dx = dy = dz = 5e-9  #discretisation cell (nm)\n",
    "\n",
    "# Material (permalloy) parameters\n",
    "Ms = 8e5  # saturation magnetisation (A/m)\n",
    "A = 13e-12  # exchange energy constant (J/m)\n",
    "\n",
    "# Dynamics (LLG equation) parameters\n",
    "gamma0 = 2.211e5  # gyromagnetic ratio (m/As)\n",
    "alpha = 0.2  # Gilbert damping\n",
    "\n",
    "region = df.Region(p1=(-d/2, -d/2, 0), p2=(d/2, d/2, thickness))\n",
    "mesh = df.Mesh(region=region, cell=(dx, dy, dz))\n",
    "\n",
    "def Ms_fun(pos):\n",
    "    x, y, z = pos\n",
    "    if (x**2 + y**2)**0.5 < d/2:\n",
    "        return Ms\n",
    "    else:\n",
    "        return 0\n",
    "    \n",
    "def m_init(pos):\n",
    "    x, y, z = pos\n",
    "    A = 1e9  # (1/m)\n",
    "    return -A*y, A*x, 10\n",
    "\n",
    "system = mm.System(name='vortex_dynamics')\n",
    "system.energy = mm.Exchange(A=A) + mm.Demag()\n",
    "system.dynamics = mm.Precession(gamma0=gamma0) + mm.Damping(alpha=alpha)\n",
    "system.m = df.Field(mesh, dim=3, value=m_init, norm=Ms_fun)\n",
    "\n",
    "md = oc.MinDriver()\n",
    "md.drive(system)\n",
    "\n",
    "system.m.k3d_vectors(color_field=system.m.z, head_size=10)"
   ]
  },
  {
   "cell_type": "code",
   "execution_count": 2,
   "metadata": {},
   "outputs": [
    {
     "name": "stdout",
     "output_type": "stream",
     "text": [
      "Running OOMMF (ExeOOMMFRunner) [2020/04/29 09:51]... (3.7 s)\n"
     ]
    },
    {
     "data": {
      "application/vnd.jupyter.widget-view+json": {
       "model_id": "316c20696cb64ffd9469c246a70eab2c",
       "version_major": 2,
       "version_minor": 0
      },
      "text/plain": [
       "Output()"
      ]
     },
     "metadata": {},
     "output_type": "display_data"
    }
   ],
   "source": [
    "H = (1e4, 0, 0)\n",
    "system.energy += mm.Zeeman(H=H)\n",
    "\n",
    "md.drive(system)\n",
    "system.m.k3d_vectors(color_field=system.m.z, head_size=10)"
   ]
  },
  {
   "cell_type": "code",
   "execution_count": 3,
   "metadata": {},
   "outputs": [
    {
     "name": "stdout",
     "output_type": "stream",
     "text": [
      "Running OOMMF (ExeOOMMFRunner) [2020/04/29 09:51]... (9.8 s)\n"
     ]
    },
    {
     "data": {
      "text/plain": [
       "<matplotlib.axes._subplots.AxesSubplot at 0x11b38d1f0>"
      ]
     },
     "execution_count": 3,
     "metadata": {},
     "output_type": "execute_result"
    },
    {
     "data": {
      "image/png": "[encoded data removed]",
      "text/plain": [
       "<Figure size 432x288 with 1 Axes>"
      ]
     },
     "metadata": {
      "needs_background": "light"
     },
     "output_type": "display_data"
    }
   ],
   "source": [
    "system.energy.zeeman.H = (0, 0, 0)\n",
    "\n",
    "td = oc.TimeDriver()\n",
    "td.drive(system, t=5e-9, n=500)\n",
    "\n",
    "system.table.plot('t', ['mx', 'my', 'mz'])"
   ]
  }
 ],
 "metadata": {
  "kernelspec": {
   "display_name": "Python 3",
   "language": "python",
   "name": "python3"
  },
  "language_info": {
   "codemirror_mode": {
    "name": "ipython",
    "version": 3
   },
   "file_extension": ".py",
   "mimetype": "text/x-python",
   "name": "python",
   "nbconvert_exporter": "python",
   "pygments_lexer": "ipython3",
   "version": "3.8.1"
  },
  "widgets": {
   "application/vnd.jupyter.widget-state+json": {
    "state": {
     "3a0d5c22cf554578ba38f78c6a35eec4": {
      "model_module": "@jupyter-widgets/base",
      "model_module_version": "1.2.0",
      "model_name": "LayoutModel",
      "state": {}
     },
     "3b7a229f1b0f4aed86089433d90e4914": {
      "model_module": "@jupyter-widgets/output",
      "model_module_version": "1.0.0",
      "model_name": "OutputModel",
      "state": {
       "layout": "IPY_MODEL_4282eed8bb3d46ea8659ae377559684f",
       "outputs": [
        {
         "data": {
          "application/vnd.jupyter.widget-view+json": {
           "model_id": "4b7f6294e12041b88e69e56034353d3b",
           "version_major": 2,
           "version_minor": 0
          },
          "text/plain": "Plot(antialias=3, axes=['x', 'y', 'z'], axes_helper=1.0, background_color=16777215, camera=[2, -3, 0.2, 0.0, 0…"
         },
         "metadata": {},
         "output_type": "display_data"
        }
       ]
      }
     },
     "4282eed8bb3d46ea8659ae377559684f": {
      "model_module": "@jupyter-widgets/base",
      "model_module_version": "1.2.0",
      "model_name": "LayoutModel",
      "state": {}
     },
     "4b7f6294e12041b88e69e56034353d3b": {
      "model_module": "k3d",
      "model_module_version": "2.7.4",
      "model_name": "PlotModel",
      "state": {
       "_backend_version": "2.7.4",
       "_dom_classes": [],
       "_view_count": null,
       "antialias": 3,
       "auto_rendering": true,
       "axes": [
        "x (nm)",
        "y (nm)",
        "z (nm)"
       ],
       "axes_helper": 1,
       "background_color": 16777215,
       "camera": [
        113.12480811575907,
        -169.6872121736386,
        13.81248087118065,
        0,
        0,
        2.5000000596046448,
        0,
        0,
        1
       ],
       "camera_animation": [],
       "camera_auto_fit": true,
       "camera_fov": 60,
       "camera_no_pan": false,
       "camera_no_rotate": false,
       "camera_no_zoom": false,
       "clipping_planes": [],
       "colorbar_object_id": -1,
       "fps": 25,
       "fps_meter": false,
       "grid": [
        -1,
        -1,
        -1,
        1,
        1,
        1
       ],
       "grid_auto_fit": true,
       "grid_visible": true,
       "height": 512,
       "layout": "IPY_MODEL_6a128fb654204329a55c8fe959c1fbed",
       "lighting": 1.5,
       "menu_visibility": true,
       "mode": "view",
       "name": null,
       "object_ids": [
        139881390924368,
        139881333913744
       ],
       "rendering_steps": 1,
       "screenshot": "",
       "screenshot_scale": 2,
       "snapshot": "",
       "time": 0,
       "voxel_paint_color": 0
      }
     },
     "533781c6cbb54d81b5060e377aadad25": {
      "model_module": "@jupyter-widgets/output",
      "model_module_version": "1.0.0",
      "model_name": "OutputModel",
      "state": {
       "layout": "IPY_MODEL_7c4c368cde4f4a82846885ed7c408872",
       "outputs": [
        {
         "data": {
          "application/vnd.jupyter.widget-view+json": {
           "model_id": "e9e2d794bc084e53a180492d4c19999a",
           "version_major": 2,
           "version_minor": 0
          },
          "text/plain": "Plot(antialias=3, axes=['x', 'y', 'z'], axes_helper=1.0, background_color=16777215, camera=[2, -3, 0.2, 0.0, 0…"
         },
         "metadata": {},
         "output_type": "display_data"
        }
       ]
      }
     },
     "6a128fb654204329a55c8fe959c1fbed": {
      "model_module": "@jupyter-widgets/base",
      "model_module_version": "1.2.0",
      "model_name": "LayoutModel",
      "state": {}
     },
     "7c4c368cde4f4a82846885ed7c408872": {
      "model_module": "@jupyter-widgets/base",
      "model_module_version": "1.2.0",
      "model_name": "LayoutModel",
      "state": {}
     },
     "871d229733834ee8be5c463a2a6f98e0": {
      "buffers": [
       {
        "data": "eNoDAAAAAAE=",
        "encoding": "base64",
        "path": [
         "colors",
         "compressed_buffer"
        ]
       },
       {
        "data": "eNpjYGiwZ8AAxIsBAF7EAv0=",
        "encoding": "base64",
        "path": [
         "model_matrix",
         "compressed_buffer"
        ]
       },
       {
        "data": "eNoDAAAAAAE=",
        "encoding": "base64",
        "path": [
         "opacities",
         "compressed_buffer"
        ]
       },
       {
        "data": "eNpt18Fx6zoMhWHFRWjNtYvwEFqxOJbDAiLXoSJYwnuSLPG793qRyRkMyZxfQADyZyrrNL3e05TyNPXfoZM6s+bWP1OJEW/rz/T86Hrr/9cQ779DJ3VmTWZvcCa6oR/vn2n+rN/WS59+ZvzM+JnxM+Nnxs+Mnxk/M35m/NweiD+WEd9/P27Pl949j3hD13WsKcT3HD3I0YMcPcjRgxzdZ6Jb4IH4YxnxWf0+vV7f/NTnN7/iDV3XsaYQ37/5pZM6syazNzgT3QIPxPdvfsVn9F4vbR25aOv4Zm0df7+tIxdtHblo68hFW0cu2jpycevMmsze4Ex0CzwQ33Nxe0Y/1e/T38VV4apwVbgqXBWuCleFq8JV4apwVbgqXBWuCleFq8J1rXm9T08n49Dzrc86LNRhoQ4LdViow0IdFuqwUIeFOizUYaEOC3VYqMNCHRbq8GZZxpqX+n1+9yunl55vfeb0iu85veINXdexphDff186qTNrMnuDM9Et8EB8z+ntGf1cxpqX+n36uHs/vAneBG+CN8Gb4E3wJngTvAneBG+CN8Gb4E3wJngTvAne9Pvn/HTWOWfs3/ZCe4n/f9apOZTv75+e2RuciW6BB+IHb4Y3w5vh5b7Q4e3wdng7vB3eDm+Ht8Pb4e1fOHtmb3AmugUeiB/1DG+Ht8N76/f1TT/9KuhXQb8K+lXQr4J+FfSroF8F/Sr+zWXP7A3ORLfAA/GjXwX9KuhXQb8K5k4wd4K5E8ydYO4EcyeYO8HcCebOlxrtmb3BmegWeCB+zJ1g7gRzB64GV4OrwdXganA1uBpcDa725f+tZ/YGZ6Jb4IH4cU+Aq8HVqMONOtyow4063KjDjTrcqMONOty+9Iue2RuciW6BB+LH/Y063MjF1YMet/7cnxfuzwv354X788L9eeH+vPzb43pmb3AmugUeiB/354X788I7ZeGdsvBOWXinLLxTFt4pC++UL724Z/YGZ6Jb4IH48U7BzxM/T/w88fPEz/PLPOiZvcGZ6BaeP+bH8Q4lR68vM6bf+vMOPfR/333ETw==",
        "encoding": "base64",
        "path": [
         "positions",
         "compressed_buffer"
        ]
       }
      ],
      "model_module": "k3d",
      "model_module_version": "2.7.4",
      "model_name": "ObjectModel",
      "state": {
       "_view_count": null,
       "_view_module": null,
       "_view_module_version": "",
       "_view_name": null,
       "color": 5010096,
       "colorLegend": false,
       "colors": {
        "compressed_buffer": {},
        "dtype": "uint32",
        "shape": [
         0
        ]
       },
       "compression_level": 0,
       "id": 139881342130000,
       "mesh_detail": 2,
       "model_matrix": {
        "compressed_buffer": {},
        "dtype": "float32",
        "shape": [
         4,
         4
        ]
       },
       "name": "Points #1",
       "opacities": {
        "compressed_buffer": {},
        "dtype": "float32",
        "shape": [
         0
        ]
       },
       "opacity": 1,
       "point_size": 1.25,
       "positions": {
        "compressed_buffer": {},
        "dtype": "float32",
        "shape": [
         316,
         3
        ]
       },
       "shader": "3dSpecular",
       "type": "Points",
       "visible": true
      }
     },
     "9bb686ed0cbc4642ac1d686a5836e6f7": {
      "buffers": [
       {
        "data": "eNoDAAAAAAE=",
        "encoding": "base64",
        "path": [
         "colors",
         "compressed_buffer"
        ]
       },
       {
        "data": "eNpjYGiwZ8AAxIsBAF7EAv0=",
        "encoding": "base64",
        "path": [
         "model_matrix",
         "compressed_buffer"
        ]
       },
       {
        "data": "eNoDAAAAAAE=",
        "encoding": "base64",
        "path": [
         "opacities",
         "compressed_buffer"
        ]
       },
       {
        "data": "eNpt18Fx6zoMhWHFRWjNtYvwEFqxOJbDAiLXoSJYwnuSLPG793qRyRkMyZxfQADyZyrrNL3e05TyNPXfoZM6s+bWP1OJEW/rz/T86Hrr/9cQ779DJ3VmTWZvcCa6oR/vn2n+rN/WS59+ZvzM+JnxM+Nnxs+Mnxk/M35m/NweiD+WEd9/P27Pl949j3hD13WsKcT3HD3I0YMcPcjRgxzdZ6Jb4IH4YxnxWf0+vV7f/NTnN7/iDV3XsaYQ37/5pZM6syazNzgT3QIPxPdvfsVn9F4vbR25aOv4Zm0df7+tIxdtHblo68hFW0cu2jpycevMmsze4Ex0CzwQ33Nxe0Y/1e/T38VV4apwVbgqXBWuCleFq8JV4apwVbgqXBWuCleFq8J1rXm9T08n49Dzrc86LNRhoQ4LdViow0IdFuqwUIeFOizUYaEOC3VYqMNCHRbq8GZZxpqX+n1+9yunl55vfeb0iu85veINXdexphDff186qTNrMnuDM9Et8EB8z+ntGf1cxpqX+n36uHs/vAneBG+CN8Gb4E3wJngTvAneBG+CN8Gb4E3wJngTvAne9Pvn/HTWOWfs3/ZCe4n/f9apOZTv75+e2RuciW6BB+IHb4Y3w5vh5b7Q4e3wdng7vB3eDm+Ht8Pb4e1fOHtmb3AmugUeiB/1DG+Ht8N76/f1TT/9KuhXQb8K+lXQr4J+FfSroF8F/Sr+zWXP7A3ORLfAA/GjXwX9KuhXQb8K5k4wd4K5E8ydYO4EcyeYO8HcCebOlxrtmb3BmegWeCB+zJ1g7gRzB64GV4OrwdXganA1uBpcDa725f+tZ/YGZ6Jb4IH4cU+Aq8HVqMONOtyow4063KjDjTrcqMONOty+9Iue2RuciW6BB+LH/Y063MjF1YMet/7cnxfuzwv354X788L9eeH+vPzb43pmb3AmugUeiB/354X788I7ZeGdsvBOWXinLLxTFt4pC++UL724Z/YGZ6Jb4IH48U7BzxM/T/w88fPEz/PLPOiZvcGZ6BaeP+bH8Q4lR68vM6bf+vMOPfR/333ETw==",
        "encoding": "base64",
        "path": [
         "positions",
         "compressed_buffer"
        ]
       }
      ],
      "model_module": "k3d",
      "model_module_version": "2.7.4",
      "model_name": "ObjectModel",
      "state": {
       "_view_count": null,
       "_view_module": null,
       "_view_module_version": "",
       "_view_name": null,
       "color": 5010096,
       "colorLegend": false,
       "colors": {
        "compressed_buffer": {},
        "dtype": "uint32",
        "shape": [
         0
        ]
       },
       "compression_level": 0,
       "id": 139881333913744,
       "mesh_detail": 2,
       "model_matrix": {
        "compressed_buffer": {},
        "dtype": "float32",
        "shape": [
         4,
         4
        ]
       },
       "name": "Points #1",
       "opacities": {
        "compressed_buffer": {},
        "dtype": "float32",
        "shape": [
         0
        ]
       },
       "opacity": 1,
       "point_size": 1.25,
       "positions": {
        "compressed_buffer": {},
        "dtype": "float32",
        "shape": [
         316,
         3
        ]
       },
       "shader": "3dSpecular",
       "type": "Points",
       "visible": true
      }
     },
     "cffb2356ac6f453fa2d8260857b9b531": {
      "buffers": [
       {
        "data": "eNrtlcFKAlEUhn2AoL20Ks1QE4MK2xQhuDGUUMRWkoiCzDTWZtrk+/USrX0KEc7hW5wLpTNXpYWLb/Pzn3P/+e+Mts8ymfaBf0vr9G/2fV5Sdp1jW3P7vodt7dt0z3NO6eSV3rkFHV/anEn75zxyDIrKuGxBx5c0p2+uUVmZXR8Jb/cFAzq+XeVkTzevvBaV2c2xEDw9CO/TiQEdH3Ps8c33W2/TihI+XgofUSj0v38M6PiY8+3RzdUvKEFFCetXQhzHQm2xNKDjY449vrnof1hSolpWCLpN4fNrbkDHx1zae3T7eblQ6D+6OxGCxq0BHR9zvn3wO8Q+vqeoakHHx1za99jtgT65Z0D3fU73PHffur2b/i+sADXSSoA=",
        "encoding": "base64",
        "path": [
         "colors",
         "compressed_buffer"
        ]
       },
       {
        "data": "eNpjYGiwZ8AAxIsBAF7EAv0=",
        "encoding": "base64",
        "path": [
         "model_matrix",
         "compressed_buffer"
        ]
       },
       {
        "data": "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",
        "encoding": "base64",
        "path": [
         "origins",
         "compressed_buffer"
        ]
       },
       {
        "data": "eNo1lntcz/cex4lWLqVRKkphtNwWEun3+37ecs2lNjuHMpkRclyWyyJySbpKdPHLT/X7lrNNtszJsOrz9fu+bck4ZkwzNs4mbT2GUnKZyTrn/Tjv33+vP16X5/u/95jRFpiSNEXvFb9Ehr+lwugnf1rXH5snOzpUwHJ/60X/uTatkGaPQp4x/88Kyo5/YYL2hjp9Y0i8/OgrM1wbc0KfMHmV9Pu2CJ4179QLZazc1WqBjlse+mO7FTLlqQpuYTOtIwuW27RCmj2CPJwVlOVOQZ28JWjr3R2Z8GG+L/YNTZHNsA/W3HfGK1N3yDVd88H3YZsua3bIxMiD8H11jS76Jcv+fxbC+VH7dc/6NOl40AJLskfpZb/tkT0eqLDJeaVV6Ztt0wpp9gjycFZQljsFdfKWoC1mAGJgNiC2o9ZECNg7BcOUHGm4sxvO7huDle6Z8rX390D/cG/8tC1Lzp6XA0+Nr6DLcJN8y2KCM89u6COel8pODoXQTar64rHHpO94CziFT9YDNp2Spl9U2DI72epSXmXTCmn2CPJwVlCWOwV18hbQFjMAMTAbEBszAzHP7b4WvvOZh6G5BTI0axt8ljwZAxcWyntHU8F90EhM3X5U9r63FxqHuWJm8BlZvjgfKla06N2Sr0rXC2Z4s7FCv9y9XsbIYjjy6wK9ZskD6fedCue/zbN6X2ixaYU0ewR5OCsoy52COnkLaIsZgBiYDYiNmYGYfeZGgOfLDVi95LgsebQIelxahlfzj8rXA+OgtuJtnHe+Uva0T4IXe4xYnHZNhuZkgKIPxqizrXLhshxIaLfH7ZX2WqrbQVjTcl4f4uik/dWrGHwubdIXjnHWvKwqvNqnzLohuadNK6TZI8jDWUFZ7gTq5C2gLWYAYmA2IDZmBmLmW4BumdlJgdAfd+LhutPyp9BwyKvfiIULvpQnaxdDsF0MPrjxs2wN3wg5reH4yNBF2/Y0GU6FjsOXJ121sMi90PdvfTHK7KUFlh+AcWPu6mE1rtrnbkUQNCdb/yr0L7m8RIVxM760Fsd+b9MKafYI8nBWUJY7gTp5C2iLGYAYmA2IjZmBmPkWoFveO+4Bc05nYZbpiqxq8IcX/0rDBb9flKXnJoK9wy5M31Qvs17MgR0DPsCaJntt1+Ml0HT9PQyb1l874pwA98eGYanraxqWp8HAR/5o9HfWsr1zIf+qHfpszJdxeYeg7MDH+vHyFxP91qnQdvVXa1jFoxDWCmn2CPJwFijLnUCdvAW0xQxADMwGxMbMQMx8C9AtfCPQjXvQDiIH5qL11nXZ9cKrUJKWjdaoOzLeZTB4n8vAkEl22vTcIDi8KxnHjvbUcnfPBnV+PP4SP0RzuB4DXR++i6vNjtqMtu1w9LNJmJ9lrvYsyoLQXp54s3ql4VifgzDl+Xm9rM7dmOWlgjmhp97Vf6VNC9LsEeThLFCWO4E6eQtoixmAGJgNiI2ZgZj5FqBb+EagGz2P14nmDhNWbmmUb05oFp3N+RjwyXPZpYcDVA3NwYi7LlqM6gl3NmahuW2glhHzBgQ3p2DibGftZOsMmDMlAY9Urq6OzFgOP49chMu+Ljf0tCTD4aAg9DmSbvRJzQNjzz/0uFM9levvWKBidqA+yeMtmxak2SPIw1mgLHcCdfIW0BYzADEwGxAbMwMx8y1At/CNQDd+XvVPYaw5hObf2uX4yacEZJrxWZqjNqHhG2EwFeAe936a+4AmMepUPr4/xFNb49gdItfvx2vpKTI9aRAMepiBXaxJhtWpk+C5ww5subXXGBUSC6+4L0S/UYoS4JUJfbr64k9Z55TNNwvh7NebdftZ/QRrQZo9QB7OAmW5E6iTt4C2mAGIgdmA2JgZiJlvAbqFbwS60evKKlEdVYw3uvTQ4m7EiQkhxbg8r4/2x9IUEZNXhK4nvLXNCw4Jx0WFGNbSIfMenxbD/mHGR2/HhBwvuC3uB5hwkP0IY9I33SB+9X6cdcddufZDAHxctxtXdL6s3C5aAbsm/R3LGmJF7dL9sH6opu/99KJNC9LsAfJwFijLnUCdvAW0xQxADMwGxMbMQMx8C9AtfCPQjdHZr4umCguuG9hP6/5hndKWrqLXVh/NYd01JTNTxbhevtrv9x4p1mgV6/0uy8jtvcXKbioaXEcapg0PEt3WW/DE7Qxje8sqETqiGF1mrVHuXTosurxjxukrhomqLm2i5HYGuqfeEFvjAsF+Ym9sWroQWANp9gB5OAuU5U6gTt4C2mIGIAZmA2JjZiBmvgXoFr4R6MYhdkbrzj9V/CR0hPaybJt1cIOK/07y07xnFFjvX1Zx883LMqrihDX9hIoNTQZDzPQfrcHbVKx4I9fY4OukP7hnwaChiUpi3DTdI7EIrdHjxfSxh/Trm/bh+pJm8aFbqz7whjfWDtwKrIE0e4A8nAXKcidQJ28BbTEDEAOzAbExMxAz3wJ0y8QiJ92tv4onY41aP69ovf2zYhzrOV4bHrlbLy4twvvNr2iNpcV6lH8hxnl8EnIlWddz8CDmPplpvO/Uoi+KyMcEt9HKzq+90AczsW1amzK37m2cGbcMg1fsFfUOGehvvKY/afrLpgVp9gB5OAuU5U6gTt4C2mIGIAZmA2JjZiBmvgXolui71brvADO2zQnTTkbc1CNMJnSaOVp70akTntdy0d0SJcvb3dH4Wxb6Tq0wNK4JwmNpyRie/bmx8EQ0frF7OR6LfV+Buam49s3heGZhu1K76BDOy0nXL/iHCdaCNHuAPJwFynInUCdvAW0xAxADswGxMTMQ8wyPZt2jKB9TXi7WDtf3wv/Y7cMts+ZpH932Q5e56dg4xFf78otQ7Oa/HY3j9IlVBxZjXEAMbmh5bogfnISlg4z4VFYaY9xy0XmtHQ7NNSjfO1rwh1ahBzZm2bQgzR4gD2eBstwJ1MlbQFvMAMTAbEBszAzE3CGH4wivNLx9ZZ1mejYFP1iViLvq5mujrO/ha05LsepSb81uQiI2Bk/FqWc6h4w7vgfnx3rhgEDdkFtSgFWzv9FLb71rNHZXsX+ti/4QymxakGaPIA9ngbLcCdTJW0BbzADEwGxAbK7BCTiuYwaujYjQdp5LRbtLIzDtbA+tJvB/v8lKO/Tu2ksGlR/CbYM/0jdveRKyYaOKxpV3rZO1HQbWCmn2CPJwFijLnUCdvAW0ZbpVgMNKLuoJwzy15NwijP4gRc8z1UqvchVD1lZaLacjbFohzR5BHs4Kyv4XgIQhFA==",
        "encoding": "base64",
        "path": [
         "vectors",
         "compressed_buffer"
        ]
       }
      ],
      "model_module": "k3d",
      "model_module_version": "2.7.4",
      "model_name": "ObjectModel",
      "state": {
       "_view_count": null,
       "_view_module": null,
       "_view_module_version": "",
       "_view_name": null,
       "colorLegend": false,
       "colors": {
        "compressed_buffer": {},
        "dtype": "uint32",
        "shape": [
         316,
         2
        ]
       },
       "compression_level": 0,
       "head_color": 255,
       "head_size": 10,
       "id": 139881278237776,
       "label_size": 1,
       "labels": [],
       "line_width": 0.01,
       "model_matrix": {
        "compressed_buffer": {},
        "dtype": "float32",
        "shape": [
         4,
         4
        ]
       },
       "name": "Vectors #1",
       "origin_color": 255,
       "origins": {
        "compressed_buffer": {},
        "dtype": "float32",
        "shape": [
         316,
         3
        ]
       },
       "type": "Vectors",
       "use_head": true,
       "vectors": {
        "compressed_buffer": {},
        "dtype": "float32",
        "shape": [
         316,
         3
        ]
       },
       "visible": true
      }
     },
     "e9e2d794bc084e53a180492d4c19999a": {
      "model_module": "k3d",
      "model_module_version": "2.7.4",
      "model_name": "PlotModel",
      "state": {
       "_backend_version": "2.7.4",
       "_dom_classes": [],
       "_view_count": null,
       "antialias": 3,
       "auto_rendering": true,
       "axes": [
        "x (nm)",
        "y (nm)",
        "z (nm)"
       ],
       "axes_helper": 1,
       "background_color": 16777215,
       "camera": [
        113.8962907876147,
        -170.76118232094845,
        13.88962919797074,
        0,
        0.08325386047363281,
        2.5000001192092896,
        0,
        0,
        1
       ],
       "camera_animation": [],
       "camera_auto_fit": true,
       "camera_fov": 60,
       "camera_no_pan": false,
       "camera_no_rotate": false,
       "camera_no_zoom": false,
       "clipping_planes": [],
       "colorbar_object_id": -1,
       "fps": 25,
       "fps_meter": false,
       "grid": [
        -1,
        -1,
        -1,
        1,
        1,
        1
       ],
       "grid_auto_fit": true,
       "grid_visible": true,
       "height": 512,
       "layout": "IPY_MODEL_3a0d5c22cf554578ba38f78c6a35eec4",
       "lighting": 1.5,
       "menu_visibility": true,
       "mode": "view",
       "name": null,
       "object_ids": [
        139881278237776,
        139881342130000
       ],
       "rendering_steps": 1,
       "screenshot": "",
       "screenshot_scale": 2,
       "snapshot": "",
       "time": 0,
       "voxel_paint_color": 0
      }
     },
     "fae83ab3c00a4239b28c8421f25e0efe": {
      "buffers": [
       {
        "data": "eNrzU2Jg8BvFgxb7K+PHtLY3UAWCQ1QhOEwNFcPEYeqo7S50d0SoQ3CSNgTn6KFimDhMHa3che6eDF0IzjeXAONcZyMUDBOHqUN3H7XDCxYvsPCA2Z8T7AnG5RUVKBgmDlMH0wczh1rhBzMHln5g8QYLJ5h7LF78Q8EwcZg6mD6YOSPNfYM1fodK/hhs5clgKW8HS/0ziqmDAc5tSuA=",
        "encoding": "base64",
        "path": [
         "colors",
         "compressed_buffer"
        ]
       },
       {
        "data": "eNpjYGiwZ8AAxIsBAF7EAv0=",
        "encoding": "base64",
        "path": [
         "model_matrix",
         "compressed_buffer"
        ]
       },
       {
        "data": "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",
        "encoding": "base64",
        "path": [
         "origins",
         "compressed_buffer"
        ]
       },
       {
        "data": "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",
        "encoding": "base64",
        "path": [
         "vectors",
         "compressed_buffer"
        ]
       }
      ],
      "model_module": "k3d",
      "model_module_version": "2.7.4",
      "model_name": "ObjectModel",
      "state": {
       "_view_count": null,
       "_view_module": null,
       "_view_module_version": "",
       "_view_name": null,
       "colorLegend": false,
       "colors": {
        "compressed_buffer": {},
        "dtype": "uint32",
        "shape": [
         316,
         2
        ]
       },
       "compression_level": 0,
       "head_color": 255,
       "head_size": 10,
       "id": 139881390924368,
       "label_size": 1,
       "labels": [],
       "line_width": 0.01,
       "model_matrix": {
        "compressed_buffer": {},
        "dtype": "float32",
        "shape": [
         4,
         4
        ]
       },
       "name": "Vectors #1",
       "origin_color": 255,
       "origins": {
        "compressed_buffer": {},
        "dtype": "float32",
        "shape": [
         316,
         3
        ]
       },
       "type": "Vectors",
       "use_head": true,
       "vectors": {
        "compressed_buffer": {},
        "dtype": "float32",
        "shape": [
         316,
         3
        ]
       },
       "visible": true
      }
     }
    },
    "version_major": 2,
    "version_minor": 0
   }
  }
 },
 "nbformat": 4,
 "nbformat_minor": 4
}
