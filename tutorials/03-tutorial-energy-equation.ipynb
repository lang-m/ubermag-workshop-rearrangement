{
 "cells": [
  {
   "cell_type": "markdown",
   "metadata": {},
   "source": [
    "# Tutorial 03: Energy equation\n",
    "\n",
    "Apart from magnetisation and dynamics, energy equation must be defined for a micromagnetic system. In this tutorial, we explore how an energy equation can be specified in Ubermag. Throughout this tutorial, for simplicity, we are going to use a one-dimensional sample (a chain of magnetic moments)."
   ]
  },
  {
   "cell_type": "code",
   "execution_count": 1,
   "metadata": {},
   "outputs": [
    {
     "data": {
      "application/vnd.jupyter.widget-view+json": {
       "model_id": "3fbadb677c5e4008b51d612b7de3a01e",
       "version_major": 2,
       "version_minor": 0
      },
      "text/plain": [
       "Output()"
      ]
     },
     "metadata": {},
     "output_type": "display_data"
    }
   ],
   "source": [
    "import discretisedfield as df\n",
    "import micromagneticmodel as mm\n",
    "%matplotlib inline\n",
    "\n",
    "p1 = (0, 0, 0)\n",
    "p2 = (10e-9, 1e-9, 1e-9)\n",
    "n = (10, 1, 1)\n",
    "\n",
    "region = df.Region(p1=p1, p2=p2)\n",
    "mesh = df.Mesh(region=region, n=n)\n",
    "\n",
    "mesh.k3d()"
   ]
  },
  {
   "cell_type": "markdown",
   "metadata": {},
   "source": [
    "### Zeeman energy\n",
    "\n",
    "To demonstrate the effect of Zeeman energy we will apply an external magnetic field $H = 10^{6} \\,\\text{A}\\,\\text{m}^{-1}$ in the positive $z$-direction to the one-dimensional array of magnetic moments. For the initial magnetisation configuration, we will take the $(1, 0, 1)$ direction with $M_\\text{s} = 8 \\times 10^{6} \\,\\text{A}\\,\\text{m}^{-1}$."
   ]
  },
  {
   "cell_type": "code",
   "execution_count": 2,
   "metadata": {},
   "outputs": [
    {
     "data": {
      "application/vnd.jupyter.widget-view+json": {
       "model_id": "fe8cf1ec04e843929767cfc223edf301",
       "version_major": 2,
       "version_minor": 0
      },
      "text/plain": [
       "Output()"
      ]
     },
     "metadata": {},
     "output_type": "display_data"
    }
   ],
   "source": [
    "H = (0, 0, 1e6)  # external magnetic field (A/m)\n",
    "Ms = 8e6  # saturation magnetisation (A/m)\n",
    "\n",
    "system = mm.System(name='zeeman')  # named micromagnetic system\n",
    "system.energy = mm.Zeeman(H=H)  # define energy equation\n",
    "system.m = df.Field(mesh, dim=3, value=(1, 0, 1), norm=Ms)  # define initial magnetisation\n",
    "\n",
    "system.m.k3d_vectors(head_size=3)"
   ]
  },
  {
   "cell_type": "markdown",
   "metadata": {},
   "source": [
    "The energy equation is:"
   ]
  },
  {
   "cell_type": "code",
   "execution_count": 3,
   "metadata": {},
   "outputs": [
    {
     "data": {
      "text/latex": [
       "$-\\mu_{0}M_\\text{s} \\mathbf{m} \\cdot \\mathbf{H}$"
      ],
      "text/plain": [
       "Zeeman(H=(0, 0, 1000000.0))"
      ]
     },
     "execution_count": 3,
     "metadata": {},
     "output_type": "execute_result"
    }
   ],
   "source": [
    "system.energy"
   ]
  },
  {
   "cell_type": "markdown",
   "metadata": {},
   "source": [
    "After we defined our system, we can minimize its energy using `MinDriver`."
   ]
  },
  {
   "cell_type": "code",
   "execution_count": 4,
   "metadata": {},
   "outputs": [
    {
     "name": "stdout",
     "output_type": "stream",
     "text": [
      "Running OOMMF (ExeOOMMFRunner) [2020/04/29 12:39]... (2.0 s)\n"
     ]
    },
    {
     "data": {
      "application/vnd.jupyter.widget-view+json": {
       "model_id": "241de6b477344326976b0725b577d3ee",
       "version_major": 2,
       "version_minor": 0
      },
      "text/plain": [
       "Output()"
      ]
     },
     "metadata": {},
     "output_type": "display_data"
    }
   ],
   "source": [
    "import oommfc as oc\n",
    "\n",
    "md = oc.MinDriver()  # create energy minimisation driver\n",
    "md.drive(system)  # run energy minimisation\n",
    "\n",
    "system.m.k3d_vectors(head_size=3)"
   ]
  },
  {
   "cell_type": "markdown",
   "metadata": {},
   "source": [
    "After applying the magnetic field, all magnetic moments align parallel to $\\mathbf{H}$. Now, we can change the direction of $\\mathbf{H}$ to be in the negative $x$-direction and inspect the relaxed magnetisation state."
   ]
  },
  {
   "cell_type": "code",
   "execution_count": 5,
   "metadata": {},
   "outputs": [
    {
     "name": "stdout",
     "output_type": "stream",
     "text": [
      "Running OOMMF (ExeOOMMFRunner) [2020/04/29 12:39]... (2.0 s)\n"
     ]
    },
    {
     "data": {
      "image/png": "[encoded data removed]",
      "text/plain": [
       "<Figure size 432x288 with 2 Axes>"
      ]
     },
     "metadata": {
      "needs_background": "light"
     },
     "output_type": "display_data"
    }
   ],
   "source": [
    "system.energy.zeeman.H = (-1e6, 0, 0)\n",
    "md.drive(system)\n",
    "system.m.plane('y').mpl()"
   ]
  },
  {
   "cell_type": "markdown",
   "metadata": {},
   "source": [
    "### Uniaxial anisotropy\n",
    "\n",
    "Let's assume our anisotropy axis is in the $(1, 0, 1)$ direction with $K = 6 \\times 10^{6} \\,\\text{J}\\,\\text{m}^{-3}$ and the initial magnetisation is defined as\n",
    "\n",
    "$$\\mathbf{m} = \\begin{cases} (-1, 0, -0.1) & \\text{for } x \\le 5 \\,\\text{nm} \\\\ (1, 0, 0.1) & \\text{for } x > 5 \\,\\text{nm} \\end{cases}$$\n",
    "\n",
    "with $M_\\text{s} = 8 \\times 10^{6} \\,\\text{A}\\,\\text{m}^{-1}$."
   ]
  },
  {
   "cell_type": "code",
   "execution_count": 6,
   "metadata": {},
   "outputs": [
    {
     "data": {
      "application/vnd.jupyter.widget-view+json": {
       "model_id": "fa78af872160458783e00fd172a70738",
       "version_major": 2,
       "version_minor": 0
      },
      "text/plain": [
       "Output()"
      ]
     },
     "metadata": {},
     "output_type": "display_data"
    }
   ],
   "source": [
    "system = mm.System(name='uniaxial_anisotropy')\n",
    "system.energy = mm.UniaxialAnisotropy(K=6e6, u=(1, 0, 1))\n",
    "\n",
    "def m_initial(point):\n",
    "    x, y, z = point\n",
    "    if x <= 5e-9:\n",
    "        return (-1, 0, -0.1)\n",
    "    else:\n",
    "        return (1, 0, 0.1)\n",
    "\n",
    "system.m = df.Field(mesh, dim=3, value=m_initial, norm=Ms)\n",
    "system.m.k3d_vectors(head_size=3)"
   ]
  },
  {
   "cell_type": "markdown",
   "metadata": {},
   "source": [
    "The energy equation is"
   ]
  },
  {
   "cell_type": "code",
   "execution_count": 7,
   "metadata": {},
   "outputs": [
    {
     "data": {
      "text/latex": [
       "$-K (\\mathbf{m} \\cdot \\mathbf{u})^{2}$"
      ],
      "text/plain": [
       "UniaxialAnisotropy(K=6000000.0, u=(1, 0, 1))"
      ]
     },
     "execution_count": 7,
     "metadata": {},
     "output_type": "execute_result"
    }
   ],
   "source": [
    "system.energy"
   ]
  },
  {
   "cell_type": "markdown",
   "metadata": {},
   "source": [
    "We can now relax the magnetisation."
   ]
  },
  {
   "cell_type": "code",
   "execution_count": 8,
   "metadata": {},
   "outputs": [
    {
     "name": "stdout",
     "output_type": "stream",
     "text": [
      "Running OOMMF (ExeOOMMFRunner) [2020/04/29 12:39]... (1.9 s)\n"
     ]
    },
    {
     "data": {
      "application/vnd.jupyter.widget-view+json": {
       "model_id": "0d6108de65d34fe2ad5a7eafc4de8c48",
       "version_major": 2,
       "version_minor": 0
      },
      "text/plain": [
       "Output()"
      ]
     },
     "metadata": {},
     "output_type": "display_data"
    }
   ],
   "source": [
    "md.drive(system)\n",
    "system.m.k3d_vectors(head_size=3)"
   ]
  },
  {
   "cell_type": "markdown",
   "metadata": {},
   "source": [
    "We see that in the relaxed state, all magnetic moments are aligned with the aniostropy axis. The initial configuration affects which orientation along the anisotropy direction is chosen.\n",
    "\n",
    "### Exchange energy\n",
    "\n",
    "We use $A = 8 \\,\\text{pJ}\\,\\text{m}^{-1}$ on a non-uniform magnetisation configuration."
   ]
  },
  {
   "cell_type": "code",
   "execution_count": 9,
   "metadata": {},
   "outputs": [
    {
     "data": {
      "application/vnd.jupyter.widget-view+json": {
       "model_id": "8a6fd33aff42444a9a2b3fb9853be8a5",
       "version_major": 2,
       "version_minor": 0
      },
      "text/plain": [
       "Output()"
      ]
     },
     "metadata": {},
     "output_type": "display_data"
    }
   ],
   "source": [
    "system = mm.System(name='exchange')\n",
    "system.energy = mm.Exchange(A=8e-12)\n",
    "\n",
    "def m_initial(pos):\n",
    "    x, y, z = pos\n",
    "    if x <= 5e-9:\n",
    "        return (0, 1, 1)\n",
    "    else:\n",
    "        return (1, 0, 0)\n",
    "    \n",
    "system.m = df.Field(mesh, dim=3, value=m_initial, norm=Ms)\n",
    "system.m.k3d_vectors(head_size=3)"
   ]
  },
  {
   "cell_type": "markdown",
   "metadata": {},
   "source": [
    "The energy equation is"
   ]
  },
  {
   "cell_type": "code",
   "execution_count": 10,
   "metadata": {},
   "outputs": [
    {
     "data": {
      "text/latex": [
       "$A \\left[ (\\nabla \\mathbf{m}_\\text{x})^{2} + (\\nabla \\mathbf{m}_\\text{y})^{2} + (\\nabla \\mathbf{m}_\\text{z})^{2} \\right]$"
      ],
      "text/plain": [
       "Exchange(A=8e-12)"
      ]
     },
     "execution_count": 10,
     "metadata": {},
     "output_type": "execute_result"
    }
   ],
   "source": [
    "system.energy"
   ]
  },
  {
   "cell_type": "code",
   "execution_count": 11,
   "metadata": {},
   "outputs": [
    {
     "name": "stdout",
     "output_type": "stream",
     "text": [
      "Running OOMMF (ExeOOMMFRunner) [2020/04/29 12:39]... (2.2 s)\n"
     ]
    },
    {
     "data": {
      "application/vnd.jupyter.widget-view+json": {
       "model_id": "4f0e0ea43e83457c8e867ffbfc5e7cf6",
       "version_major": 2,
       "version_minor": 0
      },
      "text/plain": [
       "Output()"
      ]
     },
     "metadata": {},
     "output_type": "display_data"
    }
   ],
   "source": [
    "md.drive(system)\n",
    "system.m.k3d_vectors(head_size=3)"
   ]
  },
  {
   "cell_type": "markdown",
   "metadata": {},
   "source": [
    "### Dzyaloshinkii-Moriya energy\n",
    "\n",
    "There are two parameters that must be defined for Dzyaloshinskii-Moriya energy term. The first one is the DMI energy constant $D$ and the other is the crystalographic class. Crystalographic class can be: `T`, `O`, `Cnv`, or `D2d`.\n",
    "\n",
    "Again, we demonstrate its effect by starting from a uniform configuration, with $D = 3\\times 1 \\,\\text{mJ}\\,\\text{m}^{-2}$ and crystallographic class T."
   ]
  },
  {
   "cell_type": "code",
   "execution_count": 12,
   "metadata": {},
   "outputs": [
    {
     "name": "stdout",
     "output_type": "stream",
     "text": [
      "Running OOMMF (ExeOOMMFRunner) [2020/04/29 12:39]... (1.9 s)\n"
     ]
    },
    {
     "data": {
      "application/vnd.jupyter.widget-view+json": {
       "model_id": "7a57387e9aef455db84627f757b311c7",
       "version_major": 2,
       "version_minor": 0
      },
      "text/plain": [
       "Output()"
      ]
     },
     "metadata": {},
     "output_type": "display_data"
    }
   ],
   "source": [
    "system = mm.System(name='dmi')\n",
    "system.energy = mm.DMI(D=3e-3, crystalclass='T')\n",
    "system.m = df.Field(mesh, dim=3, value=(0, 0, 1), norm=Ms)\n",
    "\n",
    "md.drive(system)\n",
    "\n",
    "system.m.k3d_vectors(head_size=3)"
   ]
  },
  {
   "cell_type": "markdown",
   "metadata": {},
   "source": [
    "The energy equation is"
   ]
  },
  {
   "cell_type": "code",
   "execution_count": 13,
   "metadata": {},
   "outputs": [
    {
     "data": {
      "text/latex": [
       "$D \\mathbf{m} \\cdot (\\nabla \\times \\mathbf{m})$"
      ],
      "text/plain": [
       "DMI(D=0.003, crystalclass='T')"
      ]
     },
     "execution_count": 13,
     "metadata": {},
     "output_type": "execute_result"
    }
   ],
   "source": [
    "system.energy"
   ]
  },
  {
   "cell_type": "markdown",
   "metadata": {},
   "source": [
    "Now, we can change the crystallographic class to Cnv and see what happens to the relaxed magnetisation."
   ]
  },
  {
   "cell_type": "code",
   "execution_count": 14,
   "metadata": {},
   "outputs": [
    {
     "data": {
      "text/latex": [
       "$D ( \\mathbf{m} \\cdot \\nabla m_{z} - m_{z} \\nabla \\cdot \\mathbf{m} )$"
      ],
      "text/plain": [
       "DMI(D=0.003, crystalclass='Cnv')"
      ]
     },
     "execution_count": 14,
     "metadata": {},
     "output_type": "execute_result"
    }
   ],
   "source": [
    "system.energy.dmi.crystalclass = 'Cnv'\n",
    "system.energy"
   ]
  },
  {
   "cell_type": "code",
   "execution_count": 15,
   "metadata": {},
   "outputs": [
    {
     "name": "stdout",
     "output_type": "stream",
     "text": [
      "Running OOMMF (ExeOOMMFRunner) [2020/04/29 12:39]... (2.0 s)\n"
     ]
    },
    {
     "data": {
      "application/vnd.jupyter.widget-view+json": {
       "model_id": "359a727e4c9048ccb8991855cd713aa1",
       "version_major": 2,
       "version_minor": 0
      },
      "text/plain": [
       "Output()"
      ]
     },
     "metadata": {},
     "output_type": "display_data"
    }
   ],
   "source": [
    "md.drive(system)\n",
    "system.m.k3d_vectors(head_size=3)"
   ]
  },
  {
   "cell_type": "markdown",
   "metadata": {},
   "source": [
    "### Cubic anisotropy\n",
    "\n",
    "To demonstrate cubic anisotropy, we start from a random magnetisation configuration."
   ]
  },
  {
   "cell_type": "code",
   "execution_count": 16,
   "metadata": {},
   "outputs": [
    {
     "data": {
      "application/vnd.jupyter.widget-view+json": {
       "model_id": "e97b7752825945ac992ce56af17cc851",
       "version_major": 2,
       "version_minor": 0
      },
      "text/plain": [
       "Output()"
      ]
     },
     "metadata": {},
     "output_type": "display_data"
    }
   ],
   "source": [
    "import random\n",
    "\n",
    "Ms = 8e5  # saturation magnetisation (A/m)\n",
    "K = 1e5  # cubic anisotropy constant (J/m**3)\n",
    "u1 = (0, 0, 1)  # cubic anisotropy axis 1\n",
    "u2 = (0, 1, 0)  # cubic anisotropy axis 2\n",
    "\n",
    "system = mm.System(name='cubic_anisotropy')\n",
    "system.energy = mm.CubicAnisotropy(K=K, u1=u1, u2=u2)\n",
    "\n",
    "def m_fun(pos):\n",
    "    return [2*random.random()-1 for i in range(3)]\n",
    "\n",
    "system.m = df.Field(mesh, dim=3, value=m_fun, norm=Ms)\n",
    "system.m.k3d_vectors(color_field=system.m.z)"
   ]
  },
  {
   "cell_type": "markdown",
   "metadata": {},
   "source": [
    "The energy equation is"
   ]
  },
  {
   "cell_type": "code",
   "execution_count": 17,
   "metadata": {},
   "outputs": [
    {
     "data": {
      "text/latex": [
       "$-K [(\\mathbf{m} \\cdot \\mathbf{u}_{1})^{2}(\\mathbf{m} \\cdot \\mathbf{u}_{2})^{2}+(\\mathbf{m} \\cdot \\mathbf{u}_{2})^{2}(\\mathbf{m} \\cdot \\mathbf{u}_{3})^{2}+(\\mathbf{m} \\cdot \\mathbf{u}_{3})^{2}(\\mathbf{m} \\cdot \\mathbf{u}_{1})^{2}]$"
      ],
      "text/plain": [
       "CubicAnisotropy(K=100000.0, u1=(0, 0, 1), u2=(0, 1, 0))"
      ]
     },
     "execution_count": 17,
     "metadata": {},
     "output_type": "execute_result"
    }
   ],
   "source": [
    "system.energy"
   ]
  },
  {
   "cell_type": "code",
   "execution_count": 18,
   "metadata": {},
   "outputs": [
    {
     "name": "stdout",
     "output_type": "stream",
     "text": [
      "Running OOMMF (ExeOOMMFRunner) [2020/04/29 12:39]... (2.0 s)\n"
     ]
    },
    {
     "data": {
      "application/vnd.jupyter.widget-view+json": {
       "model_id": "4c3cf7d5e3684327911df01ad7750bfc",
       "version_major": 2,
       "version_minor": 0
      },
      "text/plain": [
       "Output()"
      ]
     },
     "metadata": {},
     "output_type": "display_data"
    }
   ],
   "source": [
    "md.drive(system)\n",
    "system.m.k3d_vectors(head_size=3)"
   ]
  },
  {
   "cell_type": "markdown",
   "metadata": {},
   "source": [
    "## Multiple energy terms in energy equation\n",
    "\n",
    "Multiple energy terms are added to the energy equation by applying a binary `+` operator between individual energy term objects. As an example, we want to relax a one-dimensional chain of magnetic moments of length $L = 10 \\,\\text{nm}$ with 20 discretisation cells. The energy equation consists of:\n",
    "\n",
    "- exchange energy with $A=1 \\times 10^{-11} \\,\\text{J}\\,\\text{m}^{-1}$, and\n",
    "- Dzyaloshinskii-Moriya energy with $D = 4\\pi A/L \\approx 12.56 \\times 10^{-3} \\,\\text{J}\\,\\text{m}^{-2}$ and `T` crystal class.\n",
    "\n",
    "The magnetisation saturation is $M_\\mathrm{s} = 8 \\times 10^{6} \\,\\text{A}\\,\\text{m}^{-1}$ and we start with a uniform magnetisation state."
   ]
  },
  {
   "cell_type": "code",
   "execution_count": 19,
   "metadata": {},
   "outputs": [
    {
     "data": {
      "text/latex": [
       "$A \\left[ (\\nabla \\mathbf{m}_\\text{x})^{2} + (\\nabla \\mathbf{m}_\\text{y})^{2} + (\\nabla \\mathbf{m}_\\text{z})^{2} \\right]+ D \\mathbf{m} \\cdot (\\nabla \\times \\mathbf{m})$"
      ],
      "text/plain": [
       "Exchange(A=1e-11) + DMI(D=0.01256, crystalclass='T')"
      ]
     },
     "execution_count": 19,
     "metadata": {},
     "output_type": "execute_result"
    }
   ],
   "source": [
    "A = 1e-11  # exchange energy constant (J/m)\n",
    "D = 12.56e-3  # DMI energy constant (J/m**2)\n",
    "Ms = 8e6 # Saturation magnetisation (A/m)\n",
    "\n",
    "region = df.Region(p1=(0, 0, 0), p2=(10e-9, 1e-9, 1e-9))\n",
    "mesh = df.Mesh(region=region, n=(20, 1, 1))\n",
    "system = mm.System(name='exchange_and_DMI')\n",
    "system.energy = mm.Exchange(A=A) + mm.DMI(D=D, crystalclass='T')\n",
    "system.m = df.Field(mesh, dim=3, value=(0, 1, 1), norm=Ms)\n",
    "\n",
    "system.energy"
   ]
  },
  {
   "cell_type": "code",
   "execution_count": 20,
   "metadata": {},
   "outputs": [
    {
     "name": "stdout",
     "output_type": "stream",
     "text": [
      "Running OOMMF (ExeOOMMFRunner) [2020/04/29 12:39]... (1.9 s)\n"
     ]
    },
    {
     "data": {
      "application/vnd.jupyter.widget-view+json": {
       "model_id": "68b81be4fb244024a543ffa8d63c16dc",
       "version_major": 2,
       "version_minor": 0
      },
      "text/plain": [
       "Output()"
      ]
     },
     "metadata": {},
     "output_type": "display_data"
    }
   ],
   "source": [
    "md = oc.MinDriver()  # create energy minimisation driver\n",
    "md.drive(system)\n",
    "\n",
    "system.m.plane('y').k3d_vectors(color_field=system.m.z)"
   ]
  },
  {
   "cell_type": "markdown",
   "metadata": {},
   "source": [
    "We can also sample the magnetisation along the sample."
   ]
  },
  {
   "cell_type": "code",
   "execution_count": 21,
   "metadata": {},
   "outputs": [
    {
     "data": {
      "image/png": "[encoded data removed]",
      "text/plain": [
       "<Figure size 576x360 with 1 Axes>"
      ]
     },
     "metadata": {},
     "output_type": "display_data"
    }
   ],
   "source": [
    "system.m.line(p1=system.m.mesh.region.pmin, p2=system.m.mesh.region.pmax, n=19).mpl(figsize=(8, 5))"
   ]
  },
  {
   "cell_type": "markdown",
   "metadata": {},
   "source": [
    "### Exercise 1\n",
    "\n",
    "Assemble the appropriate energy equation in order to obtain a skyrmion state in a disk with $100 \\,\\text{nm}$ diameter and $5 \\,\\text{nm}$ thickness. In addition, choose the appropriate initial magnetisation state.\n",
    "\n",
    "**Solution**"
   ]
  },
  {
   "cell_type": "code",
   "execution_count": 22,
   "metadata": {},
   "outputs": [
    {
     "name": "stdout",
     "output_type": "stream",
     "text": [
      "Running OOMMF (ExeOOMMFRunner) [2020/04/29 12:39]... (1.7 s)\n"
     ]
    },
    {
     "data": {
      "image/png": "[encoded data removed]",
      "text/plain": [
       "<Figure size 720x720 with 2 Axes>"
      ]
     },
     "metadata": {},
     "output_type": "display_data"
    }
   ],
   "source": [
    "d = 100e-9\n",
    "thickness = 5e-9\n",
    "cell = 3*(5e-9,)\n",
    "\n",
    "p1 = (-d/2, -d/2, 0)\n",
    "p2 = (d/2, d/2, thickness)\n",
    "region = df.Region(p1=p1, p2=p2)\n",
    "mesh = df.Mesh(region=region, cell=cell)\n",
    "system = mm.System(name='skyrmion')\n",
    "system.energy = mm.Exchange(A=8.78e-12) + mm.DMI(D=1.58e-3, crystalclass='T') + mm.Demag()\n",
    "\n",
    "def m_initial(point):\n",
    "    x, y, z = point\n",
    "    if x**2 + y**2 < (d/4)**2:\n",
    "        return (0, 0, -1)\n",
    "    else:\n",
    "        return (0, 0, 1)\n",
    "    \n",
    "def Ms_fun(point):\n",
    "    x, y, z = point\n",
    "    if x**2 + y**2 < (d/2)**2:\n",
    "        return 3.84e5\n",
    "    else:\n",
    "        return 0\n",
    "    \n",
    "system.m = df.Field(mesh, dim=3, value=m_initial, norm=Ms_fun)\n",
    "\n",
    "md = oc.MinDriver()\n",
    "md.drive(system)\n",
    "\n",
    "system.m.plane('z').mpl(figsize=(10, 10))"
   ]
  },
  {
   "cell_type": "code",
   "execution_count": 23,
   "metadata": {},
   "outputs": [
    {
     "data": {
      "application/vnd.jupyter.widget-view+json": {
       "model_id": "b58904d6792a4ff8b9efe054154a2d34",
       "version_major": 2,
       "version_minor": 0
      },
      "text/plain": [
       "Output()"
      ]
     },
     "metadata": {},
     "output_type": "display_data"
    }
   ],
   "source": [
    "system.m.z.k3d_voxels(filter_field=system.m.norm)"
   ]
  }
 ],
 "metadata": {
  "kernelspec": {
   "display_name": "Python 3",
   "language": "python",
   "name": "python3"
  },
  "language_info": {
   "codemirror_mode": {
    "name": "ipython",
    "version": 3
   },
   "file_extension": ".py",
   "mimetype": "text/x-python",
   "name": "python",
   "nbconvert_exporter": "python",
   "pygments_lexer": "ipython3",
   "version": "3.8.1"
  },
  "widgets": {
   "application/vnd.jupyter.widget-state+json": {
    "state": {
     "0019db826dfd4b9aa1c54b5ac243f0a1": {
      "model_module": "@jupyter-widgets/base",
      "model_module_version": "1.2.0",
      "model_name": "LayoutModel",
      "state": {}
     },
     "00a04fcb44d347b184b35e74e51f4339": {
      "model_module": "@jupyter-widgets/base",
      "model_module_version": "1.2.0",
      "model_name": "LayoutModel",
      "state": {}
     },
     "00b8cab4d0d248938ccb8a85268a3618": {
      "buffers": [
       {
        "data": "eNoLarnLEERFDABnGyH9",
        "encoding": "base64",
        "path": [
         "colors",
         "compressed_buffer"
        ]
       },
       {
        "data": "eNpjYGiwZ8AAxIsBAF7EAv0=",
        "encoding": "base64",
        "path": [
         "model_matrix",
         "compressed_buffer"
        ]
       },
       {
        "data": "eNpjYAADewjVYI9gMzjA2IwMDg5IapDYC5DUHEASf4DEZnBEsAXgbADj0ghK",
        "encoding": "base64",
        "path": [
         "origins",
         "compressed_buffer"
        ]
       },
       {
        "data": "eNpjYGiwZwADEE0/NgB7CQ7t",
        "encoding": "base64",
        "path": [
         "vectors",
         "compressed_buffer"
        ]
       }
      ],
      "model_module": "k3d",
      "model_module_version": "2.7.4",
      "model_name": "ObjectModel",
      "state": {
       "_view_count": null,
       "_view_module": null,
       "_view_module_version": "",
       "_view_name": null,
       "colors": {
        "dtype": "uint32",
        "shape": [
         10,
         2
        ]
       },
       "compression_level": 0,
       "head_color": 255,
       "head_size": 3,
       "id": 4554419984,
       "label_size": 1,
       "labels": [],
       "line_width": 0.01,
       "model_matrix": {
        "dtype": "float32",
        "shape": [
         4,
         4
        ]
       },
       "name": "Vectors #1",
       "origin_color": 255,
       "origins": {
        "dtype": "float32",
        "shape": [
         10,
         3
        ]
       },
       "type": "Vectors",
       "use_head": true,
       "vectors": {
        "dtype": "float32",
        "shape": [
         10,
         3
        ]
       },
       "visible": true
      }
     },
     "0115c3dbf16d4495b6e185c90ba95b29": {
      "model_module": "@jupyter-widgets/base",
      "model_module_version": "1.2.0",
      "model_name": "LayoutModel",
      "state": {}
     },
     "01ac962fcdca43f0abfb4164f060a267": {
      "model_module": "k3d",
      "model_module_version": "2.7.4",
      "model_name": "PlotModel",
      "state": {
       "_backend_version": "2.7.4",
       "_dom_classes": [],
       "_view_count": null,
       "antialias": 3,
       "auto_rendering": true,
       "axes": [
        "x (nm)",
        "y (nm)",
        "z (nm)"
       ],
       "axes_helper": 1,
       "background_color": 16777215,
       "camera": [
        13.312922348924026,
        -11.969383532282365,
        1.3312922354855081,
        4.999999994069116,
        0.5,
        0.5,
        0,
        0,
        1
       ],
       "camera_animation": [],
       "camera_auto_fit": true,
       "camera_fov": 60,
       "camera_no_pan": false,
       "camera_no_rotate": false,
       "camera_no_zoom": false,
       "clipping_planes": [],
       "colorbar_object_id": -1,
       "fps": 25,
       "fps_meter": false,
       "grid": [
        -1,
        -1,
        -1,
        1,
        1,
        1
       ],
       "grid_auto_fit": true,
       "grid_visible": true,
       "height": 512,
       "layout": "IPY_MODEL_de77366c12f34842bf3ee2831441466d",
       "lighting": 1.5,
       "menu_visibility": true,
       "mode": "view",
       "name": null,
       "object_ids": [
        4720803408,
        4756856016
       ],
       "rendering_steps": 1,
       "screenshot": "",
       "screenshot_scale": 2,
       "snapshot": "",
       "time": 0,
       "voxel_paint_color": 0
      }
     },
     "01c4bda086b04be2a08400eef242ff76": {
      "model_module": "k3d",
      "model_module_version": "2.7.4",
      "model_name": "PlotModel",
      "state": {
       "_backend_version": "2.7.4",
       "_dom_classes": [],
       "_view_count": null,
       "antialias": 3,
       "auto_rendering": true,
       "axes": [
        "x (nm)",
        "y (nm)",
        "z (nm)"
       ],
       "axes_helper": 1,
       "background_color": 16777215,
       "camera": [
        26.015022451936375,
        -23.522533677904562,
        2.1015022600948314,
        10,
        0.5,
        0.5000000149011612,
        0,
        0,
        1
       ],
       "camera_animation": [],
       "camera_auto_fit": true,
       "camera_fov": 60,
       "camera_no_pan": false,
       "camera_no_rotate": false,
       "camera_no_zoom": false,
       "clipping_planes": [],
       "colorbar_object_id": -1,
       "fps": 25,
       "fps_meter": false,
       "grid": [
        -1,
        -1,
        -1,
        1,
        1,
        1
       ],
       "grid_auto_fit": true,
       "grid_visible": true,
       "height": 512,
       "layout": "IPY_MODEL_b9e43b0a48c743b5ac05bff961402b25",
       "lighting": 1.5,
       "menu_visibility": true,
       "mode": "view",
       "name": null,
       "object_ids": [
        4928769856,
        4928786688
       ],
       "rendering_steps": 1,
       "screenshot": "",
       "screenshot_scale": 2,
       "snapshot": "",
       "time": 0,
       "voxel_paint_color": 0
      }
     },
     "0201995638424c14ab43e8f2bc333340": {
      "model_module": "@jupyter-widgets/output",
      "model_module_version": "1.0.0",
      "model_name": "OutputModel",
      "state": {
       "layout": "IPY_MODEL_afa30ad315ba4cc0a5d7a27908d3580c",
       "outputs": [
        {
         "data": {
          "application/vnd.jupyter.widget-view+json": {
           "model_id": "ba03844159334f6f8d8fde77ff2d14b2",
           "version_major": 2,
           "version_minor": 0
          },
          "text/plain": "Plot(antialias=3, axes=['x', 'y', 'z'], axes_helper=1.0, background_color=16777215, camera=[2, -3, 0.2, 0.0, 0…"
         },
         "metadata": {},
         "output_type": "display_data"
        }
       ]
      }
     },
     "022224c969b9430ba42ef31432ecd8a4": {
      "buffers": [
       {
        "data": "eNoDAAAAAAE=",
        "encoding": "base64",
        "path": [
         "colors",
         "compressed_buffer"
        ]
       },
       {
        "data": "eNpjYGiwZ8AAxIsBAF7EAv0=",
        "encoding": "base64",
        "path": [
         "model_matrix",
         "compressed_buffer"
        ]
       },
       {
        "data": "eNoDAAAAAAE=",
        "encoding": "base64",
        "path": [
         "opacities",
         "compressed_buffer"
        ]
       },
       {
        "data": "eNpjYGCwZ4DjA0hsBQcYm5EhwQEhPgGJvQFJzQUk8Q9IbA5HBFsCzgYAxoYLzw==",
        "encoding": "base64",
        "path": [
         "positions",
         "compressed_buffer"
        ]
       }
      ],
      "model_module": "k3d",
      "model_module_version": "2.7.4",
      "model_name": "ObjectModel",
      "state": {
       "_view_count": null,
       "_view_module": null,
       "_view_module_version": "",
       "_view_name": null,
       "color": 5010096,
       "colorLegend": false,
       "colors": {
        "dtype": "uint32",
        "shape": [
         0
        ]
       },
       "compression_level": 0,
       "id": 4936945616,
       "mesh_detail": 2,
       "model_matrix": {
        "dtype": "float32",
        "shape": [
         4,
         4
        ]
       },
       "name": "Points #1",
       "opacities": {
        "dtype": "float32",
        "shape": [
         0
        ]
       },
       "opacity": 1,
       "point_size": 0.25,
       "positions": {
        "dtype": "float32",
        "shape": [
         10,
         3
        ]
       },
       "shader": "3dSpecular",
       "type": "Points",
       "visible": true
      }
     },
     "02ad106b61da403c82948681e4b5fe99": {
      "model_module": "@jupyter-widgets/output",
      "model_module_version": "1.0.0",
      "model_name": "OutputModel",
      "state": {
       "layout": "IPY_MODEL_3d72e2b34a60424c965c5c0160d11183",
       "outputs": [
        {
         "data": {
          "application/vnd.jupyter.widget-view+json": {
           "model_id": "d290c7306fa749beb786d2d6051dd2f9",
           "version_major": 2,
           "version_minor": 0
          },
          "text/plain": "Plot(antialias=3, axes=['x', 'y', 'z'], axes_helper=1.0, background_color=16777215, camera=[2, -3, 0.2, 0.0, 0…"
         },
         "metadata": {},
         "output_type": "display_data"
        }
       ]
      }
     },
     "03398b41aba047629549e0dd62fba18c": {
      "model_module": "@jupyter-widgets/base",
      "model_module_version": "1.2.0",
      "model_name": "LayoutModel",
      "state": {}
     },
     "0467ced465204822bb9f8547b55685f3": {
      "model_module": "@jupyter-widgets/base",
      "model_module_version": "1.2.0",
      "model_name": "LayoutModel",
      "state": {}
     },
     "04e338ca03094004a77b0d1f3397803b": {
      "model_module": "@jupyter-widgets/base",
      "model_module_version": "1.2.0",
      "model_name": "LayoutModel",
      "state": {}
     },
     "050aa153496543a88effb5b586d88378": {
      "buffers": [
       {
        "data": "eNoLarnLEERFDABnGyH9",
        "encoding": "base64",
        "path": [
         "colors",
         "compressed_buffer"
        ]
       },
       {
        "data": "eNpjYGiwZ8AAxIsBAF7EAv0=",
        "encoding": "base64",
        "path": [
         "model_matrix",
         "compressed_buffer"
        ]
       },
       {
        "data": "eNpjYGCwZ4BgIDiAxFZwgLEZGRIcEOITkNgbkNRcQBL/gMTmcESwJeBsAD8sCVk=",
        "encoding": "base64",
        "path": [
         "origins",
         "compressed_buffer"
        ]
       },
       {
        "data": "eNrbJHx5LQMYNNhvoiMbAFSfHik=",
        "encoding": "base64",
        "path": [
         "vectors",
         "compressed_buffer"
        ]
       }
      ],
      "model_module": "k3d",
      "model_module_version": "2.7.4",
      "model_name": "ObjectModel",
      "state": {
       "_view_count": null,
       "_view_module": null,
       "_view_module_version": "",
       "_view_name": null,
       "colorLegend": false,
       "colors": {
        "dtype": "uint32",
        "shape": [
         10,
         2
        ]
       },
       "compression_level": 0,
       "head_color": 255,
       "head_size": 3,
       "id": 4756872208,
       "label_size": 1,
       "labels": [],
       "line_width": 0.01,
       "model_matrix": {
        "dtype": "float32",
        "shape": [
         4,
         4
        ]
       },
       "name": "Vectors #1",
       "origin_color": 255,
       "origins": {
        "dtype": "float32",
        "shape": [
         10,
         3
        ]
       },
       "type": "Vectors",
       "use_head": true,
       "vectors": {
        "dtype": "float32",
        "shape": [
         10,
         3
        ]
       },
       "visible": true
      }
     },
     "054f61e720454398a84a22bc8c403bf8": {
      "model_module": "@jupyter-widgets/base",
      "model_module_version": "1.2.0",
      "model_name": "LayoutModel",
      "state": {}
     },
     "05c76afbb46d4fd0843bf5acfcca59bf": {
      "model_module": "@jupyter-widgets/base",
      "model_module_version": "1.2.0",
      "model_name": "LayoutModel",
      "state": {}
     },
     "0685c155afa947ea9a7c88f4a5b84f1f": {
      "model_module": "@jupyter-widgets/base",
      "model_module_version": "1.2.0",
      "model_name": "LayoutModel",
      "state": {}
     },
     "068ecd85245d43b792aadaba7058c71e": {
      "model_module": "@jupyter-widgets/output",
      "model_module_version": "1.0.0",
      "model_name": "OutputModel",
      "state": {
       "layout": "IPY_MODEL_a39894bc1c5d4396b0c3ffc98e2a1b93",
       "outputs": [
        {
         "data": {
          "application/vnd.jupyter.widget-view+json": {
           "model_id": "a9772c6c00e14521bf346c97e3ceb088",
           "version_major": 2,
           "version_minor": 0
          },
          "text/plain": "Plot(antialias=3, axes=['x', 'y', 'z'], axes_helper=1.0, background_color=16777215, camera=[2, -3, 0.2, 0.0, 0…"
         },
         "metadata": {},
         "output_type": "display_data"
        }
       ]
      }
     },
     "07aaccf8c44642ae8908b12dcff94ca8": {
      "model_module": "@jupyter-widgets/base",
      "model_module_version": "1.2.0",
      "model_name": "LayoutModel",
      "state": {}
     },
     "08262e56cd2f4df0852ad8ec4aca20ed": {
      "buffers": [
       {
        "data": "eNoDAAAAAAE=",
        "encoding": "base64",
        "path": [
         "colors",
         "compressed_buffer"
        ]
       },
       {
        "data": "eNpjYGiwZ8AAxIsBAF7EAv0=",
        "encoding": "base64",
        "path": [
         "model_matrix",
         "compressed_buffer"
        ]
       },
       {
        "data": "eNoDAAAAAAE=",
        "encoding": "base64",
        "path": [
         "opacities",
         "compressed_buffer"
        ]
       },
       {
        "data": "eNpjYGCwZ4DjA0hsBQcYm5EhwQEhPgGJvQFJzQUk8Q9IbA5HBFsCzgYAxoYLzw==",
        "encoding": "base64",
        "path": [
         "positions",
         "compressed_buffer"
        ]
       }
      ],
      "model_module": "k3d",
      "model_module_version": "2.7.4",
      "model_name": "ObjectModel",
      "state": {
       "_view_count": null,
       "_view_module": null,
       "_view_module_version": "",
       "_view_name": null,
       "color": 5010096,
       "colorLegend": false,
       "colors": {
        "dtype": "uint32",
        "shape": [
         0
        ]
       },
       "compression_level": 0,
       "id": 4565137296,
       "mesh_detail": 2,
       "model_matrix": {
        "dtype": "float32",
        "shape": [
         4,
         4
        ]
       },
       "name": "Points #1",
       "opacities": {
        "dtype": "float32",
        "shape": [
         0
        ]
       },
       "opacity": 1,
       "point_size": 0.25,
       "positions": {
        "dtype": "float32",
        "shape": [
         10,
         3
        ]
       },
       "shader": "3dSpecular",
       "type": "Points",
       "visible": true
      }
     },
     "08995d1a581a458384479979b98ec655": {
      "buffers": [
       {
        "data": "eNoLarnLEDSIMQBtm0P5",
        "encoding": "base64",
        "path": [
         "colors",
         "compressed_buffer"
        ]
       },
       {
        "data": "eNpjYGiwZ8AAxIsBAF7EAv0=",
        "encoding": "base64",
        "path": [
         "model_matrix",
         "compressed_buffer"
        ]
       },
       {
        "data": "eNpjYAADewjVYI9gMzjA2IwMDg5IapDYC5DUHEASf4DEZnBEsAWQ2ApIbANHJLuQ2AFI7AQk9QVI7AYkdgcSewISewacDQC7wBEt",
        "encoding": "base64",
        "path": [
         "origins",
         "compressed_buffer"
        ]
       },
       {
        "data": "eNpjYGiwZwADED382QD1Gx3Z",
        "encoding": "base64",
        "path": [
         "vectors",
         "compressed_buffer"
        ]
       }
      ],
      "model_module": "k3d",
      "model_module_version": "2.7.4",
      "model_name": "ObjectModel",
      "state": {
       "_view_count": null,
       "_view_module": null,
       "_view_module_version": "",
       "_view_name": null,
       "colors": {
        "dtype": "uint32",
        "shape": [
         20,
         2
        ]
       },
       "compression_level": 0,
       "head_color": 255,
       "head_size": 1,
       "id": 4928741824,
       "label_size": 1,
       "labels": [],
       "line_width": 0.01,
       "model_matrix": {
        "dtype": "float32",
        "shape": [
         4,
         4
        ]
       },
       "name": "Vectors #1",
       "origin_color": 255,
       "origins": {
        "dtype": "float32",
        "shape": [
         20,
         3
        ]
       },
       "type": "Vectors",
       "use_head": true,
       "vectors": {
        "dtype": "float32",
        "shape": [
         20,
         3
        ]
       },
       "visible": true
      }
     },
     "08c16f6d85174d17b441eaf8fec125e3": {
      "model_module": "@jupyter-widgets/base",
      "model_module_version": "1.2.0",
      "model_name": "LayoutModel",
      "state": {}
     },
     "09447b16641248d6a56fd968e5620944": {
      "buffers": [
       {
        "data": "eNoLarnLEERFDABnGyH9",
        "encoding": "base64",
        "path": [
         "colors",
         "compressed_buffer"
        ]
       },
       {
        "data": "eNpjYGiwZ8AAxIsBAF7EAv0=",
        "encoding": "base64",
        "path": [
         "model_matrix",
         "compressed_buffer"
        ]
       },
       {
        "data": "eNpjYGCwZ2BgMGYAgwNAdgOUr+AAYTfYMzIkOEDkQfwJDgj1G6BqGBgYGS7A1TMwfICqAbE5HCFqQXwJR5h6AG1zDpk=",
        "encoding": "base64",
        "path": [
         "origins",
         "compressed_buffer"
        ]
       },
       {
        "data": "eNpjYGBg+P+/3p6BoQGIQaBhP4QPFt8P4kPF7SF8VPVQNch6kdUg60VRDwADFSdP",
        "encoding": "base64",
        "path": [
         "vectors",
         "compressed_buffer"
        ]
       }
      ],
      "model_module": "k3d",
      "model_module_version": "2.7.4",
      "model_name": "ObjectModel",
      "state": {
       "_view_count": null,
       "_view_module": null,
       "_view_module_version": "",
       "_view_name": null,
       "colorLegend": false,
       "colors": {
        "dtype": "uint32",
        "shape": [
         10,
         2
        ]
       },
       "compression_level": 0,
       "head_color": 255,
       "head_size": 3,
       "id": 4886760848,
       "label_size": 1,
       "labels": [],
       "line_width": 0.01,
       "model_matrix": {
        "dtype": "float32",
        "shape": [
         4,
         4
        ]
       },
       "name": "Vectors #1",
       "origin_color": 255,
       "origins": {
        "dtype": "float32",
        "shape": [
         10,
         3
        ]
       },
       "type": "Vectors",
       "use_head": true,
       "vectors": {
        "dtype": "float32",
        "shape": [
         10,
         3
        ]
       },
       "visible": true
      }
     },
     "098cde21f3bb4ae69c71507f12e5cfcd": {
      "model_module": "k3d",
      "model_module_version": "2.7.4",
      "model_name": "PlotModel",
      "state": {
       "_backend_version": "2.7.4",
       "_dom_classes": [],
       "_view_count": null,
       "antialias": 3,
       "auto_rendering": true,
       "axes": [
        "x (nm)",
        "y (nm)",
        "z (nm)"
       ],
       "axes_helper": 1,
       "background_color": 16777215,
       "camera": [
        7.974379964363097,
        14.128642591889378,
        2.0584571794893307,
        5,
        0.4999999957853052,
        0.5,
        -0.32400708204019957,
        0.019594423973682565,
        0.9458517163577698
       ],
       "camera_animation": [],
       "camera_auto_fit": true,
       "camera_fov": 60,
       "camera_no_pan": false,
       "camera_no_rotate": false,
       "camera_no_zoom": false,
       "clipping_planes": [],
       "colorbar_object_id": -1,
       "fps": 25,
       "fps_meter": false,
       "grid": [
        -1,
        -1,
        -1,
        1,
        1,
        1
       ],
       "grid_auto_fit": true,
       "grid_visible": true,
       "height": 512,
       "layout": "IPY_MODEL_309986d6b6e5415693d5d1b4a19d85a7",
       "lighting": 1.5,
       "menu_visibility": true,
       "mode": "view",
       "name": null,
       "object_ids": [
        4554183584,
        4886187264
       ],
       "rendering_steps": 1,
       "screenshot": "",
       "screenshot_scale": 2,
       "snapshot": "",
       "time": 0,
       "voxel_paint_color": 0
      }
     },
     "099276cf157b494e8a6f78372605c976": {
      "model_module": "k3d",
      "model_module_version": "2.7.4",
      "model_name": "PlotModel",
      "state": {
       "_backend_version": "2.7.4",
       "_dom_classes": [],
       "_view_count": null,
       "antialias": 3,
       "auto_rendering": true,
       "axes": [
        "x (nm)",
        "y (nm)",
        "z (nm)"
       ],
       "axes_helper": 1,
       "background_color": 16777215,
       "camera": [
        12.292651481694367,
        -12.092838288128473,
        1.7761866229539933,
        5.1875,
        0.5000000149011612,
        0.5000000149011612,
        -0.03587323405796271,
        0.01718187902523524,
        0.999208633925561
       ],
       "camera_animation": [],
       "camera_auto_fit": true,
       "camera_fov": 60,
       "camera_no_pan": false,
       "camera_no_rotate": false,
       "camera_no_zoom": false,
       "clipping_planes": [],
       "colorbar_object_id": -1,
       "fps": 25,
       "fps_meter": false,
       "grid": [
        -1,
        -1,
        -1,
        1,
        1,
        1
       ],
       "grid_auto_fit": true,
       "grid_visible": true,
       "height": 512,
       "layout": "IPY_MODEL_ce029f22136a410eb14b6efeded1c36e",
       "lighting": 1.5,
       "menu_visibility": true,
       "mode": "view",
       "name": null,
       "object_ids": [
        4936999504,
        4934759760
       ],
       "rendering_steps": 1,
       "screenshot": "",
       "screenshot_scale": 2,
       "snapshot": "",
       "time": 0,
       "voxel_paint_color": 0
      }
     },
     "0a5a987fde0042549fbd5bf406745d34": {
      "buffers": [
       {
        "data": "eNrbUOTDENRylwEADvwDIg==",
        "encoding": "base64",
        "path": [
         "color_map",
         "compressed_buffer"
        ]
       },
       {
        "data": "eNpjYFBwZICDBQ4QusEeKmCPkAOLIfEhYgB/zAP9",
        "encoding": "base64",
        "path": [
         "model_matrix",
         "compressed_buffer"
        ]
       },
       {
        "data": "eNpjZIQCJgAAQgAM",
        "encoding": "base64",
        "path": [
         "voxels",
         "compressed_buffer"
        ]
       }
      ],
      "model_module": "k3d",
      "model_module_version": "2.7.4",
      "model_name": "ObjectModel",
      "state": {
       "_view_count": null,
       "_view_module": null,
       "_view_module_version": "",
       "_view_name": null,
       "colorLegend": false,
       "color_map": {
        "dtype": "uint32",
        "shape": [
         2
        ]
       },
       "compression_level": 0,
       "id": 4923501872,
       "model_matrix": {
        "dtype": "float32",
        "shape": [
         4,
         4
        ]
       },
       "name": "Voxels #1",
       "opacity": 1,
       "outlines": false,
       "outlines_color": 0,
       "type": "Voxels",
       "visible": true,
       "voxels": {
        "dtype": "uint8",
        "shape": [
         1,
         1,
         10
        ]
       },
       "wireframe": false
      }
     },
     "0aebf63d016e4c3da4d3165fb7e62b1f": {
      "model_module": "@jupyter-widgets/base",
      "model_module_version": "1.2.0",
      "model_name": "LayoutModel",
      "state": {}
     },
     "0bdbfaed14cc443eafdb05bf167852cf": {
      "model_module": "@jupyter-widgets/base",
      "model_module_version": "1.2.0",
      "model_name": "LayoutModel",
      "state": {}
     },
     "0c5ce0a4e9a84bf1b09766b8fcc0c8d1": {
      "model_module": "k3d",
      "model_module_version": "2.7.4",
      "model_name": "PlotModel",
      "state": {
       "_backend_version": "2.7.4",
       "_dom_classes": [],
       "_view_count": null,
       "antialias": 3,
       "auto_rendering": true,
       "axes": [
        "x (nm)",
        "y (nm)",
        "z (nm)"
       ],
       "axes_helper": 1,
       "background_color": 16777215,
       "camera": [
        12.780091217584086,
        -11.194556089381384,
        1.2796370736188494,
        4.983720481395721,
        0.5000000149011612,
        0.5,
        0,
        0,
        1
       ],
       "camera_animation": [],
       "camera_auto_fit": true,
       "camera_fov": 60,
       "camera_no_pan": false,
       "camera_no_rotate": false,
       "camera_no_zoom": false,
       "clipping_planes": [],
       "colorbar_object_id": -1,
       "fps": 25,
       "fps_meter": false,
       "grid": [
        -1,
        -1,
        -1,
        1,
        1,
        1
       ],
       "grid_auto_fit": true,
       "grid_visible": true,
       "height": 512,
       "layout": "IPY_MODEL_c77b108e134f4b0ba6a371dbd7e91ebd",
       "lighting": 1.5,
       "menu_visibility": true,
       "mode": "view",
       "name": null,
       "object_ids": [
        4941494208,
        4936883456
       ],
       "rendering_steps": 1,
       "screenshot": "",
       "screenshot_scale": 2,
       "snapshot": "",
       "time": 0,
       "voxel_paint_color": 0
      }
     },
     "0c91a4718bc8416d8f3f0a553f695dc7": {
      "model_module": "@jupyter-widgets/base",
      "model_module_version": "1.2.0",
      "model_name": "LayoutModel",
      "state": {}
     },
     "0cab60cc4a0142d8adef8f3cf62fb67d": {
      "model_module": "@jupyter-widgets/base",
      "model_module_version": "1.2.0",
      "model_name": "LayoutModel",
      "state": {}
     },
     "0d6108de65d34fe2ad5a7eafc4de8c48": {
      "model_module": "@jupyter-widgets/output",
      "model_module_version": "1.0.0",
      "model_name": "OutputModel",
      "state": {
       "layout": "IPY_MODEL_ae9507aee54f41eca28de9cf20eaa2e0",
       "outputs": [
        {
         "data": {
          "application/vnd.jupyter.widget-view+json": {
           "model_id": "1785d8def0f045d59008651734ee8ac4",
           "version_major": 2,
           "version_minor": 0
          },
          "text/plain": "Plot(antialias=3, axes=['x', 'y', 'z'], axes_helper=1.0, background_color=16777215, camera=[2, -3, 0.2, 0.0, 0…"
         },
         "metadata": {},
         "output_type": "display_data"
        }
       ]
      }
     },
     "0db0c9c8e81f4fbfacc2a110fc7da186": {
      "buffers": [
       {
        "data": "eNoDAAAAAAE=",
        "encoding": "base64",
        "path": [
         "colors",
         "compressed_buffer"
        ]
       },
       {
        "data": "eNpjYGiwZ8AAxIsBAF7EAv0=",
        "encoding": "base64",
        "path": [
         "model_matrix",
         "compressed_buffer"
        ]
       },
       {
        "data": "eNoDAAAAAAE=",
        "encoding": "base64",
        "path": [
         "opacities",
         "compressed_buffer"
        ]
       },
       {
        "data": "eNpjYGCwZ4DjA0hsBQcYm5EhwQEhPgGJvQFJzQUk8Q9IbA5HBFsCia2BxLZwRJjjgcSOQGJnIKmvQGK3ILF7kNhTkNhz4GwA3oQXaA==",
        "encoding": "base64",
        "path": [
         "positions",
         "compressed_buffer"
        ]
       }
      ],
      "model_module": "k3d",
      "model_module_version": "2.7.4",
      "model_name": "ObjectModel",
      "state": {
       "_view_count": null,
       "_view_module": null,
       "_view_module_version": "",
       "_view_name": null,
       "color": 5010096,
       "colors": {
        "dtype": "uint32",
        "shape": [
         0
        ]
       },
       "compression_level": 0,
       "id": 4928634544,
       "mesh_detail": 2,
       "model_matrix": {
        "dtype": "float32",
        "shape": [
         4,
         4
        ]
       },
       "name": "Points #1",
       "opacities": {
        "dtype": "float32",
        "shape": [
         0
        ]
       },
       "opacity": 1,
       "point_size": 0.25,
       "positions": {
        "dtype": "float32",
        "shape": [
         20,
         3
        ]
       },
       "shader": "3dSpecular",
       "type": "Points",
       "visible": true
      }
     },
     "0f16a8c0367e4555b9905ee404cf3d35": {
      "model_module": "@jupyter-widgets/base",
      "model_module_version": "1.2.0",
      "model_name": "LayoutModel",
      "state": {}
     },
     "0f4db2c09ef8417f8ede26bd18799e85": {
      "model_module": "k3d",
      "model_module_version": "2.7.4",
      "model_name": "PlotModel",
      "state": {
       "_backend_version": "2.7.4",
       "_dom_classes": [],
       "_view_count": null,
       "antialias": 3,
       "auto_rendering": true,
       "axes": [
        "x (nm)",
        "y (nm)",
        "z (nm)"
       ],
       "axes_helper": 1,
       "background_color": 16777215,
       "camera": [
        11.041952431553634,
        -2.1546028926648204,
        1.0073179116320043,
        5.000000059604645,
        0.5,
        0.5,
        0.0022550329655943893,
        0.05782674179021808,
        0.9983240870380005
       ],
       "camera_animation": [],
       "camera_auto_fit": true,
       "camera_fov": 60,
       "camera_no_pan": false,
       "camera_no_rotate": false,
       "camera_no_zoom": false,
       "clipping_planes": [],
       "colorbar_object_id": -1,
       "fps": 25,
       "fps_meter": false,
       "grid": [
        -1,
        -1,
        -1,
        1,
        1,
        1
       ],
       "grid_auto_fit": true,
       "grid_visible": true,
       "height": 512,
       "layout": "IPY_MODEL_d0da68da171d4996865c584fa7b07e17",
       "lighting": 1.5,
       "menu_visibility": true,
       "mode": "view",
       "name": null,
       "object_ids": [
        4925323632,
        4936943024
       ],
       "rendering_steps": 1,
       "screenshot": "",
       "screenshot_scale": 2,
       "snapshot": "",
       "time": 0,
       "voxel_paint_color": 0
      }
     },
     "0f670bec705145fd97d1e97321e0c6f6": {
      "model_module": "k3d",
      "model_module_version": "2.7.4",
      "model_name": "PlotModel",
      "state": {
       "_backend_version": "2.7.4",
       "_dom_classes": [],
       "_view_count": null,
       "antialias": 3,
       "auto_rendering": true,
       "axes": [
        "x (nm)",
        "y (nm)",
        "z (nm)"
       ],
       "axes_helper": 1,
       "background_color": 16777215,
       "camera": [
        26.67635668443432,
        0.9648401027635751,
        3.254904125028875,
        10,
        0.49999999925885874,
        0.5000000149011612,
        -0.10950655796986568,
        0.0648972573037068,
        0.9918652427401884
       ],
       "camera_animation": [],
       "camera_auto_fit": true,
       "camera_fov": 60,
       "camera_no_pan": false,
       "camera_no_rotate": false,
       "camera_no_zoom": false,
       "clipping_planes": [],
       "colorbar_object_id": -1,
       "fps": 25,
       "fps_meter": false,
       "grid": [
        -1,
        -1,
        -1,
        1,
        1,
        1
       ],
       "grid_auto_fit": true,
       "grid_visible": true,
       "height": 512,
       "layout": "IPY_MODEL_f3cd8f590bae4275ae91936f5dad908d",
       "lighting": 1.5,
       "menu_visibility": true,
       "mode": "view",
       "name": null,
       "object_ids": [
        4925872400,
        4928194400
       ],
       "rendering_steps": 1,
       "screenshot": "",
       "screenshot_scale": 2,
       "snapshot": "",
       "time": 0,
       "voxel_paint_color": 0
      }
     },
     "100559bc16294879a3b9aa126e634cba": {
      "model_module": "k3d",
      "model_module_version": "2.7.4",
      "model_name": "PlotModel",
      "state": {
       "_backend_version": "2.7.4",
       "_dom_classes": [],
       "_view_count": null,
       "antialias": 3,
       "auto_rendering": true,
       "axes": [
        "x (nm)",
        "y (nm)",
        "z (nm)"
       ],
       "axes_helper": 1,
       "background_color": 16777215,
       "camera": [
        12.732217874034188,
        -11.09832681105128,
        1.27322178740343,
        5,
        0.5,
        0.5,
        0,
        0,
        1
       ],
       "camera_animation": [],
       "camera_auto_fit": true,
       "camera_fov": 60,
       "camera_no_pan": false,
       "camera_no_rotate": false,
       "camera_no_zoom": false,
       "clipping_planes": [],
       "colorbar_object_id": -1,
       "fps": 25,
       "fps_meter": false,
       "grid": [
        -1,
        -1,
        -1,
        1,
        1,
        1
       ],
       "grid_auto_fit": true,
       "grid_visible": true,
       "height": 512,
       "layout": "IPY_MODEL_fa173438b139448aa35daf961a1749ff",
       "lighting": 1.5,
       "menu_visibility": true,
       "mode": "view",
       "name": null,
       "object_ids": [
        4756872208,
        4755742624
       ],
       "rendering_steps": 1,
       "screenshot": "",
       "screenshot_scale": 2,
       "snapshot": "",
       "time": 0,
       "voxel_paint_color": 0
      }
     },
     "10d1eff566534d4589e9cbbd3a12a5b9": {
      "model_module": "@jupyter-widgets/base",
      "model_module_version": "1.2.0",
      "model_name": "LayoutModel",
      "state": {}
     },
     "111ae670a61d4af19b9043d34d4d94c9": {
      "model_module": "@jupyter-widgets/output",
      "model_module_version": "1.0.0",
      "model_name": "OutputModel",
      "state": {
       "layout": "IPY_MODEL_ff4eb66f568e42b48f6f5c11c9c47308",
       "outputs": [
        {
         "data": {
          "application/vnd.jupyter.widget-view+json": {
           "model_id": "2f853db707e848a191587c145f02279f",
           "version_major": 2,
           "version_minor": 0
          },
          "text/plain": "Plot(antialias=3, axes=['x', 'y', 'z'], axes_helper=1.0, background_color=16777215, camera=[2, -3, 0.2, 0.0, 0…"
         },
         "metadata": {},
         "output_type": "display_data"
        }
       ]
      }
     },
     "11945948556f4a7fafffff965798fdec": {
      "model_module": "@jupyter-widgets/base",
      "model_module_version": "1.2.0",
      "model_name": "LayoutModel",
      "state": {}
     },
     "11a63e9828494a73a7e957afe215a4b2": {
      "model_module": "@jupyter-widgets/output",
      "model_module_version": "1.0.0",
      "model_name": "OutputModel",
      "state": {
       "layout": "IPY_MODEL_d1ce2b3bd30e4e81abe6a771f43790b8",
       "outputs": [
        {
         "data": {
          "application/vnd.jupyter.widget-view+json": {
           "model_id": "122360711f0c4ee893c5d8a0d3232959",
           "version_major": 2,
           "version_minor": 0
          },
          "text/plain": "Plot(antialias=3, axes=['x', 'y', 'z'], axes_helper=1.0, background_color=16777215, camera=[2, -3, 0.2, 0.0, 0…"
         },
         "metadata": {},
         "output_type": "display_data"
        }
       ]
      }
     },
     "122360711f0c4ee893c5d8a0d3232959": {
      "model_module": "k3d",
      "model_module_version": "2.7.4",
      "model_name": "PlotModel",
      "state": {
       "_backend_version": "2.7.4",
       "_dom_classes": [],
       "_view_count": null,
       "antialias": 3,
       "auto_rendering": true,
       "axes": [
        "x (nm)",
        "y (nm)",
        "z (nm)"
       ],
       "axes_helper": 1,
       "background_color": 16777215,
       "camera": [
        17.058318656143477,
        -10.087477984215202,
        1.205831865614354,
        10,
        0.5,
        0.5,
        0,
        0,
        1
       ],
       "camera_animation": [],
       "camera_auto_fit": true,
       "camera_fov": 60,
       "camera_no_pan": false,
       "camera_no_rotate": false,
       "camera_no_zoom": false,
       "clipping_planes": [],
       "colorbar_object_id": -1,
       "fps": 25,
       "fps_meter": false,
       "grid": [
        -1,
        -1,
        -1,
        1,
        1,
        1
       ],
       "grid_auto_fit": true,
       "grid_visible": true,
       "height": 512,
       "layout": "IPY_MODEL_cc19713e9de64dbd856431c7ce40da48",
       "lighting": 1.5,
       "menu_visibility": true,
       "mode": "view",
       "name": null,
       "object_ids": [
        4928743696,
        4928633968
       ],
       "rendering_steps": 1,
       "screenshot": "",
       "screenshot_scale": 2,
       "snapshot": "",
       "time": 0,
       "voxel_paint_color": 0
      }
     },
     "12e3a411382944d19bb6b721dfcf10d0": {
      "buffers": [
       {
        "data": "eNoDAAAAAAE=",
        "encoding": "base64",
        "path": [
         "colors",
         "compressed_buffer"
        ]
       },
       {
        "data": "eNpjYGiwZ8AAxIsBAF7EAv0=",
        "encoding": "base64",
        "path": [
         "model_matrix",
         "compressed_buffer"
        ]
       },
       {
        "data": "eNoDAAAAAAE=",
        "encoding": "base64",
        "path": [
         "opacities",
         "compressed_buffer"
        ]
       },
       {
        "data": "eNpjYGCwZ4DjA0hsBQcYm5EhwQEhPgGJvQFJzQUk8Q9IbA5HBFsCzgYAxoYLzw==",
        "encoding": "base64",
        "path": [
         "positions",
         "compressed_buffer"
        ]
       }
      ],
      "model_module": "k3d",
      "model_module_version": "2.7.4",
      "model_name": "ObjectModel",
      "state": {
       "_view_count": null,
       "_view_module": null,
       "_view_module_version": "",
       "_view_name": null,
       "color": 5010096,
       "colorLegend": false,
       "colors": {
        "dtype": "uint32",
        "shape": [
         0
        ]
       },
       "compression_level": 0,
       "id": 4940532704,
       "mesh_detail": 2,
       "model_matrix": {
        "dtype": "float32",
        "shape": [
         4,
         4
        ]
       },
       "name": "Points #1",
       "opacities": {
        "dtype": "float32",
        "shape": [
         0
        ]
       },
       "opacity": 1,
       "point_size": 0.25,
       "positions": {
        "dtype": "float32",
        "shape": [
         10,
         3
        ]
       },
       "shader": "3dSpecular",
       "type": "Points",
       "visible": true
      }
     },
     "13998ee0b59c4e6b83d6c2e9c1055c40": {
      "model_module": "@jupyter-widgets/base",
      "model_module_version": "1.2.0",
      "model_name": "LayoutModel",
      "state": {}
     },
     "13de3725496a401694af398943f6a941": {
      "buffers": [
       {
        "data": "eNoDAAAAAAE=",
        "encoding": "base64",
        "path": [
         "colors",
         "compressed_buffer"
        ]
       },
       {
        "data": "eNpjYGiwZ8AAxIsBAF7EAv0=",
        "encoding": "base64",
        "path": [
         "model_matrix",
         "compressed_buffer"
        ]
       },
       {
        "data": "eNoDAAAAAAE=",
        "encoding": "base64",
        "path": [
         "opacities",
         "compressed_buffer"
        ]
       },
       {
        "data": "eNpjYGCwZ4DjA0hsBQcYm5EhwQEhPgGJvQFJzQUk8Q9IbA5HBFsCzgYAxoYLzw==",
        "encoding": "base64",
        "path": [
         "positions",
         "compressed_buffer"
        ]
       }
      ],
      "model_module": "k3d",
      "model_module_version": "2.7.4",
      "model_name": "ObjectModel",
      "state": {
       "_view_count": null,
       "_view_module": null,
       "_view_module_version": "",
       "_view_name": null,
       "color": 5010096,
       "colors": {
        "dtype": "uint32",
        "shape": [
         0
        ]
       },
       "compression_level": 0,
       "id": 4928686496,
       "mesh_detail": 2,
       "model_matrix": {
        "dtype": "float32",
        "shape": [
         4,
         4
        ]
       },
       "name": "Points #1",
       "opacities": {
        "dtype": "float32",
        "shape": [
         0
        ]
       },
       "opacity": 1,
       "point_size": 0.25,
       "positions": {
        "dtype": "float32",
        "shape": [
         10,
         3
        ]
       },
       "shader": "3dSpecular",
       "type": "Points",
       "visible": true
      }
     },
     "143f07c4a731464780a15e08f3f97257": {
      "model_module": "@jupyter-widgets/output",
      "model_module_version": "1.0.0",
      "model_name": "OutputModel",
      "state": {
       "layout": "IPY_MODEL_c9cf2b69eb5540f4bf515dcce50d4ac4",
       "outputs": [
        {
         "data": {
          "application/vnd.jupyter.widget-view+json": {
           "model_id": "c53c527ca6664eba80cfe3a95eebd70f",
           "version_major": 2,
           "version_minor": 0
          },
          "text/plain": "Plot(antialias=3, axes=['x', 'y', 'z'], axes_helper=1.0, background_color=16777215, camera=[2, -3, 0.2, 0.0, 0…"
         },
         "metadata": {},
         "output_type": "display_data"
        }
       ]
      }
     },
     "14695d4587e841d2b3d21d8fd8c3437d": {
      "buffers": [
       {
        "data": "eNoDAAAAAAE=",
        "encoding": "base64",
        "path": [
         "colors",
         "compressed_buffer"
        ]
       },
       {
        "data": "eNpjYGiwZ8AAxIsBAF7EAv0=",
        "encoding": "base64",
        "path": [
         "model_matrix",
         "compressed_buffer"
        ]
       },
       {
        "data": "eNoDAAAAAAE=",
        "encoding": "base64",
        "path": [
         "opacities",
         "compressed_buffer"
        ]
       },
       {
        "data": "eNpjYGCwZ4DjA0hsBQcYm5EhwQEhPgGJvQFJzQUk8Q9IbA5HBFsCzgYAxoYLzw==",
        "encoding": "base64",
        "path": [
         "positions",
         "compressed_buffer"
        ]
       }
      ],
      "model_module": "k3d",
      "model_module_version": "2.7.4",
      "model_name": "ObjectModel",
      "state": {
       "_view_count": null,
       "_view_module": null,
       "_view_module_version": "",
       "_view_name": null,
       "color": 5010096,
       "colorLegend": false,
       "colors": {
        "dtype": "uint32",
        "shape": [
         0
        ]
       },
       "compression_level": 0,
       "id": 4932543968,
       "mesh_detail": 2,
       "model_matrix": {
        "dtype": "float32",
        "shape": [
         4,
         4
        ]
       },
       "name": "Points #1",
       "opacities": {
        "dtype": "float32",
        "shape": [
         0
        ]
       },
       "opacity": 1,
       "point_size": 0.25,
       "positions": {
        "dtype": "float32",
        "shape": [
         10,
         3
        ]
       },
       "shader": "3dSpecular",
       "type": "Points",
       "visible": true
      }
     },
     "153499d48e1346efb25df05bfd9c11a5": {
      "model_module": "@jupyter-widgets/base",
      "model_module_version": "1.2.0",
      "model_name": "LayoutModel",
      "state": {}
     },
     "15e24382b3994f159d19673795d1e05a": {
      "model_module": "k3d",
      "model_module_version": "2.7.4",
      "model_name": "PlotModel",
      "state": {
       "_backend_version": "2.7.4",
       "_dom_classes": [],
       "_view_count": null,
       "antialias": 3,
       "auto_rendering": true,
       "axes": [
        "x (nm)",
        "y (nm)",
        "z (nm)"
       ],
       "axes_helper": 1,
       "background_color": 16777215,
       "camera": [
        13.783297504882096,
        8.603856793759954,
        0.7338524444322918,
        10,
        0.5,
        0.5000000149011612,
        -0.16123425380925838,
        0.10810853950495354,
        0.9809770940672808
       ],
       "camera_animation": [],
       "camera_auto_fit": true,
       "camera_fov": 60,
       "camera_no_pan": false,
       "camera_no_rotate": false,
       "camera_no_zoom": false,
       "clipping_planes": [],
       "colorbar_object_id": -1,
       "fps": 25,
       "fps_meter": false,
       "grid": [
        -1,
        -1,
        -1,
        1,
        1,
        1
       ],
       "grid_auto_fit": true,
       "grid_visible": true,
       "height": 512,
       "layout": "IPY_MODEL_eef121e381254522ab82de82f8863fc9",
       "lighting": 1.5,
       "menu_visibility": true,
       "mode": "view",
       "name": null,
       "object_ids": [
        4927907488,
        4928687456
       ],
       "rendering_steps": 1,
       "screenshot": "",
       "screenshot_scale": 2,
       "snapshot": "",
       "time": 0,
       "voxel_paint_color": 0
      }
     },
     "16a7cdbc9011409aae66b8f8e32ab657": {
      "model_module": "@jupyter-widgets/output",
      "model_module_version": "1.0.0",
      "model_name": "OutputModel",
      "state": {
       "layout": "IPY_MODEL_cdae61223cc24c52bb43b2df8c3d4ac3",
       "outputs": [
        {
         "data": {
          "application/vnd.jupyter.widget-view+json": {
           "model_id": "d794d0f1c08d483982ec0e177380967b",
           "version_major": 2,
           "version_minor": 0
          },
          "text/plain": "Plot(antialias=3, axes=['x', 'y', 'z'], axes_helper=1.0, background_color=16777215, camera=[2, -3, 0.2, 0.0, 0…"
         },
         "metadata": {},
         "output_type": "display_data"
        }
       ]
      }
     },
     "16a8e2b223524d028d292b02c9fece8b": {
      "model_module": "@jupyter-widgets/output",
      "model_module_version": "1.0.0",
      "model_name": "OutputModel",
      "state": {
       "layout": "IPY_MODEL_5516c3e05570426bbdbac9f587c6ce4e",
       "outputs": [
        {
         "data": {
          "application/vnd.jupyter.widget-view+json": {
           "model_id": "8d3e39fb059d4bd7ba745c4ef79710b5",
           "version_major": 2,
           "version_minor": 0
          },
          "text/plain": "Plot(antialias=3, axes=['x', 'y', 'z'], axes_helper=1.0, background_color=16777215, camera=[2, -3, 0.2, 0.0, 0…"
         },
         "metadata": {},
         "output_type": "display_data"
        }
       ]
      }
     },
     "17429344dc6e4f9b82ec5f2dd385b5f9": {
      "model_module": "@jupyter-widgets/base",
      "model_module_version": "1.2.0",
      "model_name": "LayoutModel",
      "state": {}
     },
     "1785d8def0f045d59008651734ee8ac4": {
      "model_module": "k3d",
      "model_module_version": "2.7.4",
      "model_name": "PlotModel",
      "state": {
       "_backend_version": "2.7.4",
       "_dom_classes": [],
       "_view_count": null,
       "antialias": 3,
       "auto_rendering": true,
       "axes": [
        "x (nm)",
        "y (nm)",
        "z (nm)"
       ],
       "axes_helper": 1,
       "background_color": 16777215,
       "camera": [
        13.351749844490127,
        -12.027624773057223,
        1.335174999771651,
        4.9999999957853145,
        0.5,
        0.5000000149011612,
        0,
        0,
        1
       ],
       "camera_animation": [],
       "camera_auto_fit": true,
       "camera_fov": 60,
       "camera_no_pan": false,
       "camera_no_rotate": false,
       "camera_no_zoom": false,
       "clipping_planes": [],
       "colorbar_object_id": -1,
       "fps": 25,
       "fps_meter": false,
       "grid": [
        -1,
        -1,
        -1,
        1,
        1,
        1
       ],
       "grid_auto_fit": true,
       "grid_visible": true,
       "height": 512,
       "layout": "IPY_MODEL_ee4af06a91c4431c9c231a3b9a0e5b9e",
       "lighting": 1.5,
       "menu_visibility": true,
       "mode": "view",
       "name": null,
       "object_ids": [
        4896435600,
        4574904128
       ],
       "rendering_steps": 1,
       "screenshot": "",
       "screenshot_scale": 2,
       "snapshot": "",
       "time": 0,
       "voxel_paint_color": 0
      }
     },
     "17eb16eb6bf34d92b134f18a834c3954": {
      "model_module": "@jupyter-widgets/base",
      "model_module_version": "1.2.0",
      "model_name": "LayoutModel",
      "state": {}
     },
     "189dc7b9afea412893cc0c798ebe4204": {
      "model_module": "k3d",
      "model_module_version": "2.7.4",
      "model_name": "PlotModel",
      "state": {
       "_backend_version": "2.7.4",
       "_dom_classes": [],
       "_view_count": null,
       "antialias": 3,
       "auto_rendering": true,
       "axes": [
        "x (nm)",
        "y (nm)",
        "z (nm)"
       ],
       "axes_helper": 1,
       "background_color": 16777215,
       "camera": [
        13.26954490230345,
        -11.623067359415643,
        1.308204484269889,
        5.1875,
        0.49999999403953543,
        0.49999999403953543,
        0,
        0,
        1
       ],
       "camera_animation": [],
       "camera_auto_fit": true,
       "camera_fov": 60,
       "camera_no_pan": false,
       "camera_no_rotate": false,
       "camera_no_zoom": false,
       "clipping_planes": [],
       "colorbar_object_id": -1,
       "fps": 25,
       "fps_meter": false,
       "grid": [
        -1,
        -1,
        -1,
        1,
        1,
        1
       ],
       "grid_auto_fit": true,
       "grid_visible": true,
       "height": 512,
       "layout": "IPY_MODEL_9dfeb0b4e65744fa884539b5012d926e",
       "lighting": 1.5,
       "menu_visibility": true,
       "mode": "view",
       "name": null,
       "object_ids": [
        4932581552,
        4932502720
       ],
       "rendering_steps": 1,
       "screenshot": "",
       "screenshot_scale": 2,
       "snapshot": "",
       "time": 0,
       "voxel_paint_color": 0
      }
     },
     "18a40f97d5b74b20a233d87622665b86": {
      "model_module": "@jupyter-widgets/base",
      "model_module_version": "1.2.0",
      "model_name": "LayoutModel",
      "state": {}
     },
     "18b52bd525fa4b9988685dfe7e557cc0": {
      "model_module": "@jupyter-widgets/base",
      "model_module_version": "1.2.0",
      "model_name": "LayoutModel",
      "state": {}
     },
     "18c504b5e05645e29f67b40ae7d7732d": {
      "model_module": "k3d",
      "model_module_version": "2.7.4",
      "model_name": "PlotModel",
      "state": {
       "_backend_version": "2.7.4",
       "_dom_classes": [],
       "_view_count": null,
       "antialias": 3,
       "auto_rendering": true,
       "axes": [
        "x (nm)",
        "y (nm)",
        "z (nm)"
       ],
       "axes_helper": 1,
       "background_color": 16777215,
       "camera": [
        115.38198844515088,
        -173.0729826677263,
        14.038198963724568,
        0,
        0,
        2.5000001192092896,
        0,
        0,
        1
       ],
       "camera_animation": [],
       "camera_auto_fit": true,
       "camera_fov": 60,
       "camera_no_pan": false,
       "camera_no_rotate": false,
       "camera_no_zoom": false,
       "clipping_planes": [],
       "colorbar_object_id": -1,
       "fps": 25,
       "fps_meter": false,
       "grid": [
        -1,
        -1,
        -1,
        1,
        1,
        1
       ],
       "grid_auto_fit": true,
       "grid_visible": true,
       "height": 512,
       "layout": "IPY_MODEL_26041ef2332c48268a0610561eed6b59",
       "lighting": 1.5,
       "menu_visibility": true,
       "mode": "view",
       "name": null,
       "object_ids": [
        4756834960,
        4720597360
       ],
       "rendering_steps": 1,
       "screenshot": "",
       "screenshot_scale": 2,
       "snapshot": "",
       "time": 0,
       "voxel_paint_color": 0
      }
     },
     "18eb836ff0ab428a8f4472fbb9fc9c29": {
      "model_module": "@jupyter-widgets/output",
      "model_module_version": "1.0.0",
      "model_name": "OutputModel",
      "state": {
       "layout": "IPY_MODEL_ac82213878db45a8b84aa2394d3e532d",
       "outputs": [
        {
         "data": {
          "application/vnd.jupyter.widget-view+json": {
           "model_id": "27a7044a3c2d410ebaac24c92979677c",
           "version_major": 2,
           "version_minor": 0
          },
          "text/plain": "Plot(antialias=3, axes=['x', 'y', 'z'], axes_helper=1.0, background_color=16777215, camera=[2, -3, 0.2, 0.0, 0…"
         },
         "metadata": {},
         "output_type": "display_data"
        }
       ]
      }
     },
     "197d7acb15524e60905d9f0c82a0aa17": {
      "model_module": "k3d",
      "model_module_version": "2.7.4",
      "model_name": "PlotModel",
      "state": {
       "_backend_version": "2.7.4",
       "_dom_classes": [],
       "_view_count": null,
       "antialias": 3,
       "auto_rendering": true,
       "axes": [
        "x (nm)",
        "y (nm)",
        "z (nm)"
       ],
       "axes_helper": 1,
       "background_color": 16777215,
       "camera": [
        2.8778826572598577,
        -4.316823985889787,
        0.28778826572598526,
        0,
        0,
        0,
        0,
        0,
        1
       ],
       "camera_animation": [],
       "camera_auto_fit": true,
       "camera_fov": 60,
       "camera_no_pan": false,
       "camera_no_rotate": false,
       "camera_no_zoom": false,
       "clipping_planes": [],
       "colorbar_object_id": -1,
       "fps": 25,
       "fps_meter": false,
       "grid": [
        -1,
        -1,
        -1,
        1,
        1,
        1
       ],
       "grid_auto_fit": true,
       "grid_visible": true,
       "height": 512,
       "layout": "IPY_MODEL_6a6057c21fab4a568763cc52bb828839",
       "lighting": 1.5,
       "menu_visibility": true,
       "mode": "view",
       "name": null,
       "object_ids": [
        4926432256,
        4928686928
       ],
       "rendering_steps": 1,
       "screenshot": "",
       "screenshot_scale": 2,
       "snapshot": "",
       "time": 0,
       "voxel_paint_color": 0
      }
     },
     "19e39f88f2fe446eaa17d55cdfa3f5f7": {
      "model_module": "k3d",
      "model_module_version": "2.7.4",
      "model_name": "PlotModel",
      "state": {
       "_backend_version": "2.7.4",
       "_dom_classes": [],
       "_view_count": null,
       "antialias": 3,
       "auto_rendering": true,
       "axes": [
        "x (nm)",
        "y (nm)",
        "z (nm)"
       ],
       "axes_helper": 1,
       "background_color": 16777215,
       "camera": [
        9.661209484917109,
        -6.812693228494674,
        0.5576817325005491,
        10,
        0.5,
        0.5,
        -0.02501198925039053,
        -0.04641030060830554,
        0.998609275137772
       ],
       "camera_animation": [],
       "camera_auto_fit": true,
       "camera_fov": 60,
       "camera_no_pan": false,
       "camera_no_rotate": false,
       "camera_no_zoom": false,
       "clipping_planes": [],
       "colorbar_object_id": -1,
       "fps": 25,
       "fps_meter": false,
       "grid": [
        -1,
        -1,
        -1,
        1,
        1,
        1
       ],
       "grid_auto_fit": true,
       "grid_visible": true,
       "height": 512,
       "layout": "IPY_MODEL_ce4282f069f147afb2a70a5fe8a97fa9",
       "lighting": 1.5,
       "menu_visibility": true,
       "mode": "view",
       "name": null,
       "object_ids": [
        4928741824,
        4554324960
       ],
       "rendering_steps": 1,
       "screenshot": "",
       "screenshot_scale": 2,
       "snapshot": "",
       "time": 0,
       "voxel_paint_color": 0
      }
     },
     "19f7d18fc6d041cab8db5f6837f52d9b": {
      "model_module": "@jupyter-widgets/base",
      "model_module_version": "1.2.0",
      "model_name": "LayoutModel",
      "state": {}
     },
     "1ae62c277a294fa69921ec2d034e017a": {
      "model_module": "@jupyter-widgets/base",
      "model_module_version": "1.2.0",
      "model_name": "LayoutModel",
      "state": {}
     },
     "1af97198b37b431ca4a8b6cb30326ce4": {
      "model_module": "k3d",
      "model_module_version": "2.7.4",
      "model_name": "PlotModel",
      "state": {
       "_backend_version": "2.7.4",
       "_dom_classes": [],
       "_view_count": null,
       "antialias": 3,
       "auto_rendering": true,
       "axes": [
        "x (nm)",
        "y (nm)",
        "z (nm)"
       ],
       "axes_helper": 1,
       "background_color": 16777215,
       "camera": [
        13.351749844201674,
        -12.027624766302514,
        1.3351749844201761,
        5,
        0.5,
        0.5,
        0,
        0,
        1
       ],
       "camera_animation": [],
       "camera_auto_fit": true,
       "camera_fov": 60,
       "camera_no_pan": false,
       "camera_no_rotate": false,
       "camera_no_zoom": false,
       "clipping_planes": [],
       "colorbar_object_id": -1,
       "fps": 25,
       "fps_meter": false,
       "grid": [
        -1,
        -1,
        -1,
        1,
        1,
        1
       ],
       "grid_auto_fit": true,
       "grid_visible": true,
       "height": 512,
       "layout": "IPY_MODEL_a8170656ecf04d7a967012bbcb70f04b",
       "lighting": 1.5,
       "menu_visibility": true,
       "mode": "view",
       "name": null,
       "object_ids": [
        4554419984,
        4565868208
       ],
       "rendering_steps": 1,
       "screenshot": "",
       "screenshot_scale": 2,
       "snapshot": "",
       "time": 0,
       "voxel_paint_color": 0
      }
     },
     "1bd3ef74cdea4a83b8ba7097316cb2ab": {
      "model_module": "@jupyter-widgets/base",
      "model_module_version": "1.2.0",
      "model_name": "LayoutModel",
      "state": {}
     },
     "1bffb04c589d49bdba9052c31836b05c": {
      "buffers": [
       {
        "data": "eNoDAAAAAAE=",
        "encoding": "base64",
        "path": [
         "colors",
         "compressed_buffer"
        ]
       },
       {
        "data": "eNpjYGiwZ8AAxIsBAF7EAv0=",
        "encoding": "base64",
        "path": [
         "model_matrix",
         "compressed_buffer"
        ]
       },
       {
        "data": "eNoDAAAAAAE=",
        "encoding": "base64",
        "path": [
         "opacities",
         "compressed_buffer"
        ]
       },
       {
        "data": "eNpjYGCwZ4DjA0hsBQcYm5EhwQEhPgGJvQFJzQUk8Q9IbA5HBFsCzgYAxoYLzw==",
        "encoding": "base64",
        "path": [
         "positions",
         "compressed_buffer"
        ]
       }
      ],
      "model_module": "k3d",
      "model_module_version": "2.7.4",
      "model_name": "ObjectModel",
      "state": {
       "_view_count": null,
       "_view_module": null,
       "_view_module_version": "",
       "_view_name": null,
       "color": 5010096,
       "colorLegend": false,
       "colors": {
        "dtype": "uint32",
        "shape": [
         0
        ]
       },
       "compression_level": 0,
       "id": 4755742624,
       "mesh_detail": 2,
       "model_matrix": {
        "dtype": "float32",
        "shape": [
         4,
         4
        ]
       },
       "name": "Points #1",
       "opacities": {
        "dtype": "float32",
        "shape": [
         0
        ]
       },
       "opacity": 1,
       "point_size": 0.25,
       "positions": {
        "dtype": "float32",
        "shape": [
         10,
         3
        ]
       },
       "shader": "3dSpecular",
       "type": "Points",
       "visible": true
      }
     },
     "1c1702cd8be349fd94de9d624e24b415": {
      "buffers": [
       {
        "data": "eNoLarnLEERFDABnGyH9",
        "encoding": "base64",
        "path": [
         "colors",
         "compressed_buffer"
        ]
       },
       {
        "data": "eNpjYGiwZ8AAxIsBAF7EAv0=",
        "encoding": "base64",
        "path": [
         "model_matrix",
         "compressed_buffer"
        ]
       },
       {
        "data": "eNpjYGCw//v/vx0DQ4M9BDPY/wPzFRwYgWyIWILDf7AYCDQ4MIDFQXiDA0SMwZ6R4QGS+AcoG6SXwxGmhoFBwhEmDgBgvxXD",
        "encoding": "base64",
        "path": [
         "origins",
         "compressed_buffer"
        ]
       },
       {
        "data": "eNo7wKltpNStacLA0LAfiO1/L2fYnL/9sLFHrYfRi1VLNoPEkwxXm5isXm8MkgdhtbQZ6yMfr9Q7FaRjBOLrfy4D0fvXCL9aq2zwzHC52vH1grdMDEBiHhO3GILUiBarGckfaTIw+XgBrBYAiMIsyQ==",
        "encoding": "base64",
        "path": [
         "vectors",
         "compressed_buffer"
        ]
       }
      ],
      "model_module": "k3d",
      "model_module_version": "2.7.4",
      "model_name": "ObjectModel",
      "state": {
       "_view_count": null,
       "_view_module": null,
       "_view_module_version": "",
       "_view_name": null,
       "colorLegend": false,
       "colors": {
        "dtype": "uint32",
        "shape": [
         10,
         2
        ]
       },
       "compression_level": 0,
       "head_color": 255,
       "head_size": 3,
       "id": 4757559616,
       "label_size": 1,
       "labels": [],
       "line_width": 0.01,
       "model_matrix": {
        "dtype": "float32",
        "shape": [
         4,
         4
        ]
       },
       "name": "Vectors #1",
       "origin_color": 255,
       "origins": {
        "dtype": "float32",
        "shape": [
         10,
         3
        ]
       },
       "type": "Vectors",
       "use_head": true,
       "vectors": {
        "dtype": "float32",
        "shape": [
         10,
         3
        ]
       },
       "visible": true
      }
     },
     "1c2f7ea73cc74478889866f66030363c": {
      "buffers": [
       {
        "data": "eNrL0WNgyAHiYFUI9lOC4FhNCC4wFQLjHC8bMM5LigPjirp6MC6ZvQSM07cfB+Og80/B2OrBTzC2ePEPjM0e/QFjv8svwTh591kwLl6wCowrm1rBuCAtGYxzfB3BGADIcDc5",
        "encoding": "base64",
        "path": [
         "colors",
         "compressed_buffer"
        ]
       },
       {
        "data": "eNpjYGiwZ8AAxIsBAF7EAv0=",
        "encoding": "base64",
        "path": [
         "model_matrix",
         "compressed_buffer"
        ]
       },
       {
        "data": "eNpjYGiwi5qhYL9P0tyegcHBPmw6n/26UDsge4F9Wt03uzPX7e0ZGR7Yr1l7wW5BjTVQXMBhl+l6u1mrDIFsA4dpmlPtVnooA9UEOBx+22LHtFIQKF7gwAA0V/nKHzsGhg4HoyttdtcWXAOyZzgcPTnDLt1qC5C9wgFEg/gMDDscQPIgdYwMJxwg+hqA7BsOIPNA5jIyvHAA2QOyj4HhhwPIfpA7GBhYHEHuArmPgYHHEeRekLsZGEQcQf4A+YeBQcYR5D+QPwFZjlPZ",
        "encoding": "base64",
        "path": [
         "origins",
         "compressed_buffer"
        ]
       },
       {
        "data": "eNpjYGBgyEps2vcr7c4+IJMhovTl3h1hP8HsJZIStvrx/8HsIE9bu4ZPb8Hs3ikL7TJXHQOzr665ardYqRfMrlL5ZsfjwQtmA4F93HcvGxBjdvgnu1U1qnYgdlnOOTuj7ulgNogG8UFskDxIHYgN1WcPYoPMA5kLYoPsAdkHYoPsB7kDxAa5C+Q+EBvkXpC7QWyQP0D+AbFB/gP5EwBT5k59",
        "encoding": "base64",
        "path": [
         "vectors",
         "compressed_buffer"
        ]
       }
      ],
      "model_module": "k3d",
      "model_module_version": "2.7.4",
      "model_name": "ObjectModel",
      "state": {
       "_view_count": null,
       "_view_module": null,
       "_view_module_version": "",
       "_view_name": null,
       "colorLegend": false,
       "colors": {
        "dtype": "uint32",
        "shape": [
         20,
         2
        ]
       },
       "compression_level": 0,
       "head_color": 255,
       "head_size": 1,
       "id": 4938310608,
       "label_size": 1,
       "labels": [],
       "line_width": 0.01,
       "model_matrix": {
        "dtype": "float32",
        "shape": [
         4,
         4
        ]
       },
       "name": "Vectors #1",
       "origin_color": 255,
       "origins": {
        "dtype": "float32",
        "shape": [
         20,
         3
        ]
       },
       "type": "Vectors",
       "use_head": true,
       "vectors": {
        "dtype": "float32",
        "shape": [
         20,
         3
        ]
       },
       "visible": true
      }
     },
     "1c69a5ddc7394b80978373bbcb722add": {
      "model_module": "k3d",
      "model_module_version": "2.7.4",
      "model_name": "PlotModel",
      "state": {
       "_backend_version": "2.7.4",
       "_dom_classes": [],
       "_view_count": null,
       "antialias": 3,
       "auto_rendering": true,
       "axes": [
        "x (nm)",
        "y (nm)",
        "z (nm)"
       ],
       "axes_helper": 1,
       "background_color": 16777215,
       "camera": [
        26.689844360988584,
        0.8054326271661256,
        4.293324396539658,
        10,
        0.5,
        0.5,
        -0.16788954218091068,
        0.10633731969227958,
        0.9800538128424165
       ],
       "camera_animation": [],
       "camera_auto_fit": true,
       "camera_fov": 60,
       "camera_no_pan": false,
       "camera_no_rotate": false,
       "camera_no_zoom": false,
       "clipping_planes": [],
       "colorbar_object_id": -1,
       "fps": 25,
       "fps_meter": false,
       "grid": [
        -1,
        -1,
        -1,
        1,
        1,
        1
       ],
       "grid_auto_fit": true,
       "grid_visible": true,
       "height": 512,
       "layout": "IPY_MODEL_d858804ed13c4cb58bb7da7db5903df6",
       "lighting": 1.5,
       "menu_visibility": true,
       "mode": "view",
       "name": null,
       "object_ids": [
        4937001184,
        4937028224
       ],
       "rendering_steps": 1,
       "screenshot": "",
       "screenshot_scale": 2,
       "snapshot": "",
       "time": 0,
       "voxel_paint_color": 0
      }
     },
     "1ca95ef8536445d4b7d272df78882ccc": {
      "buffers": [
       {
        "data": "eNoLarnLEERFDABnGyH9",
        "encoding": "base64",
        "path": [
         "colors",
         "compressed_buffer"
        ]
       },
       {
        "data": "eNpjYGiwZ8AAxIsBAF7EAv0=",
        "encoding": "base64",
        "path": [
         "model_matrix",
         "compressed_buffer"
        ]
       },
       {
        "data": "eNpjYGAwYWBgsAdiBkaGBnsYGwgcEOIOMLYxA0MDEnsBlH3AmJHhAJzNwPAApgZktiOCLQBnAwBx0Qtn",
        "encoding": "base64",
        "path": [
         "origins",
         "compressed_buffer"
        ]
       },
       {
        "data": "eNr787/engEMGuz/4GD/hbL/A2lk9n8o+y8aG6QHxP6Dhw0AJSQqqQ==",
        "encoding": "base64",
        "path": [
         "vectors",
         "compressed_buffer"
        ]
       }
      ],
      "model_module": "k3d",
      "model_module_version": "2.7.4",
      "model_name": "ObjectModel",
      "state": {
       "_view_count": null,
       "_view_module": null,
       "_view_module_version": "",
       "_view_name": null,
       "colorLegend": false,
       "colors": {
        "dtype": "uint32",
        "shape": [
         10,
         2
        ]
       },
       "compression_level": 0,
       "head_color": 255,
       "head_size": 3,
       "id": 4926619856,
       "label_size": 1,
       "labels": [],
       "line_width": 0.01,
       "model_matrix": {
        "dtype": "float32",
        "shape": [
         4,
         4
        ]
       },
       "name": "Vectors #1",
       "origin_color": 255,
       "origins": {
        "dtype": "float32",
        "shape": [
         10,
         3
        ]
       },
       "type": "Vectors",
       "use_head": true,
       "vectors": {
        "dtype": "float32",
        "shape": [
         10,
         3
        ]
       },
       "visible": true
      }
     },
     "1db9463ae79441fcb26d50b814857959": {
      "buffers": [
       {
        "data": "eNrzU2Jg8APiDF0IzrPXBOOcMD8wLi4sAOOKvslgnLt6JxhHHb8Nxk63P4OxxYt/KBgmDlMH0wczB2YuzB6YvTB3+EHdBQB7nzdN",
        "encoding": "base64",
        "path": [
         "colors",
         "compressed_buffer"
        ]
       },
       {
        "data": "eNpjYGiwZ8AAxIsBAF7EAv0=",
        "encoding": "base64",
        "path": [
         "model_matrix",
         "compressed_buffer"
        ]
       },
       {
        "data": "eNqL/yNvz8TAYG+zuMa+6e1DMHtXSK59Y7yFAyOQ7fI72F6uuxbM/vrKyJ6BYQGY7aPLa298aD+Y3Vd8xu6q4D0we7NHs91ssd8ODEC2liq3XVA3tyOI/eCRu+0/c0kwu8HR35rphBqYzeDkb72uxATMfgFUs7nEyfH///92OkC94t8DwOxtQDNfyCWA2ROBdjEwFDj+A7J9gW6Y49cAZn8Duk3gS4fjXyDbDehmjYcTwezdQL/IMswGs0F+BAA00lvv",
        "encoding": "base64",
        "path": [
         "origins",
         "compressed_buffer"
        ]
       },
       {
        "data": "eNoB8AAP//bif74NFFy0d0Z5vwe2B7+mXka0dalavwb8Qr/79ya0ifYnv+dYbL/z2BG006vLvgAAgL/z4vezwdTSvSwjfL/yRr+zxzFOPkIdYb+tLZazmm75PrVpMb9lH3Oza206P3bU4r4hB82ypANnPxD/G766PwCxfWF+Pxv/Gz7bnwcxfGF+P3vU4j6k4M0yowNnP7dpMT+ViHMzam06P0MdYT85YJYzlW75Pi0jfD+Rab8zvDFOPgAAgD/N7vcz1tTSveZYbD+x1xE02avLvgX8Qj8a8SY0i/YnvwW2Bz9qUEY0dqlav+zifz7V/1s0eEZ5v1rVdaM=",
        "encoding": "base64",
        "path": [
         "vectors",
         "compressed_buffer"
        ]
       }
      ],
      "model_module": "k3d",
      "model_module_version": "2.7.4",
      "model_name": "ObjectModel",
      "state": {
       "_view_count": null,
       "_view_module": null,
       "_view_module_version": "",
       "_view_name": null,
       "colors": {
        "dtype": "uint32",
        "shape": [
         20,
         2
        ]
       },
       "compression_level": 0,
       "head_color": 255,
       "head_size": 1,
       "id": 4928788128,
       "label_size": 1,
       "labels": [],
       "line_width": 0.01,
       "model_matrix": {
        "dtype": "float32",
        "shape": [
         4,
         4
        ]
       },
       "name": "Vectors #1",
       "origin_color": 255,
       "origins": {
        "dtype": "float32",
        "shape": [
         20,
         3
        ]
       },
       "type": "Vectors",
       "use_head": true,
       "vectors": {
        "dtype": "float32",
        "shape": [
         20,
         3
        ]
       },
       "visible": true
      }
     },
     "1df2f054226342c88c06e4171f6c5f73": {
      "model_module": "k3d",
      "model_module_version": "2.7.4",
      "model_name": "PlotModel",
      "state": {
       "_backend_version": "2.7.4",
       "_dom_classes": [],
       "_view_count": null,
       "antialias": 3,
       "auto_rendering": true,
       "axes": [
        "x (nm)",
        "y (nm)",
        "z (nm)"
       ],
       "axes_helper": 1,
       "background_color": 16777215,
       "camera": [
        15.515809374725412,
        -15.273714062088116,
        1.551580937472557,
        5,
        0.5,
        0.5,
        0,
        0,
        1
       ],
       "camera_animation": [],
       "camera_auto_fit": true,
       "camera_fov": 60,
       "camera_no_pan": false,
       "camera_no_rotate": false,
       "camera_no_zoom": false,
       "clipping_planes": [],
       "colorbar_object_id": -1,
       "fps": 25,
       "fps_meter": false,
       "grid": [
        -1,
        -1,
        -1,
        1,
        1,
        1
       ],
       "grid_auto_fit": true,
       "grid_visible": true,
       "height": 512,
       "layout": "IPY_MODEL_18a40f97d5b74b20a233d87622665b86",
       "lighting": 1.5,
       "menu_visibility": true,
       "mode": "view",
       "name": null,
       "object_ids": [
        4925687840,
        4925028960
       ],
       "rendering_steps": 1,
       "screenshot": "",
       "screenshot_scale": 2,
       "snapshot": "",
       "time": 0,
       "voxel_paint_color": 0
      }
     },
     "1e489a64abb947bca22b9ee1e766ea4f": {
      "buffers": [
       {
        "data": "eNolw2dslWUYgOHbHyb8MDExxhhjjAqCgIDQQSmlpaUtXXSP073X6fuNs7/D3puy9yqjQNl7j7KLbMqQPQREjTuuqI3PiVdypX4MaZ0howtkfQLZMrcr2LpB/qdQKIu7Q2kPKJcVPaHqM6iRdb3A3huU1PqA8TmYgX3BEdjvNRxBr2MGdcIMfgMz5E35Fmbo25j938Ho/y5G2HsYA97HCP9Afog+8CP0iM6yC/qgruiR3dCjuqNF9UAb3BMtupfsjRbTB21IX9kPLTYIFRcsQ1DxoaihYaiEATIclTgQlRQhB6GSI1EpUXIwalg0KjVGDkGlxaLS41AZ8XIoKjMBlZUok1DZyaicFDkMlZuKykuT6Wi2DLT8TLSCLJmNVpiDVhSYi1ach1ZiQy/JRy8tQC8rRC8vksXoFSUYlYGlGFVlGNXlsgKzphKztgqzrvr/9TU47LWyDkdDPQ5lx6k1SIVTl4aGy9BxmQYuh4nb6ZBO3C4nHrdLuvF4PHi9Xrw+H75Ay8Ln92MNHy5HYI0YiTVylByNNUqOHoM1Zqwch3/sePzjJuAfP1FOwj9hMtbEKViTpsppWJOnY02ZgTV1ppyFNa0Ra/psrBlz5FysmfOwZsnG+fgaF+CbvRDfnEX45i7GN2+JXIp3/jK8C5bjXbhCrsS7aBWexavxLGnCs3SNXIt72Trcy9fjXtEsN+BauRHXqk24VrfgatqMs2kLzjVbca7dhmPddhzrd+Bo3onZvAtzwx6MjXsxNu3DaNmP3nIAffNBtC2H0LYeRtt2BLX9qDxGw47jNOw8gX1XK/bdJ6nfc0qepm7vGer2naV2/zlqD5yn5mAb1YcuyItUHb5E5ZHLVB69QsWxq1Qcv0b5ieuUtd6gtLWd0pM3KTl1i+LTtyk6c4eis3cpPHePgvP3yW97gK3tIbYLj8j74jG5F5+Qc+kp2ZefkXXlOZlXX5Bx7SXp178m7cYrUtu/IaX9W5JvfkfSre9JvP0DCXd+JP7Ln4i7+zOx934h5v6vRD/4jaiHvxP56A8iHv9J+JO/CHv6N6HP/iH4q38Jft5ByIsOQl92EPaqg/8ABrdj6Q==",
        "encoding": "base64",
        "path": [
         "color_map",
         "compressed_buffer"
        ]
       },
       {
        "data": "eNpjYDjhxIABsIktcGBgUHBAFWuwBwCGiwQU",
        "encoding": "base64",
        "path": [
         "model_matrix",
         "compressed_buffer"
        ]
       },
       {
        "data": "eNptkDEKhDAQRfUYXsMj2HoD0yop7XKENNppkzJ2KcTWEwgphKQXrEVBCDZiMeu6LCzs/PLB/Jl5nveE0DynxPtJwkohpShZ8iVRxpt+GMehb3gWfRAtWj1vzm2zbgv6wKzo7HrBnWu1XZG9u3hrdziXaVpO2G3L707W6BUOo6pKmQNW3TCPlP18naZO4zitzXnNfUmoGDZYVBoGQZiqBbZB0FyODqYqDnw/iKsJ3ChzjGGz2A7sFvRm7DfUAeYKdfrn/gWBU84p",
        "encoding": "base64",
        "path": [
         "voxels",
         "compressed_buffer"
        ]
       }
      ],
      "model_module": "k3d",
      "model_module_version": "2.7.4",
      "model_name": "ObjectModel",
      "state": {
       "_view_count": null,
       "_view_module": null,
       "_view_module_version": "",
       "_view_name": null,
       "colorLegend": false,
       "color_map": {
        "dtype": "uint32",
        "shape": [
         256
        ]
       },
       "compression_level": 0,
       "id": 4931566800,
       "model_matrix": {
        "dtype": "float32",
        "shape": [
         4,
         4
        ]
       },
       "name": "Voxels #1",
       "opacity": 1,
       "outlines": false,
       "outlines_color": 0,
       "type": "Voxels",
       "visible": true,
       "voxels": {
        "dtype": "uint8",
        "shape": [
         1,
         20,
         20
        ]
       },
       "wireframe": false
      }
     },
     "1f3fca79a82443158584cb8ad488fe3a": {
      "model_module": "k3d",
      "model_module_version": "2.7.4",
      "model_name": "PlotModel",
      "state": {
       "_backend_version": "2.7.4",
       "_dom_classes": [],
       "_view_count": null,
       "antialias": 3,
       "auto_rendering": true,
       "axes": [
        "x (nm)",
        "y (nm)",
        "z (nm)"
       ],
       "axes_helper": 1,
       "background_color": 16777215,
       "camera": [
        13.351749827250202,
        -12.027624747197345,
        1.3351749831465018,
        4.999999995785306,
        0.5,
        0.5,
        0,
        0,
        1
       ],
       "camera_animation": [],
       "camera_auto_fit": true,
       "camera_fov": 60,
       "camera_no_pan": false,
       "camera_no_rotate": false,
       "camera_no_zoom": false,
       "clipping_planes": [],
       "colorbar_object_id": -1,
       "fps": 25,
       "fps_meter": false,
       "grid": [
        -1,
        -1,
        -1,
        1,
        1,
        1
       ],
       "grid_auto_fit": true,
       "grid_visible": true,
       "height": 512,
       "layout": "IPY_MODEL_f197236e5f3e4a19aad44292048d36fb",
       "lighting": 1.5,
       "menu_visibility": true,
       "mode": "view",
       "name": null,
       "object_ids": [
        4931563632,
        4932544544
       ],
       "rendering_steps": 1,
       "screenshot": "",
       "screenshot_scale": 2,
       "snapshot": "",
       "time": 0,
       "voxel_paint_color": 0
      }
     },
     "201d7212ec7849a1bd6dc3ebdc9d6ef1": {
      "model_module": "@jupyter-widgets/base",
      "model_module_version": "1.2.0",
      "model_name": "LayoutModel",
      "state": {}
     },
     "222cb3e991ad4511afddc221fd130b18": {
      "buffers": [
       {
        "data": "eNoDAAAAAAE=",
        "encoding": "base64",
        "path": [
         "colors",
         "compressed_buffer"
        ]
       },
       {
        "data": "eNpjYGiwZ8AAxIsBAF7EAv0=",
        "encoding": "base64",
        "path": [
         "model_matrix",
         "compressed_buffer"
        ]
       },
       {
        "data": "eNoDAAAAAAE=",
        "encoding": "base64",
        "path": [
         "opacities",
         "compressed_buffer"
        ]
       },
       {
        "data": "eNpjYGCwZ4DjA0hsBQcYm5EhwQEhPgGJvQFJzQUk8Q9IbA5HBFsCzgYAxoYLzw==",
        "encoding": "base64",
        "path": [
         "positions",
         "compressed_buffer"
        ]
       }
      ],
      "model_module": "k3d",
      "model_module_version": "2.7.4",
      "model_name": "ObjectModel",
      "state": {
       "_view_count": null,
       "_view_module": null,
       "_view_module_version": "",
       "_view_name": null,
       "color": 5010096,
       "colorLegend": false,
       "colors": {
        "dtype": "uint32",
        "shape": [
         0
        ]
       },
       "compression_level": 0,
       "id": 4886729008,
       "mesh_detail": 2,
       "model_matrix": {
        "dtype": "float32",
        "shape": [
         4,
         4
        ]
       },
       "name": "Points #1",
       "opacities": {
        "dtype": "float32",
        "shape": [
         0
        ]
       },
       "opacity": 1,
       "point_size": 0.25,
       "positions": {
        "dtype": "float32",
        "shape": [
         10,
         3
        ]
       },
       "shader": "3dSpecular",
       "type": "Points",
       "visible": true
      }
     },
     "231b14e90f1c4788a5a70e494a4d8893": {
      "buffers": [
       {
        "data": "eNoDAAAAAAE=",
        "encoding": "base64",
        "path": [
         "colors",
         "compressed_buffer"
        ]
       },
       {
        "data": "eNpjYGiwZ8AAxIsBAF7EAv0=",
        "encoding": "base64",
        "path": [
         "model_matrix",
         "compressed_buffer"
        ]
       },
       {
        "data": "eNoDAAAAAAE=",
        "encoding": "base64",
        "path": [
         "opacities",
         "compressed_buffer"
        ]
       },
       {
        "data": "eNpjYGCwZ4DjA0hsBQcYm5EhwQEhPgGJvQFJzQUk8Q9IbA5HBFsCzgYAxoYLzw==",
        "encoding": "base64",
        "path": [
         "positions",
         "compressed_buffer"
        ]
       }
      ],
      "model_module": "k3d",
      "model_module_version": "2.7.4",
      "model_name": "ObjectModel",
      "state": {
       "_view_count": null,
       "_view_module": null,
       "_view_module_version": "",
       "_view_name": null,
       "color": 5010096,
       "colorLegend": false,
       "colors": {
        "dtype": "uint32",
        "shape": [
         0
        ]
       },
       "compression_level": 0,
       "id": 4952766640,
       "mesh_detail": 2,
       "model_matrix": {
        "dtype": "float32",
        "shape": [
         4,
         4
        ]
       },
       "name": "Points #1",
       "opacities": {
        "dtype": "float32",
        "shape": [
         0
        ]
       },
       "opacity": 1,
       "point_size": 0.25,
       "positions": {
        "dtype": "float32",
        "shape": [
         10,
         3
        ]
       },
       "shader": "3dSpecular",
       "type": "Points",
       "visible": true
      }
     },
     "2377300343f94c59b755460883c6d469": {
      "buffers": [
       {
        "data": "eNoDAAAAAAE=",
        "encoding": "base64",
        "path": [
         "colors",
         "compressed_buffer"
        ]
       },
       {
        "data": "eNpjYGiwZ8AAxIsBAF7EAv0=",
        "encoding": "base64",
        "path": [
         "model_matrix",
         "compressed_buffer"
        ]
       },
       {
        "data": "eNoDAAAAAAE=",
        "encoding": "base64",
        "path": [
         "opacities",
         "compressed_buffer"
        ]
       },
       {
        "data": "eNpjYGCwZ4DjA0hsBQcYm5EhwQEhPgGJvQFJzQUk8Q9IbA5HBFsCia2BxLZwRJjjgcSOQGJnIKmvQGK3ILF7kNhTkNhz4GwA3oQXaA==",
        "encoding": "base64",
        "path": [
         "positions",
         "compressed_buffer"
        ]
       }
      ],
      "model_module": "k3d",
      "model_module_version": "2.7.4",
      "model_name": "ObjectModel",
      "state": {
       "_view_count": null,
       "_view_module": null,
       "_view_module_version": "",
       "_view_name": null,
       "color": 5010096,
       "colors": {
        "dtype": "uint32",
        "shape": [
         0
        ]
       },
       "compression_level": 0,
       "id": 4928470944,
       "mesh_detail": 2,
       "model_matrix": {
        "dtype": "float32",
        "shape": [
         4,
         4
        ]
       },
       "name": "Points #1",
       "opacities": {
        "dtype": "float32",
        "shape": [
         0
        ]
       },
       "opacity": 1,
       "point_size": 0.25,
       "positions": {
        "dtype": "float32",
        "shape": [
         20,
         3
        ]
       },
       "shader": "3dSpecular",
       "type": "Points",
       "visible": true
      }
     },
     "240d86ae49f54171a7c36c57f2ab62c1": {
      "model_module": "@jupyter-widgets/output",
      "model_module_version": "1.0.0",
      "model_name": "OutputModel",
      "state": {
       "layout": "IPY_MODEL_d3b7fe21b9144688b8fcd0144c18f248",
       "outputs": [
        {
         "data": {
          "application/vnd.jupyter.widget-view+json": {
           "model_id": "c2fb1f5da68f433796d68600a825706f",
           "version_major": 2,
           "version_minor": 0
          },
          "text/plain": "Plot(antialias=3, axes=['x', 'y', 'z'], axes_helper=1.0, background_color=16777215, camera=[2, -3, 0.2, 0.0, 0…"
         },
         "metadata": {},
         "output_type": "display_data"
        }
       ]
      }
     },
     "241de6b477344326976b0725b577d3ee": {
      "model_module": "@jupyter-widgets/output",
      "model_module_version": "1.0.0",
      "model_name": "OutputModel",
      "state": {
       "layout": "IPY_MODEL_5140163e458746acadd0dc2fb8f72a8e",
       "outputs": [
        {
         "data": {
          "application/vnd.jupyter.widget-view+json": {
           "model_id": "79d22375f5074a7c9cbd529c41c5252e",
           "version_major": 2,
           "version_minor": 0
          },
          "text/plain": "Plot(antialias=3, axes=['x', 'y', 'z'], axes_helper=1.0, background_color=16777215, camera=[2, -3, 0.2, 0.0, 0…"
         },
         "metadata": {},
         "output_type": "display_data"
        }
       ]
      }
     },
     "2553c7ce1fe041fba30c8861de546a8c": {
      "model_module": "@jupyter-widgets/output",
      "model_module_version": "1.0.0",
      "model_name": "OutputModel",
      "state": {
       "layout": "IPY_MODEL_c39f7a8dbb0447ef9c2fea602c2c0368",
       "outputs": [
        {
         "data": {
          "application/vnd.jupyter.widget-view+json": {
           "model_id": "db31b9c4dccc43789a25cb772bf5c922",
           "version_major": 2,
           "version_minor": 0
          },
          "text/plain": "Plot(antialias=3, axes=['x', 'y', 'z'], axes_helper=1.0, background_color=16777215, camera=[2, -3, 0.2, 0.0, 0…"
         },
         "metadata": {},
         "output_type": "display_data"
        }
       ]
      }
     },
     "25691b1cadcb4c1cb80d6069d9c5c5db": {
      "model_module": "@jupyter-widgets/base",
      "model_module_version": "1.2.0",
      "model_name": "LayoutModel",
      "state": {}
     },
     "257175a350844a94afec007d0d920791": {
      "model_module": "@jupyter-widgets/base",
      "model_module_version": "1.2.0",
      "model_name": "LayoutModel",
      "state": {}
     },
     "25aa17e349134c4fac1fc57ef0e97a48": {
      "model_module": "@jupyter-widgets/output",
      "model_module_version": "1.0.0",
      "model_name": "OutputModel",
      "state": {
       "layout": "IPY_MODEL_c25aebac211e4f718f835c50cdbdf199",
       "outputs": [
        {
         "data": {
          "application/vnd.jupyter.widget-view+json": {
           "model_id": "693cafa560944204b96b44f28622d9e6",
           "version_major": 2,
           "version_minor": 0
          },
          "text/plain": "Plot(antialias=3, axes=['x', 'y', 'z'], axes_helper=1.0, background_color=16777215, camera=[2, -3, 0.2, 0.0, 0…"
         },
         "metadata": {},
         "output_type": "display_data"
        }
       ]
      }
     },
     "25b6dd4f83954b1c835c87977ae525bd": {
      "model_module": "k3d",
      "model_module_version": "2.7.4",
      "model_name": "PlotModel",
      "state": {
       "_backend_version": "2.7.4",
       "_dom_classes": [],
       "_view_count": null,
       "antialias": 3,
       "auto_rendering": true,
       "axes": [
        "x (nm)",
        "y (nm)",
        "z (nm)"
       ],
       "axes_helper": 1,
       "background_color": 16777215,
       "camera": [
        13.349166924992018,
        -12.023750283179899,
        1.334916701439906,
        5.000000059604645,
        0.5000000149011612,
        0.5000000149011612,
        0,
        0,
        1
       ],
       "camera_animation": [],
       "camera_auto_fit": true,
       "camera_fov": 60,
       "camera_no_pan": false,
       "camera_no_rotate": false,
       "camera_no_zoom": false,
       "clipping_planes": [],
       "colorbar_object_id": -1,
       "fps": 25,
       "fps_meter": false,
       "grid": [
        -1,
        -1,
        -1,
        1,
        1,
        1
       ],
       "grid_auto_fit": true,
       "grid_visible": true,
       "height": 512,
       "layout": "IPY_MODEL_46c0b72011d64f77b70f37da749bb4be",
       "lighting": 1.5,
       "menu_visibility": true,
       "mode": "view",
       "name": null,
       "object_ids": [
        4930397712,
        4930273088
       ],
       "rendering_steps": 1,
       "screenshot": "",
       "screenshot_scale": 2,
       "snapshot": "",
       "time": 0,
       "voxel_paint_color": 0
      }
     },
     "25d3cbdad6cd4184b749e65ae7c45ada": {
      "model_module": "@jupyter-widgets/output",
      "model_module_version": "1.0.0",
      "model_name": "OutputModel",
      "state": {
       "layout": "IPY_MODEL_17eb16eb6bf34d92b134f18a834c3954",
       "outputs": [
        {
         "data": {
          "application/vnd.jupyter.widget-view+json": {
           "model_id": "d081f2dab09441808064153c792054d1",
           "version_major": 2,
           "version_minor": 0
          },
          "text/plain": "Plot(antialias=3, axes=['x', 'y', 'z'], axes_helper=1.0, background_color=16777215, camera=[2, -3, 0.2, 0.0, 0…"
         },
         "metadata": {},
         "output_type": "display_data"
        }
       ]
      }
     },
     "26041ef2332c48268a0610561eed6b59": {
      "model_module": "@jupyter-widgets/base",
      "model_module_version": "1.2.0",
      "model_name": "LayoutModel",
      "state": {}
     },
     "2677bc9852ef4a82aaa41802c83a5f45": {
      "model_module": "@jupyter-widgets/base",
      "model_module_version": "1.2.0",
      "model_name": "LayoutModel",
      "state": {}
     },
     "267cd818b10c4ba9b049c050b40557ae": {
      "buffers": [
       {
        "data": "eNoDAAAAAAE=",
        "encoding": "base64",
        "path": [
         "colors",
         "compressed_buffer"
        ]
       },
       {
        "data": "eNpjYGiwZ8AAxIsBAF7EAv0=",
        "encoding": "base64",
        "path": [
         "model_matrix",
         "compressed_buffer"
        ]
       },
       {
        "data": "eNoDAAAAAAE=",
        "encoding": "base64",
        "path": [
         "opacities",
         "compressed_buffer"
        ]
       },
       {
        "data": "eNpjYGCwZ4DjA0hsBQcYm5EhwQEhPgGJvQFJzQUk8Q9IbA5HBFsCzgYAxoYLzw==",
        "encoding": "base64",
        "path": [
         "positions",
         "compressed_buffer"
        ]
       }
      ],
      "model_module": "k3d",
      "model_module_version": "2.7.4",
      "model_name": "ObjectModel",
      "state": {
       "_view_count": null,
       "_view_module": null,
       "_view_module_version": "",
       "_view_name": null,
       "color": 5010096,
       "colorLegend": false,
       "colors": {
        "dtype": "uint32",
        "shape": [
         0
        ]
       },
       "compression_level": 0,
       "id": 4886718208,
       "mesh_detail": 2,
       "model_matrix": {
        "dtype": "float32",
        "shape": [
         4,
         4
        ]
       },
       "name": "Points #1",
       "opacities": {
        "dtype": "float32",
        "shape": [
         0
        ]
       },
       "opacity": 1,
       "point_size": 0.25,
       "positions": {
        "dtype": "float32",
        "shape": [
         10,
         3
        ]
       },
       "shader": "3dSpecular",
       "type": "Points",
       "visible": true
      }
     },
     "278163d39e22424481b4db0beb32042d": {
      "buffers": [
       {
        "data": "eNoLarnLEERFDABnGyH9",
        "encoding": "base64",
        "path": [
         "colors",
         "compressed_buffer"
        ]
       },
       {
        "data": "eNpjYGiwZ8AAxIsBAF7EAv0=",
        "encoding": "base64",
        "path": [
         "model_matrix",
         "compressed_buffer"
        ]
       },
       {
        "data": "eNpjYGCwZ4BgIDiAxFZwgLEZGRIcEOITkNgLYGx7RoYDcDYDwwMkNoMjgi0AZwMAVE8KVA==",
        "encoding": "base64",
        "path": [
         "origins",
         "compressed_buffer"
        ]
       },
       {
        "data": "eNpjYICBBnsGktnk6IEAAL25B3c=",
        "encoding": "base64",
        "path": [
         "vectors",
         "compressed_buffer"
        ]
       }
      ],
      "model_module": "k3d",
      "model_module_version": "2.7.4",
      "model_name": "ObjectModel",
      "state": {
       "_view_count": null,
       "_view_module": null,
       "_view_module_version": "",
       "_view_name": null,
       "colorLegend": false,
       "colors": {
        "dtype": "uint32",
        "shape": [
         10,
         2
        ]
       },
       "compression_level": 0,
       "head_color": 255,
       "head_size": 3,
       "id": 4937002912,
       "label_size": 1,
       "labels": [],
       "line_width": 0.01,
       "model_matrix": {
        "dtype": "float32",
        "shape": [
         4,
         4
        ]
       },
       "name": "Vectors #1",
       "origin_color": 255,
       "origins": {
        "dtype": "float32",
        "shape": [
         10,
         3
        ]
       },
       "type": "Vectors",
       "use_head": true,
       "vectors": {
        "dtype": "float32",
        "shape": [
         10,
         3
        ]
       },
       "visible": true
      }
     },
     "27a7044a3c2d410ebaac24c92979677c": {
      "model_module": "k3d",
      "model_module_version": "2.7.4",
      "model_name": "PlotModel",
      "state": {
       "_backend_version": "2.7.4",
       "_dom_classes": [],
       "_view_count": null,
       "antialias": 3,
       "auto_rendering": true,
       "axes": [
        "x (nm)",
        "y (nm)",
        "z (nm)"
       ],
       "axes_helper": 1,
       "background_color": 16777215,
       "camera": [
        12.773946283633382,
        -11.16091942966476,
        1.277394624148652,
        5,
        0.49999999578531495,
        0.49999999578531495,
        0,
        0,
        1
       ],
       "camera_animation": [],
       "camera_auto_fit": true,
       "camera_fov": 60,
       "camera_no_pan": false,
       "camera_no_rotate": false,
       "camera_no_zoom": false,
       "clipping_planes": [],
       "colorbar_object_id": -1,
       "fps": 25,
       "fps_meter": false,
       "grid": [
        -1,
        -1,
        -1,
        1,
        1,
        1
       ],
       "grid_auto_fit": true,
       "grid_visible": true,
       "height": 512,
       "layout": "IPY_MODEL_aeaebe56b2ed4daf90b5d0172eb558b3",
       "lighting": 1.5,
       "menu_visibility": true,
       "mode": "view",
       "name": null,
       "object_ids": [
        4886760848,
        4886718208
       ],
       "rendering_steps": 1,
       "screenshot": "",
       "screenshot_scale": 2,
       "snapshot": "",
       "time": 0,
       "voxel_paint_color": 0
      }
     },
     "286f0fdbcf8c4dacb91bab348a748603": {
      "buffers": [
       {
        "data": "eNoDAAAAAAE=",
        "encoding": "base64",
        "path": [
         "colors",
         "compressed_buffer"
        ]
       },
       {
        "data": "eNpjYGiwZ8AAxIsBAF7EAv0=",
        "encoding": "base64",
        "path": [
         "model_matrix",
         "compressed_buffer"
        ]
       },
       {
        "data": "eNoDAAAAAAE=",
        "encoding": "base64",
        "path": [
         "opacities",
         "compressed_buffer"
        ]
       },
       {
        "data": "eNpjYGCwZ4DjA0hsBQcYm5EhwQEhPgGJvQFJzQUk8Q9IbA5HBFsCzgYAxoYLzw==",
        "encoding": "base64",
        "path": [
         "positions",
         "compressed_buffer"
        ]
       }
      ],
      "model_module": "k3d",
      "model_module_version": "2.7.4",
      "model_name": "ObjectModel",
      "state": {
       "_view_count": null,
       "_view_module": null,
       "_view_module_version": "",
       "_view_name": null,
       "color": 5010096,
       "colorLegend": false,
       "colors": {
        "dtype": "uint32",
        "shape": [
         0
        ]
       },
       "compression_level": 0,
       "id": 4924050304,
       "mesh_detail": 2,
       "model_matrix": {
        "dtype": "float32",
        "shape": [
         4,
         4
        ]
       },
       "name": "Points #1",
       "opacities": {
        "dtype": "float32",
        "shape": [
         0
        ]
       },
       "opacity": 1,
       "point_size": 0.25,
       "positions": {
        "dtype": "float32",
        "shape": [
         10,
         3
        ]
       },
       "shader": "3dSpecular",
       "type": "Points",
       "visible": true
      }
     },
     "287563ef0dd04b7483e5945d98af439e": {
      "buffers": [
       {
        "data": "eNoLarnLEERFDABnGyH9",
        "encoding": "base64",
        "path": [
         "colors",
         "compressed_buffer"
        ]
       },
       {
        "data": "eNpjYGiwZ8AAxIsBAF7EAv0=",
        "encoding": "base64",
        "path": [
         "model_matrix",
         "compressed_buffer"
        ]
       },
       {
        "data": "eNpjYGCwZ2BgMGYAgwNAdgOUr+AAYTfYMzIkOEDkQfwJDgj1G6BqGBgYGS7A1TMwfICqAbE5HCFqQXwJR5h6AG1zDpk=",
        "encoding": "base64",
        "path": [
         "origins",
         "compressed_buffer"
        ]
       },
       {
        "data": "eNpjYGBg+P+/3p6BoQGIQaBhP4QPFt8P4kPF7SF8VPVQNch6kdUg60VRDwADFSdP",
        "encoding": "base64",
        "path": [
         "vectors",
         "compressed_buffer"
        ]
       }
      ],
      "model_module": "k3d",
      "model_module_version": "2.7.4",
      "model_name": "ObjectModel",
      "state": {
       "_view_count": null,
       "_view_module": null,
       "_view_module_version": "",
       "_view_name": null,
       "colorLegend": false,
       "colors": {
        "dtype": "uint32",
        "shape": [
         10,
         2
        ]
       },
       "compression_level": 0,
       "head_color": 255,
       "head_size": 3,
       "id": 4937028272,
       "label_size": 1,
       "labels": [],
       "line_width": 0.01,
       "model_matrix": {
        "dtype": "float32",
        "shape": [
         4,
         4
        ]
       },
       "name": "Vectors #1",
       "origin_color": 255,
       "origins": {
        "dtype": "float32",
        "shape": [
         10,
         3
        ]
       },
       "type": "Vectors",
       "use_head": true,
       "vectors": {
        "dtype": "float32",
        "shape": [
         10,
         3
        ]
       },
       "visible": true
      }
     },
     "2893d450f12d44aebb13ad10688528c6": {
      "model_module": "@jupyter-widgets/output",
      "model_module_version": "1.0.0",
      "model_name": "OutputModel",
      "state": {
       "layout": "IPY_MODEL_3c3260ecf08a4a79a365a8bb513b4ca1",
       "outputs": [
        {
         "data": {
          "application/vnd.jupyter.widget-view+json": {
           "model_id": "e2761314d22e45a5b669eebcec3097fe",
           "version_major": 2,
           "version_minor": 0
          },
          "text/plain": "Plot(antialias=3, axes=['x', 'y', 'z'], axes_helper=1.0, background_color=16777215, camera=[2, -3, 0.2, 0.0, 0…"
         },
         "metadata": {},
         "output_type": "display_data"
        }
       ]
      }
     },
     "28959f0270d141d0a3d8936a4c734660": {
      "model_module": "@jupyter-widgets/output",
      "model_module_version": "1.0.0",
      "model_name": "OutputModel",
      "state": {
       "layout": "IPY_MODEL_648725a503214cf497c6fb52e8068367",
       "outputs": [
        {
         "data": {
          "application/vnd.jupyter.widget-view+json": {
           "model_id": "b92161ef9d914a0e84000b81dc58bb20",
           "version_major": 2,
           "version_minor": 0
          },
          "text/plain": "Plot(antialias=3, axes=['x', 'y', 'z'], axes_helper=1.0, background_color=16777215, camera=[2, -3, 0.2, 0.0, 0…"
         },
         "metadata": {},
         "output_type": "display_data"
        }
       ]
      }
     },
     "2918eb5c0f3d42d393d1c2ee7096c13a": {
      "model_module": "@jupyter-widgets/output",
      "model_module_version": "1.0.0",
      "model_name": "OutputModel",
      "state": {
       "layout": "IPY_MODEL_8e5561b1da5a4e618d233023a58a0f44",
       "outputs": [
        {
         "data": {
          "application/vnd.jupyter.widget-view+json": {
           "model_id": "9b06f901f1e34d11be6164967058bd94",
           "version_major": 2,
           "version_minor": 0
          },
          "text/plain": "Plot(antialias=3, axes=['x', 'y', 'z'], axes_helper=1.0, background_color=16777215, camera=[2, -3, 0.2, 0.0, 0…"
         },
         "metadata": {},
         "output_type": "display_data"
        }
       ]
      }
     },
     "29900fd317d9469f892954fbd1ff8279": {
      "model_module": "@jupyter-widgets/output",
      "model_module_version": "1.0.0",
      "model_name": "OutputModel",
      "state": {
       "layout": "IPY_MODEL_11945948556f4a7fafffff965798fdec",
       "outputs": [
        {
         "data": {
          "application/vnd.jupyter.widget-view+json": {
           "model_id": "745b406b79924e74b325b3799b61cfcf",
           "version_major": 2,
           "version_minor": 0
          },
          "text/plain": "Plot(antialias=3, axes=['x', 'y', 'z'], axes_helper=1.0, background_color=16777215, camera=[2, -3, 0.2, 0.0, 0…"
         },
         "metadata": {},
         "output_type": "display_data"
        }
       ]
      }
     },
     "29abcae9c02444a89f3040d2a43d95b2": {
      "buffers": [
       {
        "data": "eNrbUOTDENRylwEADvwDIg==",
        "encoding": "base64",
        "path": [
         "color_map",
         "compressed_buffer"
        ]
       },
       {
        "data": "eNpjYFjgyAAHClB2gz1UwB4hBxZD4kPEAIX9A/4=",
        "encoding": "base64",
        "path": [
         "model_matrix",
         "compressed_buffer"
        ]
       },
       {
        "data": "eNpjZMQATAAA5wAW",
        "encoding": "base64",
        "path": [
         "voxels",
         "compressed_buffer"
        ]
       }
      ],
      "model_module": "k3d",
      "model_module_version": "2.7.4",
      "model_name": "ObjectModel",
      "state": {
       "_view_count": null,
       "_view_module": null,
       "_view_module_version": "",
       "_view_name": null,
       "color_map": {
        "dtype": "uint32",
        "shape": [
         2
        ]
       },
       "compression_level": 0,
       "id": 4928897184,
       "model_matrix": {
        "dtype": "float32",
        "shape": [
         4,
         4
        ]
       },
       "name": "Voxels #1",
       "opacity": 1,
       "outlines": false,
       "outlines_color": 0,
       "type": "Voxels",
       "visible": true,
       "voxels": {
        "dtype": "uint8",
        "shape": [
         1,
         1,
         20
        ]
       },
       "wireframe": false
      }
     },
     "29f39ec75d294301ac2bca0bcb2c0790": {
      "model_module": "@jupyter-widgets/base",
      "model_module_version": "1.2.0",
      "model_name": "LayoutModel",
      "state": {}
     },
     "2b01bf03326941c9a34995765c07ba70": {
      "buffers": [
       {
        "data": "eNoDAAAAAAE=",
        "encoding": "base64",
        "path": [
         "colors",
         "compressed_buffer"
        ]
       },
       {
        "data": "eNpjYGiwZ8AAxIsBAF7EAv0=",
        "encoding": "base64",
        "path": [
         "model_matrix",
         "compressed_buffer"
        ]
       },
       {
        "data": "eNoDAAAAAAE=",
        "encoding": "base64",
        "path": [
         "opacities",
         "compressed_buffer"
        ]
       },
       {
        "data": "eNpjYGCwZ4DjA0hsBQcYm5EhwQEhPgGJvQFJzQUk8Q9IbA5HBFsCzgYAxoYLzw==",
        "encoding": "base64",
        "path": [
         "positions",
         "compressed_buffer"
        ]
       }
      ],
      "model_module": "k3d",
      "model_module_version": "2.7.4",
      "model_name": "ObjectModel",
      "state": {
       "_view_count": null,
       "_view_module": null,
       "_view_module_version": "",
       "_view_name": null,
       "color": 5010096,
       "colorLegend": false,
       "colors": {
        "dtype": "uint32",
        "shape": [
         0
        ]
       },
       "compression_level": 0,
       "id": 4756853568,
       "mesh_detail": 2,
       "model_matrix": {
        "dtype": "float32",
        "shape": [
         4,
         4
        ]
       },
       "name": "Points #1",
       "opacities": {
        "dtype": "float32",
        "shape": [
         0
        ]
       },
       "opacity": 1,
       "point_size": 0.25,
       "positions": {
        "dtype": "float32",
        "shape": [
         10,
         3
        ]
       },
       "shader": "3dSpecular",
       "type": "Points",
       "visible": true
      }
     },
     "2d3e9e9143b44c5ab8fd3be28525a5a9": {
      "buffers": [
       {
        "data": "eNoDAAAAAAE=",
        "encoding": "base64",
        "path": [
         "colors",
         "compressed_buffer"
        ]
       },
       {
        "data": "eNpjYGiwZ8AAxIsBAF7EAv0=",
        "encoding": "base64",
        "path": [
         "model_matrix",
         "compressed_buffer"
        ]
       },
       {
        "data": "eNoDAAAAAAE=",
        "encoding": "base64",
        "path": [
         "opacities",
         "compressed_buffer"
        ]
       },
       {
        "data": "eNpjYGCwZ4DjA0hsBQcYm5EhwQEhPgGJvQFJzQUk8Q9IbA5HBFsCzgYAxoYLzw==",
        "encoding": "base64",
        "path": [
         "positions",
         "compressed_buffer"
        ]
       }
      ],
      "model_module": "k3d",
      "model_module_version": "2.7.4",
      "model_name": "ObjectModel",
      "state": {
       "_view_count": null,
       "_view_module": null,
       "_view_module_version": "",
       "_view_name": null,
       "color": 5010096,
       "colorLegend": false,
       "colors": {
        "dtype": "uint32",
        "shape": [
         0
        ]
       },
       "compression_level": 0,
       "id": 4936943024,
       "mesh_detail": 2,
       "model_matrix": {
        "dtype": "float32",
        "shape": [
         4,
         4
        ]
       },
       "name": "Points #1",
       "opacities": {
        "dtype": "float32",
        "shape": [
         0
        ]
       },
       "opacity": 1,
       "point_size": 0.25,
       "positions": {
        "dtype": "float32",
        "shape": [
         10,
         3
        ]
       },
       "shader": "3dSpecular",
       "type": "Points",
       "visible": true
      }
     },
     "2d7164b0263e4d099850b653610271bf": {
      "buffers": [
       {
        "data": "eNoLarnLEERFDABnGyH9",
        "encoding": "base64",
        "path": [
         "colors",
         "compressed_buffer"
        ]
       },
       {
        "data": "eNpjYGiwZ8AAxIsBAF7EAv0=",
        "encoding": "base64",
        "path": [
         "model_matrix",
         "compressed_buffer"
        ]
       },
       {
        "data": "eNpjYGiwZ2BgAGIw7YBgOyCxG5DYC7CwGYwZGQ7A2QwMD5DYDI4ItgCcDQCUDg3j",
        "encoding": "base64",
        "path": [
         "origins",
         "compressed_buffer"
        ]
       },
       {
        "data": "eNpjYGjYzwAE///XA2mS2fZQtj2pbACvtSfP",
        "encoding": "base64",
        "path": [
         "vectors",
         "compressed_buffer"
        ]
       }
      ],
      "model_module": "k3d",
      "model_module_version": "2.7.4",
      "model_name": "ObjectModel",
      "state": {
       "_view_count": null,
       "_view_module": null,
       "_view_module_version": "",
       "_view_name": null,
       "colors": {
        "dtype": "uint32",
        "shape": [
         10,
         2
        ]
       },
       "compression_level": 0,
       "head_color": 255,
       "head_size": 3,
       "id": 4927108720,
       "label_size": 1,
       "labels": [],
       "line_width": 0.01,
       "model_matrix": {
        "dtype": "float32",
        "shape": [
         4,
         4
        ]
       },
       "name": "Vectors #1",
       "origin_color": 255,
       "origins": {
        "dtype": "float32",
        "shape": [
         10,
         3
        ]
       },
       "type": "Vectors",
       "use_head": true,
       "vectors": {
        "dtype": "float32",
        "shape": [
         10,
         3
        ]
       },
       "visible": true
      }
     },
     "2dcf422ea5c34706833b2932ccdae998": {
      "buffers": [
       {
        "data": "eNoDAAAAAAE=",
        "encoding": "base64",
        "path": [
         "colors",
         "compressed_buffer"
        ]
       },
       {
        "data": "eNpjYGiwZ8AAxIsBAF7EAv0=",
        "encoding": "base64",
        "path": [
         "model_matrix",
         "compressed_buffer"
        ]
       },
       {
        "data": "eNoDAAAAAAE=",
        "encoding": "base64",
        "path": [
         "opacities",
         "compressed_buffer"
        ]
       },
       {
        "data": "eNpjYGCwZ4DjA0hsBQcYm5EhwQEhPgGJvQFJzQUk8Q9IbA5HBFsCzgYAxoYLzw==",
        "encoding": "base64",
        "path": [
         "positions",
         "compressed_buffer"
        ]
       }
      ],
      "model_module": "k3d",
      "model_module_version": "2.7.4",
      "model_name": "ObjectModel",
      "state": {
       "_view_count": null,
       "_view_module": null,
       "_view_module_version": "",
       "_view_name": null,
       "color": 5010096,
       "colorLegend": false,
       "colors": {
        "dtype": "uint32",
        "shape": [
         0
        ]
       },
       "compression_level": 0,
       "id": 4926835776,
       "mesh_detail": 2,
       "model_matrix": {
        "dtype": "float32",
        "shape": [
         4,
         4
        ]
       },
       "name": "Points #1",
       "opacities": {
        "dtype": "float32",
        "shape": [
         0
        ]
       },
       "opacity": 1,
       "point_size": 0.25,
       "positions": {
        "dtype": "float32",
        "shape": [
         10,
         3
        ]
       },
       "shader": "3dSpecular",
       "type": "Points",
       "visible": true
      }
     },
     "2e97480446a448469dcf2e34a364aecb": {
      "buffers": [
       {
        "data": "eNoDAAAAAAE=",
        "encoding": "base64",
        "path": [
         "colors",
         "compressed_buffer"
        ]
       },
       {
        "data": "eNpjYGiwZ8AAxIsBAF7EAv0=",
        "encoding": "base64",
        "path": [
         "model_matrix",
         "compressed_buffer"
        ]
       },
       {
        "data": "eNoDAAAAAAE=",
        "encoding": "base64",
        "path": [
         "opacities",
         "compressed_buffer"
        ]
       },
       {
        "data": "eNpjYGCwZ4DjA0hsBQcYm5EhwQEhPgGJvQFJzQUk8Q9IbA5HBFsCia2BxLZwRJjjgcSOQGJnIKmvQGK3ILF7kNhTkNhz4GwA3oQXaA==",
        "encoding": "base64",
        "path": [
         "positions",
         "compressed_buffer"
        ]
       }
      ],
      "model_module": "k3d",
      "model_module_version": "2.7.4",
      "model_name": "ObjectModel",
      "state": {
       "_view_count": null,
       "_view_module": null,
       "_view_module_version": "",
       "_view_name": null,
       "color": 5010096,
       "colors": {
        "dtype": "uint32",
        "shape": [
         0
        ]
       },
       "compression_level": 0,
       "id": 4554428624,
       "mesh_detail": 2,
       "model_matrix": {
        "dtype": "float32",
        "shape": [
         4,
         4
        ]
       },
       "name": "Points #1",
       "opacities": {
        "dtype": "float32",
        "shape": [
         0
        ]
       },
       "opacity": 1,
       "point_size": 0.25,
       "positions": {
        "dtype": "float32",
        "shape": [
         20,
         3
        ]
       },
       "shader": "3dSpecular",
       "type": "Points",
       "visible": true
      }
     },
     "2ea9dd25a7b748e18f5d6abb181fe409": {
      "buffers": [
       {
        "data": "eNoDAAAAAAE=",
        "encoding": "base64",
        "path": [
         "colors",
         "compressed_buffer"
        ]
       },
       {
        "data": "eNpjYGiwZ8AAxIsBAF7EAv0=",
        "encoding": "base64",
        "path": [
         "model_matrix",
         "compressed_buffer"
        ]
       },
       {
        "data": "eNoDAAAAAAE=",
        "encoding": "base64",
        "path": [
         "opacities",
         "compressed_buffer"
        ]
       },
       {
        "data": "eNpjYGCwZ4DjA0hsBQcYm5EhwQEhPgGJvQFJzQUk8Q9IbA5HBFsCzgYAxoYLzw==",
        "encoding": "base64",
        "path": [
         "positions",
         "compressed_buffer"
        ]
       }
      ],
      "model_module": "k3d",
      "model_module_version": "2.7.4",
      "model_name": "ObjectModel",
      "state": {
       "_view_count": null,
       "_view_module": null,
       "_view_module_version": "",
       "_view_name": null,
       "color": 5010096,
       "colorLegend": false,
       "colors": {
        "dtype": "uint32",
        "shape": [
         0
        ]
       },
       "compression_level": 0,
       "id": 4925561776,
       "mesh_detail": 2,
       "model_matrix": {
        "dtype": "float32",
        "shape": [
         4,
         4
        ]
       },
       "name": "Points #1",
       "opacities": {
        "dtype": "float32",
        "shape": [
         0
        ]
       },
       "opacity": 1,
       "point_size": 0.25,
       "positions": {
        "dtype": "float32",
        "shape": [
         10,
         3
        ]
       },
       "shader": "3dSpecular",
       "type": "Points",
       "visible": true
      }
     },
     "2f853db707e848a191587c145f02279f": {
      "model_module": "k3d",
      "model_module_version": "2.7.4",
      "model_name": "PlotModel",
      "state": {
       "_backend_version": "2.7.4",
       "_dom_classes": [],
       "_view_count": null,
       "antialias": 3,
       "auto_rendering": true,
       "axes": [
        "x (nm)",
        "y (nm)",
        "z (nm)"
       ],
       "axes_helper": 1,
       "background_color": 16777215,
       "camera": [
        5.585826469192858,
        -13.933285507137715,
        1.4505172630949046,
        5,
        0.5,
        0.5,
        -0.03082024773053373,
        0.00902064787537901,
        0.9994842371151927
       ],
       "camera_animation": [],
       "camera_auto_fit": true,
       "camera_fov": 60,
       "camera_no_pan": false,
       "camera_no_rotate": false,
       "camera_no_zoom": false,
       "clipping_planes": [],
       "colorbar_object_id": -1,
       "fps": 25,
       "fps_meter": false,
       "grid": [
        -1,
        -1,
        -1,
        1,
        1,
        1
       ],
       "grid_auto_fit": true,
       "grid_visible": true,
       "height": 512,
       "layout": "IPY_MODEL_c826ba918e4d467b8e88adefd7b90056",
       "lighting": 1.5,
       "menu_visibility": true,
       "mode": "view",
       "name": null,
       "object_ids": [
        4938310608,
        4941495504
       ],
       "rendering_steps": 1,
       "screenshot": "",
       "screenshot_scale": 2,
       "snapshot": "",
       "time": 0,
       "voxel_paint_color": 0
      }
     },
     "2f88c76085074782a99dcf99fc732820": {
      "model_module": "@jupyter-widgets/base",
      "model_module_version": "1.2.0",
      "model_name": "LayoutModel",
      "state": {}
     },
     "2fd1cac592434cd2bddd3ef752159f01": {
      "model_module": "@jupyter-widgets/output",
      "model_module_version": "1.0.0",
      "model_name": "OutputModel",
      "state": {
       "layout": "IPY_MODEL_acf3daf2dba542fd82bcfb7bc78acade",
       "outputs": [
        {
         "data": {
          "application/vnd.jupyter.widget-view+json": {
           "model_id": "fe4714f4977c4277b5735395b16d50c0",
           "version_major": 2,
           "version_minor": 0
          },
          "text/plain": "Plot(antialias=3, axes=['x', 'y', 'z'], axes_helper=1.0, background_color=16777215, camera=[2, -3, 0.2, 0.0, 0…"
         },
         "metadata": {},
         "output_type": "display_data"
        }
       ]
      }
     },
     "3007bc9e903d46478dd40a498bfe655d": {
      "model_module": "k3d",
      "model_module_version": "2.7.4",
      "model_name": "PlotModel",
      "state": {
       "_backend_version": "2.7.4",
       "_dom_classes": [],
       "_view_count": null,
       "antialias": 3,
       "auto_rendering": true,
       "axes": [
        "x (nm)",
        "y (nm)",
        "z (nm)"
       ],
       "axes_helper": 1,
       "background_color": 16777215,
       "camera": [
        13.45843140614532,
        -12.262647099159695,
        1.350843139943978,
        4.9500000067055225,
        0.5,
        0.5,
        0,
        0,
        1
       ],
       "camera_animation": [],
       "camera_auto_fit": true,
       "camera_fov": 60,
       "camera_no_pan": false,
       "camera_no_rotate": false,
       "camera_no_zoom": false,
       "clipping_planes": [],
       "colorbar_object_id": -1,
       "fps": 25,
       "fps_meter": false,
       "grid": [
        -1,
        -1,
        -1,
        1,
        1,
        1
       ],
       "grid_auto_fit": true,
       "grid_visible": true,
       "height": 512,
       "layout": "IPY_MODEL_cffc94bb81d04cdf8cc20b82bd5437a2",
       "lighting": 1.5,
       "menu_visibility": true,
       "mode": "view",
       "name": null,
       "object_ids": [
        140674482898896
       ],
       "rendering_steps": 1,
       "screenshot": "",
       "screenshot_scale": 2,
       "snapshot": "",
       "time": 0,
       "voxel_paint_color": 0
      }
     },
     "301b87efc85841628780a3f49e8ec7a3": {
      "buffers": [
       {
        "data": "eNoDAAAAAAE=",
        "encoding": "base64",
        "path": [
         "colors",
         "compressed_buffer"
        ]
       },
       {
        "data": "eNpjYGiwZ8AAxIsBAF7EAv0=",
        "encoding": "base64",
        "path": [
         "model_matrix",
         "compressed_buffer"
        ]
       },
       {
        "data": "eNoDAAAAAAE=",
        "encoding": "base64",
        "path": [
         "opacities",
         "compressed_buffer"
        ]
       },
       {
        "data": "eNpjYGCwZ4DjA0hsBQcYm5EhwQEhPgGJvQFJzQUk8Q9IbA5HBFsCia2BxLZwRJjjgcSOQGJnIKmvQGK3ILF7kNhTkNhz4GwA3oQXaA==",
        "encoding": "base64",
        "path": [
         "positions",
         "compressed_buffer"
        ]
       }
      ],
      "model_module": "k3d",
      "model_module_version": "2.7.4",
      "model_name": "ObjectModel",
      "state": {
       "_view_count": null,
       "_view_module": null,
       "_view_module_version": "",
       "_view_name": null,
       "color": 5010096,
       "colors": {
        "dtype": "uint32",
        "shape": [
         0
        ]
       },
       "compression_level": 0,
       "id": 4554324960,
       "mesh_detail": 2,
       "model_matrix": {
        "dtype": "float32",
        "shape": [
         4,
         4
        ]
       },
       "name": "Points #1",
       "opacities": {
        "dtype": "float32",
        "shape": [
         0
        ]
       },
       "opacity": 1,
       "point_size": 0.25,
       "positions": {
        "dtype": "float32",
        "shape": [
         20,
         3
        ]
       },
       "shader": "3dSpecular",
       "type": "Points",
       "visible": true
      }
     },
     "309986d6b6e5415693d5d1b4a19d85a7": {
      "model_module": "@jupyter-widgets/base",
      "model_module_version": "1.2.0",
      "model_name": "LayoutModel",
      "state": {}
     },
     "31320933ac064b519bcca5b807bcd70c": {
      "model_module": "k3d",
      "model_module_version": "2.7.4",
      "model_name": "PlotModel",
      "state": {
       "_backend_version": "2.7.4",
       "_dom_classes": [],
       "_view_count": null,
       "antialias": 3,
       "auto_rendering": true,
       "axes": [
        "x (nm)",
        "y (nm)",
        "z (nm)"
       ],
       "axes_helper": 1,
       "background_color": 16777215,
       "camera": [
        13.351749844490127,
        -12.027624773057223,
        1.335174999771651,
        4.9999999957853145,
        0.5,
        0.5000000149011612,
        0,
        0,
        1
       ],
       "camera_animation": [],
       "camera_auto_fit": true,
       "camera_fov": 60,
       "camera_no_pan": false,
       "camera_no_rotate": false,
       "camera_no_zoom": false,
       "clipping_planes": [],
       "colorbar_object_id": -1,
       "fps": 25,
       "fps_meter": false,
       "grid": [
        -1,
        -1,
        -1,
        1,
        1,
        1
       ],
       "grid_auto_fit": true,
       "grid_visible": true,
       "height": 512,
       "layout": "IPY_MODEL_b5dba2b374754fa6a99560c5a1a5674d",
       "lighting": 1.5,
       "menu_visibility": true,
       "mode": "view",
       "name": null,
       "object_ids": [
        4757802000,
        4757501264
       ],
       "rendering_steps": 1,
       "screenshot": "",
       "screenshot_scale": 2,
       "snapshot": "",
       "time": 0,
       "voxel_paint_color": 0
      }
     },
     "316e3e94594d406e854c357695d8f877": {
      "model_module": "@jupyter-widgets/base",
      "model_module_version": "1.2.0",
      "model_name": "LayoutModel",
      "state": {}
     },
     "329fece36e2b47f5843241fc02454dea": {
      "model_module": "@jupyter-widgets/base",
      "model_module_version": "1.2.0",
      "model_name": "LayoutModel",
      "state": {}
     },
     "32b0144c59284ec68beae56ce3faffd0": {
      "model_module": "k3d",
      "model_module_version": "2.7.4",
      "model_name": "PlotModel",
      "state": {
       "_backend_version": "2.7.4",
       "_dom_classes": [],
       "_view_count": null,
       "antialias": 3,
       "auto_rendering": true,
       "axes": [
        "x (nm)",
        "y (nm)",
        "z (nm)"
       ],
       "axes_helper": 1,
       "background_color": 16777215,
       "camera": [
        13.017741184168955,
        -11.526611776253436,
        1.3017741184169038,
        5,
        0.5,
        0.5,
        0,
        0,
        1
       ],
       "camera_animation": [],
       "camera_auto_fit": true,
       "camera_fov": 60,
       "camera_no_pan": false,
       "camera_no_rotate": false,
       "camera_no_zoom": false,
       "clipping_planes": [],
       "colorbar_object_id": -1,
       "fps": 25,
       "fps_meter": false,
       "grid": [
        -1,
        -1,
        -1,
        1,
        1,
        1
       ],
       "grid_auto_fit": true,
       "grid_visible": true,
       "height": 512,
       "layout": "IPY_MODEL_f12bf3e4c08e45ddb6c0b63bd32d1843",
       "lighting": 1.5,
       "menu_visibility": true,
       "mode": "view",
       "name": null,
       "object_ids": [
        4970520432,
        4926435232
       ],
       "rendering_steps": 1,
       "screenshot": "",
       "screenshot_scale": 2,
       "snapshot": "",
       "time": 0,
       "voxel_paint_color": 0
      }
     },
     "34a93f3e8df84d68a5ed7df3eae5c8df": {
      "model_module": "@jupyter-widgets/output",
      "model_module_version": "1.0.0",
      "model_name": "OutputModel",
      "state": {
       "layout": "IPY_MODEL_08c16f6d85174d17b441eaf8fec125e3",
       "outputs": [
        {
         "data": {
          "application/vnd.jupyter.widget-view+json": {
           "model_id": "c39670410886404cbdaa44cc5f4e06f5",
           "version_major": 2,
           "version_minor": 0
          },
          "text/plain": "Plot(antialias=3, axes=['x', 'y', 'z'], axes_helper=1.0, background_color=16777215, camera=[2, -3, 0.2, 0.0, 0…"
         },
         "metadata": {},
         "output_type": "display_data"
        }
       ]
      }
     },
     "352e1ef763284f26a2b12e4881207685": {
      "model_module": "@jupyter-widgets/base",
      "model_module_version": "1.2.0",
      "model_name": "LayoutModel",
      "state": {}
     },
     "355ab2a0ecb34a67ab4a5c99cdb548f7": {
      "buffers": [
       {
        "data": "eNoLarnLEERFDABnGyH9",
        "encoding": "base64",
        "path": [
         "colors",
         "compressed_buffer"
        ]
       },
       {
        "data": "eNpjYGiwZ8AAxIsBAF7EAv0=",
        "encoding": "base64",
        "path": [
         "model_matrix",
         "compressed_buffer"
        ]
       },
       {
        "data": "eNpjYGiwZ2BgAGIw7YBgOyCxG5DYC7CwGYwZGQ7A2QwMD5DYDI4ItgCcDQCUDg3j",
        "encoding": "base64",
        "path": [
         "origins",
         "compressed_buffer"
        ]
       },
       {
        "data": "eNpjYGjYzwAE///XA2mS2fZQtj2pbACvtSfP",
        "encoding": "base64",
        "path": [
         "vectors",
         "compressed_buffer"
        ]
       }
      ],
      "model_module": "k3d",
      "model_module_version": "2.7.4",
      "model_name": "ObjectModel",
      "state": {
       "_view_count": null,
       "_view_module": null,
       "_view_module_version": "",
       "_view_name": null,
       "colorLegend": false,
       "colors": {
        "dtype": "uint32",
        "shape": [
         10,
         2
        ]
       },
       "compression_level": 0,
       "head_color": 255,
       "head_size": 3,
       "id": 4757800896,
       "label_size": 1,
       "labels": [],
       "line_width": 0.01,
       "model_matrix": {
        "dtype": "float32",
        "shape": [
         4,
         4
        ]
       },
       "name": "Vectors #1",
       "origin_color": 255,
       "origins": {
        "dtype": "float32",
        "shape": [
         10,
         3
        ]
       },
       "type": "Vectors",
       "use_head": true,
       "vectors": {
        "dtype": "float32",
        "shape": [
         10,
         3
        ]
       },
       "visible": true
      }
     },
     "3572a50b14904e2493dc0f7f1196a0cd": {
      "model_module": "@jupyter-widgets/base",
      "model_module_version": "1.2.0",
      "model_name": "LayoutModel",
      "state": {}
     },
     "359a727e4c9048ccb8991855cd713aa1": {
      "model_module": "@jupyter-widgets/output",
      "model_module_version": "1.0.0",
      "model_name": "OutputModel",
      "state": {
       "layout": "IPY_MODEL_87242f6e443747fdb7a3fe792d02c2f5",
       "outputs": [
        {
         "data": {
          "application/vnd.jupyter.widget-view+json": {
           "model_id": "1f3fca79a82443158584cb8ad488fe3a",
           "version_major": 2,
           "version_minor": 0
          },
          "text/plain": "Plot(antialias=3, axes=['x', 'y', 'z'], axes_helper=1.0, background_color=16777215, camera=[2, -3, 0.2, 0.0, 0…"
         },
         "metadata": {},
         "output_type": "display_data"
        }
       ]
      }
     },
     "365efbe896eb4e71b2a318445331d7bb": {
      "buffers": [
       {
        "data": "eNoDAAAAAAE=",
        "encoding": "base64",
        "path": [
         "colors",
         "compressed_buffer"
        ]
       },
       {
        "data": "eNpjYGiwZ8AAxIsBAF7EAv0=",
        "encoding": "base64",
        "path": [
         "model_matrix",
         "compressed_buffer"
        ]
       },
       {
        "data": "eNoDAAAAAAE=",
        "encoding": "base64",
        "path": [
         "opacities",
         "compressed_buffer"
        ]
       },
       {
        "data": "eNpjYGCwZ4DjA0hsBQcYm5EhwQEhPgGJvQFJzQUk8Q9IbA5HBFsCia2BxLZwRJjjgcSOQGJnIKmvQGK3ILF7kNhTkNhz4GwA3oQXaA==",
        "encoding": "base64",
        "path": [
         "positions",
         "compressed_buffer"
        ]
       }
      ],
      "model_module": "k3d",
      "model_module_version": "2.7.4",
      "model_name": "ObjectModel",
      "state": {
       "_view_count": null,
       "_view_module": null,
       "_view_module_version": "",
       "_view_name": null,
       "color": 5010096,
       "colorLegend": false,
       "colors": {
        "dtype": "uint32",
        "shape": [
         0
        ]
       },
       "compression_level": 0,
       "id": 140675199979088,
       "mesh_detail": 2,
       "model_matrix": {
        "dtype": "float32",
        "shape": [
         4,
         4
        ]
       },
       "name": "Points #1",
       "opacities": {
        "dtype": "float32",
        "shape": [
         0
        ]
       },
       "opacity": 1,
       "point_size": 0.25,
       "positions": {
        "dtype": "float32",
        "shape": [
         20,
         3
        ]
       },
       "shader": "3dSpecular",
       "type": "Points",
       "visible": true
      }
     },
     "36e8e52b0ab54ea9840f2740ac1bcf83": {
      "buffers": [
       {
        "data": "eNoDAAAAAAE=",
        "encoding": "base64",
        "path": [
         "colors",
         "compressed_buffer"
        ]
       },
       {
        "data": "eNpjYGiwZ8AAxIsBAF7EAv0=",
        "encoding": "base64",
        "path": [
         "model_matrix",
         "compressed_buffer"
        ]
       },
       {
        "data": "eNoDAAAAAAE=",
        "encoding": "base64",
        "path": [
         "opacities",
         "compressed_buffer"
        ]
       },
       {
        "data": "eNpjYGiwY2BgsIdgB3sEewGczcjwAElcwAHBNnBAqAlAEi9AYncgsWcgsVcgsXcgmXMCiX0Dif0CSf0PJDaLI4LNg8QWQWLLwNkArvAYXQ==",
        "encoding": "base64",
        "path": [
         "positions",
         "compressed_buffer"
        ]
       }
      ],
      "model_module": "k3d",
      "model_module_version": "2.7.4",
      "model_name": "ObjectModel",
      "state": {
       "_view_count": null,
       "_view_module": null,
       "_view_module_version": "",
       "_view_name": null,
       "color": 5010096,
       "colorLegend": false,
       "colors": {
        "dtype": "uint32",
        "shape": [
         0
        ]
       },
       "compression_level": 0,
       "id": 4926435232,
       "mesh_detail": 2,
       "model_matrix": {
        "dtype": "float32",
        "shape": [
         4,
         4
        ]
       },
       "name": "Points #1",
       "opacities": {
        "dtype": "float32",
        "shape": [
         0
        ]
       },
       "opacity": 1,
       "point_size": 0.125,
       "positions": {
        "dtype": "float32",
        "shape": [
         20,
         3
        ]
       },
       "shader": "3dSpecular",
       "type": "Points",
       "visible": true
      }
     },
     "3712db26ac79432cb8048921162c6d80": {
      "model_module": "@jupyter-widgets/base",
      "model_module_version": "1.2.0",
      "model_name": "LayoutModel",
      "state": {}
     },
     "374cc7fa484248e7a213641e5f266e23": {
      "model_module": "@jupyter-widgets/output",
      "model_module_version": "1.0.0",
      "model_name": "OutputModel",
      "state": {
       "layout": "IPY_MODEL_de32b34b3c6d4556b6655254e3f81d09",
       "outputs": [
        {
         "data": {
          "application/vnd.jupyter.widget-view+json": {
           "model_id": "b33436ea6ca34931a529b1939a3c9667",
           "version_major": 2,
           "version_minor": 0
          },
          "text/plain": "Plot(antialias=3, axes=['x', 'y', 'z'], axes_helper=1.0, background_color=16777215, camera=[2, -3, 0.2, 0.0, 0…"
         },
         "metadata": {},
         "output_type": "display_data"
        }
       ]
      }
     },
     "37cf69ac4d4d426a8051e72b49dcbab8": {
      "model_module": "@jupyter-widgets/output",
      "model_module_version": "1.0.0",
      "model_name": "OutputModel",
      "state": {
       "layout": "IPY_MODEL_545ccbacc6ce41f5821ac5a4340e72ef",
       "outputs": [
        {
         "data": {
          "application/vnd.jupyter.widget-view+json": {
           "model_id": "01c4bda086b04be2a08400eef242ff76",
           "version_major": 2,
           "version_minor": 0
          },
          "text/plain": "Plot(antialias=3, axes=['x', 'y', 'z'], axes_helper=1.0, background_color=16777215, camera=[2, -3, 0.2, 0.0, 0…"
         },
         "metadata": {},
         "output_type": "display_data"
        }
       ]
      }
     },
     "38001be6e3a449438b0919fac8dbbd26": {
      "buffers": [
       {
        "data": "eNoLarnLEDSIMQBtm0P5",
        "encoding": "base64",
        "path": [
         "colors",
         "compressed_buffer"
        ]
       },
       {
        "data": "eNpjYGiwZ8AAxIsBAF7EAv0=",
        "encoding": "base64",
        "path": [
         "model_matrix",
         "compressed_buffer"
        ]
       },
       {
        "data": "eNpjYAADewjVYI9gMzjA2IwMDg5IapDYC5DUHEASf4DEZnBEsAWQ2ApIbANHJLuQ2AFI7AQk9QVI7AYkdgcSewISewacDQC7wBEt",
        "encoding": "base64",
        "path": [
         "origins",
         "compressed_buffer"
        ]
       },
       {
        "data": "eNpjYGiwZwADED382QD1Gx3Z",
        "encoding": "base64",
        "path": [
         "vectors",
         "compressed_buffer"
        ]
       }
      ],
      "model_module": "k3d",
      "model_module_version": "2.7.4",
      "model_name": "ObjectModel",
      "state": {
       "_view_count": null,
       "_view_module": null,
       "_view_module_version": "",
       "_view_name": null,
       "colors": {
        "dtype": "uint32",
        "shape": [
         20,
         2
        ]
       },
       "compression_level": 0,
       "head_color": 255,
       "head_size": 5,
       "id": 4928743696,
       "label_size": 1,
       "labels": [],
       "line_width": 0.01,
       "model_matrix": {
        "dtype": "float32",
        "shape": [
         4,
         4
        ]
       },
       "name": "Vectors #1",
       "origin_color": 255,
       "origins": {
        "dtype": "float32",
        "shape": [
         20,
         3
        ]
       },
       "type": "Vectors",
       "use_head": true,
       "vectors": {
        "dtype": "float32",
        "shape": [
         20,
         3
        ]
       },
       "visible": true
      }
     },
     "384b98a0c5764de5a9f9bbda9ff08ace": {
      "buffers": [
       {
        "data": "eNoDAAAAAAE=",
        "encoding": "base64",
        "path": [
         "colors",
         "compressed_buffer"
        ]
       },
       {
        "data": "eNpjYGiwZ8AAxIsBAF7EAv0=",
        "encoding": "base64",
        "path": [
         "model_matrix",
         "compressed_buffer"
        ]
       },
       {
        "data": "eNoDAAAAAAE=",
        "encoding": "base64",
        "path": [
         "opacities",
         "compressed_buffer"
        ]
       },
       {
        "data": "eNpjYGCwZ4DjA0hsBQcYm5EhwQEhPgGJvQFJzQUk8Q9IbA5HBFsCzgYAxoYLzw==",
        "encoding": "base64",
        "path": [
         "positions",
         "compressed_buffer"
        ]
       }
      ],
      "model_module": "k3d",
      "model_module_version": "2.7.4",
      "model_name": "ObjectModel",
      "state": {
       "_view_count": null,
       "_view_module": null,
       "_view_module_version": "",
       "_view_name": null,
       "color": 5010096,
       "colorLegend": false,
       "colors": {
        "dtype": "uint32",
        "shape": [
         0
        ]
       },
       "compression_level": 0,
       "id": 4399660624,
       "mesh_detail": 2,
       "model_matrix": {
        "dtype": "float32",
        "shape": [
         4,
         4
        ]
       },
       "name": "Points #1",
       "opacities": {
        "dtype": "float32",
        "shape": [
         0
        ]
       },
       "opacity": 1,
       "point_size": 0.25,
       "positions": {
        "dtype": "float32",
        "shape": [
         10,
         3
        ]
       },
       "shader": "3dSpecular",
       "type": "Points",
       "visible": true
      }
     },
     "387aa9ba68ec46ada4b17fc4e9ef9fcb": {
      "model_module": "k3d",
      "model_module_version": "2.7.4",
      "model_name": "PlotModel",
      "state": {
       "_backend_version": "2.7.4",
       "_dom_classes": [],
       "_view_count": null,
       "antialias": 3,
       "auto_rendering": true,
       "axes": [
        "x (nm)",
        "y (nm)",
        "z (nm)"
       ],
       "axes_helper": 1,
       "background_color": 16777215,
       "camera": [
        13.351749844201674,
        -12.027624766302514,
        1.3351749844201761,
        5,
        0.5,
        0.5,
        0,
        0,
        1
       ],
       "camera_animation": [],
       "camera_auto_fit": true,
       "camera_fov": 60,
       "camera_no_pan": false,
       "camera_no_rotate": false,
       "camera_no_zoom": false,
       "clipping_planes": [],
       "colorbar_object_id": -1,
       "fps": 25,
       "fps_meter": false,
       "grid": [
        -1,
        -1,
        -1,
        1,
        1,
        1
       ],
       "grid_auto_fit": true,
       "grid_visible": true,
       "height": 512,
       "layout": "IPY_MODEL_b3aa1a20d70640e18928d1eabb6ebffa",
       "lighting": 1.5,
       "menu_visibility": true,
       "mode": "view",
       "name": null,
       "object_ids": [
        4584460832,
        4584460400
       ],
       "rendering_steps": 1,
       "screenshot": "",
       "screenshot_scale": 2,
       "snapshot": "",
       "time": 0,
       "voxel_paint_color": 0
      }
     },
     "390fe36734cb47aca11fbfc926fafb3f": {
      "model_module": "@jupyter-widgets/base",
      "model_module_version": "1.2.0",
      "model_name": "LayoutModel",
      "state": {}
     },
     "39183f68e3c54d409705f6f907c53824": {
      "model_module": "@jupyter-widgets/base",
      "model_module_version": "1.2.0",
      "model_name": "LayoutModel",
      "state": {}
     },
     "3a375b900d2b49be88c64f2ad7238f36": {
      "model_module": "k3d",
      "model_module_version": "2.7.4",
      "model_name": "PlotModel",
      "state": {
       "_backend_version": "2.7.4",
       "_dom_classes": [],
       "_view_count": null,
       "antialias": 3,
       "auto_rendering": true,
       "axes": [
        "x (nm)",
        "y (nm)",
        "z (nm)"
       ],
       "axes_helper": 1,
       "background_color": 16777215,
       "camera": [
        5.559424054158973,
        -6.969342625968743,
        3.566316814569151,
        5.111045628786087,
        0.5000000596046448,
        0.49999996926635504,
        -0.056867467421168764,
        0.3242605262031762,
        0.9442569577691988
       ],
       "camera_animation": [],
       "camera_auto_fit": true,
       "camera_fov": 60,
       "camera_no_pan": false,
       "camera_no_rotate": false,
       "camera_no_zoom": false,
       "clipping_planes": [],
       "colorbar_object_id": -1,
       "fps": 25,
       "fps_meter": false,
       "grid": [
        -1,
        -1,
        -1,
        1,
        1,
        1
       ],
       "grid_auto_fit": true,
       "grid_visible": true,
       "height": 512,
       "layout": "IPY_MODEL_970559c15c11497a9e8bebb965f86fb9",
       "lighting": 1.5,
       "menu_visibility": true,
       "mode": "view",
       "name": null,
       "object_ids": [
        4888202544,
        4936882640
       ],
       "rendering_steps": 1,
       "screenshot": "",
       "screenshot_scale": 2,
       "snapshot": "",
       "time": 0,
       "voxel_paint_color": 0
      }
     },
     "3a5795d914394d45b7b64b2d23cd5c9d": {
      "model_module": "@jupyter-widgets/output",
      "model_module_version": "1.0.0",
      "model_name": "OutputModel",
      "state": {
       "layout": "IPY_MODEL_390fe36734cb47aca11fbfc926fafb3f",
       "outputs": [
        {
         "data": {
          "application/vnd.jupyter.widget-view+json": {
           "model_id": "6f1a5fb16dd34ca3b29545332da96385",
           "version_major": 2,
           "version_minor": 0
          },
          "text/plain": "Plot(antialias=3, axes=['x', 'y', 'z'], axes_helper=1.0, background_color=16777215, camera=[2, -3, 0.2, 0.0, 0…"
         },
         "metadata": {},
         "output_type": "display_data"
        }
       ]
      }
     },
     "3c2c57f9f46b431db8bcc212a3f97253": {
      "model_module": "@jupyter-widgets/output",
      "model_module_version": "1.0.0",
      "model_name": "OutputModel",
      "state": {
       "layout": "IPY_MODEL_7c35c5e4e8404280a56fd1f2cf86c68a",
       "outputs": [
        {
         "data": {
          "application/vnd.jupyter.widget-view+json": {
           "model_id": "9e5d08aaba914606b73edf72b699a5b7",
           "version_major": 2,
           "version_minor": 0
          },
          "text/plain": "Plot(antialias=3, axes=['x', 'y', 'z'], axes_helper=1.0, background_color=16777215, camera=[2, -3, 0.2, 0.0, 0…"
         },
         "metadata": {},
         "output_type": "display_data"
        }
       ]
      }
     },
     "3c3260ecf08a4a79a365a8bb513b4ca1": {
      "model_module": "@jupyter-widgets/base",
      "model_module_version": "1.2.0",
      "model_name": "LayoutModel",
      "state": {}
     },
     "3cc4b84cf82648c8a37a0c96a7d94654": {
      "model_module": "@jupyter-widgets/output",
      "model_module_version": "1.0.0",
      "model_name": "OutputModel",
      "state": {
       "layout": "IPY_MODEL_7f59e1e544124c20879f022f3c8b5bbf",
       "outputs": [
        {
         "data": {
          "application/vnd.jupyter.widget-view+json": {
           "model_id": "6f67245eccc1426ebfe3091bf84a89ef",
           "version_major": 2,
           "version_minor": 0
          },
          "text/plain": "Plot(antialias=3, axes=['x', 'y', 'z'], axes_helper=1.0, background_color=16777215, camera=[2, -3, 0.2, 0.0, 0…"
         },
         "metadata": {},
         "output_type": "display_data"
        }
       ]
      }
     },
     "3ce3866197b74238aa17772bce25c324": {
      "buffers": [
       {
        "data": "eNoDAAAAAAE=",
        "encoding": "base64",
        "path": [
         "colors",
         "compressed_buffer"
        ]
       },
       {
        "data": "eNpjYGiwZ8AAxIsBAF7EAv0=",
        "encoding": "base64",
        "path": [
         "model_matrix",
         "compressed_buffer"
        ]
       },
       {
        "data": "eNoDAAAAAAE=",
        "encoding": "base64",
        "path": [
         "opacities",
         "compressed_buffer"
        ]
       },
       {
        "data": "eNpjYGCwZ4DjA0hsBQcYm5EhwQEhPgGJvQFJzQUk8Q9IbA5HBFsCzgYAxoYLzw==",
        "encoding": "base64",
        "path": [
         "positions",
         "compressed_buffer"
        ]
       }
      ],
      "model_module": "k3d",
      "model_module_version": "2.7.4",
      "model_name": "ObjectModel",
      "state": {
       "_view_count": null,
       "_view_module": null,
       "_view_module_version": "",
       "_view_name": null,
       "color": 5010096,
       "colorLegend": false,
       "colors": {
        "dtype": "uint32",
        "shape": [
         0
        ]
       },
       "compression_level": 0,
       "id": 4400247280,
       "mesh_detail": 2,
       "model_matrix": {
        "dtype": "float32",
        "shape": [
         4,
         4
        ]
       },
       "name": "Points #1",
       "opacities": {
        "dtype": "float32",
        "shape": [
         0
        ]
       },
       "opacity": 1,
       "point_size": 0.25,
       "positions": {
        "dtype": "float32",
        "shape": [
         10,
         3
        ]
       },
       "shader": "3dSpecular",
       "type": "Points",
       "visible": true
      }
     },
     "3d5ebd8e37d14903b397e882ee0aea0e": {
      "buffers": [
       {
        "data": "eNoLarnLEDSIMQBtm0P5",
        "encoding": "base64",
        "path": [
         "colors",
         "compressed_buffer"
        ]
       },
       {
        "data": "eNpjYGiwZ8AAxIsBAF7EAv0=",
        "encoding": "base64",
        "path": [
         "model_matrix",
         "compressed_buffer"
        ]
       },
       {
        "data": "eNpjYAADewjVYI9gMzjA2IwMDg5IapDYC5DUHEASf4DEZnBEsAWQ2ApIbANHJLuQ2AFI7AQk9QVI7AYkdgcSewISewacDQC7wBEt",
        "encoding": "base64",
        "path": [
         "origins",
         "compressed_buffer"
        ]
       },
       {
        "data": "eNpjYGiwZwADED382QD1Gx3Z",
        "encoding": "base64",
        "path": [
         "vectors",
         "compressed_buffer"
        ]
       }
      ],
      "model_module": "k3d",
      "model_module_version": "2.7.4",
      "model_name": "ObjectModel",
      "state": {
       "_view_count": null,
       "_view_module": null,
       "_view_module_version": "",
       "_view_name": null,
       "colors": {
        "dtype": "uint32",
        "shape": [
         20,
         2
        ]
       },
       "compression_level": 0,
       "head_color": 255,
       "head_size": 3,
       "id": 4928743024,
       "label_size": 1,
       "labels": [],
       "line_width": 0.01,
       "model_matrix": {
        "dtype": "float32",
        "shape": [
         4,
         4
        ]
       },
       "name": "Vectors #1",
       "origin_color": 255,
       "origins": {
        "dtype": "float32",
        "shape": [
         20,
         3
        ]
       },
       "type": "Vectors",
       "use_head": true,
       "vectors": {
        "dtype": "float32",
        "shape": [
         20,
         3
        ]
       },
       "visible": true
      }
     },
     "3d72e2b34a60424c965c5c0160d11183": {
      "model_module": "@jupyter-widgets/base",
      "model_module_version": "1.2.0",
      "model_name": "LayoutModel",
      "state": {}
     },
     "3dc0ff970358407db837881c1ef4509a": {
      "model_module": "k3d",
      "model_module_version": "2.7.4",
      "model_name": "PlotModel",
      "state": {
       "_backend_version": "2.7.4",
       "_dom_classes": [],
       "_view_count": null,
       "antialias": 3,
       "auto_rendering": true,
       "axes": [
        "x (nm)",
        "y (nm)",
        "z (nm)"
       ],
       "axes_helper": 1,
       "background_color": 16777215,
       "camera": [
        13.351749844490127,
        -12.027624773057223,
        1.335174999771651,
        4.9999999957853145,
        0.5,
        0.5000000149011612,
        0,
        0,
        1
       ],
       "camera_animation": [],
       "camera_auto_fit": true,
       "camera_fov": 60,
       "camera_no_pan": false,
       "camera_no_rotate": false,
       "camera_no_zoom": false,
       "clipping_planes": [],
       "colorbar_object_id": -1,
       "fps": 25,
       "fps_meter": false,
       "grid": [
        -1,
        -1,
        -1,
        1,
        1,
        1
       ],
       "grid_auto_fit": true,
       "grid_visible": true,
       "height": 512,
       "layout": "IPY_MODEL_2677bc9852ef4a82aaa41802c83a5f45",
       "lighting": 1.5,
       "menu_visibility": true,
       "mode": "view",
       "name": null,
       "object_ids": [
        4927108720,
        4928686496
       ],
       "rendering_steps": 1,
       "screenshot": "",
       "screenshot_scale": 2,
       "snapshot": "",
       "time": 0,
       "voxel_paint_color": 0
      }
     },
     "3de06bf7474c4f76bf249d20d7ae16a4": {
      "model_module": "@jupyter-widgets/output",
      "model_module_version": "1.0.0",
      "model_name": "OutputModel",
      "state": {
       "layout": "IPY_MODEL_b098602f33e74f94b152636c0ffeb19e",
       "outputs": [
        {
         "data": {
          "application/vnd.jupyter.widget-view+json": {
           "model_id": "7468d04e69eb407394eb60d0e686141b",
           "version_major": 2,
           "version_minor": 0
          },
          "text/plain": "Plot(antialias=3, axes=['x', 'y', 'z'], axes_helper=1.0, background_color=16777215, camera=[2, -3, 0.2, 0.0, 0…"
         },
         "metadata": {},
         "output_type": "display_data"
        }
       ]
      }
     },
     "3e23ce32fd814c1bb50bc5c137e3538b": {
      "model_module": "@jupyter-widgets/base",
      "model_module_version": "1.2.0",
      "model_name": "LayoutModel",
      "state": {}
     },
     "3e57da3a76c7480680b9d489baf151b5": {
      "model_module": "@jupyter-widgets/base",
      "model_module_version": "1.2.0",
      "model_name": "LayoutModel",
      "state": {}
     },
     "3e626287e46d4a96a6441673c934df9b": {
      "model_module": "@jupyter-widgets/base",
      "model_module_version": "1.2.0",
      "model_name": "LayoutModel",
      "state": {}
     },
     "3f44950d5e074da9a8d07ed2ef0fad09": {
      "model_module": "@jupyter-widgets/output",
      "model_module_version": "1.0.0",
      "model_name": "OutputModel",
      "state": {
       "layout": "IPY_MODEL_805b02acd89e4f529928d0567f89b5bc",
       "outputs": [
        {
         "data": {
          "application/vnd.jupyter.widget-view+json": {
           "model_id": "4d6f7e5603f04eeeb793895e5fd69400",
           "version_major": 2,
           "version_minor": 0
          },
          "text/plain": "Plot(antialias=3, axes=['x', 'y', 'z'], axes_helper=1.0, background_color=16777215, camera=[2, -3, 0.2, 0.0, 0…"
         },
         "metadata": {},
         "output_type": "display_data"
        }
       ]
      }
     },
     "3fb7695375e34222b7787d4a6607d378": {
      "model_module": "@jupyter-widgets/output",
      "model_module_version": "1.0.0",
      "model_name": "OutputModel",
      "state": {
       "layout": "IPY_MODEL_29f39ec75d294301ac2bca0bcb2c0790",
       "outputs": [
        {
         "data": {
          "application/vnd.jupyter.widget-view+json": {
           "model_id": "3a375b900d2b49be88c64f2ad7238f36",
           "version_major": 2,
           "version_minor": 0
          },
          "text/plain": "Plot(antialias=3, axes=['x', 'y', 'z'], axes_helper=1.0, background_color=16777215, camera=[2, -3, 0.2, 0.0, 0…"
         },
         "metadata": {},
         "output_type": "display_data"
        }
       ]
      }
     },
     "3fbadb677c5e4008b51d612b7de3a01e": {
      "model_module": "@jupyter-widgets/output",
      "model_module_version": "1.0.0",
      "model_name": "OutputModel",
      "state": {
       "layout": "IPY_MODEL_b0c03eff4e3c47d693b3e00d6080b1d5",
       "outputs": [
        {
         "data": {
          "application/vnd.jupyter.widget-view+json": {
           "model_id": "84c4913417c8463db74a7c1ac8af5de3",
           "version_major": 2,
           "version_minor": 0
          },
          "text/plain": "Plot(antialias=3, axes=['x', 'y', 'z'], axes_helper=1.0, background_color=16777215, camera=[2, -3, 0.2, 0.0, 0…"
         },
         "metadata": {},
         "output_type": "display_data"
        }
       ]
      }
     },
     "40195eda103e4682a47d4072ab35613d": {
      "buffers": [
       {
        "data": "eNoDAAAAAAE=",
        "encoding": "base64",
        "path": [
         "colors",
         "compressed_buffer"
        ]
       },
       {
        "data": "eNpjYGiwZ8AAxIsBAF7EAv0=",
        "encoding": "base64",
        "path": [
         "model_matrix",
         "compressed_buffer"
        ]
       },
       {
        "data": "eNoDAAAAAAE=",
        "encoding": "base64",
        "path": [
         "opacities",
         "compressed_buffer"
        ]
       },
       {
        "data": "eNpjYGCwZ4DjA0hsBQcYm5EhwQEhPgGJvQFJzQUk8Q9IbA5HBFsCia2BxLZwRJjjgcSOQGJnIKmvQGK3ILF7kNhTkNhz4GwA3oQXaA==",
        "encoding": "base64",
        "path": [
         "positions",
         "compressed_buffer"
        ]
       }
      ],
      "model_module": "k3d",
      "model_module_version": "2.7.4",
      "model_name": "ObjectModel",
      "state": {
       "_view_count": null,
       "_view_module": null,
       "_view_module_version": "",
       "_view_name": null,
       "color": 5010096,
       "colors": {
        "dtype": "uint32",
        "shape": [
         0
        ]
       },
       "compression_level": 0,
       "id": 4928633968,
       "mesh_detail": 2,
       "model_matrix": {
        "dtype": "float32",
        "shape": [
         4,
         4
        ]
       },
       "name": "Points #1",
       "opacities": {
        "dtype": "float32",
        "shape": [
         0
        ]
       },
       "opacity": 1,
       "point_size": 0.25,
       "positions": {
        "dtype": "float32",
        "shape": [
         20,
         3
        ]
       },
       "shader": "3dSpecular",
       "type": "Points",
       "visible": true
      }
     },
     "40a43e27b8104982832e6a67ba832134": {
      "buffers": [
       {
        "data": "eNoDAAAAAAE=",
        "encoding": "base64",
        "path": [
         "colors",
         "compressed_buffer"
        ]
       },
       {
        "data": "eNpjYGiwZ8AAxIsBAF7EAv0=",
        "encoding": "base64",
        "path": [
         "model_matrix",
         "compressed_buffer"
        ]
       },
       {
        "data": "eNoDAAAAAAE=",
        "encoding": "base64",
        "path": [
         "opacities",
         "compressed_buffer"
        ]
       },
       {
        "data": "eNpjYGCwZ4DjA0hsBQcYm5EhwQEhPgGJvQFJzQUk8Q9IbA5HBFsCzgYAxoYLzw==",
        "encoding": "base64",
        "path": [
         "positions",
         "compressed_buffer"
        ]
       }
      ],
      "model_module": "k3d",
      "model_module_version": "2.7.4",
      "model_name": "ObjectModel",
      "state": {
       "_view_count": null,
       "_view_module": null,
       "_view_module_version": "",
       "_view_name": null,
       "color": 5010096,
       "colorLegend": false,
       "colors": {
        "dtype": "uint32",
        "shape": [
         0
        ]
       },
       "compression_level": 0,
       "id": 4756852944,
       "mesh_detail": 2,
       "model_matrix": {
        "dtype": "float32",
        "shape": [
         4,
         4
        ]
       },
       "name": "Points #1",
       "opacities": {
        "dtype": "float32",
        "shape": [
         0
        ]
       },
       "opacity": 1,
       "point_size": 0.25,
       "positions": {
        "dtype": "float32",
        "shape": [
         10,
         3
        ]
       },
       "shader": "3dSpecular",
       "type": "Points",
       "visible": true
      }
     },
     "414bf690f7dd4c5b93469f9c14f5fa37": {
      "buffers": [
       {
        "data": "eNoLarnLEERFDABnGyH9",
        "encoding": "base64",
        "path": [
         "colors",
         "compressed_buffer"
        ]
       },
       {
        "data": "eNpjYGiwZ8AAxIsBAF7EAv0=",
        "encoding": "base64",
        "path": [
         "model_matrix",
         "compressed_buffer"
        ]
       },
       {
        "data": "eNpjYAADewjVYI9gMzjA2IwMDg5IapDYC5DUHEASf4DEZnBEsAXgbADj0ghK",
        "encoding": "base64",
        "path": [
         "origins",
         "compressed_buffer"
        ]
       },
       {
        "data": "eNpjYGiwZwADEE0/NgB7CQ7t",
        "encoding": "base64",
        "path": [
         "vectors",
         "compressed_buffer"
        ]
       }
      ],
      "model_module": "k3d",
      "model_module_version": "2.7.4",
      "model_name": "ObjectModel",
      "state": {
       "_view_count": null,
       "_view_module": null,
       "_view_module_version": "",
       "_view_name": null,
       "colorLegend": false,
       "colors": {
        "dtype": "uint32",
        "shape": [
         10,
         2
        ]
       },
       "compression_level": 0,
       "head_color": 255,
       "head_size": 3,
       "id": 4757579376,
       "label_size": 1,
       "labels": [],
       "line_width": 0.01,
       "model_matrix": {
        "dtype": "float32",
        "shape": [
         4,
         4
        ]
       },
       "name": "Vectors #1",
       "origin_color": 255,
       "origins": {
        "dtype": "float32",
        "shape": [
         10,
         3
        ]
       },
       "type": "Vectors",
       "use_head": true,
       "vectors": {
        "dtype": "float32",
        "shape": [
         10,
         3
        ]
       },
       "visible": true
      }
     },
     "4277f9eebb544d0a899cfddd44ed9fd5": {
      "buffers": [
       {
        "data": "eNrL0WNgyAHiYFUI9lOC4FhNCC4wFQLjHC8bMM5LigPjirp6MC6ZvQSM07cfB+Og80/B2OrBTzC2ePEPjM0e/QFjv8svwTh591kwLl6wCowrm1rBuCAtGYxzfB3BGADIcDc5",
        "encoding": "base64",
        "path": [
         "colors",
         "compressed_buffer"
        ]
       },
       {
        "data": "eNpjYGiwZ8AAxIsBAF7EAv0=",
        "encoding": "base64",
        "path": [
         "model_matrix",
         "compressed_buffer"
        ]
       },
       {
        "data": "eNpjYGiwi5qhYL9P0tyegcHBPmw6n/26UDsge4F9Wt03uzPX7e0ZGR7Yr1l7wW5BjTVQXMBhl+l6u1mrDIFsA4dpmlPtVnooA9UEOBx+22LHtFIQKF7gwAA0V/nKHzsGhg4HoyttdtcWXAOyZzgcPTnDLt1qC5C9wgFEg/gMDDscQPIgdYwMJxwg+hqA7BsOIPNA5jIyvHAA2QOyj4HhhwPIfpA7GBhYHEHuArmPgYHHEeRekLsZGEQcQf4A+YeBQcYR5D+QPwFZjlPZ",
        "encoding": "base64",
        "path": [
         "origins",
         "compressed_buffer"
        ]
       },
       {
        "data": "eNpjYGBgyEps2vcr7c4+IJMhovTl3h1hP8HsJZIStvrx/8HsIE9bu4ZPb8Hs3ikL7TJXHQOzr665ardYqRfMrlL5ZsfjwQtmA4F93HcvGxBjdvgnu1U1qnYgdlnOOTuj7ulgNogG8UFskDxIHYgN1WcPYoPMA5kLYoPsAdkHYoPsB7kDxAa5C+Q+EBvkXpC7QWyQP0D+AbFB/gP5EwBT5k59",
        "encoding": "base64",
        "path": [
         "vectors",
         "compressed_buffer"
        ]
       }
      ],
      "model_module": "k3d",
      "model_module_version": "2.7.4",
      "model_name": "ObjectModel",
      "state": {
       "_view_count": null,
       "_view_module": null,
       "_view_module_version": "",
       "_view_name": null,
       "colorLegend": false,
       "colors": {
        "dtype": "uint32",
        "shape": [
         20,
         2
        ]
       },
       "compression_level": 0,
       "head_color": 255,
       "head_size": 1,
       "id": 4756872448,
       "label_size": 1,
       "labels": [],
       "line_width": 0.01,
       "model_matrix": {
        "dtype": "float32",
        "shape": [
         4,
         4
        ]
       },
       "name": "Vectors #1",
       "origin_color": 255,
       "origins": {
        "dtype": "float32",
        "shape": [
         20,
         3
        ]
       },
       "type": "Vectors",
       "use_head": true,
       "vectors": {
        "dtype": "float32",
        "shape": [
         20,
         3
        ]
       },
       "visible": true
      }
     },
     "440d63b1eba644a58c767aa1d7da35f9": {
      "model_module": "@jupyter-widgets/output",
      "model_module_version": "1.0.0",
      "model_name": "OutputModel",
      "state": {
       "layout": "IPY_MODEL_f3fbd85f6bfc439b821a3f822d15d40e",
       "outputs": [
        {
         "data": {
          "application/vnd.jupyter.widget-view+json": {
           "model_id": "ba0b1e232dec4c52b3fdcf3a27e64e6f",
           "version_major": 2,
           "version_minor": 0
          },
          "text/plain": "Plot(antialias=3, axes=['x', 'y', 'z'], axes_helper=1.0, background_color=16777215, camera=[2, -3, 0.2, 0.0, 0…"
         },
         "metadata": {},
         "output_type": "display_data"
        }
       ]
      }
     },
     "44849d937d3f42da98337c4c794743e1": {
      "buffers": [
       {
        "data": "eNoLarnLEERFDABnGyH9",
        "encoding": "base64",
        "path": [
         "colors",
         "compressed_buffer"
        ]
       },
       {
        "data": "eNpjYGiwZ8AAxIsBAF7EAv0=",
        "encoding": "base64",
        "path": [
         "model_matrix",
         "compressed_buffer"
        ]
       },
       {
        "data": "eNpjYGCwZ2BgMGYAgwNAdgOUr+AAYTfYMzIkOEDkQfwJDgj1G6BqGBgYGS7A1TMwfICqAbE5HCFqQXwJR5h6AG1zDpk=",
        "encoding": "base64",
        "path": [
         "origins",
         "compressed_buffer"
        ]
       },
       {
        "data": "eNpjYGBg+P+/3p6BoQGIQaBhP4QPFt8P4kPF7SF8VPVQNch6kdUg60VRDwADFSdP",
        "encoding": "base64",
        "path": [
         "vectors",
         "compressed_buffer"
        ]
       }
      ],
      "model_module": "k3d",
      "model_module_version": "2.7.4",
      "model_name": "ObjectModel",
      "state": {
       "_view_count": null,
       "_view_module": null,
       "_view_module_version": "",
       "_view_name": null,
       "colorLegend": false,
       "colors": {
        "dtype": "uint32",
        "shape": [
         10,
         2
        ]
       },
       "compression_level": 0,
       "head_color": 255,
       "head_size": 3,
       "id": 4932504448,
       "label_size": 1,
       "labels": [],
       "line_width": 0.01,
       "model_matrix": {
        "dtype": "float32",
        "shape": [
         4,
         4
        ]
       },
       "name": "Vectors #1",
       "origin_color": 255,
       "origins": {
        "dtype": "float32",
        "shape": [
         10,
         3
        ]
       },
       "type": "Vectors",
       "use_head": true,
       "vectors": {
        "dtype": "float32",
        "shape": [
         10,
         3
        ]
       },
       "visible": true
      }
     },
     "44eb7c12b27a4b0aacc629e38ebf7a8f": {
      "buffers": [
       {
        "data": "eNoDAAAAAAE=",
        "encoding": "base64",
        "path": [
         "colors",
         "compressed_buffer"
        ]
       },
       {
        "data": "eNpjYGiwZ8AAxIsBAF7EAv0=",
        "encoding": "base64",
        "path": [
         "model_matrix",
         "compressed_buffer"
        ]
       },
       {
        "data": "eNoDAAAAAAE=",
        "encoding": "base64",
        "path": [
         "opacities",
         "compressed_buffer"
        ]
       },
       {
        "data": "eNpjYGCwZ4DjA0hsBQcYm5EhwQEhPgGJvQFJzQUk8Q9IbA5HBFsCia2BxLZwRJjjgcSOQGJnIKmvQGK3ILF7kNhTkNhz4GwA3oQXaA==",
        "encoding": "base64",
        "path": [
         "positions",
         "compressed_buffer"
        ]
       }
      ],
      "model_module": "k3d",
      "model_module_version": "2.7.4",
      "model_name": "ObjectModel",
      "state": {
       "_view_count": null,
       "_view_module": null,
       "_view_module_version": "",
       "_view_name": null,
       "color": 5010096,
       "colors": {
        "dtype": "uint32",
        "shape": [
         0
        ]
       },
       "compression_level": 0,
       "id": 4928685920,
       "mesh_detail": 2,
       "model_matrix": {
        "dtype": "float32",
        "shape": [
         4,
         4
        ]
       },
       "name": "Points #1",
       "opacities": {
        "dtype": "float32",
        "shape": [
         0
        ]
       },
       "opacity": 1,
       "point_size": 0.25,
       "positions": {
        "dtype": "float32",
        "shape": [
         20,
         3
        ]
       },
       "shader": "3dSpecular",
       "type": "Points",
       "visible": true
      }
     },
     "4646dd509c2a46248f8c2f38f1f967cd": {
      "buffers": [
       {
        "data": "eNoDAAAAAAE=",
        "encoding": "base64",
        "path": [
         "colors",
         "compressed_buffer"
        ]
       },
       {
        "data": "eNpjYGiwZ8AAxIsBAF7EAv0=",
        "encoding": "base64",
        "path": [
         "model_matrix",
         "compressed_buffer"
        ]
       },
       {
        "data": "eNoDAAAAAAE=",
        "encoding": "base64",
        "path": [
         "opacities",
         "compressed_buffer"
        ]
       },
       {
        "data": "eNpjYGCwZ4DjA0hsBQcYm5EhwQEhPgGJvQFJzQUk8Q9IbA5HBFsCia2BxLZwRJjjgcSOQGJnIKmvQGK3ILF7kNhTkNhz4GwA3oQXaA==",
        "encoding": "base64",
        "path": [
         "positions",
         "compressed_buffer"
        ]
       }
      ],
      "model_module": "k3d",
      "model_module_version": "2.7.4",
      "model_name": "ObjectModel",
      "state": {
       "_view_count": null,
       "_view_module": null,
       "_view_module_version": "",
       "_view_name": null,
       "color": 5010096,
       "colors": {
        "dtype": "uint32",
        "shape": [
         0
        ]
       },
       "compression_level": 0,
       "id": 4578426688,
       "mesh_detail": 2,
       "model_matrix": {
        "dtype": "float32",
        "shape": [
         4,
         4
        ]
       },
       "name": "Points #1",
       "opacities": {
        "dtype": "float32",
        "shape": [
         0
        ]
       },
       "opacity": 1,
       "point_size": 0.25,
       "positions": {
        "dtype": "float32",
        "shape": [
         20,
         3
        ]
       },
       "shader": "3dSpecular",
       "type": "Points",
       "visible": true
      }
     },
     "46c0b72011d64f77b70f37da749bb4be": {
      "model_module": "@jupyter-widgets/base",
      "model_module_version": "1.2.0",
      "model_name": "LayoutModel",
      "state": {}
     },
     "48148ef96f0f4090a1fa921d7a729374": {
      "buffers": [
       {
        "data": "eNoDAAAAAAE=",
        "encoding": "base64",
        "path": [
         "colors",
         "compressed_buffer"
        ]
       },
       {
        "data": "eNpjYGiwZ8AAxIsBAF7EAv0=",
        "encoding": "base64",
        "path": [
         "model_matrix",
         "compressed_buffer"
        ]
       },
       {
        "data": "eNoDAAAAAAE=",
        "encoding": "base64",
        "path": [
         "opacities",
         "compressed_buffer"
        ]
       },
       {
        "data": "eNpjYGiwY2BgsIdgB3sEewGczcjwAElcwAHBNnBAqAlAEi9AYncgsWcgsVcgsXcgmXMCiX0Dif0CSf0PJDaLI4LNg8QWQWLLwNkArvAYXQ==",
        "encoding": "base64",
        "path": [
         "positions",
         "compressed_buffer"
        ]
       }
      ],
      "model_module": "k3d",
      "model_module_version": "2.7.4",
      "model_name": "ObjectModel",
      "state": {
       "_view_count": null,
       "_view_module": null,
       "_view_module_version": "",
       "_view_name": null,
       "color": 5010096,
       "colorLegend": false,
       "colors": {
        "dtype": "uint32",
        "shape": [
         0
        ]
       },
       "compression_level": 0,
       "id": 4941495504,
       "mesh_detail": 2,
       "model_matrix": {
        "dtype": "float32",
        "shape": [
         4,
         4
        ]
       },
       "name": "Points #1",
       "opacities": {
        "dtype": "float32",
        "shape": [
         0
        ]
       },
       "opacity": 1,
       "point_size": 0.125,
       "positions": {
        "dtype": "float32",
        "shape": [
         20,
         3
        ]
       },
       "shader": "3dSpecular",
       "type": "Points",
       "visible": true
      }
     },
     "4872ff07593d49589a147c7da14aa8bd": {
      "buffers": [
       {
        "data": "eNoDAAAAAAE=",
        "encoding": "base64",
        "path": [
         "colors",
         "compressed_buffer"
        ]
       },
       {
        "data": "eNpjYGiwZ8AAxIsBAF7EAv0=",
        "encoding": "base64",
        "path": [
         "model_matrix",
         "compressed_buffer"
        ]
       },
       {
        "data": "eNoDAAAAAAE=",
        "encoding": "base64",
        "path": [
         "opacities",
         "compressed_buffer"
        ]
       },
       {
        "data": "eNpjYGCwZ4DjA0hsBQcYm5EhwQEhPgGJvQFJzQUk8Q9IbA5HBFsCzgYAxoYLzw==",
        "encoding": "base64",
        "path": [
         "positions",
         "compressed_buffer"
        ]
       }
      ],
      "model_module": "k3d",
      "model_module_version": "2.7.4",
      "model_name": "ObjectModel",
      "state": {
       "_view_count": null,
       "_view_module": null,
       "_view_module_version": "",
       "_view_name": null,
       "color": 5010096,
       "colorLegend": false,
       "colors": {
        "dtype": "uint32",
        "shape": [
         0
        ]
       },
       "compression_level": 0,
       "id": 4756854720,
       "mesh_detail": 2,
       "model_matrix": {
        "dtype": "float32",
        "shape": [
         4,
         4
        ]
       },
       "name": "Points #1",
       "opacities": {
        "dtype": "float32",
        "shape": [
         0
        ]
       },
       "opacity": 1,
       "point_size": 0.25,
       "positions": {
        "dtype": "float32",
        "shape": [
         10,
         3
        ]
       },
       "shader": "3dSpecular",
       "type": "Points",
       "visible": true
      }
     },
     "4a623b767b8e456c9d236127f0d15b97": {
      "model_module": "@jupyter-widgets/base",
      "model_module_version": "1.2.0",
      "model_name": "LayoutModel",
      "state": {}
     },
     "4ad682ab13c24338845454c40d8f101c": {
      "model_module": "@jupyter-widgets/output",
      "model_module_version": "1.0.0",
      "model_name": "OutputModel",
      "state": {
       "layout": "IPY_MODEL_17429344dc6e4f9b82ec5f2dd385b5f9",
       "outputs": [
        {
         "data": {
          "application/vnd.jupyter.widget-view+json": {
           "model_id": "1af97198b37b431ca4a8b6cb30326ce4",
           "version_major": 2,
           "version_minor": 0
          },
          "text/plain": "Plot(antialias=3, axes=['x', 'y', 'z'], axes_helper=1.0, background_color=16777215, camera=[2, -3, 0.2, 0.0, 0…"
         },
         "metadata": {},
         "output_type": "display_data"
        }
       ]
      }
     },
     "4b5eea5d47f84d1a8e926906f5d090fe": {
      "buffers": [
       {
        "data": "eNoLarnLEERFDABnGyH9",
        "encoding": "base64",
        "path": [
         "colors",
         "compressed_buffer"
        ]
       },
       {
        "data": "eNpjYGiwZ8AAxIsBAF7EAv0=",
        "encoding": "base64",
        "path": [
         "model_matrix",
         "compressed_buffer"
        ]
       },
       {
        "data": "eNpjYGiwZ2BgsD97hgdEOyDYDkjsBiT2Agx2WtozO0aGA3A2A8MDJDaDI4ItAGcDAHQcHE0=",
        "encoding": "base64",
        "path": [
         "origins",
         "compressed_buffer"
        ]
       },
       {
        "data": "eNpjYGjYzwAEZ8+c2ctAOtseyrYllQ0AcQMmyw==",
        "encoding": "base64",
        "path": [
         "vectors",
         "compressed_buffer"
        ]
       }
      ],
      "model_module": "k3d",
      "model_module_version": "2.7.4",
      "model_name": "ObjectModel",
      "state": {
       "_view_count": null,
       "_view_module": null,
       "_view_module_version": "",
       "_view_name": null,
       "colorLegend": false,
       "colors": {
        "dtype": "uint32",
        "shape": [
         10,
         2
        ]
       },
       "compression_level": 0,
       "head_color": 255,
       "head_size": 3,
       "id": 4926062208,
       "label_size": 1,
       "labels": [],
       "line_width": 0.01,
       "model_matrix": {
        "dtype": "float32",
        "shape": [
         4,
         4
        ]
       },
       "name": "Vectors #1",
       "origin_color": 255,
       "origins": {
        "dtype": "float32",
        "shape": [
         10,
         3
        ]
       },
       "type": "Vectors",
       "use_head": true,
       "vectors": {
        "dtype": "float32",
        "shape": [
         10,
         3
        ]
       },
       "visible": true
      }
     },
     "4b6fe5d029c04ed6b37112ffdf53bf71": {
      "model_module": "k3d",
      "model_module_version": "2.7.4",
      "model_name": "PlotModel",
      "state": {
       "_backend_version": "2.7.4",
       "_dom_classes": [],
       "_view_count": null,
       "antialias": 3,
       "auto_rendering": true,
       "axes": [
        "x (nm)",
        "y (nm)",
        "z (nm)"
       ],
       "axes_helper": 1,
       "background_color": 16777215,
       "camera": [
        19.859266190073832,
        -8.95443096192976,
        3.9541960701784755,
        10,
        0.5,
        0.5000000149011612,
        -0.13942092365844183,
        0.13068888950735846,
        0.9815713016411821
       ],
       "camera_animation": [],
       "camera_auto_fit": true,
       "camera_fov": 60,
       "camera_no_pan": false,
       "camera_no_rotate": false,
       "camera_no_zoom": false,
       "clipping_planes": [],
       "colorbar_object_id": -1,
       "fps": 25,
       "fps_meter": false,
       "grid": [
        -1,
        -1,
        -1,
        1,
        1,
        1
       ],
       "grid_auto_fit": true,
       "grid_visible": true,
       "height": 512,
       "layout": "IPY_MODEL_fb95d973961f49fd84f2cd9fe3cbb378",
       "lighting": 1.5,
       "menu_visibility": true,
       "mode": "view",
       "name": null,
       "object_ids": [
        4565864560,
        4578426688
       ],
       "rendering_steps": 1,
       "screenshot": "",
       "screenshot_scale": 2,
       "snapshot": "",
       "time": 0,
       "voxel_paint_color": 0
      }
     },
     "4b9d6850d3824813b51da4fc2bffec22": {
      "buffers": [
       {
        "data": "eNoDAAAAAAE=",
        "encoding": "base64",
        "path": [
         "colors",
         "compressed_buffer"
        ]
       },
       {
        "data": "eNpjYGiwZ8AAxIsBAF7EAv0=",
        "encoding": "base64",
        "path": [
         "model_matrix",
         "compressed_buffer"
        ]
       },
       {
        "data": "eNoDAAAAAAE=",
        "encoding": "base64",
        "path": [
         "opacities",
         "compressed_buffer"
        ]
       },
       {
        "data": "eNpjYGCwZ4DjA0hsBQcYm5EhwQEhPgGJvQFJzQUk8Q9IbA5HBFsCzgYAxoYLzw==",
        "encoding": "base64",
        "path": [
         "positions",
         "compressed_buffer"
        ]
       }
      ],
      "model_module": "k3d",
      "model_module_version": "2.7.4",
      "model_name": "ObjectModel",
      "state": {
       "_view_count": null,
       "_view_module": null,
       "_view_module_version": "",
       "_view_name": null,
       "color": 5010096,
       "colorLegend": false,
       "colors": {
        "dtype": "uint32",
        "shape": [
         0
        ]
       },
       "compression_level": 0,
       "id": 4755672128,
       "mesh_detail": 2,
       "model_matrix": {
        "dtype": "float32",
        "shape": [
         4,
         4
        ]
       },
       "name": "Points #1",
       "opacities": {
        "dtype": "float32",
        "shape": [
         0
        ]
       },
       "opacity": 1,
       "point_size": 0.25,
       "positions": {
        "dtype": "float32",
        "shape": [
         10,
         3
        ]
       },
       "shader": "3dSpecular",
       "type": "Points",
       "visible": true
      }
     },
     "4ba014797626467099eadf31e66766f3": {
      "model_module": "@jupyter-widgets/output",
      "model_module_version": "1.0.0",
      "model_name": "OutputModel",
      "state": {
       "layout": "IPY_MODEL_352e1ef763284f26a2b12e4881207685",
       "outputs": [
        {
         "data": {
          "application/vnd.jupyter.widget-view+json": {
           "model_id": "100559bc16294879a3b9aa126e634cba",
           "version_major": 2,
           "version_minor": 0
          },
          "text/plain": "Plot(antialias=3, axes=['x', 'y', 'z'], axes_helper=1.0, background_color=16777215, camera=[2, -3, 0.2, 0.0, 0…"
         },
         "metadata": {},
         "output_type": "display_data"
        }
       ]
      }
     },
     "4c1aeaa268464231ab92c57f3acd32fd": {
      "buffers": [
       {
        "data": "eNoDAAAAAAE=",
        "encoding": "base64",
        "path": [
         "colors",
         "compressed_buffer"
        ]
       },
       {
        "data": "eNpjYGiwZ8AAxIsBAF7EAv0=",
        "encoding": "base64",
        "path": [
         "model_matrix",
         "compressed_buffer"
        ]
       },
       {
        "data": "eNoDAAAAAAE=",
        "encoding": "base64",
        "path": [
         "opacities",
         "compressed_buffer"
        ]
       },
       {
        "data": "eNpjYGCwZ4DjA0hsBQcYm5EhwQEhPgGJvQFJzQUk8Q9IbA5HBFsCzgYAxoYLzw==",
        "encoding": "base64",
        "path": [
         "positions",
         "compressed_buffer"
        ]
       }
      ],
      "model_module": "k3d",
      "model_module_version": "2.7.4",
      "model_name": "ObjectModel",
      "state": {
       "_view_count": null,
       "_view_module": null,
       "_view_module_version": "",
       "_view_name": null,
       "color": 5010096,
       "colorLegend": false,
       "colors": {
        "dtype": "uint32",
        "shape": [
         0
        ]
       },
       "compression_level": 0,
       "id": 4934759760,
       "mesh_detail": 2,
       "model_matrix": {
        "dtype": "float32",
        "shape": [
         4,
         4
        ]
       },
       "name": "Points #1",
       "opacities": {
        "dtype": "float32",
        "shape": [
         0
        ]
       },
       "opacity": 1,
       "point_size": 0.25,
       "positions": {
        "dtype": "float32",
        "shape": [
         10,
         3
        ]
       },
       "shader": "3dSpecular",
       "type": "Points",
       "visible": true
      }
     },
     "4c2ad6411a4a4ae78adbe2998ccbdeab": {
      "model_module": "@jupyter-widgets/base",
      "model_module_version": "1.2.0",
      "model_name": "LayoutModel",
      "state": {}
     },
     "4c3cf7d5e3684327911df01ad7750bfc": {
      "model_module": "@jupyter-widgets/output",
      "model_module_version": "1.0.0",
      "model_name": "OutputModel",
      "state": {
       "layout": "IPY_MODEL_3e57da3a76c7480680b9d489baf151b5",
       "outputs": [
        {
         "data": {
          "application/vnd.jupyter.widget-view+json": {
           "model_id": "189dc7b9afea412893cc0c798ebe4204",
           "version_major": 2,
           "version_minor": 0
          },
          "text/plain": "Plot(antialias=3, axes=['x', 'y', 'z'], axes_helper=1.0, background_color=16777215, camera=[2, -3, 0.2, 0.0, 0…"
         },
         "metadata": {},
         "output_type": "display_data"
        }
       ]
      }
     },
     "4ce1362434dd468db41f46a9fd0bfbc0": {
      "model_module": "@jupyter-widgets/base",
      "model_module_version": "1.2.0",
      "model_name": "LayoutModel",
      "state": {}
     },
     "4d6f7e5603f04eeeb793895e5fd69400": {
      "model_module": "k3d",
      "model_module_version": "2.7.4",
      "model_name": "PlotModel",
      "state": {
       "_backend_version": "2.7.4",
       "_dom_classes": [],
       "_view_count": null,
       "antialias": 3,
       "auto_rendering": true,
       "axes": [
        "x (nm)",
        "y (nm)",
        "z (nm)"
       ],
       "axes_helper": 1,
       "background_color": 16777215,
       "camera": [
        13.312922348924026,
        -11.969383532282365,
        1.3312922354855081,
        4.999999994069116,
        0.5,
        0.5,
        0,
        0,
        1
       ],
       "camera_animation": [],
       "camera_auto_fit": true,
       "camera_fov": 60,
       "camera_no_pan": false,
       "camera_no_rotate": false,
       "camera_no_zoom": false,
       "clipping_planes": [],
       "colorbar_object_id": -1,
       "fps": 25,
       "fps_meter": false,
       "grid": [
        -1,
        -1,
        -1,
        1,
        1,
        1
       ],
       "grid_auto_fit": true,
       "grid_visible": true,
       "height": 512,
       "layout": "IPY_MODEL_5c5fc1ae13c74ee1be0171a4aa0c19e2",
       "lighting": 1.5,
       "menu_visibility": true,
       "mode": "view",
       "name": null,
       "object_ids": [
        4757799600,
        4757800464
       ],
       "rendering_steps": 1,
       "screenshot": "",
       "screenshot_scale": 2,
       "snapshot": "",
       "time": 0,
       "voxel_paint_color": 0
      }
     },
     "4d93fe938ab94daabaf7b10ea5cd9b61": {
      "buffers": [
       {
        "data": "eNoDAAAAAAE=",
        "encoding": "base64",
        "path": [
         "colors",
         "compressed_buffer"
        ]
       },
       {
        "data": "eNpjYGiwZ8AAxIsBAF7EAv0=",
        "encoding": "base64",
        "path": [
         "model_matrix",
         "compressed_buffer"
        ]
       },
       {
        "data": "eNoDAAAAAAE=",
        "encoding": "base64",
        "path": [
         "opacities",
         "compressed_buffer"
        ]
       },
       {
        "data": "eNpjYGCwZ4DjA0hsBQcYm5EhwQEhPgGJvQFJzQUk8Q9IbA5HBFsCzgYAxoYLzw==",
        "encoding": "base64",
        "path": [
         "positions",
         "compressed_buffer"
        ]
       }
      ],
      "model_module": "k3d",
      "model_module_version": "2.7.4",
      "model_name": "ObjectModel",
      "state": {
       "_view_count": null,
       "_view_module": null,
       "_view_module_version": "",
       "_view_name": null,
       "color": 5010096,
       "colorLegend": false,
       "colors": {
        "dtype": "uint32",
        "shape": [
         0
        ]
       },
       "compression_level": 0,
       "id": 4575518384,
       "mesh_detail": 2,
       "model_matrix": {
        "dtype": "float32",
        "shape": [
         4,
         4
        ]
       },
       "name": "Points #1",
       "opacities": {
        "dtype": "float32",
        "shape": [
         0
        ]
       },
       "opacity": 1,
       "point_size": 0.25,
       "positions": {
        "dtype": "float32",
        "shape": [
         10,
         3
        ]
       },
       "shader": "3dSpecular",
       "type": "Points",
       "visible": true
      }
     },
     "4e7b78a609644465ae90f86f1f93fca6": {
      "model_module": "@jupyter-widgets/base",
      "model_module_version": "1.2.0",
      "model_name": "LayoutModel",
      "state": {}
     },
     "4edd8ac2ec224ee88ba27b21af10b2db": {
      "buffers": [
       {
        "data": "eNoDAAAAAAE=",
        "encoding": "base64",
        "path": [
         "colors",
         "compressed_buffer"
        ]
       },
       {
        "data": "eNpjYGiwZ8AAxIsBAF7EAv0=",
        "encoding": "base64",
        "path": [
         "model_matrix",
         "compressed_buffer"
        ]
       },
       {
        "data": "eNoDAAAAAAE=",
        "encoding": "base64",
        "path": [
         "opacities",
         "compressed_buffer"
        ]
       },
       {
        "data": "eNpjYGCwZ4DjA0hsBQcYm5EhwQEhPgGJvQFJzQUk8Q9IbA5HBFsCzgYAxoYLzw==",
        "encoding": "base64",
        "path": [
         "positions",
         "compressed_buffer"
        ]
       }
      ],
      "model_module": "k3d",
      "model_module_version": "2.7.4",
      "model_name": "ObjectModel",
      "state": {
       "_view_count": null,
       "_view_module": null,
       "_view_module_version": "",
       "_view_name": null,
       "color": 5010096,
       "colorLegend": false,
       "colors": {
        "dtype": "uint32",
        "shape": [
         0
        ]
       },
       "compression_level": 0,
       "id": 4937000896,
       "mesh_detail": 2,
       "model_matrix": {
        "dtype": "float32",
        "shape": [
         4,
         4
        ]
       },
       "name": "Points #1",
       "opacities": {
        "dtype": "float32",
        "shape": [
         0
        ]
       },
       "opacity": 1,
       "point_size": 0.25,
       "positions": {
        "dtype": "float32",
        "shape": [
         10,
         3
        ]
       },
       "shader": "3dSpecular",
       "type": "Points",
       "visible": true
      }
     },
     "4f0e0ea43e83457c8e867ffbfc5e7cf6": {
      "model_module": "@jupyter-widgets/output",
      "model_module_version": "1.0.0",
      "model_name": "OutputModel",
      "state": {
       "layout": "IPY_MODEL_8b44c62fbeef44cc9ebe846b5a69e6ae",
       "outputs": [
        {
         "data": {
          "application/vnd.jupyter.widget-view+json": {
           "model_id": "25b6dd4f83954b1c835c87977ae525bd",
           "version_major": 2,
           "version_minor": 0
          },
          "text/plain": "Plot(antialias=3, axes=['x', 'y', 'z'], axes_helper=1.0, background_color=16777215, camera=[2, -3, 0.2, 0.0, 0…"
         },
         "metadata": {},
         "output_type": "display_data"
        }
       ]
      }
     },
     "4f2b1e62dbaf461c83f6fd5d29829c87": {
      "buffers": [
       {
        "data": "eNoLarnLEERFDABnGyH9",
        "encoding": "base64",
        "path": [
         "colors",
         "compressed_buffer"
        ]
       },
       {
        "data": "eNpjYGiwZ8AAxIsBAF7EAv0=",
        "encoding": "base64",
        "path": [
         "model_matrix",
         "compressed_buffer"
        ]
       },
       {
        "data": "eNpjYGCwl/omagfCDAwHkNgKDjA2I0OCA0J8AhJ7gQMDUD8IMzIcgLMZGB4gsRkcEWwBOBsAtJAW9w==",
        "encoding": "base64",
        "path": [
         "origins",
         "compressed_buffer"
        ]
       },
       {
        "data": "eNpjYGBg+Mxiag/CDCSzG8B8CCCNDQBu3BHq",
        "encoding": "base64",
        "path": [
         "vectors",
         "compressed_buffer"
        ]
       }
      ],
      "model_module": "k3d",
      "model_module_version": "2.7.4",
      "model_name": "ObjectModel",
      "state": {
       "_view_count": null,
       "_view_module": null,
       "_view_module_version": "",
       "_view_name": null,
       "colorLegend": false,
       "colors": {
        "dtype": "uint32",
        "shape": [
         10,
         2
        ]
       },
       "compression_level": 0,
       "head_color": 255,
       "head_size": 3,
       "id": 4936999504,
       "label_size": 1,
       "labels": [],
       "line_width": 0.01,
       "model_matrix": {
        "dtype": "float32",
        "shape": [
         4,
         4
        ]
       },
       "name": "Vectors #1",
       "origin_color": 255,
       "origins": {
        "dtype": "float32",
        "shape": [
         10,
         3
        ]
       },
       "type": "Vectors",
       "use_head": true,
       "vectors": {
        "dtype": "float32",
        "shape": [
         10,
         3
        ]
       },
       "visible": true
      }
     },
     "4f646fd172ce4d7b965ed47d493b3694": {
      "buffers": [
       {
        "data": "eNoDAAAAAAE=",
        "encoding": "base64",
        "path": [
         "colors",
         "compressed_buffer"
        ]
       },
       {
        "data": "eNpjYGiwZ8AAxIsBAF7EAv0=",
        "encoding": "base64",
        "path": [
         "model_matrix",
         "compressed_buffer"
        ]
       },
       {
        "data": "eNoDAAAAAAE=",
        "encoding": "base64",
        "path": [
         "opacities",
         "compressed_buffer"
        ]
       },
       {
        "data": "eNpjYGCwZ4DjA0hsBQcYm5EhwQEhPgGJvQFJzQUk8Q9IbA5HBFsCia2BxLZwRJjjgcSOQGJnIKmvQGK3ILF7kNhTkNhz4GwA3oQXaA==",
        "encoding": "base64",
        "path": [
         "positions",
         "compressed_buffer"
        ]
       }
      ],
      "model_module": "k3d",
      "model_module_version": "2.7.4",
      "model_name": "ObjectModel",
      "state": {
       "_view_count": null,
       "_view_module": null,
       "_view_module_version": "",
       "_view_name": null,
       "color": 5010096,
       "colorLegend": false,
       "colors": {
        "dtype": "uint32",
        "shape": [
         0
        ]
       },
       "compression_level": 0,
       "id": 4580476960,
       "mesh_detail": 2,
       "model_matrix": {
        "dtype": "float32",
        "shape": [
         4,
         4
        ]
       },
       "name": "Points #1",
       "opacities": {
        "dtype": "float32",
        "shape": [
         0
        ]
       },
       "opacity": 1,
       "point_size": 0.25,
       "positions": {
        "dtype": "float32",
        "shape": [
         20,
         3
        ]
       },
       "shader": "3dSpecular",
       "type": "Points",
       "visible": true
      }
     },
     "4faaf8b0156f49ed98587d5e7206d7ec": {
      "model_module": "@jupyter-widgets/base",
      "model_module_version": "1.2.0",
      "model_name": "LayoutModel",
      "state": {}
     },
     "5140163e458746acadd0dc2fb8f72a8e": {
      "model_module": "@jupyter-widgets/base",
      "model_module_version": "1.2.0",
      "model_name": "LayoutModel",
      "state": {}
     },
     "516da9d349bb4b67910b2f29d3de658c": {
      "buffers": [
       {
        "data": "eNoLarnLEERFDABnGyH9",
        "encoding": "base64",
        "path": [
         "colors",
         "compressed_buffer"
        ]
       },
       {
        "data": "eNpjYGiwZ8AAxIsBAF7EAv0=",
        "encoding": "base64",
        "path": [
         "model_matrix",
         "compressed_buffer"
        ]
       },
       {
        "data": "eNpjYAADewjVYI9gMzjA2IwMDg5IapDYC5DUHEASf4DEZnBEsAXgbADj0ghK",
        "encoding": "base64",
        "path": [
         "origins",
         "compressed_buffer"
        ]
       },
       {
        "data": "eNpjYGiwZwADEE0/NgB7CQ7t",
        "encoding": "base64",
        "path": [
         "vectors",
         "compressed_buffer"
        ]
       }
      ],
      "model_module": "k3d",
      "model_module_version": "2.7.4",
      "model_name": "ObjectModel",
      "state": {
       "_view_count": null,
       "_view_module": null,
       "_view_module_version": "",
       "_view_name": null,
       "colorLegend": false,
       "colors": {
        "dtype": "uint32",
        "shape": [
         10,
         2
        ]
       },
       "compression_level": 0,
       "head_color": 255,
       "head_size": 3,
       "id": 4584460832,
       "label_size": 1,
       "labels": [],
       "line_width": 0.01,
       "model_matrix": {
        "dtype": "float32",
        "shape": [
         4,
         4
        ]
       },
       "name": "Vectors #1",
       "origin_color": 255,
       "origins": {
        "dtype": "float32",
        "shape": [
         10,
         3
        ]
       },
       "type": "Vectors",
       "use_head": true,
       "vectors": {
        "dtype": "float32",
        "shape": [
         10,
         3
        ]
       },
       "visible": true
      }
     },
     "51e6bdec04e14b0fa04b0485822e6130": {
      "model_module": "@jupyter-widgets/output",
      "model_module_version": "1.0.0",
      "model_name": "OutputModel",
      "state": {
       "layout": "IPY_MODEL_e96a05ac2117482d87b42c1dd775fc45",
       "outputs": [
        {
         "data": {
          "application/vnd.jupyter.widget-view+json": {
           "model_id": "59678d3bfd6a4dd18ee2d36f35b9ee61",
           "version_major": 2,
           "version_minor": 0
          },
          "text/plain": "Plot(antialias=3, axes=['x', 'y', 'z'], axes_helper=1.0, background_color=16777215, camera=[2, -3, 0.2, 0.0, 0…"
         },
         "metadata": {},
         "output_type": "display_data"
        }
       ]
      }
     },
     "52a7a8dec58443948637638810c43a87": {
      "buffers": [
       {
        "data": "eNrL0WNgyAHiYFUI9lOC4FhNCC4wFQLjHC8bMM5LigPjirp6MC6ZvQSM07cfB+Og80/B2OrBTzC2ePEPjM0e/QFjv8svwTh591kwLl6wCowrm1rBuCAtGYxzfB3BGADIcDc5",
        "encoding": "base64",
        "path": [
         "colors",
         "compressed_buffer"
        ]
       },
       {
        "data": "eNpjYGiwZ8AAxIsBAF7EAv0=",
        "encoding": "base64",
        "path": [
         "model_matrix",
         "compressed_buffer"
        ]
       },
       {
        "data": "eNpjYGCwX2fgaN9onGfPwHDAfrGerH3c6hogW8Fhz583dtPX19szMiQ4eEYvtLP5WQYUn+Bw4ZqNnUFoMpC9wWGKz0pb34luQDUXHAx2zLX5F6gMFP/gwAAEdit+2jEwcDgmtN2yWe64FsiWcNTxO2Y762UAkK3hCKJBfAYGC0eQPEgdI4OHI0QfAwMjQ4QjyDyQuYwMGY4ge0D2MTBUOILsB7mDgaHFEeQukPsYGHocQe4FuZuBYYojyB8g/zAwzHEE+Q/kTwBTJ1BO",
        "encoding": "base64",
        "path": [
         "origins",
         "compressed_buffer"
        ]
       },
       {
        "data": "eNpjYGBgiElk2s+UHrMfyGSQKM3ctyesEsyWl5phqxdfD2bnee61q/yUC2bPmKJon7DKDcy+vSbUfpYSL5hdq1Jm/8u9dx8DGDTYW/04ZQNizQovst9Us9QOxC7N8bM37ha3B7FBNIgPYoPkQepAbIi+BjAbZB7IXLA5QHtA9oHYIPtB7gCxQe4CuQ/EBrkX5G4QG+QPkH9AbJD/QP4EAOBDRN0=",
        "encoding": "base64",
        "path": [
         "vectors",
         "compressed_buffer"
        ]
       }
      ],
      "model_module": "k3d",
      "model_module_version": "2.7.4",
      "model_name": "ObjectModel",
      "state": {
       "_view_count": null,
       "_view_module": null,
       "_view_module_version": "",
       "_view_name": null,
       "colorLegend": false,
       "colors": {
        "dtype": "uint32",
        "shape": [
         20,
         2
        ]
       },
       "compression_level": 0,
       "head_color": 255,
       "head_size": 1,
       "id": 4937001184,
       "label_size": 1,
       "labels": [],
       "line_width": 0.01,
       "model_matrix": {
        "dtype": "float32",
        "shape": [
         4,
         4
        ]
       },
       "name": "Vectors #1",
       "origin_color": 255,
       "origins": {
        "dtype": "float32",
        "shape": [
         20,
         3
        ]
       },
       "type": "Vectors",
       "use_head": true,
       "vectors": {
        "dtype": "float32",
        "shape": [
         20,
         3
        ]
       },
       "visible": true
      }
     },
     "52d69e54167c48508ab5532ebbd79339": {
      "model_module": "k3d",
      "model_module_version": "2.7.4",
      "model_name": "PlotModel",
      "state": {
       "_backend_version": "2.7.4",
       "_dom_classes": [],
       "_view_count": null,
       "antialias": 3,
       "auto_rendering": true,
       "axes": [
        "x (nm)",
        "y (nm)",
        "z (nm)"
       ],
       "axes_helper": 1,
       "background_color": 16777215,
       "camera": [
        13.351749844490127,
        -12.027624773057223,
        1.335174999771651,
        4.9999999957853145,
        0.5,
        0.5000000149011612,
        0,
        0,
        1
       ],
       "camera_animation": [],
       "camera_auto_fit": true,
       "camera_fov": 60,
       "camera_no_pan": false,
       "camera_no_rotate": false,
       "camera_no_zoom": false,
       "clipping_planes": [],
       "colorbar_object_id": -1,
       "fps": 25,
       "fps_meter": false,
       "grid": [
        -1,
        -1,
        -1,
        1,
        1,
        1
       ],
       "grid_auto_fit": true,
       "grid_visible": true,
       "height": 512,
       "layout": "IPY_MODEL_7ba9cc84b4654c53b5bcb171c886a008",
       "lighting": 1.5,
       "menu_visibility": true,
       "mode": "view",
       "name": null,
       "object_ids": [
        4757800896,
        4757502320
       ],
       "rendering_steps": 1,
       "screenshot": "",
       "screenshot_scale": 2,
       "snapshot": "",
       "time": 0,
       "voxel_paint_color": 0
      }
     },
     "53029786c9524c83810e23dc20a9db3f": {
      "buffers": [
       {
        "data": "eNoDAAAAAAE=",
        "encoding": "base64",
        "path": [
         "colors",
         "compressed_buffer"
        ]
       },
       {
        "data": "eNpjYGiwZ8AAxIsBAF7EAv0=",
        "encoding": "base64",
        "path": [
         "model_matrix",
         "compressed_buffer"
        ]
       },
       {
        "data": "eNoDAAAAAAE=",
        "encoding": "base64",
        "path": [
         "opacities",
         "compressed_buffer"
        ]
       },
       {
        "data": "eNpjYGCwZ4DjA0hsBQcYm5EhwQEhPgGJvQFJzQUk8Q9IbA5HBFsCzgYAxoYLzw==",
        "encoding": "base64",
        "path": [
         "positions",
         "compressed_buffer"
        ]
       }
      ],
      "model_module": "k3d",
      "model_module_version": "2.7.4",
      "model_name": "ObjectModel",
      "state": {
       "_view_count": null,
       "_view_module": null,
       "_view_module_version": "",
       "_view_name": null,
       "color": 5010096,
       "colorLegend": false,
       "colors": {
        "dtype": "uint32",
        "shape": [
         0
        ]
       },
       "compression_level": 0,
       "id": 4757560624,
       "mesh_detail": 2,
       "model_matrix": {
        "dtype": "float32",
        "shape": [
         4,
         4
        ]
       },
       "name": "Points #1",
       "opacities": {
        "dtype": "float32",
        "shape": [
         0
        ]
       },
       "opacity": 1,
       "point_size": 0.25,
       "positions": {
        "dtype": "float32",
        "shape": [
         10,
         3
        ]
       },
       "shader": "3dSpecular",
       "type": "Points",
       "visible": true
      }
     },
     "531caf63d5964e30aa2d65070e5c5943": {
      "model_module": "@jupyter-widgets/output",
      "model_module_version": "1.0.0",
      "model_name": "OutputModel",
      "state": {
       "layout": "IPY_MODEL_b2ef536d6f7a4848baa2fe3597dbb37d",
       "outputs": [
        {
         "data": {
          "application/vnd.jupyter.widget-view+json": {
           "model_id": "32b0144c59284ec68beae56ce3faffd0",
           "version_major": 2,
           "version_minor": 0
          },
          "text/plain": "Plot(antialias=3, axes=['x', 'y', 'z'], axes_helper=1.0, background_color=16777215, camera=[2, -3, 0.2, 0.0, 0…"
         },
         "metadata": {},
         "output_type": "display_data"
        }
       ]
      }
     },
     "53941e13171d4d478036cb4116063d54": {
      "model_module": "@jupyter-widgets/base",
      "model_module_version": "1.2.0",
      "model_name": "LayoutModel",
      "state": {}
     },
     "53ef406db34149bcacb27a15ca089ea2": {
      "buffers": [
       {
        "data": "eNoDAAAAAAE=",
        "encoding": "base64",
        "path": [
         "colors",
         "compressed_buffer"
        ]
       },
       {
        "data": "eNpjYGiwZ8AAxIsBAF7EAv0=",
        "encoding": "base64",
        "path": [
         "model_matrix",
         "compressed_buffer"
        ]
       },
       {
        "data": "eNoDAAAAAAE=",
        "encoding": "base64",
        "path": [
         "opacities",
         "compressed_buffer"
        ]
       },
       {
        "data": "eNpjYGCwZ4DjA0hsBQcYm5EhwQEhPgGJvQFJzQUk8Q9IbA5HBFsCzgYAxoYLzw==",
        "encoding": "base64",
        "path": [
         "positions",
         "compressed_buffer"
        ]
       }
      ],
      "model_module": "k3d",
      "model_module_version": "2.7.4",
      "model_name": "ObjectModel",
      "state": {
       "_view_count": null,
       "_view_module": null,
       "_view_module_version": "",
       "_view_name": null,
       "color": 5010096,
       "colorLegend": false,
       "colors": {
        "dtype": "uint32",
        "shape": [
         0
        ]
       },
       "compression_level": 0,
       "id": 4936883456,
       "mesh_detail": 2,
       "model_matrix": {
        "dtype": "float32",
        "shape": [
         4,
         4
        ]
       },
       "name": "Points #1",
       "opacities": {
        "dtype": "float32",
        "shape": [
         0
        ]
       },
       "opacity": 1,
       "point_size": 0.25,
       "positions": {
        "dtype": "float32",
        "shape": [
         10,
         3
        ]
       },
       "shader": "3dSpecular",
       "type": "Points",
       "visible": true
      }
     },
     "53ff1f7e9197430e890413482253e34d": {
      "model_module": "k3d",
      "model_module_version": "2.7.4",
      "model_name": "PlotModel",
      "state": {
       "_backend_version": "2.7.4",
       "_dom_classes": [],
       "_view_count": null,
       "antialias": 3,
       "auto_rendering": true,
       "axes": [
        "x (nm)",
        "y (nm)",
        "z (nm)"
       ],
       "axes_helper": 1,
       "background_color": 16777215,
       "camera": [
        2.8778826572598577,
        -4.316823985889787,
        0.28778826572598526,
        0,
        0,
        0,
        0,
        0,
        1
       ],
       "camera_animation": [],
       "camera_auto_fit": true,
       "camera_fov": 60,
       "camera_no_pan": false,
       "camera_no_rotate": false,
       "camera_no_zoom": false,
       "clipping_planes": [],
       "colorbar_object_id": -1,
       "fps": 25,
       "fps_meter": false,
       "grid": [
        -1,
        -1,
        -1,
        1,
        1,
        1
       ],
       "grid_auto_fit": true,
       "grid_visible": true,
       "height": 512,
       "layout": "IPY_MODEL_94a9b9170c8e46eaa1761740a2bf43b5",
       "lighting": 1.5,
       "menu_visibility": true,
       "mode": "view",
       "name": null,
       "object_ids": [
        4928897184
       ],
       "rendering_steps": 1,
       "screenshot": "",
       "screenshot_scale": 2,
       "snapshot": "",
       "time": 0,
       "voxel_paint_color": 0
      }
     },
     "545ccbacc6ce41f5821ac5a4340e72ef": {
      "model_module": "@jupyter-widgets/base",
      "model_module_version": "1.2.0",
      "model_name": "LayoutModel",
      "state": {}
     },
     "54a3ed0c47c24aadbf8fd4c84f65fa6b": {
      "model_module": "@jupyter-widgets/base",
      "model_module_version": "1.2.0",
      "model_name": "LayoutModel",
      "state": {}
     },
     "54df454c55e846f2b2920146b4dacb7c": {
      "model_module": "@jupyter-widgets/output",
      "model_module_version": "1.0.0",
      "model_name": "OutputModel",
      "state": {
       "layout": "IPY_MODEL_3e23ce32fd814c1bb50bc5c137e3538b",
       "outputs": [
        {
         "data": {
          "application/vnd.jupyter.widget-view+json": {
           "model_id": "6545bb4efe424565bdb12f51dfc3ff14",
           "version_major": 2,
           "version_minor": 0
          },
          "text/plain": "Plot(antialias=3, axes=['x', 'y', 'z'], axes_helper=1.0, background_color=16777215, camera=[2, -3, 0.2, 0.0, 0…"
         },
         "metadata": {},
         "output_type": "display_data"
        }
       ]
      }
     },
     "550e615126f44999a37c54ee1bc13f7c": {
      "model_module": "@jupyter-widgets/output",
      "model_module_version": "1.0.0",
      "model_name": "OutputModel",
      "state": {
       "layout": "IPY_MODEL_153499d48e1346efb25df05bfd9c11a5",
       "outputs": [
        {
         "data": {
          "application/vnd.jupyter.widget-view+json": {
           "model_id": "0c5ce0a4e9a84bf1b09766b8fcc0c8d1",
           "version_major": 2,
           "version_minor": 0
          },
          "text/plain": "Plot(antialias=3, axes=['x', 'y', 'z'], axes_helper=1.0, background_color=16777215, camera=[2, -3, 0.2, 0.0, 0…"
         },
         "metadata": {},
         "output_type": "display_data"
        }
       ]
      }
     },
     "5516c3e05570426bbdbac9f587c6ce4e": {
      "model_module": "@jupyter-widgets/base",
      "model_module_version": "1.2.0",
      "model_name": "LayoutModel",
      "state": {}
     },
     "55491694a68741c0937a03b44bd77109": {
      "model_module": "@jupyter-widgets/output",
      "model_module_version": "1.0.0",
      "model_name": "OutputModel",
      "state": {
       "layout": "IPY_MODEL_9d8b7fd9a4a0481cbaddaaebd7fe4e5e",
       "outputs": [
        {
         "data": {
          "application/vnd.jupyter.widget-view+json": {
           "model_id": "fc40e5a1b689487592e0f2760e8d502a",
           "version_major": 2,
           "version_minor": 0
          },
          "text/plain": "Plot(antialias=3, axes=['x', 'y', 'z'], axes_helper=1.0, background_color=16777215, camera=[2, -3, 0.2, 0.0, 0…"
         },
         "metadata": {},
         "output_type": "display_data"
        }
       ]
      }
     },
     "56470fe2574a4cc0b9d5cd9580273770": {
      "buffers": [
       {
        "data": "eNrL0WNgyAHiYFUI9lOC4FhNCC4wFQLjHC8bMM5LigPjirp6MC6ZvQSM07cfB+Og80/B2OrBTzC2ePEPjM0e/QFjv8svwTh591kwLl6wCowrm1rBuCAtGYxzfB3BGADIcDc5",
        "encoding": "base64",
        "path": [
         "colors",
         "compressed_buffer"
        ]
       },
       {
        "data": "eNpjYGiwZ8AAxIsBAF7EAv0=",
        "encoding": "base64",
        "path": [
         "model_matrix",
         "compressed_buffer"
        ]
       },
       {
        "data": "eNpjYGiwi5qhYL9P0tyegcHBPmw6n/26UDsge4F9Wt03uzPX7e0ZGR7Yr1l7wW5BjTVQXMBhl+l6u1mrDIFsA4dpmlPtVnooA9UEOBx+22LHtFIQKF7gwAA0V/nKHzsGhg4HoyttdtcWXAOyZzgcPTnDLt1qC5C9wgFEg/gMDDscQPIgdYwMJxwg+hqA7BsOIPNA5jIyvHAA2QOyj4HhhwPIfpA7GBhYHEHuArmPgYHHEeRekLsZGEQcQf4A+YeBQcYR5D+QPwFZjlPZ",
        "encoding": "base64",
        "path": [
         "origins",
         "compressed_buffer"
        ]
       },
       {
        "data": "eNpjYGBgyEps2vcr7c4+IJMhovTl3h1hP8HsJZIStvrx/8HsIE9bu4ZPb8Hs3ikL7TJXHQOzr665ardYqRfMrlL5ZsfjwQtmA4F93HcvGxBjdvgnu1U1qnYgdlnOOTuj7ulgNogG8UFskDxIHYgN1WcPYoPMA5kLYoPsAdkHYoPsB7kDxAa5C+Q+EBvkXpC7QWyQP0D+AbFB/gP5EwBT5k59",
        "encoding": "base64",
        "path": [
         "vectors",
         "compressed_buffer"
        ]
       }
      ],
      "model_module": "k3d",
      "model_module_version": "2.7.4",
      "model_name": "ObjectModel",
      "state": {
       "_view_count": null,
       "_view_module": null,
       "_view_module_version": "",
       "_view_name": null,
       "colorLegend": false,
       "colors": {
        "dtype": "uint32",
        "shape": [
         20,
         2
        ]
       },
       "compression_level": 0,
       "head_color": 255,
       "head_size": 1,
       "id": 4757404352,
       "label_size": 1,
       "labels": [],
       "line_width": 0.01,
       "model_matrix": {
        "dtype": "float32",
        "shape": [
         4,
         4
        ]
       },
       "name": "Vectors #1",
       "origin_color": 255,
       "origins": {
        "dtype": "float32",
        "shape": [
         20,
         3
        ]
       },
       "type": "Vectors",
       "use_head": true,
       "vectors": {
        "dtype": "float32",
        "shape": [
         20,
         3
        ]
       },
       "visible": true
      }
     },
     "57207b51c60a4e639e485c02a011a42f": {
      "model_module": "@jupyter-widgets/output",
      "model_module_version": "1.0.0",
      "model_name": "OutputModel",
      "state": {
       "layout": "IPY_MODEL_f1f02c577af04f018ae829626533e0db",
       "outputs": [
        {
         "data": {
          "application/vnd.jupyter.widget-view+json": {
           "model_id": "c91ccd332ffd48f09987bcac89beceaa",
           "version_major": 2,
           "version_minor": 0
          },
          "text/plain": "Plot(antialias=3, axes=['x', 'y', 'z'], axes_helper=1.0, background_color=16777215, camera=[2, -3, 0.2, 0.0, 0…"
         },
         "metadata": {},
         "output_type": "display_data"
        }
       ]
      }
     },
     "5732617b60c44d4ba2349bd02f7cc166": {
      "model_module": "@jupyter-widgets/base",
      "model_module_version": "1.2.0",
      "model_name": "LayoutModel",
      "state": {}
     },
     "5736ee3404d5477384a2093d4b979fa1": {
      "buffers": [
       {
        "data": "eNoDAAAAAAE=",
        "encoding": "base64",
        "path": [
         "colors",
         "compressed_buffer"
        ]
       },
       {
        "data": "eNpjYGiwZ8AAxIsBAF7EAv0=",
        "encoding": "base64",
        "path": [
         "model_matrix",
         "compressed_buffer"
        ]
       },
       {
        "data": "eNoDAAAAAAE=",
        "encoding": "base64",
        "path": [
         "opacities",
         "compressed_buffer"
        ]
       },
       {
        "data": "eNpjYGCwZ4DjA0hsBQcYm5EhwQEhPgGJvQFJzQUk8Q9IbA5HBFsCzgYAxoYLzw==",
        "encoding": "base64",
        "path": [
         "positions",
         "compressed_buffer"
        ]
       }
      ],
      "model_module": "k3d",
      "model_module_version": "2.7.4",
      "model_name": "ObjectModel",
      "state": {
       "_view_count": null,
       "_view_module": null,
       "_view_module_version": "",
       "_view_name": null,
       "color": 5010096,
       "colorLegend": false,
       "colors": {
        "dtype": "uint32",
        "shape": [
         0
        ]
       },
       "compression_level": 0,
       "id": 4937002000,
       "mesh_detail": 2,
       "model_matrix": {
        "dtype": "float32",
        "shape": [
         4,
         4
        ]
       },
       "name": "Points #1",
       "opacities": {
        "dtype": "float32",
        "shape": [
         0
        ]
       },
       "opacity": 1,
       "point_size": 0.25,
       "positions": {
        "dtype": "float32",
        "shape": [
         10,
         3
        ]
       },
       "shader": "3dSpecular",
       "type": "Points",
       "visible": true
      }
     },
     "583b83bfe8204ac4917ae0d658c977aa": {
      "buffers": [
       {
        "data": "eNoLarnLEERFDABnGyH9",
        "encoding": "base64",
        "path": [
         "colors",
         "compressed_buffer"
        ]
       },
       {
        "data": "eNpjYGiwZ8AAxIsBAF7EAv0=",
        "encoding": "base64",
        "path": [
         "model_matrix",
         "compressed_buffer"
        ]
       },
       {
        "data": "eNpjYGiw//v/vx0Dg5yZEJDNwMAAwiaMDAwOIPa9//X2v/7Xg9nfgOx//+c7QNTsMGViWABnszIcgKv5//8/XO+///yOMDMZGAQcGcFsOTMAY/oiHw==",
        "encoding": "base64",
        "path": [
         "origins",
         "compressed_buffer"
        ]
       },
       {
        "data": "eNpjYGjYX6puZ7Lxf739NiB+Juxr9AdIfwPi+6a3Dff8r99/DIhvHZ1v8BpI3wfiuPA5hpdA8kAMZG8EsYFq7IFqNoDUfAOpM729EaQXaOZ+oJmbQGYyMDTYA+3aArILALiUR+M=",
        "encoding": "base64",
        "path": [
         "vectors",
         "compressed_buffer"
        ]
       }
      ],
      "model_module": "k3d",
      "model_module_version": "2.7.4",
      "model_name": "ObjectModel",
      "state": {
       "_view_count": null,
       "_view_module": null,
       "_view_module_version": "",
       "_view_name": null,
       "colorLegend": false,
       "colors": {
        "dtype": "uint32",
        "shape": [
         10,
         2
        ]
       },
       "compression_level": 0,
       "head_color": 255,
       "head_size": 3,
       "id": 4937030144,
       "label_size": 1,
       "labels": [],
       "line_width": 0.01,
       "model_matrix": {
        "dtype": "float32",
        "shape": [
         4,
         4
        ]
       },
       "name": "Vectors #1",
       "origin_color": 255,
       "origins": {
        "dtype": "float32",
        "shape": [
         10,
         3
        ]
       },
       "type": "Vectors",
       "use_head": true,
       "vectors": {
        "dtype": "float32",
        "shape": [
         10,
         3
        ]
       },
       "visible": true
      }
     },
     "595767e8afcd45269eeb08a153fb19e7": {
      "model_module": "@jupyter-widgets/base",
      "model_module_version": "1.2.0",
      "model_name": "LayoutModel",
      "state": {}
     },
     "59678d3bfd6a4dd18ee2d36f35b9ee61": {
      "model_module": "k3d",
      "model_module_version": "2.7.4",
      "model_name": "PlotModel",
      "state": {
       "_backend_version": "2.7.4",
       "_dom_classes": [],
       "_view_count": null,
       "antialias": 3,
       "auto_rendering": true,
       "axes": [
        "x (nm)",
        "y (nm)",
        "z (nm)"
       ],
       "axes_helper": 1,
       "background_color": 16777215,
       "camera": [
        12.732217874034188,
        -11.09832681105128,
        1.27322178740343,
        5,
        0.5,
        0.5,
        0,
        0,
        1
       ],
       "camera_animation": [],
       "camera_auto_fit": true,
       "camera_fov": 60,
       "camera_no_pan": false,
       "camera_no_rotate": false,
       "camera_no_zoom": false,
       "clipping_planes": [],
       "colorbar_object_id": -1,
       "fps": 25,
       "fps_meter": false,
       "grid": [
        -1,
        -1,
        -1,
        1,
        1,
        1
       ],
       "grid_auto_fit": true,
       "grid_visible": true,
       "height": 512,
       "layout": "IPY_MODEL_201d7212ec7849a1bd6dc3ebdc9d6ef1",
       "lighting": 1.5,
       "menu_visibility": true,
       "mode": "view",
       "name": null,
       "object_ids": [
        4754638400,
        4399847840
       ],
       "rendering_steps": 1,
       "screenshot": "",
       "screenshot_scale": 2,
       "snapshot": "",
       "time": 0,
       "voxel_paint_color": 0
      }
     },
     "596ef838917548bd954adfc39df0bb35": {
      "model_module": "@jupyter-widgets/base",
      "model_module_version": "1.2.0",
      "model_name": "LayoutModel",
      "state": {}
     },
     "5a048a18136a419283e7d53a0dde54c8": {
      "model_module": "@jupyter-widgets/output",
      "model_module_version": "1.0.0",
      "model_name": "OutputModel",
      "state": {
       "layout": "IPY_MODEL_d5997371cfef4a9ba5d75085f4338258",
       "outputs": [
        {
         "data": {
          "application/vnd.jupyter.widget-view+json": {
           "model_id": "5f14441636244cd8b2bd230a64721453",
           "version_major": 2,
           "version_minor": 0
          },
          "text/plain": "Plot(antialias=3, axes=['x', 'y', 'z'], axes_helper=1.0, background_color=16777215, camera=[2, -3, 0.2, 0.0, 0…"
         },
         "metadata": {},
         "output_type": "display_data"
        }
       ]
      }
     },
     "5aea624a2128495f80ada38882070a60": {
      "buffers": [
       {
        "data": "eNoLarnLEERFDABnGyH9",
        "encoding": "base64",
        "path": [
         "colors",
         "compressed_buffer"
        ]
       },
       {
        "data": "eNpjYGiwZ8AAxIsBAF7EAv0=",
        "encoding": "base64",
        "path": [
         "model_matrix",
         "compressed_buffer"
        ]
       },
       {
        "data": "eNpjYGCwZwDjBhDtwADnK8DYDIwMCXA2A8MEBwgN4m9wgOqzZ2S4AGczMHxAUs/gCGIzgfkSjjBxAKCYC08=",
        "encoding": "base64",
        "path": [
         "origins",
         "compressed_buffer"
        ]
       },
       {
        "data": "eNoLU9ympzLl4DoGhob9IPzNJctgCfupDU+3W+tGbXLUA4rZx+w0WNfvdG0tiG1uz7oeRJ/xClk7r26dAUhP7v0Vm3Z8+r0RxO6ddcRQeXb25uAF1RtA6kD4CtfKTYuiXbeE2vTrCdxNAosDAKt9MYE=",
        "encoding": "base64",
        "path": [
         "vectors",
         "compressed_buffer"
        ]
       }
      ],
      "model_module": "k3d",
      "model_module_version": "2.7.4",
      "model_name": "ObjectModel",
      "state": {
       "_view_count": null,
       "_view_module": null,
       "_view_module_version": "",
       "_view_name": null,
       "colorLegend": false,
       "colors": {
        "dtype": "uint32",
        "shape": [
         10,
         2
        ]
       },
       "compression_level": 0,
       "head_color": 255,
       "head_size": 3,
       "id": 4888200144,
       "label_size": 1,
       "labels": [],
       "line_width": 0.01,
       "model_matrix": {
        "dtype": "float32",
        "shape": [
         4,
         4
        ]
       },
       "name": "Vectors #1",
       "origin_color": 255,
       "origins": {
        "dtype": "float32",
        "shape": [
         10,
         3
        ]
       },
       "type": "Vectors",
       "use_head": true,
       "vectors": {
        "dtype": "float32",
        "shape": [
         10,
         3
        ]
       },
       "visible": true
      }
     },
     "5ba1b361f6334782aabea7ba467f7984": {
      "model_module": "k3d",
      "model_module_version": "2.7.4",
      "model_name": "PlotModel",
      "state": {
       "_backend_version": "2.7.4",
       "_dom_classes": [],
       "_view_count": null,
       "antialias": 3,
       "auto_rendering": true,
       "axes": [
        "x (nm)",
        "y (nm)",
        "z (nm)"
       ],
       "axes_helper": 1,
       "background_color": 16777215,
       "camera": [
        13.017741184168955,
        -11.526611776253436,
        1.3017741184169038,
        5,
        0.5,
        0.5,
        0,
        0,
        1
       ],
       "camera_animation": [],
       "camera_auto_fit": true,
       "camera_fov": 60,
       "camera_no_pan": false,
       "camera_no_rotate": false,
       "camera_no_zoom": false,
       "clipping_planes": [],
       "colorbar_object_id": -1,
       "fps": 25,
       "fps_meter": false,
       "grid": [
        -1,
        -1,
        -1,
        1,
        1,
        1
       ],
       "grid_auto_fit": true,
       "grid_visible": true,
       "height": 512,
       "layout": "IPY_MODEL_19f7d18fc6d041cab8db5f6837f52d9b",
       "lighting": 1.5,
       "menu_visibility": true,
       "mode": "view",
       "name": null,
       "object_ids": [
        4932583232,
        4931565792
       ],
       "rendering_steps": 1,
       "screenshot": "",
       "screenshot_scale": 2,
       "snapshot": "",
       "time": 0,
       "voxel_paint_color": 0
      }
     },
     "5c33d28d2dc146ff986231773167b3df": {
      "model_module": "@jupyter-widgets/output",
      "model_module_version": "1.0.0",
      "model_name": "OutputModel",
      "state": {
       "layout": "IPY_MODEL_aecefd99dc764f80845c7812113a181c",
       "outputs": [
        {
         "data": {
          "application/vnd.jupyter.widget-view+json": {
           "model_id": "6840b880c8de4c39b1f1e072b7211cc5",
           "version_major": 2,
           "version_minor": 0
          },
          "text/plain": "Plot(antialias=3, axes=['x', 'y', 'z'], axes_helper=1.0, background_color=16777215, camera=[2, -3, 0.2, 0.0, 0…"
         },
         "metadata": {},
         "output_type": "display_data"
        }
       ]
      }
     },
     "5c5fc1ae13c74ee1be0171a4aa0c19e2": {
      "model_module": "@jupyter-widgets/base",
      "model_module_version": "1.2.0",
      "model_name": "LayoutModel",
      "state": {}
     },
     "5daedec609074f7fa89d20e05eb7d375": {
      "buffers": [
       {
        "data": "eNoDAAAAAAE=",
        "encoding": "base64",
        "path": [
         "colors",
         "compressed_buffer"
        ]
       },
       {
        "data": "eNpjYGiwZ8AAxIsBAF7EAv0=",
        "encoding": "base64",
        "path": [
         "model_matrix",
         "compressed_buffer"
        ]
       },
       {
        "data": "eNoDAAAAAAE=",
        "encoding": "base64",
        "path": [
         "opacities",
         "compressed_buffer"
        ]
       },
       {
        "data": "eNpjYGCwZ4DjA0hsBQcYm5EhwQEhPgGJvQFJzQUk8Q9IbA5HBFsCzgYAxoYLzw==",
        "encoding": "base64",
        "path": [
         "positions",
         "compressed_buffer"
        ]
       }
      ],
      "model_module": "k3d",
      "model_module_version": "2.7.4",
      "model_name": "ObjectModel",
      "state": {
       "_view_count": null,
       "_view_module": null,
       "_view_module_version": "",
       "_view_name": null,
       "color": 5010096,
       "colorLegend": false,
       "colors": {
        "dtype": "uint32",
        "shape": [
         0
        ]
       },
       "compression_level": 0,
       "id": 4896434160,
       "mesh_detail": 2,
       "model_matrix": {
        "dtype": "float32",
        "shape": [
         4,
         4
        ]
       },
       "name": "Points #1",
       "opacities": {
        "dtype": "float32",
        "shape": [
         0
        ]
       },
       "opacity": 1,
       "point_size": 0.25,
       "positions": {
        "dtype": "float32",
        "shape": [
         10,
         3
        ]
       },
       "shader": "3dSpecular",
       "type": "Points",
       "visible": true
      }
     },
     "5e1b60ec94944bbabed1a5b58eb4dfca": {
      "model_module": "k3d",
      "model_module_version": "2.7.4",
      "model_name": "PlotModel",
      "state": {
       "_backend_version": "2.7.4",
       "_dom_classes": [],
       "_view_count": null,
       "antialias": 3,
       "auto_rendering": true,
       "axes": [
        "x (nm)",
        "y (nm)",
        "z (nm)"
       ],
       "axes_helper": 1,
       "background_color": 16777215,
       "camera": [
        13.229415333048863,
        -11.562872999573296,
        1.3041915333048848,
        5.1875,
        0.5,
        0.5,
        0,
        0,
        1
       ],
       "camera_animation": [],
       "camera_auto_fit": true,
       "camera_fov": 60,
       "camera_no_pan": false,
       "camera_no_rotate": false,
       "camera_no_zoom": false,
       "clipping_planes": [],
       "colorbar_object_id": -1,
       "fps": 25,
       "fps_meter": false,
       "grid": [
        -1,
        -1,
        -1,
        1,
        1,
        1
       ],
       "grid_auto_fit": true,
       "grid_visible": true,
       "height": 512,
       "layout": "IPY_MODEL_fd32ad04b0f84a939c25d114b762d183",
       "lighting": 1.5,
       "menu_visibility": true,
       "mode": "view",
       "name": null,
       "object_ids": [
        4565504352,
        4565137296
       ],
       "rendering_steps": 1,
       "screenshot": "",
       "screenshot_scale": 2,
       "snapshot": "",
       "time": 0,
       "voxel_paint_color": 0
      }
     },
     "5e66b1f025e44e8a9482362566cd0bea": {
      "buffers": [
       {
        "data": "eNoDAAAAAAE=",
        "encoding": "base64",
        "path": [
         "colors",
         "compressed_buffer"
        ]
       },
       {
        "data": "eNpjYGiwZ8AAxIsBAF7EAv0=",
        "encoding": "base64",
        "path": [
         "model_matrix",
         "compressed_buffer"
        ]
       },
       {
        "data": "eNoDAAAAAAE=",
        "encoding": "base64",
        "path": [
         "opacities",
         "compressed_buffer"
        ]
       },
       {
        "data": "eNpjYGCwZ4DjA0hsBQcYm5EhwQEhPgGJvQFJzQUk8Q9IbA5HBFsCzgYAxoYLzw==",
        "encoding": "base64",
        "path": [
         "positions",
         "compressed_buffer"
        ]
       }
      ],
      "model_module": "k3d",
      "model_module_version": "2.7.4",
      "model_name": "ObjectModel",
      "state": {
       "_view_count": null,
       "_view_module": null,
       "_view_module_version": "",
       "_view_name": null,
       "color": 5010096,
       "colorLegend": false,
       "colors": {
        "dtype": "uint32",
        "shape": [
         0
        ]
       },
       "compression_level": 0,
       "id": 4952766400,
       "mesh_detail": 2,
       "model_matrix": {
        "dtype": "float32",
        "shape": [
         4,
         4
        ]
       },
       "name": "Points #1",
       "opacities": {
        "dtype": "float32",
        "shape": [
         0
        ]
       },
       "opacity": 1,
       "point_size": 0.25,
       "positions": {
        "dtype": "float32",
        "shape": [
         10,
         3
        ]
       },
       "shader": "3dSpecular",
       "type": "Points",
       "visible": true
      }
     },
     "5f14441636244cd8b2bd230a64721453": {
      "model_module": "k3d",
      "model_module_version": "2.7.4",
      "model_name": "PlotModel",
      "state": {
       "_backend_version": "2.7.4",
       "_dom_classes": [],
       "_view_count": null,
       "antialias": 3,
       "auto_rendering": true,
       "axes": [
        "x (nm)",
        "y (nm)",
        "z (nm)"
       ],
       "axes_helper": 1,
       "background_color": 16777215,
       "camera": [
        26.015022451936375,
        -23.522533677904566,
        2.1015022600947955,
        10,
        0.5,
        0.5000000149011612,
        0,
        0,
        1
       ],
       "camera_animation": [],
       "camera_auto_fit": true,
       "camera_fov": 60,
       "camera_no_pan": false,
       "camera_no_rotate": false,
       "camera_no_zoom": false,
       "clipping_planes": [],
       "colorbar_object_id": -1,
       "fps": 25,
       "fps_meter": false,
       "grid": [
        -1,
        -1,
        -1,
        1,
        1,
        1
       ],
       "grid_auto_fit": true,
       "grid_visible": true,
       "height": 512,
       "layout": "IPY_MODEL_666989f41d364619a059ab2b3e1f37e3",
       "lighting": 1.5,
       "menu_visibility": true,
       "mode": "view",
       "name": null,
       "object_ids": [
        140675199842896,
        140675199927824
       ],
       "rendering_steps": 1,
       "screenshot": "",
       "screenshot_scale": 2,
       "snapshot": "",
       "time": 0,
       "voxel_paint_color": 0
      }
     },
     "5f9ff4f0de474c0891f844cb410c2771": {
      "model_module": "@jupyter-widgets/base",
      "model_module_version": "1.2.0",
      "model_name": "LayoutModel",
      "state": {}
     },
     "601d2efce69f4b4f905e0985d862a42f": {
      "model_module": "k3d",
      "model_module_version": "2.7.4",
      "model_name": "PlotModel",
      "state": {
       "_backend_version": "2.7.4",
       "_dom_classes": [],
       "_view_count": null,
       "antialias": 3,
       "auto_rendering": true,
       "axes": [
        "x (nm)",
        "y (nm)",
        "z (nm)"
       ],
       "axes_helper": 1,
       "background_color": 16777215,
       "camera": [
        12.732217874034188,
        -11.098326811051281,
        1.2732217874034175,
        5,
        0.5,
        0.5,
        0,
        0,
        1
       ],
       "camera_animation": [],
       "camera_auto_fit": true,
       "camera_fov": 60,
       "camera_no_pan": false,
       "camera_no_rotate": false,
       "camera_no_zoom": false,
       "clipping_planes": [],
       "colorbar_object_id": -1,
       "fps": 25,
       "fps_meter": false,
       "grid": [
        -1,
        -1,
        -1,
        1,
        1,
        1
       ],
       "grid_auto_fit": true,
       "grid_visible": true,
       "height": 512,
       "layout": "IPY_MODEL_9e9d6e19ec1f4baba966a7f4d466fd9b",
       "lighting": 1.5,
       "menu_visibility": true,
       "mode": "view",
       "name": null,
       "object_ids": [
        4926834912,
        4926835776
       ],
       "rendering_steps": 1,
       "screenshot": "",
       "screenshot_scale": 2,
       "snapshot": "",
       "time": 0,
       "voxel_paint_color": 0
      }
     },
     "603b9a99a5b64269ab78f6e275afa5b3": {
      "model_module": "@jupyter-widgets/output",
      "model_module_version": "1.0.0",
      "model_name": "OutputModel",
      "state": {
       "layout": "IPY_MODEL_62f30f5c4cdb415a98d65f708f1a8428",
       "outputs": [
        {
         "data": {
          "application/vnd.jupyter.widget-view+json": {
           "model_id": "97c7914af2eb4a0087f32fffd08044b2",
           "version_major": 2,
           "version_minor": 0
          },
          "text/plain": "Plot(antialias=3, axes=['x', 'y', 'z'], axes_helper=1.0, background_color=16777215, camera=[2, -3, 0.2, 0.0, 0…"
         },
         "metadata": {},
         "output_type": "display_data"
        }
       ]
      }
     },
     "60632a8a3678494fa298e6dee94e73a8": {
      "model_module": "@jupyter-widgets/base",
      "model_module_version": "1.2.0",
      "model_name": "LayoutModel",
      "state": {}
     },
     "62190ac19c854e9c92c05eee61673455": {
      "buffers": [
       {
        "data": "eNoLarnLEERFDABnGyH9",
        "encoding": "base64",
        "path": [
         "colors",
         "compressed_buffer"
        ]
       },
       {
        "data": "eNpjYGiwZ8AAxIsBAF7EAv0=",
        "encoding": "base64",
        "path": [
         "model_matrix",
         "compressed_buffer"
        ]
       },
       {
        "data": "eNpjYGCwZ4BgIDiAxFZwgLEZGRIcEOITkNgbkNRcQBL/gMTmcESwJeBsAD8sCVk=",
        "encoding": "base64",
        "path": [
         "origins",
         "compressed_buffer"
        ]
       },
       {
        "data": "eNrbJHx5LQMYNNhvoiMbAFSfHik=",
        "encoding": "base64",
        "path": [
         "vectors",
         "compressed_buffer"
        ]
       }
      ],
      "model_module": "k3d",
      "model_module_version": "2.7.4",
      "model_name": "ObjectModel",
      "state": {
       "_view_count": null,
       "_view_module": null,
       "_view_module_version": "",
       "_view_name": null,
       "colorLegend": false,
       "colors": {
        "dtype": "uint32",
        "shape": [
         10,
         2
        ]
       },
       "compression_level": 0,
       "head_color": 255,
       "head_size": 3,
       "id": 4926834912,
       "label_size": 1,
       "labels": [],
       "line_width": 0.01,
       "model_matrix": {
        "dtype": "float32",
        "shape": [
         4,
         4
        ]
       },
       "name": "Vectors #1",
       "origin_color": 255,
       "origins": {
        "dtype": "float32",
        "shape": [
         10,
         3
        ]
       },
       "type": "Vectors",
       "use_head": true,
       "vectors": {
        "dtype": "float32",
        "shape": [
         10,
         3
        ]
       },
       "visible": true
      }
     },
     "62b27893e31f4ad8889fc197aad3fe50": {
      "buffers": [
       {
        "data": "eNoDAAAAAAE=",
        "encoding": "base64",
        "path": [
         "colors",
         "compressed_buffer"
        ]
       },
       {
        "data": "eNpjYGiwZ8AAxIsBAF7EAv0=",
        "encoding": "base64",
        "path": [
         "model_matrix",
         "compressed_buffer"
        ]
       },
       {
        "data": "eNoDAAAAAAE=",
        "encoding": "base64",
        "path": [
         "opacities",
         "compressed_buffer"
        ]
       },
       {
        "data": "eNpjYGCwZ4DjA0hsBQcYm5EhwQEhPgGJvQFJzQUk8Q9IbA5HBFsCia2BxLZwRJjjgcSOQGJnIKmvQGK3ILF7kNhTkNhz4GwA3oQXaA==",
        "encoding": "base64",
        "path": [
         "positions",
         "compressed_buffer"
        ]
       }
      ],
      "model_module": "k3d",
      "model_module_version": "2.7.4",
      "model_name": "ObjectModel",
      "state": {
       "_view_count": null,
       "_view_module": null,
       "_view_module_version": "",
       "_view_name": null,
       "color": 5010096,
       "colors": {
        "dtype": "uint32",
        "shape": [
         0
        ]
       },
       "compression_level": 0,
       "id": 4928687456,
       "mesh_detail": 2,
       "model_matrix": {
        "dtype": "float32",
        "shape": [
         4,
         4
        ]
       },
       "name": "Points #1",
       "opacities": {
        "dtype": "float32",
        "shape": [
         0
        ]
       },
       "opacity": 1,
       "point_size": 0.25,
       "positions": {
        "dtype": "float32",
        "shape": [
         20,
         3
        ]
       },
       "shader": "3dSpecular",
       "type": "Points",
       "visible": true
      }
     },
     "62f30f5c4cdb415a98d65f708f1a8428": {
      "model_module": "@jupyter-widgets/base",
      "model_module_version": "1.2.0",
      "model_name": "LayoutModel",
      "state": {}
     },
     "631c8902e4dd4734be9962e81194e035": {
      "buffers": [
       {
        "data": "eNoLarnLEERFDABnGyH9",
        "encoding": "base64",
        "path": [
         "colors",
         "compressed_buffer"
        ]
       },
       {
        "data": "eNpjYGiwZ8AAxIsBAF7EAv0=",
        "encoding": "base64",
        "path": [
         "model_matrix",
         "compressed_buffer"
        ]
       },
       {
        "data": "eNpjYGCwl/omagfCDAwHkNgKDjA2I0OCA0J8AhJ7gQMDUD8IMzIcgLMZGB4gsRkcEWwBOBsAtJAW9w==",
        "encoding": "base64",
        "path": [
         "origins",
         "compressed_buffer"
        ]
       },
       {
        "data": "eNpjYGBg+Mxiag/CDCSzG8B8CCCNDQBu3BHq",
        "encoding": "base64",
        "path": [
         "vectors",
         "compressed_buffer"
        ]
       }
      ],
      "model_module": "k3d",
      "model_module_version": "2.7.4",
      "model_name": "ObjectModel",
      "state": {
       "_view_count": null,
       "_view_module": null,
       "_view_module_version": "",
       "_view_name": null,
       "colorLegend": false,
       "colors": {
        "dtype": "uint32",
        "shape": [
         10,
         2
        ]
       },
       "compression_level": 0,
       "head_color": 255,
       "head_size": 3,
       "id": 4756832656,
       "label_size": 1,
       "labels": [],
       "line_width": 0.01,
       "model_matrix": {
        "dtype": "float32",
        "shape": [
         4,
         4
        ]
       },
       "name": "Vectors #1",
       "origin_color": 255,
       "origins": {
        "dtype": "float32",
        "shape": [
         10,
         3
        ]
       },
       "type": "Vectors",
       "use_head": true,
       "vectors": {
        "dtype": "float32",
        "shape": [
         10,
         3
        ]
       },
       "visible": true
      }
     },
     "6340d14a64ad4758aa275ba67848c653": {
      "model_module": "@jupyter-widgets/base",
      "model_module_version": "1.2.0",
      "model_name": "LayoutModel",
      "state": {}
     },
     "63d640c760684ab8aa60047e7affae22": {
      "buffers": [
       {
        "data": "eNoLarnLEDSIMQBtm0P5",
        "encoding": "base64",
        "path": [
         "colors",
         "compressed_buffer"
        ]
       },
       {
        "data": "eNpjYGiwZ8AAxIsBAF7EAv0=",
        "encoding": "base64",
        "path": [
         "model_matrix",
         "compressed_buffer"
        ]
       },
       {
        "data": "eNpjYGioZ2A48J8BTA9/NgDnCkrF",
        "encoding": "base64",
        "path": [
         "origins",
         "compressed_buffer"
        ]
       },
       {
        "data": "eNpjYGj4z8BwAIgboHh4swEzoF7F",
        "encoding": "base64",
        "path": [
         "vectors",
         "compressed_buffer"
        ]
       }
      ],
      "model_module": "k3d",
      "model_module_version": "2.7.4",
      "model_name": "ObjectModel",
      "state": {
       "_view_count": null,
       "_view_module": null,
       "_view_module_version": "",
       "_view_name": null,
       "colors": {
        "dtype": "uint32",
        "shape": [
         20,
         2
        ]
       },
       "compression_level": 0,
       "head_color": 255,
       "head_size": 3,
       "id": 4926432256,
       "label_size": 1,
       "labels": [],
       "line_width": 0.01,
       "model_matrix": {
        "dtype": "float32",
        "shape": [
         4,
         4
        ]
       },
       "name": "Vectors #1",
       "origin_color": 255,
       "origins": {
        "dtype": "float32",
        "shape": [
         20,
         3
        ]
       },
       "type": "Vectors",
       "use_head": true,
       "vectors": {
        "dtype": "float32",
        "shape": [
         20,
         3
        ]
       },
       "visible": true
      }
     },
     "648725a503214cf497c6fb52e8068367": {
      "model_module": "@jupyter-widgets/base",
      "model_module_version": "1.2.0",
      "model_name": "LayoutModel",
      "state": {}
     },
     "64f66730b3804d128f3fcc356d2afb45": {
      "model_module": "k3d",
      "model_module_version": "2.7.4",
      "model_name": "PlotModel",
      "state": {
       "_backend_version": "2.7.4",
       "_dom_classes": [],
       "_view_count": null,
       "antialias": 3,
       "auto_rendering": true,
       "axes": [
        "x (nm)",
        "y (nm)",
        "z (nm)"
       ],
       "axes_helper": 1,
       "background_color": 16777215,
       "camera": [
        12.145160948311515,
        -4.612799202353215,
        5.646644512573431,
        4.9500000067055225,
        0.5,
        0.5,
        -0.2128368889449281,
        0.45839465632351695,
        0.862887476881134
       ],
       "camera_animation": [],
       "camera_auto_fit": true,
       "camera_fov": 60,
       "camera_no_pan": false,
       "camera_no_rotate": false,
       "camera_no_zoom": false,
       "clipping_planes": [],
       "colorbar_object_id": -1,
       "fps": 25,
       "fps_meter": false,
       "grid": [
        -1,
        -1,
        -1,
        1,
        1,
        1
       ],
       "grid_auto_fit": true,
       "grid_visible": true,
       "height": 512,
       "layout": "IPY_MODEL_7b68d72f43ab41958652f6b10cc7b152",
       "lighting": 1.5,
       "menu_visibility": true,
       "mode": "view",
       "name": null,
       "object_ids": [
        4565692080
       ],
       "rendering_steps": 1,
       "screenshot": "",
       "screenshot_scale": 2,
       "snapshot": "",
       "time": 0,
       "voxel_paint_color": 0
      }
     },
     "6545bb4efe424565bdb12f51dfc3ff14": {
      "model_module": "k3d",
      "model_module_version": "2.7.4",
      "model_name": "PlotModel",
      "state": {
       "_backend_version": "2.7.4",
       "_dom_classes": [],
       "_view_count": null,
       "antialias": 3,
       "auto_rendering": true,
       "axes": [
        "x (nm)",
        "y (nm)",
        "z (nm)"
       ],
       "axes_helper": 1,
       "background_color": 16777215,
       "camera": [
        26.035482368337913,
        -23.55322355250687,
        2.1035482368337886,
        10,
        0.5,
        0.5,
        0,
        0,
        1
       ],
       "camera_animation": [],
       "camera_auto_fit": true,
       "camera_fov": 60,
       "camera_no_pan": false,
       "camera_no_rotate": false,
       "camera_no_zoom": false,
       "clipping_planes": [],
       "colorbar_object_id": -1,
       "fps": 25,
       "fps_meter": false,
       "grid": [
        -1,
        -1,
        -1,
        1,
        1,
        1
       ],
       "grid_auto_fit": true,
       "grid_visible": true,
       "height": 512,
       "layout": "IPY_MODEL_53941e13171d4d478036cb4116063d54",
       "lighting": 1.5,
       "menu_visibility": true,
       "mode": "view",
       "name": null,
       "object_ids": [
        140675199978384,
        140675199979088
       ],
       "rendering_steps": 1,
       "screenshot": "",
       "screenshot_scale": 2,
       "snapshot": "",
       "time": 0,
       "voxel_paint_color": 0
      }
     },
     "65488eb1fc5145d8ad6629998828e5a8": {
      "model_module": "@jupyter-widgets/output",
      "model_module_version": "1.0.0",
      "model_name": "OutputModel",
      "state": {
       "layout": "IPY_MODEL_2f88c76085074782a99dcf99fc732820",
       "outputs": [
        {
         "data": {
          "application/vnd.jupyter.widget-view+json": {
           "model_id": "841ec6ffd5d440be91c59a65ac8c8276",
           "version_major": 2,
           "version_minor": 0
          },
          "text/plain": "Plot(antialias=3, axes=['x', 'y', 'z'], axes_helper=1.0, background_color=16777215, camera=[2, -3, 0.2, 0.0, 0…"
         },
         "metadata": {},
         "output_type": "display_data"
        }
       ]
      }
     },
     "65667650e1654effacf40300540ba7f6": {
      "model_module": "@jupyter-widgets/output",
      "model_module_version": "1.0.0",
      "model_name": "OutputModel",
      "state": {
       "layout": "IPY_MODEL_e39f41e4a325472bae17e30e39a374cb",
       "outputs": [
        {
         "data": {
          "application/vnd.jupyter.widget-view+json": {
           "model_id": "1c69a5ddc7394b80978373bbcb722add",
           "version_major": 2,
           "version_minor": 0
          },
          "text/plain": "Plot(antialias=3, axes=['x', 'y', 'z'], axes_helper=1.0, background_color=16777215, camera=[2, -3, 0.2, 0.0, 0…"
         },
         "metadata": {},
         "output_type": "display_data"
        }
       ]
      }
     },
     "65f759f83b154dc49f7d8a3b4e6028e0": {
      "model_module": "@jupyter-widgets/output",
      "model_module_version": "1.0.0",
      "model_name": "OutputModel",
      "state": {
       "layout": "IPY_MODEL_329fece36e2b47f5843241fc02454dea",
       "outputs": [
        {
         "data": {
          "application/vnd.jupyter.widget-view+json": {
           "model_id": "3dc0ff970358407db837881c1ef4509a",
           "version_major": 2,
           "version_minor": 0
          },
          "text/plain": "Plot(antialias=3, axes=['x', 'y', 'z'], axes_helper=1.0, background_color=16777215, camera=[2, -3, 0.2, 0.0, 0…"
         },
         "metadata": {},
         "output_type": "display_data"
        }
       ]
      }
     },
     "666989f41d364619a059ab2b3e1f37e3": {
      "model_module": "@jupyter-widgets/base",
      "model_module_version": "1.2.0",
      "model_name": "LayoutModel",
      "state": {}
     },
     "67cf89cc1dd745c79e6b0eeb90413c45": {
      "model_module": "@jupyter-widgets/output",
      "model_module_version": "1.0.0",
      "model_name": "OutputModel",
      "state": {
       "layout": "IPY_MODEL_b74fe360ec8849d38fd024be817dd805",
       "outputs": [
        {
         "data": {
          "application/vnd.jupyter.widget-view+json": {
           "model_id": "53ff1f7e9197430e890413482253e34d",
           "version_major": 2,
           "version_minor": 0
          },
          "text/plain": "Plot(antialias=3, axes=['x', 'y', 'z'], axes_helper=1.0, background_color=16777215, camera=[2, -3, 0.2, 0.0, 0…"
         },
         "metadata": {},
         "output_type": "display_data"
        }
       ]
      }
     },
     "67eae72396e74c91be260cf6a4c65b62": {
      "buffers": [
       {
        "data": "eNoDAAAAAAE=",
        "encoding": "base64",
        "path": [
         "colors",
         "compressed_buffer"
        ]
       },
       {
        "data": "eNpjYGiwZ8AAxIsBAF7EAv0=",
        "encoding": "base64",
        "path": [
         "model_matrix",
         "compressed_buffer"
        ]
       },
       {
        "data": "eNoDAAAAAAE=",
        "encoding": "base64",
        "path": [
         "opacities",
         "compressed_buffer"
        ]
       },
       {
        "data": "eNpjYGCwZ4DjA0hsBQcYm5EhwQEhPgGJvQFJzQUk8Q9IbA5HBFsCzgYAxoYLzw==",
        "encoding": "base64",
        "path": [
         "positions",
         "compressed_buffer"
        ]
       }
      ],
      "model_module": "k3d",
      "model_module_version": "2.7.4",
      "model_name": "ObjectModel",
      "state": {
       "_view_count": null,
       "_view_module": null,
       "_view_module_version": "",
       "_view_name": null,
       "color": 5010096,
       "colorLegend": false,
       "colors": {
        "dtype": "uint32",
        "shape": [
         0
        ]
       },
       "compression_level": 0,
       "id": 4757501264,
       "mesh_detail": 2,
       "model_matrix": {
        "dtype": "float32",
        "shape": [
         4,
         4
        ]
       },
       "name": "Points #1",
       "opacities": {
        "dtype": "float32",
        "shape": [
         0
        ]
       },
       "opacity": 1,
       "point_size": 0.25,
       "positions": {
        "dtype": "float32",
        "shape": [
         10,
         3
        ]
       },
       "shader": "3dSpecular",
       "type": "Points",
       "visible": true
      }
     },
     "6840b880c8de4c39b1f1e072b7211cc5": {
      "model_module": "k3d",
      "model_module_version": "2.7.4",
      "model_name": "PlotModel",
      "state": {
       "_backend_version": "2.7.4",
       "_dom_classes": [],
       "_view_count": null,
       "antialias": 3,
       "auto_rendering": true,
       "axes": [
        "x (nm)",
        "y (nm)",
        "z (nm)"
       ],
       "axes_helper": 1,
       "background_color": 16777215,
       "camera": [
        13.45843140614532,
        -12.262647099159695,
        1.350843139943978,
        4.9500000067055225,
        0.5,
        0.5,
        0,
        0,
        1
       ],
       "camera_animation": [],
       "camera_auto_fit": true,
       "camera_fov": 60,
       "camera_no_pan": false,
       "camera_no_rotate": false,
       "camera_no_zoom": false,
       "clipping_planes": [],
       "colorbar_object_id": -1,
       "fps": 25,
       "fps_meter": false,
       "grid": [
        -1,
        -1,
        -1,
        1,
        1,
        1
       ],
       "grid_auto_fit": true,
       "grid_visible": true,
       "height": 512,
       "layout": "IPY_MODEL_c6a2422ad5f848aeaf07d35ae7f36a98",
       "lighting": 1.5,
       "menu_visibility": true,
       "mode": "view",
       "name": null,
       "object_ids": [
        4926456736
       ],
       "rendering_steps": 1,
       "screenshot": "",
       "screenshot_scale": 2,
       "snapshot": "",
       "time": 0,
       "voxel_paint_color": 0
      }
     },
     "68b81be4fb244024a543ffa8d63c16dc": {
      "model_module": "@jupyter-widgets/output",
      "model_module_version": "1.0.0",
      "model_name": "OutputModel",
      "state": {
       "layout": "IPY_MODEL_6f29fd5d8d464138989beaddad372b6c",
       "outputs": [
        {
         "data": {
          "application/vnd.jupyter.widget-view+json": {
           "model_id": "5ba1b361f6334782aabea7ba467f7984",
           "version_major": 2,
           "version_minor": 0
          },
          "text/plain": "Plot(antialias=3, axes=['x', 'y', 'z'], axes_helper=1.0, background_color=16777215, camera=[2, -3, 0.2, 0.0, 0…"
         },
         "metadata": {},
         "output_type": "display_data"
        }
       ]
      }
     },
     "68baa3eb8c80494f9a0242d8de5e4d54": {
      "model_module": "@jupyter-widgets/base",
      "model_module_version": "1.2.0",
      "model_name": "LayoutModel",
      "state": {}
     },
     "68e00ccdbbac4f1a990f5ae9f744a01b": {
      "buffers": [
       {
        "data": "eNrbUOTDENRylwEADvwDIg==",
        "encoding": "base64",
        "path": [
         "color_map",
         "compressed_buffer"
        ]
       },
       {
        "data": "eNpjYFBwZICDBQ4QusEeKmCPkAOLIfEhYgB/zAP9",
        "encoding": "base64",
        "path": [
         "model_matrix",
         "compressed_buffer"
        ]
       },
       {
        "data": "eNpjZIQCJgAAQgAM",
        "encoding": "base64",
        "path": [
         "voxels",
         "compressed_buffer"
        ]
       }
      ],
      "model_module": "k3d",
      "model_module_version": "2.7.4",
      "model_name": "ObjectModel",
      "state": {
       "_view_count": null,
       "_view_module": null,
       "_view_module_version": "",
       "_view_name": null,
       "colorLegend": false,
       "color_map": {
        "dtype": "uint32",
        "shape": [
         2
        ]
       },
       "compression_level": 0,
       "id": 4757769424,
       "model_matrix": {
        "dtype": "float32",
        "shape": [
         4,
         4
        ]
       },
       "name": "Voxels #1",
       "opacity": 1,
       "outlines": false,
       "outlines_color": 0,
       "type": "Voxels",
       "visible": true,
       "voxels": {
        "dtype": "uint8",
        "shape": [
         1,
         1,
         10
        ]
       },
       "wireframe": false
      }
     },
     "693cafa560944204b96b44f28622d9e6": {
      "model_module": "k3d",
      "model_module_version": "2.7.4",
      "model_name": "PlotModel",
      "state": {
       "_backend_version": "2.7.4",
       "_dom_classes": [],
       "_view_count": null,
       "antialias": 3,
       "auto_rendering": true,
       "axes": [
        "x (nm)",
        "y (nm)",
        "z (nm)"
       ],
       "axes_helper": 1,
       "background_color": 16777215,
       "camera": [
        26.035482368337913,
        -23.55322355250687,
        2.1035482368337886,
        10,
        0.5,
        0.5,
        0,
        0,
        1
       ],
       "camera_animation": [],
       "camera_auto_fit": true,
       "camera_fov": 60,
       "camera_no_pan": false,
       "camera_no_rotate": false,
       "camera_no_zoom": false,
       "clipping_planes": [],
       "colorbar_object_id": -1,
       "fps": 25,
       "fps_meter": false,
       "grid": [
        -1,
        -1,
        -1,
        1,
        1,
        1
       ],
       "grid_auto_fit": true,
       "grid_visible": true,
       "height": 512,
       "layout": "IPY_MODEL_99a6f455d59b4b3ea1dd97d4c490c7ef",
       "lighting": 1.5,
       "menu_visibility": true,
       "mode": "view",
       "name": null,
       "object_ids": [
        4565867104,
        4580476960
       ],
       "rendering_steps": 1,
       "screenshot": "",
       "screenshot_scale": 2,
       "snapshot": "",
       "time": 0,
       "voxel_paint_color": 0
      }
     },
     "69537d19b892492daf5595840232d3b4": {
      "buffers": [
       {
        "data": "eNoDAAAAAAE=",
        "encoding": "base64",
        "path": [
         "colors",
         "compressed_buffer"
        ]
       },
       {
        "data": "eNpjYGiwZ8AAxIsBAF7EAv0=",
        "encoding": "base64",
        "path": [
         "model_matrix",
         "compressed_buffer"
        ]
       },
       {
        "data": "eNoDAAAAAAE=",
        "encoding": "base64",
        "path": [
         "opacities",
         "compressed_buffer"
        ]
       },
       {
        "data": "eNpjYGCwZ4DjA0hsBQcYm5EhwQEhPgGJvQFJzQUk8Q9IbA5HBFsCzgYAxoYLzw==",
        "encoding": "base64",
        "path": [
         "positions",
         "compressed_buffer"
        ]
       }
      ],
      "model_module": "k3d",
      "model_module_version": "2.7.4",
      "model_name": "ObjectModel",
      "state": {
       "_view_count": null,
       "_view_module": null,
       "_view_module_version": "",
       "_view_name": null,
       "color": 5010096,
       "colorLegend": false,
       "colors": {
        "dtype": "uint32",
        "shape": [
         0
        ]
       },
       "compression_level": 0,
       "id": 4757502320,
       "mesh_detail": 2,
       "model_matrix": {
        "dtype": "float32",
        "shape": [
         4,
         4
        ]
       },
       "name": "Points #1",
       "opacities": {
        "dtype": "float32",
        "shape": [
         0
        ]
       },
       "opacity": 1,
       "point_size": 0.25,
       "positions": {
        "dtype": "float32",
        "shape": [
         10,
         3
        ]
       },
       "shader": "3dSpecular",
       "type": "Points",
       "visible": true
      }
     },
     "69dd60d775c3407f9cf47805e07703d6": {
      "model_module": "@jupyter-widgets/base",
      "model_module_version": "1.2.0",
      "model_name": "LayoutModel",
      "state": {}
     },
     "69fc6664466a4e92847fe562d76c7e99": {
      "buffers": [
       {
        "data": "eNoLarnLEDSIMQBtm0P5",
        "encoding": "base64",
        "path": [
         "colors",
         "compressed_buffer"
        ]
       },
       {
        "data": "eNpjYGiwZ8AAxIsBAF7EAv0=",
        "encoding": "base64",
        "path": [
         "model_matrix",
         "compressed_buffer"
        ]
       },
       {
        "data": "eNpjYGCwZ4CDA0hsBQcYi5EhwQEhPgGJvQFJzQUk8Q9IbA5HBFsCia2BxLZwRJjjgcSOQGJnIKmvQGK3ILF7kNhTkNhz4GwAXpANkA==",
        "encoding": "base64",
        "path": [
         "origins",
         "compressed_buffer"
        ]
       },
       {
        "data": "eNpjYACBBnsIHv5sALlrHdk=",
        "encoding": "base64",
        "path": [
         "vectors",
         "compressed_buffer"
        ]
       }
      ],
      "model_module": "k3d",
      "model_module_version": "2.7.4",
      "model_name": "ObjectModel",
      "state": {
       "_view_count": null,
       "_view_module": null,
       "_view_module_version": "",
       "_view_name": null,
       "colors": {
        "dtype": "uint32",
        "shape": [
         20,
         2
        ]
       },
       "compression_level": 0,
       "head_color": 255,
       "head_size": 1,
       "id": 4925029728,
       "label_size": 1,
       "labels": [],
       "line_width": 0.01,
       "model_matrix": {
        "dtype": "float32",
        "shape": [
         4,
         4
        ]
       },
       "name": "Vectors #1",
       "origin_color": 255,
       "origins": {
        "dtype": "float32",
        "shape": [
         20,
         3
        ]
       },
       "type": "Vectors",
       "use_head": true,
       "vectors": {
        "dtype": "float32",
        "shape": [
         20,
         3
        ]
       },
       "visible": true
      }
     },
     "6a0b0dd80a3646f5b78dd2c0e13eb701": {
      "model_module": "k3d",
      "model_module_version": "2.7.4",
      "model_name": "PlotModel",
      "state": {
       "_backend_version": "2.7.4",
       "_dom_classes": [],
       "_view_count": null,
       "antialias": 3,
       "auto_rendering": true,
       "axes": [
        "x (nm)",
        "y (nm)",
        "z (nm)"
       ],
       "axes_helper": 1,
       "background_color": 16777215,
       "camera": [
        26.015022451936375,
        -23.522533677904566,
        2.1015022600947955,
        10,
        0.5,
        0.5000000149011612,
        0,
        0,
        1
       ],
       "camera_animation": [],
       "camera_auto_fit": true,
       "camera_fov": 60,
       "camera_no_pan": false,
       "camera_no_rotate": false,
       "camera_no_zoom": false,
       "clipping_planes": [],
       "colorbar_object_id": -1,
       "fps": 25,
       "fps_meter": false,
       "grid": [
        -1,
        -1,
        -1,
        1,
        1,
        1
       ],
       "grid_auto_fit": true,
       "grid_visible": true,
       "height": 512,
       "layout": "IPY_MODEL_4ce1362434dd468db41f46a9fd0bfbc0",
       "lighting": 1.5,
       "menu_visibility": true,
       "mode": "view",
       "name": null,
       "object_ids": [
        140675200419216,
        140675199580944
       ],
       "rendering_steps": 1,
       "screenshot": "",
       "screenshot_scale": 2,
       "snapshot": "",
       "time": 0,
       "voxel_paint_color": 0
      }
     },
     "6a6057c21fab4a568763cc52bb828839": {
      "model_module": "@jupyter-widgets/base",
      "model_module_version": "1.2.0",
      "model_name": "LayoutModel",
      "state": {}
     },
     "6d44a51641ae4242b3b3c0f364ee2853": {
      "model_module": "@jupyter-widgets/output",
      "model_module_version": "1.0.0",
      "model_name": "OutputModel",
      "state": {
       "layout": "IPY_MODEL_dfffd9a2fc7a4a6dac4d969840bb6e82",
       "outputs": [
        {
         "data": {
          "application/vnd.jupyter.widget-view+json": {
           "model_id": "099276cf157b494e8a6f78372605c976",
           "version_major": 2,
           "version_minor": 0
          },
          "text/plain": "Plot(antialias=3, axes=['x', 'y', 'z'], axes_helper=1.0, background_color=16777215, camera=[2, -3, 0.2, 0.0, 0…"
         },
         "metadata": {},
         "output_type": "display_data"
        }
       ]
      }
     },
     "6d7e9d66894e4091a54d8e37c1c7d183": {
      "buffers": [
       {
        "data": "eNoDAAAAAAE=",
        "encoding": "base64",
        "path": [
         "colors",
         "compressed_buffer"
        ]
       },
       {
        "data": "eNpjYGiwZ8AAxIsBAF7EAv0=",
        "encoding": "base64",
        "path": [
         "model_matrix",
         "compressed_buffer"
        ]
       },
       {
        "data": "eNoDAAAAAAE=",
        "encoding": "base64",
        "path": [
         "opacities",
         "compressed_buffer"
        ]
       },
       {
        "data": "eNpjYGCwZ4DjA0hsBQcYm5EhwQEhPgGJvQFJzQUk8Q9IbA5HBFsCzgYAxoYLzw==",
        "encoding": "base64",
        "path": [
         "positions",
         "compressed_buffer"
        ]
       }
      ],
      "model_module": "k3d",
      "model_module_version": "2.7.4",
      "model_name": "ObjectModel",
      "state": {
       "_view_count": null,
       "_view_module": null,
       "_view_module_version": "",
       "_view_name": null,
       "color": 5010096,
       "colorLegend": false,
       "colors": {
        "dtype": "uint32",
        "shape": [
         0
        ]
       },
       "compression_level": 0,
       "id": 4757802912,
       "mesh_detail": 2,
       "model_matrix": {
        "dtype": "float32",
        "shape": [
         4,
         4
        ]
       },
       "name": "Points #1",
       "opacities": {
        "dtype": "float32",
        "shape": [
         0
        ]
       },
       "opacity": 1,
       "point_size": 0.25,
       "positions": {
        "dtype": "float32",
        "shape": [
         10,
         3
        ]
       },
       "shader": "3dSpecular",
       "type": "Points",
       "visible": true
      }
     },
     "6e0f4aaae63e49dbac4178e54439548a": {
      "model_module": "k3d",
      "model_module_version": "2.7.4",
      "model_name": "PlotModel",
      "state": {
       "_backend_version": "2.7.4",
       "_dom_classes": [],
       "_view_count": null,
       "antialias": 3,
       "auto_rendering": true,
       "axes": [
        "x (nm)",
        "y (nm)",
        "z (nm)"
       ],
       "axes_helper": 1,
       "background_color": 16777215,
       "camera": [
        12.773946283633382,
        -11.16091942966476,
        1.2773946241486662,
        5,
        0.49999999578531495,
        0.49999999578531495,
        0,
        0,
        1
       ],
       "camera_animation": [],
       "camera_auto_fit": true,
       "camera_fov": 60,
       "camera_no_pan": false,
       "camera_no_rotate": false,
       "camera_no_zoom": false,
       "clipping_planes": [],
       "colorbar_object_id": -1,
       "fps": 25,
       "fps_meter": false,
       "grid": [
        -1,
        -1,
        -1,
        1,
        1,
        1
       ],
       "grid_auto_fit": true,
       "grid_visible": true,
       "height": 512,
       "layout": "IPY_MODEL_69dd60d775c3407f9cf47805e07703d6",
       "lighting": 1.5,
       "menu_visibility": true,
       "mode": "view",
       "name": null,
       "object_ids": [
        4757799072,
        4757799408
       ],
       "rendering_steps": 1,
       "screenshot": "",
       "screenshot_scale": 2,
       "snapshot": "",
       "time": 0,
       "voxel_paint_color": 0
      }
     },
     "6eb3c5125b984402aebed15d60385f50": {
      "buffers": [
       {
        "data": "eNoDAAAAAAE=",
        "encoding": "base64",
        "path": [
         "colors",
         "compressed_buffer"
        ]
       },
       {
        "data": "eNpjYGiwZ8AAxIsBAF7EAv0=",
        "encoding": "base64",
        "path": [
         "model_matrix",
         "compressed_buffer"
        ]
       },
       {
        "data": "eNoDAAAAAAE=",
        "encoding": "base64",
        "path": [
         "opacities",
         "compressed_buffer"
        ]
       },
       {
        "data": "eNpjYGCwZ4DjA0hsBQcYm5EhwQEhPgGJvQFJzQUk8Q9IbA5HBFsCzgYAxoYLzw==",
        "encoding": "base64",
        "path": [
         "positions",
         "compressed_buffer"
        ]
       }
      ],
      "model_module": "k3d",
      "model_module_version": "2.7.4",
      "model_name": "ObjectModel",
      "state": {
       "_view_count": null,
       "_view_module": null,
       "_view_module_version": "",
       "_view_name": null,
       "color": 5010096,
       "colorLegend": false,
       "colors": {
        "dtype": "uint32",
        "shape": [
         0
        ]
       },
       "compression_level": 0,
       "id": 4575332672,
       "mesh_detail": 2,
       "model_matrix": {
        "dtype": "float32",
        "shape": [
         4,
         4
        ]
       },
       "name": "Points #1",
       "opacities": {
        "dtype": "float32",
        "shape": [
         0
        ]
       },
       "opacity": 1,
       "point_size": 0.25,
       "positions": {
        "dtype": "float32",
        "shape": [
         10,
         3
        ]
       },
       "shader": "3dSpecular",
       "type": "Points",
       "visible": true
      }
     },
     "6ed2cdbfb18b4d27b1921df3ab2fc8e9": {
      "buffers": [
       {
        "data": "eNoDAAAAAAE=",
        "encoding": "base64",
        "path": [
         "colors",
         "compressed_buffer"
        ]
       },
       {
        "data": "eNpjYGiwZ8AAxIsBAF7EAv0=",
        "encoding": "base64",
        "path": [
         "model_matrix",
         "compressed_buffer"
        ]
       },
       {
        "data": "eNoDAAAAAAE=",
        "encoding": "base64",
        "path": [
         "opacities",
         "compressed_buffer"
        ]
       },
       {
        "data": "eNpjYGCwZ4DjA0hsBQcYm5EhwQEhPgGJvQFJzQUk8Q9IbA5HBFsCzgYAxoYLzw==",
        "encoding": "base64",
        "path": [
         "positions",
         "compressed_buffer"
        ]
       }
      ],
      "model_module": "k3d",
      "model_module_version": "2.7.4",
      "model_name": "ObjectModel",
      "state": {
       "_view_count": null,
       "_view_module": null,
       "_view_module_version": "",
       "_view_name": null,
       "color": 5010096,
       "colorLegend": false,
       "colors": {
        "dtype": "uint32",
        "shape": [
         0
        ]
       },
       "compression_level": 0,
       "id": 4584460400,
       "mesh_detail": 2,
       "model_matrix": {
        "dtype": "float32",
        "shape": [
         4,
         4
        ]
       },
       "name": "Points #1",
       "opacities": {
        "dtype": "float32",
        "shape": [
         0
        ]
       },
       "opacity": 1,
       "point_size": 0.25,
       "positions": {
        "dtype": "float32",
        "shape": [
         10,
         3
        ]
       },
       "shader": "3dSpecular",
       "type": "Points",
       "visible": true
      }
     },
     "6f1a5fb16dd34ca3b29545332da96385": {
      "model_module": "k3d",
      "model_module_version": "2.7.4",
      "model_name": "PlotModel",
      "state": {
       "_backend_version": "2.7.4",
       "_dom_classes": [],
       "_view_count": null,
       "antialias": 3,
       "auto_rendering": true,
       "axes": [
        "x (nm)",
        "y (nm)",
        "z (nm)"
       ],
       "axes_helper": 1,
       "background_color": 16777215,
       "camera": [
        13.28854172313317,
        -11.965482218326693,
        1.3310321439148103,
        4.978220283985138,
        0.4999999403953552,
        0.5,
        0,
        0,
        1
       ],
       "camera_animation": [],
       "camera_auto_fit": true,
       "camera_fov": 60,
       "camera_no_pan": false,
       "camera_no_rotate": false,
       "camera_no_zoom": false,
       "clipping_planes": [],
       "colorbar_object_id": -1,
       "fps": 25,
       "fps_meter": false,
       "grid": [
        -1,
        -1,
        -1,
        1,
        1,
        1
       ],
       "grid_auto_fit": true,
       "grid_visible": true,
       "height": 512,
       "layout": "IPY_MODEL_9bbdf11d6fd94becb143fb3d225ee0ac",
       "lighting": 1.5,
       "menu_visibility": true,
       "mode": "view",
       "name": null,
       "object_ids": [
        4756835776,
        4755672128
       ],
       "rendering_steps": 1,
       "screenshot": "",
       "screenshot_scale": 2,
       "snapshot": "",
       "time": 0,
       "voxel_paint_color": 0
      }
     },
     "6f29fd5d8d464138989beaddad372b6c": {
      "model_module": "@jupyter-widgets/base",
      "model_module_version": "1.2.0",
      "model_name": "LayoutModel",
      "state": {}
     },
     "6f67245eccc1426ebfe3091bf84a89ef": {
      "model_module": "k3d",
      "model_module_version": "2.7.4",
      "model_name": "PlotModel",
      "state": {
       "_backend_version": "2.7.4",
       "_dom_classes": [],
       "_view_count": null,
       "antialias": 3,
       "auto_rendering": true,
       "axes": [
        "x (nm)",
        "y (nm)",
        "z (nm)"
       ],
       "axes_helper": 1,
       "background_color": 16777215,
       "camera": [
        13.017741184168955,
        -11.526611776253436,
        1.3017741184169038,
        5,
        0.5,
        0.5,
        0,
        0,
        1
       ],
       "camera_animation": [],
       "camera_auto_fit": true,
       "camera_fov": 60,
       "camera_no_pan": false,
       "camera_no_rotate": false,
       "camera_no_zoom": false,
       "clipping_planes": [],
       "colorbar_object_id": -1,
       "fps": 25,
       "fps_meter": false,
       "grid": [
        -1,
        -1,
        -1,
        1,
        1,
        1
       ],
       "grid_auto_fit": true,
       "grid_visible": true,
       "height": 512,
       "layout": "IPY_MODEL_d0d0836759c84e11875d9568baeec1b2",
       "lighting": 1.5,
       "menu_visibility": true,
       "mode": "view",
       "name": null,
       "object_ids": [
        4757404352,
        4757402624
       ],
       "rendering_steps": 1,
       "screenshot": "",
       "screenshot_scale": 2,
       "snapshot": "",
       "time": 0,
       "voxel_paint_color": 0
      }
     },
     "70216d47789145d18b7cffe468ab1518": {
      "buffers": [
       {
        "data": "eNrzU2Jg8APiDF0IzrPXBOOcMD8wLi4sAOOKvslgnLt6JxhHHb8Nxk63P4OxxYt/KBgmDlMH0wczB2YuzB6YvTB3+EHdBQB7nzdN",
        "encoding": "base64",
        "path": [
         "colors",
         "compressed_buffer"
        ]
       },
       {
        "data": "eNpjYGiwZ8AAxIsBAF7EAv0=",
        "encoding": "base64",
        "path": [
         "model_matrix",
         "compressed_buffer"
        ]
       },
       {
        "data": "eNr7+/+/nRP7ATubxTX2///vt/80ucBuV0iuPQODgsML/i+2Lr+D7RkZEhxOWMjafn1lBBSf4MAABD66vED2BgcG0+/WfcVn7BgZLjh8EC233ezRbMfA8MFhmo6snZYqN5DN4Xh0ap/dg0futgwMEo42DDftGhz9rRkYNBwf1wvbMziB2BaO8lst7F8A1TAyeDje2RJhrwPUy8gQ4bior8B+G9BMRoYMx2mCdfYTgXYxMFQ4MjA02PuC3dDiWKxTZv8N7LYeR6a6RHs3oJsZGKY4Mt12tt8N9sscx7g/8vYgPwIAj2lP1g==",
        "encoding": "base64",
        "path": [
         "origins",
         "compressed_buffer"
        ]
       },
       {
        "data": "eNpzUokx+fao3q7crXL/p0Q3E/Zt7PalK6P2b3itZsL2x8m+85v6/p37BU2eR+TYX159el/59O/GDAwN9oeuXNr7/d0+Yx3lGvvjhn52hm+nGjvJJtrPyvtpV81VbLw109A+O9fKfu7Ms0ZlVx7ZLWFOt9/2jM1Q4L+0XW1inX1CHcNG6f/S+2qA7HXiZzdVX3m0bzFQTXJB8ebtmYb7s4B6bbqmbXaWTdw/FWjmug37N+sq1+zfC7TLQ//HZqAb9l8DukH6o+CWZxE5+28C3TaVRX0L6x+n/d1AN+dHuG1h3ca+vwzol7d/o7e8eVS/rwLoRwC9YnRH",
        "encoding": "base64",
        "path": [
         "vectors",
         "compressed_buffer"
        ]
       }
      ],
      "model_module": "k3d",
      "model_module_version": "2.7.4",
      "model_name": "ObjectModel",
      "state": {
       "_view_count": null,
       "_view_module": null,
       "_view_module_version": "",
       "_view_name": null,
       "colors": {
        "dtype": "uint32",
        "shape": [
         20,
         2
        ]
       },
       "compression_level": 0,
       "head_color": 255,
       "head_size": 1,
       "id": 4925872400,
       "label_size": 1,
       "labels": [],
       "line_width": 0.01,
       "model_matrix": {
        "dtype": "float32",
        "shape": [
         4,
         4
        ]
       },
       "name": "Vectors #1",
       "origin_color": 255,
       "origins": {
        "dtype": "float32",
        "shape": [
         20,
         3
        ]
       },
       "type": "Vectors",
       "use_head": true,
       "vectors": {
        "dtype": "float32",
        "shape": [
         20,
         3
        ]
       },
       "visible": true
      }
     },
     "703167284fc541fbb0c721e9d29ea9ac": {
      "buffers": [
       {
        "data": "eNoLarnLEERFDABnGyH9",
        "encoding": "base64",
        "path": [
         "colors",
         "compressed_buffer"
        ]
       },
       {
        "data": "eNpjYGiwZ8AAxIsBAF7EAv0=",
        "encoding": "base64",
        "path": [
         "model_matrix",
         "compressed_buffer"
        ]
       },
       {
        "data": "eNpjYGAwkfomagfCjAwN9jA2AwODA0LcwUEGSMuAxRuQ2AvgbEaGAw5yQFoOLP7AQQFIK0DMcUSwBeBsAM0iIf0=",
        "encoding": "base64",
        "path": [
         "origins",
         "compressed_buffer"
        ]
       },
       {
        "data": "eNr787/e/jOLKRj/wcH+C2R/AtKf0Nj/0dgfgTQIMzA02H8A0h/wsAHsHzGV",
        "encoding": "base64",
        "path": [
         "vectors",
         "compressed_buffer"
        ]
       }
      ],
      "model_module": "k3d",
      "model_module_version": "2.7.4",
      "model_name": "ObjectModel",
      "state": {
       "_view_count": null,
       "_view_module": null,
       "_view_module_version": "",
       "_view_name": null,
       "colorLegend": false,
       "colors": {
        "dtype": "uint32",
        "shape": [
         10,
         2
        ]
       },
       "compression_level": 0,
       "head_color": 255,
       "head_size": 3,
       "id": 4930397712,
       "label_size": 1,
       "labels": [],
       "line_width": 0.01,
       "model_matrix": {
        "dtype": "float32",
        "shape": [
         4,
         4
        ]
       },
       "name": "Vectors #1",
       "origin_color": 255,
       "origins": {
        "dtype": "float32",
        "shape": [
         10,
         3
        ]
       },
       "type": "Vectors",
       "use_head": true,
       "vectors": {
        "dtype": "float32",
        "shape": [
         10,
         3
        ]
       },
       "visible": true
      }
     },
     "704f65cf6ac54fecb0bf0981e852dba5": {
      "buffers": [
       {
        "data": "eNolw2dslWUYgOHbHyb8MDExxhhjjAqCgIDQQSmlpaUtXXSP073X6fuNs7/D3puy9yqjQNl7j7KLbMqQPQREjTuuqI3PiVdypX4MaZ0howtkfQLZMrcr2LpB/qdQKIu7Q2kPKJcVPaHqM6iRdb3A3huU1PqA8TmYgX3BEdjvNRxBr2MGdcIMfgMz5E35Fmbo25j938Ho/y5G2HsYA97HCP9Afog+8CP0iM6yC/qgruiR3dCjuqNF9UAb3BMtupfsjRbTB21IX9kPLTYIFRcsQ1DxoaihYaiEATIclTgQlRQhB6GSI1EpUXIwalg0KjVGDkGlxaLS41AZ8XIoKjMBlZUok1DZyaicFDkMlZuKykuT6Wi2DLT8TLSCLJmNVpiDVhSYi1ach1ZiQy/JRy8tQC8rRC8vksXoFSUYlYGlGFVlGNXlsgKzphKztgqzrvr/9TU47LWyDkdDPQ5lx6k1SIVTl4aGy9BxmQYuh4nb6ZBO3C4nHrdLuvF4PHi9Xrw+H75Ay8Ln92MNHy5HYI0YiTVylByNNUqOHoM1Zqwch3/sePzjJuAfP1FOwj9hMtbEKViTpsppWJOnY02ZgTV1ppyFNa0Ra/psrBlz5FysmfOwZsnG+fgaF+CbvRDfnEX45i7GN2+JXIp3/jK8C5bjXbhCrsS7aBWexavxLGnCs3SNXIt72Trcy9fjXtEsN+BauRHXqk24VrfgatqMs2kLzjVbca7dhmPddhzrd+Bo3onZvAtzwx6MjXsxNu3DaNmP3nIAffNBtC2H0LYeRtt2BLX9qDxGw47jNOw8gX1XK/bdJ6nfc0qepm7vGer2naV2/zlqD5yn5mAb1YcuyItUHb5E5ZHLVB69QsWxq1Qcv0b5ieuUtd6gtLWd0pM3KTl1i+LTtyk6c4eis3cpPHePgvP3yW97gK3tIbYLj8j74jG5F5+Qc+kp2ZefkXXlOZlXX5Bx7SXp178m7cYrUtu/IaX9W5JvfkfSre9JvP0DCXd+JP7Ln4i7+zOx934h5v6vRD/4jaiHvxP56A8iHv9J+JO/CHv6N6HP/iH4q38Jft5ByIsOQl92EPaqg/8ABrdj6Q==",
        "encoding": "base64",
        "path": [
         "color_map",
         "compressed_buffer"
        ]
       },
       {
        "data": "eNpjYDjhxIABsIktcGBgUHBAFWuwBwCGiwQU",
        "encoding": "base64",
        "path": [
         "model_matrix",
         "compressed_buffer"
        ]
       },
       {
        "data": "eNptkDEKhDAQRfUYXsMj2HoD0yop7XKENNppkzJ2KcTWEwgphKQXrEVBCDZiMeu6LCzs/PLB/Jl5nveE0DynxPtJwkohpShZ8iVRxpt+GMehb3gWfRAtWj1vzm2zbgv6wKzo7HrBnWu1XZG9u3hrdziXaVpO2G3L707W6BUOo6pKmQNW3TCPlP18naZO4zitzXnNfUmoGDZYVBoGQZiqBbZB0FyODqYqDnw/iKsJ3ChzjGGz2A7sFvRm7DfUAeYKdfrn/gWBU84p",
        "encoding": "base64",
        "path": [
         "voxels",
         "compressed_buffer"
        ]
       }
      ],
      "model_module": "k3d",
      "model_module_version": "2.7.4",
      "model_name": "ObjectModel",
      "state": {
       "_view_count": null,
       "_view_module": null,
       "_view_module_version": "",
       "_view_name": null,
       "colorLegend": false,
       "color_map": {
        "dtype": "uint32",
        "shape": [
         256
        ]
       },
       "compression_level": 0,
       "id": 4964266192,
       "model_matrix": {
        "dtype": "float32",
        "shape": [
         4,
         4
        ]
       },
       "name": "Voxels #1",
       "opacity": 1,
       "outlines": false,
       "outlines_color": 0,
       "type": "Voxels",
       "visible": true,
       "voxels": {
        "dtype": "uint8",
        "shape": [
         1,
         20,
         20
        ]
       },
       "wireframe": false
      }
     },
     "7124ce6853334a80987a747e650b26d5": {
      "model_module": "@jupyter-widgets/output",
      "model_module_version": "1.0.0",
      "model_name": "OutputModel",
      "state": {
       "layout": "IPY_MODEL_03398b41aba047629549e0dd62fba18c",
       "outputs": [
        {
         "data": {
          "application/vnd.jupyter.widget-view+json": {
           "model_id": "ecebf55819084119b4b234802c54a973",
           "version_major": 2,
           "version_minor": 0
          },
          "text/plain": "Plot(antialias=3, axes=['x', 'y', 'z'], axes_helper=1.0, background_color=16777215, camera=[2, -3, 0.2, 0.0, 0…"
         },
         "metadata": {},
         "output_type": "display_data"
        }
       ]
      }
     },
     "7185ea94ee4f4af39215f5513f473218": {
      "buffers": [
       {
        "data": "eNrbUOTDENRylwEADvwDIg==",
        "encoding": "base64",
        "path": [
         "color_map",
         "compressed_buffer"
        ]
       },
       {
        "data": "eNpjYFjgyAAHClB2gz1UwB4hBxZD4kPEAIX9A/4=",
        "encoding": "base64",
        "path": [
         "model_matrix",
         "compressed_buffer"
        ]
       },
       {
        "data": "eNpjZMQATAAA5wAW",
        "encoding": "base64",
        "path": [
         "voxels",
         "compressed_buffer"
        ]
       }
      ],
      "model_module": "k3d",
      "model_module_version": "2.7.4",
      "model_name": "ObjectModel",
      "state": {
       "_view_count": null,
       "_view_module": null,
       "_view_module_version": "",
       "_view_name": null,
       "color_map": {
        "dtype": "uint32",
        "shape": [
         2
        ]
       },
       "compression_level": 0,
       "id": 4928900736,
       "model_matrix": {
        "dtype": "float32",
        "shape": [
         4,
         4
        ]
       },
       "name": "Voxels #1",
       "opacity": 1,
       "outlines": false,
       "outlines_color": 0,
       "type": "Voxels",
       "visible": true,
       "voxels": {
        "dtype": "uint8",
        "shape": [
         1,
         1,
         20
        ]
       },
       "wireframe": false
      }
     },
     "71d0dd588c9642d8815c45aec3519622": {
      "model_module": "@jupyter-widgets/base",
      "model_module_version": "1.2.0",
      "model_name": "LayoutModel",
      "state": {}
     },
     "73436014c26b400caabf164b0a496209": {
      "buffers": [
       {
        "data": "eNoLarnLEERFDABnGyH9",
        "encoding": "base64",
        "path": [
         "colors",
         "compressed_buffer"
        ]
       },
       {
        "data": "eNpjYGiwZ8AAxIsBAF7EAv0=",
        "encoding": "base64",
        "path": [
         "model_matrix",
         "compressed_buffer"
        ]
       },
       {
        "data": "eNpjYGCwZ2BgMGYAgwNAdgOUr+AAYTfYMzIkOEDkQfwJDgj1G6BqGBgYGS7A1TMwfICqAbE5HCFqQXwJR5h6AG1zDpk=",
        "encoding": "base64",
        "path": [
         "origins",
         "compressed_buffer"
        ]
       },
       {
        "data": "eNpjYGBg+P+/3p6BoQGIQaBhP4QPFt8P4kPF7SF8VPVQNch6kdUg60VRDwADFSdP",
        "encoding": "base64",
        "path": [
         "vectors",
         "compressed_buffer"
        ]
       }
      ],
      "model_module": "k3d",
      "model_module_version": "2.7.4",
      "model_name": "ObjectModel",
      "state": {
       "_view_count": null,
       "_view_module": null,
       "_view_module_version": "",
       "_view_name": null,
       "colorLegend": false,
       "colors": {
        "dtype": "uint32",
        "shape": [
         10,
         2
        ]
       },
       "compression_level": 0,
       "head_color": 255,
       "head_size": 3,
       "id": 4757799072,
       "label_size": 1,
       "labels": [],
       "line_width": 0.01,
       "model_matrix": {
        "dtype": "float32",
        "shape": [
         4,
         4
        ]
       },
       "name": "Vectors #1",
       "origin_color": 255,
       "origins": {
        "dtype": "float32",
        "shape": [
         10,
         3
        ]
       },
       "type": "Vectors",
       "use_head": true,
       "vectors": {
        "dtype": "float32",
        "shape": [
         10,
         3
        ]
       },
       "visible": true
      }
     },
     "744dd4f77f314711805b05b014bc4ce9": {
      "buffers": [
       {
        "data": "eNoLarnLEERFDABnGyH9",
        "encoding": "base64",
        "path": [
         "colors",
         "compressed_buffer"
        ]
       },
       {
        "data": "eNpjYGiwZ8AAxIsBAF7EAv0=",
        "encoding": "base64",
        "path": [
         "model_matrix",
         "compressed_buffer"
        ]
       },
       {
        "data": "eNpjYGAwYWBgsAdiBkaGBnsYGwgcEOIOMLYxA0MDEnsBlH3AmJHhAJzNwPAApgZktiOCLQBnAwBx0Qtn",
        "encoding": "base64",
        "path": [
         "origins",
         "compressed_buffer"
        ]
       },
       {
        "data": "eNr787/engEMGuz/4GD/hbL/A2lk9n8o+y8aG6QHxP6Dhw0AJSQqqQ==",
        "encoding": "base64",
        "path": [
         "vectors",
         "compressed_buffer"
        ]
       }
      ],
      "model_module": "k3d",
      "model_module_version": "2.7.4",
      "model_name": "ObjectModel",
      "state": {
       "_view_count": null,
       "_view_module": null,
       "_view_module_version": "",
       "_view_name": null,
       "colorLegend": false,
       "colors": {
        "dtype": "uint32",
        "shape": [
         10,
         2
        ]
       },
       "compression_level": 0,
       "head_color": 255,
       "head_size": 3,
       "id": 4925323632,
       "label_size": 1,
       "labels": [],
       "line_width": 0.01,
       "model_matrix": {
        "dtype": "float32",
        "shape": [
         4,
         4
        ]
       },
       "name": "Vectors #1",
       "origin_color": 255,
       "origins": {
        "dtype": "float32",
        "shape": [
         10,
         3
        ]
       },
       "type": "Vectors",
       "use_head": true,
       "vectors": {
        "dtype": "float32",
        "shape": [
         10,
         3
        ]
       },
       "visible": true
      }
     },
     "7458c7f94def43bd9d0aa7632a1c6f74": {
      "model_module": "@jupyter-widgets/output",
      "model_module_version": "1.0.0",
      "model_name": "OutputModel",
      "state": {
       "layout": "IPY_MODEL_5f9ff4f0de474c0891f844cb410c2771",
       "outputs": [
        {
         "data": {
          "application/vnd.jupyter.widget-view+json": {
           "model_id": "01ac962fcdca43f0abfb4164f060a267",
           "version_major": 2,
           "version_minor": 0
          },
          "text/plain": "Plot(antialias=3, axes=['x', 'y', 'z'], axes_helper=1.0, background_color=16777215, camera=[2, -3, 0.2, 0.0, 0…"
         },
         "metadata": {},
         "output_type": "display_data"
        }
       ]
      }
     },
     "745b406b79924e74b325b3799b61cfcf": {
      "model_module": "k3d",
      "model_module_version": "2.7.4",
      "model_name": "PlotModel",
      "state": {
       "_backend_version": "2.7.4",
       "_dom_classes": [],
       "_view_count": null,
       "antialias": 3,
       "auto_rendering": true,
       "axes": [
        "x (nm)",
        "y (nm)",
        "z (nm)"
       ],
       "axes_helper": 1,
       "background_color": 16777215,
       "camera": [
        13.45843140614532,
        -12.262647099159695,
        1.350843139943987,
        4.9500000067055225,
        0.5,
        0.5,
        0,
        0,
        1
       ],
       "camera_animation": [],
       "camera_auto_fit": true,
       "camera_fov": 60,
       "camera_no_pan": false,
       "camera_no_rotate": false,
       "camera_no_zoom": false,
       "clipping_planes": [],
       "colorbar_object_id": -1,
       "fps": 25,
       "fps_meter": false,
       "grid": [
        -1,
        -1,
        -1,
        1,
        1,
        1
       ],
       "grid_auto_fit": true,
       "grid_visible": true,
       "height": 512,
       "layout": "IPY_MODEL_a26d0e711cdb438ca704a7fbc9e52f0d",
       "lighting": 1.5,
       "menu_visibility": true,
       "mode": "view",
       "name": null,
       "object_ids": [
        4757769424
       ],
       "rendering_steps": 1,
       "screenshot": "",
       "screenshot_scale": 2,
       "snapshot": "",
       "time": 0,
       "voxel_paint_color": 0
      }
     },
     "7468d04e69eb407394eb60d0e686141b": {
      "model_module": "k3d",
      "model_module_version": "2.7.4",
      "model_name": "PlotModel",
      "state": {
       "_backend_version": "2.7.4",
       "_dom_classes": [],
       "_view_count": null,
       "antialias": 3,
       "auto_rendering": true,
       "axes": [
        "x (nm)",
        "y (nm)",
        "z (nm)"
       ],
       "axes_helper": 1,
       "background_color": 16777215,
       "camera": [
        13.35174984449013,
        -12.027624773057223,
        1.3351749997716411,
        4.9999999957853145,
        0.5,
        0.5000000149011612,
        0,
        0,
        1
       ],
       "camera_animation": [],
       "camera_auto_fit": true,
       "camera_fov": 60,
       "camera_no_pan": false,
       "camera_no_rotate": false,
       "camera_no_zoom": false,
       "clipping_planes": [],
       "colorbar_object_id": -1,
       "fps": 25,
       "fps_meter": false,
       "grid": [
        -1,
        -1,
        -1,
        1,
        1,
        1
       ],
       "grid_auto_fit": true,
       "grid_visible": true,
       "height": 512,
       "layout": "IPY_MODEL_85e5bce05881459a89d6fabc2c181dfc",
       "lighting": 1.5,
       "menu_visibility": true,
       "mode": "view",
       "name": null,
       "object_ids": [
        4924756656,
        4923355584
       ],
       "rendering_steps": 1,
       "screenshot": "",
       "screenshot_scale": 2,
       "snapshot": "",
       "time": 0,
       "voxel_paint_color": 0
      }
     },
     "756355c9ae1a46219db7de45bc0dd5ee": {
      "model_module": "@jupyter-widgets/base",
      "model_module_version": "1.2.0",
      "model_name": "LayoutModel",
      "state": {}
     },
     "7566a3f30a9f4b8dbdb6488a80feb73e": {
      "buffers": [
       {
        "data": "eNoLarnLEERFDABnGyH9",
        "encoding": "base64",
        "path": [
         "colors",
         "compressed_buffer"
        ]
       },
       {
        "data": "eNpjYGiwZ8AAxIsBAF7EAv0=",
        "encoding": "base64",
        "path": [
         "model_matrix",
         "compressed_buffer"
        ]
       },
       {
        "data": "eNpjYAADewjVYI9gMzjA2IwMDg5IapDYC5DUHEASf4DEZnBEsAXgbADj0ghK",
        "encoding": "base64",
        "path": [
         "origins",
         "compressed_buffer"
        ]
       },
       {
        "data": "eNpjYGiwZwADEE0/NgB7CQ7t",
        "encoding": "base64",
        "path": [
         "vectors",
         "compressed_buffer"
        ]
       }
      ],
      "model_module": "k3d",
      "model_module_version": "2.7.4",
      "model_name": "ObjectModel",
      "state": {
       "_view_count": null,
       "_view_module": null,
       "_view_module_version": "",
       "_view_name": null,
       "colors": {
        "dtype": "uint32",
        "shape": [
         10,
         2
        ]
       },
       "compression_level": 0,
       "head_color": 255,
       "head_size": 3,
       "id": 4554432032,
       "label_size": 1,
       "labels": [],
       "line_width": 0.01,
       "model_matrix": {
        "dtype": "float32",
        "shape": [
         4,
         4
        ]
       },
       "name": "Vectors #1",
       "origin_color": 255,
       "origins": {
        "dtype": "float32",
        "shape": [
         10,
         3
        ]
       },
       "type": "Vectors",
       "use_head": true,
       "vectors": {
        "dtype": "float32",
        "shape": [
         10,
         3
        ]
       },
       "visible": true
      }
     },
     "7612af8f879b457d948a3513470a269a": {
      "model_module": "@jupyter-widgets/output",
      "model_module_version": "1.0.0",
      "model_name": "OutputModel",
      "state": {
       "layout": "IPY_MODEL_0c91a4718bc8416d8f3f0a553f695dc7",
       "outputs": [
        {
         "data": {
          "application/vnd.jupyter.widget-view+json": {
           "model_id": "3007bc9e903d46478dd40a498bfe655d",
           "version_major": 2,
           "version_minor": 0
          },
          "text/plain": "Plot(antialias=3, axes=['x', 'y', 'z'], axes_helper=1.0, background_color=16777215, camera=[2, -3, 0.2, 0.0, 0…"
         },
         "metadata": {},
         "output_type": "display_data"
        }
       ]
      }
     },
     "77209907ac2244569d3092be25fe0352": {
      "model_module": "@jupyter-widgets/output",
      "model_module_version": "1.0.0",
      "model_name": "OutputModel",
      "state": {
       "layout": "IPY_MODEL_f454487330a146168fa50256e3b32966",
       "outputs": [
        {
         "data": {
          "application/vnd.jupyter.widget-view+json": {
           "model_id": "e7370817604f47928ece65e4c244b2c2",
           "version_major": 2,
           "version_minor": 0
          },
          "text/plain": "Plot(antialias=3, axes=['x', 'y', 'z'], axes_helper=1.0, background_color=16777215, camera=[2, -3, 0.2, 0.0, 0…"
         },
         "metadata": {},
         "output_type": "display_data"
        }
       ]
      }
     },
     "77ccddfbe621455f9570d773d8f587ce": {
      "buffers": [
       {
        "data": "eNrzU2Jg8APiDF0IzrPXBOOcMD8wLi4sAOOKvslgnLt6JxhHHb8Nxk63P4OxxYt/KBgmDlMH0wczB2YuzB6YvTB3+EHdBQB7nzdN",
        "encoding": "base64",
        "path": [
         "colors",
         "compressed_buffer"
        ]
       },
       {
        "data": "eNpjYGiwZ8AAxIsBAF7EAv0=",
        "encoding": "base64",
        "path": [
         "model_matrix",
         "compressed_buffer"
        ]
       },
       {
        "data": "eNpL+iNvz8DAYG+9uMa++e1DMHtHSK59Y7yFA4jt9DvYXq67Fsz+9MoIKL8AzPbS5bU3PrTfgRHI7i4+Y3dV8B6YvcGj2W622G8wW0WV2y6om9sRxL7xyN32n7kkmN3g6G/NdEINzl5XYgJXs7nEyRGmV/x7gCPMzBdyCY4wuxgYChxhbpjj1+AIc5vAlw5HmJs1Hk50hPlFlmG2I8yPALp4REo=",
        "encoding": "base64",
        "path": [
         "origins",
         "compressed_buffer"
        ]
       },
       {
        "data": "eNoTfFy/r1aU3bDMrXI/zzb2/ZHLn+sXrIzaz/XHaf8ptS2bWr+p738ZkbN/641bm06tPr2PgaFh//bJQZvnXLm0V0e5Zr+b4JTNVw397BxkE/dPMTy8eX7eT7tNmYb7F6l83JyXa2VffOXRvmeLGLcsZU63F/wvvY/ZlG9LbWIdiG0HYwPV2MHUAPXaw/QCzbSHmQm0yx5mF9AN9jA3AN1mD3Mb0M32MDcD/WIP84vg43o7mB8BKc9y+Q==",
        "encoding": "base64",
        "path": [
         "vectors",
         "compressed_buffer"
        ]
       }
      ],
      "model_module": "k3d",
      "model_module_version": "2.7.4",
      "model_name": "ObjectModel",
      "state": {
       "_view_count": null,
       "_view_module": null,
       "_view_module_version": "",
       "_view_name": null,
       "colorLegend": false,
       "colors": {
        "dtype": "uint32",
        "shape": [
         20,
         2
        ]
       },
       "compression_level": 0,
       "head_color": 255,
       "head_size": 1,
       "id": 140675199842896,
       "label_size": 1,
       "labels": [],
       "line_width": 0.01,
       "model_matrix": {
        "dtype": "float32",
        "shape": [
         4,
         4
        ]
       },
       "name": "Vectors #1",
       "origin_color": 255,
       "origins": {
        "dtype": "float32",
        "shape": [
         20,
         3
        ]
       },
       "type": "Vectors",
       "use_head": true,
       "vectors": {
        "dtype": "float32",
        "shape": [
         20,
         3
        ]
       },
       "visible": true
      }
     },
     "787dda9a8ef04fdf90ff3c0cde4a1384": {
      "buffers": [
       {
        "data": "eNoLarnLEERFDABnGyH9",
        "encoding": "base64",
        "path": [
         "colors",
         "compressed_buffer"
        ]
       },
       {
        "data": "eNpjYGiwZ8AAxIsBAF7EAv0=",
        "encoding": "base64",
        "path": [
         "model_matrix",
         "compressed_buffer"
        ]
       },
       {
        "data": "eNpjYGiw//v/vx0Dg5yZEJDNwMAAwiaMDAwOIPa9//X2v/7Xg9nfgOx//+c7QNTsMGViWABnszIcgKv5//8/XO+///yOMDMZGAQcGcFsOTMAY/oiHw==",
        "encoding": "base64",
        "path": [
         "origins",
         "compressed_buffer"
        ]
       },
       {
        "data": "eNpjYGjYX6puZ7Lxf739NiB+Juxr9AdIfwPi+6a3Dff8r99/DIhvHZ1v8BpI3wfiuPA5hpdA8kAMZG8EsYFq7IFqNoDUfAOpM729EaQXaOZ+oJmbQGYyMDTYA+3aArILALiUR+M=",
        "encoding": "base64",
        "path": [
         "vectors",
         "compressed_buffer"
        ]
       }
      ],
      "model_module": "k3d",
      "model_module_version": "2.7.4",
      "model_name": "ObjectModel",
      "state": {
       "_view_count": null,
       "_view_module": null,
       "_view_module_version": "",
       "_view_name": null,
       "colorLegend": false,
       "colors": {
        "dtype": "uint32",
        "shape": [
         10,
         2
        ]
       },
       "compression_level": 0,
       "head_color": 255,
       "head_size": 3,
       "id": 4757799552,
       "label_size": 1,
       "labels": [],
       "line_width": 0.01,
       "model_matrix": {
        "dtype": "float32",
        "shape": [
         4,
         4
        ]
       },
       "name": "Vectors #1",
       "origin_color": 255,
       "origins": {
        "dtype": "float32",
        "shape": [
         10,
         3
        ]
       },
       "type": "Vectors",
       "use_head": true,
       "vectors": {
        "dtype": "float32",
        "shape": [
         10,
         3
        ]
       },
       "visible": true
      }
     },
     "79d22375f5074a7c9cbd529c41c5252e": {
      "model_module": "k3d",
      "model_module_version": "2.7.4",
      "model_name": "PlotModel",
      "state": {
       "_backend_version": "2.7.4",
       "_dom_classes": [],
       "_view_count": null,
       "antialias": 3,
       "auto_rendering": true,
       "axes": [
        "x (nm)",
        "y (nm)",
        "z (nm)"
       ],
       "axes_helper": 1,
       "background_color": 16777215,
       "camera": [
        12.732217874034188,
        -11.09832681105128,
        1.27322178740343,
        5,
        0.5,
        0.5,
        0,
        0,
        1
       ],
       "camera_animation": [],
       "camera_auto_fit": true,
       "camera_fov": 60,
       "camera_no_pan": false,
       "camera_no_rotate": false,
       "camera_no_zoom": false,
       "clipping_planes": [],
       "colorbar_object_id": -1,
       "fps": 25,
       "fps_meter": false,
       "grid": [
        -1,
        -1,
        -1,
        1,
        1,
        1
       ],
       "grid_auto_fit": true,
       "grid_visible": true,
       "height": 512,
       "layout": "IPY_MODEL_bc1767d714f546adbd37d0899e8b747d",
       "lighting": 1.5,
       "menu_visibility": true,
       "mode": "view",
       "name": null,
       "object_ids": [
        4930272128,
        4575518384
       ],
       "rendering_steps": 1,
       "screenshot": "",
       "screenshot_scale": 2,
       "snapshot": "",
       "time": 0,
       "voxel_paint_color": 0
      }
     },
     "7a3ec6dda2ce42c792f1d3c3df1f39e6": {
      "model_module": "@jupyter-widgets/base",
      "model_module_version": "1.2.0",
      "model_name": "LayoutModel",
      "state": {}
     },
     "7a4a5ca045b548cc87b2997ca14bd715": {
      "buffers": [
       {
        "data": "eNoDAAAAAAE=",
        "encoding": "base64",
        "path": [
         "colors",
         "compressed_buffer"
        ]
       },
       {
        "data": "eNpjYGiwZ8AAxIsBAF7EAv0=",
        "encoding": "base64",
        "path": [
         "model_matrix",
         "compressed_buffer"
        ]
       },
       {
        "data": "eNoDAAAAAAE=",
        "encoding": "base64",
        "path": [
         "opacities",
         "compressed_buffer"
        ]
       },
       {
        "data": "eNpjYGCwZ4DjA0hsBQcYm5EhwQEhPgGJvQFJzQUk8Q9IbA5HBFsCzgYAxoYLzw==",
        "encoding": "base64",
        "path": [
         "positions",
         "compressed_buffer"
        ]
       }
      ],
      "model_module": "k3d",
      "model_module_version": "2.7.4",
      "model_name": "ObjectModel",
      "state": {
       "_view_count": null,
       "_view_module": null,
       "_view_module_version": "",
       "_view_name": null,
       "color": 5010096,
       "colors": {
        "dtype": "uint32",
        "shape": [
         0
        ]
       },
       "compression_level": 0,
       "id": 4886187264,
       "mesh_detail": 2,
       "model_matrix": {
        "dtype": "float32",
        "shape": [
         4,
         4
        ]
       },
       "name": "Points #1",
       "opacities": {
        "dtype": "float32",
        "shape": [
         0
        ]
       },
       "opacity": 1,
       "point_size": 0.25,
       "positions": {
        "dtype": "float32",
        "shape": [
         10,
         3
        ]
       },
       "shader": "3dSpecular",
       "type": "Points",
       "visible": true
      }
     },
     "7a57387e9aef455db84627f757b311c7": {
      "model_module": "@jupyter-widgets/output",
      "model_module_version": "1.0.0",
      "model_name": "OutputModel",
      "state": {
       "layout": "IPY_MODEL_80fd1f8f38c14d8a9bfe848597278025",
       "outputs": [
        {
         "data": {
          "application/vnd.jupyter.widget-view+json": {
           "model_id": "acfd4836786a416f84375acc531ec650",
           "version_major": 2,
           "version_minor": 0
          },
          "text/plain": "Plot(antialias=3, axes=['x', 'y', 'z'], axes_helper=1.0, background_color=16777215, camera=[2, -3, 0.2, 0.0, 0…"
         },
         "metadata": {},
         "output_type": "display_data"
        }
       ]
      }
     },
     "7a57b7d6fc3846eab569131351afe937": {
      "model_module": "@jupyter-widgets/output",
      "model_module_version": "1.0.0",
      "model_name": "OutputModel",
      "state": {
       "layout": "IPY_MODEL_934945e49cee4ddd929b60e0825925cc",
       "outputs": [
        {
         "data": {
          "application/vnd.jupyter.widget-view+json": {
           "model_id": "7ce0783c5e9c40a49411a08ef3739470",
           "version_major": 2,
           "version_minor": 0
          },
          "text/plain": "Plot(antialias=3, axes=['x', 'y', 'z'], axes_helper=1.0, background_color=16777215, camera=[2, -3, 0.2, 0.0, 0…"
         },
         "metadata": {},
         "output_type": "display_data"
        }
       ]
      }
     },
     "7b5a43b60b4e42be96d5e10069d7445b": {
      "buffers": [
       {
        "data": "eNoDAAAAAAE=",
        "encoding": "base64",
        "path": [
         "colors",
         "compressed_buffer"
        ]
       },
       {
        "data": "eNpjYGiwZ8AAxIsBAF7EAv0=",
        "encoding": "base64",
        "path": [
         "model_matrix",
         "compressed_buffer"
        ]
       },
       {
        "data": "eNoDAAAAAAE=",
        "encoding": "base64",
        "path": [
         "opacities",
         "compressed_buffer"
        ]
       },
       {
        "data": "eNpjYGCwZ4DjA0hsBQcYm5EhwQEhPgGJvQFJzQUk8Q9IbA5HBFsCzgYAxoYLzw==",
        "encoding": "base64",
        "path": [
         "positions",
         "compressed_buffer"
        ]
       }
      ],
      "model_module": "k3d",
      "model_module_version": "2.7.4",
      "model_name": "ObjectModel",
      "state": {
       "_view_count": null,
       "_view_module": null,
       "_view_module_version": "",
       "_view_name": null,
       "color": 5010096,
       "colorLegend": false,
       "colors": {
        "dtype": "uint32",
        "shape": [
         0
        ]
       },
       "compression_level": 0,
       "id": 4574904128,
       "mesh_detail": 2,
       "model_matrix": {
        "dtype": "float32",
        "shape": [
         4,
         4
        ]
       },
       "name": "Points #1",
       "opacities": {
        "dtype": "float32",
        "shape": [
         0
        ]
       },
       "opacity": 1,
       "point_size": 0.25,
       "positions": {
        "dtype": "float32",
        "shape": [
         10,
         3
        ]
       },
       "shader": "3dSpecular",
       "type": "Points",
       "visible": true
      }
     },
     "7b68d72f43ab41958652f6b10cc7b152": {
      "model_module": "@jupyter-widgets/base",
      "model_module_version": "1.2.0",
      "model_name": "LayoutModel",
      "state": {}
     },
     "7ba9cc84b4654c53b5bcb171c886a008": {
      "model_module": "@jupyter-widgets/base",
      "model_module_version": "1.2.0",
      "model_name": "LayoutModel",
      "state": {}
     },
     "7c2782baf2634c6794e55cdd3620dbac": {
      "model_module": "@jupyter-widgets/base",
      "model_module_version": "1.2.0",
      "model_name": "LayoutModel",
      "state": {}
     },
     "7c35c5e4e8404280a56fd1f2cf86c68a": {
      "model_module": "@jupyter-widgets/base",
      "model_module_version": "1.2.0",
      "model_name": "LayoutModel",
      "state": {}
     },
     "7c6fab3b93274b9d81c3b9092a6fae22": {
      "model_module": "@jupyter-widgets/output",
      "model_module_version": "1.0.0",
      "model_name": "OutputModel",
      "state": {
       "layout": "IPY_MODEL_bd2694b866d14c44818d6c071af6845c",
       "outputs": [
        {
         "data": {
          "application/vnd.jupyter.widget-view+json": {
           "model_id": "e8179531870e45bdbb26d1fcaf555eaa",
           "version_major": 2,
           "version_minor": 0
          },
          "text/plain": "Plot(antialias=3, axes=['x', 'y', 'z'], axes_helper=1.0, background_color=16777215, camera=[2, -3, 0.2, 0.0, 0…"
         },
         "metadata": {},
         "output_type": "display_data"
        }
       ]
      }
     },
     "7c75ba79aaed46f7b91ac40ad45812bf": {
      "model_module": "@jupyter-widgets/base",
      "model_module_version": "1.2.0",
      "model_name": "LayoutModel",
      "state": {}
     },
     "7ce0783c5e9c40a49411a08ef3739470": {
      "model_module": "k3d",
      "model_module_version": "2.7.4",
      "model_name": "PlotModel",
      "state": {
       "_backend_version": "2.7.4",
       "_dom_classes": [],
       "_view_count": null,
       "antialias": 3,
       "auto_rendering": true,
       "axes": [
        "x (nm)",
        "y (nm)",
        "z (nm)"
       ],
       "axes_helper": 1,
       "background_color": 16777215,
       "camera": [
        13.351749844201676,
        -12.027624766302514,
        1.3351749844201661,
        5,
        0.5,
        0.5,
        0,
        0,
        1
       ],
       "camera_animation": [],
       "camera_auto_fit": true,
       "camera_fov": 60,
       "camera_no_pan": false,
       "camera_no_rotate": false,
       "camera_no_zoom": false,
       "clipping_planes": [],
       "colorbar_object_id": -1,
       "fps": 25,
       "fps_meter": false,
       "grid": [
        -1,
        -1,
        -1,
        1,
        1,
        1
       ],
       "grid_auto_fit": true,
       "grid_visible": true,
       "height": 512,
       "layout": "IPY_MODEL_ab33edba721241819d3c4ce78a202110",
       "lighting": 1.5,
       "menu_visibility": true,
       "mode": "view",
       "name": null,
       "object_ids": [
        4924662880,
        4924663840
       ],
       "rendering_steps": 1,
       "screenshot": "",
       "screenshot_scale": 2,
       "snapshot": "",
       "time": 0,
       "voxel_paint_color": 0
      }
     },
     "7d0b467a6314454485a5e54ab1d1c607": {
      "buffers": [
       {
        "data": "eNrzU2Jg8APiHFdTMLZ48Q+MzZ5BcElxERjnW8qAcfb6fWAcdfw2GOfZKIOxz+VXYAwANqgcqw==",
        "encoding": "base64",
        "path": [
         "colors",
         "compressed_buffer"
        ]
       },
       {
        "data": "eNpjYGiwZ8AAxIsBAF7EAv0=",
        "encoding": "base64",
        "path": [
         "model_matrix",
         "compressed_buffer"
        ]
       },
       {
        "data": "eNoBeACH/2xUrz7IIio/TvF3P6kV8T8JnY4+/kNGPxV+HUBcx7c+AAAAAI84aECDZRU/gNgGO8jIlkCw1Mw884QHP3EurEALsV8/sL1XP0AK2UDW4Fg/3PhuPqlV5ECLWgg/DlMEPqGOAkGEozg/eqVTP7ooF0FE2Ew/6JOePXhtMRg=",
        "encoding": "base64",
        "path": [
         "origins",
         "compressed_buffer"
        ]
       },
       {
        "data": "eNoBeACH/ylXoT4hi6i+nOJvv6NWRL/uxeI+/YcMv916oD1JcZA+AACAP9uIg74bLCu+T/J+P/8Y2b61MnM/XZ5wvbFjdD4WYj+/YXsvv/ejEL+swTG/koMIP2qlOj+tqIW9edY9P9wrLj8SjuK+9Eonvw1G1z2HsBm/BltYP/vvOVA=",
        "encoding": "base64",
        "path": [
         "vectors",
         "compressed_buffer"
        ]
       }
      ],
      "model_module": "k3d",
      "model_module_version": "2.7.4",
      "model_name": "ObjectModel",
      "state": {
       "_view_count": null,
       "_view_module": null,
       "_view_module_version": "",
       "_view_name": null,
       "colorLegend": false,
       "colors": {
        "dtype": "uint32",
        "shape": [
         10,
         2
        ]
       },
       "compression_level": 0,
       "head_color": 255,
       "head_size": 1,
       "id": 4941494208,
       "label_size": 1,
       "labels": [],
       "line_width": 0.01,
       "model_matrix": {
        "dtype": "float32",
        "shape": [
         4,
         4
        ]
       },
       "name": "Vectors #1",
       "origin_color": 255,
       "origins": {
        "dtype": "float32",
        "shape": [
         10,
         3
        ]
       },
       "type": "Vectors",
       "use_head": true,
       "vectors": {
        "dtype": "float32",
        "shape": [
         10,
         3
        ]
       },
       "visible": true
      }
     },
     "7d92c5067a194022be21b92d8348ceab": {
      "buffers": [
       {
        "data": "eNoLarnLEDSIMQBtm0P5",
        "encoding": "base64",
        "path": [
         "colors",
         "compressed_buffer"
        ]
       },
       {
        "data": "eNpjYGiwZ8AAxIsBAF7EAv0=",
        "encoding": "base64",
        "path": [
         "model_matrix",
         "compressed_buffer"
        ]
       },
       {
        "data": "eNpjYAADewjVYI9gMzjA2IwMDg5IapDYC5DUHEASf4DEZnBEsAWQ2ApIbANHJLuQ2AFI7AQk9QVI7AYkdgcSewISewacDQC7wBEt",
        "encoding": "base64",
        "path": [
         "origins",
         "compressed_buffer"
        ]
       },
       {
        "data": "eNpjYGiwZwADED382QD1Gx3Z",
        "encoding": "base64",
        "path": [
         "vectors",
         "compressed_buffer"
        ]
       }
      ],
      "model_module": "k3d",
      "model_module_version": "2.7.4",
      "model_name": "ObjectModel",
      "state": {
       "_view_count": null,
       "_view_module": null,
       "_view_module_version": "",
       "_view_name": null,
       "colors": {
        "dtype": "uint32",
        "shape": [
         20,
         2
        ]
       },
       "compression_level": 0,
       "head_color": 255,
       "head_size": 10,
       "id": 4928634400,
       "label_size": 1,
       "labels": [],
       "line_width": 0.01,
       "model_matrix": {
        "dtype": "float32",
        "shape": [
         4,
         4
        ]
       },
       "name": "Vectors #1",
       "origin_color": 255,
       "origins": {
        "dtype": "float32",
        "shape": [
         20,
         3
        ]
       },
       "type": "Vectors",
       "use_head": true,
       "vectors": {
        "dtype": "float32",
        "shape": [
         20,
         3
        ]
       },
       "visible": true
      }
     },
     "7df1d37ce54244d6a1148281784123a2": {
      "buffers": [
       {
        "data": "eNoLarnLEDSIMQBtm0P5",
        "encoding": "base64",
        "path": [
         "colors",
         "compressed_buffer"
        ]
       },
       {
        "data": "eNpjYGiwZ8AAxIsBAF7EAv0=",
        "encoding": "base64",
        "path": [
         "model_matrix",
         "compressed_buffer"
        ]
       },
       {
        "data": "eNpjYAADewjVYI9gMzjA2IwMDg5IapDYC5DUHEASf4DEZnBEsAWQ2ApIbANHJLuQ2AFI7AQk9QVI7AYkdgcSewISewacDQC7wBEt",
        "encoding": "base64",
        "path": [
         "origins",
         "compressed_buffer"
        ]
       },
       {
        "data": "eNpjYGiwZwADED382QD1Gx3Z",
        "encoding": "base64",
        "path": [
         "vectors",
         "compressed_buffer"
        ]
       }
      ],
      "model_module": "k3d",
      "model_module_version": "2.7.4",
      "model_name": "ObjectModel",
      "state": {
       "_view_count": null,
       "_view_module": null,
       "_view_module_version": "",
       "_view_name": null,
       "colors": {
        "dtype": "uint32",
        "shape": [
         20,
         2
        ]
       },
       "compression_level": 0,
       "head_color": 255,
       "head_size": 3,
       "id": 4928686544,
       "label_size": 1,
       "labels": [],
       "line_width": 0.01,
       "model_matrix": {
        "dtype": "float32",
        "shape": [
         4,
         4
        ]
       },
       "name": "Vectors #1",
       "origin_color": 255,
       "origins": {
        "dtype": "float32",
        "shape": [
         20,
         3
        ]
       },
       "type": "Vectors",
       "use_head": true,
       "vectors": {
        "dtype": "float32",
        "shape": [
         20,
         3
        ]
       },
       "visible": true
      }
     },
     "7e79b436060e4eacaefd810810ca9f83": {
      "model_module": "@jupyter-widgets/output",
      "model_module_version": "1.0.0",
      "model_name": "OutputModel",
      "state": {
       "layout": "IPY_MODEL_25691b1cadcb4c1cb80d6069d9c5c5db",
       "outputs": [
        {
         "data": {
          "application/vnd.jupyter.widget-view+json": {
           "model_id": "b8873f5dd4ea4ab0b55fb0097aacab0f",
           "version_major": 2,
           "version_minor": 0
          },
          "text/plain": "Plot(antialias=3, axes=['x', 'y', 'z'], axes_helper=1.0, background_color=16777215, camera=[2, -3, 0.2, 0.0, 0…"
         },
         "metadata": {},
         "output_type": "display_data"
        }
       ]
      }
     },
     "7ea3bcb8fd16470281346464673fed18": {
      "model_module": "k3d",
      "model_module_version": "2.7.4",
      "model_name": "PlotModel",
      "state": {
       "_backend_version": "2.7.4",
       "_dom_classes": [],
       "_view_count": null,
       "antialias": 3,
       "auto_rendering": true,
       "axes": [
        "x (nm)",
        "y (nm)",
        "z (nm)"
       ],
       "axes_helper": 1,
       "background_color": 16777215,
       "camera": [
        18.077917111152544,
        -9.225966628918359,
        3.396934080270638,
        10,
        0.5,
        0.5,
        -0.0843674392746526,
        0.1495004687788812,
        0.9851556958294113
       ],
       "camera_animation": [],
       "camera_auto_fit": true,
       "camera_fov": 60,
       "camera_no_pan": false,
       "camera_no_rotate": false,
       "camera_no_zoom": false,
       "clipping_planes": [],
       "colorbar_object_id": -1,
       "fps": 25,
       "fps_meter": false,
       "grid": [
        -1,
        -1,
        -1,
        1,
        1,
        1
       ],
       "grid_auto_fit": true,
       "grid_visible": true,
       "height": 512,
       "layout": "IPY_MODEL_e885a28a0840413fa8ff47873ae3046a",
       "lighting": 1.5,
       "menu_visibility": true,
       "mode": "view",
       "name": null,
       "object_ids": [
        4926621152,
        4925636720
       ],
       "rendering_steps": 1,
       "screenshot": "",
       "screenshot_scale": 2,
       "snapshot": "",
       "time": 0,
       "voxel_paint_color": 0
      }
     },
     "7eb9405a1afb418593b45e3a9183b08e": {
      "model_module": "@jupyter-widgets/base",
      "model_module_version": "1.2.0",
      "model_name": "LayoutModel",
      "state": {}
     },
     "7f59e1e544124c20879f022f3c8b5bbf": {
      "model_module": "@jupyter-widgets/base",
      "model_module_version": "1.2.0",
      "model_name": "LayoutModel",
      "state": {}
     },
     "8049a1ef00ac40eda4887a81ee0287f3": {
      "model_module": "@jupyter-widgets/output",
      "model_module_version": "1.0.0",
      "model_name": "OutputModel",
      "state": {
       "layout": "IPY_MODEL_5732617b60c44d4ba2349bd02f7cc166",
       "outputs": [
        {
         "data": {
          "application/vnd.jupyter.widget-view+json": {
           "model_id": "be074309470d4b129c896ebc82151913",
           "version_major": 2,
           "version_minor": 0
          },
          "text/plain": "Plot(antialias=3, axes=['x', 'y', 'z'], axes_helper=1.0, background_color=16777215, camera=[2, -3, 0.2, 0.0, 0…"
         },
         "metadata": {},
         "output_type": "display_data"
        }
       ]
      }
     },
     "805b02acd89e4f529928d0567f89b5bc": {
      "model_module": "@jupyter-widgets/base",
      "model_module_version": "1.2.0",
      "model_name": "LayoutModel",
      "state": {}
     },
     "807ce6ff637c48c7b2d9cd599695dbb2": {
      "model_module": "@jupyter-widgets/output",
      "model_module_version": "1.0.0",
      "model_name": "OutputModel",
      "state": {
       "layout": "IPY_MODEL_d3c7b1dbd1fc443895d1483713c0fbf8",
       "outputs": [
        {
         "data": {
          "application/vnd.jupyter.widget-view+json": {
           "model_id": "64f66730b3804d128f3fcc356d2afb45",
           "version_major": 2,
           "version_minor": 0
          },
          "text/plain": "Plot(antialias=3, axes=['x', 'y', 'z'], axes_helper=1.0, background_color=16777215, camera=[2, -3, 0.2, 0.0, 0…"
         },
         "metadata": {},
         "output_type": "display_data"
        }
       ]
      }
     },
     "80fd1f8f38c14d8a9bfe848597278025": {
      "model_module": "@jupyter-widgets/base",
      "model_module_version": "1.2.0",
      "model_name": "LayoutModel",
      "state": {}
     },
     "817b8169f2af4cccbbf5b19e1ce78ca7": {
      "buffers": [
       {
        "data": "eNoDAAAAAAE=",
        "encoding": "base64",
        "path": [
         "colors",
         "compressed_buffer"
        ]
       },
       {
        "data": "eNpjYGiwZ8AAxIsBAF7EAv0=",
        "encoding": "base64",
        "path": [
         "model_matrix",
         "compressed_buffer"
        ]
       },
       {
        "data": "eNoDAAAAAAE=",
        "encoding": "base64",
        "path": [
         "opacities",
         "compressed_buffer"
        ]
       },
       {
        "data": "eNpjYGiwY2BgsIdgB3sEewGczcjwAElcwAHBNnBAqAlAEi9AYncgsWcgsVcgsXcgmXMCiX0Dif0CSf0PJDaLI4LNg8QWQWLLwNkArvAYXQ==",
        "encoding": "base64",
        "path": [
         "positions",
         "compressed_buffer"
        ]
       }
      ],
      "model_module": "k3d",
      "model_module_version": "2.7.4",
      "model_name": "ObjectModel",
      "state": {
       "_view_count": null,
       "_view_module": null,
       "_view_module_version": "",
       "_view_name": null,
       "color": 5010096,
       "colorLegend": false,
       "colors": {
        "dtype": "uint32",
        "shape": [
         0
        ]
       },
       "compression_level": 0,
       "id": 4757402624,
       "mesh_detail": 2,
       "model_matrix": {
        "dtype": "float32",
        "shape": [
         4,
         4
        ]
       },
       "name": "Points #1",
       "opacities": {
        "dtype": "float32",
        "shape": [
         0
        ]
       },
       "opacity": 1,
       "point_size": 0.125,
       "positions": {
        "dtype": "float32",
        "shape": [
         20,
         3
        ]
       },
       "shader": "3dSpecular",
       "type": "Points",
       "visible": true
      }
     },
     "81a3d546482145c08f3df41595322837": {
      "buffers": [
       {
        "data": "eNoLarnLEERFDABnGyH9",
        "encoding": "base64",
        "path": [
         "colors",
         "compressed_buffer"
        ]
       },
       {
        "data": "eNpjYGiwZ8AAxIsBAF7EAv0=",
        "encoding": "base64",
        "path": [
         "model_matrix",
         "compressed_buffer"
        ]
       },
       {
        "data": "eNpjYGiwZ2BgsD97hgdEOyDYDkjsBiT2Agx2WtozO0aGA3A2A8MDJDaDI4ItAGcDAHQcHE0=",
        "encoding": "base64",
        "path": [
         "origins",
         "compressed_buffer"
        ]
       },
       {
        "data": "eNpjYGjYzwAEZ8+c2ctAOtseyrYllQ0AcQMmyw==",
        "encoding": "base64",
        "path": [
         "vectors",
         "compressed_buffer"
        ]
       }
      ],
      "model_module": "k3d",
      "model_module_version": "2.7.4",
      "model_name": "ObjectModel",
      "state": {
       "_view_count": null,
       "_view_module": null,
       "_view_module_version": "",
       "_view_name": null,
       "colorLegend": false,
       "colors": {
        "dtype": "uint32",
        "shape": [
         10,
         2
        ]
       },
       "compression_level": 0,
       "head_color": 255,
       "head_size": 3,
       "id": 4757799600,
       "label_size": 1,
       "labels": [],
       "line_width": 0.01,
       "model_matrix": {
        "dtype": "float32",
        "shape": [
         4,
         4
        ]
       },
       "name": "Vectors #1",
       "origin_color": 255,
       "origins": {
        "dtype": "float32",
        "shape": [
         10,
         3
        ]
       },
       "type": "Vectors",
       "use_head": true,
       "vectors": {
        "dtype": "float32",
        "shape": [
         10,
         3
        ]
       },
       "visible": true
      }
     },
     "81e21e8bb909488b81cc00284d7b0a48": {
      "model_module": "@jupyter-widgets/base",
      "model_module_version": "1.2.0",
      "model_name": "LayoutModel",
      "state": {}
     },
     "823a9ceda1a441c1ba504b93fb04d113": {
      "model_module": "@jupyter-widgets/base",
      "model_module_version": "1.2.0",
      "model_name": "LayoutModel",
      "state": {}
     },
     "826e6c4e348d4a79928c29c1b867e3f7": {
      "buffers": [
       {
        "data": "eNqzePGPwQKIyysrwbiivhGMk/aeB+OcEG8wTttxAoz9lBjAGCaeE+4PxoXZmWAMAN8mG2E=",
        "encoding": "base64",
        "path": [
         "colors",
         "compressed_buffer"
        ]
       },
       {
        "data": "eNpjYGiwZ8AAxIsBAF7EAv0=",
        "encoding": "base64",
        "path": [
         "model_matrix",
         "compressed_buffer"
        ]
       },
       {
        "data": "eNoBeACH/8j9nz0I8qU9PJUHPhd4vj9CFZk/A3kQPwzGP0Cuo30/rkAJP5DZSEAmVYc/JrmQPuYooEBIY6A9Ono8PwAAoEBA1F09PsSZPtvF10AItHM/FIh5PwXU40DUs4Q/qoM8P3nNBkGOOpQ/DkM5P7RNIkHoaYU+jQEhP0nIL1c=",
        "encoding": "base64",
        "path": [
         "origins",
         "compressed_buffer"
        ]
       },
       {
        "data": "eNoBeACH/44AWD9+g1Y/YjU8P2n0wzyDKrK/GcgDvmEwfr9bR3u/3AqUvYkzOT9Lqo6/s43ePjBHgb8u51c/5ujxvgAAgD94RWQ/hHfMPkO7+L4QaGe/KRBzv7e/Qj+oZ4m/pg7yvqZDGT4bdai/OQzlvjvbpL8wLPU+NQaEvt4ON7M=",
        "encoding": "base64",
        "path": [
         "vectors",
         "compressed_buffer"
        ]
       }
      ],
      "model_module": "k3d",
      "model_module_version": "2.7.4",
      "model_name": "ObjectModel",
      "state": {
       "_view_count": null,
       "_view_module": null,
       "_view_module_version": "",
       "_view_name": null,
       "colorLegend": false,
       "colors": {
        "dtype": "uint32",
        "shape": [
         10,
         2
        ]
       },
       "compression_level": 0,
       "head_color": 255,
       "head_size": 1,
       "id": 4888202544,
       "label_size": 1,
       "labels": [],
       "line_width": 0.01,
       "model_matrix": {
        "dtype": "float32",
        "shape": [
         4,
         4
        ]
       },
       "name": "Vectors #1",
       "origin_color": 255,
       "origins": {
        "dtype": "float32",
        "shape": [
         10,
         3
        ]
       },
       "type": "Vectors",
       "use_head": true,
       "vectors": {
        "dtype": "float32",
        "shape": [
         10,
         3
        ]
       },
       "visible": true
      }
     },
     "82870f5ac3f140c48d30818512f0329d": {
      "model_module": "k3d",
      "model_module_version": "2.7.4",
      "model_name": "PlotModel",
      "state": {
       "_backend_version": "2.7.4",
       "_dom_classes": [],
       "_view_count": null,
       "antialias": 3,
       "auto_rendering": true,
       "axes": [
        "x (nm)",
        "y (nm)",
        "z (nm)"
       ],
       "axes_helper": 1,
       "background_color": 16777215,
       "camera": [
        13.351749844490127,
        -12.027624773057223,
        1.335174999771651,
        4.9999999957853145,
        0.5,
        0.5000000149011612,
        0,
        0,
        1
       ],
       "camera_animation": [],
       "camera_auto_fit": true,
       "camera_fov": 60,
       "camera_no_pan": false,
       "camera_no_rotate": false,
       "camera_no_zoom": false,
       "clipping_planes": [],
       "colorbar_object_id": -1,
       "fps": 25,
       "fps_meter": false,
       "grid": [
        -1,
        -1,
        -1,
        1,
        1,
        1
       ],
       "grid_auto_fit": true,
       "grid_visible": true,
       "height": 512,
       "layout": "IPY_MODEL_0685c155afa947ea9a7c88f4a5b84f1f",
       "lighting": 1.5,
       "menu_visibility": true,
       "mode": "view",
       "name": null,
       "object_ids": [
        4756856208,
        4756853568
       ],
       "rendering_steps": 1,
       "screenshot": "",
       "screenshot_scale": 2,
       "snapshot": "",
       "time": 0,
       "voxel_paint_color": 0
      }
     },
     "82a462065c2342d283df32030efd3089": {
      "model_module": "@jupyter-widgets/output",
      "model_module_version": "1.0.0",
      "model_name": "OutputModel",
      "state": {
       "layout": "IPY_MODEL_4c2ad6411a4a4ae78adbe2998ccbdeab",
       "outputs": [
        {
         "data": {
          "application/vnd.jupyter.widget-view+json": {
           "model_id": "ef5d09b98a6540ffb27a10335208287e",
           "version_major": 2,
           "version_minor": 0
          },
          "text/plain": "Plot(antialias=3, axes=['x', 'y', 'z'], axes_helper=1.0, background_color=16777215, camera=[2, -3, 0.2, 0.0, 0…"
         },
         "metadata": {},
         "output_type": "display_data"
        }
       ]
      }
     },
     "8335f1c0187d4906837ea31570b09abb": {
      "buffers": [
       {
        "data": "eNoDAAAAAAE=",
        "encoding": "base64",
        "path": [
         "colors",
         "compressed_buffer"
        ]
       },
       {
        "data": "eNpjYGiwZ8AAxIsBAF7EAv0=",
        "encoding": "base64",
        "path": [
         "model_matrix",
         "compressed_buffer"
        ]
       },
       {
        "data": "eNoDAAAAAAE=",
        "encoding": "base64",
        "path": [
         "opacities",
         "compressed_buffer"
        ]
       },
       {
        "data": "eNpjYGCwZ4DjA0hsBQcYm5EhwQEhPgGJvQFJzQUk8Q9IbA5HBFsCzgYAxoYLzw==",
        "encoding": "base64",
        "path": [
         "positions",
         "compressed_buffer"
        ]
       }
      ],
      "model_module": "k3d",
      "model_module_version": "2.7.4",
      "model_name": "ObjectModel",
      "state": {
       "_view_count": null,
       "_view_module": null,
       "_view_module_version": "",
       "_view_name": null,
       "color": 5010096,
       "colorLegend": false,
       "colors": {
        "dtype": "uint32",
        "shape": [
         0
        ]
       },
       "compression_level": 0,
       "id": 4757799408,
       "mesh_detail": 2,
       "model_matrix": {
        "dtype": "float32",
        "shape": [
         4,
         4
        ]
       },
       "name": "Points #1",
       "opacities": {
        "dtype": "float32",
        "shape": [
         0
        ]
       },
       "opacity": 1,
       "point_size": 0.25,
       "positions": {
        "dtype": "float32",
        "shape": [
         10,
         3
        ]
       },
       "shader": "3dSpecular",
       "type": "Points",
       "visible": true
      }
     },
     "841ec6ffd5d440be91c59a65ac8c8276": {
      "model_module": "k3d",
      "model_module_version": "2.7.4",
      "model_name": "PlotModel",
      "state": {
       "_backend_version": "2.7.4",
       "_dom_classes": [],
       "_view_count": null,
       "antialias": 3,
       "auto_rendering": true,
       "axes": [
        "x (nm)",
        "y (nm)",
        "z (nm)"
       ],
       "axes_helper": 1,
       "background_color": 16777215,
       "camera": [
        10.782171999457251,
        0.9142165839976875,
        1.3475320033865197,
        5,
        0.5,
        0.5,
        -0.10459248696252124,
        0.30966732645370654,
        0.9450748957611906
       ],
       "camera_animation": [],
       "camera_auto_fit": true,
       "camera_fov": 60,
       "camera_no_pan": false,
       "camera_no_rotate": false,
       "camera_no_zoom": false,
       "clipping_planes": [],
       "colorbar_object_id": -1,
       "fps": 25,
       "fps_meter": false,
       "grid": [
        -1,
        -1,
        -1,
        1,
        1,
        1
       ],
       "grid_auto_fit": true,
       "grid_visible": true,
       "height": 512,
       "layout": "IPY_MODEL_3712db26ac79432cb8048921162c6d80",
       "lighting": 1.5,
       "menu_visibility": true,
       "mode": "view",
       "name": null,
       "object_ids": [
        4952768080,
        4952766400
       ],
       "rendering_steps": 1,
       "screenshot": "",
       "screenshot_scale": 2,
       "snapshot": "",
       "time": 0,
       "voxel_paint_color": 0
      }
     },
     "8486cd482f38479da774fced86941fe4": {
      "model_module": "@jupyter-widgets/output",
      "model_module_version": "1.0.0",
      "model_name": "OutputModel",
      "state": {
       "layout": "IPY_MODEL_e37d2d2ef48843e58fac066edcb45bc6",
       "outputs": [
        {
         "data": {
          "application/vnd.jupyter.widget-view+json": {
           "model_id": "601d2efce69f4b4f905e0985d862a42f",
           "version_major": 2,
           "version_minor": 0
          },
          "text/plain": "Plot(antialias=3, axes=['x', 'y', 'z'], axes_helper=1.0, background_color=16777215, camera=[2, -3, 0.2, 0.0, 0…"
         },
         "metadata": {},
         "output_type": "display_data"
        }
       ]
      }
     },
     "84c4913417c8463db74a7c1ac8af5de3": {
      "model_module": "k3d",
      "model_module_version": "2.7.4",
      "model_name": "PlotModel",
      "state": {
       "_backend_version": "2.7.4",
       "_dom_classes": [],
       "_view_count": null,
       "antialias": 3,
       "auto_rendering": true,
       "axes": [
        "x (nm)",
        "y (nm)",
        "z (nm)"
       ],
       "axes_helper": 1,
       "background_color": 16777215,
       "camera": [
        13.45843140614532,
        -12.262647099159695,
        1.350843139943987,
        4.9500000067055225,
        0.5,
        0.5,
        0,
        0,
        1
       ],
       "camera_animation": [],
       "camera_auto_fit": true,
       "camera_fov": 60,
       "camera_no_pan": false,
       "camera_no_rotate": false,
       "camera_no_zoom": false,
       "clipping_planes": [],
       "colorbar_object_id": -1,
       "fps": 25,
       "fps_meter": false,
       "grid": [
        -1,
        -1,
        -1,
        1,
        1,
        1
       ],
       "grid_auto_fit": true,
       "grid_visible": true,
       "height": 512,
       "layout": "IPY_MODEL_756355c9ae1a46219db7de45bc0dd5ee",
       "lighting": 1.5,
       "menu_visibility": true,
       "mode": "view",
       "name": null,
       "object_ids": [
        4896434496
       ],
       "rendering_steps": 1,
       "screenshot": "",
       "screenshot_scale": 2,
       "snapshot": "",
       "time": 0,
       "voxel_paint_color": 0
      }
     },
     "84e8800c193e4ae99b844703c94a75cd": {
      "model_module": "@jupyter-widgets/base",
      "model_module_version": "1.2.0",
      "model_name": "LayoutModel",
      "state": {}
     },
     "854fb185c8194e1996dbefcacda85523": {
      "model_module": "k3d",
      "model_module_version": "2.7.4",
      "model_name": "PlotModel",
      "state": {
       "_backend_version": "2.7.4",
       "_dom_classes": [],
       "_view_count": null,
       "antialias": 3,
       "auto_rendering": true,
       "axes": [
        "x (nm)",
        "y (nm)",
        "z (nm)"
       ],
       "axes_helper": 1,
       "background_color": 16777215,
       "camera": [
        26.015022451936375,
        -23.522533677904562,
        2.1015022600948314,
        10,
        0.5,
        0.5000000149011612,
        0,
        0,
        1
       ],
       "camera_animation": [],
       "camera_auto_fit": true,
       "camera_fov": 60,
       "camera_no_pan": false,
       "camera_no_rotate": false,
       "camera_no_zoom": false,
       "clipping_planes": [],
       "colorbar_object_id": -1,
       "fps": 25,
       "fps_meter": false,
       "grid": [
        -1,
        -1,
        -1,
        1,
        1,
        1
       ],
       "grid_auto_fit": true,
       "grid_visible": true,
       "height": 512,
       "layout": "IPY_MODEL_596ef838917548bd954adfc39df0bb35",
       "lighting": 1.5,
       "menu_visibility": true,
       "mode": "view",
       "name": null,
       "object_ids": [
        4928788128,
        4927146112
       ],
       "rendering_steps": 1,
       "screenshot": "",
       "screenshot_scale": 2,
       "snapshot": "",
       "time": 0,
       "voxel_paint_color": 0
      }
     },
     "85da37bc5a354c0ba15b88e4642b734c": {
      "model_module": "@jupyter-widgets/base",
      "model_module_version": "1.2.0",
      "model_name": "LayoutModel",
      "state": {}
     },
     "85e5bce05881459a89d6fabc2c181dfc": {
      "model_module": "@jupyter-widgets/base",
      "model_module_version": "1.2.0",
      "model_name": "LayoutModel",
      "state": {}
     },
     "87242f6e443747fdb7a3fe792d02c2f5": {
      "model_module": "@jupyter-widgets/base",
      "model_module_version": "1.2.0",
      "model_name": "LayoutModel",
      "state": {}
     },
     "8791fef6adde457cb25437267947257a": {
      "buffers": [
       {
        "data": "eNoLarnLEDSIMQBtm0P5",
        "encoding": "base64",
        "path": [
         "colors",
         "compressed_buffer"
        ]
       },
       {
        "data": "eNpjYGiwZ8AAxIsBAF7EAv0=",
        "encoding": "base64",
        "path": [
         "model_matrix",
         "compressed_buffer"
        ]
       },
       {
        "data": "eNpjYGCwZ4CDA0hsBQcYi5EhwQEhPgGJvQFJzQUk8Q9IbA5HBFsCia2BxLZwRJjjgcSOQGJnIKmvQGK3ILF7kNhTkNhz4GwAXpANkA==",
        "encoding": "base64",
        "path": [
         "origins",
         "compressed_buffer"
        ]
       },
       {
        "data": "eNpjYACBBnsIHv5sALlrHdk=",
        "encoding": "base64",
        "path": [
         "vectors",
         "compressed_buffer"
        ]
       }
      ],
      "model_module": "k3d",
      "model_module_version": "2.7.4",
      "model_name": "ObjectModel",
      "state": {
       "_view_count": null,
       "_view_module": null,
       "_view_module_version": "",
       "_view_name": null,
       "colors": {
        "dtype": "uint32",
        "shape": [
         20,
         2
        ]
       },
       "compression_level": 0,
       "head_color": 255,
       "head_size": 1,
       "id": 4565692032,
       "label_size": 1,
       "labels": [],
       "line_width": 0.01,
       "model_matrix": {
        "dtype": "float32",
        "shape": [
         4,
         4
        ]
       },
       "name": "Vectors #1",
       "origin_color": 255,
       "origins": {
        "dtype": "float32",
        "shape": [
         20,
         3
        ]
       },
       "type": "Vectors",
       "use_head": true,
       "vectors": {
        "dtype": "float32",
        "shape": [
         20,
         3
        ]
       },
       "visible": true
      }
     },
     "87cbdaaf1a184f73b9f174ebc2612da4": {
      "buffers": [
       {
        "data": "eNoDAAAAAAE=",
        "encoding": "base64",
        "path": [
         "colors",
         "compressed_buffer"
        ]
       },
       {
        "data": "eNpjYGiwZ8AAxIsBAF7EAv0=",
        "encoding": "base64",
        "path": [
         "model_matrix",
         "compressed_buffer"
        ]
       },
       {
        "data": "eNoDAAAAAAE=",
        "encoding": "base64",
        "path": [
         "opacities",
         "compressed_buffer"
        ]
       },
       {
        "data": "eNpjYGCwZ4DjA0hsBQcYm5EhwQEhPgGJvQFJzQUk8Q9IbA5HBFsCia2BxLZwRJjjgcSOQGJnIKmvQGK3ILF7kNhTkNhz4GwA3oQXaA==",
        "encoding": "base64",
        "path": [
         "positions",
         "compressed_buffer"
        ]
       }
      ],
      "model_module": "k3d",
      "model_module_version": "2.7.4",
      "model_name": "ObjectModel",
      "state": {
       "_view_count": null,
       "_view_module": null,
       "_view_module_version": "",
       "_view_name": null,
       "color": 5010096,
       "colors": {
        "dtype": "uint32",
        "shape": [
         0
        ]
       },
       "compression_level": 0,
       "id": 4927146112,
       "mesh_detail": 2,
       "model_matrix": {
        "dtype": "float32",
        "shape": [
         4,
         4
        ]
       },
       "name": "Points #1",
       "opacities": {
        "dtype": "float32",
        "shape": [
         0
        ]
       },
       "opacity": 1,
       "point_size": 0.25,
       "positions": {
        "dtype": "float32",
        "shape": [
         20,
         3
        ]
       },
       "shader": "3dSpecular",
       "type": "Points",
       "visible": true
      }
     },
     "8872807ff91a4485b61b117daa6729fa": {
      "buffers": [
       {
        "data": "eNoLarnLEERFDABnGyH9",
        "encoding": "base64",
        "path": [
         "colors",
         "compressed_buffer"
        ]
       },
       {
        "data": "eNpjYGiwZ8AAxIsBAF7EAv0=",
        "encoding": "base64",
        "path": [
         "model_matrix",
         "compressed_buffer"
        ]
       },
       {
        "data": "eNpjYGiw//v/vx0Dg5yZEJDNwMAAwiaMDAwOIPa9//X2v/7Xg9nfgOx//+c7QNTsMGViWABnszIcgKv5//8/XO+///yOMDMZGAQcGcFsOTMAY/oiHw==",
        "encoding": "base64",
        "path": [
         "origins",
         "compressed_buffer"
        ]
       },
       {
        "data": "eNpjYGjYX6puZ7Lxf739NiB+Juxr9AdIfwPi+6a3Dff8r99/DIhvHZ1v8BpI3wfiuPA5hpdA8kAMZG8EsYFq7IFqNoDUfAOpM729EaQXaOZ+oJmbQGYyMDTYA+3aArILALiUR+M=",
        "encoding": "base64",
        "path": [
         "vectors",
         "compressed_buffer"
        ]
       }
      ],
      "model_module": "k3d",
      "model_module_version": "2.7.4",
      "model_name": "ObjectModel",
      "state": {
       "_view_count": null,
       "_view_module": null,
       "_view_module_version": "",
       "_view_name": null,
       "colorLegend": false,
       "colors": {
        "dtype": "uint32",
        "shape": [
         10,
         2
        ]
       },
       "compression_level": 0,
       "head_color": 255,
       "head_size": 3,
       "id": 4931563632,
       "label_size": 1,
       "labels": [],
       "line_width": 0.01,
       "model_matrix": {
        "dtype": "float32",
        "shape": [
         4,
         4
        ]
       },
       "name": "Vectors #1",
       "origin_color": 255,
       "origins": {
        "dtype": "float32",
        "shape": [
         10,
         3
        ]
       },
       "type": "Vectors",
       "use_head": true,
       "vectors": {
        "dtype": "float32",
        "shape": [
         10,
         3
        ]
       },
       "visible": true
      }
     },
     "88b7009ce9f94bbd93f21663040cde1f": {
      "model_module": "k3d",
      "model_module_version": "2.7.4",
      "model_name": "PlotModel",
      "state": {
       "_backend_version": "2.7.4",
       "_dom_classes": [],
       "_view_count": null,
       "antialias": 3,
       "auto_rendering": true,
       "axes": [
        "x (nm)",
        "y (nm)",
        "z (nm)"
       ],
       "axes_helper": 1,
       "background_color": 16777215,
       "camera": [
        12.756148838812317,
        -11.134223258218475,
        1.275614853147598,
        5,
        0.5,
        0.49999996926635504,
        0,
        0,
        1
       ],
       "camera_animation": [],
       "camera_auto_fit": true,
       "camera_fov": 60,
       "camera_no_pan": false,
       "camera_no_rotate": false,
       "camera_no_zoom": false,
       "clipping_planes": [],
       "colorbar_object_id": -1,
       "fps": 25,
       "fps_meter": false,
       "grid": [
        -1,
        -1,
        -1,
        1,
        1,
        1
       ],
       "grid_auto_fit": true,
       "grid_visible": true,
       "height": 512,
       "layout": "IPY_MODEL_f4ba3c8fd4984570a6d43082e130a26b",
       "lighting": 1.5,
       "menu_visibility": true,
       "mode": "view",
       "name": null,
       "object_ids": [
        4754678640,
        4757560624
       ],
       "rendering_steps": 1,
       "screenshot": "",
       "screenshot_scale": 2,
       "snapshot": "",
       "time": 0,
       "voxel_paint_color": 0
      }
     },
     "89760242267044dea2f59d4d65d873f3": {
      "buffers": [
       {
        "data": "eNrLs1VjyAPiHB97MM63UgBjixf/wLiioweMc0J9ITjYE4z9lBjAGCZeYMIDxgCPTRT/",
        "encoding": "base64",
        "path": [
         "colors",
         "compressed_buffer"
        ]
       },
       {
        "data": "eNpjYGiwZ8AAxIsBAF7EAv0=",
        "encoding": "base64",
        "path": [
         "model_matrix",
         "compressed_buffer"
        ]
       },
       {
        "data": "eNoBeACH/zFZFT/Obh8+sBxcP1N4kj/KEZc+4UNLPyLsKEDCSEE+PFNfPwVwc0AIljc/7N8jPgAAgEA6Y90+1hUFP/a6tkAYjeg9TW0/P8bS3UBTCP8+Te5CP5HT7UDqER0/XL98P+naCkFQnMY9sBE/Pw9/GEEq600/tNVmP/KYMHU=",
        "encoding": "base64",
        "path": [
         "origins",
         "compressed_buffer"
        ]
       },
       {
        "data": "eNoBeACH/4fJKr6ZSDA/YTk4v7QeNj9t3NE+wocWvx/Cjr6fWx8/eaY+vyCAG78hWN6+ChAuPwAAgD8Zcwo+yroivcpe17663EU/NbX9vlMsXb9vrXc7mtwFv6EbCz5Pj2i+uX55v166tr7sWE4/wUb8vhkdfr1V1hu/aKtNv568N84=",
        "encoding": "base64",
        "path": [
         "vectors",
         "compressed_buffer"
        ]
       }
      ],
      "model_module": "k3d",
      "model_module_version": "2.7.4",
      "model_name": "ObjectModel",
      "state": {
       "_view_count": null,
       "_view_module": null,
       "_view_module_version": "",
       "_view_name": null,
       "colorLegend": false,
       "colors": {
        "dtype": "uint32",
        "shape": [
         10,
         2
        ]
       },
       "compression_level": 0,
       "head_color": 255,
       "head_size": 1,
       "id": 4754678640,
       "label_size": 1,
       "labels": [],
       "line_width": 0.01,
       "model_matrix": {
        "dtype": "float32",
        "shape": [
         4,
         4
        ]
       },
       "name": "Vectors #1",
       "origin_color": 255,
       "origins": {
        "dtype": "float32",
        "shape": [
         10,
         3
        ]
       },
       "type": "Vectors",
       "use_head": true,
       "vectors": {
        "dtype": "float32",
        "shape": [
         10,
         3
        ]
       },
       "visible": true
      }
     },
     "8996ca99eb164455b4075091fc71c460": {
      "model_module": "@jupyter-widgets/output",
      "model_module_version": "1.0.0",
      "model_name": "OutputModel",
      "state": {
       "layout": "IPY_MODEL_be294edae91c4c7ea10fa415563d7195",
       "outputs": [
        {
         "data": {
          "application/vnd.jupyter.widget-view+json": {
           "model_id": "d3cc26ab16ac4b28bb7757678bc260cd",
           "version_major": 2,
           "version_minor": 0
          },
          "text/plain": "Plot(antialias=3, axes=['x', 'y', 'z'], axes_helper=1.0, background_color=16777215, camera=[2, -3, 0.2, 0.0, 0…"
         },
         "metadata": {},
         "output_type": "display_data"
        }
       ]
      }
     },
     "89a07cfd22cb4bcb96be29ee4231b798": {
      "model_module": "@jupyter-widgets/base",
      "model_module_version": "1.2.0",
      "model_name": "LayoutModel",
      "state": {}
     },
     "8a1532d4c0454d778de096691d8124e2": {
      "buffers": [
       {
        "data": "eNoLarnLEERFDABnGyH9",
        "encoding": "base64",
        "path": [
         "colors",
         "compressed_buffer"
        ]
       },
       {
        "data": "eNpjYGiwZ8AAxIsBAF7EAv0=",
        "encoding": "base64",
        "path": [
         "model_matrix",
         "compressed_buffer"
        ]
       },
       {
        "data": "eNpjYGiwZ2BgsD97hgdEOyDYDkjsBiT2Agx2WtozO0aGA3A2A8MDJDaDI4ItAGcDAHQcHE0=",
        "encoding": "base64",
        "path": [
         "origins",
         "compressed_buffer"
        ]
       },
       {
        "data": "eNpjYGjYzwAEZ8+c2ctAOtseyrYllQ0AcQMmyw==",
        "encoding": "base64",
        "path": [
         "vectors",
         "compressed_buffer"
        ]
       }
      ],
      "model_module": "k3d",
      "model_module_version": "2.7.4",
      "model_name": "ObjectModel",
      "state": {
       "_view_count": null,
       "_view_module": null,
       "_view_module_version": "",
       "_view_name": null,
       "colorLegend": false,
       "colors": {
        "dtype": "uint32",
        "shape": [
         10,
         2
        ]
       },
       "compression_level": 0,
       "head_color": 255,
       "head_size": 3,
       "id": 4941569808,
       "label_size": 1,
       "labels": [],
       "line_width": 0.01,
       "model_matrix": {
        "dtype": "float32",
        "shape": [
         4,
         4
        ]
       },
       "name": "Vectors #1",
       "origin_color": 255,
       "origins": {
        "dtype": "float32",
        "shape": [
         10,
         3
        ]
       },
       "type": "Vectors",
       "use_head": true,
       "vectors": {
        "dtype": "float32",
        "shape": [
         10,
         3
        ]
       },
       "visible": true
      }
     },
     "8a4ee1be9774482b84d5e61afd0dfb45": {
      "model_module": "k3d",
      "model_module_version": "2.7.4",
      "model_name": "PlotModel",
      "state": {
       "_backend_version": "2.7.4",
       "_dom_classes": [],
       "_view_count": null,
       "antialias": 3,
       "auto_rendering": true,
       "axes": [
        "x (nm)",
        "y (nm)",
        "z (nm)"
       ],
       "axes_helper": 1,
       "background_color": 16777215,
       "camera": [
        9.584184122571067,
        -6.451276173798316,
        0.9634184115865587,
        4.9500000067055225,
        0.5,
        0.5,
        0,
        0,
        1
       ],
       "camera_animation": [],
       "camera_auto_fit": true,
       "camera_fov": 60,
       "camera_no_pan": false,
       "camera_no_rotate": false,
       "camera_no_zoom": false,
       "clipping_planes": [],
       "colorbar_object_id": -1,
       "fps": 25,
       "fps_meter": false,
       "grid": [
        -1,
        -1,
        -1,
        1,
        1,
        1
       ],
       "grid_auto_fit": true,
       "grid_visible": true,
       "height": 512,
       "layout": "IPY_MODEL_85da37bc5a354c0ba15b88e4642b734c",
       "lighting": 1.5,
       "menu_visibility": true,
       "mode": "view",
       "name": null,
       "object_ids": [
        4720800720
       ],
       "rendering_steps": 1,
       "screenshot": "",
       "screenshot_scale": 2,
       "snapshot": "",
       "time": 0,
       "voxel_paint_color": 0
      }
     },
     "8a6fd33aff42444a9a2b3fb9853be8a5": {
      "model_module": "@jupyter-widgets/output",
      "model_module_version": "1.0.0",
      "model_name": "OutputModel",
      "state": {
       "layout": "IPY_MODEL_ecfae38d61b645d7a16f343716ccd871",
       "outputs": [
        {
         "data": {
          "application/vnd.jupyter.widget-view+json": {
           "model_id": "fb3727123dee414b86b6db1a26fb28c7",
           "version_major": 2,
           "version_minor": 0
          },
          "text/plain": "Plot(antialias=3, axes=['x', 'y', 'z'], axes_helper=1.0, background_color=16777215, camera=[2, -3, 0.2, 0.0, 0…"
         },
         "metadata": {},
         "output_type": "display_data"
        }
       ]
      }
     },
     "8b2c067dc7d64f9fbec5e076ed8c1909": {
      "buffers": [
       {
        "data": "eNrL8XNiyAHigsw0MM4JdAfjitZOMPZTYgDjiu4JYFyUnwvGFi/+gXFuRCAYF+XlgDEAytcZLQ==",
        "encoding": "base64",
        "path": [
         "colors",
         "compressed_buffer"
        ]
       },
       {
        "data": "eNpjYGiwZ8AAxIsBAF7EAv0=",
        "encoding": "base64",
        "path": [
         "model_matrix",
         "compressed_buffer"
        ]
       },
       {
        "data": "eNoBeACH/6C8PT2PGZI+sJ1TP6g2iz8UuGc/XvUnP/TBEUAOWnc/ioVNP6DagkCdQhs/N+H6PqeMkUCb//g+omCMP2u8u0DgsOc8hcrrPjsxzUD4L4o/mE8fP1yZ+UCd6SI/AAAAAL0GA0G4sng9hjxDPydwEUHU/ao96EghP8WrNNE=",
        "encoding": "base64",
        "path": [
         "origins",
         "compressed_buffer"
        ]
       },
       {
        "data": "eNoBeACH/2xIaD/izNs+Xzsnv14lUz8ncE+/etWfvsHg4z4ctG6/FQsbvwDVlr/nFFq+L9mjPItTxr2YDOA8RMGYv7fGO7/yhHE/16uhPX+xMz7xX5S/v3x6vsKVGb90pou+AACAP2goHz+p6WA/C3kGvxP7UT+LQFU/oiOFvvXlOdU=",
        "encoding": "base64",
        "path": [
         "vectors",
         "compressed_buffer"
        ]
       }
      ],
      "model_module": "k3d",
      "model_module_version": "2.7.4",
      "model_name": "ObjectModel",
      "state": {
       "_view_count": null,
       "_view_module": null,
       "_view_module_version": "",
       "_view_name": null,
       "colorLegend": false,
       "colors": {
        "dtype": "uint32",
        "shape": [
         10,
         2
        ]
       },
       "compression_level": 0,
       "head_color": 255,
       "head_size": 1,
       "id": 4756835776,
       "label_size": 1,
       "labels": [],
       "line_width": 0.01,
       "model_matrix": {
        "dtype": "float32",
        "shape": [
         4,
         4
        ]
       },
       "name": "Vectors #1",
       "origin_color": 255,
       "origins": {
        "dtype": "float32",
        "shape": [
         10,
         3
        ]
       },
       "type": "Vectors",
       "use_head": true,
       "vectors": {
        "dtype": "float32",
        "shape": [
         10,
         3
        ]
       },
       "visible": true
      }
     },
     "8b44c62fbeef44cc9ebe846b5a69e6ae": {
      "model_module": "@jupyter-widgets/base",
      "model_module_version": "1.2.0",
      "model_name": "LayoutModel",
      "state": {}
     },
     "8c7646c2797a472380b4738e222f35db": {
      "model_module": "@jupyter-widgets/base",
      "model_module_version": "1.2.0",
      "model_name": "LayoutModel",
      "state": {}
     },
     "8cf9e6bef8ab4fd393e9e6dfa8ae0f38": {
      "model_module": "@jupyter-widgets/output",
      "model_module_version": "1.0.0",
      "model_name": "OutputModel",
      "state": {
       "layout": "IPY_MODEL_0cab60cc4a0142d8adef8f3cf62fb67d",
       "outputs": [
        {
         "data": {
          "application/vnd.jupyter.widget-view+json": {
           "model_id": "52d69e54167c48508ab5532ebbd79339",
           "version_major": 2,
           "version_minor": 0
          },
          "text/plain": "Plot(antialias=3, axes=['x', 'y', 'z'], axes_helper=1.0, background_color=16777215, camera=[2, -3, 0.2, 0.0, 0…"
         },
         "metadata": {},
         "output_type": "display_data"
        }
       ]
      }
     },
     "8d0580d69e8949c9b7623c32281f2a2c": {
      "model_module": "k3d",
      "model_module_version": "2.7.4",
      "model_name": "PlotModel",
      "state": {
       "_backend_version": "2.7.4",
       "_dom_classes": [],
       "_view_count": null,
       "antialias": 3,
       "auto_rendering": true,
       "axes": [
        "x (nm)",
        "y (nm)",
        "z (nm)"
       ],
       "axes_helper": 1,
       "background_color": 16777215,
       "camera": [
        13.351749827250202,
        -12.027624747197345,
        1.3351749831465018,
        4.999999995785306,
        0.5,
        0.5,
        0,
        0,
        1
       ],
       "camera_animation": [],
       "camera_auto_fit": true,
       "camera_fov": 60,
       "camera_no_pan": false,
       "camera_no_rotate": false,
       "camera_no_zoom": false,
       "clipping_planes": [],
       "colorbar_object_id": -1,
       "fps": 25,
       "fps_meter": false,
       "grid": [
        -1,
        -1,
        -1,
        1,
        1,
        1
       ],
       "grid_auto_fit": true,
       "grid_visible": true,
       "height": 512,
       "layout": "IPY_MODEL_13998ee0b59c4e6b83d6c2e9c1055c40",
       "lighting": 1.5,
       "menu_visibility": true,
       "mode": "view",
       "name": null,
       "object_ids": [
        4757799552,
        4757802912
       ],
       "rendering_steps": 1,
       "screenshot": "",
       "screenshot_scale": 2,
       "snapshot": "",
       "time": 0,
       "voxel_paint_color": 0
      }
     },
     "8d3e39fb059d4bd7ba745c4ef79710b5": {
      "model_module": "k3d",
      "model_module_version": "2.7.4",
      "model_name": "PlotModel",
      "state": {
       "_backend_version": "2.7.4",
       "_dom_classes": [],
       "_view_count": null,
       "antialias": 3,
       "auto_rendering": true,
       "axes": [
        "x (nm)",
        "y (nm)",
        "z (nm)"
       ],
       "axes_helper": 1,
       "background_color": 16777215,
       "camera": [
        3.8533674523571015,
        -6.756667129222973,
        1.3003866268132724,
        4.999999995785306,
        0.5,
        0.5,
        -0.07073649930204758,
        0.06456307299576075,
        0.9954034143360363
       ],
       "camera_animation": [],
       "camera_auto_fit": true,
       "camera_fov": 60,
       "camera_no_pan": false,
       "camera_no_rotate": false,
       "camera_no_zoom": false,
       "clipping_planes": [],
       "colorbar_object_id": -1,
       "fps": 25,
       "fps_meter": false,
       "grid": [
        -1,
        -1,
        -1,
        1,
        1,
        1
       ],
       "grid_auto_fit": true,
       "grid_visible": true,
       "height": 512,
       "layout": "IPY_MODEL_05c76afbb46d4fd0843bf5acfcca59bf",
       "lighting": 1.5,
       "menu_visibility": true,
       "mode": "view",
       "name": null,
       "object_ids": [
        4937030144,
        4936945616
       ],
       "rendering_steps": 1,
       "screenshot": "",
       "screenshot_scale": 2,
       "snapshot": "",
       "time": 0,
       "voxel_paint_color": 0
      }
     },
     "8daf8df991834d22b0abc0c1462a54a4": {
      "buffers": [
       {
        "data": "eNrL0WNgyAHiYFUI9lOC4FhNCC4wFQLjHC8bMM5LigPjirp6MC6ZvQSM07cfB+Og80/B2OrBTzC2ePEPjM0e/QFjv8svwTh591kwLl6wCowrm1rBuCAtGYxzfB3BGADIcDc5",
        "encoding": "base64",
        "path": [
         "colors",
         "compressed_buffer"
        ]
       },
       {
        "data": "eNpjYGiwZ8AAxIsBAF7EAv0=",
        "encoding": "base64",
        "path": [
         "model_matrix",
         "compressed_buffer"
        ]
       },
       {
        "data": "eNpjYGiwi5qhYL9P0tyegcHBPmw6n/26UDsge4F9Wt03uzPX7e0ZGR7Yr1l7wW5BjTVQXMBhl+l6u1mrDIFsA4dpmlPtVnooA9UEOBx+22LHtFIQKF7gwAA0V/nKHzsGhg4HoyttdtcWXAOyZzgcPTnDLt1qC5C9wgFEg/gMDDscQPIgdYwMJxwg+hqA7BsOIPNA5jIyvHAA2QOyj4HhhwPIfpA7GBhYHEHuArmPgYHHEeRekLsZGEQcQf4A+YeBQcYR5D+QPwFZjlPZ",
        "encoding": "base64",
        "path": [
         "origins",
         "compressed_buffer"
        ]
       },
       {
        "data": "eNpjYGBgyEps2vcr7c4+IJMhovTl3h1hP8HsJZIStvrx/8HsIE9bu4ZPb8Hs3ikL7TJXHQOzr665ardYqRfMrlL5ZsfjwQtmA4F93HcvGxBjdvgnu1U1qnYgdlnOOTuj7ulgNogG8UFskDxIHYgN1WcPYoPMA5kLYoPsAdkHYoPsB7kDxAa5C+Q+EBvkXpC7QWyQP0D+AbFB/gP5EwBT5k59",
        "encoding": "base64",
        "path": [
         "vectors",
         "compressed_buffer"
        ]
       }
      ],
      "model_module": "k3d",
      "model_module_version": "2.7.4",
      "model_name": "ObjectModel",
      "state": {
       "_view_count": null,
       "_view_module": null,
       "_view_module_version": "",
       "_view_name": null,
       "colorLegend": false,
       "colors": {
        "dtype": "uint32",
        "shape": [
         20,
         2
        ]
       },
       "compression_level": 0,
       "head_color": 255,
       "head_size": 1,
       "id": 4932583232,
       "label_size": 1,
       "labels": [],
       "line_width": 0.01,
       "model_matrix": {
        "dtype": "float32",
        "shape": [
         4,
         4
        ]
       },
       "name": "Vectors #1",
       "origin_color": 255,
       "origins": {
        "dtype": "float32",
        "shape": [
         20,
         3
        ]
       },
       "type": "Vectors",
       "use_head": true,
       "vectors": {
        "dtype": "float32",
        "shape": [
         20,
         3
        ]
       },
       "visible": true
      }
     },
     "8dce9b20cdc24cc9a15e0905e3fa5ad0": {
      "model_module": "@jupyter-widgets/output",
      "model_module_version": "1.0.0",
      "model_name": "OutputModel",
      "state": {
       "layout": "IPY_MODEL_4a623b767b8e456c9d236127f0d15b97",
       "outputs": [
        {
         "data": {
          "application/vnd.jupyter.widget-view+json": {
           "model_id": "6e0f4aaae63e49dbac4178e54439548a",
           "version_major": 2,
           "version_minor": 0
          },
          "text/plain": "Plot(antialias=3, axes=['x', 'y', 'z'], axes_helper=1.0, background_color=16777215, camera=[2, -3, 0.2, 0.0, 0…"
         },
         "metadata": {},
         "output_type": "display_data"
        }
       ]
      }
     },
     "8e5561b1da5a4e618d233023a58a0f44": {
      "model_module": "@jupyter-widgets/base",
      "model_module_version": "1.2.0",
      "model_name": "LayoutModel",
      "state": {}
     },
     "8e77475ebc49475c90c3c90f350949a6": {
      "buffers": [
       {
        "data": "eNoLarnLEERFDABnGyH9",
        "encoding": "base64",
        "path": [
         "colors",
         "compressed_buffer"
        ]
       },
       {
        "data": "eNpjYGiwZ8AAxIsBAF7EAv0=",
        "encoding": "base64",
        "path": [
         "model_matrix",
         "compressed_buffer"
        ]
       },
       {
        "data": "eNpjYGiwZ2BgAGIw7YBgOyCxG5DYC7CwGYwZGQ7A2QwMD5DYDI4ItgCcDQCUDg3j",
        "encoding": "base64",
        "path": [
         "origins",
         "compressed_buffer"
        ]
       },
       {
        "data": "eNpjYGjYzwAE///XA2mS2fZQtj2pbACvtSfP",
        "encoding": "base64",
        "path": [
         "vectors",
         "compressed_buffer"
        ]
       }
      ],
      "model_module": "k3d",
      "model_module_version": "2.7.4",
      "model_name": "ObjectModel",
      "state": {
       "_view_count": null,
       "_view_module": null,
       "_view_module_version": "",
       "_view_name": null,
       "colorLegend": false,
       "colors": {
        "dtype": "uint32",
        "shape": [
         10,
         2
        ]
       },
       "compression_level": 0,
       "head_color": 255,
       "head_size": 3,
       "id": 4896435600,
       "label_size": 1,
       "labels": [],
       "line_width": 0.01,
       "model_matrix": {
        "dtype": "float32",
        "shape": [
         4,
         4
        ]
       },
       "name": "Vectors #1",
       "origin_color": 255,
       "origins": {
        "dtype": "float32",
        "shape": [
         10,
         3
        ]
       },
       "type": "Vectors",
       "use_head": true,
       "vectors": {
        "dtype": "float32",
        "shape": [
         10,
         3
        ]
       },
       "visible": true
      }
     },
     "8efeeaad3c0940d9ba87b79a9317809d": {
      "model_module": "k3d",
      "model_module_version": "2.7.4",
      "model_name": "PlotModel",
      "state": {
       "_backend_version": "2.7.4",
       "_dom_classes": [],
       "_view_count": null,
       "antialias": 3,
       "auto_rendering": true,
       "axes": [
        "x (nm)",
        "y (nm)",
        "z (nm)"
       ],
       "axes_helper": 1,
       "background_color": 16777215,
       "camera": [
        12.89454490230345,
        -11.623067359415643,
        1.308204484269889,
        4.8125,
        0.49999999403953543,
        0.49999999403953543,
        0,
        0,
        1
       ],
       "camera_animation": [],
       "camera_auto_fit": true,
       "camera_fov": 60,
       "camera_no_pan": false,
       "camera_no_rotate": false,
       "camera_no_zoom": false,
       "clipping_planes": [],
       "colorbar_object_id": -1,
       "fps": 25,
       "fps_meter": false,
       "grid": [
        -1,
        -1,
        -1,
        1,
        1,
        1
       ],
       "grid_auto_fit": true,
       "grid_visible": true,
       "height": 512,
       "layout": "IPY_MODEL_9ec0e03e94c54433930bf232070bbea0",
       "lighting": 1.5,
       "menu_visibility": true,
       "mode": "view",
       "name": null,
       "object_ids": [
        4755669440,
        4756852944
       ],
       "rendering_steps": 1,
       "screenshot": "",
       "screenshot_scale": 2,
       "snapshot": "",
       "time": 0,
       "voxel_paint_color": 0
      }
     },
     "8f005b43c8ef4176b59d53dbe39bada3": {
      "model_module": "@jupyter-widgets/base",
      "model_module_version": "1.2.0",
      "model_name": "LayoutModel",
      "state": {}
     },
     "8f66fc891a6247a8bdda1fd9fdab84e0": {
      "buffers": [
       {
        "data": "eNoDAAAAAAE=",
        "encoding": "base64",
        "path": [
         "colors",
         "compressed_buffer"
        ]
       },
       {
        "data": "eNpjYGiwZ8AAxIsBAF7EAv0=",
        "encoding": "base64",
        "path": [
         "model_matrix",
         "compressed_buffer"
        ]
       },
       {
        "data": "eNoDAAAAAAE=",
        "encoding": "base64",
        "path": [
         "opacities",
         "compressed_buffer"
        ]
       },
       {
        "data": "eNpjYGCwZ4DjA0hsBQcYm5EhwQEhPgGJvQFJzQUk8Q9IbA5HBFsCzgYAxoYLzw==",
        "encoding": "base64",
        "path": [
         "positions",
         "compressed_buffer"
        ]
       }
      ],
      "model_module": "k3d",
      "model_module_version": "2.7.4",
      "model_name": "ObjectModel",
      "state": {
       "_view_count": null,
       "_view_module": null,
       "_view_module_version": "",
       "_view_name": null,
       "color": 5010096,
       "colorLegend": false,
       "colors": {
        "dtype": "uint32",
        "shape": [
         0
        ]
       },
       "compression_level": 0,
       "id": 4757499968,
       "mesh_detail": 2,
       "model_matrix": {
        "dtype": "float32",
        "shape": [
         4,
         4
        ]
       },
       "name": "Points #1",
       "opacities": {
        "dtype": "float32",
        "shape": [
         0
        ]
       },
       "opacity": 1,
       "point_size": 0.25,
       "positions": {
        "dtype": "float32",
        "shape": [
         10,
         3
        ]
       },
       "shader": "3dSpecular",
       "type": "Points",
       "visible": true
      }
     },
     "9012eda97e1b4f8cbca100178a69b13b": {
      "model_module": "@jupyter-widgets/base",
      "model_module_version": "1.2.0",
      "model_name": "LayoutModel",
      "state": {}
     },
     "901fc5d1401b4318948811f7b3d14a56": {
      "model_module": "@jupyter-widgets/output",
      "model_module_version": "1.0.0",
      "model_name": "OutputModel",
      "state": {
       "layout": "IPY_MODEL_60632a8a3678494fa298e6dee94e73a8",
       "outputs": [
        {
         "data": {
          "application/vnd.jupyter.widget-view+json": {
           "model_id": "18c504b5e05645e29f67b40ae7d7732d",
           "version_major": 2,
           "version_minor": 0
          },
          "text/plain": "Plot(antialias=3, axes=['x', 'y', 'z'], axes_helper=1.0, background_color=16777215, camera=[2, -3, 0.2, 0.0, 0…"
         },
         "metadata": {},
         "output_type": "display_data"
        }
       ]
      }
     },
     "90200befc0a748b29086dd7aa6c0bcf3": {
      "buffers": [
       {
        "data": "eNoDAAAAAAE=",
        "encoding": "base64",
        "path": [
         "colors",
         "compressed_buffer"
        ]
       },
       {
        "data": "eNpjYGiwZ8AAxIsBAF7EAv0=",
        "encoding": "base64",
        "path": [
         "model_matrix",
         "compressed_buffer"
        ]
       },
       {
        "data": "eNoDAAAAAAE=",
        "encoding": "base64",
        "path": [
         "opacities",
         "compressed_buffer"
        ]
       },
       {
        "data": "eNpjYGCwZ4DjA0hsBQcYm5EhwQEhPgGJvQFJzQUk8Q9IbA5HBFsCia2BxLZwRJjjgcSOQGJnIKmvQGK3ILF7kNhTkNhz4GwA3oQXaA==",
        "encoding": "base64",
        "path": [
         "positions",
         "compressed_buffer"
        ]
       }
      ],
      "model_module": "k3d",
      "model_module_version": "2.7.4",
      "model_name": "ObjectModel",
      "state": {
       "_view_count": null,
       "_view_module": null,
       "_view_module_version": "",
       "_view_name": null,
       "color": 5010096,
       "colors": {
        "dtype": "uint32",
        "shape": [
         0
        ]
       },
       "compression_level": 0,
       "id": 4928199312,
       "mesh_detail": 2,
       "model_matrix": {
        "dtype": "float32",
        "shape": [
         4,
         4
        ]
       },
       "name": "Points #1",
       "opacities": {
        "dtype": "float32",
        "shape": [
         0
        ]
       },
       "opacity": 1,
       "point_size": 0.25,
       "positions": {
        "dtype": "float32",
        "shape": [
         20,
         3
        ]
       },
       "shader": "3dSpecular",
       "type": "Points",
       "visible": true
      }
     },
     "923c83a407c841d7bb9c5a599f11a268": {
      "model_module": "k3d",
      "model_module_version": "2.7.4",
      "model_name": "PlotModel",
      "state": {
       "_backend_version": "2.7.4",
       "_dom_classes": [],
       "_view_count": null,
       "antialias": 3,
       "auto_rendering": true,
       "axes": [
        "x (nm)",
        "y (nm)",
        "z (nm)"
       ],
       "axes_helper": 1,
       "background_color": 16777215,
       "camera": [
        13.226732908394498,
        -11.55884934769059,
        1.3039233057406194,
        5.1875,
        0.5000000149011612,
        0.5000000149011612,
        0,
        0,
        1
       ],
       "camera_animation": [],
       "camera_auto_fit": true,
       "camera_fov": 60,
       "camera_no_pan": false,
       "camera_no_rotate": false,
       "camera_no_zoom": false,
       "clipping_planes": [],
       "colorbar_object_id": -1,
       "fps": 25,
       "fps_meter": false,
       "grid": [
        -1,
        -1,
        -1,
        1,
        1,
        1
       ],
       "grid_auto_fit": true,
       "grid_visible": true,
       "height": 512,
       "layout": "IPY_MODEL_bf41453b71b84dfc88798d7fb2064177",
       "lighting": 1.5,
       "menu_visibility": true,
       "mode": "view",
       "name": null,
       "object_ids": [
        4756832656,
        4756854720
       ],
       "rendering_steps": 1,
       "screenshot": "",
       "screenshot_scale": 2,
       "snapshot": "",
       "time": 0,
       "voxel_paint_color": 0
      }
     },
     "925865739c784b5eb793b6a670d2fc50": {
      "model_module": "@jupyter-widgets/base",
      "model_module_version": "1.2.0",
      "model_name": "LayoutModel",
      "state": {}
     },
     "925c94e468534023afc3e9346ad0f60a": {
      "buffers": [
       {
        "data": "eNrzU2Jg8APiDF0IzrPXBOOcMD8wLi4sAOOKvslgnLt6JxhHHb8Nxk63P4OxxYt/KBgmDlMH0wczB2YuzB6YvTB3+EHdBQB7nzdN",
        "encoding": "base64",
        "path": [
         "colors",
         "compressed_buffer"
        ]
       },
       {
        "data": "eNpjYGiwZ8AAxIsBAF7EAv0=",
        "encoding": "base64",
        "path": [
         "model_matrix",
         "compressed_buffer"
        ]
       },
       {
        "data": "eNpL+iNvz8DAYG+9uMa++e1DMHtHSK59Y7yFA4jt9DvYXq67Fsz+9MoIKL8AzPbS5bU3PrTfgRHI7i4+Y3dV8B6YvcGj2W622G8wW0WV2y6om9sRxL7xyN32n7kkmN3g6G/NdEINzl5XYgJXs7nEyRGmV/x7gCPMzBdyCY4wuxgYChxhbpjj1+AIc5vAlw5HmJs1Hk50hPlFlmG2I8yPALp4REo=",
        "encoding": "base64",
        "path": [
         "origins",
         "compressed_buffer"
        ]
       },
       {
        "data": "eNoTfFy/b2sbu2GZW+V+nm3s+61/PdQvWBm1n+uP0/7iWVs2tX5T3/8yImf/4xW3N51afXofA0PD/tVKwZvnXrm0V0e5Zv/51Cmbrxr62TnIJu5X33J48/y8n3abMg33F+78uDkv18q++MqjfZzsTFuWMqfbC/6X3rd/Lt+W2sQ6ENsOxgaqsYOpAeq1h+kFmmkPMxNolz3MLqAb7GFuALrNHuY2oJvtYW4G+sUe5hfBx/V2MD8CAJFmdfM=",
        "encoding": "base64",
        "path": [
         "vectors",
         "compressed_buffer"
        ]
       }
      ],
      "model_module": "k3d",
      "model_module_version": "2.7.4",
      "model_name": "ObjectModel",
      "state": {
       "_view_count": null,
       "_view_module": null,
       "_view_module_version": "",
       "_view_name": null,
       "colors": {
        "dtype": "uint32",
        "shape": [
         20,
         2
        ]
       },
       "compression_level": 0,
       "head_color": 255,
       "head_size": 1,
       "id": 4927907488,
       "label_size": 1,
       "labels": [],
       "line_width": 0.01,
       "model_matrix": {
        "dtype": "float32",
        "shape": [
         4,
         4
        ]
       },
       "name": "Vectors #1",
       "origin_color": 255,
       "origins": {
        "dtype": "float32",
        "shape": [
         20,
         3
        ]
       },
       "type": "Vectors",
       "use_head": true,
       "vectors": {
        "dtype": "float32",
        "shape": [
         20,
         3
        ]
       },
       "visible": true
      }
     },
     "92cb7c42a9b04a33b1d079c617af4bc4": {
      "model_module": "@jupyter-widgets/base",
      "model_module_version": "1.2.0",
      "model_name": "LayoutModel",
      "state": {}
     },
     "9340123cdf704d90b92ec64e6bad3da4": {
      "model_module": "@jupyter-widgets/output",
      "model_module_version": "1.0.0",
      "model_name": "OutputModel",
      "state": {
       "layout": "IPY_MODEL_54a3ed0c47c24aadbf8fd4c84f65fa6b",
       "outputs": [
        {
         "data": {
          "application/vnd.jupyter.widget-view+json": {
           "model_id": "e72a6f010d1841bfb42d22b8135b7fac",
           "version_major": 2,
           "version_minor": 0
          },
          "text/plain": "Plot(antialias=3, axes=['x', 'y', 'z'], axes_helper=1.0, background_color=16777215, camera=[2, -3, 0.2, 0.0, 0…"
         },
         "metadata": {},
         "output_type": "display_data"
        }
       ]
      }
     },
     "934945e49cee4ddd929b60e0825925cc": {
      "model_module": "@jupyter-widgets/base",
      "model_module_version": "1.2.0",
      "model_name": "LayoutModel",
      "state": {}
     },
     "9361d330fa5346c09cf9a97a9edfa89d": {
      "buffers": [
       {
        "data": "eNoDAAAAAAE=",
        "encoding": "base64",
        "path": [
         "colors",
         "compressed_buffer"
        ]
       },
       {
        "data": "eNpjYGiwZ8AAxIsBAF7EAv0=",
        "encoding": "base64",
        "path": [
         "model_matrix",
         "compressed_buffer"
        ]
       },
       {
        "data": "eNoDAAAAAAE=",
        "encoding": "base64",
        "path": [
         "opacities",
         "compressed_buffer"
        ]
       },
       {
        "data": "eNpjYGCwZ4DjA0hsBQcYm5EhwQEhPgGJvQFJzQUk8Q9IbA5HBFsCia2BxLZwRJjjgcSOQGJnIKmvQGK3ILF7kNhTkNhz4GwA3oQXaA==",
        "encoding": "base64",
        "path": [
         "positions",
         "compressed_buffer"
        ]
       }
      ],
      "model_module": "k3d",
      "model_module_version": "2.7.4",
      "model_name": "ObjectModel",
      "state": {
       "_view_count": null,
       "_view_module": null,
       "_view_module_version": "",
       "_view_name": null,
       "color": 5010096,
       "colors": {
        "dtype": "uint32",
        "shape": [
         0
        ]
       },
       "compression_level": 0,
       "id": 4928786688,
       "mesh_detail": 2,
       "model_matrix": {
        "dtype": "float32",
        "shape": [
         4,
         4
        ]
       },
       "name": "Points #1",
       "opacities": {
        "dtype": "float32",
        "shape": [
         0
        ]
       },
       "opacity": 1,
       "point_size": 0.25,
       "positions": {
        "dtype": "float32",
        "shape": [
         20,
         3
        ]
       },
       "shader": "3dSpecular",
       "type": "Points",
       "visible": true
      }
     },
     "93e878dc5e19431eb64b33e136beab93": {
      "buffers": [
       {
        "data": "eNoDAAAAAAE=",
        "encoding": "base64",
        "path": [
         "colors",
         "compressed_buffer"
        ]
       },
       {
        "data": "eNpjYGiwZ8AAxIsBAF7EAv0=",
        "encoding": "base64",
        "path": [
         "model_matrix",
         "compressed_buffer"
        ]
       },
       {
        "data": "eNoDAAAAAAE=",
        "encoding": "base64",
        "path": [
         "opacities",
         "compressed_buffer"
        ]
       },
       {
        "data": "eNpjYGCwZ4DjA0hsBQcYm5EhwQEhPgGJvQFJzQUk8Q9IbA5HBFsCzgYAxoYLzw==",
        "encoding": "base64",
        "path": [
         "positions",
         "compressed_buffer"
        ]
       }
      ],
      "model_module": "k3d",
      "model_module_version": "2.7.4",
      "model_name": "ObjectModel",
      "state": {
       "_view_count": null,
       "_view_module": null,
       "_view_module_version": "",
       "_view_name": null,
       "color": 5010096,
       "colorLegend": false,
       "colors": {
        "dtype": "uint32",
        "shape": [
         0
        ]
       },
       "compression_level": 0,
       "id": 4757802192,
       "mesh_detail": 2,
       "model_matrix": {
        "dtype": "float32",
        "shape": [
         4,
         4
        ]
       },
       "name": "Points #1",
       "opacities": {
        "dtype": "float32",
        "shape": [
         0
        ]
       },
       "opacity": 1,
       "point_size": 0.25,
       "positions": {
        "dtype": "float32",
        "shape": [
         10,
         3
        ]
       },
       "shader": "3dSpecular",
       "type": "Points",
       "visible": true
      }
     },
     "9420008811b14b04a23bde9ff3f9a76b": {
      "model_module": "@jupyter-widgets/base",
      "model_module_version": "1.2.0",
      "model_name": "LayoutModel",
      "state": {}
     },
     "9456f581500745e98dee440c79b403a7": {
      "buffers": [
       {
        "data": "eNoDAAAAAAE=",
        "encoding": "base64",
        "path": [
         "colors",
         "compressed_buffer"
        ]
       },
       {
        "data": "eNpjYGiwZ8AAxIsBAF7EAv0=",
        "encoding": "base64",
        "path": [
         "model_matrix",
         "compressed_buffer"
        ]
       },
       {
        "data": "eNoDAAAAAAE=",
        "encoding": "base64",
        "path": [
         "opacities",
         "compressed_buffer"
        ]
       },
       {
        "data": "eNpjYGCwZ4DjA0hsBQcYm5EhwQEhPgGJvQFJzQUk8Q9IbA5HBFsCzgYAxoYLzw==",
        "encoding": "base64",
        "path": [
         "positions",
         "compressed_buffer"
        ]
       }
      ],
      "model_module": "k3d",
      "model_module_version": "2.7.4",
      "model_name": "ObjectModel",
      "state": {
       "_view_count": null,
       "_view_module": null,
       "_view_module_version": "",
       "_view_name": null,
       "color": 5010096,
       "colors": {
        "dtype": "uint32",
        "shape": [
         0
        ]
       },
       "compression_level": 0,
       "id": 4927113872,
       "mesh_detail": 2,
       "model_matrix": {
        "dtype": "float32",
        "shape": [
         4,
         4
        ]
       },
       "name": "Points #1",
       "opacities": {
        "dtype": "float32",
        "shape": [
         0
        ]
       },
       "opacity": 1,
       "point_size": 0.25,
       "positions": {
        "dtype": "float32",
        "shape": [
         10,
         3
        ]
       },
       "shader": "3dSpecular",
       "type": "Points",
       "visible": true
      }
     },
     "94766003724e4530bc7cd83aa749809b": {
      "buffers": [
       {
        "data": "eNrbUOTDENRylwEADvwDIg==",
        "encoding": "base64",
        "path": [
         "color_map",
         "compressed_buffer"
        ]
       },
       {
        "data": "eNpjYFBwZICDBQ4QusEeKmCPkAOLIfEhYgB/zAP9",
        "encoding": "base64",
        "path": [
         "model_matrix",
         "compressed_buffer"
        ]
       },
       {
        "data": "eNpjZIQCJgAAQgAM",
        "encoding": "base64",
        "path": [
         "voxels",
         "compressed_buffer"
        ]
       }
      ],
      "model_module": "k3d",
      "model_module_version": "2.7.4",
      "model_name": "ObjectModel",
      "state": {
       "_view_count": null,
       "_view_module": null,
       "_view_module_version": "",
       "_view_name": null,
       "color_map": {
        "dtype": "uint32",
        "shape": [
         2
        ]
       },
       "compression_level": 0,
       "id": 4928818576,
       "model_matrix": {
        "dtype": "float32",
        "shape": [
         4,
         4
        ]
       },
       "name": "Voxels #1",
       "opacity": 1,
       "outlines": false,
       "outlines_color": 0,
       "type": "Voxels",
       "visible": true,
       "voxels": {
        "dtype": "uint8",
        "shape": [
         1,
         1,
         10
        ]
       },
       "wireframe": false
      }
     },
     "94a9b9170c8e46eaa1761740a2bf43b5": {
      "model_module": "@jupyter-widgets/base",
      "model_module_version": "1.2.0",
      "model_name": "LayoutModel",
      "state": {}
     },
     "94efe68d254e4d128373dc0b9bcffccb": {
      "buffers": [
       {
        "data": "eNoDAAAAAAE=",
        "encoding": "base64",
        "path": [
         "colors",
         "compressed_buffer"
        ]
       },
       {
        "data": "eNpjYGiwZ8AAxIsBAF7EAv0=",
        "encoding": "base64",
        "path": [
         "model_matrix",
         "compressed_buffer"
        ]
       },
       {
        "data": "eNoDAAAAAAE=",
        "encoding": "base64",
        "path": [
         "opacities",
         "compressed_buffer"
        ]
       },
       {
        "data": "eNpjYGCwZ4DjA0hsBQcYm5EhwQEhPgGJvQFJzQUk8Q9IbA5HBFsCia2BxLZwRJjjgcSOQGJnIKmvQGK3ILF7kNhTkNhz4GwA3oQXaA==",
        "encoding": "base64",
        "path": [
         "positions",
         "compressed_buffer"
        ]
       }
      ],
      "model_module": "k3d",
      "model_module_version": "2.7.4",
      "model_name": "ObjectModel",
      "state": {
       "_view_count": null,
       "_view_module": null,
       "_view_module_version": "",
       "_view_name": null,
       "color": 5010096,
       "colorLegend": false,
       "colors": {
        "dtype": "uint32",
        "shape": [
         0
        ]
       },
       "compression_level": 0,
       "id": 4937028224,
       "mesh_detail": 2,
       "model_matrix": {
        "dtype": "float32",
        "shape": [
         4,
         4
        ]
       },
       "name": "Points #1",
       "opacities": {
        "dtype": "float32",
        "shape": [
         0
        ]
       },
       "opacity": 1,
       "point_size": 0.25,
       "positions": {
        "dtype": "float32",
        "shape": [
         20,
         3
        ]
       },
       "shader": "3dSpecular",
       "type": "Points",
       "visible": true
      }
     },
     "95479b7d43ae45a4a2a5fec722f12c96": {
      "buffers": [
       {
        "data": "eNoDAAAAAAE=",
        "encoding": "base64",
        "path": [
         "colors",
         "compressed_buffer"
        ]
       },
       {
        "data": "eNpjYGiwZ8AAxIsBAF7EAv0=",
        "encoding": "base64",
        "path": [
         "model_matrix",
         "compressed_buffer"
        ]
       },
       {
        "data": "eNoDAAAAAAE=",
        "encoding": "base64",
        "path": [
         "opacities",
         "compressed_buffer"
        ]
       },
       {
        "data": "eNpjYGCwZ4DjA0hsBQcYm5EhwQEhPgGJvQFJzQUk8Q9IbA5HBFsCzgYAxoYLzw==",
        "encoding": "base64",
        "path": [
         "positions",
         "compressed_buffer"
        ]
       }
      ],
      "model_module": "k3d",
      "model_module_version": "2.7.4",
      "model_name": "ObjectModel",
      "state": {
       "_view_count": null,
       "_view_module": null,
       "_view_module_version": "",
       "_view_name": null,
       "color": 5010096,
       "colorLegend": false,
       "colors": {
        "dtype": "uint32",
        "shape": [
         0
        ]
       },
       "compression_level": 0,
       "id": 4934840176,
       "mesh_detail": 2,
       "model_matrix": {
        "dtype": "float32",
        "shape": [
         4,
         4
        ]
       },
       "name": "Points #1",
       "opacities": {
        "dtype": "float32",
        "shape": [
         0
        ]
       },
       "opacity": 1,
       "point_size": 0.25,
       "positions": {
        "dtype": "float32",
        "shape": [
         10,
         3
        ]
       },
       "shader": "3dSpecular",
       "type": "Points",
       "visible": true
      }
     },
     "969830f63a1d40b493d44ea939c854be": {
      "model_module": "@jupyter-widgets/output",
      "model_module_version": "1.0.0",
      "model_name": "OutputModel",
      "state": {
       "layout": "IPY_MODEL_92cb7c42a9b04a33b1d079c617af4bc4",
       "outputs": [
        {
         "data": {
          "application/vnd.jupyter.widget-view+json": {
           "model_id": "cf664119974f4615acb7314c48d43011",
           "version_major": 2,
           "version_minor": 0
          },
          "text/plain": "Plot(antialias=3, axes=['x', 'y', 'z'], axes_helper=1.0, background_color=16777215, camera=[2, -3, 0.2, 0.0, 0…"
         },
         "metadata": {},
         "output_type": "display_data"
        }
       ]
      }
     },
     "970559c15c11497a9e8bebb965f86fb9": {
      "model_module": "@jupyter-widgets/base",
      "model_module_version": "1.2.0",
      "model_name": "LayoutModel",
      "state": {}
     },
     "9723dc385bcc436d82eb2493790390ea": {
      "model_module": "@jupyter-widgets/base",
      "model_module_version": "1.2.0",
      "model_name": "LayoutModel",
      "state": {}
     },
     "97c7914af2eb4a0087f32fffd08044b2": {
      "model_module": "k3d",
      "model_module_version": "2.7.4",
      "model_name": "PlotModel",
      "state": {
       "_backend_version": "2.7.4",
       "_dom_classes": [],
       "_view_count": null,
       "antialias": 3,
       "auto_rendering": true,
       "axes": [
        "x (nm)",
        "y (nm)",
        "z (nm)"
       ],
       "axes_helper": 1,
       "background_color": 16777215,
       "camera": [
        5.362773258842753,
        -7.266272615212109,
        0.8798065033764956,
        5.1875,
        0.5,
        0.5,
        -0.029496001865921693,
        -0.007248793904927164,
        0.9995386139919004
       ],
       "camera_animation": [],
       "camera_auto_fit": true,
       "camera_fov": 60,
       "camera_no_pan": false,
       "camera_no_rotate": false,
       "camera_no_zoom": false,
       "clipping_planes": [],
       "colorbar_object_id": -1,
       "fps": 25,
       "fps_meter": false,
       "grid": [
        -1,
        -1,
        -1,
        1,
        1,
        1
       ],
       "grid_auto_fit": true,
       "grid_visible": true,
       "height": 512,
       "layout": "IPY_MODEL_e5dcbf8fc3d34aa7b32f41cc66c4c5e9",
       "lighting": 1.5,
       "menu_visibility": true,
       "mode": "view",
       "name": null,
       "object_ids": [
        4937002912,
        4937002000
       ],
       "rendering_steps": 1,
       "screenshot": "",
       "screenshot_scale": 2,
       "snapshot": "",
       "time": 0,
       "voxel_paint_color": 0
      }
     },
     "983e19332fe744e48758c051c37c5938": {
      "buffers": [
       {
        "data": "eNoLarnLEERFDABnGyH9",
        "encoding": "base64",
        "path": [
         "colors",
         "compressed_buffer"
        ]
       },
       {
        "data": "eNpjYGiwZ8AAxIsBAF7EAv0=",
        "encoding": "base64",
        "path": [
         "model_matrix",
         "compressed_buffer"
        ]
       },
       {
        "data": "eNpjYGiwZ2BgAGIw7YBgOyCxG5DYC7CwGYwZGQ7A2QwMD5DYDI4ItgCcDQCUDg3j",
        "encoding": "base64",
        "path": [
         "origins",
         "compressed_buffer"
        ]
       },
       {
        "data": "eNpjYGjYzwAE///XA2mS2fZQtj2pbACvtSfP",
        "encoding": "base64",
        "path": [
         "vectors",
         "compressed_buffer"
        ]
       }
      ],
      "model_module": "k3d",
      "model_module_version": "2.7.4",
      "model_name": "ObjectModel",
      "state": {
       "_view_count": null,
       "_view_module": null,
       "_view_module_version": "",
       "_view_name": null,
       "colorLegend": false,
       "colors": {
        "dtype": "uint32",
        "shape": [
         10,
         2
        ]
       },
       "compression_level": 0,
       "head_color": 255,
       "head_size": 3,
       "id": 4757802000,
       "label_size": 1,
       "labels": [],
       "line_width": 0.01,
       "model_matrix": {
        "dtype": "float32",
        "shape": [
         4,
         4
        ]
       },
       "name": "Vectors #1",
       "origin_color": 255,
       "origins": {
        "dtype": "float32",
        "shape": [
         10,
         3
        ]
       },
       "type": "Vectors",
       "use_head": true,
       "vectors": {
        "dtype": "float32",
        "shape": [
         10,
         3
        ]
       },
       "visible": true
      }
     },
     "9841918a90da4454aaa94b0e7d4834f8": {
      "buffers": [
       {
        "data": "eNoLarnLEERFDABnGyH9",
        "encoding": "base64",
        "path": [
         "colors",
         "compressed_buffer"
        ]
       },
       {
        "data": "eNpjYGiwZ8AAxIsBAF7EAv0=",
        "encoding": "base64",
        "path": [
         "model_matrix",
         "compressed_buffer"
        ]
       },
       {
        "data": "eNpjYAADewjVYI9gMzjA2IwMDg5IapDYC5DUHEASf4DEZnBEsAXgbADj0ghK",
        "encoding": "base64",
        "path": [
         "origins",
         "compressed_buffer"
        ]
       },
       {
        "data": "eNpjYGiwZwADEE0/NgB7CQ7t",
        "encoding": "base64",
        "path": [
         "vectors",
         "compressed_buffer"
        ]
       }
      ],
      "model_module": "k3d",
      "model_module_version": "2.7.4",
      "model_name": "ObjectModel",
      "state": {
       "_view_count": null,
       "_view_module": null,
       "_view_module_version": "",
       "_view_name": null,
       "colors": {
        "dtype": "uint32",
        "shape": [
         10,
         2
        ]
       },
       "compression_level": 0,
       "head_color": 255,
       "head_size": 3,
       "id": 4926834816,
       "label_size": 1,
       "labels": [],
       "line_width": 0.01,
       "model_matrix": {
        "dtype": "float32",
        "shape": [
         4,
         4
        ]
       },
       "name": "Vectors #1",
       "origin_color": 255,
       "origins": {
        "dtype": "float32",
        "shape": [
         10,
         3
        ]
       },
       "type": "Vectors",
       "use_head": true,
       "vectors": {
        "dtype": "float32",
        "shape": [
         10,
         3
        ]
       },
       "visible": true
      }
     },
     "98f7a32d36be4ac9b056d6a545963b5f": {
      "buffers": [
       {
        "data": "eNoLarnLEERFDABnGyH9",
        "encoding": "base64",
        "path": [
         "colors",
         "compressed_buffer"
        ]
       },
       {
        "data": "eNpjYGiwZ8AAxIsBAF7EAv0=",
        "encoding": "base64",
        "path": [
         "model_matrix",
         "compressed_buffer"
        ]
       },
       {
        "data": "eNpjYGCwl/omagfCDAwHkNgKDjA2I0OCA0J8AhJ7gQMDUD8IMzIcgLMZGB4gsRkcEWwBOBsAtJAW9w==",
        "encoding": "base64",
        "path": [
         "origins",
         "compressed_buffer"
        ]
       },
       {
        "data": "eNpjYGBg+Mxiag/CDCSzG8B8CCCNDQBu3BHq",
        "encoding": "base64",
        "path": [
         "vectors",
         "compressed_buffer"
        ]
       }
      ],
      "model_module": "k3d",
      "model_module_version": "2.7.4",
      "model_name": "ObjectModel",
      "state": {
       "_view_count": null,
       "_view_module": null,
       "_view_module_version": "",
       "_view_name": null,
       "colorLegend": false,
       "colors": {
        "dtype": "uint32",
        "shape": [
         10,
         2
        ]
       },
       "compression_level": 0,
       "head_color": 255,
       "head_size": 3,
       "id": 4931426576,
       "label_size": 1,
       "labels": [],
       "line_width": 0.01,
       "model_matrix": {
        "dtype": "float32",
        "shape": [
         4,
         4
        ]
       },
       "name": "Vectors #1",
       "origin_color": 255,
       "origins": {
        "dtype": "float32",
        "shape": [
         10,
         3
        ]
       },
       "type": "Vectors",
       "use_head": true,
       "vectors": {
        "dtype": "float32",
        "shape": [
         10,
         3
        ]
       },
       "visible": true
      }
     },
     "9964d8b64fad4d8bbb5252106c2e2d37": {
      "model_module": "@jupyter-widgets/output",
      "model_module_version": "1.0.0",
      "model_name": "OutputModel",
      "state": {
       "layout": "IPY_MODEL_b459e8bf3dd94762a44805341c24c35b",
       "outputs": [
        {
         "data": {
          "application/vnd.jupyter.widget-view+json": {
           "model_id": "854fb185c8194e1996dbefcacda85523",
           "version_major": 2,
           "version_minor": 0
          },
          "text/plain": "Plot(antialias=3, axes=['x', 'y', 'z'], axes_helper=1.0, background_color=16777215, camera=[2, -3, 0.2, 0.0, 0…"
         },
         "metadata": {},
         "output_type": "display_data"
        }
       ]
      }
     },
     "99a6f455d59b4b3ea1dd97d4c490c7ef": {
      "model_module": "@jupyter-widgets/base",
      "model_module_version": "1.2.0",
      "model_name": "LayoutModel",
      "state": {}
     },
     "9a206b3194d34844870f5fcf8eba6579": {
      "model_module": "@jupyter-widgets/base",
      "model_module_version": "1.2.0",
      "model_name": "LayoutModel",
      "state": {}
     },
     "9a269d78975d4563b5ec79dcd14c6654": {
      "model_module": "@jupyter-widgets/base",
      "model_module_version": "1.2.0",
      "model_name": "LayoutModel",
      "state": {}
     },
     "9a9667506bf543b38ac004b732b51fa7": {
      "buffers": [
       {
        "data": "eNoLarnLEERFDABnGyH9",
        "encoding": "base64",
        "path": [
         "colors",
         "compressed_buffer"
        ]
       },
       {
        "data": "eNpjYGiwZ8AAxIsBAF7EAv0=",
        "encoding": "base64",
        "path": [
         "model_matrix",
         "compressed_buffer"
        ]
       },
       {
        "data": "eNpjYGiw//v/vx0Dg5yZEJDNwMAAwiaMDAwOIPa9//X2v/7Xg9nfgOx//+c7QNTsMGViWABnszIcgKv5//8/XO+///yOMDMZGAQcGcFsOTMAY/oiHw==",
        "encoding": "base64",
        "path": [
         "origins",
         "compressed_buffer"
        ]
       },
       {
        "data": "eNpjYGjYX6puZ7Lxf739NiB+Juxr9AdIfwPi+6a3Dff8r99/DIhvHZ1v8BpI3wfiuPA5hpdA8kAMZG8EsYFq7IFqNoDUfAOpM729EaQXaOZ+oJmbQGYyMDTYA+3aArILALiUR+M=",
        "encoding": "base64",
        "path": [
         "vectors",
         "compressed_buffer"
        ]
       }
      ],
      "model_module": "k3d",
      "model_module_version": "2.7.4",
      "model_name": "ObjectModel",
      "state": {
       "_view_count": null,
       "_view_module": null,
       "_view_module_version": "",
       "_view_name": null,
       "colorLegend": false,
       "colors": {
        "dtype": "uint32",
        "shape": [
         10,
         2
        ]
       },
       "compression_level": 0,
       "head_color": 255,
       "head_size": 3,
       "id": 4554183680,
       "label_size": 1,
       "labels": [],
       "line_width": 0.01,
       "model_matrix": {
        "dtype": "float32",
        "shape": [
         4,
         4
        ]
       },
       "name": "Vectors #1",
       "origin_color": 255,
       "origins": {
        "dtype": "float32",
        "shape": [
         10,
         3
        ]
       },
       "type": "Vectors",
       "use_head": true,
       "vectors": {
        "dtype": "float32",
        "shape": [
         10,
         3
        ]
       },
       "visible": true
      }
     },
     "9b06f901f1e34d11be6164967058bd94": {
      "model_module": "k3d",
      "model_module_version": "2.7.4",
      "model_name": "PlotModel",
      "state": {
       "_backend_version": "2.7.4",
       "_dom_classes": [],
       "_view_count": null,
       "antialias": 3,
       "auto_rendering": true,
       "axes": [
        "x (nm)",
        "y (nm)",
        "z (nm)"
       ],
       "axes_helper": 1,
       "background_color": 16777215,
       "camera": [
        12.773946283633382,
        -11.16091942966476,
        1.2773946241486662,
        5,
        0.49999999578531495,
        0.49999999578531495,
        0,
        0,
        1
       ],
       "camera_animation": [],
       "camera_auto_fit": true,
       "camera_fov": 60,
       "camera_no_pan": false,
       "camera_no_rotate": false,
       "camera_no_zoom": false,
       "clipping_planes": [],
       "colorbar_object_id": -1,
       "fps": 25,
       "fps_meter": false,
       "grid": [
        -1,
        -1,
        -1,
        1,
        1,
        1
       ],
       "grid_auto_fit": true,
       "grid_visible": true,
       "height": 512,
       "layout": "IPY_MODEL_39183f68e3c54d409705f6f907c53824",
       "lighting": 1.5,
       "menu_visibility": true,
       "mode": "view",
       "name": null,
       "object_ids": [
        4756854960,
        4400247280
       ],
       "rendering_steps": 1,
       "screenshot": "",
       "screenshot_scale": 2,
       "snapshot": "",
       "time": 0,
       "voxel_paint_color": 0
      }
     },
     "9b3fcc5c52f24147b2d7963cf73990d5": {
      "buffers": [
       {
        "data": "eNoLarnLEERFDABnGyH9",
        "encoding": "base64",
        "path": [
         "colors",
         "compressed_buffer"
        ]
       },
       {
        "data": "eNpjYGiwZ8AAxIsBAF7EAv0=",
        "encoding": "base64",
        "path": [
         "model_matrix",
         "compressed_buffer"
        ]
       },
       {
        "data": "eNpjYGCwZ4BgIDiAxFZwgLEZGRIcEOITkNgbkNRcQBL/gMTmcESwJeBsAD8sCVk=",
        "encoding": "base64",
        "path": [
         "origins",
         "compressed_buffer"
        ]
       },
       {
        "data": "eNrbJHx5LQMYNNhvoiMbAFSfHik=",
        "encoding": "base64",
        "path": [
         "vectors",
         "compressed_buffer"
        ]
       }
      ],
      "model_module": "k3d",
      "model_module_version": "2.7.4",
      "model_name": "ObjectModel",
      "state": {
       "_view_count": null,
       "_view_module": null,
       "_view_module_version": "",
       "_view_name": null,
       "colorLegend": false,
       "colors": {
        "dtype": "uint32",
        "shape": [
         10,
         2
        ]
       },
       "compression_level": 0,
       "head_color": 255,
       "head_size": 3,
       "id": 4754638400,
       "label_size": 1,
       "labels": [],
       "line_width": 0.01,
       "model_matrix": {
        "dtype": "float32",
        "shape": [
         4,
         4
        ]
       },
       "name": "Vectors #1",
       "origin_color": 255,
       "origins": {
        "dtype": "float32",
        "shape": [
         10,
         3
        ]
       },
       "type": "Vectors",
       "use_head": true,
       "vectors": {
        "dtype": "float32",
        "shape": [
         10,
         3
        ]
       },
       "visible": true
      }
     },
     "9ba57622f3784c62a539e145b12e9745": {
      "model_module": "@jupyter-widgets/base",
      "model_module_version": "1.2.0",
      "model_name": "LayoutModel",
      "state": {}
     },
     "9bb1d5c2aa1244a98047589bd80d9199": {
      "buffers": [
       {
        "data": "eNoLarnLEERFDABnGyH9",
        "encoding": "base64",
        "path": [
         "colors",
         "compressed_buffer"
        ]
       },
       {
        "data": "eNpjYGiwZ8AAxIsBAF7EAv0=",
        "encoding": "base64",
        "path": [
         "model_matrix",
         "compressed_buffer"
        ]
       },
       {
        "data": "eNpjYGCwZ4BgIDiAxFZwgLEZGRIcEOITkNgLYGx7RoYDcDYDwwMkNoMjgi0AZwMAVE8KVA==",
        "encoding": "base64",
        "path": [
         "origins",
         "compressed_buffer"
        ]
       },
       {
        "data": "eNpjYICBBnsGktnk6IEAAL25B3c=",
        "encoding": "base64",
        "path": [
         "vectors",
         "compressed_buffer"
        ]
       }
      ],
      "model_module": "k3d",
      "model_module_version": "2.7.4",
      "model_name": "ObjectModel",
      "state": {
       "_view_count": null,
       "_view_module": null,
       "_view_module_version": "",
       "_view_name": null,
       "colorLegend": false,
       "colors": {
        "dtype": "uint32",
        "shape": [
         10,
         2
        ]
       },
       "compression_level": 0,
       "head_color": 255,
       "head_size": 3,
       "id": 4565504352,
       "label_size": 1,
       "labels": [],
       "line_width": 0.01,
       "model_matrix": {
        "dtype": "float32",
        "shape": [
         4,
         4
        ]
       },
       "name": "Vectors #1",
       "origin_color": 255,
       "origins": {
        "dtype": "float32",
        "shape": [
         10,
         3
        ]
       },
       "type": "Vectors",
       "use_head": true,
       "vectors": {
        "dtype": "float32",
        "shape": [
         10,
         3
        ]
       },
       "visible": true
      }
     },
     "9bbdf11d6fd94becb143fb3d225ee0ac": {
      "model_module": "@jupyter-widgets/base",
      "model_module_version": "1.2.0",
      "model_name": "LayoutModel",
      "state": {}
     },
     "9d8b7fd9a4a0481cbaddaaebd7fe4e5e": {
      "model_module": "@jupyter-widgets/base",
      "model_module_version": "1.2.0",
      "model_name": "LayoutModel",
      "state": {}
     },
     "9d98f256971048d3813f909c8bf2c861": {
      "buffers": [
       {
        "data": "eNoLarnLEERFDABnGyH9",
        "encoding": "base64",
        "path": [
         "colors",
         "compressed_buffer"
        ]
       },
       {
        "data": "eNpjYGiwZ8AAxIsBAF7EAv0=",
        "encoding": "base64",
        "path": [
         "model_matrix",
         "compressed_buffer"
        ]
       },
       {
        "data": "eNpjYAADewjVYI9gMzjA2IwMDg5IapDYC5DUHEASf4DEZnBEsAXgbADj0ghK",
        "encoding": "base64",
        "path": [
         "origins",
         "compressed_buffer"
        ]
       },
       {
        "data": "eNpjYGiwZwADEE0/NgB7CQ7t",
        "encoding": "base64",
        "path": [
         "vectors",
         "compressed_buffer"
        ]
       }
      ],
      "model_module": "k3d",
      "model_module_version": "2.7.4",
      "model_name": "ObjectModel",
      "state": {
       "_view_count": null,
       "_view_module": null,
       "_view_module_version": "",
       "_view_name": null,
       "colorLegend": false,
       "colors": {
        "dtype": "uint32",
        "shape": [
         10,
         2
        ]
       },
       "compression_level": 0,
       "head_color": 255,
       "head_size": 3,
       "id": 4720803504,
       "label_size": 1,
       "labels": [],
       "line_width": 0.01,
       "model_matrix": {
        "dtype": "float32",
        "shape": [
         4,
         4
        ]
       },
       "name": "Vectors #1",
       "origin_color": 255,
       "origins": {
        "dtype": "float32",
        "shape": [
         10,
         3
        ]
       },
       "type": "Vectors",
       "use_head": true,
       "vectors": {
        "dtype": "float32",
        "shape": [
         10,
         3
        ]
       },
       "visible": true
      }
     },
     "9dce1629843940569d225c953c7724ab": {
      "buffers": [
       {
        "data": "eNoDAAAAAAE=",
        "encoding": "base64",
        "path": [
         "colors",
         "compressed_buffer"
        ]
       },
       {
        "data": "eNpjYGiwZ8AAxIsBAF7EAv0=",
        "encoding": "base64",
        "path": [
         "model_matrix",
         "compressed_buffer"
        ]
       },
       {
        "data": "eNoDAAAAAAE=",
        "encoding": "base64",
        "path": [
         "opacities",
         "compressed_buffer"
        ]
       },
       {
        "data": "eNpjYGCwZ4DjA0hsBQcYm5EhwQEhPgGJvQFJzQUk8Q9IbA5HBFsCzgYAxoYLzw==",
        "encoding": "base64",
        "path": [
         "positions",
         "compressed_buffer"
        ]
       }
      ],
      "model_module": "k3d",
      "model_module_version": "2.7.4",
      "model_name": "ObjectModel",
      "state": {
       "_view_count": null,
       "_view_module": null,
       "_view_module_version": "",
       "_view_name": null,
       "color": 5010096,
       "colorLegend": false,
       "colors": {
        "dtype": "uint32",
        "shape": [
         0
        ]
       },
       "compression_level": 0,
       "id": 4937010816,
       "mesh_detail": 2,
       "model_matrix": {
        "dtype": "float32",
        "shape": [
         4,
         4
        ]
       },
       "name": "Points #1",
       "opacities": {
        "dtype": "float32",
        "shape": [
         0
        ]
       },
       "opacity": 1,
       "point_size": 0.25,
       "positions": {
        "dtype": "float32",
        "shape": [
         10,
         3
        ]
       },
       "shader": "3dSpecular",
       "type": "Points",
       "visible": true
      }
     },
     "9ddede86f5c64595bc3c8a1520bb96fa": {
      "model_module": "@jupyter-widgets/output",
      "model_module_version": "1.0.0",
      "model_name": "OutputModel",
      "state": {
       "layout": "IPY_MODEL_db878cb2ea394881b15d8695ebb37610",
       "outputs": [
        {
         "data": {
          "application/vnd.jupyter.widget-view+json": {
           "model_id": "0f4db2c09ef8417f8ede26bd18799e85",
           "version_major": 2,
           "version_minor": 0
          },
          "text/plain": "Plot(antialias=3, axes=['x', 'y', 'z'], axes_helper=1.0, background_color=16777215, camera=[2, -3, 0.2, 0.0, 0…"
         },
         "metadata": {},
         "output_type": "display_data"
        }
       ]
      }
     },
     "9dfeb0b4e65744fa884539b5012d926e": {
      "model_module": "@jupyter-widgets/base",
      "model_module_version": "1.2.0",
      "model_name": "LayoutModel",
      "state": {}
     },
     "9e2712f7bc824c5bb308c83b63730848": {
      "buffers": [
       {
        "data": "eNoDAAAAAAE=",
        "encoding": "base64",
        "path": [
         "colors",
         "compressed_buffer"
        ]
       },
       {
        "data": "eNpjYGiwZ8AAxIsBAF7EAv0=",
        "encoding": "base64",
        "path": [
         "model_matrix",
         "compressed_buffer"
        ]
       },
       {
        "data": "eNoDAAAAAAE=",
        "encoding": "base64",
        "path": [
         "opacities",
         "compressed_buffer"
        ]
       },
       {
        "data": "eNpjYGCwZ4DjA0hsBQcYm5EhwQEhPgGJvQFJzQUk8Q9IbA5HBFsCzgYAxoYLzw==",
        "encoding": "base64",
        "path": [
         "positions",
         "compressed_buffer"
        ]
       }
      ],
      "model_module": "k3d",
      "model_module_version": "2.7.4",
      "model_name": "ObjectModel",
      "state": {
       "_view_count": null,
       "_view_module": null,
       "_view_module_version": "",
       "_view_name": null,
       "color": 5010096,
       "colors": {
        "dtype": "uint32",
        "shape": [
         0
        ]
       },
       "compression_level": 0,
       "id": 4925028960,
       "mesh_detail": 2,
       "model_matrix": {
        "dtype": "float32",
        "shape": [
         4,
         4
        ]
       },
       "name": "Points #1",
       "opacities": {
        "dtype": "float32",
        "shape": [
         0
        ]
       },
       "opacity": 1,
       "point_size": 0.25,
       "positions": {
        "dtype": "float32",
        "shape": [
         10,
         3
        ]
       },
       "shader": "3dSpecular",
       "type": "Points",
       "visible": true
      }
     },
     "9e5d08aaba914606b73edf72b699a5b7": {
      "model_module": "k3d",
      "model_module_version": "2.7.4",
      "model_name": "PlotModel",
      "state": {
       "_backend_version": "2.7.4",
       "_dom_classes": [],
       "_view_count": null,
       "antialias": 3,
       "auto_rendering": true,
       "axes": [
        "x (nm)",
        "y (nm)",
        "z (nm)"
       ],
       "axes_helper": 1,
       "background_color": 16777215,
       "camera": [
        13.017741184168955,
        -11.526611776253436,
        1.3017741184169038,
        5,
        0.5,
        0.5,
        0,
        0,
        1
       ],
       "camera_animation": [],
       "camera_auto_fit": true,
       "camera_fov": 60,
       "camera_no_pan": false,
       "camera_no_rotate": false,
       "camera_no_zoom": false,
       "clipping_planes": [],
       "colorbar_object_id": -1,
       "fps": 25,
       "fps_meter": false,
       "grid": [
        -1,
        -1,
        -1,
        1,
        1,
        1
       ],
       "grid_auto_fit": true,
       "grid_visible": true,
       "height": 512,
       "layout": "IPY_MODEL_b507d416477d46eb80cdb3fbc2c9ee81",
       "lighting": 1.5,
       "menu_visibility": true,
       "mode": "view",
       "name": null,
       "object_ids": [
        4756872448,
        4756853040
       ],
       "rendering_steps": 1,
       "screenshot": "",
       "screenshot_scale": 2,
       "snapshot": "",
       "time": 0,
       "voxel_paint_color": 0
      }
     },
     "9e9d6e19ec1f4baba966a7f4d466fd9b": {
      "model_module": "@jupyter-widgets/base",
      "model_module_version": "1.2.0",
      "model_name": "LayoutModel",
      "state": {}
     },
     "9ea304fcbbd244fda14ff77b2fac11b6": {
      "buffers": [
       {
        "data": "eNrbUOTDENRylwEADvwDIg==",
        "encoding": "base64",
        "path": [
         "color_map",
         "compressed_buffer"
        ]
       },
       {
        "data": "eNpjYFBwZICDBQ4QusEeKmCPkAOLIfEhYgB/zAP9",
        "encoding": "base64",
        "path": [
         "model_matrix",
         "compressed_buffer"
        ]
       },
       {
        "data": "eNpjZIQCJgAAQgAM",
        "encoding": "base64",
        "path": [
         "voxels",
         "compressed_buffer"
        ]
       }
      ],
      "model_module": "k3d",
      "model_module_version": "2.7.4",
      "model_name": "ObjectModel",
      "state": {
       "_view_count": null,
       "_view_module": null,
       "_view_module_version": "",
       "_view_name": null,
       "colorLegend": false,
       "color_map": {
        "dtype": "uint32",
        "shape": [
         2
        ]
       },
       "compression_level": 0,
       "id": 4720800720,
       "model_matrix": {
        "dtype": "float32",
        "shape": [
         4,
         4
        ]
       },
       "name": "Voxels #1",
       "opacity": 1,
       "outlines": false,
       "outlines_color": 0,
       "type": "Voxels",
       "visible": true,
       "voxels": {
        "dtype": "uint8",
        "shape": [
         1,
         1,
         10
        ]
       },
       "wireframe": false
      }
     },
     "9ec0e03e94c54433930bf232070bbea0": {
      "model_module": "@jupyter-widgets/base",
      "model_module_version": "1.2.0",
      "model_name": "LayoutModel",
      "state": {}
     },
     "9eeeb3f47bff4ce0b2774c29acac13bf": {
      "buffers": [
       {
        "data": "eNrbUOTDENRylwEADvwDIg==",
        "encoding": "base64",
        "path": [
         "color_map",
         "compressed_buffer"
        ]
       },
       {
        "data": "eNpjYFBwZICDBQ4QusEeKmCPkAOLIfEhYgB/zAP9",
        "encoding": "base64",
        "path": [
         "model_matrix",
         "compressed_buffer"
        ]
       },
       {
        "data": "eNpjZIQCJgAAQgAM",
        "encoding": "base64",
        "path": [
         "voxels",
         "compressed_buffer"
        ]
       }
      ],
      "model_module": "k3d",
      "model_module_version": "2.7.4",
      "model_name": "ObjectModel",
      "state": {
       "_view_count": null,
       "_view_module": null,
       "_view_module_version": "",
       "_view_name": null,
       "color_map": {
        "dtype": "uint32",
        "shape": [
         2
        ]
       },
       "compression_level": 0,
       "id": 4565692080,
       "model_matrix": {
        "dtype": "float32",
        "shape": [
         4,
         4
        ]
       },
       "name": "Voxels #1",
       "opacity": 1,
       "outlines": false,
       "outlines_color": 0,
       "type": "Voxels",
       "visible": true,
       "voxels": {
        "dtype": "uint8",
        "shape": [
         1,
         1,
         10
        ]
       },
       "wireframe": false
      }
     },
     "9f4f90e452dc47449113f2a565fff64d": {
      "buffers": [
       {
        "data": "eNoDAAAAAAE=",
        "encoding": "base64",
        "path": [
         "colors",
         "compressed_buffer"
        ]
       },
       {
        "data": "eNpjYGiwZ8AAxIsBAF7EAv0=",
        "encoding": "base64",
        "path": [
         "model_matrix",
         "compressed_buffer"
        ]
       },
       {
        "data": "eNoDAAAAAAE=",
        "encoding": "base64",
        "path": [
         "opacities",
         "compressed_buffer"
        ]
       },
       {
        "data": "eNpjYGCwZ4DjA0hsBQcYm5EhwQEhPgGJvQFJzQUk8Q9IbA5HBFsCzgYAxoYLzw==",
        "encoding": "base64",
        "path": [
         "positions",
         "compressed_buffer"
        ]
       }
      ],
      "model_module": "k3d",
      "model_module_version": "2.7.4",
      "model_name": "ObjectModel",
      "state": {
       "_view_count": null,
       "_view_module": null,
       "_view_module_version": "",
       "_view_name": null,
       "color": 5010096,
       "colorLegend": false,
       "colors": {
        "dtype": "uint32",
        "shape": [
         0
        ]
       },
       "compression_level": 0,
       "id": 4941569328,
       "mesh_detail": 2,
       "model_matrix": {
        "dtype": "float32",
        "shape": [
         4,
         4
        ]
       },
       "name": "Points #1",
       "opacities": {
        "dtype": "float32",
        "shape": [
         0
        ]
       },
       "opacity": 1,
       "point_size": 0.25,
       "positions": {
        "dtype": "float32",
        "shape": [
         10,
         3
        ]
       },
       "shader": "3dSpecular",
       "type": "Points",
       "visible": true
      }
     },
     "9fb8f30508ae46349b428c52e8a14c65": {
      "buffers": [
       {
        "data": "eNoLarnLEDSIMQBtm0P5",
        "encoding": "base64",
        "path": [
         "colors",
         "compressed_buffer"
        ]
       },
       {
        "data": "eNpjYGiwZ8AAxIsBAF7EAv0=",
        "encoding": "base64",
        "path": [
         "model_matrix",
         "compressed_buffer"
        ]
       },
       {
        "data": "eNpjYGCwZ4CDA0hsBQcYi5EhwQEhPgGJvQFJzQUk8Q9IbA5HBFsCia2BxLZwRJjjgcSOQGJnIKmvQGK3ILF7kNhTkNhz4GwAXpANkA==",
        "encoding": "base64",
        "path": [
         "origins",
         "compressed_buffer"
        ]
       },
       {
        "data": "eNpjYACBBnsIHv5sALlrHdk=",
        "encoding": "base64",
        "path": [
         "vectors",
         "compressed_buffer"
        ]
       }
      ],
      "model_module": "k3d",
      "model_module_version": "2.7.4",
      "model_name": "ObjectModel",
      "state": {
       "_view_count": null,
       "_view_module": null,
       "_view_module_version": "",
       "_view_name": null,
       "colors": {
        "dtype": "uint32",
        "shape": [
         20,
         2
        ]
       },
       "compression_level": 0,
       "head_color": 255,
       "head_size": 1,
       "id": 4926621152,
       "label_size": 1,
       "labels": [],
       "line_width": 0.01,
       "model_matrix": {
        "dtype": "float32",
        "shape": [
         4,
         4
        ]
       },
       "name": "Vectors #1",
       "origin_color": 255,
       "origins": {
        "dtype": "float32",
        "shape": [
         20,
         3
        ]
       },
       "type": "Vectors",
       "use_head": true,
       "vectors": {
        "dtype": "float32",
        "shape": [
         20,
         3
        ]
       },
       "visible": true
      }
     },
     "a07de4fb4a7d41cb9292c2ea8e193abd": {
      "model_module": "k3d",
      "model_module_version": "2.7.4",
      "model_name": "PlotModel",
      "state": {
       "_backend_version": "2.7.4",
       "_dom_classes": [],
       "_view_count": null,
       "antialias": 3,
       "auto_rendering": true,
       "axes": [
        "x (nm)",
        "y (nm)",
        "z (nm)"
       ],
       "axes_helper": 1,
       "background_color": 16777215,
       "camera": [
        117.93168005446974,
        -177.52251999788558,
        14.318168002094316,
        -0.2499999664723873,
        -0.2499999664723873,
        2.5,
        0,
        0,
        1
       ],
       "camera_animation": [],
       "camera_auto_fit": true,
       "camera_fov": 60,
       "camera_no_pan": false,
       "camera_no_rotate": false,
       "camera_no_zoom": false,
       "clipping_planes": [],
       "colorbar_object_id": -1,
       "fps": 25,
       "fps_meter": false,
       "grid": [
        -1,
        -1,
        -1,
        1,
        1,
        1
       ],
       "grid_auto_fit": true,
       "grid_visible": true,
       "height": 512,
       "layout": "IPY_MODEL_71d0dd588c9642d8815c45aec3519622",
       "lighting": 1.5,
       "menu_visibility": true,
       "mode": "view",
       "name": null,
       "object_ids": [
        4931566800
       ],
       "rendering_steps": 1,
       "screenshot": "",
       "screenshot_scale": 2,
       "snapshot": "",
       "time": 0,
       "voxel_paint_color": 0
      }
     },
     "a149f5a18f9f4ffe961ccfa91170c6b6": {
      "buffers": [
       {
        "data": "eNoLarnLEERFDABnGyH9",
        "encoding": "base64",
        "path": [
         "colors",
         "compressed_buffer"
        ]
       },
       {
        "data": "eNpjYGiwZ8AAxIsBAF7EAv0=",
        "encoding": "base64",
        "path": [
         "model_matrix",
         "compressed_buffer"
        ]
       },
       {
        "data": "eNpjYGiwZ2BgsD97hgdEOyDYDkjsBiT2Agx2WtozO0aGA3A2A8MDJDaDI4ItAGcDAHQcHE0=",
        "encoding": "base64",
        "path": [
         "origins",
         "compressed_buffer"
        ]
       },
       {
        "data": "eNpjYGjYzwAEZ8+c2ctAOtseyrYllQ0AcQMmyw==",
        "encoding": "base64",
        "path": [
         "vectors",
         "compressed_buffer"
        ]
       }
      ],
      "model_module": "k3d",
      "model_module_version": "2.7.4",
      "model_name": "ObjectModel",
      "state": {
       "_view_count": null,
       "_view_module": null,
       "_view_module_version": "",
       "_view_name": null,
       "colorLegend": false,
       "colors": {
        "dtype": "uint32",
        "shape": [
         10,
         2
        ]
       },
       "compression_level": 0,
       "head_color": 255,
       "head_size": 3,
       "id": 4720803408,
       "label_size": 1,
       "labels": [],
       "line_width": 0.01,
       "model_matrix": {
        "dtype": "float32",
        "shape": [
         4,
         4
        ]
       },
       "name": "Vectors #1",
       "origin_color": 255,
       "origins": {
        "dtype": "float32",
        "shape": [
         10,
         3
        ]
       },
       "type": "Vectors",
       "use_head": true,
       "vectors": {
        "dtype": "float32",
        "shape": [
         10,
         3
        ]
       },
       "visible": true
      }
     },
     "a1604cafb340402b9ce7c5209b50c9bc": {
      "model_module": "k3d",
      "model_module_version": "2.7.4",
      "model_name": "PlotModel",
      "state": {
       "_backend_version": "2.7.4",
       "_dom_classes": [],
       "_view_count": null,
       "antialias": 3,
       "auto_rendering": true,
       "axes": [
        "x (nm)",
        "y (nm)",
        "z (nm)"
       ],
       "axes_helper": 1,
       "background_color": 16777215,
       "camera": [
        11.989791630706033,
        -7.993059736650444,
        -1.081534035597549,
        10,
        0.5,
        0.5,
        0.021630095104482088,
        -0.23375544101974793,
        0.9720547992677331
       ],
       "camera_animation": [],
       "camera_auto_fit": true,
       "camera_fov": 60,
       "camera_no_pan": false,
       "camera_no_rotate": false,
       "camera_no_zoom": false,
       "clipping_planes": [],
       "colorbar_object_id": -1,
       "fps": 25,
       "fps_meter": false,
       "grid": [
        -1,
        -1,
        -1,
        1,
        1,
        1
       ],
       "grid_auto_fit": true,
       "grid_visible": true,
       "height": 512,
       "layout": "IPY_MODEL_d86111dc5f5b40f693886e05d73d9570",
       "lighting": 1.5,
       "menu_visibility": true,
       "mode": "view",
       "name": null,
       "object_ids": [
        4928686544,
        4928684720
       ],
       "rendering_steps": 1,
       "screenshot": "",
       "screenshot_scale": 2,
       "snapshot": "",
       "time": 0,
       "voxel_paint_color": 0
      }
     },
     "a1dccb417edc4cafbc07566f084dd2d8": {
      "model_module": "k3d",
      "model_module_version": "2.7.4",
      "model_name": "PlotModel",
      "state": {
       "_backend_version": "2.7.4",
       "_dom_classes": [],
       "_view_count": null,
       "antialias": 3,
       "auto_rendering": true,
       "axes": [
        "x (nm)",
        "y (nm)",
        "z (nm)"
       ],
       "axes_helper": 1,
       "background_color": 16777215,
       "camera": [
        13.49907789686298,
        -12.080934480711454,
        1.3387290249854158,
        5.111788243055344,
        0.5,
        0.5000000596046448,
        0,
        0,
        1
       ],
       "camera_animation": [],
       "camera_auto_fit": true,
       "camera_fov": 60,
       "camera_no_pan": false,
       "camera_no_rotate": false,
       "camera_no_zoom": false,
       "clipping_planes": [],
       "colorbar_object_id": -1,
       "fps": 25,
       "fps_meter": false,
       "grid": [
        -1,
        -1,
        -1,
        1,
        1,
        1
       ],
       "grid_auto_fit": true,
       "grid_visible": true,
       "height": 512,
       "layout": "IPY_MODEL_81e21e8bb909488b81cc00284d7b0a48",
       "lighting": 1.5,
       "menu_visibility": true,
       "mode": "view",
       "name": null,
       "object_ids": [
        4932582896,
        4932502288
       ],
       "rendering_steps": 1,
       "screenshot": "",
       "screenshot_scale": 2,
       "snapshot": "",
       "time": 0,
       "voxel_paint_color": 0
      }
     },
     "a26d0e711cdb438ca704a7fbc9e52f0d": {
      "model_module": "@jupyter-widgets/base",
      "model_module_version": "1.2.0",
      "model_name": "LayoutModel",
      "state": {}
     },
     "a2ce40195fee47408ea7fe94b7ad917b": {
      "model_module": "@jupyter-widgets/base",
      "model_module_version": "1.2.0",
      "model_name": "LayoutModel",
      "state": {}
     },
     "a39894bc1c5d4396b0c3ffc98e2a1b93": {
      "model_module": "@jupyter-widgets/base",
      "model_module_version": "1.2.0",
      "model_name": "LayoutModel",
      "state": {}
     },
     "a3b018ffd1b2483f8ae194c587f8b4ad": {
      "model_module": "@jupyter-widgets/base",
      "model_module_version": "1.2.0",
      "model_name": "LayoutModel",
      "state": {}
     },
     "a406489801a647c1b6c4a8c1170bb10c": {
      "buffers": [
       {
        "data": "eNoDAAAAAAE=",
        "encoding": "base64",
        "path": [
         "colors",
         "compressed_buffer"
        ]
       },
       {
        "data": "eNpjYGiwZ8AAxIsBAF7EAv0=",
        "encoding": "base64",
        "path": [
         "model_matrix",
         "compressed_buffer"
        ]
       },
       {
        "data": "eNoDAAAAAAE=",
        "encoding": "base64",
        "path": [
         "opacities",
         "compressed_buffer"
        ]
       },
       {
        "data": "eNpjYGiwY2BgsIdgB3sEewGczcjwAElcwAHBNnBAqAlAEi9AYncgsWcgsVcgsXcgmXMCiX0Dif0CSf0PJDaLI4LNg8QWQWLLwNkArvAYXQ==",
        "encoding": "base64",
        "path": [
         "positions",
         "compressed_buffer"
        ]
       }
      ],
      "model_module": "k3d",
      "model_module_version": "2.7.4",
      "model_name": "ObjectModel",
      "state": {
       "_view_count": null,
       "_view_module": null,
       "_view_module_version": "",
       "_view_name": null,
       "color": 5010096,
       "colorLegend": false,
       "colors": {
        "dtype": "uint32",
        "shape": [
         0
        ]
       },
       "compression_level": 0,
       "id": 4756853040,
       "mesh_detail": 2,
       "model_matrix": {
        "dtype": "float32",
        "shape": [
         4,
         4
        ]
       },
       "name": "Points #1",
       "opacities": {
        "dtype": "float32",
        "shape": [
         0
        ]
       },
       "opacity": 1,
       "point_size": 0.125,
       "positions": {
        "dtype": "float32",
        "shape": [
         20,
         3
        ]
       },
       "shader": "3dSpecular",
       "type": "Points",
       "visible": true
      }
     },
     "a4a0e628741242caa63d744295b560e6": {
      "model_module": "@jupyter-widgets/output",
      "model_module_version": "1.0.0",
      "model_name": "OutputModel",
      "state": {
       "layout": "IPY_MODEL_18b52bd525fa4b9988685dfe7e557cc0",
       "outputs": [
        {
         "data": {
          "application/vnd.jupyter.widget-view+json": {
           "model_id": "0f670bec705145fd97d1e97321e0c6f6",
           "version_major": 2,
           "version_minor": 0
          },
          "text/plain": "Plot(antialias=3, axes=['x', 'y', 'z'], axes_helper=1.0, background_color=16777215, camera=[2, -3, 0.2, 0.0, 0…"
         },
         "metadata": {},
         "output_type": "display_data"
        }
       ]
      }
     },
     "a6a2e9714fe64199a579a25d0fa20f2e": {
      "buffers": [
       {
        "data": "eNoLarnLEDSIMQBtm0P5",
        "encoding": "base64",
        "path": [
         "colors",
         "compressed_buffer"
        ]
       },
       {
        "data": "eNpjYGiwZ8AAxIsBAF7EAv0=",
        "encoding": "base64",
        "path": [
         "model_matrix",
         "compressed_buffer"
        ]
       },
       {
        "data": "eNpjYGCwZ4CDA0hsBQcYi5EhwQEhPgGJvQFJzQUk8Q9IbA5HBFsCia2BxLZwRJjjgcSOQGJnIKmvQGK3ILF7kNhTkNhz4GwAXpANkA==",
        "encoding": "base64",
        "path": [
         "origins",
         "compressed_buffer"
        ]
       },
       {
        "data": "eNpjYACBBnsIHv5sALlrHdk=",
        "encoding": "base64",
        "path": [
         "vectors",
         "compressed_buffer"
        ]
       }
      ],
      "model_module": "k3d",
      "model_module_version": "2.7.4",
      "model_name": "ObjectModel",
      "state": {
       "_view_count": null,
       "_view_module": null,
       "_view_module_version": "",
       "_view_name": null,
       "colors": {
        "dtype": "uint32",
        "shape": [
         20,
         2
        ]
       },
       "compression_level": 0,
       "head_color": 255,
       "head_size": 1,
       "id": 4554423168,
       "label_size": 1,
       "labels": [],
       "line_width": 0.01,
       "model_matrix": {
        "dtype": "float32",
        "shape": [
         4,
         4
        ]
       },
       "name": "Vectors #1",
       "origin_color": 255,
       "origins": {
        "dtype": "float32",
        "shape": [
         20,
         3
        ]
       },
       "type": "Vectors",
       "use_head": true,
       "vectors": {
        "dtype": "float32",
        "shape": [
         20,
         3
        ]
       },
       "visible": true
      }
     },
     "a7830e4d423b4c06813b00a4d02d3d82": {
      "model_module": "@jupyter-widgets/output",
      "model_module_version": "1.0.0",
      "model_name": "OutputModel",
      "state": {
       "layout": "IPY_MODEL_0aebf63d016e4c3da4d3165fb7e62b1f",
       "outputs": [
        {
         "data": {
          "application/vnd.jupyter.widget-view+json": {
           "model_id": "31320933ac064b519bcca5b807bcd70c",
           "version_major": 2,
           "version_minor": 0
          },
          "text/plain": "Plot(antialias=3, axes=['x', 'y', 'z'], axes_helper=1.0, background_color=16777215, camera=[2, -3, 0.2, 0.0, 0…"
         },
         "metadata": {},
         "output_type": "display_data"
        }
       ]
      }
     },
     "a8170656ecf04d7a967012bbcb70f04b": {
      "model_module": "@jupyter-widgets/base",
      "model_module_version": "1.2.0",
      "model_name": "LayoutModel",
      "state": {}
     },
     "a82429b9e62949ddb077b7f023384e52": {
      "model_module": "@jupyter-widgets/output",
      "model_module_version": "1.0.0",
      "model_name": "OutputModel",
      "state": {
       "layout": "IPY_MODEL_8c7646c2797a472380b4738e222f35db",
       "outputs": [
        {
         "data": {
          "application/vnd.jupyter.widget-view+json": {
           "model_id": "b723fba7d5f34f839ee960ff2b4c215c",
           "version_major": 2,
           "version_minor": 0
          },
          "text/plain": "Plot(antialias=3, axes=['x', 'y', 'z'], axes_helper=1.0, background_color=16777215, camera=[2, -3, 0.2, 0.0, 0…"
         },
         "metadata": {},
         "output_type": "display_data"
        }
       ]
      }
     },
     "a854f0a2288b437ca4fd82ec8c96195a": {
      "model_module": "k3d",
      "model_module_version": "2.7.4",
      "model_name": "PlotModel",
      "state": {
       "_backend_version": "2.7.4",
       "_dom_classes": [],
       "_view_count": null,
       "antialias": 3,
       "auto_rendering": true,
       "axes": [
        "x (nm)",
        "y (nm)",
        "z (nm)"
       ],
       "axes_helper": 1,
       "background_color": 16777215,
       "camera": [
        87.33342812297133,
        -80.05963911696105,
        179.95897996031644,
        -0.2499999664723873,
        -0.2499999664723873,
        2.5,
        -0.4994480360945475,
        0.6288438282336882,
        0.5959086330417608
       ],
       "camera_animation": [],
       "camera_auto_fit": true,
       "camera_fov": 60,
       "camera_no_pan": false,
       "camera_no_rotate": false,
       "camera_no_zoom": false,
       "clipping_planes": [],
       "colorbar_object_id": -1,
       "fps": 25,
       "fps_meter": false,
       "grid": [
        -1,
        -1,
        -1,
        1,
        1,
        1
       ],
       "grid_auto_fit": true,
       "grid_visible": true,
       "height": 512,
       "layout": "IPY_MODEL_9a206b3194d34844870f5fcf8eba6579",
       "lighting": 1.5,
       "menu_visibility": true,
       "mode": "view",
       "name": null,
       "object_ids": [
        4964266192
       ],
       "rendering_steps": 1,
       "screenshot": "",
       "screenshot_scale": 2,
       "snapshot": "",
       "time": 0,
       "voxel_paint_color": 0
      }
     },
     "a86a5d52f4224511a5b61a7b86d56ef3": {
      "model_module": "@jupyter-widgets/output",
      "model_module_version": "1.0.0",
      "model_name": "OutputModel",
      "state": {
       "layout": "IPY_MODEL_0f16a8c0367e4555b9905ee404cf3d35",
       "outputs": [
        {
         "data": {
          "application/vnd.jupyter.widget-view+json": {
           "model_id": "197d7acb15524e60905d9f0c82a0aa17",
           "version_major": 2,
           "version_minor": 0
          },
          "text/plain": "Plot(antialias=3, axes=['x', 'y', 'z'], axes_helper=1.0, background_color=16777215, camera=[2, -3, 0.2, 0.0, 0…"
         },
         "metadata": {},
         "output_type": "display_data"
        }
       ]
      }
     },
     "a8d3890471f841259dd057b93454af19": {
      "buffers": [
       {
        "data": "eNrzU2Jg8APiDF0IzrPXBOOcMD8wLi4sAOOKvslgnLt6JxhHHb8Nxk63P4OxxYt/KBgmDlMH0wczB2YuzB6YvTB3+EHdBQB7nzdN",
        "encoding": "base64",
        "path": [
         "colors",
         "compressed_buffer"
        ]
       },
       {
        "data": "eNpjYGiwZ8AAxIsBAF7EAv0=",
        "encoding": "base64",
        "path": [
         "model_matrix",
         "compressed_buffer"
        ]
       },
       {
        "data": "eNpL+iNvz8DAYG+9uMa++e1DMHtHSK59Y7yFA4jt9DvYXq67Fsz+9MoIKL8AzPbS5bU3PrTfgRHI7i4+Y3dV8B6YvcGj2W622G8wW0WV2y6om9sRxL7xyN32n7kkmN3g6G/NdEINzl5XYgJXs7nEyRGmV/x7gCPMzBdyCY4wuxgYChxhbpjj1+AIc5vAlw5HmJs1Hk50hPlFlmG2I8yPALp4REo=",
        "encoding": "base64",
        "path": [
         "origins",
         "compressed_buffer"
        ]
       },
       {
        "data": "eNoTfFy/r1aU3bDMrXI/zzb2/ZHLn+sXrIzaz/XHaf8ptS2bWr+p738ZkbN/641bm06tPr2PgaFh//bJQZvnXLm0V0e5Zr+b4JTNVw397BxkE/dPMTy8eX7eT7tNmYb7F6l83JyXa2VffOXRvmeLGLcsZU63F/wvvY/ZlG9LbWIdiG0HYwPV2MHUAPXaw/QCzbSHmQm0yx5mF9AN9jA3AN1mD3Mb0M32MDcD/WIP84vg43o7mB8BKc9y+Q==",
        "encoding": "base64",
        "path": [
         "vectors",
         "compressed_buffer"
        ]
       }
      ],
      "model_module": "k3d",
      "model_module_version": "2.7.4",
      "model_name": "ObjectModel",
      "state": {
       "_view_count": null,
       "_view_module": null,
       "_view_module_version": "",
       "_view_name": null,
       "colorLegend": false,
       "colors": {
        "dtype": "uint32",
        "shape": [
         20,
         2
        ]
       },
       "compression_level": 0,
       "head_color": 255,
       "head_size": 1,
       "id": 140675200419216,
       "label_size": 1,
       "labels": [],
       "line_width": 0.01,
       "model_matrix": {
        "dtype": "float32",
        "shape": [
         4,
         4
        ]
       },
       "name": "Vectors #1",
       "origin_color": 255,
       "origins": {
        "dtype": "float32",
        "shape": [
         20,
         3
        ]
       },
       "type": "Vectors",
       "use_head": true,
       "vectors": {
        "dtype": "float32",
        "shape": [
         20,
         3
        ]
       },
       "visible": true
      }
     },
     "a9772c6c00e14521bf346c97e3ceb088": {
      "model_module": "k3d",
      "model_module_version": "2.7.4",
      "model_name": "PlotModel",
      "state": {
       "_backend_version": "2.7.4",
       "_dom_classes": [],
       "_view_count": null,
       "antialias": 3,
       "auto_rendering": true,
       "axes": [
        "x (nm)",
        "y (nm)",
        "z (nm)"
       ],
       "axes_helper": 1,
       "background_color": 16777215,
       "camera": [
        4.121840567740637,
        8.571130220438734,
        -0.1312319094826352,
        5,
        0.5,
        0.5,
        0.128206003828607,
        0.14654081770599728,
        0.9808613609110939
       ],
       "camera_animation": [],
       "camera_auto_fit": true,
       "camera_fov": 60,
       "camera_no_pan": false,
       "camera_no_rotate": false,
       "camera_no_zoom": false,
       "clipping_planes": [],
       "colorbar_object_id": -1,
       "fps": 25,
       "fps_meter": false,
       "grid": [
        -1,
        -1,
        -1,
        1,
        1,
        1
       ],
       "grid_auto_fit": true,
       "grid_visible": true,
       "height": 512,
       "layout": "IPY_MODEL_6340d14a64ad4758aa275ba67848c653",
       "lighting": 1.5,
       "menu_visibility": true,
       "mode": "view",
       "name": null,
       "object_ids": [
        4952766928,
        4952766640
       ],
       "rendering_steps": 1,
       "screenshot": "",
       "screenshot_scale": 2,
       "snapshot": "",
       "time": 0,
       "voxel_paint_color": 0
      }
     },
     "aa4fc9686cf548e6aa36b0f809012875": {
      "buffers": [
       {
        "data": "eNoDAAAAAAE=",
        "encoding": "base64",
        "path": [
         "colors",
         "compressed_buffer"
        ]
       },
       {
        "data": "eNpjYGiwZ8AAxIsBAF7EAv0=",
        "encoding": "base64",
        "path": [
         "model_matrix",
         "compressed_buffer"
        ]
       },
       {
        "data": "eNoDAAAAAAE=",
        "encoding": "base64",
        "path": [
         "opacities",
         "compressed_buffer"
        ]
       },
       {
        "data": "eNpjYGCwZ4DjA0hsBQcYm5EhwQEhPgGJvQFJzQUk8Q9IbA5HBFsCzgYAxoYLzw==",
        "encoding": "base64",
        "path": [
         "positions",
         "compressed_buffer"
        ]
       }
      ],
      "model_module": "k3d",
      "model_module_version": "2.7.4",
      "model_name": "ObjectModel",
      "state": {
       "_view_count": null,
       "_view_module": null,
       "_view_module_version": "",
       "_view_name": null,
       "color": 5010096,
       "colorLegend": false,
       "colors": {
        "dtype": "uint32",
        "shape": [
         0
        ]
       },
       "compression_level": 0,
       "id": 4923355584,
       "mesh_detail": 2,
       "model_matrix": {
        "dtype": "float32",
        "shape": [
         4,
         4
        ]
       },
       "name": "Points #1",
       "opacities": {
        "dtype": "float32",
        "shape": [
         0
        ]
       },
       "opacity": 1,
       "point_size": 0.25,
       "positions": {
        "dtype": "float32",
        "shape": [
         10,
         3
        ]
       },
       "shader": "3dSpecular",
       "type": "Points",
       "visible": true
      }
     },
     "ab0217f6b19046f0bd995ff082eb7388": {
      "model_module": "@jupyter-widgets/base",
      "model_module_version": "1.2.0",
      "model_name": "LayoutModel",
      "state": {}
     },
     "ab12ce912da84506bd297b60986fd784": {
      "buffers": [
       {
        "data": "eNoLarnLEERFDABnGyH9",
        "encoding": "base64",
        "path": [
         "colors",
         "compressed_buffer"
        ]
       },
       {
        "data": "eNpjYGiwZ8AAxIsBAF7EAv0=",
        "encoding": "base64",
        "path": [
         "model_matrix",
         "compressed_buffer"
        ]
       },
       {
        "data": "eNpjYGiwZ2BgAGIw7YBgOyCxG5DYC7CwGYwZGQ7A2QwMD5DYDI4ItgCcDQCUDg3j",
        "encoding": "base64",
        "path": [
         "origins",
         "compressed_buffer"
        ]
       },
       {
        "data": "eNpjYGjYzwAE///XA2mS2fZQtj2pbACvtSfP",
        "encoding": "base64",
        "path": [
         "vectors",
         "compressed_buffer"
        ]
       }
      ],
      "model_module": "k3d",
      "model_module_version": "2.7.4",
      "model_name": "ObjectModel",
      "state": {
       "_view_count": null,
       "_view_module": null,
       "_view_module_version": "",
       "_view_name": null,
       "colorLegend": false,
       "colors": {
        "dtype": "uint32",
        "shape": [
         10,
         2
        ]
       },
       "compression_level": 0,
       "head_color": 255,
       "head_size": 3,
       "id": 4756856208,
       "label_size": 1,
       "labels": [],
       "line_width": 0.01,
       "model_matrix": {
        "dtype": "float32",
        "shape": [
         4,
         4
        ]
       },
       "name": "Vectors #1",
       "origin_color": 255,
       "origins": {
        "dtype": "float32",
        "shape": [
         10,
         3
        ]
       },
       "type": "Vectors",
       "use_head": true,
       "vectors": {
        "dtype": "float32",
        "shape": [
         10,
         3
        ]
       },
       "visible": true
      }
     },
     "ab33edba721241819d3c4ce78a202110": {
      "model_module": "@jupyter-widgets/base",
      "model_module_version": "1.2.0",
      "model_name": "LayoutModel",
      "state": {}
     },
     "abfc05db468b41c2939adef958567bde": {
      "model_module": "k3d",
      "model_module_version": "2.7.4",
      "model_name": "PlotModel",
      "state": {
       "_backend_version": "2.7.4",
       "_dom_classes": [],
       "_view_count": null,
       "antialias": 3,
       "auto_rendering": true,
       "axes": [
        "x (nm)",
        "y (nm)",
        "z (nm)"
       ],
       "axes_helper": 1,
       "background_color": 16777215,
       "camera": [
        26.035482368337913,
        -23.553223552506868,
        2.103548236833818,
        10,
        0.5,
        0.5,
        0,
        0,
        1
       ],
       "camera_animation": [],
       "camera_auto_fit": true,
       "camera_fov": 60,
       "camera_no_pan": false,
       "camera_no_rotate": false,
       "camera_no_zoom": false,
       "clipping_planes": [],
       "colorbar_object_id": -1,
       "fps": 25,
       "fps_meter": false,
       "grid": [
        -1,
        -1,
        -1,
        1,
        1,
        1
       ],
       "grid_auto_fit": true,
       "grid_visible": true,
       "height": 512,
       "layout": "IPY_MODEL_10d1eff566534d4589e9cbbd3a12a5b9",
       "lighting": 1.5,
       "menu_visibility": true,
       "mode": "view",
       "name": null,
       "object_ids": [
        4925029728,
        4554428624
       ],
       "rendering_steps": 1,
       "screenshot": "",
       "screenshot_scale": 2,
       "snapshot": "",
       "time": 0,
       "voxel_paint_color": 0
      }
     },
     "ac649cb4cab347f080556495ae064268": {
      "buffers": [
       {
        "data": "eNoDAAAAAAE=",
        "encoding": "base64",
        "path": [
         "colors",
         "compressed_buffer"
        ]
       },
       {
        "data": "eNpjYGiwZ8AAxIsBAF7EAv0=",
        "encoding": "base64",
        "path": [
         "model_matrix",
         "compressed_buffer"
        ]
       },
       {
        "data": "eNoDAAAAAAE=",
        "encoding": "base64",
        "path": [
         "opacities",
         "compressed_buffer"
        ]
       },
       {
        "data": "eNpjYGCwZ4DjA0hsBQcYm5EhwQEhPgGJvQFJzQUk8Q9IbA5HBFsCia2BxLZwRJjjgcSOQGJnIKmvQGK3ILF7kNhTkNhz4GwA3oQXaA==",
        "encoding": "base64",
        "path": [
         "positions",
         "compressed_buffer"
        ]
       }
      ],
      "model_module": "k3d",
      "model_module_version": "2.7.4",
      "model_name": "ObjectModel",
      "state": {
       "_view_count": null,
       "_view_module": null,
       "_view_module_version": "",
       "_view_name": null,
       "color": 5010096,
       "colors": {
        "dtype": "uint32",
        "shape": [
         0
        ]
       },
       "compression_level": 0,
       "id": 4928194400,
       "mesh_detail": 2,
       "model_matrix": {
        "dtype": "float32",
        "shape": [
         4,
         4
        ]
       },
       "name": "Points #1",
       "opacities": {
        "dtype": "float32",
        "shape": [
         0
        ]
       },
       "opacity": 1,
       "point_size": 0.25,
       "positions": {
        "dtype": "float32",
        "shape": [
         20,
         3
        ]
       },
       "shader": "3dSpecular",
       "type": "Points",
       "visible": true
      }
     },
     "ac82213878db45a8b84aa2394d3e532d": {
      "model_module": "@jupyter-widgets/base",
      "model_module_version": "1.2.0",
      "model_name": "LayoutModel",
      "state": {}
     },
     "acf3daf2dba542fd82bcfb7bc78acade": {
      "model_module": "@jupyter-widgets/base",
      "model_module_version": "1.2.0",
      "model_name": "LayoutModel",
      "state": {}
     },
     "acfd4836786a416f84375acc531ec650": {
      "model_module": "k3d",
      "model_module_version": "2.7.4",
      "model_name": "PlotModel",
      "state": {
       "_backend_version": "2.7.4",
       "_dom_classes": [],
       "_view_count": null,
       "antialias": 3,
       "auto_rendering": true,
       "axes": [
        "x (nm)",
        "y (nm)",
        "z (nm)"
       ],
       "axes_helper": 1,
       "background_color": 16777215,
       "camera": [
        12.773946283633382,
        -11.16091942966476,
        1.2773946241486662,
        5,
        0.49999999578531495,
        0.49999999578531495,
        0,
        0,
        1
       ],
       "camera_animation": [],
       "camera_auto_fit": true,
       "camera_fov": 60,
       "camera_no_pan": false,
       "camera_no_rotate": false,
       "camera_no_zoom": false,
       "clipping_planes": [],
       "colorbar_object_id": -1,
       "fps": 25,
       "fps_meter": false,
       "grid": [
        -1,
        -1,
        -1,
        1,
        1,
        1
       ],
       "grid_auto_fit": true,
       "grid_visible": true,
       "height": 512,
       "layout": "IPY_MODEL_b6ab1359e0c5455eb9898764c3821920",
       "lighting": 1.5,
       "menu_visibility": true,
       "mode": "view",
       "name": null,
       "object_ids": [
        4932504448,
        4575332672
       ],
       "rendering_steps": 1,
       "screenshot": "",
       "screenshot_scale": 2,
       "snapshot": "",
       "time": 0,
       "voxel_paint_color": 0
      }
     },
     "ad146fd1f2b44638a7640adedb8d6c68": {
      "model_module": "k3d",
      "model_module_version": "2.7.4",
      "model_name": "PlotModel",
      "state": {
       "_backend_version": "2.7.4",
       "_dom_classes": [],
       "_view_count": null,
       "antialias": 3,
       "auto_rendering": true,
       "axes": [
        "x (nm)",
        "y (nm)",
        "z (nm)"
       ],
       "axes_helper": 1,
       "background_color": 16777215,
       "camera": [
        13.351749805292414,
        -12.027624618531656,
        1.3351749745687753,
        5.000000059604645,
        0.5,
        0.5,
        0,
        0,
        1
       ],
       "camera_animation": [],
       "camera_auto_fit": true,
       "camera_fov": 60,
       "camera_no_pan": false,
       "camera_no_rotate": false,
       "camera_no_zoom": false,
       "clipping_planes": [],
       "colorbar_object_id": -1,
       "fps": 25,
       "fps_meter": false,
       "grid": [
        -1,
        -1,
        -1,
        1,
        1,
        1
       ],
       "grid_auto_fit": true,
       "grid_visible": true,
       "height": 512,
       "layout": "IPY_MODEL_595767e8afcd45269eeb08a153fb19e7",
       "lighting": 1.5,
       "menu_visibility": true,
       "mode": "view",
       "name": null,
       "object_ids": [
        4926619856,
        4886729008
       ],
       "rendering_steps": 1,
       "screenshot": "",
       "screenshot_scale": 2,
       "snapshot": "",
       "time": 0,
       "voxel_paint_color": 0
      }
     },
     "ad7b12859e1247d89ef7e7e34674e0cc": {
      "buffers": [
       {
        "data": "eNoDAAAAAAE=",
        "encoding": "base64",
        "path": [
         "colors",
         "compressed_buffer"
        ]
       },
       {
        "data": "eNpjYGiwZ8AAxIsBAF7EAv0=",
        "encoding": "base64",
        "path": [
         "model_matrix",
         "compressed_buffer"
        ]
       },
       {
        "data": "eNoDAAAAAAE=",
        "encoding": "base64",
        "path": [
         "opacities",
         "compressed_buffer"
        ]
       },
       {
        "data": "eNpjYGCwZ4DjA0hsBQcYm5EhwQEhPgGJvQFJzQUk8Q9IbA5HBFsCia2BxLZwRJjjgcSOQGJnIKmvQGK3ILF7kNhTkNhz4GwA3oQXaA==",
        "encoding": "base64",
        "path": [
         "positions",
         "compressed_buffer"
        ]
       }
      ],
      "model_module": "k3d",
      "model_module_version": "2.7.4",
      "model_name": "ObjectModel",
      "state": {
       "_view_count": null,
       "_view_module": null,
       "_view_module_version": "",
       "_view_name": null,
       "color": 5010096,
       "colors": {
        "dtype": "uint32",
        "shape": [
         0
        ]
       },
       "compression_level": 0,
       "id": 4928687504,
       "mesh_detail": 2,
       "model_matrix": {
        "dtype": "float32",
        "shape": [
         4,
         4
        ]
       },
       "name": "Points #1",
       "opacities": {
        "dtype": "float32",
        "shape": [
         0
        ]
       },
       "opacity": 1,
       "point_size": 0.25,
       "positions": {
        "dtype": "float32",
        "shape": [
         20,
         3
        ]
       },
       "shader": "3dSpecular",
       "type": "Points",
       "visible": true
      }
     },
     "ad90296c8e0a48749b04f9defa542d39": {
      "model_module": "@jupyter-widgets/base",
      "model_module_version": "1.2.0",
      "model_name": "LayoutModel",
      "state": {}
     },
     "adee24fc22a94d71b05a3b7692ec86b9": {
      "buffers": [
       {
        "data": "eNoLarnLEERFDABnGyH9",
        "encoding": "base64",
        "path": [
         "colors",
         "compressed_buffer"
        ]
       },
       {
        "data": "eNpjYGiwZ8AAxIsBAF7EAv0=",
        "encoding": "base64",
        "path": [
         "model_matrix",
         "compressed_buffer"
        ]
       },
       {
        "data": "eNpjYGiw//v/vx0Dg5yZEJDNwMAAwiaMDAwOIPa9//X2v/7Xg9nfgOx//+c7QNTsMGViWABnszIcgKv5//8/XO+///yOMDMZGAQcGcFsOTMAY/oiHw==",
        "encoding": "base64",
        "path": [
         "origins",
         "compressed_buffer"
        ]
       },
       {
        "data": "eNpjYGjYX6puZ7Lxf739NiB+Juxr9AdIfwPi+6a3Dff8r99/DIhvHZ1v8BpI3wfiuPA5hpdA8kAMZG8EsYFq7IFqNoDUfAOpM729EaQXaOZ+oJmbQGYyMDTYA+3aArILALiUR+M=",
        "encoding": "base64",
        "path": [
         "vectors",
         "compressed_buffer"
        ]
       }
      ],
      "model_module": "k3d",
      "model_module_version": "2.7.4",
      "model_name": "ObjectModel",
      "state": {
       "_view_count": null,
       "_view_module": null,
       "_view_module_version": "",
       "_view_name": null,
       "colorLegend": false,
       "colors": {
        "dtype": "uint32",
        "shape": [
         10,
         2
        ]
       },
       "compression_level": 0,
       "head_color": 255,
       "head_size": 3,
       "id": 4755758480,
       "label_size": 1,
       "labels": [],
       "line_width": 0.01,
       "model_matrix": {
        "dtype": "float32",
        "shape": [
         4,
         4
        ]
       },
       "name": "Vectors #1",
       "origin_color": 255,
       "origins": {
        "dtype": "float32",
        "shape": [
         10,
         3
        ]
       },
       "type": "Vectors",
       "use_head": true,
       "vectors": {
        "dtype": "float32",
        "shape": [
         10,
         3
        ]
       },
       "visible": true
      }
     },
     "ae1199de7b0245cfac2f39eee351357a": {
      "model_module": "k3d",
      "model_module_version": "2.7.4",
      "model_name": "PlotModel",
      "state": {
       "_backend_version": "2.7.4",
       "_dom_classes": [],
       "_view_count": null,
       "antialias": 3,
       "auto_rendering": true,
       "axes": [
        "x (nm)",
        "y (nm)",
        "z (nm)"
       ],
       "axes_helper": 1,
       "background_color": 16777215,
       "camera": [
        13.808236812884905,
        -11.691869607293139,
        1.5115706559381663,
        5.000000059604645,
        0.5000000149011612,
        0.5000000149011612,
        -0.02971564532505258,
        -0.007017801652732968,
        0.9995337567500552
       ],
       "camera_animation": [],
       "camera_auto_fit": true,
       "camera_fov": 60,
       "camera_no_pan": false,
       "camera_no_rotate": false,
       "camera_no_zoom": false,
       "clipping_planes": [],
       "colorbar_object_id": -1,
       "fps": 25,
       "fps_meter": false,
       "grid": [
        -1,
        -1,
        -1,
        1,
        1,
        1
       ],
       "grid_auto_fit": true,
       "grid_visible": true,
       "height": 512,
       "layout": "IPY_MODEL_9ba57622f3784c62a539e145b12e9745",
       "lighting": 1.5,
       "menu_visibility": true,
       "mode": "view",
       "name": null,
       "object_ids": [
        4941569040,
        4941569328
       ],
       "rendering_steps": 1,
       "screenshot": "",
       "screenshot_scale": 2,
       "snapshot": "",
       "time": 0,
       "voxel_paint_color": 0
      }
     },
     "ae9507aee54f41eca28de9cf20eaa2e0": {
      "model_module": "@jupyter-widgets/base",
      "model_module_version": "1.2.0",
      "model_name": "LayoutModel",
      "state": {}
     },
     "aeaebe56b2ed4daf90b5d0172eb558b3": {
      "model_module": "@jupyter-widgets/base",
      "model_module_version": "1.2.0",
      "model_name": "LayoutModel",
      "state": {}
     },
     "aecefd99dc764f80845c7812113a181c": {
      "model_module": "@jupyter-widgets/base",
      "model_module_version": "1.2.0",
      "model_name": "LayoutModel",
      "state": {}
     },
     "afa30ad315ba4cc0a5d7a27908d3580c": {
      "model_module": "@jupyter-widgets/base",
      "model_module_version": "1.2.0",
      "model_name": "LayoutModel",
      "state": {}
     },
     "b030a650f32046db8287837328107c8e": {
      "buffers": [
       {
        "data": "eNrbUOTDENRylwEADvwDIg==",
        "encoding": "base64",
        "path": [
         "color_map",
         "compressed_buffer"
        ]
       },
       {
        "data": "eNpjYFBwZICDBQ4QusEeKmCPkAOLIfEhYgB/zAP9",
        "encoding": "base64",
        "path": [
         "model_matrix",
         "compressed_buffer"
        ]
       },
       {
        "data": "eNpjZIQCJgAAQgAM",
        "encoding": "base64",
        "path": [
         "voxels",
         "compressed_buffer"
        ]
       }
      ],
      "model_module": "k3d",
      "model_module_version": "2.7.4",
      "model_name": "ObjectModel",
      "state": {
       "_view_count": null,
       "_view_module": null,
       "_view_module_version": "",
       "_view_name": null,
       "colorLegend": false,
       "color_map": {
        "dtype": "uint32",
        "shape": [
         2
        ]
       },
       "compression_level": 0,
       "id": 4896434496,
       "model_matrix": {
        "dtype": "float32",
        "shape": [
         4,
         4
        ]
       },
       "name": "Voxels #1",
       "opacity": 1,
       "outlines": false,
       "outlines_color": 0,
       "type": "Voxels",
       "visible": true,
       "voxels": {
        "dtype": "uint8",
        "shape": [
         1,
         1,
         10
        ]
       },
       "wireframe": false
      }
     },
     "b0585a232475454d8fd63b7231cc5698": {
      "buffers": [
       {
        "data": "eNoDAAAAAAE=",
        "encoding": "base64",
        "path": [
         "colors",
         "compressed_buffer"
        ]
       },
       {
        "data": "eNpjYGiwZ8AAxIsBAF7EAv0=",
        "encoding": "base64",
        "path": [
         "model_matrix",
         "compressed_buffer"
        ]
       },
       {
        "data": "eNoDAAAAAAE=",
        "encoding": "base64",
        "path": [
         "opacities",
         "compressed_buffer"
        ]
       },
       {
        "data": "eNpjYGCwZ4DjA0hsBQcYm5EhwQEhPgGJvQFJzQUk8Q9IbA5HBFsCzgYAxoYLzw==",
        "encoding": "base64",
        "path": [
         "positions",
         "compressed_buffer"
        ]
       }
      ],
      "model_module": "k3d",
      "model_module_version": "2.7.4",
      "model_name": "ObjectModel",
      "state": {
       "_view_count": null,
       "_view_module": null,
       "_view_module_version": "",
       "_view_name": null,
       "color": 5010096,
       "colorLegend": false,
       "colors": {
        "dtype": "uint32",
        "shape": [
         0
        ]
       },
       "compression_level": 0,
       "id": 4941567120,
       "mesh_detail": 2,
       "model_matrix": {
        "dtype": "float32",
        "shape": [
         4,
         4
        ]
       },
       "name": "Points #1",
       "opacities": {
        "dtype": "float32",
        "shape": [
         0
        ]
       },
       "opacity": 1,
       "point_size": 0.25,
       "positions": {
        "dtype": "float32",
        "shape": [
         10,
         3
        ]
       },
       "shader": "3dSpecular",
       "type": "Points",
       "visible": true
      }
     },
     "b098602f33e74f94b152636c0ffeb19e": {
      "model_module": "@jupyter-widgets/base",
      "model_module_version": "1.2.0",
      "model_name": "LayoutModel",
      "state": {}
     },
     "b0c03eff4e3c47d693b3e00d6080b1d5": {
      "model_module": "@jupyter-widgets/base",
      "model_module_version": "1.2.0",
      "model_name": "LayoutModel",
      "state": {}
     },
     "b0ffa880421c49bd85bbd6d1c7f48422": {
      "buffers": [
       {
        "data": "eNoDAAAAAAE=",
        "encoding": "base64",
        "path": [
         "colors",
         "compressed_buffer"
        ]
       },
       {
        "data": "eNpjYGiwZ8AAxIsBAF7EAv0=",
        "encoding": "base64",
        "path": [
         "model_matrix",
         "compressed_buffer"
        ]
       },
       {
        "data": "eNoDAAAAAAE=",
        "encoding": "base64",
        "path": [
         "opacities",
         "compressed_buffer"
        ]
       },
       {
        "data": "eNpjYGCwZ4DjA0hsBQcYm5EhwQEhPgGJvQFJzQUk8Q9IbA5HBFsCia2BxLZwRJjjgcSOQGJnIKmvQGK3ILF7kNhTkNhz4GwA3oQXaA==",
        "encoding": "base64",
        "path": [
         "positions",
         "compressed_buffer"
        ]
       }
      ],
      "model_module": "k3d",
      "model_module_version": "2.7.4",
      "model_name": "ObjectModel",
      "state": {
       "_view_count": null,
       "_view_module": null,
       "_view_module_version": "",
       "_view_name": null,
       "color": 5010096,
       "colorLegend": false,
       "colors": {
        "dtype": "uint32",
        "shape": [
         0
        ]
       },
       "compression_level": 0,
       "id": 140675199580944,
       "mesh_detail": 2,
       "model_matrix": {
        "dtype": "float32",
        "shape": [
         4,
         4
        ]
       },
       "name": "Points #1",
       "opacities": {
        "dtype": "float32",
        "shape": [
         0
        ]
       },
       "opacity": 1,
       "point_size": 0.25,
       "positions": {
        "dtype": "float32",
        "shape": [
         20,
         3
        ]
       },
       "shader": "3dSpecular",
       "type": "Points",
       "visible": true
      }
     },
     "b24c89539fee41f194de1a0413cfd23c": {
      "model_module": "k3d",
      "model_module_version": "2.7.4",
      "model_name": "PlotModel",
      "state": {
       "_backend_version": "2.7.4",
       "_dom_classes": [],
       "_view_count": null,
       "antialias": 3,
       "auto_rendering": true,
       "axes": [
        "x (nm)",
        "y (nm)",
        "z (nm)"
       ],
       "axes_helper": 1,
       "background_color": 16777215,
       "camera": [
        -1.8898620674222197,
        -1.884219696315633,
        2.080996235877908,
        5,
        0.49999999578531495,
        0.49999999578531495,
        0.10435057568961004,
        0.17441907950065333,
        0.9791266220767348
       ],
       "camera_animation": [],
       "camera_auto_fit": true,
       "camera_fov": 60,
       "camera_no_pan": false,
       "camera_no_rotate": false,
       "camera_no_zoom": false,
       "clipping_planes": [],
       "colorbar_object_id": -1,
       "fps": 25,
       "fps_meter": false,
       "grid": [
        -1,
        -1,
        -1,
        1,
        1,
        1
       ],
       "grid_auto_fit": true,
       "grid_visible": true,
       "height": 512,
       "layout": "IPY_MODEL_b99a55b2ed3949d684db274aeb100d4d",
       "lighting": 1.5,
       "menu_visibility": true,
       "mode": "view",
       "name": null,
       "object_ids": [
        4937028272,
        4936079056
       ],
       "rendering_steps": 1,
       "screenshot": "",
       "screenshot_scale": 2,
       "snapshot": "",
       "time": 0,
       "voxel_paint_color": 0
      }
     },
     "b2ef536d6f7a4848baa2fe3597dbb37d": {
      "model_module": "@jupyter-widgets/base",
      "model_module_version": "1.2.0",
      "model_name": "LayoutModel",
      "state": {}
     },
     "b33436ea6ca34931a529b1939a3c9667": {
      "model_module": "k3d",
      "model_module_version": "2.7.4",
      "model_name": "PlotModel",
      "state": {
       "_backend_version": "2.7.4",
       "_dom_classes": [],
       "_view_count": null,
       "antialias": 3,
       "auto_rendering": true,
       "axes": [
        "x (nm)",
        "y (nm)",
        "z (nm)"
       ],
       "axes_helper": 1,
       "background_color": 16777215,
       "camera": [
        13.351749844201674,
        -12.027624766302514,
        1.3351749844201761,
        5,
        0.5,
        0.5,
        0,
        0,
        1
       ],
       "camera_animation": [],
       "camera_auto_fit": true,
       "camera_fov": 60,
       "camera_no_pan": false,
       "camera_no_rotate": false,
       "camera_no_zoom": false,
       "clipping_planes": [],
       "colorbar_object_id": -1,
       "fps": 25,
       "fps_meter": false,
       "grid": [
        -1,
        -1,
        -1,
        1,
        1,
        1
       ],
       "grid_auto_fit": true,
       "grid_visible": true,
       "height": 512,
       "layout": "IPY_MODEL_8f005b43c8ef4176b59d53dbe39bada3",
       "lighting": 1.5,
       "menu_visibility": true,
       "mode": "view",
       "name": null,
       "object_ids": [
        4554432032,
        4554429776
       ],
       "rendering_steps": 1,
       "screenshot": "",
       "screenshot_scale": 2,
       "snapshot": "",
       "time": 0,
       "voxel_paint_color": 0
      }
     },
     "b3aa1a20d70640e18928d1eabb6ebffa": {
      "model_module": "@jupyter-widgets/base",
      "model_module_version": "1.2.0",
      "model_name": "LayoutModel",
      "state": {}
     },
     "b3bc79185bd740b1afd152b8bfe85c4a": {
      "buffers": [
       {
        "data": "eNoDAAAAAAE=",
        "encoding": "base64",
        "path": [
         "colors",
         "compressed_buffer"
        ]
       },
       {
        "data": "eNpjYGiwZ8AAxIsBAF7EAv0=",
        "encoding": "base64",
        "path": [
         "model_matrix",
         "compressed_buffer"
        ]
       },
       {
        "data": "eNoDAAAAAAE=",
        "encoding": "base64",
        "path": [
         "opacities",
         "compressed_buffer"
        ]
       },
       {
        "data": "eNpjYGiwY2BgsIdgB3sEewGczcjwAElcwAHBNnBAqAlAEi9AYncgsWcgsVcgsXcgmXMCiX0Dif0CSf0PJDaLI4LNg8QWQWLLwNkArvAYXQ==",
        "encoding": "base64",
        "path": [
         "positions",
         "compressed_buffer"
        ]
       }
      ],
      "model_module": "k3d",
      "model_module_version": "2.7.4",
      "model_name": "ObjectModel",
      "state": {
       "_view_count": null,
       "_view_module": null,
       "_view_module_version": "",
       "_view_name": null,
       "color": 5010096,
       "colorLegend": false,
       "colors": {
        "dtype": "uint32",
        "shape": [
         0
        ]
       },
       "compression_level": 0,
       "id": 4931565792,
       "mesh_detail": 2,
       "model_matrix": {
        "dtype": "float32",
        "shape": [
         4,
         4
        ]
       },
       "name": "Points #1",
       "opacities": {
        "dtype": "float32",
        "shape": [
         0
        ]
       },
       "opacity": 1,
       "point_size": 0.125,
       "positions": {
        "dtype": "float32",
        "shape": [
         20,
         3
        ]
       },
       "shader": "3dSpecular",
       "type": "Points",
       "visible": true
      }
     },
     "b443811732184964872cab4819a4d172": {
      "buffers": [
       {
        "data": "eNrzU2Jg8APiDF0IzrPXBOOcMD8wLi4sAOOKvslgnLt6JxhHHb8Nxk63P4OxxYt/KBgmDlMH0wczB2YuzB6YvTB3+EHdBQB7nzdN",
        "encoding": "base64",
        "path": [
         "colors",
         "compressed_buffer"
        ]
       },
       {
        "data": "eNpjYGiwZ8AAxIsBAF7EAv0=",
        "encoding": "base64",
        "path": [
         "model_matrix",
         "compressed_buffer"
        ]
       },
       {
        "data": "eNqL/yNvz8TAYG+zuMa+6e1DMHtXSK59Y7yFAyOQ7fI72F6uuxbM/vrKyJ6BYQGY7aPLa298aD+Y3Vd8xu6q4D0we7NHs91ssd8ODEC2liq3XVA3tyOI/eCRu+0/c0kwu8HR35rphBqYzeDkb72uxATMfgFUs7nEyfH///92OkC94t8DwOxtQDNfyCWA2ROBdjEwFDj+A7J9gW6Y49cAZn8Duk3gS4fjXyDbDehmjYcTwezdQL/IMswGs0F+BAA00lvv",
        "encoding": "base64",
        "path": [
         "origins",
         "compressed_buffer"
        ]
       },
       {
        "data": "eNoB8AAP//bif74NFFy0d0Z5vwe2B7+mXka0dalavwb8Qr/79ya0ifYnv+dYbL/z2BG006vLvgAAgL/z4vezwdTSvSwjfL/yRr+zxzFOPkIdYb+tLZazmm75PrVpMb9lH3Oza206P3bU4r4hB82ypANnPxD/G766PwCxfWF+Pxv/Gz7bnwcxfGF+P3vU4j6k4M0yowNnP7dpMT+ViHMzam06P0MdYT85YJYzlW75Pi0jfD+Rab8zvDFOPgAAgD/N7vcz1tTSveZYbD+x1xE02avLvgX8Qj8a8SY0i/YnvwW2Bz9qUEY0dqlav+zifz7V/1s0eEZ5v1rVdaM=",
        "encoding": "base64",
        "path": [
         "vectors",
         "compressed_buffer"
        ]
       }
      ],
      "model_module": "k3d",
      "model_module_version": "2.7.4",
      "model_name": "ObjectModel",
      "state": {
       "_view_count": null,
       "_view_module": null,
       "_view_module_version": "",
       "_view_name": null,
       "colors": {
        "dtype": "uint32",
        "shape": [
         20,
         2
        ]
       },
       "compression_level": 0,
       "head_color": 255,
       "head_size": 1,
       "id": 4928769856,
       "label_size": 1,
       "labels": [],
       "line_width": 0.01,
       "model_matrix": {
        "dtype": "float32",
        "shape": [
         4,
         4
        ]
       },
       "name": "Vectors #1",
       "origin_color": 255,
       "origins": {
        "dtype": "float32",
        "shape": [
         20,
         3
        ]
       },
       "type": "Vectors",
       "use_head": true,
       "vectors": {
        "dtype": "float32",
        "shape": [
         20,
         3
        ]
       },
       "visible": true
      }
     },
     "b459e8bf3dd94762a44805341c24c35b": {
      "model_module": "@jupyter-widgets/base",
      "model_module_version": "1.2.0",
      "model_name": "LayoutModel",
      "state": {}
     },
     "b499969bd17046dca48cadb363b951d6": {
      "model_module": "@jupyter-widgets/output",
      "model_module_version": "1.0.0",
      "model_name": "OutputModel",
      "state": {
       "layout": "IPY_MODEL_316e3e94594d406e854c357695d8f877",
       "outputs": [
        {
         "data": {
          "application/vnd.jupyter.widget-view+json": {
           "model_id": "b24c89539fee41f194de1a0413cfd23c",
           "version_major": 2,
           "version_minor": 0
          },
          "text/plain": "Plot(antialias=3, axes=['x', 'y', 'z'], axes_helper=1.0, background_color=16777215, camera=[2, -3, 0.2, 0.0, 0…"
         },
         "metadata": {},
         "output_type": "display_data"
        }
       ]
      }
     },
     "b507d416477d46eb80cdb3fbc2c9ee81": {
      "model_module": "@jupyter-widgets/base",
      "model_module_version": "1.2.0",
      "model_name": "LayoutModel",
      "state": {}
     },
     "b58904d6792a4ff8b9efe054154a2d34": {
      "model_module": "@jupyter-widgets/output",
      "model_module_version": "1.0.0",
      "model_name": "OutputModel",
      "state": {
       "layout": "IPY_MODEL_f5a294f0d2b840fe92ac5ff30b17a34b",
       "outputs": [
        {
         "data": {
          "application/vnd.jupyter.widget-view+json": {
           "model_id": "a07de4fb4a7d41cb9292c2ea8e193abd",
           "version_major": 2,
           "version_minor": 0
          },
          "text/plain": "Plot(antialias=3, axes=['x', 'y', 'z'], axes_helper=1.0, background_color=16777215, camera=[2, -3, 0.2, 0.0, 0…"
         },
         "metadata": {},
         "output_type": "display_data"
        }
       ]
      }
     },
     "b5ad9fec8d4047638fb42e7e7818ad73": {
      "buffers": [
       {
        "data": "eNoDAAAAAAE=",
        "encoding": "base64",
        "path": [
         "colors",
         "compressed_buffer"
        ]
       },
       {
        "data": "eNpjYGiwZ8AAxIsBAF7EAv0=",
        "encoding": "base64",
        "path": [
         "model_matrix",
         "compressed_buffer"
        ]
       },
       {
        "data": "eNoDAAAAAAE=",
        "encoding": "base64",
        "path": [
         "opacities",
         "compressed_buffer"
        ]
       },
       {
        "data": "eNpjYGCwZ4DjA0hsBQcYm5EhwQEhPgGJvQFJzQUk8Q9IbA5HBFsCzgYAxoYLzw==",
        "encoding": "base64",
        "path": [
         "positions",
         "compressed_buffer"
        ]
       }
      ],
      "model_module": "k3d",
      "model_module_version": "2.7.4",
      "model_name": "ObjectModel",
      "state": {
       "_view_count": null,
       "_view_module": null,
       "_view_module_version": "",
       "_view_name": null,
       "color": 5010096,
       "colorLegend": false,
       "colors": {
        "dtype": "uint32",
        "shape": [
         0
        ]
       },
       "compression_level": 0,
       "id": 4756856016,
       "mesh_detail": 2,
       "model_matrix": {
        "dtype": "float32",
        "shape": [
         4,
         4
        ]
       },
       "name": "Points #1",
       "opacities": {
        "dtype": "float32",
        "shape": [
         0
        ]
       },
       "opacity": 1,
       "point_size": 0.25,
       "positions": {
        "dtype": "float32",
        "shape": [
         10,
         3
        ]
       },
       "shader": "3dSpecular",
       "type": "Points",
       "visible": true
      }
     },
     "b5dba2b374754fa6a99560c5a1a5674d": {
      "model_module": "@jupyter-widgets/base",
      "model_module_version": "1.2.0",
      "model_name": "LayoutModel",
      "state": {}
     },
     "b6ab1359e0c5455eb9898764c3821920": {
      "model_module": "@jupyter-widgets/base",
      "model_module_version": "1.2.0",
      "model_name": "LayoutModel",
      "state": {}
     },
     "b6fb9264f0e440768e6c82d819e0b3b4": {
      "buffers": [
       {
        "data": "eNoLarnLEERFDABnGyH9",
        "encoding": "base64",
        "path": [
         "colors",
         "compressed_buffer"
        ]
       },
       {
        "data": "eNpjYGiwZ8AAxIsBAF7EAv0=",
        "encoding": "base64",
        "path": [
         "model_matrix",
         "compressed_buffer"
        ]
       },
       {
        "data": "eNpjYAADewhusGeEsxUcQHyouANCzQQHmFoGhg0ODFD9jAwXkNR/gKkHAg5HBrgdEnA2AOHzC/Q=",
        "encoding": "base64",
        "path": [
         "origins",
         "compressed_buffer"
        ]
       },
       {
        "data": "eNpjYGiwr/6WZdBczreRAch+zaS8hbEgeOOsje4GQP7+e9d2bgDROqes1630bNAp3d6+1l5omg5IzOeTGliP+L9HemGChnogsc+aTeuskoI3TOssWg+SEzAWMQTRVxlPbji9jn8L2I6OpRsADzwvSQ==",
        "encoding": "base64",
        "path": [
         "vectors",
         "compressed_buffer"
        ]
       }
      ],
      "model_module": "k3d",
      "model_module_version": "2.7.4",
      "model_name": "ObjectModel",
      "state": {
       "_view_count": null,
       "_view_module": null,
       "_view_module_version": "",
       "_view_name": null,
       "colorLegend": false,
       "colors": {
        "dtype": "uint32",
        "shape": [
         10,
         2
        ]
       },
       "compression_level": 0,
       "head_color": 255,
       "head_size": 3,
       "id": 4755669440,
       "label_size": 1,
       "labels": [],
       "line_width": 0.01,
       "model_matrix": {
        "dtype": "float32",
        "shape": [
         4,
         4
        ]
       },
       "name": "Vectors #1",
       "origin_color": 255,
       "origins": {
        "dtype": "float32",
        "shape": [
         10,
         3
        ]
       },
       "type": "Vectors",
       "use_head": true,
       "vectors": {
        "dtype": "float32",
        "shape": [
         10,
         3
        ]
       },
       "visible": true
      }
     },
     "b723fba7d5f34f839ee960ff2b4c215c": {
      "model_module": "k3d",
      "model_module_version": "2.7.4",
      "model_name": "PlotModel",
      "state": {
       "_backend_version": "2.7.4",
       "_dom_classes": [],
       "_view_count": null,
       "antialias": 3,
       "auto_rendering": true,
       "axes": [
        "x (nm)",
        "y (nm)",
        "z (nm)"
       ],
       "axes_helper": 1,
       "background_color": 16777215,
       "camera": [
        26.637516046094415,
        -24.456274069141628,
        2.163751604609459,
        10,
        0.5,
        0.5,
        0,
        0,
        1
       ],
       "camera_animation": [],
       "camera_auto_fit": true,
       "camera_fov": 60,
       "camera_no_pan": false,
       "camera_no_rotate": false,
       "camera_no_zoom": false,
       "clipping_planes": [],
       "colorbar_object_id": -1,
       "fps": 25,
       "fps_meter": false,
       "grid": [
        -1,
        -1,
        -1,
        1,
        1,
        1
       ],
       "grid_auto_fit": true,
       "grid_visible": true,
       "height": 512,
       "layout": "IPY_MODEL_e2d7ec03acda485f84bf41b8d5962b4f",
       "lighting": 1.5,
       "menu_visibility": true,
       "mode": "view",
       "name": null,
       "object_ids": [
        4928743024,
        4928687504
       ],
       "rendering_steps": 1,
       "screenshot": "",
       "screenshot_scale": 2,
       "snapshot": "",
       "time": 0,
       "voxel_paint_color": 0
      }
     },
     "b74fe360ec8849d38fd024be817dd805": {
      "model_module": "@jupyter-widgets/base",
      "model_module_version": "1.2.0",
      "model_name": "LayoutModel",
      "state": {}
     },
     "b76a33d876b44b52a312533c9c0f3012": {
      "model_module": "@jupyter-widgets/output",
      "model_module_version": "1.0.0",
      "model_name": "OutputModel",
      "state": {
       "layout": "IPY_MODEL_89a07cfd22cb4bcb96be29ee4231b798",
       "outputs": [
        {
         "data": {
          "application/vnd.jupyter.widget-view+json": {
           "model_id": "b9b4b54249544069ba0ce151618f9196",
           "version_major": 2,
           "version_minor": 0
          },
          "text/plain": "Plot(antialias=3, axes=['x', 'y', 'z'], axes_helper=1.0, background_color=16777215, camera=[2, -3, 0.2, 0.0, 0…"
         },
         "metadata": {},
         "output_type": "display_data"
        }
       ]
      }
     },
     "b7ce860bceb6493f89536b93b60f028d": {
      "buffers": [
       {
        "data": "eNoDAAAAAAE=",
        "encoding": "base64",
        "path": [
         "colors",
         "compressed_buffer"
        ]
       },
       {
        "data": "eNpjYGiwZ8AAxIsBAF7EAv0=",
        "encoding": "base64",
        "path": [
         "model_matrix",
         "compressed_buffer"
        ]
       },
       {
        "data": "eNoDAAAAAAE=",
        "encoding": "base64",
        "path": [
         "opacities",
         "compressed_buffer"
        ]
       },
       {
        "data": "eNpjYGCwZ4DjA0hsBQcYm5EhwQEhPgGJvQFJzQUk8Q9IbA5HBFsCzgYAxoYLzw==",
        "encoding": "base64",
        "path": [
         "positions",
         "compressed_buffer"
        ]
       }
      ],
      "model_module": "k3d",
      "model_module_version": "2.7.4",
      "model_name": "ObjectModel",
      "state": {
       "_view_count": null,
       "_view_module": null,
       "_view_module_version": "",
       "_view_name": null,
       "color": 5010096,
       "colorLegend": false,
       "colors": {
        "dtype": "uint32",
        "shape": [
         0
        ]
       },
       "compression_level": 0,
       "id": 4932502720,
       "mesh_detail": 2,
       "model_matrix": {
        "dtype": "float32",
        "shape": [
         4,
         4
        ]
       },
       "name": "Points #1",
       "opacities": {
        "dtype": "float32",
        "shape": [
         0
        ]
       },
       "opacity": 1,
       "point_size": 0.25,
       "positions": {
        "dtype": "float32",
        "shape": [
         10,
         3
        ]
       },
       "shader": "3dSpecular",
       "type": "Points",
       "visible": true
      }
     },
     "b851cc8025214e1daa9ad44d563d32d8": {
      "model_module": "@jupyter-widgets/output",
      "model_module_version": "1.0.0",
      "model_name": "OutputModel",
      "state": {
       "layout": "IPY_MODEL_4faaf8b0156f49ed98587d5e7206d7ec",
       "outputs": [
        {
         "data": {
          "application/vnd.jupyter.widget-view+json": {
           "model_id": "88b7009ce9f94bbd93f21663040cde1f",
           "version_major": 2,
           "version_minor": 0
          },
          "text/plain": "Plot(antialias=3, axes=['x', 'y', 'z'], axes_helper=1.0, background_color=16777215, camera=[2, -3, 0.2, 0.0, 0…"
         },
         "metadata": {},
         "output_type": "display_data"
        }
       ]
      }
     },
     "b8873f5dd4ea4ab0b55fb0097aacab0f": {
      "model_module": "k3d",
      "model_module_version": "2.7.4",
      "model_name": "PlotModel",
      "state": {
       "_backend_version": "2.7.4",
       "_dom_classes": [],
       "_view_count": null,
       "antialias": 3,
       "auto_rendering": true,
       "axes": [
        "x (nm)",
        "y (nm)",
        "z (nm)"
       ],
       "axes_helper": 1,
       "background_color": 16777215,
       "camera": [
        12.773946283194995,
        -11.160919424792496,
        1.277394622359043,
        5,
        0.5,
        0.49999999403953543,
        0,
        0,
        1
       ],
       "camera_animation": [],
       "camera_auto_fit": true,
       "camera_fov": 60,
       "camera_no_pan": false,
       "camera_no_rotate": false,
       "camera_no_zoom": false,
       "clipping_planes": [],
       "colorbar_object_id": -1,
       "fps": 25,
       "fps_meter": false,
       "grid": [
        -1,
        -1,
        -1,
        1,
        1,
        1
       ],
       "grid_auto_fit": true,
       "grid_visible": true,
       "height": 512,
       "layout": "IPY_MODEL_0467ced465204822bb9f8547b55685f3",
       "lighting": 1.5,
       "menu_visibility": true,
       "mode": "view",
       "name": null,
       "object_ids": [
        4757559616,
        4757499968
       ],
       "rendering_steps": 1,
       "screenshot": "",
       "screenshot_scale": 2,
       "snapshot": "",
       "time": 0,
       "voxel_paint_color": 0
      }
     },
     "b92161ef9d914a0e84000b81dc58bb20": {
      "model_module": "k3d",
      "model_module_version": "2.7.4",
      "model_name": "PlotModel",
      "state": {
       "_backend_version": "2.7.4",
       "_dom_classes": [],
       "_view_count": null,
       "antialias": 3,
       "auto_rendering": true,
       "axes": [
        "x (nm)",
        "y (nm)",
        "z (nm)"
       ],
       "axes_helper": 1,
       "background_color": 16777215,
       "camera": [
        13.351749844201674,
        -12.027624766302514,
        1.3351749844201761,
        5,
        0.5,
        0.5,
        0,
        0,
        1
       ],
       "camera_animation": [],
       "camera_auto_fit": true,
       "camera_fov": 60,
       "camera_no_pan": false,
       "camera_no_rotate": false,
       "camera_no_zoom": false,
       "clipping_planes": [],
       "colorbar_object_id": -1,
       "fps": 25,
       "fps_meter": false,
       "grid": [
        -1,
        -1,
        -1,
        1,
        1,
        1
       ],
       "grid_auto_fit": true,
       "grid_visible": true,
       "height": 512,
       "layout": "IPY_MODEL_f57a5dd6bfe34b0894853aa1db3814f9",
       "lighting": 1.5,
       "menu_visibility": true,
       "mode": "view",
       "name": null,
       "object_ids": [
        4757579376,
        4757802192
       ],
       "rendering_steps": 1,
       "screenshot": "",
       "screenshot_scale": 2,
       "snapshot": "",
       "time": 0,
       "voxel_paint_color": 0
      }
     },
     "b99a55b2ed3949d684db274aeb100d4d": {
      "model_module": "@jupyter-widgets/base",
      "model_module_version": "1.2.0",
      "model_name": "LayoutModel",
      "state": {}
     },
     "b9a7d75c036f4fb89ee72faa62828a6d": {
      "buffers": [
       {
        "data": "eNoLPfOQIRSILV78A+N8cwkwzgnyAGPXmx/BuGTOUjD2U2IA4+L8PDAuKysD44qeSWAMANnmHME=",
        "encoding": "base64",
        "path": [
         "colors",
         "compressed_buffer"
        ]
       },
       {
        "data": "eNpjYGiwZ8AAxIsBAF7EAv0=",
        "encoding": "base64",
        "path": [
         "model_matrix",
         "compressed_buffer"
        ]
       },
       {
        "data": "eNoBeACH/yApXz+g2kc/8Jn5PdIArD9M3ko/AAAAAA6KHkAEE2M/jDZ1P3SdgEDHZAo/GD5MP4vTjECIrmU/qKZ7PUTttkCIg4U/7ga7PjIM00DmQPw+StCLPzly4EBCoys+1modP/U6AkEQ0do8fKgTP1eGIUFmB+M+GifnPhhVL6s=",
        "encoding": "base64",
        "path": [
         "origins",
         "compressed_buffer"
        ]
       },
       {
        "data": "eNoBeACH/0FSPr9BtQ+/hJlBP275nz6YvBW/AACAP+/4Oj0IJka/F21qv5jrhL9rTKa9MXwYv1AdSz4QXUu/K4tgP3uo3b4QB4u/I/KJPiMMQ76Dxm88k6CXv3fceD9fLio/slZrvl2hOD/vUnI/3kMdvmllmL/PxOc9LsfGPXzJNpE=",
        "encoding": "base64",
        "path": [
         "vectors",
         "compressed_buffer"
        ]
       }
      ],
      "model_module": "k3d",
      "model_module_version": "2.7.4",
      "model_name": "ObjectModel",
      "state": {
       "_view_count": null,
       "_view_module": null,
       "_view_module_version": "",
       "_view_name": null,
       "colorLegend": false,
       "colors": {
        "dtype": "uint32",
        "shape": [
         10,
         2
        ]
       },
       "compression_level": 0,
       "head_color": 255,
       "head_size": 1,
       "id": 4932582896,
       "label_size": 1,
       "labels": [],
       "line_width": 0.01,
       "model_matrix": {
        "dtype": "float32",
        "shape": [
         4,
         4
        ]
       },
       "name": "Vectors #1",
       "origin_color": 255,
       "origins": {
        "dtype": "float32",
        "shape": [
         10,
         3
        ]
       },
       "type": "Vectors",
       "use_head": true,
       "vectors": {
        "dtype": "float32",
        "shape": [
         10,
         3
        ]
       },
       "visible": true
      }
     },
     "b9b4b54249544069ba0ce151618f9196": {
      "model_module": "k3d",
      "model_module_version": "2.7.4",
      "model_name": "PlotModel",
      "state": {
       "_backend_version": "2.7.4",
       "_dom_classes": [],
       "_view_count": null,
       "antialias": 3,
       "auto_rendering": true,
       "axes": [
        "x (nm)",
        "y (nm)",
        "z (nm)"
       ],
       "axes_helper": 1,
       "background_color": 16777215,
       "camera": [
        13.312922348924026,
        -11.969383532282366,
        1.3312922354854897,
        4.999999994069116,
        0.5,
        0.5,
        0,
        0,
        1
       ],
       "camera_animation": [],
       "camera_auto_fit": true,
       "camera_fov": 60,
       "camera_no_pan": false,
       "camera_no_rotate": false,
       "camera_no_zoom": false,
       "clipping_planes": [],
       "colorbar_object_id": -1,
       "fps": 25,
       "fps_meter": false,
       "grid": [
        -1,
        -1,
        -1,
        1,
        1,
        1
       ],
       "grid_auto_fit": true,
       "grid_visible": true,
       "height": 512,
       "layout": "IPY_MODEL_00a04fcb44d347b184b35e74e51f4339",
       "lighting": 1.5,
       "menu_visibility": true,
       "mode": "view",
       "name": null,
       "object_ids": [
        4926062208,
        4924050304
       ],
       "rendering_steps": 1,
       "screenshot": "",
       "screenshot_scale": 2,
       "snapshot": "",
       "time": 0,
       "voxel_paint_color": 0
      }
     },
     "b9e43b0a48c743b5ac05bff961402b25": {
      "model_module": "@jupyter-widgets/base",
      "model_module_version": "1.2.0",
      "model_name": "LayoutModel",
      "state": {}
     },
     "b9fc0408f8de4be39dbd5ac33012f6a4": {
      "buffers": [
       {
        "data": "eNoDAAAAAAE=",
        "encoding": "base64",
        "path": [
         "colors",
         "compressed_buffer"
        ]
       },
       {
        "data": "eNpjYGiwZ8AAxIsBAF7EAv0=",
        "encoding": "base64",
        "path": [
         "model_matrix",
         "compressed_buffer"
        ]
       },
       {
        "data": "eNoDAAAAAAE=",
        "encoding": "base64",
        "path": [
         "opacities",
         "compressed_buffer"
        ]
       },
       {
        "data": "eNpjYGCwZ4DjA0hsBQcYm5EhwQEhPgGJvQFJzQUk8Q9IbA5HBFsCzgYAxoYLzw==",
        "encoding": "base64",
        "path": [
         "positions",
         "compressed_buffer"
        ]
       }
      ],
      "model_module": "k3d",
      "model_module_version": "2.7.4",
      "model_name": "ObjectModel",
      "state": {
       "_view_count": null,
       "_view_module": null,
       "_view_module_version": "",
       "_view_name": null,
       "color": 5010096,
       "colorLegend": false,
       "colors": {
        "dtype": "uint32",
        "shape": [
         0
        ]
       },
       "compression_level": 0,
       "id": 4399847840,
       "mesh_detail": 2,
       "model_matrix": {
        "dtype": "float32",
        "shape": [
         4,
         4
        ]
       },
       "name": "Points #1",
       "opacities": {
        "dtype": "float32",
        "shape": [
         0
        ]
       },
       "opacity": 1,
       "point_size": 0.25,
       "positions": {
        "dtype": "float32",
        "shape": [
         10,
         3
        ]
       },
       "shader": "3dSpecular",
       "type": "Points",
       "visible": true
      }
     },
     "ba03844159334f6f8d8fde77ff2d14b2": {
      "model_module": "k3d",
      "model_module_version": "2.7.4",
      "model_name": "PlotModel",
      "state": {
       "_backend_version": "2.7.4",
       "_dom_classes": [],
       "_view_count": null,
       "antialias": 3,
       "auto_rendering": true,
       "axes": [
        "x (nm)",
        "y (nm)",
        "z (nm)"
       ],
       "axes_helper": 1,
       "background_color": 16777215,
       "camera": [
        13.968513592296217,
        -11.66819747763497,
        2.6879919292571595,
        4.975000003352761,
        0.5,
        0.5,
        -0.0380223488122103,
        0.08139602429268165,
        0.9959563184297547
       ],
       "camera_animation": [],
       "camera_auto_fit": true,
       "camera_fov": 60,
       "camera_no_pan": false,
       "camera_no_rotate": false,
       "camera_no_zoom": false,
       "clipping_planes": [],
       "colorbar_object_id": -1,
       "fps": 25,
       "fps_meter": false,
       "grid": [
        -1,
        -1,
        -1,
        1,
        1,
        1
       ],
       "grid_auto_fit": true,
       "grid_visible": true,
       "height": 512,
       "layout": "IPY_MODEL_d8605d627844446e84db29502ae08a45",
       "lighting": 1.5,
       "menu_visibility": true,
       "mode": "view",
       "name": null,
       "object_ids": [
        4936585856
       ],
       "rendering_steps": 1,
       "screenshot": "",
       "screenshot_scale": 2,
       "snapshot": "",
       "time": 0,
       "voxel_paint_color": 0
      }
     },
     "ba0b1e232dec4c52b3fdcf3a27e64e6f": {
      "model_module": "k3d",
      "model_module_version": "2.7.4",
      "model_name": "PlotModel",
      "state": {
       "_backend_version": "2.7.4",
       "_dom_classes": [],
       "_view_count": null,
       "antialias": 3,
       "auto_rendering": true,
       "axes": [
        "x (nm)",
        "y (nm)",
        "z (nm)"
       ],
       "axes_helper": 1,
       "background_color": 16777215,
       "camera": [
        2.8778826572598577,
        -4.316823985889787,
        0.28778826572598526,
        0,
        0,
        0,
        0,
        0,
        1
       ],
       "camera_animation": [],
       "camera_auto_fit": true,
       "camera_fov": 60,
       "camera_no_pan": false,
       "camera_no_rotate": false,
       "camera_no_zoom": false,
       "clipping_planes": [],
       "colorbar_object_id": -1,
       "fps": 25,
       "fps_meter": false,
       "grid": [
        -1,
        -1,
        -1,
        1,
        1,
        1
       ],
       "grid_auto_fit": true,
       "grid_visible": true,
       "height": 512,
       "layout": "IPY_MODEL_f4bb4115fa5b40df81dc7e8469aeeeff",
       "lighting": 1.5,
       "menu_visibility": true,
       "mode": "view",
       "name": null,
       "object_ids": [
        4928632048,
        4928087952
       ],
       "rendering_steps": 1,
       "screenshot": "",
       "screenshot_scale": 2,
       "snapshot": "",
       "time": 0,
       "voxel_paint_color": 0
      }
     },
     "bc1767d714f546adbd37d0899e8b747d": {
      "model_module": "@jupyter-widgets/base",
      "model_module_version": "1.2.0",
      "model_name": "LayoutModel",
      "state": {}
     },
     "bd2694b866d14c44818d6c071af6845c": {
      "model_module": "@jupyter-widgets/base",
      "model_module_version": "1.2.0",
      "model_name": "LayoutModel",
      "state": {}
     },
     "be074309470d4b129c896ebc82151913": {
      "model_module": "k3d",
      "model_module_version": "2.7.4",
      "model_name": "PlotModel",
      "state": {
       "_backend_version": "2.7.4",
       "_dom_classes": [],
       "_view_count": null,
       "antialias": 3,
       "auto_rendering": true,
       "axes": [
        "x (nm)",
        "y (nm)",
        "z (nm)"
       ],
       "axes_helper": 1,
       "background_color": 16777215,
       "camera": [
        16.046408593931005,
        -9.57442475519143,
        3.873156121911224,
        4.9500000067055225,
        0.5,
        0.5,
        -0.07385423059105112,
        0.16358447877617585,
        0.9837609826209469
       ],
       "camera_animation": [],
       "camera_auto_fit": true,
       "camera_fov": 60,
       "camera_no_pan": false,
       "camera_no_rotate": false,
       "camera_no_zoom": false,
       "clipping_planes": [],
       "colorbar_object_id": -1,
       "fps": 25,
       "fps_meter": false,
       "grid": [
        -1,
        -1,
        -1,
        1,
        1,
        1
       ],
       "grid_auto_fit": true,
       "grid_visible": true,
       "height": 512,
       "layout": "IPY_MODEL_ad90296c8e0a48749b04f9defa542d39",
       "lighting": 1.5,
       "menu_visibility": true,
       "mode": "view",
       "name": null,
       "object_ids": [
        4923501872
       ],
       "rendering_steps": 1,
       "screenshot": "",
       "screenshot_scale": 2,
       "snapshot": "",
       "time": 0,
       "voxel_paint_color": 0
      }
     },
     "be294edae91c4c7ea10fa415563d7195": {
      "model_module": "@jupyter-widgets/base",
      "model_module_version": "1.2.0",
      "model_name": "LayoutModel",
      "state": {}
     },
     "be56f3b6c90d43208029c913453573ab": {
      "model_module": "@jupyter-widgets/base",
      "model_module_version": "1.2.0",
      "model_name": "LayoutModel",
      "state": {}
     },
     "be90b0f5fbc64517bf4776fc50e72656": {
      "buffers": [
       {
        "data": "eNoDAAAAAAE=",
        "encoding": "base64",
        "path": [
         "colors",
         "compressed_buffer"
        ]
       },
       {
        "data": "eNpjYGiwZ8AAxIsBAF7EAv0=",
        "encoding": "base64",
        "path": [
         "model_matrix",
         "compressed_buffer"
        ]
       },
       {
        "data": "eNoDAAAAAAE=",
        "encoding": "base64",
        "path": [
         "opacities",
         "compressed_buffer"
        ]
       },
       {
        "data": "eNpjYGCwZ4DjA0hsBQcYm5EhwQEhPgGJvQFJzQUk8Q9IbA5HBFsCia2BxLZwRJjjgcSOQGJnIKmvQGK3ILF7kNhTkNhz4GwA3oQXaA==",
        "encoding": "base64",
        "path": [
         "positions",
         "compressed_buffer"
        ]
       }
      ],
      "model_module": "k3d",
      "model_module_version": "2.7.4",
      "model_name": "ObjectModel",
      "state": {
       "_view_count": null,
       "_view_module": null,
       "_view_module_version": "",
       "_view_name": null,
       "color": 5010096,
       "colors": {
        "dtype": "uint32",
        "shape": [
         0
        ]
       },
       "compression_level": 0,
       "id": 4926287680,
       "mesh_detail": 2,
       "model_matrix": {
        "dtype": "float32",
        "shape": [
         4,
         4
        ]
       },
       "name": "Points #1",
       "opacities": {
        "dtype": "float32",
        "shape": [
         0
        ]
       },
       "opacity": 1,
       "point_size": 0.25,
       "positions": {
        "dtype": "float32",
        "shape": [
         20,
         3
        ]
       },
       "shader": "3dSpecular",
       "type": "Points",
       "visible": true
      }
     },
     "bf41453b71b84dfc88798d7fb2064177": {
      "model_module": "@jupyter-widgets/base",
      "model_module_version": "1.2.0",
      "model_name": "LayoutModel",
      "state": {}
     },
     "bf5bac91eb38476c993374375cc16d79": {
      "model_module": "@jupyter-widgets/base",
      "model_module_version": "1.2.0",
      "model_name": "LayoutModel",
      "state": {}
     },
     "c0b65132835f41d88e49b0987f66ce1c": {
      "buffers": [
       {
        "data": "eNoLarnLEERFDABnGyH9",
        "encoding": "base64",
        "path": [
         "colors",
         "compressed_buffer"
        ]
       },
       {
        "data": "eNpjYGiwZ8AAxIsBAF7EAv0=",
        "encoding": "base64",
        "path": [
         "model_matrix",
         "compressed_buffer"
        ]
       },
       {
        "data": "eNpjYGCwZ2BgMGYAgwNAdgOUr+AAYTfYMzIkOEDkQfwJDgj1G6BqGBgYGS7A1TMwfICqAbE5HCFqQXwJR5h6AG1zDpk=",
        "encoding": "base64",
        "path": [
         "origins",
         "compressed_buffer"
        ]
       },
       {
        "data": "eNpjYGBg+P+/3p6BoQGIQaBhP4QPFt8P4kPF7SF8VPVQNch6kdUg60VRDwADFSdP",
        "encoding": "base64",
        "path": [
         "vectors",
         "compressed_buffer"
        ]
       }
      ],
      "model_module": "k3d",
      "model_module_version": "2.7.4",
      "model_name": "ObjectModel",
      "state": {
       "_view_count": null,
       "_view_module": null,
       "_view_module_version": "",
       "_view_name": null,
       "colorLegend": false,
       "colors": {
        "dtype": "uint32",
        "shape": [
         10,
         2
        ]
       },
       "compression_level": 0,
       "head_color": 255,
       "head_size": 3,
       "id": 4756854960,
       "label_size": 1,
       "labels": [],
       "line_width": 0.01,
       "model_matrix": {
        "dtype": "float32",
        "shape": [
         4,
         4
        ]
       },
       "name": "Vectors #1",
       "origin_color": 255,
       "origins": {
        "dtype": "float32",
        "shape": [
         10,
         3
        ]
       },
       "type": "Vectors",
       "use_head": true,
       "vectors": {
        "dtype": "float32",
        "shape": [
         10,
         3
        ]
       },
       "visible": true
      }
     },
     "c17913945e3f41068a4832eb9f51fd63": {
      "model_module": "@jupyter-widgets/output",
      "model_module_version": "1.0.0",
      "model_name": "OutputModel",
      "state": {
       "layout": "IPY_MODEL_ca6e91c4541e4fa9a8f35e874e7ab28c",
       "outputs": [
        {
         "data": {
          "application/vnd.jupyter.widget-view+json": {
           "model_id": "8efeeaad3c0940d9ba87b79a9317809d",
           "version_major": 2,
           "version_minor": 0
          },
          "text/plain": "Plot(antialias=3, axes=['x', 'y', 'z'], axes_helper=1.0, background_color=16777215, camera=[2, -3, 0.2, 0.0, 0…"
         },
         "metadata": {},
         "output_type": "display_data"
        }
       ]
      }
     },
     "c2010bd6ad484deaac7378107e232997": {
      "buffers": [
       {
        "data": "eNoLarnLEERFDABnGyH9",
        "encoding": "base64",
        "path": [
         "colors",
         "compressed_buffer"
        ]
       },
       {
        "data": "eNpjYGiwZ8AAxIsBAF7EAv0=",
        "encoding": "base64",
        "path": [
         "model_matrix",
         "compressed_buffer"
        ]
       },
       {
        "data": "eNpjYAADewjVYI9gMzjA2IwMDg5IapDYC5DUHEASf4DEZnBEsAXgbADj0ghK",
        "encoding": "base64",
        "path": [
         "origins",
         "compressed_buffer"
        ]
       },
       {
        "data": "eNpjYGiwZwADEE0/NgB7CQ7t",
        "encoding": "base64",
        "path": [
         "vectors",
         "compressed_buffer"
        ]
       }
      ],
      "model_module": "k3d",
      "model_module_version": "2.7.4",
      "model_name": "ObjectModel",
      "state": {
       "_view_count": null,
       "_view_module": null,
       "_view_module_version": "",
       "_view_name": null,
       "colorLegend": false,
       "colors": {
        "dtype": "uint32",
        "shape": [
         10,
         2
        ]
       },
       "compression_level": 0,
       "head_color": 255,
       "head_size": 3,
       "id": 4924662880,
       "label_size": 1,
       "labels": [],
       "line_width": 0.01,
       "model_matrix": {
        "dtype": "float32",
        "shape": [
         4,
         4
        ]
       },
       "name": "Vectors #1",
       "origin_color": 255,
       "origins": {
        "dtype": "float32",
        "shape": [
         10,
         3
        ]
       },
       "type": "Vectors",
       "use_head": true,
       "vectors": {
        "dtype": "float32",
        "shape": [
         10,
         3
        ]
       },
       "visible": true
      }
     },
     "c25aebac211e4f718f835c50cdbdf199": {
      "model_module": "@jupyter-widgets/base",
      "model_module_version": "1.2.0",
      "model_name": "LayoutModel",
      "state": {}
     },
     "c2fb1f5da68f433796d68600a825706f": {
      "model_module": "k3d",
      "model_module_version": "2.7.4",
      "model_name": "PlotModel",
      "state": {
       "_backend_version": "2.7.4",
       "_dom_classes": [],
       "_view_count": null,
       "antialias": 3,
       "auto_rendering": true,
       "axes": [
        "x (nm)",
        "y (nm)",
        "z (nm)"
       ],
       "axes_helper": 1,
       "background_color": 16777215,
       "camera": [
        11.783521860870376,
        -13.19140020509122,
        1.8605290875727594,
        4.9500000067055225,
        0.5,
        0.5,
        -0.03528088374224439,
        0.01953681887632045,
        0.9991864550475859
       ],
       "camera_animation": [],
       "camera_auto_fit": true,
       "camera_fov": 60,
       "camera_no_pan": false,
       "camera_no_rotate": false,
       "camera_no_zoom": false,
       "clipping_planes": [],
       "colorbar_object_id": -1,
       "fps": 25,
       "fps_meter": false,
       "grid": [
        -1,
        -1,
        -1,
        1,
        1,
        1
       ],
       "grid_auto_fit": true,
       "grid_visible": true,
       "height": 512,
       "layout": "IPY_MODEL_9012eda97e1b4f8cbca100178a69b13b",
       "lighting": 1.5,
       "menu_visibility": true,
       "mode": "view",
       "name": null,
       "object_ids": [
        4928818576
       ],
       "rendering_steps": 1,
       "screenshot": "",
       "screenshot_scale": 2,
       "snapshot": "",
       "time": 0,
       "voxel_paint_color": 0
      }
     },
     "c34442444d7d476788e2410d96dd50c4": {
      "model_module": "@jupyter-widgets/base",
      "model_module_version": "1.2.0",
      "model_name": "LayoutModel",
      "state": {}
     },
     "c39670410886404cbdaa44cc5f4e06f5": {
      "model_module": "k3d",
      "model_module_version": "2.7.4",
      "model_name": "PlotModel",
      "state": {
       "_backend_version": "2.7.4",
       "_dom_classes": [],
       "_view_count": null,
       "antialias": 3,
       "auto_rendering": true,
       "axes": [
        "x (nm)",
        "y (nm)",
        "z (nm)"
       ],
       "axes_helper": 1,
       "background_color": 16777215,
       "camera": [
        13.351749844201674,
        -12.027624766302514,
        1.3351749844201761,
        5,
        0.5,
        0.5,
        0,
        0,
        1
       ],
       "camera_animation": [],
       "camera_auto_fit": true,
       "camera_fov": 60,
       "camera_no_pan": false,
       "camera_no_rotate": false,
       "camera_no_zoom": false,
       "clipping_planes": [],
       "colorbar_object_id": -1,
       "fps": 25,
       "fps_meter": false,
       "grid": [
        -1,
        -1,
        -1,
        1,
        1,
        1
       ],
       "grid_auto_fit": true,
       "grid_visible": true,
       "height": 512,
       "layout": "IPY_MODEL_823a9ceda1a441c1ba504b93fb04d113",
       "lighting": 1.5,
       "menu_visibility": true,
       "mode": "view",
       "name": null,
       "object_ids": [
        4720803504,
        4399660624
       ],
       "rendering_steps": 1,
       "screenshot": "",
       "screenshot_scale": 2,
       "snapshot": "",
       "time": 0,
       "voxel_paint_color": 0
      }
     },
     "c39f7a8dbb0447ef9c2fea602c2c0368": {
      "model_module": "@jupyter-widgets/base",
      "model_module_version": "1.2.0",
      "model_name": "LayoutModel",
      "state": {}
     },
     "c4a12b0162fd4814b8d3cbfee840be36": {
      "buffers": [
       {
        "data": "eNolw2dslWUYgOHbHyb8MDExxhhjjAqCgIDQQSmlpaUtXXSP073X6fuNs7/D3puy9yqjQNl7j7KLbMqQPQREjTuuqI3PiVdypX4MaZ0howtkfQLZMrcr2LpB/qdQKIu7Q2kPKJcVPaHqM6iRdb3A3huU1PqA8TmYgX3BEdjvNRxBr2MGdcIMfgMz5E35Fmbo25j938Ho/y5G2HsYA97HCP9Afog+8CP0iM6yC/qgruiR3dCjuqNF9UAb3BMtupfsjRbTB21IX9kPLTYIFRcsQ1DxoaihYaiEATIclTgQlRQhB6GSI1EpUXIwalg0KjVGDkGlxaLS41AZ8XIoKjMBlZUok1DZyaicFDkMlZuKykuT6Wi2DLT8TLSCLJmNVpiDVhSYi1ach1ZiQy/JRy8tQC8rRC8vksXoFSUYlYGlGFVlGNXlsgKzphKztgqzrvr/9TU47LWyDkdDPQ5lx6k1SIVTl4aGy9BxmQYuh4nb6ZBO3C4nHrdLuvF4PHi9Xrw+H75Ay8Ln92MNHy5HYI0YiTVylByNNUqOHoM1Zqwch3/sePzjJuAfP1FOwj9hMtbEKViTpsppWJOnY02ZgTV1ppyFNa0Ra/psrBlz5FysmfOwZsnG+fgaF+CbvRDfnEX45i7GN2+JXIp3/jK8C5bjXbhCrsS7aBWexavxLGnCs3SNXIt72Trcy9fjXtEsN+BauRHXqk24VrfgatqMs2kLzjVbca7dhmPddhzrd+Bo3onZvAtzwx6MjXsxNu3DaNmP3nIAffNBtC2H0LYeRtt2BLX9qDxGw47jNOw8gX1XK/bdJ6nfc0qepm7vGer2naV2/zlqD5yn5mAb1YcuyItUHb5E5ZHLVB69QsWxq1Qcv0b5ieuUtd6gtLWd0pM3KTl1i+LTtyk6c4eis3cpPHePgvP3yW97gK3tIbYLj8j74jG5F5+Qc+kp2ZefkXXlOZlXX5Bx7SXp178m7cYrUtu/IaX9W5JvfkfSre9JvP0DCXd+JP7Ln4i7+zOx934h5v6vRD/4jaiHvxP56A8iHv9J+JO/CHv6N6HP/iH4q38Jft5ByIsOQl92EPaqg/8ABrdj6Q==",
        "encoding": "base64",
        "path": [
         "color_map",
         "compressed_buffer"
        ]
       },
       {
        "data": "eNpjYFBwZICDBQ4QusEeKmCPkAOLIfEhYgB/zAP9",
        "encoding": "base64",
        "path": [
         "model_matrix",
         "compressed_buffer"
        ]
       },
       {
        "data": "eNoTYmHkkrWKbV55+tmP/79eXVjfmWwPAFOGCjg=",
        "encoding": "base64",
        "path": [
         "voxels",
         "compressed_buffer"
        ]
       }
      ],
      "model_module": "k3d",
      "model_module_version": "2.7.4",
      "model_name": "ObjectModel",
      "state": {
       "_view_count": null,
       "_view_module": null,
       "_view_module_version": "",
       "_view_name": null,
       "colorLegend": false,
       "color_map": {
        "dtype": "uint32",
        "shape": [
         256
        ]
       },
       "compression_level": 0,
       "id": 4936585856,
       "model_matrix": {
        "dtype": "float32",
        "shape": [
         4,
         4
        ]
       },
       "name": "Voxels #1",
       "opacity": 1,
       "outlines": false,
       "outlines_color": 0,
       "type": "Voxels",
       "visible": true,
       "voxels": {
        "dtype": "uint8",
        "shape": [
         1,
         1,
         20
        ]
       },
       "wireframe": false
      }
     },
     "c51fa61b8e4e4329a920aa63c6f922c1": {
      "model_module": "@jupyter-widgets/base",
      "model_module_version": "1.2.0",
      "model_name": "LayoutModel",
      "state": {}
     },
     "c52912ddae1548fe8b3200d9799c2360": {
      "buffers": [
       {
        "data": "eNrzU2Jg8APiaA0IznEzA+OysjIwzl29E4w9rr8HY4sX/8A44OJzMC5asBqMC7MzwRgAzeEciQ==",
        "encoding": "base64",
        "path": [
         "colors",
         "compressed_buffer"
        ]
       },
       {
        "data": "eNpjYGiwZ8AAxIsBAF7EAv0=",
        "encoding": "base64",
        "path": [
         "model_matrix",
         "compressed_buffer"
        ]
       },
       {
        "data": "eNpjYGCw3xwqau+TWWfPwHDAvnTtXLtfqWVAtoKDjMlu2z9yXvaMDAkODECgqMIOFJ/gUPCgxnbVp2Y7BoYNDiAaxGdkuOAAkQeBDw4gfSD9DAwcjiDzQOYyMEg4guwB2QcAceIkWQ==",
        "encoding": "base64",
        "path": [
         "origins",
         "compressed_buffer"
        ]
       },
       {
        "data": "eNpjYGBgmLZWa9/MSzX7gUwGsaVH7L6ezgGzfxoF2v+0FQGzGRga7KVaUvaCWJ+SE+zXSP2wA7FBNIgPYkPkG8BskD6QfhAbZB7IXBAbZA/IPgAA5ydX",
        "encoding": "base64",
        "path": [
         "vectors",
         "compressed_buffer"
        ]
       }
      ],
      "model_module": "k3d",
      "model_module_version": "2.7.4",
      "model_name": "ObjectModel",
      "state": {
       "_view_count": null,
       "_view_module": null,
       "_view_module_version": "",
       "_view_name": null,
       "colorLegend": false,
       "colors": {
        "dtype": "uint32",
        "shape": [
         10,
         2
        ]
       },
       "compression_level": 0,
       "head_color": 255,
       "head_size": 1,
       "id": 4952766928,
       "label_size": 1,
       "labels": [],
       "line_width": 0.01,
       "model_matrix": {
        "dtype": "float32",
        "shape": [
         4,
         4
        ]
       },
       "name": "Vectors #1",
       "origin_color": 255,
       "origins": {
        "dtype": "float32",
        "shape": [
         10,
         3
        ]
       },
       "type": "Vectors",
       "use_head": true,
       "vectors": {
        "dtype": "float32",
        "shape": [
         10,
         3
        ]
       },
       "visible": true
      }
     },
     "c53c527ca6664eba80cfe3a95eebd70f": {
      "model_module": "k3d",
      "model_module_version": "2.7.4",
      "model_name": "PlotModel",
      "state": {
       "_backend_version": "2.7.4",
       "_dom_classes": [],
       "_view_count": null,
       "antialias": 3,
       "auto_rendering": true,
       "axes": [
        "x (nm)",
        "y (nm)",
        "z (nm)"
       ],
       "axes_helper": 1,
       "background_color": 16777215,
       "camera": [
        2.8778826572598577,
        -4.316823985889787,
        0.28778826572598526,
        0,
        0,
        0,
        0,
        0,
        1
       ],
       "camera_animation": [],
       "camera_auto_fit": true,
       "camera_fov": 60,
       "camera_no_pan": false,
       "camera_no_rotate": false,
       "camera_no_zoom": false,
       "clipping_planes": [],
       "colorbar_object_id": -1,
       "fps": 25,
       "fps_meter": false,
       "grid": [
        -1,
        -1,
        -1,
        1,
        1,
        1
       ],
       "grid_auto_fit": true,
       "grid_visible": true,
       "height": 512,
       "layout": "IPY_MODEL_be56f3b6c90d43208029c913453573ab",
       "lighting": 1.5,
       "menu_visibility": true,
       "mode": "view",
       "name": null,
       "object_ids": [
        4928847824,
        4927113872
       ],
       "rendering_steps": 1,
       "screenshot": "",
       "screenshot_scale": 2,
       "snapshot": "",
       "time": 0,
       "voxel_paint_color": 0
      }
     },
     "c632f9c7d33d4a06bd29e7eb012b67bd": {
      "model_module": "@jupyter-widgets/output",
      "model_module_version": "1.0.0",
      "model_name": "OutputModel",
      "state": {
       "layout": "IPY_MODEL_d234aa99cffc4105ad0281b9dd78956e",
       "outputs": [
        {
         "data": {
          "application/vnd.jupyter.widget-view+json": {
           "model_id": "82870f5ac3f140c48d30818512f0329d",
           "version_major": 2,
           "version_minor": 0
          },
          "text/plain": "Plot(antialias=3, axes=['x', 'y', 'z'], axes_helper=1.0, background_color=16777215, camera=[2, -3, 0.2, 0.0, 0…"
         },
         "metadata": {},
         "output_type": "display_data"
        }
       ]
      }
     },
     "c6378b11797d463099168cab32e7ab33": {
      "buffers": [
       {
        "data": "eNoDAAAAAAE=",
        "encoding": "base64",
        "path": [
         "colors",
         "compressed_buffer"
        ]
       },
       {
        "data": "eNpjYGiwZ8AAxIsBAF7EAv0=",
        "encoding": "base64",
        "path": [
         "model_matrix",
         "compressed_buffer"
        ]
       },
       {
        "data": "eNoDAAAAAAE=",
        "encoding": "base64",
        "path": [
         "opacities",
         "compressed_buffer"
        ]
       },
       {
        "data": "eNpjYGCwZ4DjA0hsBQcYm5EhwQEhPgGJvQFJzQUk8Q9IbA5HBFsCzgYAxoYLzw==",
        "encoding": "base64",
        "path": [
         "positions",
         "compressed_buffer"
        ]
       }
      ],
      "model_module": "k3d",
      "model_module_version": "2.7.4",
      "model_name": "ObjectModel",
      "state": {
       "_view_count": null,
       "_view_module": null,
       "_view_module_version": "",
       "_view_name": null,
       "color": 5010096,
       "colorLegend": false,
       "colors": {
        "dtype": "uint32",
        "shape": [
         0
        ]
       },
       "compression_level": 0,
       "id": 4399476896,
       "mesh_detail": 2,
       "model_matrix": {
        "dtype": "float32",
        "shape": [
         4,
         4
        ]
       },
       "name": "Points #1",
       "opacities": {
        "dtype": "float32",
        "shape": [
         0
        ]
       },
       "opacity": 1,
       "point_size": 0.25,
       "positions": {
        "dtype": "float32",
        "shape": [
         10,
         3
        ]
       },
       "shader": "3dSpecular",
       "type": "Points",
       "visible": true
      }
     },
     "c6a2422ad5f848aeaf07d35ae7f36a98": {
      "model_module": "@jupyter-widgets/base",
      "model_module_version": "1.2.0",
      "model_name": "LayoutModel",
      "state": {}
     },
     "c6e5dbf466124c08b61c7aea36cedba6": {
      "buffers": [
       {
        "data": "eNrbUOTDENRylwEADvwDIg==",
        "encoding": "base64",
        "path": [
         "color_map",
         "compressed_buffer"
        ]
       },
       {
        "data": "eNpjYFBwZICDBQ4QusEeKmCPkAOLIfEhYgB/zAP9",
        "encoding": "base64",
        "path": [
         "model_matrix",
         "compressed_buffer"
        ]
       },
       {
        "data": "eNpjZIQCJgAAQgAM",
        "encoding": "base64",
        "path": [
         "voxels",
         "compressed_buffer"
        ]
       }
      ],
      "model_module": "k3d",
      "model_module_version": "2.7.4",
      "model_name": "ObjectModel",
      "state": {
       "_view_count": null,
       "_view_module": null,
       "_view_module_version": "",
       "_view_name": null,
       "colorLegend": false,
       "color_map": {
        "dtype": "uint32",
        "shape": [
         2
        ]
       },
       "compression_level": 0,
       "id": 4926456736,
       "model_matrix": {
        "dtype": "float32",
        "shape": [
         4,
         4
        ]
       },
       "name": "Voxels #1",
       "opacity": 1,
       "outlines": false,
       "outlines_color": 0,
       "type": "Voxels",
       "visible": true,
       "voxels": {
        "dtype": "uint8",
        "shape": [
         1,
         1,
         10
        ]
       },
       "wireframe": false
      }
     },
     "c77b108e134f4b0ba6a371dbd7e91ebd": {
      "model_module": "@jupyter-widgets/base",
      "model_module_version": "1.2.0",
      "model_name": "LayoutModel",
      "state": {}
     },
     "c7dc9dd0774842079b763f5c14cb9081": {
      "buffers": [
       {
        "data": "eNoLarnLEDSIMQBtm0P5",
        "encoding": "base64",
        "path": [
         "colors",
         "compressed_buffer"
        ]
       },
       {
        "data": "eNpjYGiwZ8AAxIsBAF7EAv0=",
        "encoding": "base64",
        "path": [
         "model_matrix",
         "compressed_buffer"
        ]
       },
       {
        "data": "eNpjYGioZ2A48J8BTA9/NgDnCkrF",
        "encoding": "base64",
        "path": [
         "origins",
         "compressed_buffer"
        ]
       },
       {
        "data": "eNpjYGj4z8BwAIgboHh4swEzoF7F",
        "encoding": "base64",
        "path": [
         "vectors",
         "compressed_buffer"
        ]
       }
      ],
      "model_module": "k3d",
      "model_module_version": "2.7.4",
      "model_name": "ObjectModel",
      "state": {
       "_view_count": null,
       "_view_module": null,
       "_view_module_version": "",
       "_view_name": null,
       "colors": {
        "dtype": "uint32",
        "shape": [
         20,
         2
        ]
       },
       "compression_level": 0,
       "head_color": 255,
       "head_size": 3,
       "id": 4928632048,
       "label_size": 1,
       "labels": [],
       "line_width": 0.01,
       "model_matrix": {
        "dtype": "float32",
        "shape": [
         4,
         4
        ]
       },
       "name": "Vectors #1",
       "origin_color": 255,
       "origins": {
        "dtype": "float32",
        "shape": [
         20,
         3
        ]
       },
       "type": "Vectors",
       "use_head": true,
       "vectors": {
        "dtype": "float32",
        "shape": [
         20,
         3
        ]
       },
       "visible": true
      }
     },
     "c8152e820cfa4b60901d4825b178fce7": {
      "model_module": "@jupyter-widgets/output",
      "model_module_version": "1.0.0",
      "model_name": "OutputModel",
      "state": {
       "layout": "IPY_MODEL_9723dc385bcc436d82eb2493790390ea",
       "outputs": [
        {
         "data": {
          "application/vnd.jupyter.widget-view+json": {
           "model_id": "ae1199de7b0245cfac2f39eee351357a",
           "version_major": 2,
           "version_minor": 0
          },
          "text/plain": "Plot(antialias=3, axes=['x', 'y', 'z'], axes_helper=1.0, background_color=16777215, camera=[2, -3, 0.2, 0.0, 0…"
         },
         "metadata": {},
         "output_type": "display_data"
        }
       ]
      }
     },
     "c826ba918e4d467b8e88adefd7b90056": {
      "model_module": "@jupyter-widgets/base",
      "model_module_version": "1.2.0",
      "model_name": "LayoutModel",
      "state": {}
     },
     "c863fc0e5dce48a1b1dc55e3f946ff37": {
      "model_module": "@jupyter-widgets/output",
      "model_module_version": "1.0.0",
      "model_name": "OutputModel",
      "state": {
       "layout": "IPY_MODEL_e38c764b314e4349bca0d0ed6d4e9b80",
       "outputs": [
        {
         "data": {
          "application/vnd.jupyter.widget-view+json": {
           "model_id": "ad146fd1f2b44638a7640adedb8d6c68",
           "version_major": 2,
           "version_minor": 0
          },
          "text/plain": "Plot(antialias=3, axes=['x', 'y', 'z'], axes_helper=1.0, background_color=16777215, camera=[2, -3, 0.2, 0.0, 0…"
         },
         "metadata": {},
         "output_type": "display_data"
        }
       ]
      }
     },
     "c9158bbbc0b442439ca7976c35393631": {
      "buffers": [
       {
        "data": "eNoDAAAAAAE=",
        "encoding": "base64",
        "path": [
         "colors",
         "compressed_buffer"
        ]
       },
       {
        "data": "eNpjYGiwZ8AAxIsBAF7EAv0=",
        "encoding": "base64",
        "path": [
         "model_matrix",
         "compressed_buffer"
        ]
       },
       {
        "data": "eNoDAAAAAAE=",
        "encoding": "base64",
        "path": [
         "opacities",
         "compressed_buffer"
        ]
       },
       {
        "data": "eNpjYGCwZ4DjA0hsBQcYm5EhwQEhPgGJvQFJzQUk8Q9IbA5HBFsCia2BxLZwRJjjgcSOQGJnIKmvQGK3ILF7kNhTkNhz4GwA3oQXaA==",
        "encoding": "base64",
        "path": [
         "positions",
         "compressed_buffer"
        ]
       }
      ],
      "model_module": "k3d",
      "model_module_version": "2.7.4",
      "model_name": "ObjectModel",
      "state": {
       "_view_count": null,
       "_view_module": null,
       "_view_module_version": "",
       "_view_name": null,
       "color": 5010096,
       "colorLegend": false,
       "colors": {
        "dtype": "uint32",
        "shape": [
         0
        ]
       },
       "compression_level": 0,
       "id": 140675199927824,
       "mesh_detail": 2,
       "model_matrix": {
        "dtype": "float32",
        "shape": [
         4,
         4
        ]
       },
       "name": "Points #1",
       "opacities": {
        "dtype": "float32",
        "shape": [
         0
        ]
       },
       "opacity": 1,
       "point_size": 0.25,
       "positions": {
        "dtype": "float32",
        "shape": [
         20,
         3
        ]
       },
       "shader": "3dSpecular",
       "type": "Points",
       "visible": true
      }
     },
     "c91ccd332ffd48f09987bcac89beceaa": {
      "model_module": "k3d",
      "model_module_version": "2.7.4",
      "model_name": "PlotModel",
      "state": {
       "_backend_version": "2.7.4",
       "_dom_classes": [],
       "_view_count": null,
       "antialias": 3,
       "auto_rendering": true,
       "axes": [
        "x (nm)",
        "y (nm)",
        "z (nm)"
       ],
       "axes_helper": 1,
       "background_color": 16777215,
       "camera": [
        13.351749827250202,
        -12.027624747197347,
        1.335174983146488,
        4.999999995785306,
        0.5,
        0.5,
        0,
        0,
        1
       ],
       "camera_animation": [],
       "camera_auto_fit": true,
       "camera_fov": 60,
       "camera_no_pan": false,
       "camera_no_rotate": false,
       "camera_no_zoom": false,
       "clipping_planes": [],
       "colorbar_object_id": -1,
       "fps": 25,
       "fps_meter": false,
       "grid": [
        -1,
        -1,
        -1,
        1,
        1,
        1
       ],
       "grid_auto_fit": true,
       "grid_visible": true,
       "height": 512,
       "layout": "IPY_MODEL_c51fa61b8e4e4329a920aa63c6f922c1",
       "lighting": 1.5,
       "menu_visibility": true,
       "mode": "view",
       "name": null,
       "object_ids": [
        4554183680,
        4925561776
       ],
       "rendering_steps": 1,
       "screenshot": "",
       "screenshot_scale": 2,
       "snapshot": "",
       "time": 0,
       "voxel_paint_color": 0
      }
     },
     "c9cf2b69eb5540f4bf515dcce50d4ac4": {
      "model_module": "@jupyter-widgets/base",
      "model_module_version": "1.2.0",
      "model_name": "LayoutModel",
      "state": {}
     },
     "ca6e91c4541e4fa9a8f35e874e7ab28c": {
      "model_module": "@jupyter-widgets/base",
      "model_module_version": "1.2.0",
      "model_name": "LayoutModel",
      "state": {}
     },
     "cc19713e9de64dbd856431c7ce40da48": {
      "model_module": "@jupyter-widgets/base",
      "model_module_version": "1.2.0",
      "model_name": "LayoutModel",
      "state": {}
     },
     "ccac600736f04f35a47c5f3ef0cd63f3": {
      "buffers": [
       {
        "data": "eNoLarnLEERFDABnGyH9",
        "encoding": "base64",
        "path": [
         "colors",
         "compressed_buffer"
        ]
       },
       {
        "data": "eNpjYGiwZ8AAxIsBAF7EAv0=",
        "encoding": "base64",
        "path": [
         "model_matrix",
         "compressed_buffer"
        ]
       },
       {
        "data": "eNpjYGiwZ2BgAGIw7YBgOyCxG5DYC7CwGYwZGQ7A2QwMD5DYDI4ItgCcDQCUDg3j",
        "encoding": "base64",
        "path": [
         "origins",
         "compressed_buffer"
        ]
       },
       {
        "data": "eNpjYGjYzwAE///XA2mS2fZQtj2pbACvtSfP",
        "encoding": "base64",
        "path": [
         "vectors",
         "compressed_buffer"
        ]
       }
      ],
      "model_module": "k3d",
      "model_module_version": "2.7.4",
      "model_name": "ObjectModel",
      "state": {
       "_view_count": null,
       "_view_module": null,
       "_view_module_version": "",
       "_view_name": null,
       "colorLegend": false,
       "colors": {
        "dtype": "uint32",
        "shape": [
         10,
         2
        ]
       },
       "compression_level": 0,
       "head_color": 255,
       "head_size": 3,
       "id": 4924756656,
       "label_size": 1,
       "labels": [],
       "line_width": 0.01,
       "model_matrix": {
        "dtype": "float32",
        "shape": [
         4,
         4
        ]
       },
       "name": "Vectors #1",
       "origin_color": 255,
       "origins": {
        "dtype": "float32",
        "shape": [
         10,
         3
        ]
       },
       "type": "Vectors",
       "use_head": true,
       "vectors": {
        "dtype": "float32",
        "shape": [
         10,
         3
        ]
       },
       "visible": true
      }
     },
     "ccdf81a8103b4f8491d480b450dc41d3": {
      "model_module": "@jupyter-widgets/output",
      "model_module_version": "1.0.0",
      "model_name": "OutputModel",
      "state": {
       "layout": "IPY_MODEL_ab0217f6b19046f0bd995ff082eb7388",
       "outputs": [
        {
         "data": {
          "application/vnd.jupyter.widget-view+json": {
           "model_id": "923c83a407c841d7bb9c5a599f11a268",
           "version_major": 2,
           "version_minor": 0
          },
          "text/plain": "Plot(antialias=3, axes=['x', 'y', 'z'], axes_helper=1.0, background_color=16777215, camera=[2, -3, 0.2, 0.0, 0…"
         },
         "metadata": {},
         "output_type": "display_data"
        }
       ]
      }
     },
     "cce91f45acfc41749d51c0b29430ff96": {
      "model_module": "k3d",
      "model_module_version": "2.7.4",
      "model_name": "PlotModel",
      "state": {
       "_backend_version": "2.7.4",
       "_dom_classes": [],
       "_view_count": null,
       "antialias": 3,
       "auto_rendering": true,
       "axes": [
        "x (nm)",
        "y (nm)",
        "z (nm)"
       ],
       "axes_helper": 1,
       "background_color": 16777215,
       "camera": [
        13.312922348924026,
        -11.969383532282365,
        1.3312922354855081,
        4.999999994069116,
        0.5,
        0.5,
        0,
        0,
        1
       ],
       "camera_animation": [],
       "camera_auto_fit": true,
       "camera_fov": 60,
       "camera_no_pan": false,
       "camera_no_rotate": false,
       "camera_no_zoom": false,
       "clipping_planes": [],
       "colorbar_object_id": -1,
       "fps": 25,
       "fps_meter": false,
       "grid": [
        -1,
        -1,
        -1,
        1,
        1,
        1
       ],
       "grid_auto_fit": true,
       "grid_visible": true,
       "height": 512,
       "layout": "IPY_MODEL_3e626287e46d4a96a6441673c934df9b",
       "lighting": 1.5,
       "menu_visibility": true,
       "mode": "view",
       "name": null,
       "object_ids": [
        4932542576,
        4932543968
       ],
       "rendering_steps": 1,
       "screenshot": "",
       "screenshot_scale": 2,
       "snapshot": "",
       "time": 0,
       "voxel_paint_color": 0
      }
     },
     "cdae61223cc24c52bb43b2df8c3d4ac3": {
      "model_module": "@jupyter-widgets/base",
      "model_module_version": "1.2.0",
      "model_name": "LayoutModel",
      "state": {}
     },
     "ce029f22136a410eb14b6efeded1c36e": {
      "model_module": "@jupyter-widgets/base",
      "model_module_version": "1.2.0",
      "model_name": "LayoutModel",
      "state": {}
     },
     "ce4282f069f147afb2a70a5fe8a97fa9": {
      "model_module": "@jupyter-widgets/base",
      "model_module_version": "1.2.0",
      "model_name": "LayoutModel",
      "state": {}
     },
     "cec836a14fcc43ad94316909e5a4e9a4": {
      "buffers": [
       {
        "data": "eNrzU2Jg8APiDF0IzrPXBOOcMD8wLi4sAOOKvslgnLt6JxhHHb8Nxk63P4OxxYt/KBgmDlMH0wczB2YuzB6YvTB3+EHdBQB7nzdN",
        "encoding": "base64",
        "path": [
         "colors",
         "compressed_buffer"
        ]
       },
       {
        "data": "eNpjYGiwZ8AAxIsBAF7EAv0=",
        "encoding": "base64",
        "path": [
         "model_matrix",
         "compressed_buffer"
        ]
       },
       {
        "data": "eNpL+iNvz8DAYG+9uMa++e1DMHtHSK59Y7yFA4jt9DvYXq67Fsz+9MoIKL8AzPbS5bU3PrTfgRHI7i4+Y3dV8B6YvcGj2W622G8wW0WV2y6om9sRxL7xyN32n7kkmN3g6G/NdEINzl5XYgJXs7nEyRGmV/x7gCPMzBdyCY4wuxgYChxhbpjj1+AIc5vAlw5HmJs1Hk50hPlFlmG2I8yPALp4REo=",
        "encoding": "base64",
        "path": [
         "origins",
         "compressed_buffer"
        ]
       },
       {
        "data": "eNoTfFy/b2sbu2GZW+V+nm3s+61/PdQvWBm1n+uP0/7iWVs2tX5T3/8yImf/4xW3N51afXofA0PD/tVKwZvnXrm0V0e5Zv/51Cmbrxr62TnIJu5X33J48/y8n3abMg33F+78uDkv18q++MqjfZzsTFuWMqfbC/6X3rd/Lt+W2sQ6ENsOxgaqsYOpAeq1h+kFmmkPMxNolz3MLqAb7GFuALrNHuY2oJvtYW4G+sUe5hfBx/V2MD8CAJFmdfM=",
        "encoding": "base64",
        "path": [
         "vectors",
         "compressed_buffer"
        ]
       }
      ],
      "model_module": "k3d",
      "model_module_version": "2.7.4",
      "model_name": "ObjectModel",
      "state": {
       "_view_count": null,
       "_view_module": null,
       "_view_module_version": "",
       "_view_name": null,
       "colors": {
        "dtype": "uint32",
        "shape": [
         20,
         2
        ]
       },
       "compression_level": 0,
       "head_color": 255,
       "head_size": 1,
       "id": 4565864560,
       "label_size": 1,
       "labels": [],
       "line_width": 0.01,
       "model_matrix": {
        "dtype": "float32",
        "shape": [
         4,
         4
        ]
       },
       "name": "Vectors #1",
       "origin_color": 255,
       "origins": {
        "dtype": "float32",
        "shape": [
         20,
         3
        ]
       },
       "type": "Vectors",
       "use_head": true,
       "vectors": {
        "dtype": "float32",
        "shape": [
         20,
         3
        ]
       },
       "visible": true
      }
     },
     "cf60606fe213428a8c027b7913f68b4f": {
      "buffers": [
       {
        "data": "eNoLarnLEERFDABnGyH9",
        "encoding": "base64",
        "path": [
         "colors",
         "compressed_buffer"
        ]
       },
       {
        "data": "eNpjYGiwZ8AAxIsBAF7EAv0=",
        "encoding": "base64",
        "path": [
         "model_matrix",
         "compressed_buffer"
        ]
       },
       {
        "data": "eNpjYGiwZ2BgsD97hgdEOyDYDkjsBiT2Agx2WtozO0aGA3A2A8MDJDaDI4ItAGcDAHQcHE0=",
        "encoding": "base64",
        "path": [
         "origins",
         "compressed_buffer"
        ]
       },
       {
        "data": "eNpjYGjYzwAEZ8+c2ctAOtseyrYllQ0AcQMmyw==",
        "encoding": "base64",
        "path": [
         "vectors",
         "compressed_buffer"
        ]
       }
      ],
      "model_module": "k3d",
      "model_module_version": "2.7.4",
      "model_name": "ObjectModel",
      "state": {
       "_view_count": null,
       "_view_module": null,
       "_view_module_version": "",
       "_view_name": null,
       "colorLegend": false,
       "colors": {
        "dtype": "uint32",
        "shape": [
         10,
         2
        ]
       },
       "compression_level": 0,
       "head_color": 255,
       "head_size": 3,
       "id": 4936882976,
       "label_size": 1,
       "labels": [],
       "line_width": 0.01,
       "model_matrix": {
        "dtype": "float32",
        "shape": [
         4,
         4
        ]
       },
       "name": "Vectors #1",
       "origin_color": 255,
       "origins": {
        "dtype": "float32",
        "shape": [
         10,
         3
        ]
       },
       "type": "Vectors",
       "use_head": true,
       "vectors": {
        "dtype": "float32",
        "shape": [
         10,
         3
        ]
       },
       "visible": true
      }
     },
     "cf664119974f4615acb7314c48d43011": {
      "model_module": "k3d",
      "model_module_version": "2.7.4",
      "model_name": "PlotModel",
      "state": {
       "_backend_version": "2.7.4",
       "_dom_classes": [],
       "_view_count": null,
       "antialias": 3,
       "auto_rendering": true,
       "axes": [
        "x (nm)",
        "y (nm)",
        "z (nm)"
       ],
       "axes_helper": 1,
       "background_color": 16777215,
       "camera": [
        13.349166924992018,
        -12.023750283179899,
        1.334916701439906,
        5.000000059604645,
        0.5000000149011612,
        0.5000000149011612,
        0,
        0,
        1
       ],
       "camera_animation": [],
       "camera_auto_fit": true,
       "camera_fov": 60,
       "camera_no_pan": false,
       "camera_no_rotate": false,
       "camera_no_zoom": false,
       "clipping_planes": [],
       "colorbar_object_id": -1,
       "fps": 25,
       "fps_meter": false,
       "grid": [
        -1,
        -1,
        -1,
        1,
        1,
        1
       ],
       "grid_auto_fit": true,
       "grid_visible": true,
       "height": 512,
       "layout": "IPY_MODEL_0bdbfaed14cc443eafdb05bf167852cf",
       "lighting": 1.5,
       "menu_visibility": true,
       "mode": "view",
       "name": null,
       "object_ids": [
        4756854144,
        4399476896
       ],
       "rendering_steps": 1,
       "screenshot": "",
       "screenshot_scale": 2,
       "snapshot": "",
       "time": 0,
       "voxel_paint_color": 0
      }
     },
     "cfa05b3c26c94b819979902b531774d3": {
      "model_module": "@jupyter-widgets/base",
      "model_module_version": "1.2.0",
      "model_name": "LayoutModel",
      "state": {}
     },
     "cffc94bb81d04cdf8cc20b82bd5437a2": {
      "model_module": "@jupyter-widgets/base",
      "model_module_version": "1.2.0",
      "model_name": "LayoutModel",
      "state": {}
     },
     "d081f2dab09441808064153c792054d1": {
      "model_module": "k3d",
      "model_module_version": "2.7.4",
      "model_name": "PlotModel",
      "state": {
       "_backend_version": "2.7.4",
       "_dom_classes": [],
       "_view_count": null,
       "antialias": 3,
       "auto_rendering": true,
       "axes": [
        "x (nm)",
        "y (nm)",
        "z (nm)"
       ],
       "axes_helper": 1,
       "background_color": 16777215,
       "camera": [
        10.104154597649918,
        -12.208383704206668,
        0.7679743658176075,
        10,
        0.5,
        0.5,
        -0.018576338901100407,
        -0.03448105161652526,
        0.9992326939769578
       ],
       "camera_animation": [],
       "camera_auto_fit": true,
       "camera_fov": 60,
       "camera_no_pan": false,
       "camera_no_rotate": false,
       "camera_no_zoom": false,
       "clipping_planes": [],
       "colorbar_object_id": -1,
       "fps": 25,
       "fps_meter": false,
       "grid": [
        -1,
        -1,
        -1,
        1,
        1,
        1
       ],
       "grid_auto_fit": true,
       "grid_visible": true,
       "height": 512,
       "layout": "IPY_MODEL_fedd6d7d6ffb4166ba76775daf3200b9",
       "lighting": 1.5,
       "menu_visibility": true,
       "mode": "view",
       "name": null,
       "object_ids": [
        4928467680,
        4928470944
       ],
       "rendering_steps": 1,
       "screenshot": "",
       "screenshot_scale": 2,
       "snapshot": "",
       "time": 0,
       "voxel_paint_color": 0
      }
     },
     "d0cc1bbb9f904fe2a327175331a5b70e": {
      "model_module": "@jupyter-widgets/output",
      "model_module_version": "1.0.0",
      "model_name": "OutputModel",
      "state": {
       "layout": "IPY_MODEL_7c75ba79aaed46f7b91ac40ad45812bf",
       "outputs": [
        {
         "data": {
          "application/vnd.jupyter.widget-view+json": {
           "model_id": "098cde21f3bb4ae69c71507f12e5cfcd",
           "version_major": 2,
           "version_minor": 0
          },
          "text/plain": "Plot(antialias=3, axes=['x', 'y', 'z'], axes_helper=1.0, background_color=16777215, camera=[2, -3, 0.2, 0.0, 0…"
         },
         "metadata": {},
         "output_type": "display_data"
        }
       ]
      }
     },
     "d0d0836759c84e11875d9568baeec1b2": {
      "model_module": "@jupyter-widgets/base",
      "model_module_version": "1.2.0",
      "model_name": "LayoutModel",
      "state": {}
     },
     "d0da68da171d4996865c584fa7b07e17": {
      "model_module": "@jupyter-widgets/base",
      "model_module_version": "1.2.0",
      "model_name": "LayoutModel",
      "state": {}
     },
     "d1ce2b3bd30e4e81abe6a771f43790b8": {
      "model_module": "@jupyter-widgets/base",
      "model_module_version": "1.2.0",
      "model_name": "LayoutModel",
      "state": {}
     },
     "d21bfc910f8343c982c4a31b726af086": {
      "model_module": "@jupyter-widgets/base",
      "model_module_version": "1.2.0",
      "model_name": "LayoutModel",
      "state": {}
     },
     "d234aa99cffc4105ad0281b9dd78956e": {
      "model_module": "@jupyter-widgets/base",
      "model_module_version": "1.2.0",
      "model_name": "LayoutModel",
      "state": {}
     },
     "d290c7306fa749beb786d2d6051dd2f9": {
      "model_module": "k3d",
      "model_module_version": "2.7.4",
      "model_name": "PlotModel",
      "state": {
       "_backend_version": "2.7.4",
       "_dom_classes": [],
       "_view_count": null,
       "antialias": 3,
       "auto_rendering": true,
       "axes": [
        "x (nm)",
        "y (nm)",
        "z (nm)"
       ],
       "axes_helper": 1,
       "background_color": 16777215,
       "camera": [
        13.351749827250202,
        -12.027624747197345,
        1.3351749831465018,
        4.999999995785306,
        0.5,
        0.5,
        0,
        0,
        1
       ],
       "camera_animation": [],
       "camera_auto_fit": true,
       "camera_fov": 60,
       "camera_no_pan": false,
       "camera_no_rotate": false,
       "camera_no_zoom": false,
       "clipping_planes": [],
       "colorbar_object_id": -1,
       "fps": 25,
       "fps_meter": false,
       "grid": [
        -1,
        -1,
        -1,
        1,
        1,
        1
       ],
       "grid_auto_fit": true,
       "grid_visible": true,
       "height": 512,
       "layout": "IPY_MODEL_fb739d839b9645659496300056133d57",
       "lighting": 1.5,
       "menu_visibility": true,
       "mode": "view",
       "name": null,
       "object_ids": [
        4755758480,
        4400247520
       ],
       "rendering_steps": 1,
       "screenshot": "",
       "screenshot_scale": 2,
       "snapshot": "",
       "time": 0,
       "voxel_paint_color": 0
      }
     },
     "d2b534c23c684788b28171b294e1d0bf": {
      "model_module": "@jupyter-widgets/output",
      "model_module_version": "1.0.0",
      "model_name": "OutputModel",
      "state": {
       "layout": "IPY_MODEL_a3b018ffd1b2483f8ae194c587f8b4ad",
       "outputs": [
        {
         "data": {
          "application/vnd.jupyter.widget-view+json": {
           "model_id": "15e24382b3994f159d19673795d1e05a",
           "version_major": 2,
           "version_minor": 0
          },
          "text/plain": "Plot(antialias=3, axes=['x', 'y', 'z'], axes_helper=1.0, background_color=16777215, camera=[2, -3, 0.2, 0.0, 0…"
         },
         "metadata": {},
         "output_type": "display_data"
        }
       ]
      }
     },
     "d378fe346470424fbec6425d0dab5f93": {
      "buffers": [
       {
        "data": "eNoLarnLEERFDABnGyH9",
        "encoding": "base64",
        "path": [
         "colors",
         "compressed_buffer"
        ]
       },
       {
        "data": "eNpjYGiwZ8AAxIsBAF7EAv0=",
        "encoding": "base64",
        "path": [
         "model_matrix",
         "compressed_buffer"
        ]
       },
       {
        "data": "eNpjYGiwZ2BgsD97hgdEOyDYDkjsBiT2Agx2WtozO0aGA3A2A8MDJDaDI4ItAGcDAHQcHE0=",
        "encoding": "base64",
        "path": [
         "origins",
         "compressed_buffer"
        ]
       },
       {
        "data": "eNpjYGjYzwAEZ8+c2ctAOtseyrYllQ0AcQMmyw==",
        "encoding": "base64",
        "path": [
         "vectors",
         "compressed_buffer"
        ]
       }
      ],
      "model_module": "k3d",
      "model_module_version": "2.7.4",
      "model_name": "ObjectModel",
      "state": {
       "_view_count": null,
       "_view_module": null,
       "_view_module_version": "",
       "_view_name": null,
       "colorLegend": false,
       "colors": {
        "dtype": "uint32",
        "shape": [
         10,
         2
        ]
       },
       "compression_level": 0,
       "head_color": 255,
       "head_size": 3,
       "id": 4932542576,
       "label_size": 1,
       "labels": [],
       "line_width": 0.01,
       "model_matrix": {
        "dtype": "float32",
        "shape": [
         4,
         4
        ]
       },
       "name": "Vectors #1",
       "origin_color": 255,
       "origins": {
        "dtype": "float32",
        "shape": [
         10,
         3
        ]
       },
       "type": "Vectors",
       "use_head": true,
       "vectors": {
        "dtype": "float32",
        "shape": [
         10,
         3
        ]
       },
       "visible": true
      }
     },
     "d3b7fe21b9144688b8fcd0144c18f248": {
      "model_module": "@jupyter-widgets/base",
      "model_module_version": "1.2.0",
      "model_name": "LayoutModel",
      "state": {}
     },
     "d3c7b1dbd1fc443895d1483713c0fbf8": {
      "model_module": "@jupyter-widgets/base",
      "model_module_version": "1.2.0",
      "model_name": "LayoutModel",
      "state": {}
     },
     "d3cc26ab16ac4b28bb7757678bc260cd": {
      "model_module": "k3d",
      "model_module_version": "2.7.4",
      "model_name": "PlotModel",
      "state": {
       "_backend_version": "2.7.4",
       "_dom_classes": [],
       "_view_count": null,
       "antialias": 3,
       "auto_rendering": true,
       "axes": [
        "x (nm)",
        "y (nm)",
        "z (nm)"
       ],
       "axes_helper": 1,
       "background_color": 16777215,
       "camera": [
        117.93168005446974,
        -177.52251999788558,
        14.318168002094316,
        -0.2499999664723873,
        -0.2499999664723873,
        2.5,
        0,
        0,
        1
       ],
       "camera_animation": [],
       "camera_auto_fit": true,
       "camera_fov": 60,
       "camera_no_pan": false,
       "camera_no_rotate": false,
       "camera_no_zoom": false,
       "clipping_planes": [],
       "colorbar_object_id": -1,
       "fps": 25,
       "fps_meter": false,
       "grid": [
        -1,
        -1,
        -1,
        1,
        1,
        1
       ],
       "grid_auto_fit": true,
       "grid_visible": true,
       "height": 512,
       "layout": "IPY_MODEL_d21bfc910f8343c982c4a31b726af086",
       "lighting": 1.5,
       "menu_visibility": true,
       "mode": "view",
       "name": null,
       "object_ids": [
        4757766448
       ],
       "rendering_steps": 1,
       "screenshot": "",
       "screenshot_scale": 2,
       "snapshot": "",
       "time": 0,
       "voxel_paint_color": 0
      }
     },
     "d4257f142ef64cdc912e7c00627466f2": {
      "buffers": [
       {
        "data": "eNoLarnLEDSIMQBtm0P5",
        "encoding": "base64",
        "path": [
         "colors",
         "compressed_buffer"
        ]
       },
       {
        "data": "eNpjYGiwZ8AAxIsBAF7EAv0=",
        "encoding": "base64",
        "path": [
         "model_matrix",
         "compressed_buffer"
        ]
       },
       {
        "data": "eNpjYGCwZ4BgIDiAxFZwgLEZGRIcEOITkNgbkNRcQBL/gMTmcESwJZDYGkhsC0eEOR5I7AgkdgaS+gokdgsSuweJPQWJPQfOBgCoYhJ8",
        "encoding": "base64",
        "path": [
         "origins",
         "compressed_buffer"
        ]
       },
       {
        "data": "eNrbJHx5LQMYNNhvGgFsAMzQPFE=",
        "encoding": "base64",
        "path": [
         "vectors",
         "compressed_buffer"
        ]
       }
      ],
      "model_module": "k3d",
      "model_module_version": "2.7.4",
      "model_name": "ObjectModel",
      "state": {
       "_view_count": null,
       "_view_module": null,
       "_view_module_version": "",
       "_view_name": null,
       "colors": {
        "dtype": "uint32",
        "shape": [
         20,
         2
        ]
       },
       "compression_level": 0,
       "head_color": 255,
       "head_size": 3,
       "id": 4928467680,
       "label_size": 1,
       "labels": [],
       "line_width": 0.01,
       "model_matrix": {
        "dtype": "float32",
        "shape": [
         4,
         4
        ]
       },
       "name": "Vectors #1",
       "origin_color": 255,
       "origins": {
        "dtype": "float32",
        "shape": [
         20,
         3
        ]
       },
       "type": "Vectors",
       "use_head": true,
       "vectors": {
        "dtype": "float32",
        "shape": [
         20,
         3
        ]
       },
       "visible": true
      }
     },
     "d4621452d3104d80aade891488c26f15": {
      "buffers": [
       {
        "data": "eNoDAAAAAAE=",
        "encoding": "base64",
        "path": [
         "colors",
         "compressed_buffer"
        ]
       },
       {
        "data": "eNpjYGiwZ8AAxIsBAF7EAv0=",
        "encoding": "base64",
        "path": [
         "model_matrix",
         "compressed_buffer"
        ]
       },
       {
        "data": "eNoDAAAAAAE=",
        "encoding": "base64",
        "path": [
         "opacities",
         "compressed_buffer"
        ]
       },
       {
        "data": "eNpt2MFx6zoMhWE/FaE11ypCQ3DF4lQOC4hUh4pgCW9sReJ37/UikzMYkoM/OAaMvF7r8fr8pPzfa0HPj369JuLnPuINve3jTCXef4ZO6syZzN3gTXQLciA+FXJGL2WcWdXHxXnxDj0/+s074uc+4g297eNMJd5/hk7qzJnM3eBNdAtyID4VckYvZZxZ1cdVy5t3hneGd4Z3hneGd4Z3hneGd4Z3hneGd4Z3hneGd4Z3hneGd4b30cfl1/vvPeHnCT9P+HnCzxN+nvDzhJ8n/Dzh5wk/T/h5ws8Tfp7w84SfJ/w84ecJP0/U981w1/fW86Ov+t7xd33veENv+zhTib/re+ukzpzJ3A3eRLcgB+Lv+j45o5cyzqzq46rTXd+2j/q2fdSh7SPHto/6tn3Ut+2jvm0f9W37qO+jM2cyd4M30S3Igfi7vk/O6KWMM6v6uHK9eTd4N3g3eDd4N3g3eDd4N3g3eDd4N3g3eDd4N3g3eDd4N3g3eB99XPndfq74ueLnip8rfq74ueLnip8rfq74ueLnip8rfq74ueLnip8rfq74ueLnSn3fNbjre+v50Vd97/i7vne8obd9nKnE379vndSZM5m7wZvoFuRA/F3fJ2f0UsaZVX1ceTzzEN4Eb4I3wZvgTfAmeBO8Cd4Eb4I3wZvgTfAmeBO8Cd4Eb/r58zuO89/Z6Nywp9pv/CzqU2so398/PXM3eBPdghyIf3gzvBneDC/f6Tq8Hd4Ob4e3w9vh7fB2eDu8/Qtnz9wN3kS3IAfiHz/D2+Ht8D76uP+mv/0q6FdBvwr6VdCvgn4V9KugXwX9Kv6tZc/cDd5EtyAH4p9+FfSroF8F/SqYR8E8CuZRMI+CeRTMo2AeBfMomEfBPPri1565G7yJbkEOxD/zKJhHwTwK5hG8Dd4Gb4O3wdvgbfA2eBu8Dd725TPZM3eDN9EtyIH45/sGvA3eBu+jj/vz//t9Ej+f+PnEzyd+PvHziZ9P/Hzi5/NL3+mZu8Gb6BbkQPzzfRI/n/j5xM8n9b163O++UNgXCvtCYV8o7AuFfaGwLxT2hcK+UP7trT1zN3gT3YIciH/2hcK+UNgXCvtCYR8s7IOFfbCwDxb2wcI+WNgHC/tgYR8s7INf5kfP3A3eRLcgB+KffbCwDxb2wcI+CO8C7wLvAu8C7wLvAu8C7wLvAu/yZUb2zN3gTXQLciD+2ffhXeBd4H30cc/j3//n4OcVP6/4ecXPK35e8fOKn1f8vH75HtAzd4M30S3Igfjn/zn4ecXPK36+9P+LmWdu",
        "encoding": "base64",
        "path": [
         "positions",
         "compressed_buffer"
        ]
       }
      ],
      "model_module": "k3d",
      "model_module_version": "2.7.4",
      "model_name": "ObjectModel",
      "state": {
       "_view_count": null,
       "_view_module": null,
       "_view_module_version": "",
       "_view_name": null,
       "color": 5010096,
       "colorLegend": false,
       "colors": {
        "dtype": "uint32",
        "shape": [
         0
        ]
       },
       "compression_level": 0,
       "id": 4720597360,
       "mesh_detail": 2,
       "model_matrix": {
        "dtype": "float32",
        "shape": [
         4,
         4
        ]
       },
       "name": "Points #1",
       "opacities": {
        "dtype": "float32",
        "shape": [
         0
        ]
       },
       "opacity": 1,
       "point_size": 1.25,
       "positions": {
        "dtype": "float32",
        "shape": [
         400,
         3
        ]
       },
       "shader": "3dSpecular",
       "type": "Points",
       "visible": true
      }
     },
     "d4ff38d836bc45669a09c34ed68fba63": {
      "buffers": [
       {
        "data": "eNrzU2Jg8APiXEc9MM5PSQDjio4eMM5btQOMI07cBWO7e9/B2OLFPwh++BuMQ84+AmMAPD4gQQ==",
        "encoding": "base64",
        "path": [
         "colors",
         "compressed_buffer"
        ]
       },
       {
        "data": "eNpjYGiwZ8AAxIsBAF7EAv0=",
        "encoding": "base64",
        "path": [
         "model_matrix",
         "compressed_buffer"
        ]
       },
       {
        "data": "eNpjYGCwX+Oz0jZwops9A8MB+4Qdc22Yg5SBbAUHBiBwW/HTjpEhwcGh7ZbNGse1dgwMExw0/I7ZznkZAGRvcADRID4jwwUHkDxIHQPDBweQPgYw4HAEmQcyl4FBwhFkD8g+ALGaJYc=",
        "encoding": "base64",
        "path": [
         "origins",
         "compressed_buffer"
        ]
       },
       {
        "data": "eNpjYGBguLom1H6REu9+IJOhSqXMnsejdx8DGDTY+3w/ZQNizQkvsl9Zs9QOxC7L8bM36ha3B7FBNIgPYoPkQepAbIi+BjAbZB7IXBAbZA/IPgA7sR+b",
        "encoding": "base64",
        "path": [
         "vectors",
         "compressed_buffer"
        ]
       }
      ],
      "model_module": "k3d",
      "model_module_version": "2.7.4",
      "model_name": "ObjectModel",
      "state": {
       "_view_count": null,
       "_view_module": null,
       "_view_module_version": "",
       "_view_name": null,
       "colorLegend": false,
       "colors": {
        "dtype": "uint32",
        "shape": [
         10,
         2
        ]
       },
       "compression_level": 0,
       "head_color": 255,
       "head_size": 1,
       "id": 4952768080,
       "label_size": 1,
       "labels": [],
       "line_width": 0.01,
       "model_matrix": {
        "dtype": "float32",
        "shape": [
         4,
         4
        ]
       },
       "name": "Vectors #1",
       "origin_color": 255,
       "origins": {
        "dtype": "float32",
        "shape": [
         10,
         3
        ]
       },
       "type": "Vectors",
       "use_head": true,
       "vectors": {
        "dtype": "float32",
        "shape": [
         10,
         3
        ]
       },
       "visible": true
      }
     },
     "d5997371cfef4a9ba5d75085f4338258": {
      "model_module": "@jupyter-widgets/base",
      "model_module_version": "1.2.0",
      "model_name": "LayoutModel",
      "state": {}
     },
     "d63a07da9f0d476a81f592ddbff85d5e": {
      "buffers": [
       {
        "data": "eNolw2dslWUYgOHbHyb8MDExxhhjjAqCgIDQQSmlpaUtXXSP073X6fuNs7/D3puy9yqjQNl7j7KLbMqQPQREjTuuqI3PiVdypX4MaZ0howtkfQLZMrcr2LpB/qdQKIu7Q2kPKJcVPaHqM6iRdb3A3huU1PqA8TmYgX3BEdjvNRxBr2MGdcIMfgMz5E35Fmbo25j938Ho/y5G2HsYA97HCP9Afog+8CP0iM6yC/qgruiR3dCjuqNF9UAb3BMtupfsjRbTB21IX9kPLTYIFRcsQ1DxoaihYaiEATIclTgQlRQhB6GSI1EpUXIwalg0KjVGDkGlxaLS41AZ8XIoKjMBlZUok1DZyaicFDkMlZuKykuT6Wi2DLT8TLSCLJmNVpiDVhSYi1ach1ZiQy/JRy8tQC8rRC8vksXoFSUYlYGlGFVlGNXlsgKzphKztgqzrvr/9TU47LWyDkdDPQ5lx6k1SIVTl4aGy9BxmQYuh4nb6ZBO3C4nHrdLuvF4PHi9Xrw+H75Ay8Ln92MNHy5HYI0YiTVylByNNUqOHoM1Zqwch3/sePzjJuAfP1FOwj9hMtbEKViTpsppWJOnY02ZgTV1ppyFNa0Ra/psrBlz5FysmfOwZsnG+fgaF+CbvRDfnEX45i7GN2+JXIp3/jK8C5bjXbhCrsS7aBWexavxLGnCs3SNXIt72Trcy9fjXtEsN+BauRHXqk24VrfgatqMs2kLzjVbca7dhmPddhzrd+Bo3onZvAtzwx6MjXsxNu3DaNmP3nIAffNBtC2H0LYeRtt2BLX9qDxGw47jNOw8gX1XK/bdJ6nfc0qepm7vGer2naV2/zlqD5yn5mAb1YcuyItUHb5E5ZHLVB69QsWxq1Qcv0b5ieuUtd6gtLWd0pM3KTl1i+LTtyk6c4eis3cpPHePgvP3yW97gK3tIbYLj8j74jG5F5+Qc+kp2ZefkXXlOZlXX5Bx7SXp178m7cYrUtu/IaX9W5JvfkfSre9JvP0DCXd+JP7Ln4i7+zOx934h5v6vRD/4jaiHvxP56A8iHv9J+JO/CHv6N6HP/iH4q38Jft5ByIsOQl92EPaqg/8ABrdj6Q==",
        "encoding": "base64",
        "path": [
         "color_map",
         "compressed_buffer"
        ]
       },
       {
        "data": "eNpjYDjhxIABsIktcGBgUHBAFWuwBwCGiwQU",
        "encoding": "base64",
        "path": [
         "model_matrix",
         "compressed_buffer"
        ]
       },
       {
        "data": "eNptkDEKhDAQRfUYXsMj2HoD0yop7XKENNppkzJ2KcTWEwgphKQXrEVBCDZiMeu6LCzs/PLB/Jl5nveE0DynxPtJwkohpShZ8iVRxpt+GMehb3gWfRAtWj1vzm2zbgv6wKzo7HrBnWu1XZG9u3hrdziXaVpO2G3L707W6BUOo6pKmQNW3TCPlP18naZO4zitzXnNfUmoGDZYVBoGQZiqBbZB0FyODqYqDnw/iKsJ3ChzjGGz2A7sFvRm7DfUAeYKdfrn/gWBU84p",
        "encoding": "base64",
        "path": [
         "voxels",
         "compressed_buffer"
        ]
       }
      ],
      "model_module": "k3d",
      "model_module_version": "2.7.4",
      "model_name": "ObjectModel",
      "state": {
       "_view_count": null,
       "_view_module": null,
       "_view_module_version": "",
       "_view_name": null,
       "colorLegend": false,
       "color_map": {
        "dtype": "uint32",
        "shape": [
         256
        ]
       },
       "compression_level": 0,
       "id": 4757766448,
       "model_matrix": {
        "dtype": "float32",
        "shape": [
         4,
         4
        ]
       },
       "name": "Voxels #1",
       "opacity": 1,
       "outlines": false,
       "outlines_color": 0,
       "type": "Voxels",
       "visible": true,
       "voxels": {
        "dtype": "uint8",
        "shape": [
         1,
         20,
         20
        ]
       },
       "wireframe": false
      }
     },
     "d76c0cbeb45140fa8584d8d3340e8566": {
      "buffers": [
       {
        "data": "eNoLarnLEERFDABnGyH9",
        "encoding": "base64",
        "path": [
         "colors",
         "compressed_buffer"
        ]
       },
       {
        "data": "eNpjYGiwZ8AAxIsBAF7EAv0=",
        "encoding": "base64",
        "path": [
         "model_matrix",
         "compressed_buffer"
        ]
       },
       {
        "data": "eNpjYGCwZ4BgIDiAxFZwgLEZGRIcEOITkNgbkNRcQBL/gMTmcESwJeBsAD8sCVk=",
        "encoding": "base64",
        "path": [
         "origins",
         "compressed_buffer"
        ]
       },
       {
        "data": "eNrbJHx5LQMYNNhvoiMbAFSfHik=",
        "encoding": "base64",
        "path": [
         "vectors",
         "compressed_buffer"
        ]
       }
      ],
      "model_module": "k3d",
      "model_module_version": "2.7.4",
      "model_name": "ObjectModel",
      "state": {
       "_view_count": null,
       "_view_module": null,
       "_view_module_version": "",
       "_view_name": null,
       "colorLegend": false,
       "colors": {
        "dtype": "uint32",
        "shape": [
         10,
         2
        ]
       },
       "compression_level": 0,
       "head_color": 255,
       "head_size": 3,
       "id": 4936058000,
       "label_size": 1,
       "labels": [],
       "line_width": 0.01,
       "model_matrix": {
        "dtype": "float32",
        "shape": [
         4,
         4
        ]
       },
       "name": "Vectors #1",
       "origin_color": 255,
       "origins": {
        "dtype": "float32",
        "shape": [
         10,
         3
        ]
       },
       "type": "Vectors",
       "use_head": true,
       "vectors": {
        "dtype": "float32",
        "shape": [
         10,
         3
        ]
       },
       "visible": true
      }
     },
     "d794d0f1c08d483982ec0e177380967b": {
      "model_module": "k3d",
      "model_module_version": "2.7.4",
      "model_name": "PlotModel",
      "state": {
       "_backend_version": "2.7.4",
       "_dom_classes": [],
       "_view_count": null,
       "antialias": 3,
       "auto_rendering": true,
       "axes": [
        "x (nm)",
        "y (nm)",
        "z (nm)"
       ],
       "axes_helper": 1,
       "background_color": 16777215,
       "camera": [
        23.316246367227503,
        -11.30580467614816,
        7.863656008387991,
        9.950000006705523,
        0.5,
        0.5,
        -0.16449006763937993,
        0.30777375298872006,
        0.9371330399784392
       ],
       "camera_animation": [],
       "camera_auto_fit": true,
       "camera_fov": 60,
       "camera_no_pan": false,
       "camera_no_rotate": false,
       "camera_no_zoom": false,
       "clipping_planes": [],
       "colorbar_object_id": -1,
       "fps": 25,
       "fps_meter": false,
       "grid": [
        -1,
        -1,
        -1,
        1,
        1,
        1
       ],
       "grid_auto_fit": true,
       "grid_visible": true,
       "height": 512,
       "layout": "IPY_MODEL_e96a46d78a0745b89ee843f477e76dc9",
       "lighting": 1.5,
       "menu_visibility": true,
       "mode": "view",
       "name": null,
       "object_ids": [
        4928900736
       ],
       "rendering_steps": 1,
       "screenshot": "",
       "screenshot_scale": 2,
       "snapshot": "",
       "time": 0,
       "voxel_paint_color": 0
      }
     },
     "d7f8d9b710a24a34a3799376dc09843e": {
      "buffers": [
       {
        "data": "eNrtwzENAAAIAzA0ThM25wUXXG3SbCeqqqoPD7ObT6w=",
        "encoding": "base64",
        "path": [
         "colors",
         "compressed_buffer"
        ]
       },
       {
        "data": "eNpjYGiwZ8AAxIsBAF7EAv0=",
        "encoding": "base64",
        "path": [
         "model_matrix",
         "compressed_buffer"
        ]
       },
       {
        "data": "eNpN17GN40gQRmEt7bVpt01bNtFVFsNRCBcAg1AQHYC4loJgEB3CHW8x7M8QUCgUpHmoh+r5H4/tz+Ox/vf55/nr8aQud/14/Kbfj9H/Ur+PMfOiX5z5jPr63P3K78bov6jfMWa+9Dv938n35Jh5Um9/fj2Wm3fU5a4v3tHvx+h/qd/HmHnRL858Rn3N3f3K78bov6jfMWa+9Dv938n35Jh5Ul+8M7wzvDO8M7wzvDO8M7wzvDO8M7wzvDO8M7wzvDO8M7wzvDO8M7zzzft4TPg84fOEzxM+T/g84fOEzxM+T/g84fOEzxM+T/g84fOEzxM+T/g84fOEzxP7PY+x35+63PXf/f70r/3+9L/U72PMvOgXZz6jvubufuV3Y/Rf1O8YM1/6nf613/t7csw8qa/9tmPstx1jv+0Y+23H2G87xn7bMfbbjrHfdoz93jOfUV+fu1/53Rj9F/U7xsyXfqd/7ff+nhwzT+qLd4d3h3eHd4d3h3eHd4d3h3eHd4d3h3eHd4d3h3eHd4d3h3eHd4d3P4bPGz5v+Lzh84bPGz5v+Lzh84bPGz5v+Lzh84bPGz5v+Lzh84bPGz5v+Lzh88Z++2fs96cud/13vz/9a78//S/1+xgzL/rFmc+o//9bP2O/9+/G6L+o3zFmvvQ7/Wu/9/fkmHlSX7wF3gJvgbfAW+At8BZ4C7wF3gJvgbfAW+At8BZ4C7wF3gJvgbfIW+Gt8FZ4K7wV3gpvhbfCW+Gt8FZ4K7wV3gpvhbfCW+Gt8FZ4Kz7D2+Ht8HZ4O7wd3g5vh7fD2+Ht8HZ4O7wd3g5vh7fD2+Ht8PbKvQruVXCvgnsV3KvgXgX3KrhXwb0K7lVwr4J7Fdyr4F4F9yq4V8G9Cu5VcK+CexW8R8F7FLxHwXsUvEfBexS8R8F7FLxHwXsUvEfBexS8R8F7FLxHwXsUvEfBexS8R8F7BG+Dt8Hb4G3wNngbvA3eBm+Dt8Hb4G3wNngbvA3eBm+Dt8Hb4G3B/5P4fOLzic8nPp/4fOLzic8nPp/4fOLzic8nPp/4fOLzic8nPp/4fOLzic8n+52SvJDkhSQvJHkhyQtJXkjyQpIXkryQ5IUkLyR5IckLSV5I8kKSF5K8kOSFJC8keTDJg0keTPJgkgeTPJjkwSQPJnkwyYNJHkzyYJIHkzyY5MEkDyZ5MMmDSR5M8iC8C7wLvAu8C7wLvAu8C7wLvAu8C7wLvAu8C7wLvAu8C7wLvAu8C7xLDp9XfF7xecXnFZ9XfF7xecXnFZ9XfF7xecXnFZ9XfF7xecXnFZ9XfF7xecXnv/W/U2X3fg==",
        "encoding": "base64",
        "path": [
         "origins",
         "compressed_buffer"
        ]
       },
       {
        "data": "eNrtxjEBAAAIwzCk4RSpAxkc6dMk03XlHmZmZmZmZmZm5mdeKHDzGQ==",
        "encoding": "base64",
        "path": [
         "vectors",
         "compressed_buffer"
        ]
       }
      ],
      "model_module": "k3d",
      "model_module_version": "2.7.4",
      "model_name": "ObjectModel",
      "state": {
       "_view_count": null,
       "_view_module": null,
       "_view_module_version": "",
       "_view_name": null,
       "colorLegend": false,
       "colors": {
        "dtype": "uint32",
        "shape": [
         400,
         2
        ]
       },
       "compression_level": 0,
       "head_color": 255,
       "head_size": 3,
       "id": 4756834960,
       "label_size": 1,
       "labels": [],
       "line_width": 0.01,
       "model_matrix": {
        "dtype": "float32",
        "shape": [
         4,
         4
        ]
       },
       "name": "Vectors #1",
       "origin_color": 255,
       "origins": {
        "dtype": "float32",
        "shape": [
         400,
         3
        ]
       },
       "type": "Vectors",
       "use_head": true,
       "vectors": {
        "dtype": "float32",
        "shape": [
         400,
         3
        ]
       },
       "visible": true
      }
     },
     "d858804ed13c4cb58bb7da7db5903df6": {
      "model_module": "@jupyter-widgets/base",
      "model_module_version": "1.2.0",
      "model_name": "LayoutModel",
      "state": {}
     },
     "d8605d627844446e84db29502ae08a45": {
      "model_module": "@jupyter-widgets/base",
      "model_module_version": "1.2.0",
      "model_name": "LayoutModel",
      "state": {}
     },
     "d86111dc5f5b40f693886e05d73d9570": {
      "model_module": "@jupyter-widgets/base",
      "model_module_version": "1.2.0",
      "model_name": "LayoutModel",
      "state": {}
     },
     "d87cfde0a3594eb8a10fb476440f7390": {
      "buffers": [
       {
        "data": "eNoLarnLEERFDABnGyH9",
        "encoding": "base64",
        "path": [
         "colors",
         "compressed_buffer"
        ]
       },
       {
        "data": "eNpjYGiwZ8AAxIsBAF7EAv0=",
        "encoding": "base64",
        "path": [
         "model_matrix",
         "compressed_buffer"
        ]
       },
       {
        "data": "eNpjYGAwkfomagfCjAwN9jA2AwODA0LcwUEGSMuAxRuQ2AvgbEaGAw5yQFoOLP7AQQFIK0DMcUSwBeBsAM0iIf0=",
        "encoding": "base64",
        "path": [
         "origins",
         "compressed_buffer"
        ]
       },
       {
        "data": "eNr787/e/jOLKRj/wcH+C2R/AtKf0Nj/0dgfgTQIMzA02H8A0h/wsAHsHzGV",
        "encoding": "base64",
        "path": [
         "vectors",
         "compressed_buffer"
        ]
       }
      ],
      "model_module": "k3d",
      "model_module_version": "2.7.4",
      "model_name": "ObjectModel",
      "state": {
       "_view_count": null,
       "_view_module": null,
       "_view_module_version": "",
       "_view_name": null,
       "colorLegend": false,
       "colors": {
        "dtype": "uint32",
        "shape": [
         10,
         2
        ]
       },
       "compression_level": 0,
       "head_color": 255,
       "head_size": 3,
       "id": 4941569040,
       "label_size": 1,
       "labels": [],
       "line_width": 0.01,
       "model_matrix": {
        "dtype": "float32",
        "shape": [
         4,
         4
        ]
       },
       "name": "Vectors #1",
       "origin_color": 255,
       "origins": {
        "dtype": "float32",
        "shape": [
         10,
         3
        ]
       },
       "type": "Vectors",
       "use_head": true,
       "vectors": {
        "dtype": "float32",
        "shape": [
         10,
         3
        ]
       },
       "visible": true
      }
     },
     "d8885563efb9456b891d09aa57328000": {
      "model_module": "@jupyter-widgets/output",
      "model_module_version": "1.0.0",
      "model_name": "OutputModel",
      "state": {
       "layout": "IPY_MODEL_3572a50b14904e2493dc0f7f1196a0cd",
       "outputs": [
        {
         "data": {
          "application/vnd.jupyter.widget-view+json": {
           "model_id": "a854f0a2288b437ca4fd82ec8c96195a",
           "version_major": 2,
           "version_minor": 0
          },
          "text/plain": "Plot(antialias=3, axes=['x', 'y', 'z'], axes_helper=1.0, background_color=16777215, camera=[2, -3, 0.2, 0.0, 0…"
         },
         "metadata": {},
         "output_type": "display_data"
        }
       ]
      }
     },
     "d92ece9ff4a44036998a48a881de3a41": {
      "model_module": "k3d",
      "model_module_version": "2.7.4",
      "model_name": "PlotModel",
      "state": {
       "_backend_version": "2.7.4",
       "_dom_classes": [],
       "_view_count": null,
       "antialias": 3,
       "auto_rendering": true,
       "axes": [
        "x (nm)",
        "y (nm)",
        "z (nm)"
       ],
       "axes_helper": 1,
       "background_color": 16777215,
       "camera": [
        13.351749844201674,
        -12.027624766302514,
        1.3351749844201761,
        5,
        0.5,
        0.5,
        0,
        0,
        1
       ],
       "camera_animation": [],
       "camera_auto_fit": true,
       "camera_fov": 60,
       "camera_no_pan": false,
       "camera_no_rotate": false,
       "camera_no_zoom": false,
       "clipping_planes": [],
       "colorbar_object_id": -1,
       "fps": 25,
       "fps_meter": false,
       "grid": [
        -1,
        -1,
        -1,
        1,
        1,
        1
       ],
       "grid_auto_fit": true,
       "grid_visible": true,
       "height": 512,
       "layout": "IPY_MODEL_eaf86c2089c74707bdcb4e758cb3ba7d",
       "lighting": 1.5,
       "menu_visibility": true,
       "mode": "view",
       "name": null,
       "object_ids": [
        4926834816,
        4925029344
       ],
       "rendering_steps": 1,
       "screenshot": "",
       "screenshot_scale": 2,
       "snapshot": "",
       "time": 0,
       "voxel_paint_color": 0
      }
     },
     "d9559c3429074b2080e3964fabc24089": {
      "model_module": "@jupyter-widgets/output",
      "model_module_version": "1.0.0",
      "model_name": "OutputModel",
      "state": {
       "layout": "IPY_MODEL_f8678e0e3c7c4d6a948dc05716f7d78a",
       "outputs": [
        {
         "data": {
          "application/vnd.jupyter.widget-view+json": {
           "model_id": "e2f4d044c65a479787e7d4d1843be4f4",
           "version_major": 2,
           "version_minor": 0
          },
          "text/plain": "Plot(antialias=3, axes=['x', 'y', 'z'], axes_helper=1.0, background_color=16777215, camera=[2, -3, 0.2, 0.0, 0…"
         },
         "metadata": {},
         "output_type": "display_data"
        }
       ]
      }
     },
     "d9c3f46ad9834d7d90f7934ad99b78f7": {
      "model_module": "@jupyter-widgets/base",
      "model_module_version": "1.2.0",
      "model_name": "LayoutModel",
      "state": {}
     },
     "da0266d3bd4f4a878528c6cf2728a94c": {
      "buffers": [
       {
        "data": "eNrL0WNgyAHiYFUI9lOC4FhNCC4wFQLjHC8bMM5LigPjirp6MC6ZvQSM07cfB+Og80/B2OrBTzC2ePEPjM0e/QFjv8svwTh591kwLl6wCowrm1rBuCAtGYxzfB3BGADIcDc5",
        "encoding": "base64",
        "path": [
         "colors",
         "compressed_buffer"
        ]
       },
       {
        "data": "eNpjYGiwZ8AAxIsBAF7EAv0=",
        "encoding": "base64",
        "path": [
         "model_matrix",
         "compressed_buffer"
        ]
       },
       {
        "data": "eNpjYGCwX2fgaN9onGfPwHDAfrGerH3c6hogW8Fhz583dtPX19szMiQ4eEYvtLP5WQYUn+Bw4ZqNnUFoMpC9wWGKz0pb34luQDUXHAx2zLX5F6gMFP/gwAAEdit+2jEwcDgmtN2yWe64FsiWcNTxO2Y762UAkK3hCKJBfAYGC0eQPEgdI4OHI0QfAwMjQ4QjyDyQuYwMGY4ge0D2MTBUOILsB7mDgaHFEeQukPsYGHocQe4FuZuBYYojyB8g/zAwzHEE+Q/kTwBTJ1BO",
        "encoding": "base64",
        "path": [
         "origins",
         "compressed_buffer"
        ]
       },
       {
        "data": "eNpjYGBgiElk2s+UHrMfyGSQKM3ctyesEsyWl5phqxdfD2bnee61q/yUC2bPmKJon7DKDcy+vSbUfpYSL5hdq1Jm/8u9dx8DGDTYW/04ZQNizQovst9Us9QOxC7N8bM37ha3B7FBNIgPYoPkQepAbIi+BjAbZB7IXLA5QHtA9oHYIPtB7gCxQe4CuQ/EBrkX5G4QG+QPkH9AbJD/QP4EAOBDRN0=",
        "encoding": "base64",
        "path": [
         "vectors",
         "compressed_buffer"
        ]
       }
      ],
      "model_module": "k3d",
      "model_module_version": "2.7.4",
      "model_name": "ObjectModel",
      "state": {
       "_view_count": null,
       "_view_module": null,
       "_view_module_version": "",
       "_view_name": null,
       "colorLegend": false,
       "colors": {
        "dtype": "uint32",
        "shape": [
         20,
         2
        ]
       },
       "compression_level": 0,
       "head_color": 255,
       "head_size": 1,
       "id": 4565867104,
       "label_size": 1,
       "labels": [],
       "line_width": 0.01,
       "model_matrix": {
        "dtype": "float32",
        "shape": [
         4,
         4
        ]
       },
       "name": "Vectors #1",
       "origin_color": 255,
       "origins": {
        "dtype": "float32",
        "shape": [
         20,
         3
        ]
       },
       "type": "Vectors",
       "use_head": true,
       "vectors": {
        "dtype": "float32",
        "shape": [
         20,
         3
        ]
       },
       "visible": true
      }
     },
     "da998d6f61da479fb9ddbf3764d3c547": {
      "model_module": "@jupyter-widgets/output",
      "model_module_version": "1.0.0",
      "model_name": "OutputModel",
      "state": {
       "layout": "IPY_MODEL_7a3ec6dda2ce42c792f1d3c3df1f39e6",
       "outputs": [
        {
         "data": {
          "application/vnd.jupyter.widget-view+json": {
           "model_id": "ea4253aca6244425aa6176f7090e9526",
           "version_major": 2,
           "version_minor": 0
          },
          "text/plain": "Plot(antialias=3, axes=['x', 'y', 'z'], axes_helper=1.0, background_color=16777215, camera=[2, -3, 0.2, 0.0, 0…"
         },
         "metadata": {},
         "output_type": "display_data"
        }
       ]
      }
     },
     "daa564ff3cb740bcb1a1cb569e019bb4": {
      "buffers": [
       {
        "data": "eNoDAAAAAAE=",
        "encoding": "base64",
        "path": [
         "colors",
         "compressed_buffer"
        ]
       },
       {
        "data": "eNpjYGiwZ8AAxIsBAF7EAv0=",
        "encoding": "base64",
        "path": [
         "model_matrix",
         "compressed_buffer"
        ]
       },
       {
        "data": "eNoDAAAAAAE=",
        "encoding": "base64",
        "path": [
         "opacities",
         "compressed_buffer"
        ]
       },
       {
        "data": "eNpjYGCwZ4DjA0hsBQcYm5EhwQEhPgGJvQFJzQUk8Q9IbA5HBFsCzgYAxoYLzw==",
        "encoding": "base64",
        "path": [
         "positions",
         "compressed_buffer"
        ]
       }
      ],
      "model_module": "k3d",
      "model_module_version": "2.7.4",
      "model_name": "ObjectModel",
      "state": {
       "_view_count": null,
       "_view_module": null,
       "_view_module_version": "",
       "_view_name": null,
       "color": 5010096,
       "colorLegend": false,
       "colors": {
        "dtype": "uint32",
        "shape": [
         0
        ]
       },
       "compression_level": 0,
       "id": 4936882640,
       "mesh_detail": 2,
       "model_matrix": {
        "dtype": "float32",
        "shape": [
         4,
         4
        ]
       },
       "name": "Points #1",
       "opacities": {
        "dtype": "float32",
        "shape": [
         0
        ]
       },
       "opacity": 1,
       "point_size": 0.25,
       "positions": {
        "dtype": "float32",
        "shape": [
         10,
         3
        ]
       },
       "shader": "3dSpecular",
       "type": "Points",
       "visible": true
      }
     },
     "dad47ce435164f0f99572b124296394b": {
      "model_module": "@jupyter-widgets/output",
      "model_module_version": "1.0.0",
      "model_name": "OutputModel",
      "state": {
       "layout": "IPY_MODEL_f768f9caef00412ab4067a8446cad67c",
       "outputs": [
        {
         "data": {
          "application/vnd.jupyter.widget-view+json": {
           "model_id": "8a4ee1be9774482b84d5e61afd0dfb45",
           "version_major": 2,
           "version_minor": 0
          },
          "text/plain": "Plot(antialias=3, axes=['x', 'y', 'z'], axes_helper=1.0, background_color=16777215, camera=[2, -3, 0.2, 0.0, 0…"
         },
         "metadata": {},
         "output_type": "display_data"
        }
       ]
      }
     },
     "db31b9c4dccc43789a25cb772bf5c922": {
      "model_module": "k3d",
      "model_module_version": "2.7.4",
      "model_name": "PlotModel",
      "state": {
       "_backend_version": "2.7.4",
       "_dom_classes": [],
       "_view_count": null,
       "antialias": 3,
       "auto_rendering": true,
       "axes": [
        "x (nm)",
        "y (nm)",
        "z (nm)"
       ],
       "axes_helper": 1,
       "background_color": 16777215,
       "camera": [
        26.035482368337913,
        -23.553223552506868,
        2.103548236833818,
        10,
        0.5,
        0.5,
        0,
        0,
        1
       ],
       "camera_animation": [],
       "camera_auto_fit": true,
       "camera_fov": 60,
       "camera_no_pan": false,
       "camera_no_rotate": false,
       "camera_no_zoom": false,
       "clipping_planes": [],
       "colorbar_object_id": -1,
       "fps": 25,
       "fps_meter": false,
       "grid": [
        -1,
        -1,
        -1,
        1,
        1,
        1
       ],
       "grid_auto_fit": true,
       "grid_visible": true,
       "height": 512,
       "layout": "IPY_MODEL_1ae62c277a294fa69921ec2d034e017a",
       "lighting": 1.5,
       "menu_visibility": true,
       "mode": "view",
       "name": null,
       "object_ids": [
        4554423168,
        4928199312
       ],
       "rendering_steps": 1,
       "screenshot": "",
       "screenshot_scale": 2,
       "snapshot": "",
       "time": 0,
       "voxel_paint_color": 0
      }
     },
     "db74b185dbbd4157b90ff2d499b23cd4": {
      "buffers": [
       {
        "data": "eNoDAAAAAAE=",
        "encoding": "base64",
        "path": [
         "colors",
         "compressed_buffer"
        ]
       },
       {
        "data": "eNpjYGiwZ8AAxIsBAF7EAv0=",
        "encoding": "base64",
        "path": [
         "model_matrix",
         "compressed_buffer"
        ]
       },
       {
        "data": "eNoDAAAAAAE=",
        "encoding": "base64",
        "path": [
         "opacities",
         "compressed_buffer"
        ]
       },
       {
        "data": "eNpjYGCwZ4DjA0hsBQcYm5EhwQEhPgGJvQFJzQUk8Q9IbA5HBFsCzgYAxoYLzw==",
        "encoding": "base64",
        "path": [
         "positions",
         "compressed_buffer"
        ]
       }
      ],
      "model_module": "k3d",
      "model_module_version": "2.7.4",
      "model_name": "ObjectModel",
      "state": {
       "_view_count": null,
       "_view_module": null,
       "_view_module_version": "",
       "_view_name": null,
       "color": 5010096,
       "colorLegend": false,
       "colors": {
        "dtype": "uint32",
        "shape": [
         0
        ]
       },
       "compression_level": 0,
       "id": 4930273088,
       "mesh_detail": 2,
       "model_matrix": {
        "dtype": "float32",
        "shape": [
         4,
         4
        ]
       },
       "name": "Points #1",
       "opacities": {
        "dtype": "float32",
        "shape": [
         0
        ]
       },
       "opacity": 1,
       "point_size": 0.25,
       "positions": {
        "dtype": "float32",
        "shape": [
         10,
         3
        ]
       },
       "shader": "3dSpecular",
       "type": "Points",
       "visible": true
      }
     },
     "db878cb2ea394881b15d8695ebb37610": {
      "model_module": "@jupyter-widgets/base",
      "model_module_version": "1.2.0",
      "model_name": "LayoutModel",
      "state": {}
     },
     "dc56dfe89e284a8f9d4a523008b9e827": {
      "buffers": [
       {
        "data": "eNoLarnLEERFDABnGyH9",
        "encoding": "base64",
        "path": [
         "colors",
         "compressed_buffer"
        ]
       },
       {
        "data": "eNpjYGiwZ8AAxIsBAF7EAv0=",
        "encoding": "base64",
        "path": [
         "model_matrix",
         "compressed_buffer"
        ]
       },
       {
        "data": "eNpjYGCwZ4BgIDiAxFZwgLEZGRIcEOITkNgbkNRcQBL/gMTmcESwJeBsAD8sCVk=",
        "encoding": "base64",
        "path": [
         "origins",
         "compressed_buffer"
        ]
       },
       {
        "data": "eNrbJHx5LQMYNNhvoiMbAFSfHik=",
        "encoding": "base64",
        "path": [
         "vectors",
         "compressed_buffer"
        ]
       }
      ],
      "model_module": "k3d",
      "model_module_version": "2.7.4",
      "model_name": "ObjectModel",
      "state": {
       "_view_count": null,
       "_view_module": null,
       "_view_module_version": "",
       "_view_name": null,
       "colors": {
        "dtype": "uint32",
        "shape": [
         10,
         2
        ]
       },
       "compression_level": 0,
       "head_color": 255,
       "head_size": 3,
       "id": 4925687840,
       "label_size": 1,
       "labels": [],
       "line_width": 0.01,
       "model_matrix": {
        "dtype": "float32",
        "shape": [
         4,
         4
        ]
       },
       "name": "Vectors #1",
       "origin_color": 255,
       "origins": {
        "dtype": "float32",
        "shape": [
         10,
         3
        ]
       },
       "type": "Vectors",
       "use_head": true,
       "vectors": {
        "dtype": "float32",
        "shape": [
         10,
         3
        ]
       },
       "visible": true
      }
     },
     "dc60b299ad4c4062bca791a93cee07e8": {
      "model_module": "@jupyter-widgets/output",
      "model_module_version": "1.0.0",
      "model_name": "OutputModel",
      "state": {
       "layout": "IPY_MODEL_a2ce40195fee47408ea7fe94b7ad917b",
       "outputs": [
        {
         "data": {
          "application/vnd.jupyter.widget-view+json": {
           "model_id": "6a0b0dd80a3646f5b78dd2c0e13eb701",
           "version_major": 2,
           "version_minor": 0
          },
          "text/plain": "Plot(antialias=3, axes=['x', 'y', 'z'], axes_helper=1.0, background_color=16777215, camera=[2, -3, 0.2, 0.0, 0…"
         },
         "metadata": {},
         "output_type": "display_data"
        }
       ]
      }
     },
     "ddb01c2dd1e8429fabb75401c0698099": {
      "buffers": [
       {
        "data": "eNoDAAAAAAE=",
        "encoding": "base64",
        "path": [
         "colors",
         "compressed_buffer"
        ]
       },
       {
        "data": "eNpjYGiwZ8AAxIsBAF7EAv0=",
        "encoding": "base64",
        "path": [
         "model_matrix",
         "compressed_buffer"
        ]
       },
       {
        "data": "eNoDAAAAAAE=",
        "encoding": "base64",
        "path": [
         "opacities",
         "compressed_buffer"
        ]
       },
       {
        "data": "eNpjYGCwZ4DjA0hsBQcYm5EhwQEhPgGJvQFJzQUk8Q9IbA5HBFsCzgYAxoYLzw==",
        "encoding": "base64",
        "path": [
         "positions",
         "compressed_buffer"
        ]
       }
      ],
      "model_module": "k3d",
      "model_module_version": "2.7.4",
      "model_name": "ObjectModel",
      "state": {
       "_view_count": null,
       "_view_module": null,
       "_view_module_version": "",
       "_view_name": null,
       "color": 5010096,
       "colors": {
        "dtype": "uint32",
        "shape": [
         0
        ]
       },
       "compression_level": 0,
       "id": 4565868208,
       "mesh_detail": 2,
       "model_matrix": {
        "dtype": "float32",
        "shape": [
         4,
         4
        ]
       },
       "name": "Points #1",
       "opacities": {
        "dtype": "float32",
        "shape": [
         0
        ]
       },
       "opacity": 1,
       "point_size": 0.25,
       "positions": {
        "dtype": "float32",
        "shape": [
         10,
         3
        ]
       },
       "shader": "3dSpecular",
       "type": "Points",
       "visible": true
      }
     },
     "ddf3830d6aad43dc969ecef31e1033a7": {
      "buffers": [
       {
        "data": "eNoDAAAAAAE=",
        "encoding": "base64",
        "path": [
         "colors",
         "compressed_buffer"
        ]
       },
       {
        "data": "eNpjYGiwZ8AAxIsBAF7EAv0=",
        "encoding": "base64",
        "path": [
         "model_matrix",
         "compressed_buffer"
        ]
       },
       {
        "data": "eNoDAAAAAAE=",
        "encoding": "base64",
        "path": [
         "opacities",
         "compressed_buffer"
        ]
       },
       {
        "data": "eNpjYGCwZ4DjA0hsBQcYm5EhwQEhPgGJvQFJzQUk8Q9IbA5HBFsCia2BxLZwRJjjgcSOQGJnIKmvQGK3ILF7kNhTkNhz4GwA3oQXaA==",
        "encoding": "base64",
        "path": [
         "positions",
         "compressed_buffer"
        ]
       }
      ],
      "model_module": "k3d",
      "model_module_version": "2.7.4",
      "model_name": "ObjectModel",
      "state": {
       "_view_count": null,
       "_view_module": null,
       "_view_module_version": "",
       "_view_name": null,
       "color": 5010096,
       "colors": {
        "dtype": "uint32",
        "shape": [
         0
        ]
       },
       "compression_level": 0,
       "id": 4928686928,
       "mesh_detail": 2,
       "model_matrix": {
        "dtype": "float32",
        "shape": [
         4,
         4
        ]
       },
       "name": "Points #1",
       "opacities": {
        "dtype": "float32",
        "shape": [
         0
        ]
       },
       "opacity": 1,
       "point_size": 0.25,
       "positions": {
        "dtype": "float32",
        "shape": [
         20,
         3
        ]
       },
       "shader": "3dSpecular",
       "type": "Points",
       "visible": true
      }
     },
     "de32b34b3c6d4556b6655254e3f81d09": {
      "model_module": "@jupyter-widgets/base",
      "model_module_version": "1.2.0",
      "model_name": "LayoutModel",
      "state": {}
     },
     "de77366c12f34842bf3ee2831441466d": {
      "model_module": "@jupyter-widgets/base",
      "model_module_version": "1.2.0",
      "model_name": "LayoutModel",
      "state": {}
     },
     "df57bf977c6d4359822127a24db0a818": {
      "buffers": [
       {
        "data": "eNoDAAAAAAE=",
        "encoding": "base64",
        "path": [
         "colors",
         "compressed_buffer"
        ]
       },
       {
        "data": "eNpjYGiwZ8AAxIsBAF7EAv0=",
        "encoding": "base64",
        "path": [
         "model_matrix",
         "compressed_buffer"
        ]
       },
       {
        "data": "eNoDAAAAAAE=",
        "encoding": "base64",
        "path": [
         "opacities",
         "compressed_buffer"
        ]
       },
       {
        "data": "eNpjYGCwZ4DjA0hsBQcYm5EhwQEhPgGJvQFJzQUk8Q9IbA5HBFsCzgYAxoYLzw==",
        "encoding": "base64",
        "path": [
         "positions",
         "compressed_buffer"
        ]
       }
      ],
      "model_module": "k3d",
      "model_module_version": "2.7.4",
      "model_name": "ObjectModel",
      "state": {
       "_view_count": null,
       "_view_module": null,
       "_view_module_version": "",
       "_view_name": null,
       "color": 5010096,
       "colorLegend": false,
       "colors": {
        "dtype": "uint32",
        "shape": [
         0
        ]
       },
       "compression_level": 0,
       "id": 4757800464,
       "mesh_detail": 2,
       "model_matrix": {
        "dtype": "float32",
        "shape": [
         4,
         4
        ]
       },
       "name": "Points #1",
       "opacities": {
        "dtype": "float32",
        "shape": [
         0
        ]
       },
       "opacity": 1,
       "point_size": 0.25,
       "positions": {
        "dtype": "float32",
        "shape": [
         10,
         3
        ]
       },
       "shader": "3dSpecular",
       "type": "Points",
       "visible": true
      }
     },
     "dfc1e289ecd94f9d9a0cf47cb31a1a58": {
      "buffers": [
       {
        "data": "eNoLarnLEERFDABnGyH9",
        "encoding": "base64",
        "path": [
         "colors",
         "compressed_buffer"
        ]
       },
       {
        "data": "eNpjYGiwZ8AAxIsBAF7EAv0=",
        "encoding": "base64",
        "path": [
         "model_matrix",
         "compressed_buffer"
        ]
       },
       {
        "data": "eNpjYGCwZ4BgIDiAxFZwgLEZGRIcEOITkNgbkNRcQBL/gMTmcESwJeBsAD8sCVk=",
        "encoding": "base64",
        "path": [
         "origins",
         "compressed_buffer"
        ]
       },
       {
        "data": "eNrbJHx5LQMYNNhvoiMbAFSfHik=",
        "encoding": "base64",
        "path": [
         "vectors",
         "compressed_buffer"
        ]
       }
      ],
      "model_module": "k3d",
      "model_module_version": "2.7.4",
      "model_name": "ObjectModel",
      "state": {
       "_view_count": null,
       "_view_module": null,
       "_view_module_version": "",
       "_view_name": null,
       "colorLegend": false,
       "colors": {
        "dtype": "uint32",
        "shape": [
         10,
         2
        ]
       },
       "compression_level": 0,
       "head_color": 255,
       "head_size": 3,
       "id": 4930272128,
       "label_size": 1,
       "labels": [],
       "line_width": 0.01,
       "model_matrix": {
        "dtype": "float32",
        "shape": [
         4,
         4
        ]
       },
       "name": "Vectors #1",
       "origin_color": 255,
       "origins": {
        "dtype": "float32",
        "shape": [
         10,
         3
        ]
       },
       "type": "Vectors",
       "use_head": true,
       "vectors": {
        "dtype": "float32",
        "shape": [
         10,
         3
        ]
       },
       "visible": true
      }
     },
     "dff6fb1bf197432ebcd46e798ee0109a": {
      "buffers": [
       {
        "data": "eNoDAAAAAAE=",
        "encoding": "base64",
        "path": [
         "colors",
         "compressed_buffer"
        ]
       },
       {
        "data": "eNpjYGiwZ8AAxIsBAF7EAv0=",
        "encoding": "base64",
        "path": [
         "model_matrix",
         "compressed_buffer"
        ]
       },
       {
        "data": "eNoDAAAAAAE=",
        "encoding": "base64",
        "path": [
         "opacities",
         "compressed_buffer"
        ]
       },
       {
        "data": "eNpjYGCwZ4DjA0hsBQcYm5EhwQEhPgGJvQFJzQUk8Q9IbA5HBFsCzgYAxoYLzw==",
        "encoding": "base64",
        "path": [
         "positions",
         "compressed_buffer"
        ]
       }
      ],
      "model_module": "k3d",
      "model_module_version": "2.7.4",
      "model_name": "ObjectModel",
      "state": {
       "_view_count": null,
       "_view_module": null,
       "_view_module_version": "",
       "_view_name": null,
       "color": 5010096,
       "colorLegend": false,
       "colors": {
        "dtype": "uint32",
        "shape": [
         0
        ]
       },
       "compression_level": 0,
       "id": 4400247520,
       "mesh_detail": 2,
       "model_matrix": {
        "dtype": "float32",
        "shape": [
         4,
         4
        ]
       },
       "name": "Points #1",
       "opacities": {
        "dtype": "float32",
        "shape": [
         0
        ]
       },
       "opacity": 1,
       "point_size": 0.25,
       "positions": {
        "dtype": "float32",
        "shape": [
         10,
         3
        ]
       },
       "shader": "3dSpecular",
       "type": "Points",
       "visible": true
      }
     },
     "dfffd9a2fc7a4a6dac4d969840bb6e82": {
      "model_module": "@jupyter-widgets/base",
      "model_module_version": "1.2.0",
      "model_name": "LayoutModel",
      "state": {}
     },
     "e0dc57745e2b4760b522d7d7f73c930b": {
      "buffers": [
       {
        "data": "eNoLarnLEERFDABnGyH9",
        "encoding": "base64",
        "path": [
         "colors",
         "compressed_buffer"
        ]
       },
       {
        "data": "eNpjYGiwZ8AAxIsBAF7EAv0=",
        "encoding": "base64",
        "path": [
         "model_matrix",
         "compressed_buffer"
        ]
       },
       {
        "data": "eNpjYAADewjVYI9gMzjA2IwMDg5IapDYC5DUHEASf4DEZnBEsAXgbADj0ghK",
        "encoding": "base64",
        "path": [
         "origins",
         "compressed_buffer"
        ]
       },
       {
        "data": "eNpjYGiwZwADEE0/NgB7CQ7t",
        "encoding": "base64",
        "path": [
         "vectors",
         "compressed_buffer"
        ]
       }
      ],
      "model_module": "k3d",
      "model_module_version": "2.7.4",
      "model_name": "ObjectModel",
      "state": {
       "_view_count": null,
       "_view_module": null,
       "_view_module_version": "",
       "_view_name": null,
       "colorLegend": false,
       "colors": {
        "dtype": "uint32",
        "shape": [
         10,
         2
        ]
       },
       "compression_level": 0,
       "head_color": 255,
       "head_size": 3,
       "id": 4925388592,
       "label_size": 1,
       "labels": [],
       "line_width": 0.01,
       "model_matrix": {
        "dtype": "float32",
        "shape": [
         4,
         4
        ]
       },
       "name": "Vectors #1",
       "origin_color": 255,
       "origins": {
        "dtype": "float32",
        "shape": [
         10,
         3
        ]
       },
       "type": "Vectors",
       "use_head": true,
       "vectors": {
        "dtype": "float32",
        "shape": [
         10,
         3
        ]
       },
       "visible": true
      }
     },
     "e118177ec1dd4ca3b741f22a40fc8493": {
      "buffers": [
       {
        "data": "eNoLarnLEERFDABnGyH9",
        "encoding": "base64",
        "path": [
         "colors",
         "compressed_buffer"
        ]
       },
       {
        "data": "eNpjYGiwZ8AAxIsBAF7EAv0=",
        "encoding": "base64",
        "path": [
         "model_matrix",
         "compressed_buffer"
        ]
       },
       {
        "data": "eNpjZGCwZ2BoAGI5MwaGA0BaBEgzmDAwKDgwMCwwufe/3p6RIcHhMZD+BsQMDBMcPoDpHaYMDBuAalpMQWxGhgtA9gtTiJoPDr+B9D0wm8PxNpgGmSnhyAAGcmYAxtIiug==",
        "encoding": "base64",
        "path": [
         "origins",
         "compressed_buffer"
        ]
       },
       {
        "data": "eNr7lWC3hYGhYf/G//X2ueu8N20D0n+AmHvHzY3fgPSe//X7GwLnbTgGpF8D8XuV2RvvA+lLQDkg2xDItgexgWoMgGrsQWqAeg2BeveD9ALNNAKauR9k5q8EOxOgXfYguwBGz0gV",
        "encoding": "base64",
        "path": [
         "vectors",
         "compressed_buffer"
        ]
       }
      ],
      "model_module": "k3d",
      "model_module_version": "2.7.4",
      "model_name": "ObjectModel",
      "state": {
       "_view_count": null,
       "_view_module": null,
       "_view_module_version": "",
       "_view_name": null,
       "colors": {
        "dtype": "uint32",
        "shape": [
         10,
         2
        ]
       },
       "compression_level": 0,
       "head_color": 255,
       "head_size": 3,
       "id": 4554183584,
       "label_size": 1,
       "labels": [],
       "line_width": 0.01,
       "model_matrix": {
        "dtype": "float32",
        "shape": [
         4,
         4
        ]
       },
       "name": "Vectors #1",
       "origin_color": 255,
       "origins": {
        "dtype": "float32",
        "shape": [
         10,
         3
        ]
       },
       "type": "Vectors",
       "use_head": true,
       "vectors": {
        "dtype": "float32",
        "shape": [
         10,
         3
        ]
       },
       "visible": true
      }
     },
     "e2761314d22e45a5b669eebcec3097fe": {
      "model_module": "k3d",
      "model_module_version": "2.7.4",
      "model_name": "PlotModel",
      "state": {
       "_backend_version": "2.7.4",
       "_dom_classes": [],
       "_view_count": null,
       "antialias": 3,
       "auto_rendering": true,
       "axes": [
        "x (nm)",
        "y (nm)",
        "z (nm)"
       ],
       "axes_helper": 1,
       "background_color": 16777215,
       "camera": [
        6.815070927220731,
        -5.8459333642781885,
        3.396329323024433,
        5,
        0.5,
        0.5,
        -0.03306783215892491,
        0.35418735421881076,
        0.934589662144724
       ],
       "camera_animation": [],
       "camera_auto_fit": true,
       "camera_fov": 60,
       "camera_no_pan": false,
       "camera_no_rotate": false,
       "camera_no_zoom": false,
       "clipping_planes": [],
       "colorbar_object_id": -1,
       "fps": 25,
       "fps_meter": false,
       "grid": [
        -1,
        -1,
        -1,
        1,
        1,
        1
       ],
       "grid_auto_fit": true,
       "grid_visible": true,
       "height": 512,
       "layout": "IPY_MODEL_f4200276dfac4977a26a78c5610bdff3",
       "lighting": 1.5,
       "menu_visibility": true,
       "mode": "view",
       "name": null,
       "object_ids": [
        4925388592,
        4928788656
       ],
       "rendering_steps": 1,
       "screenshot": "",
       "screenshot_scale": 2,
       "snapshot": "",
       "time": 0,
       "voxel_paint_color": 0
      }
     },
     "e2d7ec03acda485f84bf41b8d5962b4f": {
      "model_module": "@jupyter-widgets/base",
      "model_module_version": "1.2.0",
      "model_name": "LayoutModel",
      "state": {}
     },
     "e2f4d044c65a479787e7d4d1843be4f4": {
      "model_module": "k3d",
      "model_module_version": "2.7.4",
      "model_name": "PlotModel",
      "state": {
       "_backend_version": "2.7.4",
       "_dom_classes": [],
       "_view_count": null,
       "antialias": 3,
       "auto_rendering": true,
       "axes": [
        "x (nm)",
        "y (nm)",
        "z (nm)"
       ],
       "axes_helper": 1,
       "background_color": 16777215,
       "camera": [
        26.035482368337913,
        -23.553223552506868,
        2.103548236833818,
        10,
        0.5,
        0.5,
        0,
        0,
        1
       ],
       "camera_animation": [],
       "camera_auto_fit": true,
       "camera_fov": 60,
       "camera_no_pan": false,
       "camera_no_rotate": false,
       "camera_no_zoom": false,
       "clipping_planes": [],
       "colorbar_object_id": -1,
       "fps": 25,
       "fps_meter": false,
       "grid": [
        -1,
        -1,
        -1,
        1,
        1,
        1
       ],
       "grid_auto_fit": true,
       "grid_visible": true,
       "height": 512,
       "layout": "IPY_MODEL_f78578fd8bd94f158ff73f2daaf75c2a",
       "lighting": 1.5,
       "menu_visibility": true,
       "mode": "view",
       "name": null,
       "object_ids": [
        4565692032,
        4926287680
       ],
       "rendering_steps": 1,
       "screenshot": "",
       "screenshot_scale": 2,
       "snapshot": "",
       "time": 0,
       "voxel_paint_color": 0
      }
     },
     "e3237fbbb9134a8ebd6c09c16916c73d": {
      "buffers": [
       {
        "data": "eNoLarnLEDSIMQBtm0P5",
        "encoding": "base64",
        "path": [
         "colors",
         "compressed_buffer"
        ]
       },
       {
        "data": "eNpjYGiwZ8AAxIsBAF7EAv0=",
        "encoding": "base64",
        "path": [
         "model_matrix",
         "compressed_buffer"
        ]
       },
       {
        "data": "eNpjYAADewjVYI9gMzjA2IwMDg5IapDYC5DUHEASf4DEZnBEsAWQ2ApIbANHJLuQ2AFI7AQk9QVI7AYkdgcSewISewacDQC7wBEt",
        "encoding": "base64",
        "path": [
         "origins",
         "compressed_buffer"
        ]
       },
       {
        "data": "eNpjYGiwZwADED382QD1Gx3Z",
        "encoding": "base64",
        "path": [
         "vectors",
         "compressed_buffer"
        ]
       }
      ],
      "model_module": "k3d",
      "model_module_version": "2.7.4",
      "model_name": "ObjectModel",
      "state": {
       "_view_count": null,
       "_view_module": null,
       "_view_module_version": "",
       "_view_name": null,
       "colors": {
        "dtype": "uint32",
        "shape": [
         20,
         2
        ]
       },
       "compression_level": 0,
       "head_color": 255,
       "head_size": 20,
       "id": 4928684816,
       "label_size": 1,
       "labels": [],
       "line_width": 0.01,
       "model_matrix": {
        "dtype": "float32",
        "shape": [
         4,
         4
        ]
       },
       "name": "Vectors #1",
       "origin_color": 255,
       "origins": {
        "dtype": "float32",
        "shape": [
         20,
         3
        ]
       },
       "type": "Vectors",
       "use_head": true,
       "vectors": {
        "dtype": "float32",
        "shape": [
         20,
         3
        ]
       },
       "visible": true
      }
     },
     "e3353ba4d46e4135ab1edb25a6f47718": {
      "buffers": [
       {
        "data": "eNoLarnLEERFDABnGyH9",
        "encoding": "base64",
        "path": [
         "colors",
         "compressed_buffer"
        ]
       },
       {
        "data": "eNpjYGiwZ8AAxIsBAF7EAv0=",
        "encoding": "base64",
        "path": [
         "model_matrix",
         "compressed_buffer"
        ]
       },
       {
        "data": "eNpjYGiwZ2BgAGIw7YBgOyCxG5DYC7CwGYwZGQ7A2QwMD5DYDI4ItgCcDQCUDg3j",
        "encoding": "base64",
        "path": [
         "origins",
         "compressed_buffer"
        ]
       },
       {
        "data": "eNpjYGjYzwAE///XA2mS2fZQtj2pbACvtSfP",
        "encoding": "base64",
        "path": [
         "vectors",
         "compressed_buffer"
        ]
       }
      ],
      "model_module": "k3d",
      "model_module_version": "2.7.4",
      "model_name": "ObjectModel",
      "state": {
       "_view_count": null,
       "_view_module": null,
       "_view_module_version": "",
       "_view_name": null,
       "colorLegend": false,
       "colors": {
        "dtype": "uint32",
        "shape": [
         10,
         2
        ]
       },
       "compression_level": 0,
       "head_color": 255,
       "head_size": 3,
       "id": 4936882880,
       "label_size": 1,
       "labels": [],
       "line_width": 0.01,
       "model_matrix": {
        "dtype": "float32",
        "shape": [
         4,
         4
        ]
       },
       "name": "Vectors #1",
       "origin_color": 255,
       "origins": {
        "dtype": "float32",
        "shape": [
         10,
         3
        ]
       },
       "type": "Vectors",
       "use_head": true,
       "vectors": {
        "dtype": "float32",
        "shape": [
         10,
         3
        ]
       },
       "visible": true
      }
     },
     "e3390c9d198545a691679fb5ec271ec6": {
      "buffers": [
       {
        "data": "eNoDAAAAAAE=",
        "encoding": "base64",
        "path": [
         "colors",
         "compressed_buffer"
        ]
       },
       {
        "data": "eNpjYGiwZ8AAxIsBAF7EAv0=",
        "encoding": "base64",
        "path": [
         "model_matrix",
         "compressed_buffer"
        ]
       },
       {
        "data": "eNoDAAAAAAE=",
        "encoding": "base64",
        "path": [
         "opacities",
         "compressed_buffer"
        ]
       },
       {
        "data": "eNpjYGCwZ4DjA0hsBQcYm5EhwQEhPgGJvQFJzQUk8Q9IbA5HBFsCzgYAxoYLzw==",
        "encoding": "base64",
        "path": [
         "positions",
         "compressed_buffer"
        ]
       }
      ],
      "model_module": "k3d",
      "model_module_version": "2.7.4",
      "model_name": "ObjectModel",
      "state": {
       "_view_count": null,
       "_view_module": null,
       "_view_module_version": "",
       "_view_name": null,
       "color": 5010096,
       "colors": {
        "dtype": "uint32",
        "shape": [
         0
        ]
       },
       "compression_level": 0,
       "id": 4925029344,
       "mesh_detail": 2,
       "model_matrix": {
        "dtype": "float32",
        "shape": [
         4,
         4
        ]
       },
       "name": "Points #1",
       "opacities": {
        "dtype": "float32",
        "shape": [
         0
        ]
       },
       "opacity": 1,
       "point_size": 0.25,
       "positions": {
        "dtype": "float32",
        "shape": [
         10,
         3
        ]
       },
       "shader": "3dSpecular",
       "type": "Points",
       "visible": true
      }
     },
     "e37d2d2ef48843e58fac066edcb45bc6": {
      "model_module": "@jupyter-widgets/base",
      "model_module_version": "1.2.0",
      "model_name": "LayoutModel",
      "state": {}
     },
     "e38c764b314e4349bca0d0ed6d4e9b80": {
      "model_module": "@jupyter-widgets/base",
      "model_module_version": "1.2.0",
      "model_name": "LayoutModel",
      "state": {}
     },
     "e39f41e4a325472bae17e30e39a374cb": {
      "model_module": "@jupyter-widgets/base",
      "model_module_version": "1.2.0",
      "model_name": "LayoutModel",
      "state": {}
     },
     "e48fde4f3c284bec940b97296f4a88dc": {
      "buffers": [
       {
        "data": "eNrbUOTDENRylwEADvwDIg==",
        "encoding": "base64",
        "path": [
         "color_map",
         "compressed_buffer"
        ]
       },
       {
        "data": "eNpjYFBwZICDBQ4QusEeKmCPkAOLIfEhYgB/zAP9",
        "encoding": "base64",
        "path": [
         "model_matrix",
         "compressed_buffer"
        ]
       },
       {
        "data": "eNpjZIQCJgAAQgAM",
        "encoding": "base64",
        "path": [
         "voxels",
         "compressed_buffer"
        ]
       }
      ],
      "model_module": "k3d",
      "model_module_version": "2.7.4",
      "model_name": "ObjectModel",
      "state": {
       "_view_count": null,
       "_view_module": null,
       "_view_module_version": "",
       "_view_name": null,
       "colorLegend": false,
       "color_map": {
        "dtype": "uint32",
        "shape": [
         2
        ]
       },
       "compression_level": 0,
       "id": 140674482898896,
       "model_matrix": {
        "dtype": "float32",
        "shape": [
         4,
         4
        ]
       },
       "name": "Voxels #1",
       "opacity": 1,
       "outlines": false,
       "outlines_color": 0,
       "type": "Voxels",
       "visible": true,
       "voxels": {
        "dtype": "uint8",
        "shape": [
         1,
         1,
         10
        ]
       },
       "wireframe": false
      }
     },
     "e4c8f25ea95345b6b702cf95be7a2a30": {
      "buffers": [
       {
        "data": "eNoDAAAAAAE=",
        "encoding": "base64",
        "path": [
         "colors",
         "compressed_buffer"
        ]
       },
       {
        "data": "eNpjYGiwZ8AAxIsBAF7EAv0=",
        "encoding": "base64",
        "path": [
         "model_matrix",
         "compressed_buffer"
        ]
       },
       {
        "data": "eNoDAAAAAAE=",
        "encoding": "base64",
        "path": [
         "opacities",
         "compressed_buffer"
        ]
       },
       {
        "data": "eNpjYGCwZ4DjA0hsBQcYm5EhwQEhPgGJvQFJzQUk8Q9IbA5HBFsCzgYAxoYLzw==",
        "encoding": "base64",
        "path": [
         "positions",
         "compressed_buffer"
        ]
       }
      ],
      "model_module": "k3d",
      "model_module_version": "2.7.4",
      "model_name": "ObjectModel",
      "state": {
       "_view_count": null,
       "_view_module": null,
       "_view_module_version": "",
       "_view_name": null,
       "color": 5010096,
       "colorLegend": false,
       "colors": {
        "dtype": "uint32",
        "shape": [
         0
        ]
       },
       "compression_level": 0,
       "id": 4924663840,
       "mesh_detail": 2,
       "model_matrix": {
        "dtype": "float32",
        "shape": [
         4,
         4
        ]
       },
       "name": "Points #1",
       "opacities": {
        "dtype": "float32",
        "shape": [
         0
        ]
       },
       "opacity": 1,
       "point_size": 0.25,
       "positions": {
        "dtype": "float32",
        "shape": [
         10,
         3
        ]
       },
       "shader": "3dSpecular",
       "type": "Points",
       "visible": true
      }
     },
     "e4ef9950e2d44e73aec8e99629085dc4": {
      "buffers": [
       {
        "data": "eNrbUOTDENRylwEADvwDIg==",
        "encoding": "base64",
        "path": [
         "color_map",
         "compressed_buffer"
        ]
       },
       {
        "data": "eNpjYFBwZICDBQ4QusEeKmCPkAOLIfEhYgB/zAP9",
        "encoding": "base64",
        "path": [
         "model_matrix",
         "compressed_buffer"
        ]
       },
       {
        "data": "eNpjZIQCJgAAQgAM",
        "encoding": "base64",
        "path": [
         "voxels",
         "compressed_buffer"
        ]
       }
      ],
      "model_module": "k3d",
      "model_module_version": "2.7.4",
      "model_name": "ObjectModel",
      "state": {
       "_view_count": null,
       "_view_module": null,
       "_view_module_version": "",
       "_view_name": null,
       "color_map": {
        "dtype": "uint32",
        "shape": [
         2
        ]
       },
       "compression_level": 0,
       "id": 4554430832,
       "model_matrix": {
        "dtype": "float32",
        "shape": [
         4,
         4
        ]
       },
       "name": "Voxels #1",
       "opacity": 1,
       "outlines": false,
       "outlines_color": 0,
       "type": "Voxels",
       "visible": true,
       "voxels": {
        "dtype": "uint8",
        "shape": [
         1,
         1,
         10
        ]
       },
       "wireframe": false
      }
     },
     "e5c0d97cfad74f0bb87cf230f63a74cc": {
      "buffers": [
       {
        "data": "eNoDAAAAAAE=",
        "encoding": "base64",
        "path": [
         "colors",
         "compressed_buffer"
        ]
       },
       {
        "data": "eNpjYGiwZ8AAxIsBAF7EAv0=",
        "encoding": "base64",
        "path": [
         "model_matrix",
         "compressed_buffer"
        ]
       },
       {
        "data": "eNoDAAAAAAE=",
        "encoding": "base64",
        "path": [
         "opacities",
         "compressed_buffer"
        ]
       },
       {
        "data": "eNpjYGCwZ4DjA0hsBQcYm5EhwQEhPgGJvQFJzQUk8Q9IbA5HBFsCia2BxLZwRJjjgcSOQGJnIKmvQGK3ILF7kNhTkNhz4GwA3oQXaA==",
        "encoding": "base64",
        "path": [
         "positions",
         "compressed_buffer"
        ]
       }
      ],
      "model_module": "k3d",
      "model_module_version": "2.7.4",
      "model_name": "ObjectModel",
      "state": {
       "_view_count": null,
       "_view_module": null,
       "_view_module_version": "",
       "_view_name": null,
       "color": 5010096,
       "colors": {
        "dtype": "uint32",
        "shape": [
         0
        ]
       },
       "compression_level": 0,
       "id": 4925636720,
       "mesh_detail": 2,
       "model_matrix": {
        "dtype": "float32",
        "shape": [
         4,
         4
        ]
       },
       "name": "Points #1",
       "opacities": {
        "dtype": "float32",
        "shape": [
         0
        ]
       },
       "opacity": 1,
       "point_size": 0.25,
       "positions": {
        "dtype": "float32",
        "shape": [
         20,
         3
        ]
       },
       "shader": "3dSpecular",
       "type": "Points",
       "visible": true
      }
     },
     "e5dcbf8fc3d34aa7b32f41cc66c4c5e9": {
      "model_module": "@jupyter-widgets/base",
      "model_module_version": "1.2.0",
      "model_name": "LayoutModel",
      "state": {}
     },
     "e692de50643b474ea136559d9caf2c41": {
      "buffers": [
       {
        "data": "eNoDAAAAAAE=",
        "encoding": "base64",
        "path": [
         "colors",
         "compressed_buffer"
        ]
       },
       {
        "data": "eNpjYGiwZ8AAxIsBAF7EAv0=",
        "encoding": "base64",
        "path": [
         "model_matrix",
         "compressed_buffer"
        ]
       },
       {
        "data": "eNoDAAAAAAE=",
        "encoding": "base64",
        "path": [
         "opacities",
         "compressed_buffer"
        ]
       },
       {
        "data": "eNpjYGCwZ4DjA0hsBQcYm5EhwQEhPgGJvQFJzQUk8Q9IbA5HBFsCia2BxLZwRJjjgcSOQGJnIKmvQGK3ILF7kNhTkNhz4GwA3oQXaA==",
        "encoding": "base64",
        "path": [
         "positions",
         "compressed_buffer"
        ]
       }
      ],
      "model_module": "k3d",
      "model_module_version": "2.7.4",
      "model_name": "ObjectModel",
      "state": {
       "_view_count": null,
       "_view_module": null,
       "_view_module_version": "",
       "_view_name": null,
       "color": 5010096,
       "colors": {
        "dtype": "uint32",
        "shape": [
         0
        ]
       },
       "compression_level": 0,
       "id": 4928684720,
       "mesh_detail": 2,
       "model_matrix": {
        "dtype": "float32",
        "shape": [
         4,
         4
        ]
       },
       "name": "Points #1",
       "opacities": {
        "dtype": "float32",
        "shape": [
         0
        ]
       },
       "opacity": 1,
       "point_size": 0.25,
       "positions": {
        "dtype": "float32",
        "shape": [
         20,
         3
        ]
       },
       "shader": "3dSpecular",
       "type": "Points",
       "visible": true
      }
     },
     "e6bbfd0c5d3a4c8ba41291870d5f89a7": {
      "buffers": [
       {
        "data": "eNoDAAAAAAE=",
        "encoding": "base64",
        "path": [
         "colors",
         "compressed_buffer"
        ]
       },
       {
        "data": "eNpjYGiwZ8AAxIsBAF7EAv0=",
        "encoding": "base64",
        "path": [
         "model_matrix",
         "compressed_buffer"
        ]
       },
       {
        "data": "eNoDAAAAAAE=",
        "encoding": "base64",
        "path": [
         "opacities",
         "compressed_buffer"
        ]
       },
       {
        "data": "eNpjYGCwZ4DjA0hsBQcYm5EhwQEhPgGJvQFJzQUk8Q9IbA5HBFsCzgYAxoYLzw==",
        "encoding": "base64",
        "path": [
         "positions",
         "compressed_buffer"
        ]
       }
      ],
      "model_module": "k3d",
      "model_module_version": "2.7.4",
      "model_name": "ObjectModel",
      "state": {
       "_view_count": null,
       "_view_module": null,
       "_view_module_version": "",
       "_view_name": null,
       "color": 5010096,
       "colorLegend": false,
       "colors": {
        "dtype": "uint32",
        "shape": [
         0
        ]
       },
       "compression_level": 0,
       "id": 4928788656,
       "mesh_detail": 2,
       "model_matrix": {
        "dtype": "float32",
        "shape": [
         4,
         4
        ]
       },
       "name": "Points #1",
       "opacities": {
        "dtype": "float32",
        "shape": [
         0
        ]
       },
       "opacity": 1,
       "point_size": 0.25,
       "positions": {
        "dtype": "float32",
        "shape": [
         10,
         3
        ]
       },
       "shader": "3dSpecular",
       "type": "Points",
       "visible": true
      }
     },
     "e72a6f010d1841bfb42d22b8135b7fac": {
      "model_module": "k3d",
      "model_module_version": "2.7.4",
      "model_name": "PlotModel",
      "state": {
       "_backend_version": "2.7.4",
       "_dom_classes": [],
       "_view_count": null,
       "antialias": 3,
       "auto_rendering": true,
       "axes": [
        "x (nm)",
        "y (nm)",
        "z (nm)"
       ],
       "axes_helper": 1,
       "background_color": 16777215,
       "camera": [
        2.8778826572598577,
        -4.316823985889787,
        0.28778826572598526,
        0,
        0,
        0,
        0,
        0,
        1
       ],
       "camera_animation": [],
       "camera_auto_fit": true,
       "camera_fov": 60,
       "camera_no_pan": false,
       "camera_no_rotate": false,
       "camera_no_zoom": false,
       "clipping_planes": [],
       "colorbar_object_id": -1,
       "fps": 25,
       "fps_meter": false,
       "grid": [
        -1,
        -1,
        -1,
        1,
        1,
        1
       ],
       "grid_auto_fit": true,
       "grid_visible": true,
       "height": 512,
       "layout": "IPY_MODEL_0115c3dbf16d4495b6e185c90ba95b29",
       "lighting": 1.5,
       "menu_visibility": true,
       "mode": "view",
       "name": null,
       "object_ids": [
        4928684816,
        4928685920
       ],
       "rendering_steps": 1,
       "screenshot": "",
       "screenshot_scale": 2,
       "snapshot": "",
       "time": 0,
       "voxel_paint_color": 0
      }
     },
     "e7370817604f47928ece65e4c244b2c2": {
      "model_module": "k3d",
      "model_module_version": "2.7.4",
      "model_name": "PlotModel",
      "state": {
       "_backend_version": "2.7.4",
       "_dom_classes": [],
       "_view_count": null,
       "antialias": 3,
       "auto_rendering": true,
       "axes": [
        "x (nm)",
        "y (nm)",
        "z (nm)"
       ],
       "axes_helper": 1,
       "background_color": 16777215,
       "camera": [
        13.312922348924026,
        -11.969383532282365,
        1.3312922354855081,
        4.999999994069116,
        0.5,
        0.5,
        0,
        0,
        1
       ],
       "camera_animation": [],
       "camera_auto_fit": true,
       "camera_fov": 60,
       "camera_no_pan": false,
       "camera_no_rotate": false,
       "camera_no_zoom": false,
       "clipping_planes": [],
       "colorbar_object_id": -1,
       "fps": 25,
       "fps_meter": false,
       "grid": [
        -1,
        -1,
        -1,
        1,
        1,
        1
       ],
       "grid_auto_fit": true,
       "grid_visible": true,
       "height": 512,
       "layout": "IPY_MODEL_cfa05b3c26c94b819979902b531774d3",
       "lighting": 1.5,
       "menu_visibility": true,
       "mode": "view",
       "name": null,
       "object_ids": [
        4936882976,
        4940532704
       ],
       "rendering_steps": 1,
       "screenshot": "",
       "screenshot_scale": 2,
       "snapshot": "",
       "time": 0,
       "voxel_paint_color": 0
      }
     },
     "e8179531870e45bdbb26d1fcaf555eaa": {
      "model_module": "k3d",
      "model_module_version": "2.7.4",
      "model_name": "PlotModel",
      "state": {
       "_backend_version": "2.7.4",
       "_dom_classes": [],
       "_view_count": null,
       "antialias": 3,
       "auto_rendering": true,
       "axes": [
        "x (nm)",
        "y (nm)",
        "z (nm)"
       ],
       "axes_helper": 1,
       "background_color": 16777215,
       "camera": [
        5.258837036639309,
        -6.640709844408591,
        1.0564590053052485,
        5,
        0.5,
        0.5,
        -0.026144240254699844,
        0.021346553303628866,
        0.9994302393681924
       ],
       "camera_animation": [],
       "camera_auto_fit": true,
       "camera_fov": 60,
       "camera_no_pan": false,
       "camera_no_rotate": false,
       "camera_no_zoom": false,
       "clipping_planes": [],
       "colorbar_object_id": -1,
       "fps": 25,
       "fps_meter": false,
       "grid": [
        -1,
        -1,
        -1,
        1,
        1,
        1
       ],
       "grid_auto_fit": true,
       "grid_visible": true,
       "height": 512,
       "layout": "IPY_MODEL_1bd3ef74cdea4a83b8ba7097316cb2ab",
       "lighting": 1.5,
       "menu_visibility": true,
       "mode": "view",
       "name": null,
       "object_ids": [
        4936058000,
        4934840176
       ],
       "rendering_steps": 1,
       "screenshot": "",
       "screenshot_scale": 2,
       "snapshot": "",
       "time": 0,
       "voxel_paint_color": 0
      }
     },
     "e885a28a0840413fa8ff47873ae3046a": {
      "model_module": "@jupyter-widgets/base",
      "model_module_version": "1.2.0",
      "model_name": "LayoutModel",
      "state": {}
     },
     "e96a05ac2117482d87b42c1dd775fc45": {
      "model_module": "@jupyter-widgets/base",
      "model_module_version": "1.2.0",
      "model_name": "LayoutModel",
      "state": {}
     },
     "e96a46d78a0745b89ee843f477e76dc9": {
      "model_module": "@jupyter-widgets/base",
      "model_module_version": "1.2.0",
      "model_name": "LayoutModel",
      "state": {}
     },
     "e97b7752825945ac992ce56af17cc851": {
      "model_module": "@jupyter-widgets/output",
      "model_module_version": "1.0.0",
      "model_name": "OutputModel",
      "state": {
       "layout": "IPY_MODEL_84e8800c193e4ae99b844703c94a75cd",
       "outputs": [
        {
         "data": {
          "application/vnd.jupyter.widget-view+json": {
           "model_id": "a1dccb417edc4cafbc07566f084dd2d8",
           "version_major": 2,
           "version_minor": 0
          },
          "text/plain": "Plot(antialias=3, axes=['x', 'y', 'z'], axes_helper=1.0, background_color=16777215, camera=[2, -3, 0.2, 0.0, 0…"
         },
         "metadata": {},
         "output_type": "display_data"
        }
       ]
      }
     },
     "ea28aa895eac415fa4904c5beffcc0af": {
      "buffers": [
       {
        "data": "eNoLarnLEERFDABnGyH9",
        "encoding": "base64",
        "path": [
         "colors",
         "compressed_buffer"
        ]
       },
       {
        "data": "eNpjYGiwZ8AAxIsBAF7EAv0=",
        "encoding": "base64",
        "path": [
         "model_matrix",
         "compressed_buffer"
        ]
       },
       {
        "data": "eNpjYGAwkfomagfCjAwN9jA2AwODA0LcwUEGSMuAxRuQ2AvgbEaGAw5yQFoOLP7AQQFIK0DMcUSwBeBsAM0iIf0=",
        "encoding": "base64",
        "path": [
         "origins",
         "compressed_buffer"
        ]
       },
       {
        "data": "eNr787/e/jOLKRj/wcH+C2R/AtKf0Nj/0dgfgTQIMzA02H8A0h/wsAHsHzGV",
        "encoding": "base64",
        "path": [
         "vectors",
         "compressed_buffer"
        ]
       }
      ],
      "model_module": "k3d",
      "model_module_version": "2.7.4",
      "model_name": "ObjectModel",
      "state": {
       "_view_count": null,
       "_view_module": null,
       "_view_module_version": "",
       "_view_name": null,
       "colorLegend": false,
       "colors": {
        "dtype": "uint32",
        "shape": [
         10,
         2
        ]
       },
       "compression_level": 0,
       "head_color": 255,
       "head_size": 3,
       "id": 4756854144,
       "label_size": 1,
       "labels": [],
       "line_width": 0.01,
       "model_matrix": {
        "dtype": "float32",
        "shape": [
         4,
         4
        ]
       },
       "name": "Vectors #1",
       "origin_color": 255,
       "origins": {
        "dtype": "float32",
        "shape": [
         10,
         3
        ]
       },
       "type": "Vectors",
       "use_head": true,
       "vectors": {
        "dtype": "float32",
        "shape": [
         10,
         3
        ]
       },
       "visible": true
      }
     },
     "ea4253aca6244425aa6176f7090e9526": {
      "model_module": "k3d",
      "model_module_version": "2.7.4",
      "model_name": "PlotModel",
      "state": {
       "_backend_version": "2.7.4",
       "_dom_classes": [],
       "_view_count": null,
       "antialias": 3,
       "auto_rendering": true,
       "axes": [
        "x (nm)",
        "y (nm)",
        "z (nm)"
       ],
       "axes_helper": 1,
       "background_color": 16777215,
       "camera": [
        2.8778826572598577,
        -4.316823985889787,
        0.28778826572598526,
        0,
        0,
        0,
        0,
        0,
        1
       ],
       "camera_animation": [],
       "camera_auto_fit": true,
       "camera_fov": 60,
       "camera_no_pan": false,
       "camera_no_rotate": false,
       "camera_no_zoom": false,
       "clipping_planes": [],
       "colorbar_object_id": -1,
       "fps": 25,
       "fps_meter": false,
       "grid": [
        -1,
        -1,
        -1,
        1,
        1,
        1
       ],
       "grid_auto_fit": true,
       "grid_visible": true,
       "height": 512,
       "layout": "IPY_MODEL_04e338ca03094004a77b0d1f3397803b",
       "lighting": 1.5,
       "menu_visibility": true,
       "mode": "view",
       "name": null,
       "object_ids": [
        4554430832
       ],
       "rendering_steps": 1,
       "screenshot": "",
       "screenshot_scale": 2,
       "snapshot": "",
       "time": 0,
       "voxel_paint_color": 0
      }
     },
     "eaf86c2089c74707bdcb4e758cb3ba7d": {
      "model_module": "@jupyter-widgets/base",
      "model_module_version": "1.2.0",
      "model_name": "LayoutModel",
      "state": {}
     },
     "eb59418b378b4a91bf847658b489d9ed": {
      "model_module": "@jupyter-widgets/base",
      "model_module_version": "1.2.0",
      "model_name": "LayoutModel",
      "state": {}
     },
     "ebc3a4223aa14d14a0bcc4b61a9f2f34": {
      "model_module": "@jupyter-widgets/output",
      "model_module_version": "1.0.0",
      "model_name": "OutputModel",
      "state": {
       "layout": "IPY_MODEL_925865739c784b5eb793b6a670d2fc50",
       "outputs": [
        {
         "data": {
          "application/vnd.jupyter.widget-view+json": {
           "model_id": "4b6fe5d029c04ed6b37112ffdf53bf71",
           "version_major": 2,
           "version_minor": 0
          },
          "text/plain": "Plot(antialias=3, axes=['x', 'y', 'z'], axes_helper=1.0, background_color=16777215, camera=[2, -3, 0.2, 0.0, 0…"
         },
         "metadata": {},
         "output_type": "display_data"
        }
       ]
      }
     },
     "ec350a6a8e3843e586c2a691d99170f1": {
      "buffers": [
       {
        "data": "eNoDAAAAAAE=",
        "encoding": "base64",
        "path": [
         "colors",
         "compressed_buffer"
        ]
       },
       {
        "data": "eNpjYGiwZ8AAxIsBAF7EAv0=",
        "encoding": "base64",
        "path": [
         "model_matrix",
         "compressed_buffer"
        ]
       },
       {
        "data": "eNoDAAAAAAE=",
        "encoding": "base64",
        "path": [
         "opacities",
         "compressed_buffer"
        ]
       },
       {
        "data": "eNpjYGCwZ4DjA0hsBQcYm5EhwQEhPgGJvQFJzQUk8Q9IbA5HBFsCzgYAxoYLzw==",
        "encoding": "base64",
        "path": [
         "positions",
         "compressed_buffer"
        ]
       }
      ],
      "model_module": "k3d",
      "model_module_version": "2.7.4",
      "model_name": "ObjectModel",
      "state": {
       "_view_count": null,
       "_view_module": null,
       "_view_module_version": "",
       "_view_name": null,
       "color": 5010096,
       "colorLegend": false,
       "colors": {
        "dtype": "uint32",
        "shape": [
         0
        ]
       },
       "compression_level": 0,
       "id": 4932544544,
       "mesh_detail": 2,
       "model_matrix": {
        "dtype": "float32",
        "shape": [
         4,
         4
        ]
       },
       "name": "Points #1",
       "opacities": {
        "dtype": "float32",
        "shape": [
         0
        ]
       },
       "opacity": 1,
       "point_size": 0.25,
       "positions": {
        "dtype": "float32",
        "shape": [
         10,
         3
        ]
       },
       "shader": "3dSpecular",
       "type": "Points",
       "visible": true
      }
     },
     "ecebf55819084119b4b234802c54a973": {
      "model_module": "k3d",
      "model_module_version": "2.7.4",
      "model_name": "PlotModel",
      "state": {
       "_backend_version": "2.7.4",
       "_dom_classes": [],
       "_view_count": null,
       "antialias": 3,
       "auto_rendering": true,
       "axes": [
        "x (nm)",
        "y (nm)",
        "z (nm)"
       ],
       "axes_helper": 1,
       "background_color": 16777215,
       "camera": [
        2.8778826572598577,
        -4.316823985889787,
        0.28778826572598526,
        0,
        0,
        0,
        0,
        0,
        1
       ],
       "camera_animation": [],
       "camera_auto_fit": true,
       "camera_fov": 60,
       "camera_no_pan": false,
       "camera_no_rotate": false,
       "camera_no_zoom": false,
       "clipping_planes": [],
       "colorbar_object_id": -1,
       "fps": 25,
       "fps_meter": false,
       "grid": [
        -1,
        -1,
        -1,
        1,
        1,
        1
       ],
       "grid_auto_fit": true,
       "grid_visible": true,
       "height": 512,
       "layout": "IPY_MODEL_7c2782baf2634c6794e55cdd3620dbac",
       "lighting": 1.5,
       "menu_visibility": true,
       "mode": "view",
       "name": null,
       "object_ids": [
        4928634400,
        4928634544
       ],
       "rendering_steps": 1,
       "screenshot": "",
       "screenshot_scale": 2,
       "snapshot": "",
       "time": 0,
       "voxel_paint_color": 0
      }
     },
     "ecfae38d61b645d7a16f343716ccd871": {
      "model_module": "@jupyter-widgets/base",
      "model_module_version": "1.2.0",
      "model_name": "LayoutModel",
      "state": {}
     },
     "ee4af06a91c4431c9c231a3b9a0e5b9e": {
      "model_module": "@jupyter-widgets/base",
      "model_module_version": "1.2.0",
      "model_name": "LayoutModel",
      "state": {}
     },
     "eef121e381254522ab82de82f8863fc9": {
      "model_module": "@jupyter-widgets/base",
      "model_module_version": "1.2.0",
      "model_name": "LayoutModel",
      "state": {}
     },
     "ef5d09b98a6540ffb27a10335208287e": {
      "model_module": "k3d",
      "model_module_version": "2.7.4",
      "model_name": "PlotModel",
      "state": {
       "_backend_version": "2.7.4",
       "_dom_classes": [],
       "_view_count": null,
       "antialias": 3,
       "auto_rendering": true,
       "axes": [
        "x (nm)",
        "y (nm)",
        "z (nm)"
       ],
       "axes_helper": 1,
       "background_color": 16777215,
       "camera": [
        5.0457194155394225,
        -5.822089505211368,
        0.5603396517741306,
        4.9999999957853145,
        0.5,
        0.5000000149011612,
        -0.027596474972037766,
        -0.046057929613031026,
        0.9985575104563981
       ],
       "camera_animation": [],
       "camera_auto_fit": true,
       "camera_fov": 60,
       "camera_no_pan": false,
       "camera_no_rotate": false,
       "camera_no_zoom": false,
       "clipping_planes": [],
       "colorbar_object_id": -1,
       "fps": 25,
       "fps_meter": false,
       "grid": [
        -1,
        -1,
        -1,
        1,
        1,
        1
       ],
       "grid_auto_fit": true,
       "grid_visible": true,
       "height": 512,
       "layout": "IPY_MODEL_eb59418b378b4a91bf847658b489d9ed",
       "lighting": 1.5,
       "menu_visibility": true,
       "mode": "view",
       "name": null,
       "object_ids": [
        4936882880,
        4937010816
       ],
       "rendering_steps": 1,
       "screenshot": "",
       "screenshot_scale": 2,
       "snapshot": "",
       "time": 0,
       "voxel_paint_color": 0
      }
     },
     "ef7521dc24ad41cd9d109c316477ad64": {
      "buffers": [
       {
        "data": "eNoDAAAAAAE=",
        "encoding": "base64",
        "path": [
         "colors",
         "compressed_buffer"
        ]
       },
       {
        "data": "eNpjYGiwZ8AAxIsBAF7EAv0=",
        "encoding": "base64",
        "path": [
         "model_matrix",
         "compressed_buffer"
        ]
       },
       {
        "data": "eNoDAAAAAAE=",
        "encoding": "base64",
        "path": [
         "opacities",
         "compressed_buffer"
        ]
       },
       {
        "data": "eNpjYGCwZ4DjA0hsBQcYm5EhwQEhPgGJvQFJzQUk8Q9IbA5HBFsCzgYAxoYLzw==",
        "encoding": "base64",
        "path": [
         "positions",
         "compressed_buffer"
        ]
       }
      ],
      "model_module": "k3d",
      "model_module_version": "2.7.4",
      "model_name": "ObjectModel",
      "state": {
       "_view_count": null,
       "_view_module": null,
       "_view_module_version": "",
       "_view_name": null,
       "color": 5010096,
       "colors": {
        "dtype": "uint32",
        "shape": [
         0
        ]
       },
       "compression_level": 0,
       "id": 4554429776,
       "mesh_detail": 2,
       "model_matrix": {
        "dtype": "float32",
        "shape": [
         4,
         4
        ]
       },
       "name": "Points #1",
       "opacities": {
        "dtype": "float32",
        "shape": [
         0
        ]
       },
       "opacity": 1,
       "point_size": 0.25,
       "positions": {
        "dtype": "float32",
        "shape": [
         10,
         3
        ]
       },
       "shader": "3dSpecular",
       "type": "Points",
       "visible": true
      }
     },
     "eff0de518ad74a798396fb5b8fa8e3e1": {
      "model_module": "@jupyter-widgets/output",
      "model_module_version": "1.0.0",
      "model_name": "OutputModel",
      "state": {
       "layout": "IPY_MODEL_bf5bac91eb38476c993374375cc16d79",
       "outputs": [
        {
         "data": {
          "application/vnd.jupyter.widget-view+json": {
           "model_id": "19e39f88f2fe446eaa17d55cdfa3f5f7",
           "version_major": 2,
           "version_minor": 0
          },
          "text/plain": "Plot(antialias=3, axes=['x', 'y', 'z'], axes_helper=1.0, background_color=16777215, camera=[2, -3, 0.2, 0.0, 0…"
         },
         "metadata": {},
         "output_type": "display_data"
        }
       ]
      }
     },
     "f10f685199bd4a609333b6a3efa04869": {
      "model_module": "@jupyter-widgets/output",
      "model_module_version": "1.0.0",
      "model_name": "OutputModel",
      "state": {
       "layout": "IPY_MODEL_d9c3f46ad9834d7d90f7934ad99b78f7",
       "outputs": [
        {
         "data": {
          "application/vnd.jupyter.widget-view+json": {
           "model_id": "abfc05db468b41c2939adef958567bde",
           "version_major": 2,
           "version_minor": 0
          },
          "text/plain": "Plot(antialias=3, axes=['x', 'y', 'z'], axes_helper=1.0, background_color=16777215, camera=[2, -3, 0.2, 0.0, 0…"
         },
         "metadata": {},
         "output_type": "display_data"
        }
       ]
      }
     },
     "f12bf3e4c08e45ddb6c0b63bd32d1843": {
      "model_module": "@jupyter-widgets/base",
      "model_module_version": "1.2.0",
      "model_name": "LayoutModel",
      "state": {}
     },
     "f197236e5f3e4a19aad44292048d36fb": {
      "model_module": "@jupyter-widgets/base",
      "model_module_version": "1.2.0",
      "model_name": "LayoutModel",
      "state": {}
     },
     "f1f02c577af04f018ae829626533e0db": {
      "model_module": "@jupyter-widgets/base",
      "model_module_version": "1.2.0",
      "model_name": "LayoutModel",
      "state": {}
     },
     "f3cb299f0b9b4583a577fcf62f4484ca": {
      "buffers": [
       {
        "data": "eNoDAAAAAAE=",
        "encoding": "base64",
        "path": [
         "colors",
         "compressed_buffer"
        ]
       },
       {
        "data": "eNpjYGiwZ8AAxIsBAF7EAv0=",
        "encoding": "base64",
        "path": [
         "model_matrix",
         "compressed_buffer"
        ]
       },
       {
        "data": "eNoDAAAAAAE=",
        "encoding": "base64",
        "path": [
         "opacities",
         "compressed_buffer"
        ]
       },
       {
        "data": "eNpjYGCwZ4DjA0hsBQcYm5EhwQEhPgGJvQFJzQUk8Q9IbA5HBFsCia2BxLZwRJjjgcSOQGJnIKmvQGK3ILF7kNhTkNhz4GwA3oQXaA==",
        "encoding": "base64",
        "path": [
         "positions",
         "compressed_buffer"
        ]
       }
      ],
      "model_module": "k3d",
      "model_module_version": "2.7.4",
      "model_name": "ObjectModel",
      "state": {
       "_view_count": null,
       "_view_module": null,
       "_view_module_version": "",
       "_view_name": null,
       "color": 5010096,
       "colors": {
        "dtype": "uint32",
        "shape": [
         0
        ]
       },
       "compression_level": 0,
       "id": 4928087952,
       "mesh_detail": 2,
       "model_matrix": {
        "dtype": "float32",
        "shape": [
         4,
         4
        ]
       },
       "name": "Points #1",
       "opacities": {
        "dtype": "float32",
        "shape": [
         0
        ]
       },
       "opacity": 1,
       "point_size": 0.25,
       "positions": {
        "dtype": "float32",
        "shape": [
         20,
         3
        ]
       },
       "shader": "3dSpecular",
       "type": "Points",
       "visible": true
      }
     },
     "f3cd8f590bae4275ae91936f5dad908d": {
      "model_module": "@jupyter-widgets/base",
      "model_module_version": "1.2.0",
      "model_name": "LayoutModel",
      "state": {}
     },
     "f3fbd85f6bfc439b821a3f822d15d40e": {
      "model_module": "@jupyter-widgets/base",
      "model_module_version": "1.2.0",
      "model_name": "LayoutModel",
      "state": {}
     },
     "f4200276dfac4977a26a78c5610bdff3": {
      "model_module": "@jupyter-widgets/base",
      "model_module_version": "1.2.0",
      "model_name": "LayoutModel",
      "state": {}
     },
     "f445c5d908f345f6875ee08a11e0b0c2": {
      "model_module": "@jupyter-widgets/output",
      "model_module_version": "1.0.0",
      "model_name": "OutputModel",
      "state": {
       "layout": "IPY_MODEL_4e7b78a609644465ae90f86f1f93fca6",
       "outputs": [
        {
         "data": {
          "application/vnd.jupyter.widget-view+json": {
           "model_id": "5e1b60ec94944bbabed1a5b58eb4dfca",
           "version_major": 2,
           "version_minor": 0
          },
          "text/plain": "Plot(antialias=3, axes=['x', 'y', 'z'], axes_helper=1.0, background_color=16777215, camera=[2, -3, 0.2, 0.0, 0…"
         },
         "metadata": {},
         "output_type": "display_data"
        }
       ]
      }
     },
     "f454487330a146168fa50256e3b32966": {
      "model_module": "@jupyter-widgets/base",
      "model_module_version": "1.2.0",
      "model_name": "LayoutModel",
      "state": {}
     },
     "f4ba3c8fd4984570a6d43082e130a26b": {
      "model_module": "@jupyter-widgets/base",
      "model_module_version": "1.2.0",
      "model_name": "LayoutModel",
      "state": {}
     },
     "f4bb4115fa5b40df81dc7e8469aeeeff": {
      "model_module": "@jupyter-widgets/base",
      "model_module_version": "1.2.0",
      "model_name": "LayoutModel",
      "state": {}
     },
     "f57a5dd6bfe34b0894853aa1db3814f9": {
      "model_module": "@jupyter-widgets/base",
      "model_module_version": "1.2.0",
      "model_name": "LayoutModel",
      "state": {}
     },
     "f5a294f0d2b840fe92ac5ff30b17a34b": {
      "model_module": "@jupyter-widgets/base",
      "model_module_version": "1.2.0",
      "model_name": "LayoutModel",
      "state": {}
     },
     "f63296bda54f49d0a3e1358c69b0f458": {
      "buffers": [
       {
        "data": "eNoDAAAAAAE=",
        "encoding": "base64",
        "path": [
         "colors",
         "compressed_buffer"
        ]
       },
       {
        "data": "eNpjYGiwZ8AAxIsBAF7EAv0=",
        "encoding": "base64",
        "path": [
         "model_matrix",
         "compressed_buffer"
        ]
       },
       {
        "data": "eNoDAAAAAAE=",
        "encoding": "base64",
        "path": [
         "opacities",
         "compressed_buffer"
        ]
       },
       {
        "data": "eNpjYGCwZ4DjA0hsBQcYm5EhwQEhPgGJvQFJzQUk8Q9IbA5HBFsCzgYAxoYLzw==",
        "encoding": "base64",
        "path": [
         "positions",
         "compressed_buffer"
        ]
       }
      ],
      "model_module": "k3d",
      "model_module_version": "2.7.4",
      "model_name": "ObjectModel",
      "state": {
       "_view_count": null,
       "_view_module": null,
       "_view_module_version": "",
       "_view_name": null,
       "color": 5010096,
       "colorLegend": false,
       "colors": {
        "dtype": "uint32",
        "shape": [
         0
        ]
       },
       "compression_level": 0,
       "id": 4932502288,
       "mesh_detail": 2,
       "model_matrix": {
        "dtype": "float32",
        "shape": [
         4,
         4
        ]
       },
       "name": "Points #1",
       "opacities": {
        "dtype": "float32",
        "shape": [
         0
        ]
       },
       "opacity": 1,
       "point_size": 0.25,
       "positions": {
        "dtype": "float32",
        "shape": [
         10,
         3
        ]
       },
       "shader": "3dSpecular",
       "type": "Points",
       "visible": true
      }
     },
     "f6d8b0b54b934c8a9165204c9e6e2939": {
      "buffers": [
       {
        "data": "eNoLarnLEDSIMQBtm0P5",
        "encoding": "base64",
        "path": [
         "colors",
         "compressed_buffer"
        ]
       },
       {
        "data": "eNpjYGiwZ8AAxIsBAF7EAv0=",
        "encoding": "base64",
        "path": [
         "model_matrix",
         "compressed_buffer"
        ]
       },
       {
        "data": "eNpjYGCwZ4CDA0hsBQcYi5EhwQEhPgGJvQFJzQUk8Q9IbA5HBFsCia2BxLZwRJjjgcSOQGJnIKmvQGK3ILF7kNhTkNhz4GwAXpANkA==",
        "encoding": "base64",
        "path": [
         "origins",
         "compressed_buffer"
        ]
       },
       {
        "data": "eNpjYACBBnsIHv5sALlrHdk=",
        "encoding": "base64",
        "path": [
         "vectors",
         "compressed_buffer"
        ]
       }
      ],
      "model_module": "k3d",
      "model_module_version": "2.7.4",
      "model_name": "ObjectModel",
      "state": {
       "_view_count": null,
       "_view_module": null,
       "_view_module_version": "",
       "_view_name": null,
       "colorLegend": false,
       "colors": {
        "dtype": "uint32",
        "shape": [
         20,
         2
        ]
       },
       "compression_level": 0,
       "head_color": 255,
       "head_size": 1,
       "id": 140675199978384,
       "label_size": 1,
       "labels": [],
       "line_width": 0.01,
       "model_matrix": {
        "dtype": "float32",
        "shape": [
         4,
         4
        ]
       },
       "name": "Vectors #1",
       "origin_color": 255,
       "origins": {
        "dtype": "float32",
        "shape": [
         20,
         3
        ]
       },
       "type": "Vectors",
       "use_head": true,
       "vectors": {
        "dtype": "float32",
        "shape": [
         20,
         3
        ]
       },
       "visible": true
      }
     },
     "f768f9caef00412ab4067a8446cad67c": {
      "model_module": "@jupyter-widgets/base",
      "model_module_version": "1.2.0",
      "model_name": "LayoutModel",
      "state": {}
     },
     "f78578fd8bd94f158ff73f2daaf75c2a": {
      "model_module": "@jupyter-widgets/base",
      "model_module_version": "1.2.0",
      "model_name": "LayoutModel",
      "state": {}
     },
     "f8678e0e3c7c4d6a948dc05716f7d78a": {
      "model_module": "@jupyter-widgets/base",
      "model_module_version": "1.2.0",
      "model_name": "LayoutModel",
      "state": {}
     },
     "f9b9523680e34ce690ed52ae3dffa8d3": {
      "model_module": "@jupyter-widgets/output",
      "model_module_version": "1.0.0",
      "model_name": "OutputModel",
      "state": {
       "layout": "IPY_MODEL_0019db826dfd4b9aa1c54b5ac243f0a1",
       "outputs": [
        {
         "data": {
          "application/vnd.jupyter.widget-view+json": {
           "model_id": "7ea3bcb8fd16470281346464673fed18",
           "version_major": 2,
           "version_minor": 0
          },
          "text/plain": "Plot(antialias=3, axes=['x', 'y', 'z'], axes_helper=1.0, background_color=16777215, camera=[2, -3, 0.2, 0.0, 0…"
         },
         "metadata": {},
         "output_type": "display_data"
        }
       ]
      }
     },
     "fa173438b139448aa35daf961a1749ff": {
      "model_module": "@jupyter-widgets/base",
      "model_module_version": "1.2.0",
      "model_name": "LayoutModel",
      "state": {}
     },
     "fa6d13b2b36a4c4a93ba6486c4c3fb49": {
      "model_module": "@jupyter-widgets/output",
      "model_module_version": "1.0.0",
      "model_name": "OutputModel",
      "state": {
       "layout": "IPY_MODEL_257175a350844a94afec007d0d920791",
       "outputs": [
        {
         "data": {
          "application/vnd.jupyter.widget-view+json": {
           "model_id": "a1604cafb340402b9ce7c5209b50c9bc",
           "version_major": 2,
           "version_minor": 0
          },
          "text/plain": "Plot(antialias=3, axes=['x', 'y', 'z'], axes_helper=1.0, background_color=16777215, camera=[2, -3, 0.2, 0.0, 0…"
         },
         "metadata": {},
         "output_type": "display_data"
        }
       ]
      }
     },
     "fa78af872160458783e00fd172a70738": {
      "model_module": "@jupyter-widgets/output",
      "model_module_version": "1.0.0",
      "model_name": "OutputModel",
      "state": {
       "layout": "IPY_MODEL_9420008811b14b04a23bde9ff3f9a76b",
       "outputs": [
        {
         "data": {
          "application/vnd.jupyter.widget-view+json": {
           "model_id": "cce91f45acfc41749d51c0b29430ff96",
           "version_major": 2,
           "version_minor": 0
          },
          "text/plain": "Plot(antialias=3, axes=['x', 'y', 'z'], axes_helper=1.0, background_color=16777215, camera=[2, -3, 0.2, 0.0, 0…"
         },
         "metadata": {},
         "output_type": "display_data"
        }
       ]
      }
     },
     "fa9a6025c94c4441b55b67fedda64a15": {
      "model_module": "@jupyter-widgets/output",
      "model_module_version": "1.0.0",
      "model_name": "OutputModel",
      "state": {
       "layout": "IPY_MODEL_c34442444d7d476788e2410d96dd50c4",
       "outputs": [
        {
         "data": {
          "application/vnd.jupyter.widget-view+json": {
           "model_id": "8d0580d69e8949c9b7623c32281f2a2c",
           "version_major": 2,
           "version_minor": 0
          },
          "text/plain": "Plot(antialias=3, axes=['x', 'y', 'z'], axes_helper=1.0, background_color=16777215, camera=[2, -3, 0.2, 0.0, 0…"
         },
         "metadata": {},
         "output_type": "display_data"
        }
       ]
      }
     },
     "fac75d11713542da817e827d622c41c2": {
      "model_module": "@jupyter-widgets/output",
      "model_module_version": "1.0.0",
      "model_name": "OutputModel",
      "state": {
       "layout": "IPY_MODEL_054f61e720454398a84a22bc8c403bf8",
       "outputs": [
        {
         "data": {
          "application/vnd.jupyter.widget-view+json": {
           "model_id": "d92ece9ff4a44036998a48a881de3a41",
           "version_major": 2,
           "version_minor": 0
          },
          "text/plain": "Plot(antialias=3, axes=['x', 'y', 'z'], axes_helper=1.0, background_color=16777215, camera=[2, -3, 0.2, 0.0, 0…"
         },
         "metadata": {},
         "output_type": "display_data"
        }
       ]
      }
     },
     "fb370d56547f419b934ce2c997da24f0": {
      "buffers": [
       {
        "data": "eNoLarnLEERFDABnGyH9",
        "encoding": "base64",
        "path": [
         "colors",
         "compressed_buffer"
        ]
       },
       {
        "data": "eNpjYGiwZ8AAxIsBAF7EAv0=",
        "encoding": "base64",
        "path": [
         "model_matrix",
         "compressed_buffer"
        ]
       },
       {
        "data": "eNpjYGioZ2A48J8BTNOPDQCwBiVj",
        "encoding": "base64",
        "path": [
         "origins",
         "compressed_buffer"
        ]
       },
       {
        "data": "eNpjYGj4z8BwAIgboJg+bAD+JC9j",
        "encoding": "base64",
        "path": [
         "vectors",
         "compressed_buffer"
        ]
       }
      ],
      "model_module": "k3d",
      "model_module_version": "2.7.4",
      "model_name": "ObjectModel",
      "state": {
       "_view_count": null,
       "_view_module": null,
       "_view_module_version": "",
       "_view_name": null,
       "colors": {
        "dtype": "uint32",
        "shape": [
         10,
         2
        ]
       },
       "compression_level": 0,
       "head_color": 255,
       "head_size": 3,
       "id": 4928847824,
       "label_size": 1,
       "labels": [],
       "line_width": 0.01,
       "model_matrix": {
        "dtype": "float32",
        "shape": [
         4,
         4
        ]
       },
       "name": "Vectors #1",
       "origin_color": 255,
       "origins": {
        "dtype": "float32",
        "shape": [
         10,
         3
        ]
       },
       "type": "Vectors",
       "use_head": true,
       "vectors": {
        "dtype": "float32",
        "shape": [
         10,
         3
        ]
       },
       "visible": true
      }
     },
     "fb3727123dee414b86b6db1a26fb28c7": {
      "model_module": "k3d",
      "model_module_version": "2.7.4",
      "model_name": "PlotModel",
      "state": {
       "_backend_version": "2.7.4",
       "_dom_classes": [],
       "_view_count": null,
       "antialias": 3,
       "auto_rendering": true,
       "axes": [
        "x (nm)",
        "y (nm)",
        "z (nm)"
       ],
       "axes_helper": 1,
       "background_color": 16777215,
       "camera": [
        13.226732908394498,
        -11.55884934769059,
        1.3039233057406194,
        5.1875,
        0.5000000149011612,
        0.5000000149011612,
        0,
        0,
        1
       ],
       "camera_animation": [],
       "camera_auto_fit": true,
       "camera_fov": 60,
       "camera_no_pan": false,
       "camera_no_rotate": false,
       "camera_no_zoom": false,
       "clipping_planes": [],
       "colorbar_object_id": -1,
       "fps": 25,
       "fps_meter": false,
       "grid": [
        -1,
        -1,
        -1,
        1,
        1,
        1
       ],
       "grid_auto_fit": true,
       "grid_visible": true,
       "height": 512,
       "layout": "IPY_MODEL_9a269d78975d4563b5ec79dcd14c6654",
       "lighting": 1.5,
       "menu_visibility": true,
       "mode": "view",
       "name": null,
       "object_ids": [
        4931426576,
        4896434160
       ],
       "rendering_steps": 1,
       "screenshot": "",
       "screenshot_scale": 2,
       "snapshot": "",
       "time": 0,
       "voxel_paint_color": 0
      }
     },
     "fb739d839b9645659496300056133d57": {
      "model_module": "@jupyter-widgets/base",
      "model_module_version": "1.2.0",
      "model_name": "LayoutModel",
      "state": {}
     },
     "fb7c4943ec0c4b788862d9776e686e8c": {
      "model_module": "@jupyter-widgets/output",
      "model_module_version": "1.0.0",
      "model_name": "OutputModel",
      "state": {
       "layout": "IPY_MODEL_07aaccf8c44642ae8908b12dcff94ca8",
       "outputs": [
        {
         "data": {
          "application/vnd.jupyter.widget-view+json": {
           "model_id": "1df2f054226342c88c06e4171f6c5f73",
           "version_major": 2,
           "version_minor": 0
          },
          "text/plain": "Plot(antialias=3, axes=['x', 'y', 'z'], axes_helper=1.0, background_color=16777215, camera=[2, -3, 0.2, 0.0, 0…"
         },
         "metadata": {},
         "output_type": "display_data"
        }
       ]
      }
     },
     "fb95d973961f49fd84f2cd9fe3cbb378": {
      "model_module": "@jupyter-widgets/base",
      "model_module_version": "1.2.0",
      "model_name": "LayoutModel",
      "state": {}
     },
     "fbd0eff5fcf942e6af1156b035d823ac": {
      "buffers": [
       {
        "data": "eNoLarnLEERFDABnGyH9",
        "encoding": "base64",
        "path": [
         "colors",
         "compressed_buffer"
        ]
       },
       {
        "data": "eNpjYGiwZ8AAxIsBAF7EAv0=",
        "encoding": "base64",
        "path": [
         "model_matrix",
         "compressed_buffer"
        ]
       },
       {
        "data": "eNr79/+/HQMDgz0DGBywR7AVHCDsBhCGskF4ggNCzQYHiDyDPSPDBST1D5DUczhC1ILYCo4wcQBEig9l",
        "encoding": "base64",
        "path": [
         "origins",
         "compressed_buffer"
        ]
       },
       {
        "data": "eNo7rSxk4tzHbsTA0GDvWauuOzv22VoQ2ylgs86U5k3rgez9IOxY/X71g9ytayfUFurdWzJrA0iN2AN2kNr9VfwTdar+X129MvCXJlS9/TW5NL2I+cprleTf6IH4B8/JgtU+48vV/hjppQ0ACV4vlA==",
        "encoding": "base64",
        "path": [
         "vectors",
         "compressed_buffer"
        ]
       }
      ],
      "model_module": "k3d",
      "model_module_version": "2.7.4",
      "model_name": "ObjectModel",
      "state": {
       "_view_count": null,
       "_view_module": null,
       "_view_module_version": "",
       "_view_name": null,
       "colorLegend": false,
       "colors": {
        "dtype": "uint32",
        "shape": [
         10,
         2
        ]
       },
       "compression_level": 0,
       "head_color": 255,
       "head_size": 3,
       "id": 4932581552,
       "label_size": 1,
       "labels": [],
       "line_width": 0.01,
       "model_matrix": {
        "dtype": "float32",
        "shape": [
         4,
         4
        ]
       },
       "name": "Vectors #1",
       "origin_color": 255,
       "origins": {
        "dtype": "float32",
        "shape": [
         10,
         3
        ]
       },
       "type": "Vectors",
       "use_head": true,
       "vectors": {
        "dtype": "float32",
        "shape": [
         10,
         3
        ]
       },
       "visible": true
      }
     },
     "fc40e5a1b689487592e0f2760e8d502a": {
      "model_module": "k3d",
      "model_module_version": "2.7.4",
      "model_name": "PlotModel",
      "state": {
       "_backend_version": "2.7.4",
       "_dom_classes": [],
       "_view_count": null,
       "antialias": 3,
       "auto_rendering": true,
       "axes": [
        "x (nm)",
        "y (nm)",
        "z (nm)"
       ],
       "axes_helper": 1,
       "background_color": 16777215,
       "camera": [
        8.713115731961858,
        -4.808153677160556,
        2.339176614875006,
        4.999999994069116,
        0.5,
        0.5,
        -0.13241750799784158,
        0.17513746562457902,
        0.975598519735573
       ],
       "camera_animation": [],
       "camera_auto_fit": true,
       "camera_fov": 60,
       "camera_no_pan": false,
       "camera_no_rotate": false,
       "camera_no_zoom": false,
       "clipping_planes": [],
       "colorbar_object_id": -1,
       "fps": 25,
       "fps_meter": false,
       "grid": [
        -1,
        -1,
        -1,
        1,
        1,
        1
       ],
       "grid_auto_fit": true,
       "grid_visible": true,
       "height": 512,
       "layout": "IPY_MODEL_68baa3eb8c80494f9a0242d8de5e4d54",
       "lighting": 1.5,
       "menu_visibility": true,
       "mode": "view",
       "name": null,
       "object_ids": [
        4941569808,
        4937000896
       ],
       "rendering_steps": 1,
       "screenshot": "",
       "screenshot_scale": 2,
       "snapshot": "",
       "time": 0,
       "voxel_paint_color": 0
      }
     },
     "fc833d8b3e224244870dbd97e9126d39": {
      "model_module": "@jupyter-widgets/base",
      "model_module_version": "1.2.0",
      "model_name": "LayoutModel",
      "state": {}
     },
     "fd1c8adc7980459dbfe24435aae12406": {
      "buffers": [
       {
        "data": "eNoDAAAAAAE=",
        "encoding": "base64",
        "path": [
         "colors",
         "compressed_buffer"
        ]
       },
       {
        "data": "eNpjYGiwZ8AAxIsBAF7EAv0=",
        "encoding": "base64",
        "path": [
         "model_matrix",
         "compressed_buffer"
        ]
       },
       {
        "data": "eNoDAAAAAAE=",
        "encoding": "base64",
        "path": [
         "opacities",
         "compressed_buffer"
        ]
       },
       {
        "data": "eNpjYGCwZ4DjA0hsBQcYm5EhwQEhPgGJvQFJzQUk8Q9IbA5HBFsCzgYAxoYLzw==",
        "encoding": "base64",
        "path": [
         "positions",
         "compressed_buffer"
        ]
       }
      ],
      "model_module": "k3d",
      "model_module_version": "2.7.4",
      "model_name": "ObjectModel",
      "state": {
       "_view_count": null,
       "_view_module": null,
       "_view_module_version": "",
       "_view_name": null,
       "color": 5010096,
       "colorLegend": false,
       "colors": {
        "dtype": "uint32",
        "shape": [
         0
        ]
       },
       "compression_level": 0,
       "id": 4936079056,
       "mesh_detail": 2,
       "model_matrix": {
        "dtype": "float32",
        "shape": [
         4,
         4
        ]
       },
       "name": "Points #1",
       "opacities": {
        "dtype": "float32",
        "shape": [
         0
        ]
       },
       "opacity": 1,
       "point_size": 0.25,
       "positions": {
        "dtype": "float32",
        "shape": [
         10,
         3
        ]
       },
       "shader": "3dSpecular",
       "type": "Points",
       "visible": true
      }
     },
     "fd32ad04b0f84a939c25d114b762d183": {
      "model_module": "@jupyter-widgets/base",
      "model_module_version": "1.2.0",
      "model_name": "LayoutModel",
      "state": {}
     },
     "fd84f394114e4411abfaf65c2a8568d8": {
      "buffers": [
       {
        "data": "eNrL0WNgyAHiYFUI9lOC4FhNCC4wFQLjHC8bMM5LigPjirp6MC6ZvQSM07cfB+Og80/B2OrBTzC2ePEPjM0e/QFjv8svwTh591kwLl6wCowrm1rBuCAtGYxzfB3BGADIcDc5",
        "encoding": "base64",
        "path": [
         "colors",
         "compressed_buffer"
        ]
       },
       {
        "data": "eNpjYGiwZ8AAxIsBAF7EAv0=",
        "encoding": "base64",
        "path": [
         "model_matrix",
         "compressed_buffer"
        ]
       },
       {
        "data": "eNpjYGiwi5qhYL9P0tyegcHBPmw6n/26UDsge4F9Wt03uzPX7e0ZGR7Yr1l7wW5BjTVQXMBhl+l6u1mrDIFsA4dpmlPtVnooA9UEOBx+22LHtFIQKF7gwAA0V/nKHzsGhg4HoyttdtcWXAOyZzgcPTnDLt1qC5C9wgFEg/gMDDscQPIgdYwMJxwg+hqA7BsOIPNA5jIyvHAA2QOyj4HhhwPIfpA7GBhYHEHuArmPgYHHEeRekLsZGEQcQf4A+YeBQcYR5D+QPwFZjlPZ",
        "encoding": "base64",
        "path": [
         "origins",
         "compressed_buffer"
        ]
       },
       {
        "data": "eNpjYGBgyEps2vcr7c4+IJMhovTl3h1hP8HsJZIStvrx/8HsIE9bu4ZPb8Hs3ikL7TJXHQOzr665ardYqRfMrlL5ZsfjwQtmA4F93HcvGxBjdvgnu1U1qnYgdlnOOTuj7ulgNogG8UFskDxIHYgN1WcPYoPMA5kLYoPsAdkHYoPsB7kDxAa5C+Q+EBvkXpC7QWyQP0D+AbFB/gP5EwBT5k59",
        "encoding": "base64",
        "path": [
         "vectors",
         "compressed_buffer"
        ]
       }
      ],
      "model_module": "k3d",
      "model_module_version": "2.7.4",
      "model_name": "ObjectModel",
      "state": {
       "_view_count": null,
       "_view_module": null,
       "_view_module_version": "",
       "_view_name": null,
       "colorLegend": false,
       "colors": {
        "dtype": "uint32",
        "shape": [
         20,
         2
        ]
       },
       "compression_level": 0,
       "head_color": 255,
       "head_size": 1,
       "id": 4970520432,
       "label_size": 1,
       "labels": [],
       "line_width": 0.01,
       "model_matrix": {
        "dtype": "float32",
        "shape": [
         4,
         4
        ]
       },
       "name": "Vectors #1",
       "origin_color": 255,
       "origins": {
        "dtype": "float32",
        "shape": [
         20,
         3
        ]
       },
       "type": "Vectors",
       "use_head": true,
       "vectors": {
        "dtype": "float32",
        "shape": [
         20,
         3
        ]
       },
       "visible": true
      }
     },
     "fe4714f4977c4277b5735395b16d50c0": {
      "model_module": "k3d",
      "model_module_version": "2.7.4",
      "model_name": "PlotModel",
      "state": {
       "_backend_version": "2.7.4",
       "_dom_classes": [],
       "_view_count": null,
       "antialias": 3,
       "auto_rendering": true,
       "axes": [
        "x (nm)",
        "y (nm)",
        "z (nm)"
       ],
       "axes_helper": 1,
       "background_color": 16777215,
       "camera": [
        5.447612424531001,
        -1.4238244389667158,
        5.88939440585602,
        5,
        0.49999999403953543,
        0.49999999403953543,
        -0.1347054424728374,
        0.9089141839785767,
        0.3946257086541061
       ],
       "camera_animation": [],
       "camera_auto_fit": true,
       "camera_fov": 60,
       "camera_no_pan": false,
       "camera_no_rotate": false,
       "camera_no_zoom": false,
       "clipping_planes": [],
       "colorbar_object_id": -1,
       "fps": 25,
       "fps_meter": false,
       "grid": [
        -1,
        -1,
        -1,
        1,
        1,
        1
       ],
       "grid_auto_fit": true,
       "grid_visible": true,
       "height": 512,
       "layout": "IPY_MODEL_7eb9405a1afb418593b45e3a9183b08e",
       "lighting": 1.5,
       "menu_visibility": true,
       "mode": "view",
       "name": null,
       "object_ids": [
        4888200144,
        4941567120
       ],
       "rendering_steps": 1,
       "screenshot": "",
       "screenshot_scale": 2,
       "snapshot": "",
       "time": 0,
       "voxel_paint_color": 0
      }
     },
     "fe8cf1ec04e843929767cfc223edf301": {
      "model_module": "@jupyter-widgets/output",
      "model_module_version": "1.0.0",
      "model_name": "OutputModel",
      "state": {
       "layout": "IPY_MODEL_fc833d8b3e224244870dbd97e9126d39",
       "outputs": [
        {
         "data": {
          "application/vnd.jupyter.widget-view+json": {
           "model_id": "387aa9ba68ec46ada4b17fc4e9ef9fcb",
           "version_major": 2,
           "version_minor": 0
          },
          "text/plain": "Plot(antialias=3, axes=['x', 'y', 'z'], axes_helper=1.0, background_color=16777215, camera=[2, -3, 0.2, 0.0, 0…"
         },
         "metadata": {},
         "output_type": "display_data"
        }
       ]
      }
     },
     "fedd6d7d6ffb4166ba76775daf3200b9": {
      "model_module": "@jupyter-widgets/base",
      "model_module_version": "1.2.0",
      "model_name": "LayoutModel",
      "state": {}
     },
     "ff4eb66f568e42b48f6f5c11c9c47308": {
      "model_module": "@jupyter-widgets/base",
      "model_module_version": "1.2.0",
      "model_name": "LayoutModel",
      "state": {}
     }
    },
    "version_major": 2,
    "version_minor": 0
   }
  }
 },
 "nbformat": 4,
 "nbformat_minor": 4
}
