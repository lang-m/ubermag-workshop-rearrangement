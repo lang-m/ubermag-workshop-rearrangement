{
 "cells": [
  {
   "cell_type": "markdown",
   "metadata": {},
   "source": [
    "# Tutorial 04: Dynamics equation\n",
    "\n",
    "The dynamics of magnetisation field $\\mathbf{m}$, without external excitations (e.g. spin-polarised current) is governed by the Landau-Lifshitz-Gilbert (LLG) equation\n",
    "\n",
    "$$\\frac{d\\mathbf{m}}{dt} = \\underbrace{-\\gamma_{0}(\\mathbf{m} \\times \\mathbf{H}_\\text{eff})}_\\text{precession} + \\underbrace{\\alpha\\left(\\mathbf{m} \\times \\frac{d\\mathbf{m}}{dt}\\right)}_\\text{damping},$$\n",
    "\n",
    "where $\\gamma_{0} = \\mu_{0}\\gamma$ is the gyromagnetic ratio, $\\alpha$ is the Gilbert damping, and $\\mathbf{H}_\\text{eff} = -\\frac{1}{\\mu_{0}M_\\text{s}}\\frac{\\delta w(\\mathbf{m})}{\\delta \\mathbf{m}}$ is the effective field. It consists of two terms: precession and damping. In this tutorial, we will explore some basic properties of this equation to understand how to define it in simulations.\n",
    "\n",
    "We will study the simplest \"zero-dimensional\" case - macrospin. In the first step, after we import necessary modules and create the mesh which consists of a single discretisation cell."
   ]
  },
  {
   "cell_type": "code",
   "execution_count": 1,
   "metadata": {},
   "outputs": [],
   "source": [
    "import oommfc as oc\n",
    "import discretisedfield as df\n",
    "import micromagneticmodel as mm\n",
    "%matplotlib inline\n",
    "\n",
    "# Define a macrospin mesh (i.e. one discretisation cell).\n",
    "p1 = (0, 0, 0)  # first point of the mesh domain (m)\n",
    "p2 = (1e-9, 1e-9, 1e-9)  # second point of the mesh domain (m)\n",
    "n = (1, 1, 1)  # discretisation cell size (m)\n",
    "\n",
    "region = df.Region(p1=p1, p2=p2)\n",
    "mesh = df.Mesh(region=region, n=n)"
   ]
  },
  {
   "cell_type": "markdown",
   "metadata": {},
   "source": [
    "Now, we can create a micromagnetic system object."
   ]
  },
  {
   "cell_type": "code",
   "execution_count": 2,
   "metadata": {},
   "outputs": [],
   "source": [
    "system = mm.System(name='macrospin')"
   ]
  },
  {
   "cell_type": "markdown",
   "metadata": {},
   "source": [
    "Let us assume we have a simple Hamiltonian which consists of only Zeeman energy term\n",
    "\n",
    "$$w = -\\mu_{0}M_\\text{s}\\mathbf{m}\\cdot\\mathbf{H},$$\n",
    "\n",
    "where $M_\\text{s}$ is the saturation magnetisation, $\\mu_{0}$ is the magnetic constant, and $\\mathbf{H}$ is the external magnetic field. We apply the external magnetic field with magnitude $H = 2 \\times 10^{6} \\,\\text{A}\\,\\text{m}^{-1}$ in the positive $z$ direction."
   ]
  },
  {
   "cell_type": "code",
   "execution_count": 3,
   "metadata": {},
   "outputs": [],
   "source": [
    "H = (0, 0, 2e6)  # external magnetic field (A/m)\n",
    "system.energy = mm.Zeeman(H=H)"
   ]
  },
  {
   "cell_type": "markdown",
   "metadata": {},
   "source": [
    "In the next step we can define the system's dynamics. Let us assume we have $\\gamma_{0} = 2.211 \\times 10^{5} \\,\\text{m}\\,\\text{A}^{-1}\\,\\text{s}^{-1}$ and $\\alpha=0.1$."
   ]
  },
  {
   "cell_type": "code",
   "execution_count": 4,
   "metadata": {},
   "outputs": [],
   "source": [
    "gamma0 = 2.211e5  # gyromagnetic ratio (m/As)\n",
    "alpha = 0.1  # Gilbert damping\n",
    "\n",
    "system.dynamics = mm.Precession(gamma0=gamma0) + mm.Damping(alpha=alpha)"
   ]
  },
  {
   "cell_type": "markdown",
   "metadata": {},
   "source": [
    "To check what is our dynamics equation:"
   ]
  },
  {
   "cell_type": "code",
   "execution_count": 5,
   "metadata": {},
   "outputs": [
    {
     "data": {
      "text/latex": [
       "$-\\frac{\\gamma_{0}}{1 + \\alpha^{2}} \\mathbf{m} \\times \\mathbf{H}_\\text{eff}-\\frac{\\gamma_{0} \\alpha}{1 + \\alpha^{2}} \\mathbf{m} \\times (\\mathbf{m} \\times \\mathbf{H}_\\text{eff})$"
      ],
      "text/plain": [
       "Precession(gamma0=221100.0) + Damping(alpha=0.1)"
      ]
     },
     "execution_count": 5,
     "metadata": {},
     "output_type": "execute_result"
    }
   ],
   "source": [
    "system.dynamics"
   ]
  },
  {
   "cell_type": "markdown",
   "metadata": {},
   "source": [
    "Before we start running time evolution simulations, we need to initialise the magnetisation. In this case, our magnetisation is pointing in the positive $x$ direction with $M_\\text{s} = 8 \\times 10^{6} \\,\\text{A}\\,\\text{m}^{-1}$. The magnetisation is defined using `Field` class from the `discretisedfield` package we imported earlier."
   ]
  },
  {
   "cell_type": "code",
   "execution_count": 6,
   "metadata": {},
   "outputs": [],
   "source": [
    "initial_m = (1, 0, 0)  # vector in x direction\n",
    "Ms = 8e6  # magnetisation saturation (A/m)\n",
    "\n",
    "system.m = df.Field(mesh, dim=3, value=initial_m, norm=Ms)"
   ]
  },
  {
   "cell_type": "markdown",
   "metadata": {},
   "source": [
    "Now, we can run the time evolution using `TimeDriver` for $t=0.1 \\,\\text{ns}$ and save the magnetisation configuration in $n=200$ steps."
   ]
  },
  {
   "cell_type": "code",
   "execution_count": 7,
   "metadata": {},
   "outputs": [
    {
     "name": "stdout",
     "output_type": "stream",
     "text": [
      "Running OOMMF (ExeOOMMFRunner) [2020/04/29 12:43]... (2.8 s)\n"
     ]
    }
   ],
   "source": [
    "td = oc.TimeDriver()\n",
    "td.drive(system, t=0.1e-9, n=200)"
   ]
  },
  {
   "cell_type": "markdown",
   "metadata": {},
   "source": [
    "How different system parameters vary with time, we can inspect by showing the system's datatable."
   ]
  },
  {
   "cell_type": "code",
   "execution_count": 8,
   "metadata": {},
   "outputs": [
    {
     "data": {
      "text/html": [
       "<div>\n",
       "<style scoped>\n",
       "    .dataframe tbody tr th:only-of-type {\n",
       "        vertical-align: middle;\n",
       "    }\n",
       "\n",
       "    .dataframe tbody tr th {\n",
       "        vertical-align: top;\n",
       "    }\n",
       "\n",
       "    .dataframe thead th {\n",
       "        text-align: right;\n",
       "    }\n",
       "</style>\n",
       "<table border=\"1\" class=\"dataframe\">\n",
       "  <thead>\n",
       "    <tr style=\"text-align: right;\">\n",
       "      <th></th>\n",
       "      <th>E</th>\n",
       "      <th>E_calc_count</th>\n",
       "      <th>max_dm/dt</th>\n",
       "      <th>dE/dt</th>\n",
       "      <th>delta_E</th>\n",
       "      <th>E_zeeman</th>\n",
       "      <th>iteration</th>\n",
       "      <th>stage_iteration</th>\n",
       "      <th>stage</th>\n",
       "      <th>mx</th>\n",
       "      <th>my</th>\n",
       "      <th>mz</th>\n",
       "      <th>last_time_step</th>\n",
       "      <th>t</th>\n",
       "    </tr>\n",
       "  </thead>\n",
       "  <tbody>\n",
       "    <tr>\n",
       "      <th>0</th>\n",
       "      <td>-4.400762e-22</td>\n",
       "      <td>37.0</td>\n",
       "      <td>25204.415522</td>\n",
       "      <td>-8.798712e-10</td>\n",
       "      <td>-3.269612e-22</td>\n",
       "      <td>-4.400762e-22</td>\n",
       "      <td>6.0</td>\n",
       "      <td>6.0</td>\n",
       "      <td>0.0</td>\n",
       "      <td>0.975901</td>\n",
       "      <td>0.217115</td>\n",
       "      <td>0.021888</td>\n",
       "      <td>3.715017e-13</td>\n",
       "      <td>5.000000e-13</td>\n",
       "    </tr>\n",
       "    <tr>\n",
       "      <th>1</th>\n",
       "      <td>-8.797309e-22</td>\n",
       "      <td>44.0</td>\n",
       "      <td>25186.311578</td>\n",
       "      <td>-8.786077e-10</td>\n",
       "      <td>-4.396547e-22</td>\n",
       "      <td>-8.797309e-22</td>\n",
       "      <td>8.0</td>\n",
       "      <td>1.0</td>\n",
       "      <td>1.0</td>\n",
       "      <td>0.904810</td>\n",
       "      <td>0.423562</td>\n",
       "      <td>0.043754</td>\n",
       "      <td>5.000000e-13</td>\n",
       "      <td>1.000000e-12</td>\n",
       "    </tr>\n",
       "    <tr>\n",
       "      <th>2</th>\n",
       "      <td>-1.318544e-21</td>\n",
       "      <td>51.0</td>\n",
       "      <td>25156.186455</td>\n",
       "      <td>-8.765071e-10</td>\n",
       "      <td>-4.388134e-22</td>\n",
       "      <td>-1.318544e-21</td>\n",
       "      <td>10.0</td>\n",
       "      <td>1.0</td>\n",
       "      <td>2.0</td>\n",
       "      <td>0.790286</td>\n",
       "      <td>0.609218</td>\n",
       "      <td>0.065579</td>\n",
       "      <td>5.000000e-13</td>\n",
       "      <td>1.500000e-12</td>\n",
       "    </tr>\n",
       "    <tr>\n",
       "      <th>3</th>\n",
       "      <td>-1.756100e-21</td>\n",
       "      <td>58.0</td>\n",
       "      <td>25114.112032</td>\n",
       "      <td>-8.735776e-10</td>\n",
       "      <td>-4.375555e-22</td>\n",
       "      <td>-1.756100e-21</td>\n",
       "      <td>12.0</td>\n",
       "      <td>1.0</td>\n",
       "      <td>3.0</td>\n",
       "      <td>0.638055</td>\n",
       "      <td>0.765021</td>\n",
       "      <td>0.087341</td>\n",
       "      <td>5.000000e-13</td>\n",
       "      <td>2.000000e-12</td>\n",
       "    </tr>\n",
       "    <tr>\n",
       "      <th>4</th>\n",
       "      <td>-2.191985e-21</td>\n",
       "      <td>65.0</td>\n",
       "      <td>25060.188355</td>\n",
       "      <td>-8.698302e-10</td>\n",
       "      <td>-4.358857e-22</td>\n",
       "      <td>-2.191985e-21</td>\n",
       "      <td>14.0</td>\n",
       "      <td>1.0</td>\n",
       "      <td>4.0</td>\n",
       "      <td>0.455710</td>\n",
       "      <td>0.883427</td>\n",
       "      <td>0.109020</td>\n",
       "      <td>5.000000e-13</td>\n",
       "      <td>2.500000e-12</td>\n",
       "    </tr>\n",
       "    <tr>\n",
       "      <th>...</th>\n",
       "      <td>...</td>\n",
       "      <td>...</td>\n",
       "      <td>...</td>\n",
       "      <td>...</td>\n",
       "      <td>...</td>\n",
       "      <td>...</td>\n",
       "      <td>...</td>\n",
       "      <td>...</td>\n",
       "      <td>...</td>\n",
       "      <td>...</td>\n",
       "      <td>...</td>\n",
       "      <td>...</td>\n",
       "      <td>...</td>\n",
       "      <td>...</td>\n",
       "    </tr>\n",
       "    <tr>\n",
       "      <th>195</th>\n",
       "      <td>-2.009865e-20</td>\n",
       "      <td>1402.0</td>\n",
       "      <td>690.438568</td>\n",
       "      <td>-6.602614e-13</td>\n",
       "      <td>-3.374608e-25</td>\n",
       "      <td>-2.009865e-20</td>\n",
       "      <td>396.0</td>\n",
       "      <td>1.0</td>\n",
       "      <td>195.0</td>\n",
       "      <td>0.013011</td>\n",
       "      <td>-0.024099</td>\n",
       "      <td>0.999625</td>\n",
       "      <td>5.000000e-13</td>\n",
       "      <td>9.800000e-11</td>\n",
       "    </tr>\n",
       "    <tr>\n",
       "      <th>196</th>\n",
       "      <td>-2.009897e-20</td>\n",
       "      <td>1409.0</td>\n",
       "      <td>675.493807</td>\n",
       "      <td>-6.319876e-13</td>\n",
       "      <td>-3.230101e-25</td>\n",
       "      <td>-2.009897e-20</td>\n",
       "      <td>398.0</td>\n",
       "      <td>1.0</td>\n",
       "      <td>196.0</td>\n",
       "      <td>0.017545</td>\n",
       "      <td>-0.020251</td>\n",
       "      <td>0.999641</td>\n",
       "      <td>5.000000e-13</td>\n",
       "      <td>9.850000e-11</td>\n",
       "    </tr>\n",
       "    <tr>\n",
       "      <th>197</th>\n",
       "      <td>-2.009928e-20</td>\n",
       "      <td>1416.0</td>\n",
       "      <td>660.872303</td>\n",
       "      <td>-6.049242e-13</td>\n",
       "      <td>-3.091780e-25</td>\n",
       "      <td>-2.009928e-20</td>\n",
       "      <td>400.0</td>\n",
       "      <td>1.0</td>\n",
       "      <td>197.0</td>\n",
       "      <td>0.021059</td>\n",
       "      <td>-0.015612</td>\n",
       "      <td>0.999656</td>\n",
       "      <td>5.000000e-13</td>\n",
       "      <td>9.900000e-11</td>\n",
       "    </tr>\n",
       "    <tr>\n",
       "      <th>198</th>\n",
       "      <td>-2.009958e-20</td>\n",
       "      <td>1423.0</td>\n",
       "      <td>646.567078</td>\n",
       "      <td>-5.790193e-13</td>\n",
       "      <td>-2.959381e-25</td>\n",
       "      <td>-2.009958e-20</td>\n",
       "      <td>402.0</td>\n",
       "      <td>1.0</td>\n",
       "      <td>198.0</td>\n",
       "      <td>0.023428</td>\n",
       "      <td>-0.010435</td>\n",
       "      <td>0.999671</td>\n",
       "      <td>5.000000e-13</td>\n",
       "      <td>9.950000e-11</td>\n",
       "    </tr>\n",
       "    <tr>\n",
       "      <th>199</th>\n",
       "      <td>-2.009986e-20</td>\n",
       "      <td>1430.0</td>\n",
       "      <td>632.571305</td>\n",
       "      <td>-5.542233e-13</td>\n",
       "      <td>-2.832649e-25</td>\n",
       "      <td>-2.009986e-20</td>\n",
       "      <td>404.0</td>\n",
       "      <td>1.0</td>\n",
       "      <td>199.0</td>\n",
       "      <td>0.024591</td>\n",
       "      <td>-0.004988</td>\n",
       "      <td>0.999685</td>\n",
       "      <td>5.000000e-13</td>\n",
       "      <td>1.000000e-10</td>\n",
       "    </tr>\n",
       "  </tbody>\n",
       "</table>\n",
       "<p>200 rows × 14 columns</p>\n",
       "</div>"
      ],
      "text/plain": [
       "                E  E_calc_count     max_dm/dt         dE/dt       delta_E  \\\n",
       "0   -4.400762e-22          37.0  25204.415522 -8.798712e-10 -3.269612e-22   \n",
       "1   -8.797309e-22          44.0  25186.311578 -8.786077e-10 -4.396547e-22   \n",
       "2   -1.318544e-21          51.0  25156.186455 -8.765071e-10 -4.388134e-22   \n",
       "3   -1.756100e-21          58.0  25114.112032 -8.735776e-10 -4.375555e-22   \n",
       "4   -2.191985e-21          65.0  25060.188355 -8.698302e-10 -4.358857e-22   \n",
       "..            ...           ...           ...           ...           ...   \n",
       "195 -2.009865e-20        1402.0    690.438568 -6.602614e-13 -3.374608e-25   \n",
       "196 -2.009897e-20        1409.0    675.493807 -6.319876e-13 -3.230101e-25   \n",
       "197 -2.009928e-20        1416.0    660.872303 -6.049242e-13 -3.091780e-25   \n",
       "198 -2.009958e-20        1423.0    646.567078 -5.790193e-13 -2.959381e-25   \n",
       "199 -2.009986e-20        1430.0    632.571305 -5.542233e-13 -2.832649e-25   \n",
       "\n",
       "         E_zeeman  iteration  stage_iteration  stage        mx        my  \\\n",
       "0   -4.400762e-22        6.0              6.0    0.0  0.975901  0.217115   \n",
       "1   -8.797309e-22        8.0              1.0    1.0  0.904810  0.423562   \n",
       "2   -1.318544e-21       10.0              1.0    2.0  0.790286  0.609218   \n",
       "3   -1.756100e-21       12.0              1.0    3.0  0.638055  0.765021   \n",
       "4   -2.191985e-21       14.0              1.0    4.0  0.455710  0.883427   \n",
       "..            ...        ...              ...    ...       ...       ...   \n",
       "195 -2.009865e-20      396.0              1.0  195.0  0.013011 -0.024099   \n",
       "196 -2.009897e-20      398.0              1.0  196.0  0.017545 -0.020251   \n",
       "197 -2.009928e-20      400.0              1.0  197.0  0.021059 -0.015612   \n",
       "198 -2.009958e-20      402.0              1.0  198.0  0.023428 -0.010435   \n",
       "199 -2.009986e-20      404.0              1.0  199.0  0.024591 -0.004988   \n",
       "\n",
       "           mz  last_time_step             t  \n",
       "0    0.021888    3.715017e-13  5.000000e-13  \n",
       "1    0.043754    5.000000e-13  1.000000e-12  \n",
       "2    0.065579    5.000000e-13  1.500000e-12  \n",
       "3    0.087341    5.000000e-13  2.000000e-12  \n",
       "4    0.109020    5.000000e-13  2.500000e-12  \n",
       "..        ...             ...           ...  \n",
       "195  0.999625    5.000000e-13  9.800000e-11  \n",
       "196  0.999641    5.000000e-13  9.850000e-11  \n",
       "197  0.999656    5.000000e-13  9.900000e-11  \n",
       "198  0.999671    5.000000e-13  9.950000e-11  \n",
       "199  0.999685    5.000000e-13  1.000000e-10  \n",
       "\n",
       "[200 rows x 14 columns]"
      ]
     },
     "execution_count": 8,
     "metadata": {},
     "output_type": "execute_result"
    }
   ],
   "source": [
    "system.table"
   ]
  },
  {
   "cell_type": "markdown",
   "metadata": {},
   "source": [
    "However, in our case it is much more informative if we plot the time evolution of magnetisation $z$ component $m_{z}(t)$."
   ]
  },
  {
   "cell_type": "code",
   "execution_count": 9,
   "metadata": {},
   "outputs": [
    {
     "data": {
      "text/plain": [
       "<matplotlib.axes._subplots.AxesSubplot at 0x11ff27070>"
      ]
     },
     "execution_count": 9,
     "metadata": {},
     "output_type": "execute_result"
    },
    {
     "data": {
      "image/png": "[encoded data removed]",
      "text/plain": [
       "<Figure size 432x288 with 1 Axes>"
      ]
     },
     "metadata": {
      "needs_background": "light"
     },
     "output_type": "display_data"
    }
   ],
   "source": [
    "system.table.plot('t', 'mz')"
   ]
  },
  {
   "cell_type": "markdown",
   "metadata": {},
   "source": [
    "Similarly, we can plot all three magnetisation components"
   ]
  },
  {
   "cell_type": "code",
   "execution_count": 10,
   "metadata": {},
   "outputs": [
    {
     "data": {
      "text/plain": [
       "<matplotlib.axes._subplots.AxesSubplot at 0x11ffed520>"
      ]
     },
     "execution_count": 10,
     "metadata": {},
     "output_type": "execute_result"
    },
    {
     "data": {
      "image/png": "[encoded data removed]",
      "text/plain": [
       "<Figure size 432x288 with 1 Axes>"
      ]
     },
     "metadata": {
      "needs_background": "light"
     },
     "output_type": "display_data"
    }
   ],
   "source": [
    "system.table.plot('t', ['mx', 'my', 'mz'])"
   ]
  },
  {
   "cell_type": "markdown",
   "metadata": {},
   "source": [
    "We can see that after some time the macrospin aligns parallel to the external magnetic field in the $z$ direction."
   ]
  },
  {
   "cell_type": "code",
   "execution_count": 11,
   "metadata": {},
   "outputs": [
    {
     "data": {
      "application/vnd.jupyter.widget-view+json": {
       "model_id": "f881659af6e64ac2a810f75e02538da3",
       "version_major": 2,
       "version_minor": 0
      },
      "text/plain": [
       "Output()"
      ]
     },
     "metadata": {},
     "output_type": "display_data"
    }
   ],
   "source": [
    "system.m.k3d_vectors()"
   ]
  },
  {
   "cell_type": "markdown",
   "metadata": {},
   "source": [
    "### Exercise 1\n",
    "\n",
    "Modify Gilbert damping and set it to $\\alpha=0.005$ and see what happens with the dynamics.\n",
    "\n",
    "**Solution**"
   ]
  },
  {
   "cell_type": "code",
   "execution_count": 12,
   "metadata": {},
   "outputs": [
    {
     "name": "stdout",
     "output_type": "stream",
     "text": [
      "Running OOMMF (ExeOOMMFRunner) [2020/04/29 12:43]... (2.9 s)\n"
     ]
    },
    {
     "data": {
      "image/png": "[encoded data removed]",
      "text/plain": [
       "<Figure size 432x288 with 1 Axes>"
      ]
     },
     "metadata": {
      "needs_background": "light"
     },
     "output_type": "display_data"
    }
   ],
   "source": [
    "system.dynamics.damping.alpha = 0.005\n",
    "system.m = df.Field(mesh, dim=3, value=initial_m, norm=Ms)\n",
    "\n",
    "td.drive(system, t=0.1e-9, n=200)\n",
    "\n",
    "system.table.plot('t', ['mx', 'my', 'mz']);"
   ]
  },
  {
   "cell_type": "markdown",
   "metadata": {},
   "source": [
    "### Exercise 2\n",
    "\n",
    "Repeat the simulation with $\\alpha=0.1$ and $\\mathbf{H} = (0, 0, -2\\times 10^{6})\\,\\text{A}\\,\\text{m}^{-1}$.\n",
    "\n",
    "**Solution**"
   ]
  },
  {
   "cell_type": "code",
   "execution_count": 13,
   "metadata": {},
   "outputs": [
    {
     "name": "stdout",
     "output_type": "stream",
     "text": [
      "Running OOMMF (ExeOOMMFRunner) [2020/04/29 12:43]... (2.8 s)\n"
     ]
    },
    {
     "data": {
      "image/png": "[encoded data removed]",
      "text/plain": [
       "<Figure size 432x288 with 1 Axes>"
      ]
     },
     "metadata": {
      "needs_background": "light"
     },
     "output_type": "display_data"
    }
   ],
   "source": [
    "system.energy.zeeman.H = (0, 0, -2e6)\n",
    "system.dynamics.damping.alpha = 0.1\n",
    "system.m = df.Field(mesh, dim=3, value=initial_m, norm=Ms)\n",
    "\n",
    "td.drive(system, t=0.1e-9, n=200)\n",
    "\n",
    "system.table.plot('t', ['mx', 'my', 'mz']);"
   ]
  },
  {
   "cell_type": "markdown",
   "metadata": {},
   "source": [
    "### Exercise 3\n",
    "\n",
    "Keep using $\\alpha=0.1$. Change the field from `H = (0, 0, -2e6)` to `H = (0, -1.41e6, -1.41e6)`, and plot\n",
    "$m_x(t)$, $m_y(t)$ and $m_z(t)$ as above. Can you explain the (initially non-intuitive) output?"
   ]
  },
  {
   "cell_type": "code",
   "execution_count": 14,
   "metadata": {},
   "outputs": [
    {
     "name": "stdout",
     "output_type": "stream",
     "text": [
      "Running OOMMF (ExeOOMMFRunner) [2020/04/29 12:43]... (2.8 s)\n"
     ]
    },
    {
     "data": {
      "image/png": "[encoded data removed]",
      "text/plain": [
       "<Figure size 432x288 with 1 Axes>"
      ]
     },
     "metadata": {
      "needs_background": "light"
     },
     "output_type": "display_data"
    }
   ],
   "source": [
    "system.energy.zeeman.H = (0, -1.41e6, -1.41e6)\n",
    "\n",
    "td.drive(system, t=0.1e-9, n=200)\n",
    "\n",
    "system.table.plot('t', ['mx', 'my', 'mz']);"
   ]
  }
 ],
 "metadata": {
  "kernelspec": {
   "display_name": "Python 3",
   "language": "python",
   "name": "python3"
  },
  "language_info": {
   "codemirror_mode": {
    "name": "ipython",
    "version": 3
   },
   "file_extension": ".py",
   "mimetype": "text/x-python",
   "name": "python",
   "nbconvert_exporter": "python",
   "pygments_lexer": "ipython3",
   "version": "3.8.1"
  },
  "widgets": {
   "application/vnd.jupyter.widget-state+json": {
    "state": {
     "045cb1feb52c40d9bc10d4a3b3d6f521": {
      "model_module": "@jupyter-widgets/output",
      "model_module_version": "1.0.0",
      "model_name": "OutputModel",
      "state": {
       "layout": "IPY_MODEL_6ffb99cf16914e3fa0dd1242ccd8eb15",
       "outputs": [
        {
         "data": {
          "application/vnd.jupyter.widget-view+json": {
           "model_id": "f71489a3d2f6469bb8dd4db9d97f7eb0",
           "version_major": 2,
           "version_minor": 0
          },
          "text/plain": "Plot(antialias=3, axes=['x', 'y', 'z'], axes_helper=1.0, background_color=16777215, camera=[2, -3, 0.2, 0.0, 0…"
         },
         "metadata": {},
         "output_type": "display_data"
        }
       ]
      }
     },
     "082038c9a7014904b2ff2266a21752c6": {
      "model_module": "k3d",
      "model_module_version": "2.7.4",
      "model_name": "PlotModel",
      "state": {
       "_backend_version": "2.7.4",
       "_dom_classes": [],
       "_view_count": null,
       "antialias": 3,
       "auto_rendering": true,
       "axes": [
        "x (nm)",
        "y (nm)",
        "z (nm)"
       ],
       "axes_helper": 1,
       "background_color": 16777215,
       "camera": [
        1.381168006236452,
        -0.8217520093546782,
        0.5881168006236467,
        0.5,
        0.5,
        0.5,
        0,
        0,
        1
       ],
       "camera_animation": [],
       "camera_auto_fit": true,
       "camera_fov": 60,
       "camera_no_pan": false,
       "camera_no_rotate": false,
       "camera_no_zoom": false,
       "clipping_planes": [],
       "colorbar_object_id": -1,
       "fps": 25,
       "fps_meter": false,
       "grid": [
        -1,
        -1,
        -1,
        1,
        1,
        1
       ],
       "grid_auto_fit": true,
       "grid_visible": true,
       "height": 512,
       "layout": "IPY_MODEL_45e3feb7557e4ae7b44e7f8c159d8c06",
       "lighting": 1.5,
       "menu_visibility": true,
       "mode": "view",
       "name": null,
       "object_ids": [
        4831377440,
        4831668064
       ],
       "rendering_steps": 1,
       "screenshot": "",
       "screenshot_scale": 2,
       "snapshot": "",
       "time": 0,
       "voxel_paint_color": 0
      }
     },
     "45e3feb7557e4ae7b44e7f8c159d8c06": {
      "model_module": "@jupyter-widgets/base",
      "model_module_version": "1.2.0",
      "model_name": "LayoutModel",
      "state": {}
     },
     "4cac468c9ba54c9d8d4f41558d0d204e": {
      "buffers": [
       {
        "data": "eNoLarnLEATEAA/wA2c=",
        "encoding": "base64",
        "path": [
         "colors",
         "compressed_buffer"
        ]
       },
       {
        "data": "eNpjYGiwZ8AAxIsBAF7EAv0=",
        "encoding": "base64",
        "path": [
         "model_matrix",
         "compressed_buffer"
        ]
       },
       {
        "data": "eNp7vvmnXd1iBnsGIAAAKBkEMg==",
        "encoding": "base64",
        "path": [
         "origins",
         "compressed_buffer"
        ]
       },
       {
        "data": "eNoTbj5ps6Z28W4GhgZ7ACIKBOI=",
        "encoding": "base64",
        "path": [
         "vectors",
         "compressed_buffer"
        ]
       }
      ],
      "model_module": "k3d",
      "model_module_version": "2.7.4",
      "model_name": "ObjectModel",
      "state": {
       "_view_count": null,
       "_view_module": null,
       "_view_module_version": "",
       "_view_name": null,
       "colorLegend": false,
       "colors": {
        "dtype": "uint32",
        "shape": [
         1,
         2
        ]
       },
       "compression_level": 0,
       "head_color": 255,
       "head_size": 1,
       "id": 4883640672,
       "label_size": 1,
       "labels": [],
       "line_width": 0.01,
       "model_matrix": {
        "dtype": "float32",
        "shape": [
         4,
         4
        ]
       },
       "name": "Vectors #1",
       "origin_color": 255,
       "origins": {
        "dtype": "float32",
        "shape": [
         1,
         3
        ]
       },
       "type": "Vectors",
       "use_head": true,
       "vectors": {
        "dtype": "float32",
        "shape": [
         1,
         3
        ]
       },
       "visible": true
      }
     },
     "6dbd18520fdc4c10bcb9a98fcd34459b": {
      "buffers": [
       {
        "data": "eNoDAAAAAAE=",
        "encoding": "base64",
        "path": [
         "colors",
         "compressed_buffer"
        ]
       },
       {
        "data": "eNpjYGiwZ8AAxIsBAF7EAv0=",
        "encoding": "base64",
        "path": [
         "model_matrix",
         "compressed_buffer"
        ]
       },
       {
        "data": "eNoDAAAAAAE=",
        "encoding": "base64",
        "path": [
         "opacities",
         "compressed_buffer"
        ]
       },
       {
        "data": "eNpjYGCwZ4BiAAO9AL4=",
        "encoding": "base64",
        "path": [
         "positions",
         "compressed_buffer"
        ]
       }
      ],
      "model_module": "k3d",
      "model_module_version": "2.7.4",
      "model_name": "ObjectModel",
      "state": {
       "_view_count": null,
       "_view_module": null,
       "_view_module_version": "",
       "_view_name": null,
       "color": 5010096,
       "colorLegend": false,
       "colors": {
        "dtype": "uint32",
        "shape": [
         0
        ]
       },
       "compression_level": 0,
       "id": 4887738592,
       "mesh_detail": 2,
       "model_matrix": {
        "dtype": "float32",
        "shape": [
         4,
         4
        ]
       },
       "name": "Points #1",
       "opacities": {
        "dtype": "float32",
        "shape": [
         0
        ]
       },
       "opacity": 1,
       "point_size": 0.25,
       "positions": {
        "dtype": "float32",
        "shape": [
         1,
         3
        ]
       },
       "shader": "3dSpecular",
       "type": "Points",
       "visible": true
      }
     },
     "6ffb99cf16914e3fa0dd1242ccd8eb15": {
      "model_module": "@jupyter-widgets/base",
      "model_module_version": "1.2.0",
      "model_name": "LayoutModel",
      "state": {}
     },
     "80021e8db6e949b394a31a3bd81cb9cb": {
      "buffers": [
       {
        "data": "eNoLarnLEATEAA/wA2c=",
        "encoding": "base64",
        "path": [
         "colors",
         "compressed_buffer"
        ]
       },
       {
        "data": "eNpjYGiwZ8AAxIsBAF7EAv0=",
        "encoding": "base64",
        "path": [
         "model_matrix",
         "compressed_buffer"
        ]
       },
       {
        "data": "eNp7vvmnXd1iBnsGIAAAKBkEMg==",
        "encoding": "base64",
        "path": [
         "origins",
         "compressed_buffer"
        ]
       },
       {
        "data": "eNoTbj5ps6Z28W4GhgZ7ACIKBOI=",
        "encoding": "base64",
        "path": [
         "vectors",
         "compressed_buffer"
        ]
       }
      ],
      "model_module": "k3d",
      "model_module_version": "2.7.4",
      "model_name": "ObjectModel",
      "state": {
       "_view_count": null,
       "_view_module": null,
       "_view_module_version": "",
       "_view_name": null,
       "colorLegend": false,
       "colors": {
        "dtype": "uint32",
        "shape": [
         1,
         2
        ]
       },
       "compression_level": 0,
       "head_color": 255,
       "head_size": 1,
       "id": 4886301424,
       "label_size": 1,
       "labels": [],
       "line_width": 0.01,
       "model_matrix": {
        "dtype": "float32",
        "shape": [
         4,
         4
        ]
       },
       "name": "Vectors #1",
       "origin_color": 255,
       "origins": {
        "dtype": "float32",
        "shape": [
         1,
         3
        ]
       },
       "type": "Vectors",
       "use_head": true,
       "vectors": {
        "dtype": "float32",
        "shape": [
         1,
         3
        ]
       },
       "visible": true
      }
     },
     "8cc1278a85054dd284e43ceaefca6b42": {
      "buffers": [
       {
        "data": "eNoDAAAAAAE=",
        "encoding": "base64",
        "path": [
         "colors",
         "compressed_buffer"
        ]
       },
       {
        "data": "eNpjYGiwZ8AAxIsBAF7EAv0=",
        "encoding": "base64",
        "path": [
         "model_matrix",
         "compressed_buffer"
        ]
       },
       {
        "data": "eNoDAAAAAAE=",
        "encoding": "base64",
        "path": [
         "opacities",
         "compressed_buffer"
        ]
       },
       {
        "data": "eNpjYGCwZ4BiAAO9AL4=",
        "encoding": "base64",
        "path": [
         "positions",
         "compressed_buffer"
        ]
       }
      ],
      "model_module": "k3d",
      "model_module_version": "2.7.4",
      "model_name": "ObjectModel",
      "state": {
       "_view_count": null,
       "_view_module": null,
       "_view_module_version": "",
       "_view_name": null,
       "color": 5010096,
       "colorLegend": false,
       "colors": {
        "dtype": "uint32",
        "shape": [
         0
        ]
       },
       "compression_level": 0,
       "id": 4883641920,
       "mesh_detail": 2,
       "model_matrix": {
        "dtype": "float32",
        "shape": [
         4,
         4
        ]
       },
       "name": "Points #1",
       "opacities": {
        "dtype": "float32",
        "shape": [
         0
        ]
       },
       "opacity": 1,
       "point_size": 0.25,
       "positions": {
        "dtype": "float32",
        "shape": [
         1,
         3
        ]
       },
       "shader": "3dSpecular",
       "type": "Points",
       "visible": true
      }
     },
     "9d79c0c0bc89462fab1e019474ba2f4a": {
      "buffers": [
       {
        "data": "eNoDAAAAAAE=",
        "encoding": "base64",
        "path": [
         "colors",
         "compressed_buffer"
        ]
       },
       {
        "data": "eNpjYGiwZ8AAxIsBAF7EAv0=",
        "encoding": "base64",
        "path": [
         "model_matrix",
         "compressed_buffer"
        ]
       },
       {
        "data": "eNoDAAAAAAE=",
        "encoding": "base64",
        "path": [
         "opacities",
         "compressed_buffer"
        ]
       },
       {
        "data": "eNpjYGCwZ4BiAAO9AL4=",
        "encoding": "base64",
        "path": [
         "positions",
         "compressed_buffer"
        ]
       }
      ],
      "model_module": "k3d",
      "model_module_version": "2.7.4",
      "model_name": "ObjectModel",
      "state": {
       "_view_count": null,
       "_view_module": null,
       "_view_module_version": "",
       "_view_name": null,
       "color": 5010096,
       "colorLegend": false,
       "colors": {
        "dtype": "uint32",
        "shape": [
         0
        ]
       },
       "compression_level": 0,
       "id": 4831668064,
       "mesh_detail": 2,
       "model_matrix": {
        "dtype": "float32",
        "shape": [
         4,
         4
        ]
       },
       "name": "Points #1",
       "opacities": {
        "dtype": "float32",
        "shape": [
         0
        ]
       },
       "opacity": 1,
       "point_size": 0.25,
       "positions": {
        "dtype": "float32",
        "shape": [
         1,
         3
        ]
       },
       "shader": "3dSpecular",
       "type": "Points",
       "visible": true
      }
     },
     "a4fab46f8e4b4c9185039604b9ff8ee0": {
      "buffers": [
       {
        "data": "eNoLarnLEATEAA/wA2c=",
        "encoding": "base64",
        "path": [
         "colors",
         "compressed_buffer"
        ]
       },
       {
        "data": "eNpjYGiwZ8AAxIsBAF7EAv0=",
        "encoding": "base64",
        "path": [
         "model_matrix",
         "compressed_buffer"
        ]
       },
       {
        "data": "eNp7vvmnXd1iBnsGIAAAKBkEMg==",
        "encoding": "base64",
        "path": [
         "origins",
         "compressed_buffer"
        ]
       },
       {
        "data": "eNoTbj5ps6Z28W4GhgZ7ACIKBOI=",
        "encoding": "base64",
        "path": [
         "vectors",
         "compressed_buffer"
        ]
       }
      ],
      "model_module": "k3d",
      "model_module_version": "2.7.4",
      "model_name": "ObjectModel",
      "state": {
       "_view_count": null,
       "_view_module": null,
       "_view_module_version": "",
       "_view_name": null,
       "colorLegend": false,
       "colors": {
        "dtype": "uint32",
        "shape": [
         1,
         2
        ]
       },
       "compression_level": 0,
       "head_color": 255,
       "head_size": 1,
       "id": 4831377440,
       "label_size": 1,
       "labels": [],
       "line_width": 0.01,
       "model_matrix": {
        "dtype": "float32",
        "shape": [
         4,
         4
        ]
       },
       "name": "Vectors #1",
       "origin_color": 255,
       "origins": {
        "dtype": "float32",
        "shape": [
         1,
         3
        ]
       },
       "type": "Vectors",
       "use_head": true,
       "vectors": {
        "dtype": "float32",
        "shape": [
         1,
         3
        ]
       },
       "visible": true
      }
     },
     "c05978040d3443048a321c0a436bc18e": {
      "model_module": "@jupyter-widgets/base",
      "model_module_version": "1.2.0",
      "model_name": "LayoutModel",
      "state": {}
     },
     "c41dc696c05242659d468293fc3eb1af": {
      "model_module": "@jupyter-widgets/base",
      "model_module_version": "1.2.0",
      "model_name": "LayoutModel",
      "state": {}
     },
     "d3096e28981c498a9825ff9697289330": {
      "model_module": "k3d",
      "model_module_version": "2.7.4",
      "model_name": "PlotModel",
      "state": {
       "_backend_version": "2.7.4",
       "_dom_classes": [],
       "_view_count": null,
       "antialias": 3,
       "auto_rendering": true,
       "axes": [
        "x (nm)",
        "y (nm)",
        "z (nm)"
       ],
       "axes_helper": 1,
       "background_color": 16777215,
       "camera": [
        1.381168006236452,
        -0.8217520093546782,
        0.588116800623645,
        0.5,
        0.5,
        0.5,
        0,
        0,
        1
       ],
       "camera_animation": [],
       "camera_auto_fit": true,
       "camera_fov": 60,
       "camera_no_pan": false,
       "camera_no_rotate": false,
       "camera_no_zoom": false,
       "clipping_planes": [],
       "colorbar_object_id": -1,
       "fps": 25,
       "fps_meter": false,
       "grid": [
        -1,
        -1,
        -1,
        1,
        1,
        1
       ],
       "grid_auto_fit": true,
       "grid_visible": true,
       "height": 512,
       "layout": "IPY_MODEL_ec2385b18bd64ab68fc2777678f7b0d2",
       "lighting": 1.5,
       "menu_visibility": true,
       "mode": "view",
       "name": null,
       "object_ids": [
        4883640672,
        4883641920
       ],
       "rendering_steps": 1,
       "screenshot": "",
       "screenshot_scale": 2,
       "snapshot": "",
       "time": 0,
       "voxel_paint_color": 0
      }
     },
     "e1c6d7026f8649a3895e72167d2984b0": {
      "model_module": "@jupyter-widgets/output",
      "model_module_version": "1.0.0",
      "model_name": "OutputModel",
      "state": {
       "layout": "IPY_MODEL_c41dc696c05242659d468293fc3eb1af",
       "outputs": [
        {
         "data": {
          "application/vnd.jupyter.widget-view+json": {
           "model_id": "d3096e28981c498a9825ff9697289330",
           "version_major": 2,
           "version_minor": 0
          },
          "text/plain": "Plot(antialias=3, axes=['x', 'y', 'z'], axes_helper=1.0, background_color=16777215, camera=[2, -3, 0.2, 0.0, 0…"
         },
         "metadata": {},
         "output_type": "display_data"
        }
       ]
      }
     },
     "e46d8b6ba88b4ff5acb7de9094663916": {
      "model_module": "@jupyter-widgets/base",
      "model_module_version": "1.2.0",
      "model_name": "LayoutModel",
      "state": {}
     },
     "ec2385b18bd64ab68fc2777678f7b0d2": {
      "model_module": "@jupyter-widgets/base",
      "model_module_version": "1.2.0",
      "model_name": "LayoutModel",
      "state": {}
     },
     "f71489a3d2f6469bb8dd4db9d97f7eb0": {
      "model_module": "k3d",
      "model_module_version": "2.7.4",
      "model_name": "PlotModel",
      "state": {
       "_backend_version": "2.7.4",
       "_dom_classes": [],
       "_view_count": null,
       "antialias": 3,
       "auto_rendering": true,
       "axes": [
        "x (nm)",
        "y (nm)",
        "z (nm)"
       ],
       "axes_helper": 1,
       "background_color": 16777215,
       "camera": [
        1.381168006236452,
        -0.8217520093546782,
        0.5881168006236467,
        0.5,
        0.5,
        0.5,
        0,
        0,
        1
       ],
       "camera_animation": [],
       "camera_auto_fit": true,
       "camera_fov": 60,
       "camera_no_pan": false,
       "camera_no_rotate": false,
       "camera_no_zoom": false,
       "clipping_planes": [],
       "colorbar_object_id": -1,
       "fps": 25,
       "fps_meter": false,
       "grid": [
        -1,
        -1,
        -1,
        1,
        1,
        1
       ],
       "grid_auto_fit": true,
       "grid_visible": true,
       "height": 512,
       "layout": "IPY_MODEL_e46d8b6ba88b4ff5acb7de9094663916",
       "lighting": 1.5,
       "menu_visibility": true,
       "mode": "view",
       "name": null,
       "object_ids": [
        4886301424,
        4887738592
       ],
       "rendering_steps": 1,
       "screenshot": "",
       "screenshot_scale": 2,
       "snapshot": "",
       "time": 0,
       "voxel_paint_color": 0
      }
     },
     "f881659af6e64ac2a810f75e02538da3": {
      "model_module": "@jupyter-widgets/output",
      "model_module_version": "1.0.0",
      "model_name": "OutputModel",
      "state": {
       "layout": "IPY_MODEL_c05978040d3443048a321c0a436bc18e",
       "outputs": [
        {
         "data": {
          "application/vnd.jupyter.widget-view+json": {
           "model_id": "082038c9a7014904b2ff2266a21752c6",
           "version_major": 2,
           "version_minor": 0
          },
          "text/plain": "Plot(antialias=3, axes=['x', 'y', 'z'], axes_helper=1.0, background_color=16777215, camera=[2, -3, 0.2, 0.0, 0…"
         },
         "metadata": {},
         "output_type": "display_data"
        }
       ]
      }
     }
    },
    "version_major": 2,
    "version_minor": 0
   }
  }
 },
 "nbformat": 4,
 "nbformat_minor": 4
}
