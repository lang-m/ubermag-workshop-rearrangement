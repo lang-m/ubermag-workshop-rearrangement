{
 "cells": [
  {
   "cell_type": "markdown",
   "metadata": {},
   "source": [
    "# Our first ubermag simulation\n",
    "\n",
    "The main goal of this tutorial is to have a quick look at how a simple ubermag simulation inside Jupyter looks like and to make ourselves comfortable with Jupyter. We are going to try to guess what the meaning of Python commands in code cells is, and eventually try to identify the skeleton of ubermag simulation. There are probably going to be many parts you do not understand, but please do not worry - we are going to go into all the details in the next sessions.\n",
    "\n",
    "## Simple Ubermag simulation\n",
    "\n",
    "Before we specify and run the simulation, we have to import Ubermag modules we intend to use. For defining micromagnetic models, we need to import `micromagneticmodel` and for defining finite-diference fields, we are going to import `discretisedfield`."
   ]
  },
  {
   "cell_type": "code",
   "execution_count": 1,
   "metadata": {},
   "outputs": [],
   "source": [
    "import micromagneticmodel as mm  # mm is just a shorter name we want to use later\n",
    "import discretisedfield as df  # df is just a shorter name we want to use later"
   ]
  },
  {
   "cell_type": "markdown",
   "metadata": {},
   "source": [
    "### The main object in Ubermag: System object\n",
    "\n",
    "The main object in ubermag is `mm.System`. In order to define the micromagnetic system we want to simulate, we have to specify:\n",
    "\n",
    "1. Energy equation,\n",
    "2. Dynamics equation (optional),\n",
    "3. Initial magentisation state configuration."
   ]
  },
  {
   "cell_type": "code",
   "execution_count": 2,
   "metadata": {},
   "outputs": [],
   "source": [
    "system = mm.System(name='first_ubermag_simulation')"
   ]
  },
  {
   "cell_type": "markdown",
   "metadata": {},
   "source": [
    "#### 1. Energy equation\n",
    "\n",
    "The energy equation for the first Ubermag simulaton is very simple and contains only the following energy terms:\n",
    "\n",
    "1. Exchange $A=1\\,\\text{pJ}/\\text{m}$,\n",
    "2. Zeeman $H=(5 \\times 10^{6}, 0, 0) \\,\\text{A/m}$,\n",
    "3. Demagnetisation."
   ]
  },
  {
   "cell_type": "code",
   "execution_count": 3,
   "metadata": {},
   "outputs": [],
   "source": [
    "A = 1e-12  # exchange energy constant (J/m)\n",
    "H = (5e6, 0, 0)  # external magnetic field in the x-direction (A/m)\n",
    "system.energy = mm.Exchange(A=A) + mm.Demag() + mm.Zeeman(H=H)"
   ]
  },
  {
   "cell_type": "markdown",
   "metadata": {},
   "source": [
    "#### 2. Dynamics equation\n",
    "\n",
    "The dynamics equation contains only precession and damping terms:"
   ]
  },
  {
   "cell_type": "code",
   "execution_count": 4,
   "metadata": {},
   "outputs": [],
   "source": [
    "gamma0 = 2.211e5  # gyrotropic ratio parameter (m/As)\n",
    "alpha = 0.2  # Gilbert damping\n",
    "system.dynamics = mm.Precession(gamma0=gamma0) + mm.Damping(alpha=alpha)"
   ]
  },
  {
   "cell_type": "markdown",
   "metadata": {},
   "source": [
    "#### 3. Initial magnetisation\n",
    "\n",
    "We choose to simulate a cube with $50 \\,\\,\\text{nm}$ edge length and discretise it into $10$ cells in each direction ($1000$ in total). We initialise the system in positive $y$-direction, i.e. $\\mathbf{m} = (0, 1, 0)$, which is different from the equlibrium state we expect for the external magnetic field applied in $x$-direction. For its norm (saturation magnetisation), we choose $M_\\text{s} = 8\\times 10^{6} \\,\\text{A}/\\text{m}$."
   ]
  },
  {
   "cell_type": "code",
   "execution_count": 5,
   "metadata": {},
   "outputs": [],
   "source": [
    "L = 50e-9  # cubic sample edge length (m)\n",
    "region = df.Region(p1=(0, 0, 0), p2=(L, L, L))\n",
    "mesh = df.Mesh(region=region, n=(10, 10, 10))\n",
    "\n",
    "Ms = 8e6  # saturation magnetisation (A/m)\n",
    "system.m = df.Field(mesh, dim=3, value=(0, 1, 0), norm=Ms)"
   ]
  },
  {
   "cell_type": "markdown",
   "metadata": {},
   "source": [
    "## Inspecting system object\n",
    "\n",
    "We have defined the system object and now we can do some inspection to make sure we did not make a mistake. First, we are going to check the energy equation:"
   ]
  },
  {
   "cell_type": "code",
   "execution_count": 6,
   "metadata": {},
   "outputs": [
    {
     "data": {
      "text/latex": [
       "$A \\left[ (\\nabla \\mathbf{m}_\\text{x})^{2} + (\\nabla \\mathbf{m}_\\text{y})^{2} + (\\nabla \\mathbf{m}_\\text{z})^{2} \\right]-\\frac{1}{2}\\mu_{0}M_\\text{s}\\mathbf{m} \\cdot \\mathbf{H}_\\text{d}-\\mu_{0}M_\\text{s} \\mathbf{m} \\cdot \\mathbf{H}$"
      ],
      "text/plain": [
       "Exchange(A=1e-12) + Demag() + Zeeman(H=(5000000.0, 0, 0))"
      ]
     },
     "execution_count": 6,
     "metadata": {},
     "output_type": "execute_result"
    }
   ],
   "source": [
    "system.energy"
   ]
  },
  {
   "cell_type": "markdown",
   "metadata": {},
   "source": [
    "This gives us a human-readable equation, which is actually the sum of terms we defined earlier. Similarly, we can check the system's dynamics equation (if we have defined it)."
   ]
  },
  {
   "cell_type": "code",
   "execution_count": 7,
   "metadata": {},
   "outputs": [
    {
     "data": {
      "text/latex": [
       "$-\\frac{\\gamma_{0}}{1 + \\alpha^{2}} \\mathbf{m} \\times \\mathbf{H}_\\text{eff}-\\frac{\\gamma_{0} \\alpha}{1 + \\alpha^{2}} \\mathbf{m} \\times (\\mathbf{m} \\times \\mathbf{H}_\\text{eff})$"
      ],
      "text/plain": [
       "Precession(gamma0=221100.0) + Damping(alpha=0.2)"
      ]
     },
     "execution_count": 7,
     "metadata": {},
     "output_type": "execute_result"
    }
   ],
   "source": [
    "system.dynamics"
   ]
  },
  {
   "cell_type": "markdown",
   "metadata": {},
   "source": [
    "Inspecting magnetisation is sligtly more complicated because there are many things we can ask the magnetisation for. Let us have a look at a few basic ones and the rest of them, we are going to explore in later sessions.\n",
    "\n",
    "The region we defined is:"
   ]
  },
  {
   "cell_type": "code",
   "execution_count": 8,
   "metadata": {},
   "outputs": [
    {
     "data": {
      "application/vnd.jupyter.widget-view+json": {
       "model_id": "d7c502005c614e8fb44ac0db9268a03d",
       "version_major": 2,
       "version_minor": 0
      },
      "text/plain": [
       "Output()"
      ]
     },
     "metadata": {},
     "output_type": "display_data"
    }
   ],
   "source": [
    "system.m.mesh.region.k3d()"
   ]
  },
  {
   "cell_type": "markdown",
   "metadata": {},
   "source": [
    "Representation of the mesh:"
   ]
  },
  {
   "cell_type": "code",
   "execution_count": 9,
   "metadata": {},
   "outputs": [
    {
     "data": {
      "application/vnd.jupyter.widget-view+json": {
       "model_id": "ac48367a1ae44196aa7baa0b24d7084a",
       "version_major": 2,
       "version_minor": 0
      },
      "text/plain": [
       "Output()"
      ]
     },
     "metadata": {},
     "output_type": "display_data"
    }
   ],
   "source": [
    "system.m.mesh.k3d()"
   ]
  },
  {
   "cell_type": "markdown",
   "metadata": {},
   "source": [
    "A 2d plot of the magnetisation in the z-slice:"
   ]
  },
  {
   "cell_type": "code",
   "execution_count": 10,
   "metadata": {},
   "outputs": [
    {
     "data": {
      "image/png": "[encoded data removed]",
      "text/plain": [
       "<Figure size 576x432 with 2 Axes>"
      ]
     },
     "metadata": {},
     "output_type": "display_data"
    }
   ],
   "source": [
    "system.m.plane('z').mpl()"
   ]
  },
  {
   "cell_type": "markdown",
   "metadata": {},
   "source": [
    "Previous plot, but in 3D:"
   ]
  },
  {
   "cell_type": "code",
   "execution_count": 11,
   "metadata": {},
   "outputs": [
    {
     "data": {
      "application/vnd.jupyter.widget-view+json": {
       "model_id": "09faebbac4474bc59164abf2dce23985",
       "version_major": 2,
       "version_minor": 0
      },
      "text/plain": [
       "Output()"
      ]
     },
     "metadata": {},
     "output_type": "display_data"
    }
   ],
   "source": [
    "system.m.plane('z').k3d_vector(head_size=10)"
   ]
  },
  {
   "cell_type": "markdown",
   "metadata": {},
   "source": [
    "### Driving the system\n",
    "\n",
    "After the system object is created, we can minimise its energy (relax it) using the Minimisation Driver (`MinDriver`). At this point, we choose the calculator we want to use. During this workshop, we are going to use OOMMF. Therefore, we import OOMMF calculator - `oommfc`."
   ]
  },
  {
   "cell_type": "code",
   "execution_count": 12,
   "metadata": {},
   "outputs": [
    {
     "name": "stdout",
     "output_type": "stream",
     "text": [
      "Running OOMMF (ExeOOMMFRunner) [2020/06/18 15:12]... (1.9 s)\n"
     ]
    }
   ],
   "source": [
    "import oommfc as mc\n",
    "\n",
    "md = mc.MinDriver()\n",
    "md.drive(system)"
   ]
  },
  {
   "cell_type": "markdown",
   "metadata": {},
   "source": [
    "The system is now relaxed and its previous magnetisation is now replaced with the new one, and we can plot its slice and compute its average magnetisation."
   ]
  },
  {
   "cell_type": "code",
   "execution_count": 13,
   "metadata": {},
   "outputs": [
    {
     "data": {
      "image/png": "[encoded data removed]",
      "text/plain": [
       "<Figure size 576x432 with 2 Axes>"
      ]
     },
     "metadata": {},
     "output_type": "display_data"
    }
   ],
   "source": [
    "system.m.plane('z', n=(10, 10)).mpl()"
   ]
  },
  {
   "cell_type": "code",
   "execution_count": 14,
   "metadata": {},
   "outputs": [
    {
     "data": {
      "application/vnd.jupyter.widget-view+json": {
       "model_id": "84520773bd5a4eb68cf53d21e18c71bc",
       "version_major": 2,
       "version_minor": 0
      },
      "text/plain": [
       "Output()"
      ]
     },
     "metadata": {},
     "output_type": "display_data"
    }
   ],
   "source": [
    "system.m.plane('z').k3d_vector(color_field=system.m.z, head_size=20)"
   ]
  },
  {
   "cell_type": "code",
   "execution_count": 15,
   "metadata": {},
   "outputs": [
    {
     "data": {
      "text/plain": [
       "(7860158.23594486, -0.007358911219518632, -4.656612873077393e-12)"
      ]
     },
     "execution_count": 15,
     "metadata": {},
     "output_type": "execute_result"
    }
   ],
   "source": [
    "system.m.average"
   ]
  },
  {
   "cell_type": "code",
   "execution_count": 16,
   "metadata": {},
   "outputs": [
    {
     "data": {
      "text/plain": [
       "(0.9825197794931033, -9.198639128737973e-10, -4.996003610813204e-19)"
      ]
     },
     "execution_count": 16,
     "metadata": {},
     "output_type": "execute_result"
    }
   ],
   "source": [
    "system.m.orientation.average"
   ]
  },
  {
   "cell_type": "markdown",
   "metadata": {},
   "source": [
    "We can see that the magnetisation is aligned along the $x$-direction, as expected having in mind we applied the external magnetic field in that direction."
   ]
  }
 ],
 "metadata": {
  "anaconda-cloud": {},
  "kernelspec": {
   "display_name": "Python 3",
   "language": "python",
   "name": "python3"
  },
  "language_info": {
   "codemirror_mode": {
    "name": "ipython",
    "version": 3
   },
   "file_extension": ".py",
   "mimetype": "text/x-python",
   "name": "python",
   "nbconvert_exporter": "python",
   "pygments_lexer": "ipython3",
   "version": "3.8.3"
  },
  "widgets": {
   "application/vnd.jupyter.widget-state+json": {
    "state": {
     "00e4fdb5d94f44108ee97817e73c132b": {
      "model_module": "@jupyter-widgets/base",
      "model_module_version": "1.2.0",
      "model_name": "LayoutModel",
      "state": {}
     },
     "0299b3debfdd4355816644e3d1a2bcc8": {
      "model_module": "@jupyter-widgets/base",
      "model_module_version": "1.2.0",
      "model_name": "LayoutModel",
      "state": {}
     },
     "064d91aa3ce24a07ad167a04c7a1d0b0": {
      "buffers": [
       {
        "data": "sHJMAA==",
        "encoding": "base64",
        "path": [
         "color_map",
         "data"
        ]
       },
       {
        "data": "AABIQgAAAAAAAAAAAADIQQAAAAAAAEhCAAAAAAAAyEEAAAAAAAAAAAAASEIAAMhBAAAAAAAAAAAAAAAAAACAPw==",
        "encoding": "base64",
        "path": [
         "model_matrix",
         "data"
        ]
       },
       {
        "data": "AQ==",
        "encoding": "base64",
        "path": [
         "voxels",
         "data"
        ]
       }
      ],
      "model_module": "k3d",
      "model_module_version": "2.8.2",
      "model_name": "ObjectModel",
      "state": {
       "_view_count": null,
       "_view_module": null,
       "_view_module_version": "",
       "_view_name": null,
       "colorLegend": false,
       "color_map": {
        "dtype": "uint32",
        "shape": []
       },
       "compression_level": 0,
       "id": 140385675213696,
       "model_matrix": {
        "dtype": "float32",
        "shape": [
         4,
         4
        ]
       },
       "name": "Voxels #1",
       "opacity": 1,
       "outlines": false,
       "outlines_color": 0,
       "type": "Voxels",
       "visible": true,
       "voxels": {
        "dtype": "uint8",
        "shape": [
         1,
         1,
         1
        ]
       },
       "wireframe": false
      }
     },
     "08109f3747964066aecfe58860dddd0d": {
      "model_module": "@jupyter-widgets/base",
      "model_module_version": "1.2.0",
      "model_name": "LayoutModel",
      "state": {}
     },
     "09faebbac4474bc59164abf2dce23985": {
      "model_module": "@jupyter-widgets/output",
      "model_module_version": "1.0.0",
      "model_name": "OutputModel",
      "state": {
       "layout": "IPY_MODEL_e3678761e0304f08953e1df5411f5a33",
       "outputs": [
        {
         "data": {
          "application/vnd.jupyter.widget-view+json": {
           "model_id": "f118813a02124ea08c8a088479886e61",
           "version_major": 2,
           "version_minor": 0
          },
          "text/plain": "Plot(antialias=3, axes=['x', 'y', 'z'], axes_helper=1.0, background_color=16777215, camera=[2, -3, 0.2, 0.0, 0…"
         },
         "metadata": {},
         "output_type": "display_data"
        }
       ]
      }
     },
     "0a15ae0f93bf4c09bf75c5474a60e438": {
      "model_module": "@jupyter-widgets/base",
      "model_module_version": "1.2.0",
      "model_name": "LayoutModel",
      "state": {}
     },
     "0e436ebf47814eb78ec01525da52b5e8": {
      "buffers": [
       {
        "data": "",
        "encoding": "base64",
        "path": [
         "colors",
         "data"
        ]
       },
       {
        "data": "AACAPwAAAAAAAAAAAAAAAAAAAAAAAIA/AAAAAAAAAAAAAAAAAAAAAAAAgD8AAAAAAAAAAAAAAAAAAAAAAACAPw==",
        "encoding": "base64",
        "path": [
         "model_matrix",
         "data"
        ]
       },
       {
        "data": "",
        "encoding": "base64",
        "path": [
         "opacities",
         "data"
        ]
       },
       {
        "data": "AAAgQAAAIEAAAMhBAADwQAAAIEAAAMhBAABIQQAAIEAAAMhBAACMQQAAIEAAAMhBAAC0QQAAIEAAAMhBAADcQQAAIEAAAMhBAAACQgAAIEAAAMhBAAAWQgAAIEAAAMhBAAAqQgAAIEAAAMhBAAA+QgAAIEAAAMhBAAAgQAAA8EAAAMhBAADwQAAA8EAAAMhBAABIQQAA8EAAAMhBAACMQQAA8EAAAMhBAAC0QQAA8EAAAMhBAADcQQAA8EAAAMhBAAACQgAA8EAAAMhBAAAWQgAA8EAAAMhBAAAqQgAA8EAAAMhBAAA+QgAA8EAAAMhBAAAgQAAASEEAAMhBAADwQAAASEEAAMhBAABIQQAASEEAAMhBAACMQQAASEEAAMhBAAC0QQAASEEAAMhBAADcQQAASEEAAMhBAAACQgAASEEAAMhBAAAWQgAASEEAAMhBAAAqQgAASEEAAMhBAAA+QgAASEEAAMhBAAAgQAAAjEEAAMhBAADwQAAAjEEAAMhBAABIQQAAjEEAAMhBAACMQQAAjEEAAMhBAAC0QQAAjEEAAMhBAADcQQAAjEEAAMhBAAACQgAAjEEAAMhBAAAWQgAAjEEAAMhBAAAqQgAAjEEAAMhBAAA+QgAAjEEAAMhBAAAgQAAAtEEAAMhBAADwQAAAtEEAAMhBAABIQQAAtEEAAMhBAACMQQAAtEEAAMhBAAC0QQAAtEEAAMhBAADcQQAAtEEAAMhBAAACQgAAtEEAAMhBAAAWQgAAtEEAAMhBAAAqQgAAtEEAAMhBAAA+QgAAtEEAAMhBAAAgQAAA3EEAAMhBAADwQAAA3EEAAMhBAABIQQAA3EEAAMhBAACMQQAA3EEAAMhBAAC0QQAA3EEAAMhBAADcQQAA3EEAAMhBAAACQgAA3EEAAMhBAAAWQgAA3EEAAMhBAAAqQgAA3EEAAMhBAAA+QgAA3EEAAMhBAAAgQAAAAkIAAMhBAADwQAAAAkIAAMhBAABIQQAAAkIAAMhBAACMQQAAAkIAAMhBAAC0QQAAAkIAAMhBAADcQQAAAkIAAMhBAAACQgAAAkIAAMhBAAAWQgAAAkIAAMhBAAAqQgAAAkIAAMhBAAA+QgAAAkIAAMhBAAAgQAAAFkIAAMhBAADwQAAAFkIAAMhBAABIQQAAFkIAAMhBAACMQQAAFkIAAMhBAAC0QQAAFkIAAMhBAADcQQAAFkIAAMhBAAACQgAAFkIAAMhBAAAWQgAAFkIAAMhBAAAqQgAAFkIAAMhBAAA+QgAAFkIAAMhBAAAgQAAAKkIAAMhBAADwQAAAKkIAAMhBAABIQQAAKkIAAMhBAACMQQAAKkIAAMhBAAC0QQAAKkIAAMhBAADcQQAAKkIAAMhBAAACQgAAKkIAAMhBAAAWQgAAKkIAAMhBAAAqQgAAKkIAAMhBAAA+QgAAKkIAAMhBAAAgQAAAPkIAAMhBAADwQAAAPkIAAMhBAABIQQAAPkIAAMhBAACMQQAAPkIAAMhBAAC0QQAAPkIAAMhBAADcQQAAPkIAAMhBAAACQgAAPkIAAMhBAAAWQgAAPkIAAMhBAAAqQgAAPkIAAMhBAAA+QgAAPkIAAMhB",
        "encoding": "base64",
        "path": [
         "positions",
         "data"
        ]
       }
      ],
      "model_module": "k3d",
      "model_module_version": "2.8.2",
      "model_name": "ObjectModel",
      "state": {
       "_view_count": null,
       "_view_module": null,
       "_view_module_version": "",
       "_view_name": null,
       "color": 5010096,
       "colorLegend": false,
       "colors": {
        "dtype": "uint32",
        "shape": [
         0
        ]
       },
       "compression_level": 0,
       "id": 140385676332864,
       "mesh_detail": 2,
       "model_matrix": {
        "dtype": "float32",
        "shape": [
         4,
         4
        ]
       },
       "name": "Points #1",
       "opacities": {
        "dtype": "float32",
        "shape": [
         0
        ]
       },
       "opacity": 1,
       "point_size": 1.2499999999999996,
       "positions": {
        "dtype": "float32",
        "shape": [
         100,
         3
        ]
       },
       "shader": "3dSpecular",
       "type": "Points",
       "visible": true
      }
     },
     "10e8e28b5e0144b390c47179f370f140": {
      "model_module": "@jupyter-widgets/base",
      "model_module_version": "1.2.0",
      "model_name": "LayoutModel",
      "state": {}
     },
     "15c3300a8149420cbd07bfa49258bb29": {
      "model_module": "@jupyter-widgets/base",
      "model_module_version": "1.2.0",
      "model_name": "LayoutModel",
      "state": {}
     },
     "16658a693ee9452ebfa51a1f05dc3499": {
      "model_module": "@jupyter-widgets/output",
      "model_module_version": "1.0.0",
      "model_name": "OutputModel",
      "state": {
       "layout": "IPY_MODEL_08109f3747964066aecfe58860dddd0d",
       "outputs": [
        {
         "data": {
          "application/vnd.jupyter.widget-view+json": {
           "model_id": "beb0ef810f40456ea79c518fb327cd6d",
           "version_major": 2,
           "version_minor": 0
          },
          "text/plain": "Plot(antialias=3, axes=['x', 'y', 'z'], axes_helper=1.0, background_color=16777215, camera=[2, -3, 0.2, 0.0, 0…"
         },
         "metadata": {},
         "output_type": "display_data"
        }
       ]
      }
     },
     "1b6c5c4e93514fdf95358ff463a73fb2": {
      "model_module": "@jupyter-widgets/output",
      "model_module_version": "1.0.0",
      "model_name": "OutputModel",
      "state": {
       "layout": "IPY_MODEL_0299b3debfdd4355816644e3d1a2bcc8",
       "outputs": [
        {
         "data": {
          "application/vnd.jupyter.widget-view+json": {
           "model_id": "e8a1668ad3e842d89c45e9569f218981",
           "version_major": 2,
           "version_minor": 0
          },
          "text/plain": "Plot(antialias=3, axes=['x', 'y', 'z'], axes_helper=1.0, background_color=16777215, camera=[2, -3, 0.2, 0.0, 0…"
         },
         "metadata": {},
         "output_type": "display_data"
        }
       ]
      }
     },
     "1bdf61ea9b98479a943bbb8de13a84d5": {
      "model_module": "k3d",
      "model_module_version": "2.8.2",
      "model_name": "PlotModel",
      "state": {
       "_backend_version": "2.8.2",
       "_dom_classes": [],
       "_view_count": null,
       "antialias": 3,
       "auto_rendering": true,
       "axes": [
        "x\\,\\text{(nm)}",
        "y\\,\\text{(nm)}",
        "z\\,\\text{(nm)}"
       ],
       "axes_helper": 1,
       "background_color": 16777215,
       "camera": [
        84.37409873686033,
        -64.06114810529051,
        30.937409873686075,
        25,
        25,
        25,
        0,
        0,
        1
       ],
       "camera_animation": [],
       "camera_auto_fit": true,
       "camera_fov": 60,
       "camera_mode": "trackball",
       "camera_no_pan": false,
       "camera_no_rotate": false,
       "camera_no_zoom": false,
       "clipping_planes": [],
       "colorbar_object_id": -1,
       "colorbar_scientific": false,
       "fps": 25,
       "fps_meter": false,
       "grid": [
        -1,
        -1,
        -1,
        1,
        1,
        1
       ],
       "grid_auto_fit": true,
       "grid_visible": true,
       "height": 512,
       "layout": "IPY_MODEL_1c1e0f2c4e11455793e9ae8357cabb56",
       "lighting": 1.5,
       "manipulate_mode": "translate",
       "menu_visibility": true,
       "mode": "view",
       "name": null,
       "object_ids": [
        140385675213696
       ],
       "rendering_steps": 1,
       "screenshot": "",
       "screenshot_scale": 2,
       "snapshot": "",
       "snapshot_include_js": true,
       "time": 0,
       "voxel_paint_color": 0
      }
     },
     "1c1e0f2c4e11455793e9ae8357cabb56": {
      "model_module": "@jupyter-widgets/base",
      "model_module_version": "1.2.0",
      "model_name": "LayoutModel",
      "state": {}
     },
     "1e16574e74db4bdbb9ef62122aeee3f5": {
      "model_module": "@jupyter-widgets/base",
      "model_module_version": "1.2.0",
      "model_name": "LayoutModel",
      "state": {}
     },
     "2bcfd50bd6054a6b9d102d729ed14873": {
      "model_module": "@jupyter-widgets/base",
      "model_module_version": "1.2.0",
      "model_name": "LayoutModel",
      "state": {}
     },
     "2efa0aa44d3643f5bfd08af0b693cee6": {
      "model_module": "@jupyter-widgets/output",
      "model_module_version": "1.0.0",
      "model_name": "OutputModel",
      "state": {
       "layout": "IPY_MODEL_6bb148952f9a45559c8847fdd675d19a",
       "outputs": [
        {
         "data": {
          "application/vnd.jupyter.widget-view+json": {
           "model_id": "e53425140c3c48638b9c51da1ab83279",
           "version_major": 2,
           "version_minor": 0
          },
          "text/plain": "Plot(antialias=3, axes=['x', 'y', 'z'], axes_helper=1.0, background_color=16777215, camera=[2, -3, 0.2, 0.0, 0…"
         },
         "metadata": {},
         "output_type": "display_data"
        }
       ]
      }
     },
     "328168ce3127402ebffccd25f6f72960": {
      "model_module": "@jupyter-widgets/base",
      "model_module_version": "1.2.0",
      "model_name": "LayoutModel",
      "state": {}
     },
     "36aa0e3b864c4726b2971b4f31153138": {
      "model_module": "@jupyter-widgets/output",
      "model_module_version": "1.0.0",
      "model_name": "OutputModel",
      "state": {
       "layout": "IPY_MODEL_7836cbbd3739445da41533da1ca15ce3",
       "outputs": [
        {
         "data": {
          "application/vnd.jupyter.widget-view+json": {
           "model_id": "59e3e965eb2841258fd3fdc60d8c9176",
           "version_major": 2,
           "version_minor": 0
          },
          "text/plain": "Plot(antialias=3, axes=['x', 'y', 'z'], axes_helper=1.0, background_color=16777215, camera=[2, -3, 0.2, 0.0, 0…"
         },
         "metadata": {},
         "output_type": "display_data"
        }
       ]
      }
     },
     "3eb23026e2c74f18be105ef90fb711c8": {
      "model_module": "@jupyter-widgets/output",
      "model_module_version": "1.0.0",
      "model_name": "OutputModel",
      "state": {
       "layout": "IPY_MODEL_00e4fdb5d94f44108ee97817e73c132b",
       "outputs": [
        {
         "data": {
          "application/vnd.jupyter.widget-view+json": {
           "model_id": "6a423385604843c688e42e5ca5920d59",
           "version_major": 2,
           "version_minor": 0
          },
          "text/plain": "Plot(antialias=3, axes=['x', 'y', 'z'], axes_helper=1.0, background_color=16777215, camera=[2, -3, 0.2, 0.0, 0…"
         },
         "metadata": {},
         "output_type": "display_data"
        }
       ]
      }
     },
     "407932627ba04740977acb40d2a156f9": {
      "model_module": "@jupyter-widgets/base",
      "model_module_version": "1.2.0",
      "model_name": "LayoutModel",
      "state": {}
     },
     "46d5522e9fc94ac6ae3a590b0ce5bed7": {
      "model_module": "@jupyter-widgets/output",
      "model_module_version": "1.0.0",
      "model_name": "OutputModel",
      "state": {
       "layout": "IPY_MODEL_2bcfd50bd6054a6b9d102d729ed14873",
       "outputs": [
        {
         "data": {
          "application/vnd.jupyter.widget-view+json": {
           "model_id": "706bba8b3500417f943a49a4b299e4ac",
           "version_major": 2,
           "version_minor": 0
          },
          "text/plain": "Plot(antialias=3, axes=['x', 'y', 'z'], axes_helper=1.0, background_color=16777215, camera=[2, -3, 0.2, 0.0, 0…"
         },
         "metadata": {},
         "output_type": "display_data"
        }
       ]
      }
     },
     "49f60b541ce74f2ab681ebb29abb784b": {
      "model_module": "@jupyter-widgets/base",
      "model_module_version": "1.2.0",
      "model_name": "LayoutModel",
      "state": {}
     },
     "4b378fae8b0e4adf9b4a33e134a316e1": {
      "buffers": [
       {
        "data": "",
        "encoding": "base64",
        "path": [
         "colors",
         "data"
        ]
       },
       {
        "data": "AACAPwAAAAAAAAAAAAAAAAAAAAAAAIA/AAAAAAAAAAAAAAAAAAAAAAAAgD8AAAAAAAAAAAAAAAAAAAAAAACAPw==",
        "encoding": "base64",
        "path": [
         "model_matrix",
         "data"
        ]
       },
       {
        "data": "",
        "encoding": "base64",
        "path": [
         "opacities",
         "data"
        ]
       },
       {
        "data": "AAAgQAAAIEAAAMhBAADwQAAAIEAAAMhBAABIQQAAIEAAAMhBAACMQQAAIEAAAMhBAAC0QQAAIEAAAMhBAADcQQAAIEAAAMhBAAACQgAAIEAAAMhBAAAWQgAAIEAAAMhBAAAqQgAAIEAAAMhBAAA+QgAAIEAAAMhBAAAgQAAA8EAAAMhBAADwQAAA8EAAAMhBAABIQQAA8EAAAMhBAACMQQAA8EAAAMhBAAC0QQAA8EAAAMhBAADcQQAA8EAAAMhBAAACQgAA8EAAAMhBAAAWQgAA8EAAAMhBAAAqQgAA8EAAAMhBAAA+QgAA8EAAAMhBAAAgQAAASEEAAMhBAADwQAAASEEAAMhBAABIQQAASEEAAMhBAACMQQAASEEAAMhBAAC0QQAASEEAAMhBAADcQQAASEEAAMhBAAACQgAASEEAAMhBAAAWQgAASEEAAMhBAAAqQgAASEEAAMhBAAA+QgAASEEAAMhBAAAgQAAAjEEAAMhBAADwQAAAjEEAAMhBAABIQQAAjEEAAMhBAACMQQAAjEEAAMhBAAC0QQAAjEEAAMhBAADcQQAAjEEAAMhBAAACQgAAjEEAAMhBAAAWQgAAjEEAAMhBAAAqQgAAjEEAAMhBAAA+QgAAjEEAAMhBAAAgQAAAtEEAAMhBAADwQAAAtEEAAMhBAABIQQAAtEEAAMhBAACMQQAAtEEAAMhBAAC0QQAAtEEAAMhBAADcQQAAtEEAAMhBAAACQgAAtEEAAMhBAAAWQgAAtEEAAMhBAAAqQgAAtEEAAMhBAAA+QgAAtEEAAMhBAAAgQAAA3EEAAMhBAADwQAAA3EEAAMhBAABIQQAA3EEAAMhBAACMQQAA3EEAAMhBAAC0QQAA3EEAAMhBAADcQQAA3EEAAMhBAAACQgAA3EEAAMhBAAAWQgAA3EEAAMhBAAAqQgAA3EEAAMhBAAA+QgAA3EEAAMhBAAAgQAAAAkIAAMhBAADwQAAAAkIAAMhBAABIQQAAAkIAAMhBAACMQQAAAkIAAMhBAAC0QQAAAkIAAMhBAADcQQAAAkIAAMhBAAACQgAAAkIAAMhBAAAWQgAAAkIAAMhBAAAqQgAAAkIAAMhBAAA+QgAAAkIAAMhBAAAgQAAAFkIAAMhBAADwQAAAFkIAAMhBAABIQQAAFkIAAMhBAACMQQAAFkIAAMhBAAC0QQAAFkIAAMhBAADcQQAAFkIAAMhBAAACQgAAFkIAAMhBAAAWQgAAFkIAAMhBAAAqQgAAFkIAAMhBAAA+QgAAFkIAAMhBAAAgQAAAKkIAAMhBAADwQAAAKkIAAMhBAABIQQAAKkIAAMhBAACMQQAAKkIAAMhBAAC0QQAAKkIAAMhBAADcQQAAKkIAAMhBAAACQgAAKkIAAMhBAAAWQgAAKkIAAMhBAAAqQgAAKkIAAMhBAAA+QgAAKkIAAMhBAAAgQAAAPkIAAMhBAADwQAAAPkIAAMhBAABIQQAAPkIAAMhBAACMQQAAPkIAAMhBAAC0QQAAPkIAAMhBAADcQQAAPkIAAMhBAAACQgAAPkIAAMhBAAAWQgAAPkIAAMhBAAAqQgAAPkIAAMhBAAA+QgAAPkIAAMhB",
        "encoding": "base64",
        "path": [
         "positions",
         "data"
        ]
       }
      ],
      "model_module": "k3d",
      "model_module_version": "2.8.2",
      "model_name": "ObjectModel",
      "state": {
       "_view_count": null,
       "_view_module": null,
       "_view_module_version": "",
       "_view_name": null,
       "color": 5010096,
       "colorLegend": false,
       "colors": {
        "dtype": "uint32",
        "shape": [
         0
        ]
       },
       "compression_level": 0,
       "id": 140506123545520,
       "mesh_detail": 2,
       "model_matrix": {
        "dtype": "float32",
        "shape": [
         4,
         4
        ]
       },
       "name": "Points #1",
       "opacities": {
        "dtype": "float32",
        "shape": [
         0
        ]
       },
       "opacity": 1,
       "point_size": 1.2499999999999996,
       "positions": {
        "dtype": "float32",
        "shape": [
         100,
         3
        ]
       },
       "shader": "3dSpecular",
       "type": "Points",
       "visible": true
      }
     },
     "55e63f142b1348eaa3205ff51b4cc4fd": {
      "buffers": [
       {
        "data": "",
        "encoding": "base64",
        "path": [
         "colors",
         "data"
        ]
       },
       {
        "data": "AACAPwAAAAAAAAAAAAAAAAAAAAAAAIA/AAAAAAAAAAAAAAAAAAAAAAAAgD8AAAAAAAAAAAAAAAAAAAAAAACAPw==",
        "encoding": "base64",
        "path": [
         "model_matrix",
         "data"
        ]
       },
       {
        "data": "",
        "encoding": "base64",
        "path": [
         "opacities",
         "data"
        ]
       },
       {
        "data": "AAAgQAAAIEAAAMhBAADwQAAAIEAAAMhBAABIQQAAIEAAAMhBAACMQQAAIEAAAMhBAAC0QQAAIEAAAMhBAADcQQAAIEAAAMhBAAACQgAAIEAAAMhBAAAWQgAAIEAAAMhBAAAqQgAAIEAAAMhBAAA+QgAAIEAAAMhBAAAgQAAA8EAAAMhBAADwQAAA8EAAAMhBAABIQQAA8EAAAMhBAACMQQAA8EAAAMhBAAC0QQAA8EAAAMhBAADcQQAA8EAAAMhBAAACQgAA8EAAAMhBAAAWQgAA8EAAAMhBAAAqQgAA8EAAAMhBAAA+QgAA8EAAAMhBAAAgQAAASEEAAMhBAADwQAAASEEAAMhBAABIQQAASEEAAMhBAACMQQAASEEAAMhBAAC0QQAASEEAAMhBAADcQQAASEEAAMhBAAACQgAASEEAAMhBAAAWQgAASEEAAMhBAAAqQgAASEEAAMhBAAA+QgAASEEAAMhBAAAgQAAAjEEAAMhBAADwQAAAjEEAAMhBAABIQQAAjEEAAMhBAACMQQAAjEEAAMhBAAC0QQAAjEEAAMhBAADcQQAAjEEAAMhBAAACQgAAjEEAAMhBAAAWQgAAjEEAAMhBAAAqQgAAjEEAAMhBAAA+QgAAjEEAAMhBAAAgQAAAtEEAAMhBAADwQAAAtEEAAMhBAABIQQAAtEEAAMhBAACMQQAAtEEAAMhBAAC0QQAAtEEAAMhBAADcQQAAtEEAAMhBAAACQgAAtEEAAMhBAAAWQgAAtEEAAMhBAAAqQgAAtEEAAMhBAAA+QgAAtEEAAMhBAAAgQAAA3EEAAMhBAADwQAAA3EEAAMhBAABIQQAA3EEAAMhBAACMQQAA3EEAAMhBAAC0QQAA3EEAAMhBAADcQQAA3EEAAMhBAAACQgAA3EEAAMhBAAAWQgAA3EEAAMhBAAAqQgAA3EEAAMhBAAA+QgAA3EEAAMhBAAAgQAAAAkIAAMhBAADwQAAAAkIAAMhBAABIQQAAAkIAAMhBAACMQQAAAkIAAMhBAAC0QQAAAkIAAMhBAADcQQAAAkIAAMhBAAACQgAAAkIAAMhBAAAWQgAAAkIAAMhBAAAqQgAAAkIAAMhBAAA+QgAAAkIAAMhBAAAgQAAAFkIAAMhBAADwQAAAFkIAAMhBAABIQQAAFkIAAMhBAACMQQAAFkIAAMhBAAC0QQAAFkIAAMhBAADcQQAAFkIAAMhBAAACQgAAFkIAAMhBAAAWQgAAFkIAAMhBAAAqQgAAFkIAAMhBAAA+QgAAFkIAAMhBAAAgQAAAKkIAAMhBAADwQAAAKkIAAMhBAABIQQAAKkIAAMhBAACMQQAAKkIAAMhBAAC0QQAAKkIAAMhBAADcQQAAKkIAAMhBAAACQgAAKkIAAMhBAAAWQgAAKkIAAMhBAAAqQgAAKkIAAMhBAAA+QgAAKkIAAMhBAAAgQAAAPkIAAMhBAADwQAAAPkIAAMhBAABIQQAAPkIAAMhBAACMQQAAPkIAAMhBAAC0QQAAPkIAAMhBAADcQQAAPkIAAMhBAAACQgAAPkIAAMhBAAAWQgAAPkIAAMhBAAAqQgAAPkIAAMhBAAA+QgAAPkIAAMhB",
        "encoding": "base64",
        "path": [
         "positions",
         "data"
        ]
       }
      ],
      "model_module": "k3d",
      "model_module_version": "2.8.2",
      "model_name": "ObjectModel",
      "state": {
       "_view_count": null,
       "_view_module": null,
       "_view_module_version": "",
       "_view_name": null,
       "color": 5010096,
       "colorLegend": false,
       "colors": {
        "dtype": "uint32",
        "shape": [
         0
        ]
       },
       "compression_level": 0,
       "id": 140506125767296,
       "mesh_detail": 2,
       "model_matrix": {
        "dtype": "float32",
        "shape": [
         4,
         4
        ]
       },
       "name": "Points #1",
       "opacities": {
        "dtype": "float32",
        "shape": [
         0
        ]
       },
       "opacity": 1,
       "point_size": 1.2499999999999996,
       "positions": {
        "dtype": "float32",
        "shape": [
         100,
         3
        ]
       },
       "shader": "3dSpecular",
       "type": "Points",
       "visible": true
      }
     },
     "569369ae0f7c4b2fac364ba176ce4b0e": {
      "buffers": [
       {
        "data": "sHJMAFKE3QA=",
        "encoding": "base64",
        "path": [
         "color_map",
         "data"
        ]
       },
       {
        "data": "AABIQgAAAAAAAAAAAADIQQAAAAAAAEhCAAAAAAAAyEEAAAAAAAAAAAAASEIAAMhBAAAAAAAAAAAAAAAAAACAPw==",
        "encoding": "base64",
        "path": [
         "model_matrix",
         "data"
        ]
       },
       {
        "data": "AQEBAQEBAQEBAgEBAQEBAQEBAQEBAQEBAQEBAQEBAQEBAQEBAQEBAQEBAQEBAQEBAQEBAQEBAQEBAQEBAQEBAQEBAQEBAQEBAQEBAQEBAQEBAQEBAQEBAQEBAQEBAQEBAQEBAQEBAQEBAQEBAQEBAQEBAQEBAQEBAQEBAQEBAQEBAQEBAQEBAQEBAQEBAQEBAQEBAQEBAQEBAQEBAQEBAQEBAQEBAQEBAQEBAQEBAQEBAQEBAQEBAQEBAQEBAQEBAQEBAQEBAQEBAQEBAQEBAQEBAQEBAQEBAQEBAQEBAQEBAQEBAQEBAQEBAQEBAQEBAQEBAQEBAQEBAQEBAQEBAQEBAQEBAQEBAQEBAQEBAQEBAQEBAQEBAQEBAQEBAQEBAQEBAQEBAQEBAQEBAQEBAQEBAQEBAQEBAQEBAQEBAQEBAQEBAQEBAQEBAQEBAQEBAQEBAQEBAQEBAQEBAQEBAQEBAQEBAQEBAQEBAQEBAQEBAQEBAQEBAQEBAQEBAQEBAQEBAQEBAQEBAQEBAQEBAQEBAQEBAQEBAQEBAQEBAQEBAQEBAQEBAQEBAQEBAQEBAQEBAQEBAQEBAQEBAQEBAQEBAQEBAQEBAQEBAQEBAQEBAQEBAQEBAQEBAQEBAQEBAQEBAQEBAQEBAQEBAQEBAQEBAQEBAQEBAQEBAQEBAQEBAQEBAQEBAQEBAQEBAQEBAQEBAQEBAQEBAQEBAQEBAQEBAQEBAQEBAQEBAQEBAQEBAQEBAQEBAQEBAQEBAQEBAQEBAQEBAQEBAQEBAQEBAQEBAQEBAQEBAQEBAQEBAQEBAQEBAQEBAQEBAQEBAQEBAQEBAQEBAQEBAQEBAQEBAQEBAQEBAQEBAQEBAQEBAQEBAQEBAQEBAQEBAQEBAQEBAQEBAQEBAQEBAQEBAQEBAQEBAQEBAQEBAQEBAQEBAQEBAQEBAQEBAQEBAQEBAQEBAQEBAQEBAQEBAQEBAQEBAQEBAQEBAQEBAQEBAQEBAQEBAQEBAQEBAQEBAQEBAQEBAQEBAQEBAQEBAQEBAQEBAQEBAQEBAQEBAQEBAQEBAQEBAQEBAQEBAQEBAQEBAQEBAQEBAQEBAQEBAQEBAQEBAQEBAQEBAQEBAQEBAQEBAQEBAQEBAQEBAQEBAQEBAQEBAQEBAQEBAQEBAQEBAQEBAQEBAQEBAQEBAQEBAQEBAQEBAQEBAQEBAQEBAQEBAQEBAQEBAQEBAQEBAQEBAQEBAQEBAQEBAQEBAQEBAQEBAQEBAQEBAQEBAQEBAQEBAQEBAQEBAQEBAQEBAQEBAQEBAQEBAQEBAQEBAQEBAQEBAQEBAQEBAQEBAQ==",
        "encoding": "base64",
        "path": [
         "voxels",
         "data"
        ]
       }
      ],
      "model_module": "k3d",
      "model_module_version": "2.8.2",
      "model_name": "ObjectModel",
      "state": {
       "_view_count": null,
       "_view_module": null,
       "_view_module_version": "",
       "_view_name": null,
       "colorLegend": false,
       "color_map": {
        "dtype": "uint32",
        "shape": [
         2
        ]
       },
       "compression_level": 0,
       "id": 140385675256304,
       "model_matrix": {
        "dtype": "float32",
        "shape": [
         4,
         4
        ]
       },
       "name": "Voxels #1",
       "opacity": 1,
       "outlines": false,
       "outlines_color": 0,
       "type": "Voxels",
       "visible": true,
       "voxels": {
        "dtype": "uint8",
        "shape": [
         10,
         10,
         10
        ]
       },
       "wireframe": false
      }
     },
     "587c2671d25441ca94cac98a267b8962": {
      "model_module": "@jupyter-widgets/base",
      "model_module_version": "1.2.0",
      "model_name": "LayoutModel",
      "state": {}
     },
     "590d9d817ccc4a828cdca1ebfda492f2": {
      "model_module": "@jupyter-widgets/output",
      "model_module_version": "1.0.0",
      "model_name": "OutputModel",
      "state": {
       "layout": "IPY_MODEL_a3321a6952fc439bb851136e2198b976",
       "outputs": [
        {
         "data": {
          "application/vnd.jupyter.widget-view+json": {
           "model_id": "75734a156ec744bdb0eb63190f3e5f46",
           "version_major": 2,
           "version_minor": 0
          },
          "text/plain": "Plot(antialias=3, axes=['x', 'y', 'z'], axes_helper=1.0, background_color=16777215, camera=[2, -3, 0.2, 0.0, 0…"
         },
         "metadata": {},
         "output_type": "display_data"
        }
       ]
      }
     },
     "5a6c8bb964a647dd842c80f6b918a112": {
      "buffers": [
       {
        "data": "UoTdAFKE3QBShN0AUoTdAFKE3QBShN0AUoTdAFKE3QBShN0AUoTdAFKE3QBShN0AUoTdAFKE3QBShN0AUoTdAFKE3QBShN0AUoTdAFKE3QBShN0AUoTdAFKE3QBShN0AUoTdAFKE3QBShN0AUoTdAFKE3QBShN0AUoTdAFKE3QBShN0AUoTdAFKE3QBShN0AUoTdAFKE3QBShN0AUoTdAFKE3QBShN0AUoTdAFKE3QBShN0AUoTdAFKE3QBShN0AUoTdAFKE3QBShN0AUoTdAFKE3QBShN0AUoTdAFKE3QBShN0AUoTdAFKE3QBShN0AUoTdAFKE3QBShN0AUoTdAFKE3QBShN0AUoTdAFKE3QBShN0AUoTdAFKE3QBShN0AUoTdAFKE3QBShN0AUoTdAFKE3QBShN0AUoTdAFKE3QBShN0AUoTdAFKE3QBShN0AUoTdAFKE3QBShN0AUoTdAFKE3QBShN0AUoTdAFKE3QBShN0AUoTdAFKE3QBShN0AUoTdAFKE3QBShN0AUoTdAFKE3QBShN0AUoTdAFKE3QBShN0AUoTdAFKE3QBShN0AUoTdAFKE3QBShN0AUoTdAFKE3QBShN0AUoTdAFKE3QBShN0AUoTdAFKE3QBShN0AUoTdAFKE3QBShN0AUoTdAFKE3QBShN0AUoTdAFKE3QBShN0AUoTdAFKE3QBShN0AUoTdAFKE3QBShN0AUoTdAFKE3QBShN0AUoTdAFKE3QBShN0AUoTdAFKE3QBShN0AUoTdAFKE3QBShN0AUoTdAFKE3QBShN0AUoTdAFKE3QBShN0AUoTdAFKE3QBShN0AUoTdAFKE3QBShN0AUoTdAFKE3QBShN0AUoTdAFKE3QBShN0AUoTdAFKE3QBShN0AUoTdAFKE3QBShN0AUoTdAFKE3QBShN0AUoTdAFKE3QBShN0AUoTdAFKE3QBShN0AUoTdAFKE3QBShN0AUoTdAFKE3QBShN0AUoTdAFKE3QBShN0AUoTdAFKE3QBShN0AUoTdAFKE3QBShN0AUoTdAFKE3QBShN0AUoTdAFKE3QA=",
        "encoding": "base64",
        "path": [
         "colors",
         "data"
        ]
       },
       {
        "data": "AACAPwAAAAAAAAAAAAAAAAAAAAAAAIA/AAAAAAAAAAAAAAAAAAAAAAAAgD8AAAAAAAAAAAAAAAAAAAAAAACAPw==",
        "encoding": "base64",
        "path": [
         "model_matrix",
         "data"
        ]
       },
       {
        "data": "AAAgQAAAAAAAAMhBAADwQAAAAAAAAMhBAABIQQAAAAAAAMhBAACMQQAAAAAAAMhBAAC0QQAAAAAAAMhBAADcQQAAAAAAAMhBAAACQgAAAAAAAMhBAAAWQgAAAAAAAMhBAAAqQgAAAAAAAMhBAAA+QgAAAAAAAMhBAAAgQAAAoEAAAMhBAADwQAAAoEAAAMhBAABIQQAAoEAAAMhBAACMQQAAoEAAAMhBAAC0QQAAoEAAAMhBAADcQQAAoEAAAMhBAAACQgAAoEAAAMhBAAAWQgAAoEAAAMhBAAAqQgAAoEAAAMhBAAA+QgAAoEAAAMhBAAAgQAAAIEEAAMhBAADwQAAAIEEAAMhBAABIQQAAIEEAAMhBAACMQQAAIEEAAMhBAAC0QQAAIEEAAMhBAADcQQAAIEEAAMhBAAACQgAAIEEAAMhBAAAWQgAAIEEAAMhBAAAqQgAAIEEAAMhBAAA+QgAAIEEAAMhBAAAgQAAAcEEAAMhBAADwQAAAcEEAAMhBAABIQQAAcEEAAMhBAACMQQAAcEEAAMhBAAC0QQAAcEEAAMhBAADcQQAAcEEAAMhBAAACQgAAcEEAAMhBAAAWQgAAcEEAAMhBAAAqQgAAcEEAAMhBAAA+QgAAcEEAAMhBAAAgQAAAoEEAAMhBAADwQAAAoEEAAMhBAABIQQAAoEEAAMhBAACMQQAAoEEAAMhBAAC0QQAAoEEAAMhBAADcQQAAoEEAAMhBAAACQgAAoEEAAMhBAAAWQgAAoEEAAMhBAAAqQgAAoEEAAMhBAAA+QgAAoEEAAMhBAAAgQAAAyEEAAMhBAADwQAAAyEEAAMhBAABIQQAAyEEAAMhBAACMQQAAyEEAAMhBAAC0QQAAyEEAAMhBAADcQQAAyEEAAMhBAAACQgAAyEEAAMhBAAAWQgAAyEEAAMhBAAAqQgAAyEEAAMhBAAA+QgAAyEEAAMhBAAAgQAAA8EEAAMhBAADwQAAA8EEAAMhBAABIQQAA8EEAAMhBAACMQQAA8EEAAMhBAAC0QQAA8EEAAMhBAADcQQAA8EEAAMhBAAACQgAA8EEAAMhBAAAWQgAA8EEAAMhBAAAqQgAA8EEAAMhBAAA+QgAA8EEAAMhBAAAgQAAADEIAAMhBAADwQAAADEIAAMhBAABIQQAADEIAAMhBAACMQQAADEIAAMhBAAC0QQAADEIAAMhBAADcQQAADEIAAMhBAAACQgAADEIAAMhBAAAWQgAADEIAAMhBAAAqQgAADEIAAMhBAAA+QgAADEIAAMhBAAAgQAAAIEIAAMhBAADwQAAAIEIAAMhBAABIQQAAIEIAAMhBAACMQQAAIEIAAMhBAAC0QQAAIEIAAMhBAADcQQAAIEIAAMhBAAACQgAAIEIAAMhBAAAWQgAAIEIAAMhBAAAqQgAAIEIAAMhBAAA+QgAAIEIAAMhBAAAgQAAANEIAAMhBAADwQAAANEIAAMhBAABIQQAANEIAAMhBAACMQQAANEIAAMhBAAC0QQAANEIAAMhBAADcQQAANEIAAMhBAAACQgAANEIAAMhBAAAWQgAANEIAAMhBAAAqQgAANEIAAMhBAAA+QgAANEIAAMhB",
        "encoding": "base64",
        "path": [
         "origins",
         "data"
        ]
       },
       {
        "data": "AAAAAAAAoEAAAAAAAAAAAAAAoEAAAAAAAAAAAAAAoEAAAAAAAAAAAAAAoEAAAAAAAAAAAAAAoEAAAAAAAAAAAAAAoEAAAAAAAAAAAAAAoEAAAAAAAAAAAAAAoEAAAAAAAAAAAAAAoEAAAAAAAAAAAAAAoEAAAAAAAAAAAAAAoEAAAAAAAAAAAAAAoEAAAAAAAAAAAAAAoEAAAAAAAAAAAAAAoEAAAAAAAAAAAAAAoEAAAAAAAAAAAAAAoEAAAAAAAAAAAAAAoEAAAAAAAAAAAAAAoEAAAAAAAAAAAAAAoEAAAAAAAAAAAAAAoEAAAAAAAAAAAAAAoEAAAAAAAAAAAAAAoEAAAAAAAAAAAAAAoEAAAAAAAAAAAAAAoEAAAAAAAAAAAAAAoEAAAAAAAAAAAAAAoEAAAAAAAAAAAAAAoEAAAAAAAAAAAAAAoEAAAAAAAAAAAAAAoEAAAAAAAAAAAAAAoEAAAAAAAAAAAAAAoEAAAAAAAAAAAAAAoEAAAAAAAAAAAAAAoEAAAAAAAAAAAAAAoEAAAAAAAAAAAAAAoEAAAAAAAAAAAAAAoEAAAAAAAAAAAAAAoEAAAAAAAAAAAAAAoEAAAAAAAAAAAAAAoEAAAAAAAAAAAAAAoEAAAAAAAAAAAAAAoEAAAAAAAAAAAAAAoEAAAAAAAAAAAAAAoEAAAAAAAAAAAAAAoEAAAAAAAAAAAAAAoEAAAAAAAAAAAAAAoEAAAAAAAAAAAAAAoEAAAAAAAAAAAAAAoEAAAAAAAAAAAAAAoEAAAAAAAAAAAAAAoEAAAAAAAAAAAAAAoEAAAAAAAAAAAAAAoEAAAAAAAAAAAAAAoEAAAAAAAAAAAAAAoEAAAAAAAAAAAAAAoEAAAAAAAAAAAAAAoEAAAAAAAAAAAAAAoEAAAAAAAAAAAAAAoEAAAAAAAAAAAAAAoEAAAAAAAAAAAAAAoEAAAAAAAAAAAAAAoEAAAAAAAAAAAAAAoEAAAAAAAAAAAAAAoEAAAAAAAAAAAAAAoEAAAAAAAAAAAAAAoEAAAAAAAAAAAAAAoEAAAAAAAAAAAAAAoEAAAAAAAAAAAAAAoEAAAAAAAAAAAAAAoEAAAAAAAAAAAAAAoEAAAAAAAAAAAAAAoEAAAAAAAAAAAAAAoEAAAAAAAAAAAAAAoEAAAAAAAAAAAAAAoEAAAAAAAAAAAAAAoEAAAAAAAAAAAAAAoEAAAAAAAAAAAAAAoEAAAAAAAAAAAAAAoEAAAAAAAAAAAAAAoEAAAAAAAAAAAAAAoEAAAAAAAAAAAAAAoEAAAAAAAAAAAAAAoEAAAAAAAAAAAAAAoEAAAAAAAAAAAAAAoEAAAAAAAAAAAAAAoEAAAAAAAAAAAAAAoEAAAAAAAAAAAAAAoEAAAAAAAAAAAAAAoEAAAAAAAAAAAAAAoEAAAAAAAAAAAAAAoEAAAAAAAAAAAAAAoEAAAAAAAAAAAAAAoEAAAAAAAAAAAAAAoEAAAAAAAAAAAAAAoEAAAAAAAAAAAAAAoEAAAAAAAAAAAAAAoEAAAAAAAAAAAAAAoEAAAAAAAAAAAAAAoEAAAAAAAAAAAAAAoEAAAAAAAAAAAAAAoEAAAAAA",
        "encoding": "base64",
        "path": [
         "vectors",
         "data"
        ]
       }
      ],
      "model_module": "k3d",
      "model_module_version": "2.8.2",
      "model_name": "ObjectModel",
      "state": {
       "_view_count": null,
       "_view_module": null,
       "_view_module_version": "",
       "_view_name": null,
       "colorLegend": false,
       "colors": {
        "dtype": "uint32",
        "shape": [
         100,
         2
        ]
       },
       "compression_level": 0,
       "head_color": 255,
       "head_size": 10,
       "id": 140506123543600,
       "label_size": 1,
       "labels": [],
       "line_width": 0.01,
       "model_matrix": {
        "dtype": "float32",
        "shape": [
         4,
         4
        ]
       },
       "name": "Vectors #1",
       "origin_color": 255,
       "origins": {
        "dtype": "float32",
        "shape": [
         100,
         3
        ]
       },
       "type": "Vectors",
       "use_head": true,
       "vectors": {
        "dtype": "float32",
        "shape": [
         100,
         3
        ]
       },
       "visible": true
      }
     },
     "5e6709a8121047169b61d57b5b4749f0": {
      "buffers": [
       {
        "data": "bK68AGyuvAB0nKYAdJymAHiMkgB4jJIAeISHAHiEhwB4fn8AeH5/AHd5eQB3eXkAdHNyAHRzcgBxa2kAcWtpAG1cVgBtXFYAbE5CAGxOQgBax9sAWsfbAHSbpAB0m6QAeIuRAHiLkQB5g4YAeYOGAHh+fwB4fn8Ad3l5AHd5eQB1dHMAdXRzAHFsagBxbGoAbV5YAG1eWABvOh4AbzoeAEjX7wBI1+8AdZigAHWYoAB4i5AAeIuQAHmDhgB5g4YAeH5/AHh+fwB3eXkAd3l5AHV0cwB1dHMAcm1rAHJtawBuYVwAbmFcAGouAABqLgAANuL8ADbi/AB2lZwAdpWcAHiKjwB4io8AeYKFAHmChQB4fn8AeH5/AHd5eQB3eXkAdXR0AHV0dABybWwAcm1sAG9jXwBvY18AViYAAFYmAAA46P4AOOj+AHaTmgB2k5oAeImOAHiJjgB5goUAeYKFAHh9fgB4fX4AeHp6AHh6egB1dHQAdXR0AHJubABybmwAb2VhAG9lYQBOIgAATiIAADjo/gA46P4AdpOaAHaTmgB4iY4AeImOAHmChQB5goUAeH1+AHh9fgB4enoAeHp6AHV0dAB1dHQAcm5sAHJubABvZWEAb2VhAE4iAABOIgAANuL8ADbi/AB2lZwAdpWcAHiKjwB4io8AeYKFAHmChQB4fn8AeH5/AHd5eQB3eXkAdXR0AHV0dABybWwAcm1sAG9jXwBvY18AViYAAFYmAABI1+8ASNfvAHWYoAB1mKAAeIuQAHiLkAB5g4YAeYOGAHh+fwB4fn8Ad3l5AHd5eQB1dHMAdXRzAHJtawBybWsAbmFcAG5hXABqLgAAai4AAFrH2wBax9sAdJukAHSbpAB4i5EAeIuRAHmDhgB5g4YAeH5/AHh+fwB3eXkAd3l5AHV0cwB1dHMAcWxqAHFsagBtXlgAbV5YAG86HgBvOh4AbK68AGyuvAB0nKYAdJymAHiMkgB4jJIAeISHAHiEhwB4fn8AeH5/AHd5eQB3eXkAdHNyAHRzcgBxa2kAcWtpAG1cVgBtXFYAbE5CAGxOQgA=",
        "encoding": "base64",
        "path": [
         "colors",
         "data"
        ]
       },
       {
        "data": "AACAPwAAAAAAAAAAAAAAAAAAAAAAAIA/AAAAAAAAAAAAAAAAAAAAAAAAgD8AAAAAAAAAAAAAAAAAAAAAAACAPw==",
        "encoding": "base64",
        "path": [
         "model_matrix",
         "data"
        ]
       },
       {
        "data": "gGVmPpa3uz/WXMdBRgmhQCCPBkBFksdBNh0gQW4NFECIxsdB6AZwQQowGkC64sdBTwCgQfc8HkDv9sdBTwDIQQnDIUARCchBdAPwQfbPJUBGHchBTgcMQpLyK0B4OchBKSEgQuBwOUC7bchBZuY0QjUkYkAqo8hB4Io4PvJo0kBKEcdBNK6gQGK45UCDlcdBIRQgQVQO60C5ycdB5QRwQROP7UBW5MdBOACgQYdB70Bz98dBOADIQXm+8ECNCMhBcwLwQe1w8kCqG8hBCAUMQqzx9EBHNshBxhUgQp5H+kB9ashBi7g0QofLBkG27shBIDvgPa2APEHc5MZB1FKgQEJ8REFcn8dBMgsgQeorRkHMzMdBzQJwQVUVR0Hh5cdBHwCgQQ+4R0Hv98dBHwDIQfFHSEERCMhBZgHwQavqSEEfGshBzAIMQhbUSUE0M8hBWgogQr+DS0GkYMhBHnA0QlN/U0EkG8lBQDtBPQdUiEE6ycZBohugQEMEi0HGqcdBcQQgQQRxi0HtzsdBIAFwQYe3i0H55sdBCwCgQa7pi0FG+MdBCwDIQVIWjEG6B8hBkADwQXlIjEEHGchBHAEMQvyOjEETMchBdAMgQr37jEE6VshBTzA0Qvmrj0HFNslBAKUkPKC7skGgu8ZB7QSgQECws0FAsMdB4QAgQfjPs0H4z8dBNgBwQYbns0GG58dBAACgQXH4s0Fx+MdBAADIQY8HtEGPB8hBGwDwQXoYtEF6GMhBOAAMQggwtEEIMMhBngAgQsBPtEHAT8hBSgo0QmBEtUFgRMlBAKUkPGBE3UGgu8ZB7QSgQMBP3EFAsMdB4QAgQQgw3EH4z8dBNgBwQXoY3EGG58dBAACgQY8H3EFx+MdBAADIQXH420GPB8hBGwDwQYbn20F6GMhBOAAMQvjP20EIMMhBngAgQkCw20HAT8hBSgo0QqC72kFgRMlBQDtBPfzVA0I7ycZBohugQN59AkLGqcdBcQQgQX5HAkLtzsdBIAFwQTwkAkL55sdBCwCgQSkLAkJG+MdBCwDIQdf0AUK6B8hBkADwQcTbAUIHGchBHAEMQoK4AUITMchBdAMgQiKCAUI6VshBTzA0QgQqAELGNslBIDvgPdXfGELc5MZB1FKgQPDgFkJcn8dBMgsgQQZ1FkLMzMdBzQJwQas6FkLh5cdBHwCgQfwRFkLv98dBHwDIQQTuFUIRCMhBZgHwQVXFFUIfGshBzAIMQvqKFUI0M8hBWgogQhAfFUKkYMhBHnA0QisgE0IkG8lB4Io4PuKyLUJKEcdBNK6gQPRIK0KDlcdBIRQgQTWeKkK5ycdB5QRwQR5OKkJW5MdBOACgQc8XKkJz98dBOADIQTHoKUKNCMhBcwLwQeKxKUKqG8hBCAUMQsthKUJHNshBxhUgQgy3KEJ9ashBi7g0Qh5NJkK27shBgGVmPkMiQkLWXMdBRgmhQA6XP0JFksdBNh0gQSm/PkKIxsdB6AZwQf9cPkK64sdBTwCgQTEcPkLv9sdBTwDIQc/jPUIRCchBdAPwQQGjPUJGHchBTgcMQtdAPUJ4OchBKSEgQvJoPEK7bchBZuY0Qr3dOUIqo8hB",
        "encoding": "base64",
        "path": [
         "origins",
         "data"
        ]
       },
       {
        "data": "qJmRQGpIBEAHKiM+dO2dQPyGSz9Vdts9JoufQCEpvz5r32U9YuSfQMH+OT5BM+o8i/2fQJ6EYT1FERE8i/2fQJ2EYb1OERG8YuSfQMH+Ob48M+q8JoufQCApv75q32W9dO2dQPyGS79Xdtu9qJmRQGpIBMAIKiO+UneUQG647D8Mtm4+mKOeQNp5JD+Z+dQ9fa+fQHQ1nj5GHVk9a+yfQC87HD79T908Q/6fQB15Pj1NzQg8Q/6fQCF5Pr0/zQi8a+yfQC07HL7rT928fa+fQHQ1nr5AHVm9mKOeQNt5JL+a+dS9UneUQG647L8Otm6+J/6YQDb1tz/9kY0+WFqfQJ/v4D4CR8E9OdOfQDgLaj6Fz0w9zfSfQMyq6j0Z+NA8B/+fQMfhDz2TEAE8B/+fQM/hD716EAG8zfSfQMyq6r0G+NC8OdOfQDULar59z0y9WFqfQKHv4L4DR8G9J/6YQDf1t7/+kY2+E/ucQCL+aj/AYps+vMifQNO8ez7vc6w9O+6fQFb8Dj6hTUQ9f/ufQFnxkD2FNsg8p/+fQBWPsjx/Q/c7p/+fQBePsrxZQ/e7f/ufQFXxkL10Nsi8O+6fQFj8Dr6ZTUS9vMifQNi8e77yc6y9E/ucQCP+ar+6Ypu+W1ufQNAvoj7QL6I+JvafQLCAnz2ygJ89fPyfQLMfQD23H0A9J/+fQNLPwzzaz8M8AACgQO3T8Tth1PE7AACgQH7U8btX1PG7J/+fQObPw7zTz8O8fPyfQMMfQL20H0C9JvafQLiAn72ygJ+9W1ufQM0vor7PL6K+W1ufQM0vor7PL6I+JvafQLiAn72ygJ89fPyfQMMfQL20H0A9J/+fQObPw7zTz8M8AACgQH7U8btX1PE7AACgQO3T8Tth1PG7J/+fQNLPwzzaz8O8fPyfQLMfQD23H0C9JvafQLCAnz2ygJ+9W1ufQNAvoj7QL6K+E/ucQCP+ar+6Yps+vMifQNi8e77yc6w9O+6fQFj8Dr6ZTUQ9f/ufQFXxkL10Nsg8p/+fQBePsrxZQ/c7p/+fQBWPsjx/Q/e7f/ufQFnxkD2FNsi8O+6fQFb8Dj6hTUS9vMifQNO8ez7vc6y9E/ucQCL+aj/AYpu+J/6YQDf1t7/+kY0+WFqfQKHv4L4DR8E9OdOfQDULar59z0w9zfSfQMyq6r0G+NA8B/+fQM/hD716EAE8B/+fQMfhDz2TEAG8zfSfQMyq6j0Z+NC8OdOfQDgLaj6Fz0y9WFqfQJ/v4D4CR8G9J/6YQDb1tz/9kY2+UneUQG647L8Otm4+mKOeQNt5JL+a+dQ9fa+fQHQ1nr5AHVk9a+yfQC07HL7rT908Q/6fQCF5Pr0/zQg8Q/6fQB15Pj1NzQi8a+yfQC87HD79T928fa+fQHQ1nj5GHVm9mKOeQNp5JD+Z+dS9UneUQG647D8Mtm6+qJmRQGpIBMAIKiM+dO2dQPyGS79Xdts9JoufQCApv75q32U9YuSfQMH+Ob48M+o8i/2fQJ2EYb1OERE8i/2fQJ6EYT1FERG8YuSfQMH+OT5BM+q8JoufQCEpvz5r32W9dO2dQPyGSz9Vdtu9qJmRQGpIBEAHKiO+",
        "encoding": "base64",
        "path": [
         "vectors",
         "data"
        ]
       }
      ],
      "model_module": "k3d",
      "model_module_version": "2.8.2",
      "model_name": "ObjectModel",
      "state": {
       "_view_count": null,
       "_view_module": null,
       "_view_module_version": "",
       "_view_name": null,
       "colorLegend": false,
       "colors": {
        "dtype": "uint32",
        "shape": [
         100,
         2
        ]
       },
       "compression_level": 0,
       "head_color": 255,
       "head_size": 20,
       "id": 140506125604896,
       "label_size": 1,
       "labels": [],
       "line_width": 0.01,
       "model_matrix": {
        "dtype": "float32",
        "shape": [
         4,
         4
        ]
       },
       "name": "Vectors #1",
       "origin_color": 255,
       "origins": {
        "dtype": "float32",
        "shape": [
         100,
         3
        ]
       },
       "type": "Vectors",
       "use_head": true,
       "vectors": {
        "dtype": "float32",
        "shape": [
         100,
         3
        ]
       },
       "visible": true
      }
     },
     "683896544dfe4393ab92d7056c3a2e80": {
      "model_module": "k3d",
      "model_module_version": "2.8.2",
      "model_name": "PlotModel",
      "state": {
       "_backend_version": "2.8.2",
       "_dom_classes": [],
       "_view_count": null,
       "antialias": 3,
       "auto_rendering": true,
       "axes": [
        "x\\,\\text{(nm)}",
        "y\\,\\text{(nm)}",
        "z\\,\\text{(nm)}"
       ],
       "axes_helper": 1,
       "background_color": 16777215,
       "camera": [
        111.3364831484992,
        -104.50472472274882,
        33.63364831484999,
        25,
        25,
        25,
        0,
        0,
        1
       ],
       "camera_animation": [],
       "camera_auto_fit": true,
       "camera_fov": 60,
       "camera_mode": "trackball",
       "camera_no_pan": false,
       "camera_no_rotate": false,
       "camera_no_zoom": false,
       "clipping_planes": [],
       "colorbar_object_id": -1,
       "colorbar_scientific": false,
       "fps": 25,
       "fps_meter": false,
       "grid": [
        -1,
        -1,
        -1,
        1,
        1,
        1
       ],
       "grid_auto_fit": true,
       "grid_visible": true,
       "height": 512,
       "layout": "IPY_MODEL_d0af1d80d01246b6b26582b5c50da46c",
       "lighting": 1.5,
       "manipulate_mode": "translate",
       "menu_visibility": true,
       "mode": "view",
       "name": null,
       "object_ids": [
        140506118166800
       ],
       "rendering_steps": 1,
       "screenshot": "",
       "screenshot_scale": 2,
       "snapshot": "",
       "snapshot_include_js": true,
       "time": 0,
       "voxel_paint_color": 0
      }
     },
     "6a423385604843c688e42e5ca5920d59": {
      "model_module": "k3d",
      "model_module_version": "2.8.2",
      "model_name": "PlotModel",
      "state": {
       "_backend_version": "2.8.2",
       "_dom_classes": [],
       "_view_count": null,
       "antialias": 3,
       "auto_rendering": true,
       "axes": [
        "x\\,\\text{(nm)}",
        "y\\,\\text{(nm)}",
        "z\\,\\text{(nm)}"
       ],
       "axes_helper": 1,
       "background_color": 16777215,
       "camera": [
        111.3364831484992,
        -104.50472472274882,
        33.63364831484999,
        25,
        25,
        25,
        0,
        0,
        1
       ],
       "camera_animation": [],
       "camera_auto_fit": true,
       "camera_fov": 60,
       "camera_mode": "trackball",
       "camera_no_pan": false,
       "camera_no_rotate": false,
       "camera_no_zoom": false,
       "clipping_planes": [],
       "colorbar_object_id": -1,
       "colorbar_scientific": false,
       "fps": 25,
       "fps_meter": false,
       "grid": [
        -1,
        -1,
        -1,
        1,
        1,
        1
       ],
       "grid_auto_fit": true,
       "grid_visible": true,
       "height": 512,
       "layout": "IPY_MODEL_1e16574e74db4bdbb9ef62122aeee3f5",
       "lighting": 1.5,
       "manipulate_mode": "translate",
       "menu_visibility": true,
       "mode": "view",
       "name": null,
       "object_ids": [
        140385675214416
       ],
       "rendering_steps": 1,
       "screenshot": "",
       "screenshot_scale": 2,
       "snapshot": "",
       "snapshot_include_js": true,
       "time": 0,
       "voxel_paint_color": 0
      }
     },
     "6bb148952f9a45559c8847fdd675d19a": {
      "model_module": "@jupyter-widgets/base",
      "model_module_version": "1.2.0",
      "model_name": "LayoutModel",
      "state": {}
     },
     "7836cbbd3739445da41533da1ca15ce3": {
      "model_module": "@jupyter-widgets/base",
      "model_module_version": "1.2.0",
      "model_name": "LayoutModel",
      "state": {}
     },
     "788b9cdcd85d466dafef1053d70a95d7": {
      "model_module": "k3d",
      "model_module_version": "2.8.2",
      "model_name": "PlotModel",
      "state": {
       "_backend_version": "2.8.2",
       "_dom_classes": [],
       "_view_count": null,
       "antialias": 3,
       "auto_rendering": true,
       "axes": [
        "x\\,\\text{(nm)}",
        "y\\,\\text{(nm)}",
        "z\\,\\text{(nm)}"
       ],
       "axes_helper": 1,
       "background_color": 16777215,
       "camera": [
        82.06686392940055,
        -60.605222039177605,
        30.706686524070335,
        24.999998688697815,
        24.995075821876526,
        25,
        0,
        0,
        1
       ],
       "camera_animation": [],
       "camera_auto_fit": true,
       "camera_fov": 60,
       "camera_mode": "trackball",
       "camera_no_pan": false,
       "camera_no_rotate": false,
       "camera_no_zoom": false,
       "clipping_planes": [],
       "colorbar_object_id": -1,
       "colorbar_scientific": false,
       "fps": 25,
       "fps_meter": false,
       "grid": [
        -1,
        -1,
        -1,
        1,
        1,
        1
       ],
       "grid_auto_fit": true,
       "grid_visible": true,
       "height": 512,
       "layout": "IPY_MODEL_10e8e28b5e0144b390c47179f370f140",
       "lighting": 1.5,
       "manipulate_mode": "translate",
       "menu_visibility": true,
       "mode": "view",
       "name": null,
       "object_ids": [
        140385681553056,
        140385681553440
       ],
       "rendering_steps": 1,
       "screenshot": "",
       "screenshot_scale": 2,
       "snapshot": "",
       "snapshot_include_js": true,
       "time": 0,
       "voxel_paint_color": 0
      }
     },
     "80a6ba385ea44146aa6ba7946e81df04": {
      "buffers": [
       {
        "data": "UoTdAFKE3QBShN0AUoTdAFKE3QBShN0AUoTdAFKE3QBShN0AUoTdAFKE3QBShN0AUoTdAFKE3QBShN0AUoTdAFKE3QBShN0AUoTdAFKE3QBShN0AUoTdAFKE3QBShN0AUoTdAFKE3QBShN0AUoTdAFKE3QBShN0AUoTdAFKE3QBShN0AUoTdAFKE3QBShN0AUoTdAFKE3QBShN0AUoTdAFKE3QBShN0AUoTdAFKE3QBShN0AUoTdAFKE3QBShN0AUoTdAFKE3QBShN0AUoTdAFKE3QBShN0AUoTdAFKE3QBShN0AUoTdAFKE3QBShN0AUoTdAFKE3QBShN0AUoTdAFKE3QBShN0AUoTdAFKE3QBShN0AUoTdAFKE3QBShN0AUoTdAFKE3QBShN0AUoTdAFKE3QBShN0AUoTdAFKE3QBShN0AUoTdAFKE3QBShN0AUoTdAFKE3QBShN0AUoTdAFKE3QBShN0AUoTdAFKE3QBShN0AUoTdAFKE3QBShN0AUoTdAFKE3QBShN0AUoTdAFKE3QBShN0AUoTdAFKE3QBShN0AUoTdAFKE3QBShN0AUoTdAFKE3QBShN0AUoTdAFKE3QBShN0AUoTdAFKE3QBShN0AUoTdAFKE3QBShN0AUoTdAFKE3QBShN0AUoTdAFKE3QBShN0AUoTdAFKE3QBShN0AUoTdAFKE3QBShN0AUoTdAFKE3QBShN0AUoTdAFKE3QBShN0AUoTdAFKE3QBShN0AUoTdAFKE3QBShN0AUoTdAFKE3QBShN0AUoTdAFKE3QBShN0AUoTdAFKE3QBShN0AUoTdAFKE3QBShN0AUoTdAFKE3QBShN0AUoTdAFKE3QBShN0AUoTdAFKE3QBShN0AUoTdAFKE3QBShN0AUoTdAFKE3QBShN0AUoTdAFKE3QBShN0AUoTdAFKE3QBShN0AUoTdAFKE3QBShN0AUoTdAFKE3QBShN0AUoTdAFKE3QBShN0AUoTdAFKE3QBShN0AUoTdAFKE3QBShN0AUoTdAFKE3QBShN0AUoTdAFKE3QBShN0AUoTdAFKE3QA=",
        "encoding": "base64",
        "path": [
         "colors",
         "data"
        ]
       },
       {
        "data": "AACAPwAAAAAAAAAAAAAAAAAAAAAAAIA/AAAAAAAAAAAAAAAAAAAAAAAAgD8AAAAAAAAAAAAAAAAAAAAAAACAPw==",
        "encoding": "base64",
        "path": [
         "model_matrix",
         "data"
        ]
       },
       {
        "data": "AAAgQAAAAAAAAMhBAADwQAAAAAAAAMhBAABIQQAAAAAAAMhBAACMQQAAAAAAAMhBAAC0QQAAAAAAAMhBAADcQQAAAAAAAMhBAAACQgAAAAAAAMhBAAAWQgAAAAAAAMhBAAAqQgAAAAAAAMhBAAA+QgAAAAAAAMhBAAAgQAAAoEAAAMhBAADwQAAAoEAAAMhBAABIQQAAoEAAAMhBAACMQQAAoEAAAMhBAAC0QQAAoEAAAMhBAADcQQAAoEAAAMhBAAACQgAAoEAAAMhBAAAWQgAAoEAAAMhBAAAqQgAAoEAAAMhBAAA+QgAAoEAAAMhBAAAgQAAAIEEAAMhBAADwQAAAIEEAAMhBAABIQQAAIEEAAMhBAACMQQAAIEEAAMhBAAC0QQAAIEEAAMhBAADcQQAAIEEAAMhBAAACQgAAIEEAAMhBAAAWQgAAIEEAAMhBAAAqQgAAIEEAAMhBAAA+QgAAIEEAAMhBAAAgQAAAcEEAAMhBAADwQAAAcEEAAMhBAABIQQAAcEEAAMhBAACMQQAAcEEAAMhBAAC0QQAAcEEAAMhBAADcQQAAcEEAAMhBAAACQgAAcEEAAMhBAAAWQgAAcEEAAMhBAAAqQgAAcEEAAMhBAAA+QgAAcEEAAMhBAAAgQAAAoEEAAMhBAADwQAAAoEEAAMhBAABIQQAAoEEAAMhBAACMQQAAoEEAAMhBAAC0QQAAoEEAAMhBAADcQQAAoEEAAMhBAAACQgAAoEEAAMhBAAAWQgAAoEEAAMhBAAAqQgAAoEEAAMhBAAA+QgAAoEEAAMhBAAAgQAAAyEEAAMhBAADwQAAAyEEAAMhBAABIQQAAyEEAAMhBAACMQQAAyEEAAMhBAAC0QQAAyEEAAMhBAADcQQAAyEEAAMhBAAACQgAAyEEAAMhBAAAWQgAAyEEAAMhBAAAqQgAAyEEAAMhBAAA+QgAAyEEAAMhBAAAgQAAA8EEAAMhBAADwQAAA8EEAAMhBAABIQQAA8EEAAMhBAACMQQAA8EEAAMhBAAC0QQAA8EEAAMhBAADcQQAA8EEAAMhBAAACQgAA8EEAAMhBAAAWQgAA8EEAAMhBAAAqQgAA8EEAAMhBAAA+QgAA8EEAAMhBAAAgQAAADEIAAMhBAADwQAAADEIAAMhBAABIQQAADEIAAMhBAACMQQAADEIAAMhBAAC0QQAADEIAAMhBAADcQQAADEIAAMhBAAACQgAADEIAAMhBAAAWQgAADEIAAMhBAAAqQgAADEIAAMhBAAA+QgAADEIAAMhBAAAgQAAAIEIAAMhBAADwQAAAIEIAAMhBAABIQQAAIEIAAMhBAACMQQAAIEIAAMhBAAC0QQAAIEIAAMhBAADcQQAAIEIAAMhBAAACQgAAIEIAAMhBAAAWQgAAIEIAAMhBAAAqQgAAIEIAAMhBAAA+QgAAIEIAAMhBAAAgQAAANEIAAMhBAADwQAAANEIAAMhBAABIQQAANEIAAMhBAACMQQAANEIAAMhBAAC0QQAANEIAAMhBAADcQQAANEIAAMhBAAACQgAANEIAAMhBAAAWQgAANEIAAMhBAAAqQgAANEIAAMhBAAA+QgAANEIAAMhB",
        "encoding": "base64",
        "path": [
         "origins",
         "data"
        ]
       },
       {
        "data": "AAAAAAAAoEAAAAAAAAAAAAAAoEAAAAAAAAAAAAAAoEAAAAAAAAAAAAAAoEAAAAAAAAAAAAAAoEAAAAAAAAAAAAAAoEAAAAAAAAAAAAAAoEAAAAAAAAAAAAAAoEAAAAAAAAAAAAAAoEAAAAAAAAAAAAAAoEAAAAAAAAAAAAAAoEAAAAAAAAAAAAAAoEAAAAAAAAAAAAAAoEAAAAAAAAAAAAAAoEAAAAAAAAAAAAAAoEAAAAAAAAAAAAAAoEAAAAAAAAAAAAAAoEAAAAAAAAAAAAAAoEAAAAAAAAAAAAAAoEAAAAAAAAAAAAAAoEAAAAAAAAAAAAAAoEAAAAAAAAAAAAAAoEAAAAAAAAAAAAAAoEAAAAAAAAAAAAAAoEAAAAAAAAAAAAAAoEAAAAAAAAAAAAAAoEAAAAAAAAAAAAAAoEAAAAAAAAAAAAAAoEAAAAAAAAAAAAAAoEAAAAAAAAAAAAAAoEAAAAAAAAAAAAAAoEAAAAAAAAAAAAAAoEAAAAAAAAAAAAAAoEAAAAAAAAAAAAAAoEAAAAAAAAAAAAAAoEAAAAAAAAAAAAAAoEAAAAAAAAAAAAAAoEAAAAAAAAAAAAAAoEAAAAAAAAAAAAAAoEAAAAAAAAAAAAAAoEAAAAAAAAAAAAAAoEAAAAAAAAAAAAAAoEAAAAAAAAAAAAAAoEAAAAAAAAAAAAAAoEAAAAAAAAAAAAAAoEAAAAAAAAAAAAAAoEAAAAAAAAAAAAAAoEAAAAAAAAAAAAAAoEAAAAAAAAAAAAAAoEAAAAAAAAAAAAAAoEAAAAAAAAAAAAAAoEAAAAAAAAAAAAAAoEAAAAAAAAAAAAAAoEAAAAAAAAAAAAAAoEAAAAAAAAAAAAAAoEAAAAAAAAAAAAAAoEAAAAAAAAAAAAAAoEAAAAAAAAAAAAAAoEAAAAAAAAAAAAAAoEAAAAAAAAAAAAAAoEAAAAAAAAAAAAAAoEAAAAAAAAAAAAAAoEAAAAAAAAAAAAAAoEAAAAAAAAAAAAAAoEAAAAAAAAAAAAAAoEAAAAAAAAAAAAAAoEAAAAAAAAAAAAAAoEAAAAAAAAAAAAAAoEAAAAAAAAAAAAAAoEAAAAAAAAAAAAAAoEAAAAAAAAAAAAAAoEAAAAAAAAAAAAAAoEAAAAAAAAAAAAAAoEAAAAAAAAAAAAAAoEAAAAAAAAAAAAAAoEAAAAAAAAAAAAAAoEAAAAAAAAAAAAAAoEAAAAAAAAAAAAAAoEAAAAAAAAAAAAAAoEAAAAAAAAAAAAAAoEAAAAAAAAAAAAAAoEAAAAAAAAAAAAAAoEAAAAAAAAAAAAAAoEAAAAAAAAAAAAAAoEAAAAAAAAAAAAAAoEAAAAAAAAAAAAAAoEAAAAAAAAAAAAAAoEAAAAAAAAAAAAAAoEAAAAAAAAAAAAAAoEAAAAAAAAAAAAAAoEAAAAAAAAAAAAAAoEAAAAAAAAAAAAAAoEAAAAAAAAAAAAAAoEAAAAAAAAAAAAAAoEAAAAAAAAAAAAAAoEAAAAAAAAAAAAAAoEAAAAAAAAAAAAAAoEAAAAAAAAAAAAAAoEAAAAAAAAAAAAAAoEAAAAAAAAAAAAAAoEAAAAAA",
        "encoding": "base64",
        "path": [
         "vectors",
         "data"
        ]
       }
      ],
      "model_module": "k3d",
      "model_module_version": "2.8.2",
      "model_name": "ObjectModel",
      "state": {
       "_view_count": null,
       "_view_module": null,
       "_view_module_version": "",
       "_view_name": null,
       "colorLegend": false,
       "colors": {
        "dtype": "uint32",
        "shape": [
         100,
         2
        ]
       },
       "compression_level": 0,
       "head_color": 255,
       "head_size": 20,
       "id": 140385675124848,
       "label_size": 1,
       "labels": [],
       "line_width": 0.01,
       "model_matrix": {
        "dtype": "float32",
        "shape": [
         4,
         4
        ]
       },
       "name": "Vectors #1",
       "origin_color": 255,
       "origins": {
        "dtype": "float32",
        "shape": [
         100,
         3
        ]
       },
       "type": "Vectors",
       "use_head": true,
       "vectors": {
        "dtype": "float32",
        "shape": [
         100,
         3
        ]
       },
       "visible": true
      }
     },
     "841a9d62101f4a6391e11d560d5ee28a": {
      "model_module": "@jupyter-widgets/base",
      "model_module_version": "1.2.0",
      "model_name": "LayoutModel",
      "state": {}
     },
     "84520773bd5a4eb68cf53d21e18c71bc": {
      "model_module": "@jupyter-widgets/output",
      "model_module_version": "1.0.0",
      "model_name": "OutputModel",
      "state": {
       "layout": "IPY_MODEL_49f60b541ce74f2ab681ebb29abb784b",
       "outputs": [
        {
         "data": {
          "application/vnd.jupyter.widget-view+json": {
           "model_id": "e27ef215ca1144ccb92316d1c86e5d75",
           "version_major": 2,
           "version_minor": 0
          },
          "text/plain": "Plot(antialias=3, axes=['x', 'y', 'z'], axes_helper=1.0, background_color=16777215, camera=[2, -3, 0.2, 0.0, 0…"
         },
         "metadata": {},
         "output_type": "display_data"
        }
       ]
      }
     },
     "8625a3ea49e14e829bf4831e300d74ff": {
      "buffers": [
       {
        "data": "",
        "encoding": "base64",
        "path": [
         "colors",
         "data"
        ]
       },
       {
        "data": "AACAPwAAAAAAAAAAAAAAAAAAAAAAAIA/AAAAAAAAAAAAAAAAAAAAAAAAgD8AAAAAAAAAAAAAAAAAAAAAAACAPw==",
        "encoding": "base64",
        "path": [
         "model_matrix",
         "data"
        ]
       },
       {
        "data": "",
        "encoding": "base64",
        "path": [
         "opacities",
         "data"
        ]
       },
       {
        "data": "AAAgQAAAIEAAAMhBAADwQAAAIEAAAMhBAABIQQAAIEAAAMhBAACMQQAAIEAAAMhBAAC0QQAAIEAAAMhBAADcQQAAIEAAAMhBAAACQgAAIEAAAMhBAAAWQgAAIEAAAMhBAAAqQgAAIEAAAMhBAAA+QgAAIEAAAMhBAAAgQAAA8EAAAMhBAADwQAAA8EAAAMhBAABIQQAA8EAAAMhBAACMQQAA8EAAAMhBAAC0QQAA8EAAAMhBAADcQQAA8EAAAMhBAAACQgAA8EAAAMhBAAAWQgAA8EAAAMhBAAAqQgAA8EAAAMhBAAA+QgAA8EAAAMhBAAAgQAAASEEAAMhBAADwQAAASEEAAMhBAABIQQAASEEAAMhBAACMQQAASEEAAMhBAAC0QQAASEEAAMhBAADcQQAASEEAAMhBAAACQgAASEEAAMhBAAAWQgAASEEAAMhBAAAqQgAASEEAAMhBAAA+QgAASEEAAMhBAAAgQAAAjEEAAMhBAADwQAAAjEEAAMhBAABIQQAAjEEAAMhBAACMQQAAjEEAAMhBAAC0QQAAjEEAAMhBAADcQQAAjEEAAMhBAAACQgAAjEEAAMhBAAAWQgAAjEEAAMhBAAAqQgAAjEEAAMhBAAA+QgAAjEEAAMhBAAAgQAAAtEEAAMhBAADwQAAAtEEAAMhBAABIQQAAtEEAAMhBAACMQQAAtEEAAMhBAAC0QQAAtEEAAMhBAADcQQAAtEEAAMhBAAACQgAAtEEAAMhBAAAWQgAAtEEAAMhBAAAqQgAAtEEAAMhBAAA+QgAAtEEAAMhBAAAgQAAA3EEAAMhBAADwQAAA3EEAAMhBAABIQQAA3EEAAMhBAACMQQAA3EEAAMhBAAC0QQAA3EEAAMhBAADcQQAA3EEAAMhBAAACQgAA3EEAAMhBAAAWQgAA3EEAAMhBAAAqQgAA3EEAAMhBAAA+QgAA3EEAAMhBAAAgQAAAAkIAAMhBAADwQAAAAkIAAMhBAABIQQAAAkIAAMhBAACMQQAAAkIAAMhBAAC0QQAAAkIAAMhBAADcQQAAAkIAAMhBAAACQgAAAkIAAMhBAAAWQgAAAkIAAMhBAAAqQgAAAkIAAMhBAAA+QgAAAkIAAMhBAAAgQAAAFkIAAMhBAADwQAAAFkIAAMhBAABIQQAAFkIAAMhBAACMQQAAFkIAAMhBAAC0QQAAFkIAAMhBAADcQQAAFkIAAMhBAAACQgAAFkIAAMhBAAAWQgAAFkIAAMhBAAAqQgAAFkIAAMhBAAA+QgAAFkIAAMhBAAAgQAAAKkIAAMhBAADwQAAAKkIAAMhBAABIQQAAKkIAAMhBAACMQQAAKkIAAMhBAAC0QQAAKkIAAMhBAADcQQAAKkIAAMhBAAACQgAAKkIAAMhBAAAWQgAAKkIAAMhBAAAqQgAAKkIAAMhBAAA+QgAAKkIAAMhBAAAgQAAAPkIAAMhBAADwQAAAPkIAAMhBAABIQQAAPkIAAMhBAACMQQAAPkIAAMhBAAC0QQAAPkIAAMhBAADcQQAAPkIAAMhBAAACQgAAPkIAAMhBAAAWQgAAPkIAAMhBAAAqQgAAPkIAAMhBAAA+QgAAPkIAAMhB",
        "encoding": "base64",
        "path": [
         "positions",
         "data"
        ]
       }
      ],
      "model_module": "k3d",
      "model_module_version": "2.8.2",
      "model_name": "ObjectModel",
      "state": {
       "_view_count": null,
       "_view_module": null,
       "_view_module_version": "",
       "_view_name": null,
       "color": 5010096,
       "colorLegend": false,
       "colors": {
        "dtype": "uint32",
        "shape": [
         0
        ]
       },
       "compression_level": 0,
       "id": 140385676406848,
       "mesh_detail": 2,
       "model_matrix": {
        "dtype": "float32",
        "shape": [
         4,
         4
        ]
       },
       "name": "Points #1",
       "opacities": {
        "dtype": "float32",
        "shape": [
         0
        ]
       },
       "opacity": 1,
       "point_size": 1.2499999999999996,
       "positions": {
        "dtype": "float32",
        "shape": [
         100,
         3
        ]
       },
       "shader": "3dSpecular",
       "type": "Points",
       "visible": true
      }
     },
     "88fbcd52638f408f96e679bd8d3f9140": {
      "buffers": [
       {
        "data": "UoTdAFKE3QBShN0AUoTdAFKE3QBShN0AUoTdAFKE3QBShN0AUoTdAFKE3QBShN0AUoTdAFKE3QBShN0AUoTdAFKE3QBShN0AUoTdAFKE3QBShN0AUoTdAFKE3QBShN0AUoTdAFKE3QBShN0AUoTdAFKE3QBShN0AUoTdAFKE3QBShN0AUoTdAFKE3QBShN0AUoTdAFKE3QBShN0AUoTdAFKE3QBShN0AUoTdAFKE3QBShN0AUoTdAFKE3QBShN0AUoTdAFKE3QBShN0AUoTdAFKE3QBShN0AUoTdAFKE3QBShN0AUoTdAFKE3QBShN0AUoTdAFKE3QBShN0AUoTdAFKE3QBShN0AUoTdAFKE3QBShN0AUoTdAFKE3QBShN0AUoTdAFKE3QBShN0AUoTdAFKE3QBShN0AUoTdAFKE3QBShN0AUoTdAFKE3QBShN0AUoTdAFKE3QBShN0AUoTdAFKE3QBShN0AUoTdAFKE3QBShN0AUoTdAFKE3QBShN0AUoTdAFKE3QBShN0AUoTdAFKE3QBShN0AUoTdAFKE3QBShN0AUoTdAFKE3QBShN0AUoTdAFKE3QBShN0AUoTdAFKE3QBShN0AUoTdAFKE3QBShN0AUoTdAFKE3QBShN0AUoTdAFKE3QBShN0AUoTdAFKE3QBShN0AUoTdAFKE3QBShN0AUoTdAFKE3QBShN0AUoTdAFKE3QBShN0AUoTdAFKE3QBShN0AUoTdAFKE3QBShN0AUoTdAFKE3QBShN0AUoTdAFKE3QBShN0AUoTdAFKE3QBShN0AUoTdAFKE3QBShN0AUoTdAFKE3QBShN0AUoTdAFKE3QBShN0AUoTdAFKE3QBShN0AUoTdAFKE3QBShN0AUoTdAFKE3QBShN0AUoTdAFKE3QBShN0AUoTdAFKE3QBShN0AUoTdAFKE3QBShN0AUoTdAFKE3QBShN0AUoTdAFKE3QBShN0AUoTdAFKE3QBShN0AUoTdAFKE3QBShN0AUoTdAFKE3QBShN0AUoTdAFKE3QBShN0AUoTdAFKE3QBShN0AUoTdAFKE3QA=",
        "encoding": "base64",
        "path": [
         "colors",
         "data"
        ]
       },
       {
        "data": "AACAPwAAAAAAAAAAAAAAAAAAAAAAAIA/AAAAAAAAAAAAAAAAAAAAAAAAgD8AAAAAAAAAAAAAAAAAAAAAAACAPw==",
        "encoding": "base64",
        "path": [
         "model_matrix",
         "data"
        ]
       },
       {
        "data": "AAAgQAAAAAAAAMhBAADwQAAAAAAAAMhBAABIQQAAAAAAAMhBAACMQQAAAAAAAMhBAAC0QQAAAAAAAMhBAADcQQAAAAAAAMhBAAACQgAAAAAAAMhBAAAWQgAAAAAAAMhBAAAqQgAAAAAAAMhBAAA+QgAAAAAAAMhBAAAgQAAAoEAAAMhBAADwQAAAoEAAAMhBAABIQQAAoEAAAMhBAACMQQAAoEAAAMhBAAC0QQAAoEAAAMhBAADcQQAAoEAAAMhBAAACQgAAoEAAAMhBAAAWQgAAoEAAAMhBAAAqQgAAoEAAAMhBAAA+QgAAoEAAAMhBAAAgQAAAIEEAAMhBAADwQAAAIEEAAMhBAABIQQAAIEEAAMhBAACMQQAAIEEAAMhBAAC0QQAAIEEAAMhBAADcQQAAIEEAAMhBAAACQgAAIEEAAMhBAAAWQgAAIEEAAMhBAAAqQgAAIEEAAMhBAAA+QgAAIEEAAMhBAAAgQAAAcEEAAMhBAADwQAAAcEEAAMhBAABIQQAAcEEAAMhBAACMQQAAcEEAAMhBAAC0QQAAcEEAAMhBAADcQQAAcEEAAMhBAAACQgAAcEEAAMhBAAAWQgAAcEEAAMhBAAAqQgAAcEEAAMhBAAA+QgAAcEEAAMhBAAAgQAAAoEEAAMhBAADwQAAAoEEAAMhBAABIQQAAoEEAAMhBAACMQQAAoEEAAMhBAAC0QQAAoEEAAMhBAADcQQAAoEEAAMhBAAACQgAAoEEAAMhBAAAWQgAAoEEAAMhBAAAqQgAAoEEAAMhBAAA+QgAAoEEAAMhBAAAgQAAAyEEAAMhBAADwQAAAyEEAAMhBAABIQQAAyEEAAMhBAACMQQAAyEEAAMhBAAC0QQAAyEEAAMhBAADcQQAAyEEAAMhBAAACQgAAyEEAAMhBAAAWQgAAyEEAAMhBAAAqQgAAyEEAAMhBAAA+QgAAyEEAAMhBAAAgQAAA8EEAAMhBAADwQAAA8EEAAMhBAABIQQAA8EEAAMhBAACMQQAA8EEAAMhBAAC0QQAA8EEAAMhBAADcQQAA8EEAAMhBAAACQgAA8EEAAMhBAAAWQgAA8EEAAMhBAAAqQgAA8EEAAMhBAAA+QgAA8EEAAMhBAAAgQAAADEIAAMhBAADwQAAADEIAAMhBAABIQQAADEIAAMhBAACMQQAADEIAAMhBAAC0QQAADEIAAMhBAADcQQAADEIAAMhBAAACQgAADEIAAMhBAAAWQgAADEIAAMhBAAAqQgAADEIAAMhBAAA+QgAADEIAAMhBAAAgQAAAIEIAAMhBAADwQAAAIEIAAMhBAABIQQAAIEIAAMhBAACMQQAAIEIAAMhBAAC0QQAAIEIAAMhBAADcQQAAIEIAAMhBAAACQgAAIEIAAMhBAAAWQgAAIEIAAMhBAAAqQgAAIEIAAMhBAAA+QgAAIEIAAMhBAAAgQAAANEIAAMhBAADwQAAANEIAAMhBAABIQQAANEIAAMhBAACMQQAANEIAAMhBAAC0QQAANEIAAMhBAADcQQAANEIAAMhBAAACQgAANEIAAMhBAAAWQgAANEIAAMhBAAAqQgAANEIAAMhBAAA+QgAANEIAAMhB",
        "encoding": "base64",
        "path": [
         "origins",
         "data"
        ]
       },
       {
        "data": "AAAAAAAAoEAAAAAAAAAAAAAAoEAAAAAAAAAAAAAAoEAAAAAAAAAAAAAAoEAAAAAAAAAAAAAAoEAAAAAAAAAAAAAAoEAAAAAAAAAAAAAAoEAAAAAAAAAAAAAAoEAAAAAAAAAAAAAAoEAAAAAAAAAAAAAAoEAAAAAAAAAAAAAAoEAAAAAAAAAAAAAAoEAAAAAAAAAAAAAAoEAAAAAAAAAAAAAAoEAAAAAAAAAAAAAAoEAAAAAAAAAAAAAAoEAAAAAAAAAAAAAAoEAAAAAAAAAAAAAAoEAAAAAAAAAAAAAAoEAAAAAAAAAAAAAAoEAAAAAAAAAAAAAAoEAAAAAAAAAAAAAAoEAAAAAAAAAAAAAAoEAAAAAAAAAAAAAAoEAAAAAAAAAAAAAAoEAAAAAAAAAAAAAAoEAAAAAAAAAAAAAAoEAAAAAAAAAAAAAAoEAAAAAAAAAAAAAAoEAAAAAAAAAAAAAAoEAAAAAAAAAAAAAAoEAAAAAAAAAAAAAAoEAAAAAAAAAAAAAAoEAAAAAAAAAAAAAAoEAAAAAAAAAAAAAAoEAAAAAAAAAAAAAAoEAAAAAAAAAAAAAAoEAAAAAAAAAAAAAAoEAAAAAAAAAAAAAAoEAAAAAAAAAAAAAAoEAAAAAAAAAAAAAAoEAAAAAAAAAAAAAAoEAAAAAAAAAAAAAAoEAAAAAAAAAAAAAAoEAAAAAAAAAAAAAAoEAAAAAAAAAAAAAAoEAAAAAAAAAAAAAAoEAAAAAAAAAAAAAAoEAAAAAAAAAAAAAAoEAAAAAAAAAAAAAAoEAAAAAAAAAAAAAAoEAAAAAAAAAAAAAAoEAAAAAAAAAAAAAAoEAAAAAAAAAAAAAAoEAAAAAAAAAAAAAAoEAAAAAAAAAAAAAAoEAAAAAAAAAAAAAAoEAAAAAAAAAAAAAAoEAAAAAAAAAAAAAAoEAAAAAAAAAAAAAAoEAAAAAAAAAAAAAAoEAAAAAAAAAAAAAAoEAAAAAAAAAAAAAAoEAAAAAAAAAAAAAAoEAAAAAAAAAAAAAAoEAAAAAAAAAAAAAAoEAAAAAAAAAAAAAAoEAAAAAAAAAAAAAAoEAAAAAAAAAAAAAAoEAAAAAAAAAAAAAAoEAAAAAAAAAAAAAAoEAAAAAAAAAAAAAAoEAAAAAAAAAAAAAAoEAAAAAAAAAAAAAAoEAAAAAAAAAAAAAAoEAAAAAAAAAAAAAAoEAAAAAAAAAAAAAAoEAAAAAAAAAAAAAAoEAAAAAAAAAAAAAAoEAAAAAAAAAAAAAAoEAAAAAAAAAAAAAAoEAAAAAAAAAAAAAAoEAAAAAAAAAAAAAAoEAAAAAAAAAAAAAAoEAAAAAAAAAAAAAAoEAAAAAAAAAAAAAAoEAAAAAAAAAAAAAAoEAAAAAAAAAAAAAAoEAAAAAAAAAAAAAAoEAAAAAAAAAAAAAAoEAAAAAAAAAAAAAAoEAAAAAAAAAAAAAAoEAAAAAAAAAAAAAAoEAAAAAAAAAAAAAAoEAAAAAAAAAAAAAAoEAAAAAAAAAAAAAAoEAAAAAAAAAAAAAAoEAAAAAAAAAAAAAAoEAAAAAAAAAAAAAAoEAAAAAAAAAAAAAAoEAAAAAA",
        "encoding": "base64",
        "path": [
         "vectors",
         "data"
        ]
       }
      ],
      "model_module": "k3d",
      "model_module_version": "2.8.2",
      "model_name": "ObjectModel",
      "state": {
       "_view_count": null,
       "_view_module": null,
       "_view_module_version": "",
       "_view_name": null,
       "colorLegend": false,
       "colors": {
        "dtype": "uint32",
        "shape": [
         100,
         2
        ]
       },
       "compression_level": 0,
       "head_color": 255,
       "head_size": 20,
       "id": 140385675369152,
       "label_size": 1,
       "labels": [],
       "line_width": 0.01,
       "model_matrix": {
        "dtype": "float32",
        "shape": [
         4,
         4
        ]
       },
       "name": "Vectors #1",
       "origin_color": 255,
       "origins": {
        "dtype": "float32",
        "shape": [
         100,
         3
        ]
       },
       "type": "Vectors",
       "use_head": true,
       "vectors": {
        "dtype": "float32",
        "shape": [
         100,
         3
        ]
       },
       "visible": true
      }
     },
     "8a26c96384d64fc78b2a6f7652023c54": {
      "buffers": [
       {
        "data": "",
        "encoding": "base64",
        "path": [
         "colors",
         "data"
        ]
       },
       {
        "data": "AACAPwAAAAAAAAAAAAAAAAAAAAAAAIA/AAAAAAAAAAAAAAAAAAAAAAAAgD8AAAAAAAAAAAAAAAAAAAAAAACAPw==",
        "encoding": "base64",
        "path": [
         "model_matrix",
         "data"
        ]
       },
       {
        "data": "",
        "encoding": "base64",
        "path": [
         "opacities",
         "data"
        ]
       },
       {
        "data": "AAAgQAAAIEAAAMhBAADwQAAAIEAAAMhBAABIQQAAIEAAAMhBAACMQQAAIEAAAMhBAAC0QQAAIEAAAMhBAADcQQAAIEAAAMhBAAACQgAAIEAAAMhBAAAWQgAAIEAAAMhBAAAqQgAAIEAAAMhBAAA+QgAAIEAAAMhBAAAgQAAA8EAAAMhBAADwQAAA8EAAAMhBAABIQQAA8EAAAMhBAACMQQAA8EAAAMhBAAC0QQAA8EAAAMhBAADcQQAA8EAAAMhBAAACQgAA8EAAAMhBAAAWQgAA8EAAAMhBAAAqQgAA8EAAAMhBAAA+QgAA8EAAAMhBAAAgQAAASEEAAMhBAADwQAAASEEAAMhBAABIQQAASEEAAMhBAACMQQAASEEAAMhBAAC0QQAASEEAAMhBAADcQQAASEEAAMhBAAACQgAASEEAAMhBAAAWQgAASEEAAMhBAAAqQgAASEEAAMhBAAA+QgAASEEAAMhBAAAgQAAAjEEAAMhBAADwQAAAjEEAAMhBAABIQQAAjEEAAMhBAACMQQAAjEEAAMhBAAC0QQAAjEEAAMhBAADcQQAAjEEAAMhBAAACQgAAjEEAAMhBAAAWQgAAjEEAAMhBAAAqQgAAjEEAAMhBAAA+QgAAjEEAAMhBAAAgQAAAtEEAAMhBAADwQAAAtEEAAMhBAABIQQAAtEEAAMhBAACMQQAAtEEAAMhBAAC0QQAAtEEAAMhBAADcQQAAtEEAAMhBAAACQgAAtEEAAMhBAAAWQgAAtEEAAMhBAAAqQgAAtEEAAMhBAAA+QgAAtEEAAMhBAAAgQAAA3EEAAMhBAADwQAAA3EEAAMhBAABIQQAA3EEAAMhBAACMQQAA3EEAAMhBAAC0QQAA3EEAAMhBAADcQQAA3EEAAMhBAAACQgAA3EEAAMhBAAAWQgAA3EEAAMhBAAAqQgAA3EEAAMhBAAA+QgAA3EEAAMhBAAAgQAAAAkIAAMhBAADwQAAAAkIAAMhBAABIQQAAAkIAAMhBAACMQQAAAkIAAMhBAAC0QQAAAkIAAMhBAADcQQAAAkIAAMhBAAACQgAAAkIAAMhBAAAWQgAAAkIAAMhBAAAqQgAAAkIAAMhBAAA+QgAAAkIAAMhBAAAgQAAAFkIAAMhBAADwQAAAFkIAAMhBAABIQQAAFkIAAMhBAACMQQAAFkIAAMhBAAC0QQAAFkIAAMhBAADcQQAAFkIAAMhBAAACQgAAFkIAAMhBAAAWQgAAFkIAAMhBAAAqQgAAFkIAAMhBAAA+QgAAFkIAAMhBAAAgQAAAKkIAAMhBAADwQAAAKkIAAMhBAABIQQAAKkIAAMhBAACMQQAAKkIAAMhBAAC0QQAAKkIAAMhBAADcQQAAKkIAAMhBAAACQgAAKkIAAMhBAAAWQgAAKkIAAMhBAAAqQgAAKkIAAMhBAAA+QgAAKkIAAMhBAAAgQAAAPkIAAMhBAADwQAAAPkIAAMhBAABIQQAAPkIAAMhBAACMQQAAPkIAAMhBAAC0QQAAPkIAAMhBAADcQQAAPkIAAMhBAAACQgAAPkIAAMhBAAAWQgAAPkIAAMhBAAAqQgAAPkIAAMhBAAA+QgAAPkIAAMhB",
        "encoding": "base64",
        "path": [
         "positions",
         "data"
        ]
       }
      ],
      "model_module": "k3d",
      "model_module_version": "2.8.2",
      "model_name": "ObjectModel",
      "state": {
       "_view_count": null,
       "_view_module": null,
       "_view_module_version": "",
       "_view_name": null,
       "color": 5010096,
       "colorLegend": false,
       "colors": {
        "dtype": "uint32",
        "shape": [
         0
        ]
       },
       "compression_level": 0,
       "id": 140385681553440,
       "mesh_detail": 2,
       "model_matrix": {
        "dtype": "float32",
        "shape": [
         4,
         4
        ]
       },
       "name": "Points #1",
       "opacities": {
        "dtype": "float32",
        "shape": [
         0
        ]
       },
       "opacity": 1,
       "point_size": 1.2499999999999996,
       "positions": {
        "dtype": "float32",
        "shape": [
         100,
         3
        ]
       },
       "shader": "3dSpecular",
       "type": "Points",
       "visible": true
      }
     },
     "8a9ebfe34b794681aa0cf3a75d6318a8": {
      "buffers": [
       {
        "data": "",
        "encoding": "base64",
        "path": [
         "colors",
         "data"
        ]
       },
       {
        "data": "AACAPwAAAAAAAAAAAAAAAAAAAAAAAIA/AAAAAAAAAAAAAAAAAAAAAAAAgD8AAAAAAAAAAAAAAAAAAAAAAACAPw==",
        "encoding": "base64",
        "path": [
         "model_matrix",
         "data"
        ]
       },
       {
        "data": "",
        "encoding": "base64",
        "path": [
         "opacities",
         "data"
        ]
       },
       {
        "data": "AAAgQAAAIEAAAMhBAADwQAAAIEAAAMhBAABIQQAAIEAAAMhBAACMQQAAIEAAAMhBAAC0QQAAIEAAAMhBAADcQQAAIEAAAMhBAAACQgAAIEAAAMhBAAAWQgAAIEAAAMhBAAAqQgAAIEAAAMhBAAA+QgAAIEAAAMhBAAAgQAAA8EAAAMhBAADwQAAA8EAAAMhBAABIQQAA8EAAAMhBAACMQQAA8EAAAMhBAAC0QQAA8EAAAMhBAADcQQAA8EAAAMhBAAACQgAA8EAAAMhBAAAWQgAA8EAAAMhBAAAqQgAA8EAAAMhBAAA+QgAA8EAAAMhBAAAgQAAASEEAAMhBAADwQAAASEEAAMhBAABIQQAASEEAAMhBAACMQQAASEEAAMhBAAC0QQAASEEAAMhBAADcQQAASEEAAMhBAAACQgAASEEAAMhBAAAWQgAASEEAAMhBAAAqQgAASEEAAMhBAAA+QgAASEEAAMhBAAAgQAAAjEEAAMhBAADwQAAAjEEAAMhBAABIQQAAjEEAAMhBAACMQQAAjEEAAMhBAAC0QQAAjEEAAMhBAADcQQAAjEEAAMhBAAACQgAAjEEAAMhBAAAWQgAAjEEAAMhBAAAqQgAAjEEAAMhBAAA+QgAAjEEAAMhBAAAgQAAAtEEAAMhBAADwQAAAtEEAAMhBAABIQQAAtEEAAMhBAACMQQAAtEEAAMhBAAC0QQAAtEEAAMhBAADcQQAAtEEAAMhBAAACQgAAtEEAAMhBAAAWQgAAtEEAAMhBAAAqQgAAtEEAAMhBAAA+QgAAtEEAAMhBAAAgQAAA3EEAAMhBAADwQAAA3EEAAMhBAABIQQAA3EEAAMhBAACMQQAA3EEAAMhBAAC0QQAA3EEAAMhBAADcQQAA3EEAAMhBAAACQgAA3EEAAMhBAAAWQgAA3EEAAMhBAAAqQgAA3EEAAMhBAAA+QgAA3EEAAMhBAAAgQAAAAkIAAMhBAADwQAAAAkIAAMhBAABIQQAAAkIAAMhBAACMQQAAAkIAAMhBAAC0QQAAAkIAAMhBAADcQQAAAkIAAMhBAAACQgAAAkIAAMhBAAAWQgAAAkIAAMhBAAAqQgAAAkIAAMhBAAA+QgAAAkIAAMhBAAAgQAAAFkIAAMhBAADwQAAAFkIAAMhBAABIQQAAFkIAAMhBAACMQQAAFkIAAMhBAAC0QQAAFkIAAMhBAADcQQAAFkIAAMhBAAACQgAAFkIAAMhBAAAWQgAAFkIAAMhBAAAqQgAAFkIAAMhBAAA+QgAAFkIAAMhBAAAgQAAAKkIAAMhBAADwQAAAKkIAAMhBAABIQQAAKkIAAMhBAACMQQAAKkIAAMhBAAC0QQAAKkIAAMhBAADcQQAAKkIAAMhBAAACQgAAKkIAAMhBAAAWQgAAKkIAAMhBAAAqQgAAKkIAAMhBAAA+QgAAKkIAAMhBAAAgQAAAPkIAAMhBAADwQAAAPkIAAMhBAABIQQAAPkIAAMhBAACMQQAAPkIAAMhBAAC0QQAAPkIAAMhBAADcQQAAPkIAAMhBAAACQgAAPkIAAMhBAAAWQgAAPkIAAMhBAAAqQgAAPkIAAMhBAAA+QgAAPkIAAMhB",
        "encoding": "base64",
        "path": [
         "positions",
         "data"
        ]
       }
      ],
      "model_module": "k3d",
      "model_module_version": "2.8.2",
      "model_name": "ObjectModel",
      "state": {
       "_view_count": null,
       "_view_module": null,
       "_view_module_version": "",
       "_view_name": null,
       "color": 5010096,
       "colorLegend": false,
       "colors": {
        "dtype": "uint32",
        "shape": [
         0
        ]
       },
       "compression_level": 0,
       "id": 140385679453392,
       "mesh_detail": 2,
       "model_matrix": {
        "dtype": "float32",
        "shape": [
         4,
         4
        ]
       },
       "name": "Points #1",
       "opacities": {
        "dtype": "float32",
        "shape": [
         0
        ]
       },
       "opacity": 1,
       "point_size": 1.2499999999999996,
       "positions": {
        "dtype": "float32",
        "shape": [
         100,
         3
        ]
       },
       "shader": "3dSpecular",
       "type": "Points",
       "visible": true
      }
     },
     "92712dacf7a64bec9864c4410eeed2d0": {
      "model_module": "k3d",
      "model_module_version": "2.8.2",
      "model_name": "PlotModel",
      "state": {
       "_backend_version": "2.8.2",
       "_dom_classes": [],
       "_view_count": null,
       "antialias": 3,
       "auto_rendering": true,
       "axes": [
        "x\\,\\text{(nm)}",
        "y\\,\\text{(nm)}",
        "z\\,\\text{(nm)}"
       ],
       "axes_helper": 1,
       "background_color": 16777215,
       "camera": [
        30.47327463401452,
        7.510111287869677,
        47.189193849972455,
        25,
        25,
        25,
        -0.36619351956743623,
        0.6450971901452288,
        0.6706354609574028
       ],
       "camera_animation": [],
       "camera_auto_fit": true,
       "camera_fov": 60,
       "camera_mode": "trackball",
       "camera_no_pan": false,
       "camera_no_rotate": false,
       "camera_no_zoom": false,
       "clipping_planes": [],
       "colorbar_object_id": -1,
       "colorbar_scientific": false,
       "fps": 25,
       "fps_meter": false,
       "grid": [
        -1,
        -1,
        -1,
        1,
        1,
        1
       ],
       "grid_auto_fit": true,
       "grid_visible": true,
       "height": 512,
       "layout": "IPY_MODEL_15c3300a8149420cbd07bfa49258bb29",
       "lighting": 1.5,
       "manipulate_mode": "translate",
       "menu_visibility": true,
       "mode": "view",
       "name": null,
       "object_ids": [
        140385634604752,
        140385676406848
       ],
       "rendering_steps": 1,
       "screenshot": "",
       "screenshot_scale": 2,
       "snapshot": "",
       "snapshot_include_js": true,
       "time": 0,
       "voxel_paint_color": 0
      }
     },
     "96500360a17f458e994d30f3ef2f0f04": {
      "buffers": [
       {
        "data": "UoTdAFKE3QBShN0AUoTdAFKE3QBShN0AUoTdAFKE3QBShN0AUoTdAFKE3QBShN0AUoTdAFKE3QBShN0AUoTdAFKE3QBShN0AUoTdAFKE3QBShN0AUoTdAFKE3QBShN0AUoTdAFKE3QBShN0AUoTdAFKE3QBShN0AUoTdAFKE3QBShN0AUoTdAFKE3QBShN0AUoTdAFKE3QBShN0AUoTdAFKE3QBShN0AUoTdAFKE3QBShN0AUoTdAFKE3QBShN0AUoTdAFKE3QBShN0AUoTdAFKE3QBShN0AUoTdAFKE3QBShN0AUoTdAFKE3QBShN0AUoTdAFKE3QBShN0AUoTdAFKE3QBShN0AUoTdAFKE3QBShN0AUoTdAFKE3QBShN0AUoTdAFKE3QBShN0AUoTdAFKE3QBShN0AUoTdAFKE3QBShN0AUoTdAFKE3QBShN0AUoTdAFKE3QBShN0AUoTdAFKE3QBShN0AUoTdAFKE3QBShN0AUoTdAFKE3QBShN0AUoTdAFKE3QBShN0AUoTdAFKE3QBShN0AUoTdAFKE3QBShN0AUoTdAFKE3QBShN0AUoTdAFKE3QBShN0AUoTdAFKE3QBShN0AUoTdAFKE3QBShN0AUoTdAFKE3QBShN0AUoTdAFKE3QBShN0AUoTdAFKE3QBShN0AUoTdAFKE3QBShN0AUoTdAFKE3QBShN0AUoTdAFKE3QBShN0AUoTdAFKE3QBShN0AUoTdAFKE3QBShN0AUoTdAFKE3QBShN0AUoTdAFKE3QBShN0AUoTdAFKE3QBShN0AUoTdAFKE3QBShN0AUoTdAFKE3QBShN0AUoTdAFKE3QBShN0AUoTdAFKE3QBShN0AUoTdAFKE3QBShN0AUoTdAFKE3QBShN0AUoTdAFKE3QBShN0AUoTdAFKE3QBShN0AUoTdAFKE3QBShN0AUoTdAFKE3QBShN0AUoTdAFKE3QBShN0AUoTdAFKE3QBShN0AUoTdAFKE3QBShN0AUoTdAFKE3QBShN0AUoTdAFKE3QBShN0AUoTdAFKE3QBShN0AUoTdAFKE3QA=",
        "encoding": "base64",
        "path": [
         "colors",
         "data"
        ]
       },
       {
        "data": "AACAPwAAAAAAAAAAAAAAAAAAAAAAAIA/AAAAAAAAAAAAAAAAAAAAAAAAgD8AAAAAAAAAAAAAAAAAAAAAAACAPw==",
        "encoding": "base64",
        "path": [
         "model_matrix",
         "data"
        ]
       },
       {
        "data": "AAAgQAAAAAAAAMhBAADwQAAAAAAAAMhBAABIQQAAAAAAAMhBAACMQQAAAAAAAMhBAAC0QQAAAAAAAMhBAADcQQAAAAAAAMhBAAACQgAAAAAAAMhBAAAWQgAAAAAAAMhBAAAqQgAAAAAAAMhBAAA+QgAAAAAAAMhBAAAgQAAAoEAAAMhBAADwQAAAoEAAAMhBAABIQQAAoEAAAMhBAACMQQAAoEAAAMhBAAC0QQAAoEAAAMhBAADcQQAAoEAAAMhBAAACQgAAoEAAAMhBAAAWQgAAoEAAAMhBAAAqQgAAoEAAAMhBAAA+QgAAoEAAAMhBAAAgQAAAIEEAAMhBAADwQAAAIEEAAMhBAABIQQAAIEEAAMhBAACMQQAAIEEAAMhBAAC0QQAAIEEAAMhBAADcQQAAIEEAAMhBAAACQgAAIEEAAMhBAAAWQgAAIEEAAMhBAAAqQgAAIEEAAMhBAAA+QgAAIEEAAMhBAAAgQAAAcEEAAMhBAADwQAAAcEEAAMhBAABIQQAAcEEAAMhBAACMQQAAcEEAAMhBAAC0QQAAcEEAAMhBAADcQQAAcEEAAMhBAAACQgAAcEEAAMhBAAAWQgAAcEEAAMhBAAAqQgAAcEEAAMhBAAA+QgAAcEEAAMhBAAAgQAAAoEEAAMhBAADwQAAAoEEAAMhBAABIQQAAoEEAAMhBAACMQQAAoEEAAMhBAAC0QQAAoEEAAMhBAADcQQAAoEEAAMhBAAACQgAAoEEAAMhBAAAWQgAAoEEAAMhBAAAqQgAAoEEAAMhBAAA+QgAAoEEAAMhBAAAgQAAAyEEAAMhBAADwQAAAyEEAAMhBAABIQQAAyEEAAMhBAACMQQAAyEEAAMhBAAC0QQAAyEEAAMhBAADcQQAAyEEAAMhBAAACQgAAyEEAAMhBAAAWQgAAyEEAAMhBAAAqQgAAyEEAAMhBAAA+QgAAyEEAAMhBAAAgQAAA8EEAAMhBAADwQAAA8EEAAMhBAABIQQAA8EEAAMhBAACMQQAA8EEAAMhBAAC0QQAA8EEAAMhBAADcQQAA8EEAAMhBAAACQgAA8EEAAMhBAAAWQgAA8EEAAMhBAAAqQgAA8EEAAMhBAAA+QgAA8EEAAMhBAAAgQAAADEIAAMhBAADwQAAADEIAAMhBAABIQQAADEIAAMhBAACMQQAADEIAAMhBAAC0QQAADEIAAMhBAADcQQAADEIAAMhBAAACQgAADEIAAMhBAAAWQgAADEIAAMhBAAAqQgAADEIAAMhBAAA+QgAADEIAAMhBAAAgQAAAIEIAAMhBAADwQAAAIEIAAMhBAABIQQAAIEIAAMhBAACMQQAAIEIAAMhBAAC0QQAAIEIAAMhBAADcQQAAIEIAAMhBAAACQgAAIEIAAMhBAAAWQgAAIEIAAMhBAAAqQgAAIEIAAMhBAAA+QgAAIEIAAMhBAAAgQAAANEIAAMhBAADwQAAANEIAAMhBAABIQQAANEIAAMhBAACMQQAANEIAAMhBAAC0QQAANEIAAMhBAADcQQAANEIAAMhBAAACQgAANEIAAMhBAAAWQgAANEIAAMhBAAAqQgAANEIAAMhBAAA+QgAANEIAAMhB",
        "encoding": "base64",
        "path": [
         "origins",
         "data"
        ]
       },
       {
        "data": "AAAAAAAAoEAAAAAAAAAAAAAAoEAAAAAAAAAAAAAAoEAAAAAAAAAAAAAAoEAAAAAAAAAAAAAAoEAAAAAAAAAAAAAAoEAAAAAAAAAAAAAAoEAAAAAAAAAAAAAAoEAAAAAAAAAAAAAAoEAAAAAAAAAAAAAAoEAAAAAAAAAAAAAAoEAAAAAAAAAAAAAAoEAAAAAAAAAAAAAAoEAAAAAAAAAAAAAAoEAAAAAAAAAAAAAAoEAAAAAAAAAAAAAAoEAAAAAAAAAAAAAAoEAAAAAAAAAAAAAAoEAAAAAAAAAAAAAAoEAAAAAAAAAAAAAAoEAAAAAAAAAAAAAAoEAAAAAAAAAAAAAAoEAAAAAAAAAAAAAAoEAAAAAAAAAAAAAAoEAAAAAAAAAAAAAAoEAAAAAAAAAAAAAAoEAAAAAAAAAAAAAAoEAAAAAAAAAAAAAAoEAAAAAAAAAAAAAAoEAAAAAAAAAAAAAAoEAAAAAAAAAAAAAAoEAAAAAAAAAAAAAAoEAAAAAAAAAAAAAAoEAAAAAAAAAAAAAAoEAAAAAAAAAAAAAAoEAAAAAAAAAAAAAAoEAAAAAAAAAAAAAAoEAAAAAAAAAAAAAAoEAAAAAAAAAAAAAAoEAAAAAAAAAAAAAAoEAAAAAAAAAAAAAAoEAAAAAAAAAAAAAAoEAAAAAAAAAAAAAAoEAAAAAAAAAAAAAAoEAAAAAAAAAAAAAAoEAAAAAAAAAAAAAAoEAAAAAAAAAAAAAAoEAAAAAAAAAAAAAAoEAAAAAAAAAAAAAAoEAAAAAAAAAAAAAAoEAAAAAAAAAAAAAAoEAAAAAAAAAAAAAAoEAAAAAAAAAAAAAAoEAAAAAAAAAAAAAAoEAAAAAAAAAAAAAAoEAAAAAAAAAAAAAAoEAAAAAAAAAAAAAAoEAAAAAAAAAAAAAAoEAAAAAAAAAAAAAAoEAAAAAAAAAAAAAAoEAAAAAAAAAAAAAAoEAAAAAAAAAAAAAAoEAAAAAAAAAAAAAAoEAAAAAAAAAAAAAAoEAAAAAAAAAAAAAAoEAAAAAAAAAAAAAAoEAAAAAAAAAAAAAAoEAAAAAAAAAAAAAAoEAAAAAAAAAAAAAAoEAAAAAAAAAAAAAAoEAAAAAAAAAAAAAAoEAAAAAAAAAAAAAAoEAAAAAAAAAAAAAAoEAAAAAAAAAAAAAAoEAAAAAAAAAAAAAAoEAAAAAAAAAAAAAAoEAAAAAAAAAAAAAAoEAAAAAAAAAAAAAAoEAAAAAAAAAAAAAAoEAAAAAAAAAAAAAAoEAAAAAAAAAAAAAAoEAAAAAAAAAAAAAAoEAAAAAAAAAAAAAAoEAAAAAAAAAAAAAAoEAAAAAAAAAAAAAAoEAAAAAAAAAAAAAAoEAAAAAAAAAAAAAAoEAAAAAAAAAAAAAAoEAAAAAAAAAAAAAAoEAAAAAAAAAAAAAAoEAAAAAAAAAAAAAAoEAAAAAAAAAAAAAAoEAAAAAAAAAAAAAAoEAAAAAAAAAAAAAAoEAAAAAAAAAAAAAAoEAAAAAAAAAAAAAAoEAAAAAAAAAAAAAAoEAAAAAAAAAAAAAAoEAAAAAAAAAAAAAAoEAAAAAAAAAAAAAAoEAAAAAA",
        "encoding": "base64",
        "path": [
         "vectors",
         "data"
        ]
       }
      ],
      "model_module": "k3d",
      "model_module_version": "2.8.2",
      "model_name": "ObjectModel",
      "state": {
       "_view_count": null,
       "_view_module": null,
       "_view_module_version": "",
       "_view_name": null,
       "colorLegend": false,
       "colors": {
        "dtype": "uint32",
        "shape": [
         100,
         2
        ]
       },
       "compression_level": 0,
       "head_color": 255,
       "head_size": 10,
       "id": 140385634604752,
       "label_size": 1,
       "labels": [],
       "line_width": 0.01,
       "model_matrix": {
        "dtype": "float32",
        "shape": [
         4,
         4
        ]
       },
       "name": "Vectors #1",
       "origin_color": 255,
       "origins": {
        "dtype": "float32",
        "shape": [
         100,
         3
        ]
       },
       "type": "Vectors",
       "use_head": true,
       "vectors": {
        "dtype": "float32",
        "shape": [
         100,
         3
        ]
       },
       "visible": true
      }
     },
     "a3321a6952fc439bb851136e2198b976": {
      "model_module": "@jupyter-widgets/base",
      "model_module_version": "1.2.0",
      "model_name": "LayoutModel",
      "state": {}
     },
     "a433dda3578e4ef7a6249c15a5bfc409": {
      "buffers": [
       {
        "data": "sHJMAA==",
        "encoding": "base64",
        "path": [
         "color_map",
         "data"
        ]
       },
       {
        "data": "AABIQgAAAAAAAAAAAADIQQAAAAAAAEhCAAAAAAAAyEEAAAAAAAAAAAAASEIAAMhBAAAAAAAAAAAAAAAAAACAPw==",
        "encoding": "base64",
        "path": [
         "model_matrix",
         "data"
        ]
       },
       {
        "data": "AQ==",
        "encoding": "base64",
        "path": [
         "voxels",
         "data"
        ]
       }
      ],
      "model_module": "k3d",
      "model_module_version": "2.8.2",
      "model_name": "ObjectModel",
      "state": {
       "_view_count": null,
       "_view_module": null,
       "_view_module_version": "",
       "_view_name": null,
       "colorLegend": false,
       "color_map": {
        "dtype": "uint32",
        "shape": []
       },
       "compression_level": 0,
       "id": 140385675214416,
       "model_matrix": {
        "dtype": "float32",
        "shape": [
         4,
         4
        ]
       },
       "name": "Voxels #1",
       "opacity": 1,
       "outlines": false,
       "outlines_color": 0,
       "type": "Voxels",
       "visible": true,
       "voxels": {
        "dtype": "uint8",
        "shape": [
         1,
         1,
         1
        ]
       },
       "wireframe": false
      }
     },
     "a586f72abd49412281cc1aa25f543859": {
      "model_module": "@jupyter-widgets/base",
      "model_module_version": "1.2.0",
      "model_name": "LayoutModel",
      "state": {}
     },
     "a6a3c4627de9453298ca09950f67da22": {
      "model_module": "@jupyter-widgets/base",
      "model_module_version": "1.2.0",
      "model_name": "LayoutModel",
      "state": {}
     },
     "a8051b6d6da344d2a4b30507ddb35bf7": {
      "model_module": "@jupyter-widgets/base",
      "model_module_version": "1.2.0",
      "model_name": "LayoutModel",
      "state": {}
     },
     "a88dd0c20db642a48fa1cdf50ee24765": {
      "buffers": [
       {
        "data": "bK68AGyuvAB0nKYAdJymAHiMkgB4jJIAeISHAHiEhwB4fn8AeH5/AHd5eQB3eXkAdHNyAHRzcgBxa2kAcWtpAG1cVgBtXFYAbE5CAGxOQgBax9sAWsfbAHSbpAB0m6QAeIuRAHiLkQB5g4YAeYOGAHh+fwB4fn8Ad3l5AHd5eQB1dHMAdXRzAHFsagBxbGoAbV5YAG1eWABvOh4AbzoeAEjX7wBI1+8AdZigAHWYoAB4i5AAeIuQAHmDhgB5g4YAeH5/AHh+fwB3eXkAd3l5AHV0cwB1dHMAcm1rAHJtawBuYVwAbmFcAGouAABqLgAANuL8ADbi/AB2lZwAdpWcAHiKjwB4io8AeYKFAHmChQB4fn8AeH5/AHd5eQB3eXkAdXR0AHV0dABybWwAcm1sAG9jXwBvY18AViYAAFYmAAA46P4AOOj+AHaTmgB2k5oAeImOAHiJjgB5goUAeYKFAHh9fgB4fX4AeHp6AHh6egB1dHQAdXR0AHJubABybmwAb2VhAG9lYQBOIgAATiIAADjo/gA46P4AdpOaAHaTmgB4iY4AeImOAHmChQB5goUAeH1+AHh9fgB4enoAeHp6AHV0dAB1dHQAcm5sAHJubABvZWEAb2VhAE4iAABOIgAANuL8ADbi/AB2lZwAdpWcAHiKjwB4io8AeYKFAHmChQB4fn8AeH5/AHd5eQB3eXkAdXR0AHV0dABybWwAcm1sAG9jXwBvY18AViYAAFYmAABI1+8ASNfvAHWYoAB1mKAAeIuQAHiLkAB5g4YAeYOGAHh+fwB4fn8Ad3l5AHd5eQB1dHMAdXRzAHJtawBybWsAbmFcAG5hXABqLgAAai4AAFrH2wBax9sAdJukAHSbpAB4i5EAeIuRAHmDhgB5g4YAeH5/AHh+fwB3eXkAd3l5AHV0cwB1dHMAcWxqAHFsagBtXlgAbV5YAG86HgBvOh4AbK68AGyuvAB0nKYAdJymAHiMkgB4jJIAeISHAHiEhwB4fn8AeH5/AHd5eQB3eXkAdHNyAHRzcgBxa2kAcWtpAG1cVgBtXFYAbE5CAGxOQgA=",
        "encoding": "base64",
        "path": [
         "colors",
         "data"
        ]
       },
       {
        "data": "AACAPwAAAAAAAAAAAAAAAAAAAAAAAIA/AAAAAAAAAAAAAAAAAAAAAAAAgD8AAAAAAAAAAAAAAAAAAAAAAACAPw==",
        "encoding": "base64",
        "path": [
         "model_matrix",
         "data"
        ]
       },
       {
        "data": "gGVmPpa3uz/WXMdBRgmhQCCPBkBFksdBNh0gQW4NFECIxsdB6AZwQQowGkC64sdBTwCgQfc8HkDv9sdBTwDIQQnDIUARCchBdAPwQfbPJUBGHchBTgcMQpLyK0B4OchBKSEgQuBwOUC7bchBZuY0QjUkYkAqo8hB4Io4PvJo0kBKEcdBNK6gQGK45UCDlcdBIRQgQVQO60C5ycdB5QRwQROP7UBW5MdBOACgQYdB70Bz98dBOADIQXm+8ECNCMhBcwLwQe1w8kCqG8hBCAUMQqzx9EBHNshBxhUgQp5H+kB9ashBi7g0QofLBkG27shBIDvgPa2APEHc5MZB1FKgQEJ8REFcn8dBMgsgQeorRkHMzMdBzQJwQVUVR0Hh5cdBHwCgQQ+4R0Hv98dBHwDIQfFHSEERCMhBZgHwQavqSEEfGshBzAIMQhbUSUE0M8hBWgogQr+DS0GkYMhBHnA0QlN/U0EkG8lBQDtBPQdUiEE6ycZBohugQEMEi0HGqcdBcQQgQQRxi0HtzsdBIAFwQYe3i0H55sdBCwCgQa7pi0FG+MdBCwDIQVIWjEG6B8hBkADwQXlIjEEHGchBHAEMQvyOjEETMchBdAMgQr37jEE6VshBTzA0Qvmrj0HFNslBAKUkPKC7skGgu8ZB7QSgQECws0FAsMdB4QAgQfjPs0H4z8dBNgBwQYbns0GG58dBAACgQXH4s0Fx+MdBAADIQY8HtEGPB8hBGwDwQXoYtEF6GMhBOAAMQggwtEEIMMhBngAgQsBPtEHAT8hBSgo0QmBEtUFgRMlBAKUkPGBE3UGgu8ZB7QSgQMBP3EFAsMdB4QAgQQgw3EH4z8dBNgBwQXoY3EGG58dBAACgQY8H3EFx+MdBAADIQXH420GPB8hBGwDwQYbn20F6GMhBOAAMQvjP20EIMMhBngAgQkCw20HAT8hBSgo0QqC72kFgRMlBQDtBPfzVA0I7ycZBohugQN59AkLGqcdBcQQgQX5HAkLtzsdBIAFwQTwkAkL55sdBCwCgQSkLAkJG+MdBCwDIQdf0AUK6B8hBkADwQcTbAUIHGchBHAEMQoK4AUITMchBdAMgQiKCAUI6VshBTzA0QgQqAELGNslBIDvgPdXfGELc5MZB1FKgQPDgFkJcn8dBMgsgQQZ1FkLMzMdBzQJwQas6FkLh5cdBHwCgQfwRFkLv98dBHwDIQQTuFUIRCMhBZgHwQVXFFUIfGshBzAIMQvqKFUI0M8hBWgogQhAfFUKkYMhBHnA0QisgE0IkG8lB4Io4PuKyLUJKEcdBNK6gQPRIK0KDlcdBIRQgQTWeKkK5ycdB5QRwQR5OKkJW5MdBOACgQc8XKkJz98dBOADIQTHoKUKNCMhBcwLwQeKxKUKqG8hBCAUMQsthKUJHNshBxhUgQgy3KEJ9ashBi7g0Qh5NJkK27shBgGVmPkMiQkLWXMdBRgmhQA6XP0JFksdBNh0gQSm/PkKIxsdB6AZwQf9cPkK64sdBTwCgQTEcPkLv9sdBTwDIQc/jPUIRCchBdAPwQQGjPUJGHchBTgcMQtdAPUJ4OchBKSEgQvJoPEK7bchBZuY0Qr3dOUIqo8hB",
        "encoding": "base64",
        "path": [
         "origins",
         "data"
        ]
       },
       {
        "data": "qJmRQGpIBEAHKiM+dO2dQPyGSz9Vdts9JoufQCEpvz5r32U9YuSfQMH+OT5BM+o8i/2fQJ6EYT1FERE8i/2fQJ2EYb1OERG8YuSfQMH+Ob48M+q8JoufQCApv75q32W9dO2dQPyGS79Xdtu9qJmRQGpIBMAIKiO+UneUQG647D8Mtm4+mKOeQNp5JD+Z+dQ9fa+fQHQ1nj5GHVk9a+yfQC87HD79T908Q/6fQB15Pj1NzQg8Q/6fQCF5Pr0/zQi8a+yfQC07HL7rT928fa+fQHQ1nr5AHVm9mKOeQNt5JL+a+dS9UneUQG647L8Otm6+J/6YQDb1tz/9kY0+WFqfQJ/v4D4CR8E9OdOfQDgLaj6Fz0w9zfSfQMyq6j0Z+NA8B/+fQMfhDz2TEAE8B/+fQM/hD716EAG8zfSfQMyq6r0G+NC8OdOfQDULar59z0y9WFqfQKHv4L4DR8G9J/6YQDf1t7/+kY2+E/ucQCL+aj/AYps+vMifQNO8ez7vc6w9O+6fQFb8Dj6hTUQ9f/ufQFnxkD2FNsg8p/+fQBWPsjx/Q/c7p/+fQBePsrxZQ/e7f/ufQFXxkL10Nsi8O+6fQFj8Dr6ZTUS9vMifQNi8e77yc6y9E/ucQCP+ar+6Ypu+W1ufQNAvoj7QL6I+JvafQLCAnz2ygJ89fPyfQLMfQD23H0A9J/+fQNLPwzzaz8M8AACgQO3T8Tth1PE7AACgQH7U8btX1PG7J/+fQObPw7zTz8O8fPyfQMMfQL20H0C9JvafQLiAn72ygJ+9W1ufQM0vor7PL6K+W1ufQM0vor7PL6I+JvafQLiAn72ygJ89fPyfQMMfQL20H0A9J/+fQObPw7zTz8M8AACgQH7U8btX1PE7AACgQO3T8Tth1PG7J/+fQNLPwzzaz8O8fPyfQLMfQD23H0C9JvafQLCAnz2ygJ+9W1ufQNAvoj7QL6K+E/ucQCP+ar+6Yps+vMifQNi8e77yc6w9O+6fQFj8Dr6ZTUQ9f/ufQFXxkL10Nsg8p/+fQBePsrxZQ/c7p/+fQBWPsjx/Q/e7f/ufQFnxkD2FNsi8O+6fQFb8Dj6hTUS9vMifQNO8ez7vc6y9E/ucQCL+aj/AYpu+J/6YQDf1t7/+kY0+WFqfQKHv4L4DR8E9OdOfQDULar59z0w9zfSfQMyq6r0G+NA8B/+fQM/hD716EAE8B/+fQMfhDz2TEAG8zfSfQMyq6j0Z+NC8OdOfQDgLaj6Fz0y9WFqfQJ/v4D4CR8G9J/6YQDb1tz/9kY2+UneUQG647L8Otm4+mKOeQNt5JL+a+dQ9fa+fQHQ1nr5AHVk9a+yfQC07HL7rT908Q/6fQCF5Pr0/zQg8Q/6fQB15Pj1NzQi8a+yfQC87HD79T928fa+fQHQ1nj5GHVm9mKOeQNp5JD+Z+dS9UneUQG647D8Mtm6+qJmRQGpIBMAIKiM+dO2dQPyGS79Xdts9JoufQCApv75q32U9YuSfQMH+Ob48M+o8i/2fQJ2EYb1OERE8i/2fQJ6EYT1FERG8YuSfQMH+OT5BM+q8JoufQCEpvz5r32W9dO2dQPyGSz9Vdtu9qJmRQGpIBEAHKiO+",
        "encoding": "base64",
        "path": [
         "vectors",
         "data"
        ]
       }
      ],
      "model_module": "k3d",
      "model_module_version": "2.8.2",
      "model_name": "ObjectModel",
      "state": {
       "_view_count": null,
       "_view_module": null,
       "_view_module_version": "",
       "_view_name": null,
       "colorLegend": false,
       "colors": {
        "dtype": "uint32",
        "shape": [
         100,
         2
        ]
       },
       "compression_level": 0,
       "head_color": 255,
       "head_size": 20,
       "id": 140385681553056,
       "label_size": 1,
       "labels": [],
       "line_width": 0.01,
       "model_matrix": {
        "dtype": "float32",
        "shape": [
         4,
         4
        ]
       },
       "name": "Vectors #1",
       "origin_color": 255,
       "origins": {
        "dtype": "float32",
        "shape": [
         100,
         3
        ]
       },
       "type": "Vectors",
       "use_head": true,
       "vectors": {
        "dtype": "float32",
        "shape": [
         100,
         3
        ]
       },
       "visible": true
      }
     },
     "aa97d1382e174b4398ccf67ba576bfbe": {
      "model_module": "@jupyter-widgets/base",
      "model_module_version": "1.2.0",
      "model_name": "LayoutModel",
      "state": {}
     },
     "ac1bcd3d0400442da1de4b310cf41c45": {
      "model_module": "@jupyter-widgets/output",
      "model_module_version": "1.0.0",
      "model_name": "OutputModel",
      "state": {
       "layout": "IPY_MODEL_f3d495ab9b0c428984ce0620008926e9",
       "outputs": [
        {
         "data": {
          "application/vnd.jupyter.widget-view+json": {
           "model_id": "1bdf61ea9b98479a943bbb8de13a84d5",
           "version_major": 2,
           "version_minor": 0
          },
          "text/plain": "Plot(antialias=3, axes=['x', 'y', 'z'], axes_helper=1.0, background_color=16777215, camera=[2, -3, 0.2, 0.0, 0…"
         },
         "metadata": {},
         "output_type": "display_data"
        }
       ]
      }
     },
     "ac48367a1ae44196aa7baa0b24d7084a": {
      "model_module": "@jupyter-widgets/output",
      "model_module_version": "1.0.0",
      "model_name": "OutputModel",
      "state": {
       "layout": "IPY_MODEL_841a9d62101f4a6391e11d560d5ee28a",
       "outputs": [
        {
         "data": {
          "application/vnd.jupyter.widget-view+json": {
           "model_id": "cbc475a68c1f4065951b93eff6d0505d",
           "version_major": 2,
           "version_minor": 0
          },
          "text/plain": "Plot(antialias=3, axes=['x', 'y', 'z'], axes_helper=1.0, background_color=16777215, camera=[2, -3, 0.2, 0.0, 0…"
         },
         "metadata": {},
         "output_type": "display_data"
        }
       ]
      }
     },
     "afd053661d23482b9dae4bed99df1cb6": {
      "model_module": "@jupyter-widgets/base",
      "model_module_version": "1.2.0",
      "model_name": "LayoutModel",
      "state": {}
     },
     "b1ca7531e7504c7a8f2dc25e2ceec529": {
      "buffers": [
       {
        "data": "sHJMAA==",
        "encoding": "base64",
        "path": [
         "color_map",
         "data"
        ]
       },
       {
        "data": "AABIQgAAAAAAAAAAAADIQQAAAAAAAEhCAAAAAAAAyEEAAAAAAAAAAAAASEIAAMhBAAAAAAAAAAAAAAAAAACAPw==",
        "encoding": "base64",
        "path": [
         "model_matrix",
         "data"
        ]
       },
       {
        "data": "AQ==",
        "encoding": "base64",
        "path": [
         "voxels",
         "data"
        ]
       }
      ],
      "model_module": "k3d",
      "model_module_version": "2.8.2",
      "model_name": "ObjectModel",
      "state": {
       "_view_count": null,
       "_view_module": null,
       "_view_module_version": "",
       "_view_name": null,
       "colorLegend": false,
       "color_map": {
        "dtype": "uint32",
        "shape": []
       },
       "compression_level": 0,
       "id": 140506118166800,
       "model_matrix": {
        "dtype": "float32",
        "shape": [
         4,
         4
        ]
       },
       "name": "Voxels #1",
       "opacity": 1,
       "outlines": false,
       "outlines_color": 0,
       "type": "Voxels",
       "visible": true,
       "voxels": {
        "dtype": "uint8",
        "shape": [
         1,
         1,
         1
        ]
       },
       "wireframe": false
      }
     },
     "bd8b6590f70641aa9b64674810e485c0": {
      "model_module": "@jupyter-widgets/base",
      "model_module_version": "1.2.0",
      "model_name": "LayoutModel",
      "state": {}
     },
     "beb0ef810f40456ea79c518fb327cd6d": {
      "model_module": "k3d",
      "model_module_version": "2.8.2",
      "model_name": "PlotModel",
      "state": {
       "_backend_version": "2.8.2",
       "_dom_classes": [],
       "_view_count": null,
       "antialias": 3,
       "auto_rendering": true,
       "axes": [
        "x\\,\\text{(nm)}",
        "y\\,\\text{(nm)}",
        "z\\,\\text{(nm)}"
       ],
       "axes_helper": 1,
       "background_color": 16777215,
       "camera": [
        97.41653703285048,
        -84.2498054654567,
        32.01665373345996,
        24.750000033527613,
        24.750000033527613,
        24.750000033527613,
        0,
        0,
        1
       ],
       "camera_animation": [],
       "camera_auto_fit": true,
       "camera_fov": 60,
       "camera_mode": "trackball",
       "camera_no_pan": false,
       "camera_no_rotate": false,
       "camera_no_zoom": false,
       "clipping_planes": [],
       "colorbar_object_id": -1,
       "colorbar_scientific": false,
       "fps": 25,
       "fps_meter": false,
       "grid": [
        -1,
        -1,
        -1,
        1,
        1,
        1
       ],
       "grid_auto_fit": true,
       "grid_visible": true,
       "height": 512,
       "layout": "IPY_MODEL_bd8b6590f70641aa9b64674810e485c0",
       "lighting": 1.5,
       "manipulate_mode": "translate",
       "menu_visibility": true,
       "mode": "view",
       "name": null,
       "object_ids": [
        140385675256304
       ],
       "rendering_steps": 1,
       "screenshot": "",
       "screenshot_scale": 2,
       "snapshot": "",
       "snapshot_include_js": true,
       "time": 0,
       "voxel_paint_color": 0
      }
     },
     "c1181fdfa01c4e2580eb70c2440e205b": {
      "model_module": "@jupyter-widgets/base",
      "model_module_version": "1.2.0",
      "model_name": "LayoutModel",
      "state": {}
     },
     "cbc475a68c1f4065951b93eff6d0505d": {
      "model_module": "k3d",
      "model_module_version": "2.8.2",
      "model_name": "PlotModel",
      "state": {
       "_backend_version": "2.8.2",
       "_dom_classes": [],
       "_view_count": null,
       "antialias": 3,
       "auto_rendering": true,
       "axes": [
        "x\\,\\text{(nm)}",
        "y\\,\\text{(nm)}",
        "z\\,\\text{(nm)}"
       ],
       "axes_helper": 1,
       "background_color": 16777215,
       "camera": [
        97.41653703285048,
        -84.2498054654567,
        32.01665373345996,
        24.750000033527613,
        24.750000033527613,
        24.750000033527613,
        0,
        0,
        1
       ],
       "camera_animation": [],
       "camera_auto_fit": true,
       "camera_fov": 60,
       "camera_mode": "trackball",
       "camera_no_pan": false,
       "camera_no_rotate": false,
       "camera_no_zoom": false,
       "clipping_planes": [],
       "colorbar_object_id": -1,
       "colorbar_scientific": false,
       "fps": 25,
       "fps_meter": false,
       "grid": [
        -1,
        -1,
        -1,
        1,
        1,
        1
       ],
       "grid_auto_fit": true,
       "grid_visible": true,
       "height": 512,
       "layout": "IPY_MODEL_a8051b6d6da344d2a4b30507ddb35bf7",
       "lighting": 1.5,
       "manipulate_mode": "translate",
       "menu_visibility": true,
       "mode": "view",
       "name": null,
       "object_ids": [
        140506118066672
       ],
       "rendering_steps": 1,
       "screenshot": "",
       "screenshot_scale": 2,
       "snapshot": "",
       "snapshot_include_js": true,
       "time": 0,
       "voxel_paint_color": 0
      }
     },
     "d0af1d80d01246b6b26582b5c50da46c": {
      "model_module": "@jupyter-widgets/base",
      "model_module_version": "1.2.0",
      "model_name": "LayoutModel",
      "state": {}
     },
     "d42bbbaea6a04c52b2e382bcad7a0229": {
      "buffers": [
       {
        "data": "sHJMAFKE3QA=",
        "encoding": "base64",
        "path": [
         "color_map",
         "data"
        ]
       },
       {
        "data": "AABIQgAAAAAAAAAAAADIQQAAAAAAAEhCAAAAAAAAyEEAAAAAAAAAAAAASEIAAMhBAAAAAAAAAAAAAAAAAACAPw==",
        "encoding": "base64",
        "path": [
         "model_matrix",
         "data"
        ]
       },
       {
        "data": "AQEBAQEBAQEBAgEBAQEBAQEBAQEBAQEBAQEBAQEBAQEBAQEBAQEBAQEBAQEBAQEBAQEBAQEBAQEBAQEBAQEBAQEBAQEBAQEBAQEBAQEBAQEBAQEBAQEBAQEBAQEBAQEBAQEBAQEBAQEBAQEBAQEBAQEBAQEBAQEBAQEBAQEBAQEBAQEBAQEBAQEBAQEBAQEBAQEBAQEBAQEBAQEBAQEBAQEBAQEBAQEBAQEBAQEBAQEBAQEBAQEBAQEBAQEBAQEBAQEBAQEBAQEBAQEBAQEBAQEBAQEBAQEBAQEBAQEBAQEBAQEBAQEBAQEBAQEBAQEBAQEBAQEBAQEBAQEBAQEBAQEBAQEBAQEBAQEBAQEBAQEBAQEBAQEBAQEBAQEBAQEBAQEBAQEBAQEBAQEBAQEBAQEBAQEBAQEBAQEBAQEBAQEBAQEBAQEBAQEBAQEBAQEBAQEBAQEBAQEBAQEBAQEBAQEBAQEBAQEBAQEBAQEBAQEBAQEBAQEBAQEBAQEBAQEBAQEBAQEBAQEBAQEBAQEBAQEBAQEBAQEBAQEBAQEBAQEBAQEBAQEBAQEBAQEBAQEBAQEBAQEBAQEBAQEBAQEBAQEBAQEBAQEBAQEBAQEBAQEBAQEBAQEBAQEBAQEBAQEBAQEBAQEBAQEBAQEBAQEBAQEBAQEBAQEBAQEBAQEBAQEBAQEBAQEBAQEBAQEBAQEBAQEBAQEBAQEBAQEBAQEBAQEBAQEBAQEBAQEBAQEBAQEBAQEBAQEBAQEBAQEBAQEBAQEBAQEBAQEBAQEBAQEBAQEBAQEBAQEBAQEBAQEBAQEBAQEBAQEBAQEBAQEBAQEBAQEBAQEBAQEBAQEBAQEBAQEBAQEBAQEBAQEBAQEBAQEBAQEBAQEBAQEBAQEBAQEBAQEBAQEBAQEBAQEBAQEBAQEBAQEBAQEBAQEBAQEBAQEBAQEBAQEBAQEBAQEBAQEBAQEBAQEBAQEBAQEBAQEBAQEBAQEBAQEBAQEBAQEBAQEBAQEBAQEBAQEBAQEBAQEBAQEBAQEBAQEBAQEBAQEBAQEBAQEBAQEBAQEBAQEBAQEBAQEBAQEBAQEBAQEBAQEBAQEBAQEBAQEBAQEBAQEBAQEBAQEBAQEBAQEBAQEBAQEBAQEBAQEBAQEBAQEBAQEBAQEBAQEBAQEBAQEBAQEBAQEBAQEBAQEBAQEBAQEBAQEBAQEBAQEBAQEBAQEBAQEBAQEBAQEBAQEBAQEBAQEBAQEBAQEBAQEBAQEBAQEBAQEBAQEBAQEBAQEBAQEBAQEBAQEBAQEBAQEBAQEBAQEBAQEBAQEBAQEBAQEBAQEBAQEBAQEBAQEBAQ==",
        "encoding": "base64",
        "path": [
         "voxels",
         "data"
        ]
       }
      ],
      "model_module": "k3d",
      "model_module_version": "2.8.2",
      "model_name": "ObjectModel",
      "state": {
       "_view_count": null,
       "_view_module": null,
       "_view_module_version": "",
       "_view_name": null,
       "colorLegend": false,
       "color_map": {
        "dtype": "uint32",
        "shape": [
         2
        ]
       },
       "compression_level": 0,
       "id": 140506118066672,
       "model_matrix": {
        "dtype": "float32",
        "shape": [
         4,
         4
        ]
       },
       "name": "Voxels #1",
       "opacity": 1,
       "outlines": false,
       "outlines_color": 0,
       "type": "Voxels",
       "visible": true,
       "voxels": {
        "dtype": "uint8",
        "shape": [
         10,
         10,
         10
        ]
       },
       "wireframe": false
      }
     },
     "d616afcb338d44d78b5c6ca15be3572f": {
      "model_module": "@jupyter-widgets/base",
      "model_module_version": "1.2.0",
      "model_name": "LayoutModel",
      "state": {}
     },
     "d7c502005c614e8fb44ac0db9268a03d": {
      "model_module": "@jupyter-widgets/output",
      "model_module_version": "1.0.0",
      "model_name": "OutputModel",
      "state": {
       "layout": "IPY_MODEL_a586f72abd49412281cc1aa25f543859",
       "outputs": [
        {
         "data": {
          "application/vnd.jupyter.widget-view+json": {
           "model_id": "683896544dfe4393ab92d7056c3a2e80",
           "version_major": 2,
           "version_minor": 0
          },
          "text/plain": "Plot(antialias=3, axes=['x', 'y', 'z'], axes_helper=1.0, background_color=16777215, camera=[2, -3, 0.2, 0.0, 0…"
         },
         "metadata": {},
         "output_type": "display_data"
        }
       ]
      }
     },
     "e27ef215ca1144ccb92316d1c86e5d75": {
      "model_module": "k3d",
      "model_module_version": "2.8.2",
      "model_name": "PlotModel",
      "state": {
       "_backend_version": "2.8.2",
       "_dom_classes": [],
       "_view_count": null,
       "antialias": 3,
       "auto_rendering": true,
       "axes": [
        "x\\,\\text{(nm)}",
        "y\\,\\text{(nm)}",
        "z\\,\\text{(nm)}"
       ],
       "axes_helper": 1,
       "background_color": 16777215,
       "camera": [
        82.06686392940055,
        -60.605222039177605,
        30.706686524070335,
        24.999998688697815,
        24.995075821876526,
        25,
        0,
        0,
        1
       ],
       "camera_animation": [],
       "camera_auto_fit": true,
       "camera_fov": 60,
       "camera_mode": "trackball",
       "camera_no_pan": false,
       "camera_no_rotate": false,
       "camera_no_zoom": false,
       "clipping_planes": [],
       "colorbar_object_id": -1,
       "colorbar_scientific": false,
       "fps": 25,
       "fps_meter": false,
       "grid": [
        -1,
        -1,
        -1,
        1,
        1,
        1
       ],
       "grid_auto_fit": true,
       "grid_visible": true,
       "height": 512,
       "layout": "IPY_MODEL_ef789878372f4e7491343eeba3acc107",
       "lighting": 1.5,
       "manipulate_mode": "translate",
       "menu_visibility": true,
       "mode": "view",
       "name": null,
       "object_ids": [
        140506125604896,
        140506125767296
       ],
       "rendering_steps": 1,
       "screenshot": "",
       "screenshot_scale": 2,
       "snapshot": "",
       "snapshot_include_js": true,
       "time": 0,
       "voxel_paint_color": 0
      }
     },
     "e3678761e0304f08953e1df5411f5a33": {
      "model_module": "@jupyter-widgets/base",
      "model_module_version": "1.2.0",
      "model_name": "LayoutModel",
      "state": {}
     },
     "e53425140c3c48638b9c51da1ab83279": {
      "model_module": "k3d",
      "model_module_version": "2.8.2",
      "model_name": "PlotModel",
      "state": {
       "_backend_version": "2.8.2",
       "_dom_classes": [],
       "_view_count": null,
       "antialias": 3,
       "auto_rendering": true,
       "axes": [
        "x\\,\\text{(nm)}",
        "y\\,\\text{(nm)}",
        "z\\,\\text{(nm)}"
       ],
       "axes_helper": 1,
       "background_color": 16777215,
       "camera": [
        81.59403990492936,
        -59.891059857394055,
        30.659403990492994,
        25,
        25,
        25,
        0,
        0,
        1
       ],
       "camera_animation": [],
       "camera_auto_fit": true,
       "camera_fov": 60,
       "camera_mode": "trackball",
       "camera_no_pan": false,
       "camera_no_rotate": false,
       "camera_no_zoom": false,
       "clipping_planes": [],
       "colorbar_object_id": -1,
       "colorbar_scientific": false,
       "fps": 25,
       "fps_meter": false,
       "grid": [
        -1,
        -1,
        -1,
        1,
        1,
        1
       ],
       "grid_auto_fit": true,
       "grid_visible": true,
       "height": 512,
       "layout": "IPY_MODEL_a6a3c4627de9453298ca09950f67da22",
       "lighting": 1.5,
       "manipulate_mode": "translate",
       "menu_visibility": true,
       "mode": "view",
       "name": null,
       "object_ids": [
        140385675124848,
        140385679453392
       ],
       "rendering_steps": 1,
       "screenshot": "",
       "screenshot_scale": 2,
       "snapshot": "",
       "snapshot_include_js": true,
       "time": 0,
       "voxel_paint_color": 0
      }
     },
     "e72957e1519243d7994b5e91923a5ce5": {
      "model_module": "@jupyter-widgets/base",
      "model_module_version": "1.2.0",
      "model_name": "LayoutModel",
      "state": {}
     },
     "e8a1668ad3e842d89c45e9569f218981": {
      "model_module": "k3d",
      "model_module_version": "2.8.2",
      "model_name": "PlotModel",
      "state": {
       "_backend_version": "2.8.2",
       "_dom_classes": [],
       "_view_count": null,
       "antialias": 3,
       "auto_rendering": true,
       "axes": [
        "x\\,\\text{(nm)}",
        "y\\,\\text{(nm)}",
        "z\\,\\text{(nm)}"
       ],
       "axes_helper": 1,
       "background_color": 16777215,
       "camera": [
        22.921760644002966,
        17.579415643778603,
        45.074383466887284,
        25,
        25,
        25,
        -0.23976449450485837,
        0.8988806534878117,
        0.36677862255065513
       ],
       "camera_animation": [],
       "camera_auto_fit": true,
       "camera_fov": 60,
       "camera_mode": "trackball",
       "camera_no_pan": false,
       "camera_no_rotate": false,
       "camera_no_zoom": false,
       "clipping_planes": [],
       "colorbar_object_id": -1,
       "colorbar_scientific": false,
       "fps": 25,
       "fps_meter": false,
       "grid": [
        -1,
        -1,
        -1,
        1,
        1,
        1
       ],
       "grid_auto_fit": true,
       "grid_visible": true,
       "height": 512,
       "layout": "IPY_MODEL_aa97d1382e174b4398ccf67ba576bfbe",
       "lighting": 1.5,
       "manipulate_mode": "translate",
       "menu_visibility": true,
       "mode": "view",
       "name": null,
       "object_ids": [
        140385675369152,
        140385676332864
       ],
       "rendering_steps": 1,
       "screenshot": "",
       "screenshot_scale": 2,
       "snapshot": "",
       "snapshot_include_js": true,
       "time": 0,
       "voxel_paint_color": 0
      }
     },
     "e9e845edb1a949d3a7eff01c64c18e7f": {
      "model_module": "@jupyter-widgets/output",
      "model_module_version": "1.0.0",
      "model_name": "OutputModel",
      "state": {
       "layout": "IPY_MODEL_328168ce3127402ebffccd25f6f72960",
       "outputs": [
        {
         "data": {
          "application/vnd.jupyter.widget-view+json": {
           "model_id": "fa80e0af7cc0417c885334dbc2eaee54",
           "version_major": 2,
           "version_minor": 0
          },
          "text/plain": "Plot(antialias=3, axes=['x', 'y', 'z'], axes_helper=1.0, background_color=16777215, camera=[2, -3, 0.2, 0.0, 0…"
         },
         "metadata": {},
         "output_type": "display_data"
        }
       ]
      }
     },
     "ef789878372f4e7491343eeba3acc107": {
      "model_module": "@jupyter-widgets/base",
      "model_module_version": "1.2.0",
      "model_name": "LayoutModel",
      "state": {}
     },
     "f118813a02124ea08c8a088479886e61": {
      "model_module": "k3d",
      "model_module_version": "2.8.2",
      "model_name": "PlotModel",
      "state": {
       "_backend_version": "2.8.2",
       "_dom_classes": [],
       "_view_count": null,
       "antialias": 3,
       "auto_rendering": true,
       "axes": [
        "x\\,\\text{(nm)}",
        "y\\,\\text{(nm)}",
        "z\\,\\text{(nm)}"
       ],
       "axes_helper": 1,
       "background_color": 16777215,
       "camera": [
        81.59403990492936,
        -59.89105985739404,
        30.65940399049302,
        25,
        25,
        25,
        0,
        0,
        1
       ],
       "camera_animation": [],
       "camera_auto_fit": true,
       "camera_fov": 60,
       "camera_mode": "trackball",
       "camera_no_pan": false,
       "camera_no_rotate": false,
       "camera_no_zoom": false,
       "clipping_planes": [],
       "colorbar_object_id": -1,
       "colorbar_scientific": false,
       "fps": 25,
       "fps_meter": false,
       "grid": [
        -1,
        -1,
        -1,
        1,
        1,
        1
       ],
       "grid_auto_fit": true,
       "grid_visible": true,
       "height": 512,
       "layout": "IPY_MODEL_d616afcb338d44d78b5c6ca15be3572f",
       "lighting": 1.5,
       "manipulate_mode": "translate",
       "menu_visibility": true,
       "mode": "view",
       "name": null,
       "object_ids": [
        140506123543600,
        140506123545520
       ],
       "rendering_steps": 1,
       "screenshot": "",
       "screenshot_scale": 2,
       "snapshot": "",
       "snapshot_include_js": true,
       "time": 0,
       "voxel_paint_color": 0
      }
     },
     "f3d495ab9b0c428984ce0620008926e9": {
      "model_module": "@jupyter-widgets/base",
      "model_module_version": "1.2.0",
      "model_name": "LayoutModel",
      "state": {}
     },
     "fac23350524d42b28dc4a2b10441024e": {
      "model_module": "@jupyter-widgets/output",
      "model_module_version": "1.0.0",
      "model_name": "OutputModel",
      "state": {
       "layout": "IPY_MODEL_407932627ba04740977acb40d2a156f9",
       "outputs": [
        {
         "data": {
          "application/vnd.jupyter.widget-view+json": {
           "model_id": "788b9cdcd85d466dafef1053d70a95d7",
           "version_major": 2,
           "version_minor": 0
          },
          "text/plain": "Plot(antialias=3, axes=['x', 'y', 'z'], axes_helper=1.0, background_color=16777215, camera=[2, -3, 0.2, 0.0, 0…"
         },
         "metadata": {},
         "output_type": "display_data"
        }
       ]
      }
     },
     "ff3c0d082c1a4f088f3fe9951fdb9b3d": {
      "model_module": "@jupyter-widgets/output",
      "model_module_version": "1.0.0",
      "model_name": "OutputModel",
      "state": {
       "layout": "IPY_MODEL_c1181fdfa01c4e2580eb70c2440e205b",
       "outputs": [
        {
         "data": {
          "application/vnd.jupyter.widget-view+json": {
           "model_id": "92712dacf7a64bec9864c4410eeed2d0",
           "version_major": 2,
           "version_minor": 0
          },
          "text/plain": "Plot(antialias=3, axes=['x', 'y', 'z'], axes_helper=1.0, background_color=16777215, camera=[2, -3, 0.2, 0.0, 0…"
         },
         "metadata": {},
         "output_type": "display_data"
        }
       ]
      }
     }
    },
    "version_major": 2,
    "version_minor": 0
   }
  }
 },
 "nbformat": 4,
 "nbformat_minor": 4
}
