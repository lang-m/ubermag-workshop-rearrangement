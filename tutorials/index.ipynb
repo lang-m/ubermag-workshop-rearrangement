{
 "cells": [
  {
   "cell_type": "markdown",
   "metadata": {},
   "source": [
    "<img src=\"figures/logo.png\" width=100>\n",
    "\n",
    "### Session 1\n",
    "\n",
    "In this session, we are going to familiarise ourselves with micromagnetics, Python, and Jupyter and we are going to spend most of the time looking at slides. Slides can be found in `slides` directory in the workshop [repository](https://github.com/ubermag/workshop). After slides (and a short break), we are going to write our first ubermag simulation and have a look at some Python basics.\n",
    "\n",
    "1. [First Ubermag simulation](first-ubermag-simulation.ipynb)\n",
    "2. [Python basics](python-basics.ipynb)\n",
    "\n",
    "We believe we do not need much Python knowledge in order to run ubermag. However, more you feel confident writing Python, more benefits you can get from ubermag. There are many resources online you can choose from. We can recommend the online one by Hans Fangohr:\n",
    "\n",
    "- https://fangohr.github.io/teaching/python/book.html\n",
    "\n",
    "### Session 2\n",
    "\n",
    "In the previous session, we introduced some very basic concepts of Ubermag simulations, had a look at some basic Python syntax, and familiarised ourselves with Jupyter environment. In session 2, we are going to have a look into more details of Ubermag simulations, so we can start simulating some real-world problems. In the first half of the session, we are going to analyse the skeleton of Ubermag simulation and quickly go through the three main concepts (magnetisation field, energy equation, and dynamics equation). In each tutorial, we introduce some data analysis and visualisation concepts, which are then going to be the main focus of session 3. After the break, we are going to simulate vortex dynamics, drive domain walls with a spin-polarised current, and have a look at the exercise.\n",
    "\n",
    "1. [Magnetisation field](magnetisation-field.ipynb)\n",
    "2. [Energy equation](energy-equation.ipynb)\n",
    "3. [Dynamics equation](dynamics-equation.ipynb)\n",
    "4. [Vortex dynamics](vortex-dynamics.ipynb)\n",
    "5. [Spatially varying parameters 1](spatially-varying-parameters1.ipynb)\n",
    "6. [Spatially varying parameters 2](spatially-varying-parameters2.ipynb)\n",
    "7. [Periodic boundary conditions](periodic-boundary-conditions.ipynb)\n",
    "8. [Current induced domain wall motion](driving-dw.ipynb)\n",
    "9. [Exercise](dw-pair-conversion.ipynb)\n",
    "\n",
    "### Session 3\n",
    "\n",
    "This is the last session of our online workshop. The main topic of this session is going to be data analysis and visualisation. However, similar to the previous sessions, we are going to go through tutorials, which are going to introduce a mixture of simulation techniques and micromagnetic concepts as well.\n",
    "\n",
    "1. [Choosing runner](choosing-runner.ipynb)\n",
    "2. [Multiple energy terms of the same class](multiple-terms.ipynb)\n",
    "3. [RKKY energy term](rkky.ipynb)\n",
    "4. [Time-dependent field](time-dependent-field.ipynb)\n",
    "5. [Negative exchange energy constant](negative-A.ipynb)\n",
    "6. [Energy term computations](energy-term-computations.ipynb)\n",
    "7. [Field operations 1](field-operations1.ipynb)\n",
    "8. [Field operations 2](field-operations2.ipynb)\n",
    "9. [Field file formats](file-formats.ipynb)\n",
    "10. [Line basics and visualisation](line.ipynb)\n",
    "11. [Table basics](table-basics.ipynb)\n",
    "12. [Table visualisation](table-visualisation.ipynb)\n",
    "13. [Table interactive plots](table-interactive-plot.ipynb)\n",
    "14. [Region visualisation](region-visualisation.ipynb)\n",
    "15. [Mesh visualisation](mesh-visualisation.ipynb)\n",
    "16. [Field mpl visualisation](mpl-visualisation.ipynb)\n",
    "17. [Field k3d visualisation](k3d-visualisation.ipynb)\n",
    "18. [Interactive plotting](interactive-plotting.ipynb)\n",
    "19. [Various topics](various-topics.ipynb)"
   ]
  }
 ],
 "metadata": {
  "kernelspec": {
   "display_name": "Python 3",
   "language": "python",
   "name": "python3"
  },
  "language_info": {
   "codemirror_mode": {
    "name": "ipython",
    "version": 3
   },
   "file_extension": ".py",
   "mimetype": "text/x-python",
   "name": "python",
   "nbconvert_exporter": "python",
   "pygments_lexer": "ipython3",
   "version": "3.8.3"
  },
  "widgets": {
   "application/vnd.jupyter.widget-state+json": {
    "state": {},
    "version_major": 2,
    "version_minor": 0
   }
  }
 },
 "nbformat": 4,
 "nbformat_minor": 4
}
