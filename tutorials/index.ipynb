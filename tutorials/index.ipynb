{
 "cells": [
  {
   "cell_type": "markdown",
   "metadata": {},
   "source": [
    "# Workshop: Micromagnetics with Ubermag\n",
    "\n",
    "**Session 1**:\n",
    "\n",
    "- [Tutorial 00: First Ubermag notebook](00-tutorial-first-ubermag-notebook.ipynb)\n",
    "- [Tutorial 01: Python in 7 minutes](01-tutorial-python-basics.ipynb)\n",
    "\n",
    "**Session 2**:\n",
    "\n",
    "- [Tutorial 02: Magnetisation field](02-tutorial-magnetisation-field.ipynb)\n",
    "- [Tutorial 03: Energy equation](03-tutorial-energy-equation.ipynb)\n",
    "- [Tutorial 04: Dynamics equation](04-tutorial-dynamics.ipynb)\n",
    "- [Tutorial 05: Current induced domain wall motion](05-tutorial-current-induced-dw-motion.ipynb)\n",
    "\n",
    "**Session 3**:\n",
    "\n",
    "- [Tutorial 06: Computing energy term properties](06-tutorial-computing-energy-term-properties.ipynb)\n",
    "- [Tutorial 07: Periodic boundary conditions](07-tutorial-periodic-boundary-conditions.ipynb)\n",
    "- [Tutorial 08: Spatially varying parameters](08-tutorial-spatially-varying-parameters-1.ipynb)\n",
    "- [Tutorial 09: Spatially varying parameters 2](09-tutorial-spatially-varying-parameters-2.ipynb)\n",
    "\n",
    "**Session 4**:\n",
    "\n",
    "- [Tutorial 10: Standard problem 3](10-tutorial-standard-problem-3.ipynb)\n",
    "- [Tutorial 11: Operations on fields](11-tutorial-operations-on-fields.ipynb)\n",
    "- [Tutorial 12: Visualising fields using `matplotlib`](12-tutorial-matplotlib-visualisation.ipynb)\n",
    "- [Tutorial 13: Visualising fields using `k3d`](13-tutorial-k3d-visualisation.ipynb)\n",
    "- [Tutorial 14: Interactive plotting](14-tutorial-interactive-plotting.ipynb)\n",
    "- [Tutorial 15: Various topics](15-tutorial-various-topics.ipynb)\n",
    "\n",
    "**Exercises**\n",
    "- [Exercise 01: Domain wall pair conversion](01-exercise-dw-pair-conversion.ipynb)\n",
    "- [Exercise 02: Vortex dynamics](02-exercise-vortex-dynamics.ipynb)"
   ]
  }
 ],
 "metadata": {
  "kernelspec": {
   "display_name": "Python 3",
   "language": "python",
   "name": "python3"
  },
  "language_info": {
   "codemirror_mode": {
    "name": "ipython",
    "version": 3
   },
   "file_extension": ".py",
   "mimetype": "text/x-python",
   "name": "python",
   "nbconvert_exporter": "python",
   "pygments_lexer": "ipython3",
   "version": "3.8.1"
  },
  "widgets": {
   "application/vnd.jupyter.widget-state+json": {
    "state": {},
    "version_major": 2,
    "version_minor": 0
   }
  }
 },
 "nbformat": 4,
 "nbformat_minor": 4
}
