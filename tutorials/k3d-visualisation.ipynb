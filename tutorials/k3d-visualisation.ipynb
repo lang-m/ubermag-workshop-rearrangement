{
 "cells": [
  {
   "cell_type": "markdown",
   "metadata": {},
   "source": [
    "# Visualising fields using `k3d`\n",
    "\n",
    "**Note:** If you experience any problems in plotting with `k3d`, please make sure you run the Jupyter notebook in Google Chrome.\n",
    "\n",
    "There are two ways how a field can be visualised, using:\n",
    "- `matplotlib`\n",
    "- `k3d`\n",
    "\n",
    "`k3d` provides three-dimensional interactive plots of fields inside Jupyter notebook.\n",
    "\n",
    "Let us say we have a sample, which is an ellipsoid\n",
    "\n",
    "$$\\frac{x^2}{a^2} + \\frac{y^2}{b^2} + \\frac{z^2}{c^2} <= 1$$\n",
    "\n",
    "with $a=5\\,\\text{nm}$, $b=3\\,\\text{nm}$, and $c=2\\,\\text{nm}$. The space is discretised into cells with dimensions $(0.5\\,\\text{nm}, 0.5\\,\\text{nm}, 0.5\\,\\text{nm})$. The value of the field at $(x, y, z)$ point is $(-cy, cx, cz)$, with $c=10^{9}$. The norm of the field inside the cylinder is $10^{6}$.\n",
    "\n",
    "Let us first build that field."
   ]
  },
  {
   "cell_type": "code",
   "execution_count": 7,
   "metadata": {},
   "outputs": [],
   "source": [
    "import discretisedfield as df\n",
    "\n",
    "a, b, c = 5e-9, 3e-9, 2e-9\n",
    "cell = (0.5e-9, 0.5e-9, 0.5e-9)\n",
    "\n",
    "mesh =  df.Mesh(p1=(-a, -b, -c), p2=(a, b, c), cell=cell)\n",
    "\n",
    "def norm_fun(pos):\n",
    "    x, y, z = pos\n",
    "    if (x/a)**2 + (y/b)**2 + (z/c)**2 <= 1:\n",
    "        return 1e6\n",
    "    else:\n",
    "        return 0\n",
    "    \n",
    "def value_fun(pos):\n",
    "    x, y, z = pos\n",
    "    c = 1e9\n",
    "    return (-c*y, c*x, c*z)\n",
    "\n",
    "field = df.Field(mesh, dim=3, value=value_fun, norm=norm_fun)"
   ]
  },
  {
   "cell_type": "markdown",
   "metadata": {},
   "source": [
    "The most basic plot we can show is the plot of all the cells where the value is non-zero. This can be useful, to inspect the domain created, by plotting the norm."
   ]
  },
  {
   "cell_type": "code",
   "execution_count": 8,
   "metadata": {},
   "outputs": [
    {
     "data": {
      "application/vnd.jupyter.widget-view+json": {
       "model_id": "c33cac5cff214c0683bc1c5dcbc889c5",
       "version_major": 2,
       "version_minor": 0
      },
      "text/plain": [
       "Output()"
      ]
     },
     "metadata": {},
     "output_type": "display_data"
    }
   ],
   "source": [
    "# NBVAL_IGNORE_OUTPUT\n",
    "field.norm.k3d_nonzero()"
   ]
  },
  {
   "cell_type": "markdown",
   "metadata": {},
   "source": [
    "The plot is interactive, so it can be manipulated using a mouse. To change the color of voxels, we can pass the new color via `color` argument."
   ]
  },
  {
   "cell_type": "code",
   "execution_count": 9,
   "metadata": {},
   "outputs": [
    {
     "data": {
      "application/vnd.jupyter.widget-view+json": {
       "model_id": "41b190b010924bdd9489eaf496f83dcd",
       "version_major": 2,
       "version_minor": 0
      },
      "text/plain": [
       "Output()"
      ]
     },
     "metadata": {},
     "output_type": "display_data"
    }
   ],
   "source": [
    "# NBVAL_IGNORE_OUTPUT\n",
    "field.norm.k3d_nonzero(color=0x27ae60)"
   ]
  },
  {
   "cell_type": "markdown",
   "metadata": {},
   "source": [
    "Next, we can plot a scalar field. For plotting a scalar field, we are using `discretisedfield.Field.k3d_scalar()` method."
   ]
  },
  {
   "cell_type": "code",
   "execution_count": 10,
   "metadata": {},
   "outputs": [
    {
     "name": "stdout",
     "output_type": "stream",
     "text": [
      "Exception raised.\n"
     ]
    }
   ],
   "source": [
    "# NBVAL_IGNORE_OUTPUT\n",
    "try:\n",
    "    field.k3d_scalar()\n",
    "except ValueError:\n",
    "    print('Exception raised.')"
   ]
  },
  {
   "cell_type": "markdown",
   "metadata": {},
   "source": [
    "An exception was raised because we attempted to plot a vector field using voxels. Therefore, we first need to extract a component of the field. Let us plot the $x$ component."
   ]
  },
  {
   "cell_type": "code",
   "execution_count": 11,
   "metadata": {},
   "outputs": [
    {
     "data": {
      "application/vnd.jupyter.widget-view+json": {
       "model_id": "d280a4f57e1645f6a1e3f07899370441",
       "version_major": 2,
       "version_minor": 0
      },
      "text/plain": [
       "Output()"
      ]
     },
     "metadata": {},
     "output_type": "display_data"
    }
   ],
   "source": [
    "# NBVAL_IGNORE_OUTPUT\n",
    "field.x.k3d_scalar()"
   ]
  },
  {
   "cell_type": "markdown",
   "metadata": {},
   "source": [
    "However, we can see that the points which we consider to be outside the sample are also plotted. This is because, `discretisedfield.Field.k3d_scalar()` method cannot determine the points where norm is zero from the passed scalar field. Therefore, we need to pass the `norm_field.`"
   ]
  },
  {
   "cell_type": "code",
   "execution_count": 12,
   "metadata": {},
   "outputs": [
    {
     "data": {
      "application/vnd.jupyter.widget-view+json": {
       "model_id": "db19cdffb2c04276b37c79ad414fc3a6",
       "version_major": 2,
       "version_minor": 0
      },
      "text/plain": [
       "Output()"
      ]
     },
     "metadata": {},
     "output_type": "display_data"
    }
   ],
   "source": [
    "# NBVAL_IGNORE_OUTPUT\n",
    "field.x.k3d_scalar(filter_field=field.norm)"
   ]
  },
  {
   "cell_type": "markdown",
   "metadata": {},
   "source": [
    "By cascading operations, we can similarly plot the slice of the ellipsoid at $z=0$."
   ]
  },
  {
   "cell_type": "code",
   "execution_count": 13,
   "metadata": {},
   "outputs": [
    {
     "data": {
      "application/vnd.jupyter.widget-view+json": {
       "model_id": "3cab811a453f44e28453364e5c146eb8",
       "version_major": 2,
       "version_minor": 0
      },
      "text/plain": [
       "Output()"
      ]
     },
     "metadata": {},
     "output_type": "display_data"
    }
   ],
   "source": [
    "# NBVAL_IGNORE_OUTPUT\n",
    "field.x.plane('z').k3d_scalar(filter_field=field.plane('z').norm)"
   ]
  },
  {
   "cell_type": "markdown",
   "metadata": {},
   "source": [
    "To further modify the plot, keyword arguments for `k3d.voxels()` function are accepted. Plese refer to its [documentation](https://k3d-jupyter.readthedocs.io/en/latest/k3d.html#k3d.k3d.voxels).\n",
    "\n",
    "Next, we can plot the vector field itself."
   ]
  },
  {
   "cell_type": "code",
   "execution_count": 14,
   "metadata": {},
   "outputs": [
    {
     "data": {
      "application/vnd.jupyter.widget-view+json": {
       "model_id": "ba4ed614005d499d8828416b8cc204fc",
       "version_major": 2,
       "version_minor": 0
      },
      "text/plain": [
       "Output()"
      ]
     },
     "metadata": {},
     "output_type": "display_data"
    }
   ],
   "source": [
    "# NBVAL_IGNORE_OUTPUT\n",
    "field.k3d_vector()"
   ]
  },
  {
   "cell_type": "markdown",
   "metadata": {},
   "source": [
    "By default, points at the discretisation cell centres are plotted together with vectors to help understand the structure of the field. However, they can be deactivated by passing `points=False`."
   ]
  },
  {
   "cell_type": "code",
   "execution_count": 15,
   "metadata": {},
   "outputs": [
    {
     "data": {
      "application/vnd.jupyter.widget-view+json": {
       "model_id": "87ed6398a6174312b627d8b82d7f8933",
       "version_major": 2,
       "version_minor": 0
      },
      "text/plain": [
       "Output()"
      ]
     },
     "metadata": {},
     "output_type": "display_data"
    }
   ],
   "source": [
    "# NBVAL_IGNORE_OUTPUT\n",
    "field.k3d_vector(points=False)"
   ]
  },
  {
   "cell_type": "markdown",
   "metadata": {},
   "source": [
    "It is difficult to understand the vector field from this plot. By cascading, we can plot its slice at $x=0$."
   ]
  },
  {
   "cell_type": "code",
   "execution_count": 16,
   "metadata": {},
   "outputs": [
    {
     "data": {
      "application/vnd.jupyter.widget-view+json": {
       "model_id": "8213a843571048ebb7be285905bb2440",
       "version_major": 2,
       "version_minor": 0
      },
      "text/plain": [
       "Output()"
      ]
     },
     "metadata": {},
     "output_type": "display_data"
    }
   ],
   "source": [
    "# NBVAL_IGNORE_OUTPUT\n",
    "field.plane(x=0).k3d_vector()"
   ]
  },
  {
   "cell_type": "markdown",
   "metadata": {},
   "source": [
    "To improve the understanding of the plot, we can now colour the vectors plotted. For that, we need to pass a scalar field, according to which the vectors will be coloured."
   ]
  },
  {
   "cell_type": "code",
   "execution_count": 17,
   "metadata": {},
   "outputs": [
    {
     "data": {
      "application/vnd.jupyter.widget-view+json": {
       "model_id": "f55cd24072994beb9fb13fd7632cd07b",
       "version_major": 2,
       "version_minor": 0
      },
      "text/plain": [
       "Output()"
      ]
     },
     "metadata": {},
     "output_type": "display_data"
    }
   ],
   "source": [
    "# NBVAL_IGNORE_OUTPUT\n",
    "field.plane(x=0).k3d_vector(color_field=field.x)"
   ]
  },
  {
   "cell_type": "markdown",
   "metadata": {},
   "source": [
    "To further modify the plot, keyword arguments for `k3d.vectors()` function are accepted. Plese refer to its [documentation](https://k3d-jupyter.readthedocs.io/en/latest/k3d.html#k3d.k3d.vectors).\n",
    "\n",
    "### Multiple visualisation on the same plot\n",
    "\n",
    "Sometimes, it is necessary to show, for example, multiple planes of the sample on the same plot. This can be done by exposing the `k3d.plot` and passing it to different plotting methods. For instance."
   ]
  },
  {
   "cell_type": "code",
   "execution_count": 18,
   "metadata": {},
   "outputs": [
    {
     "data": {
      "application/vnd.jupyter.widget-view+json": {
       "model_id": "358894a728c24455805d47c8588101a4",
       "version_major": 2,
       "version_minor": 0
      },
      "text/plain": [
       "Output()"
      ]
     },
     "metadata": {},
     "output_type": "display_data"
    }
   ],
   "source": [
    "# NBVAL_IGNORE_OUTPUT\n",
    "import k3d\n",
    "plot = k3d.plot()\n",
    "field.plane(x=-3e-9).k3d_vector(plot=plot, color_field=field.z)\n",
    "field.plane(x=0).k3d_vector(plot=plot, color_field=field.z, cmap='hsv')\n",
    "field.plane(x=3e-9).k3d_vector(plot=plot, color_field=field.z)\n",
    "plot.display()"
   ]
  }
 ],
 "metadata": {
  "kernelspec": {
   "display_name": "Python 3",
   "language": "python",
   "name": "python3"
  },
  "language_info": {
   "codemirror_mode": {
    "name": "ipython",
    "version": 3
   },
   "file_extension": ".py",
   "mimetype": "text/x-python",
   "name": "python",
   "nbconvert_exporter": "python",
   "pygments_lexer": "ipython3",
   "version": "3.8.3"
  },
  "widgets": {
   "application/vnd.jupyter.widget-state+json": {
    "state": {
     "0863837af9b14cd1bf8daf0aa667e957": {
      "model_module": "@jupyter-widgets/base",
      "model_module_version": "1.2.0",
      "model_name": "LayoutModel",
      "state": {}
     },
     "10decb02779b4140990f9249bb5f957f": {
      "buffers": [
       {
        "data": "eNoDAAAAAAE=",
        "encoding": "base64",
        "path": [
         "colors",
         "compressed_buffer"
        ]
       },
       {
        "data": "eNpjYGiwZ8AAxIsBAF7EAv0=",
        "encoding": "base64",
        "path": [
         "model_matrix",
         "compressed_buffer"
        ]
       },
       {
        "data": "eNpN09FthEAMBFDSwZVCBR6XdqW4kjtKSSkRWQGPH0bLYj1p5G07n/n+bL/f/7g1+f0hF3fy5CG/jnPWmdbZXHfITX5/yMWd8G+Yyfmrn7wfa+5laAyNoTE0hsbQGBpDY2gMV97Nx5p7eVZenut8yE0+33cu7oR/w0zOT8+Vd/OxZt2ewlN4Ck/hKTyFp/AUnsJTeIq+Ql+hr9BX6Cv0FfoKfYW+Ql+hr9AXhsEwGAbDYBgMg2EwDIbB8Mxf3+69C3sX9i7sXdi7/AGjvpsl",
        "encoding": "base64",
        "path": [
         "positions",
         "compressed_buffer"
        ]
       }
      ],
      "model_module": "k3d",
      "model_module_version": "2.7.3",
      "model_name": "ObjectModel",
      "state": {
       "_view_count": null,
       "_view_module": null,
       "_view_module_version": "",
       "_view_name": null,
       "color": 5010096,
       "colors": {
        "compressed_buffer": {},
        "dtype": "uint32",
        "shape": [
         0
        ]
       },
       "compression_level": 0,
       "id": 140396567795312,
       "mesh_detail": 2,
       "model_matrix": {
        "compressed_buffer": {},
        "dtype": "float32",
        "shape": [
         4,
         4
        ]
       },
       "name": "Points #2",
       "opacity": 1,
       "point_size": 0.125,
       "positions": {
        "compressed_buffer": {},
        "dtype": "float32",
        "shape": [
         80,
         3
        ]
       },
       "shader": "3dSpecular",
       "type": "Points",
       "visible": true
      }
     },
     "14fd293c2b944a86a02a3bddd2e0e1b0": {
      "buffers": [
       {
        "data": "eNrtwzENAAAIAzA0ThM25wURvG3SbCeqqqqqqqqq6usBLRliZA==",
        "encoding": "base64",
        "path": [
         "colors",
         "compressed_buffer"
        ]
       },
       {
        "data": "eNpjYGiwZ8AAxIsBAF7EAv0=",
        "encoding": "base64",
        "path": [
         "model_matrix",
         "compressed_buffer"
        ]
       },
       {
        "data": "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",
        "encoding": "base64",
        "path": [
         "origins",
         "compressed_buffer"
        ]
       },
       {
        "data": "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",
        "encoding": "base64",
        "path": [
         "vectors",
         "compressed_buffer"
        ]
       }
      ],
      "model_module": "k3d",
      "model_module_version": "2.7.3",
      "model_name": "ObjectModel",
      "state": {
       "_view_count": null,
       "_view_module": null,
       "_view_module_version": "",
       "_view_name": null,
       "colors": {
        "compressed_buffer": {},
        "dtype": "uint32",
        "shape": [
         1008,
         2
        ]
       },
       "compression_level": 0,
       "head_color": 255,
       "head_size": 1,
       "id": 140396567752416,
       "label_size": 1,
       "labels": [],
       "line_width": 0.01,
       "model_matrix": {
        "compressed_buffer": {},
        "dtype": "float32",
        "shape": [
         4,
         4
        ]
       },
       "name": "Vectors #1",
       "origin_color": 255,
       "origins": {
        "compressed_buffer": {},
        "dtype": "float32",
        "shape": [
         1008,
         3
        ]
       },
       "type": "Vectors",
       "use_head": true,
       "vectors": {
        "compressed_buffer": {},
        "dtype": "float32",
        "shape": [
         1008,
         3
        ]
       },
       "visible": true
      }
     },
     "17e5c251589d42e5be809aa20e486dc2": {
      "buffers": [
       {
        "data": "eNrbUOTDAAAEsgFv",
        "encoding": "base64",
        "path": [
         "color_map",
         "compressed_buffer"
        ]
       },
       {
        "data": "eNpjYFBwZMAABxwwxRqwidkDAFK8AuE=",
        "encoding": "base64",
        "path": [
         "model_matrix",
         "compressed_buffer"
        ]
       },
       {
        "data": "eNrllUEOACEMAjv//7R7XQGj0Vs5TqItWLXqXnxSMlFQ6Jhba2u8l9TQ/vgpMlDo2O5+KauDXNIRLb2ZnkHhDdvPJWYg3mo1aj7m5I3HOsigXAT+fnTz222eG75XTf6jAc5KA/E=",
        "encoding": "base64",
        "path": [
         "voxels",
         "compressed_buffer"
        ]
       }
      ],
      "model_module": "k3d",
      "model_module_version": "2.7.3",
      "model_name": "ObjectModel",
      "state": {
       "_view_count": null,
       "_view_module": null,
       "_view_module_version": "",
       "_view_name": null,
       "color_map": {
        "compressed_buffer": {},
        "dtype": "uint32",
        "shape": []
       },
       "compression_level": 0,
       "id": 140397729831856,
       "model_matrix": {
        "compressed_buffer": {},
        "dtype": "float32",
        "shape": [
         4,
         4
        ]
       },
       "name": "Voxels #1",
       "opacity": 1,
       "outlines": false,
       "outlines_color": 0,
       "type": "Voxels",
       "visible": true,
       "voxels": {
        "compressed_buffer": {},
        "dtype": "uint8",
        "shape": [
         8,
         12,
         20
        ]
       },
       "wireframe": false
      }
     },
     "1dec8619a0ac476b8e85d27444afa7f2": {
      "model_module": "@jupyter-widgets/base",
      "model_module_version": "1.2.0",
      "model_name": "LayoutModel",
      "state": {}
     },
     "1fea68fc46584d26bdf766942303a3ff": {
      "buffers": [
       {
        "data": "eNpL33aMIR2IixatBeOKzj4wLsrLAeOc8AAIdrcAY4/r78E48MIzMI45ch2Mc9btBeOKvslgXJiVDsY5vo5gnGejDMaFxqxgnKXHAMYmj/+CscXD32Bsf/cbGHtfeQ3GcYeugnHpzIVgnJcQDcG2amCcb8AAxvFaEByhDsEhqhBs8eIfGJs9Q8Uwex3vfAXjdGg4wPyZCDQLhGHm+CujYj8lCKa1+bQOH2rHZzqJ6QkAsiHXjQ==",
        "encoding": "base64",
        "path": [
         "colors",
         "compressed_buffer"
        ]
       },
       {
        "data": "eNpjYGiwZ8AAxIsBAF7EAv0=",
        "encoding": "base64",
        "path": [
         "model_matrix",
         "compressed_buffer"
        ]
       },
       {
        "data": "eNpNk09IVHEQxy3s0GVzi00CoYPgpXLZzUWK3ny3y2YbWLGXKJY2gtKECPZBhhGSCxGLlR7KzaI/bo+gQx60tNiZRySUWNChCDY6lGDSsSgIkn5zak5vDt+Z+bzf9ztBY4yfzk7Iyvc5mbr9ujZ6oktWVV7IvZGmWsf6UW4rhFp7Y/UjpLXTeKcrnVBN0BijvZlb0F4ZKfCuq9Hw4clr0nL3AM/MfpW+o8Oy9kkHD5eqgt7LcujLak5+y8rQ85J8nszUWj6Mcf7noNbeq1w3ae009LY5BdW4XioOjEN73UzKZj5BZ7pd9PJMJK27Cuv6+V1PItyxMS67h4q8PBkNm6a3yN/OPs5uX5TsQpsstR7mTf4DObVns6SqCX78plt+XN8gv6vjNVoOuPX+Gq290rYkae00dDCZgGpcLy2Vb0J73UyaWahDZ7pd1Lw/ktZdjoHiN9rTytDQMMh5PxHGn/Ww/+cC75uLhl2PjvPHlfN8pbQo7h05lu/nS6lA3D9z8Wwv3/Fz4naze0/OXZznqV/va/q27utp7TR0rLwVqnG9dG6+Au11M8kfqENnul00vTOS1l2OgSbK7WllMDxkeMjwkOEhw0OGxzM8nuEhw0OGhwwPGR4yfsH4BeMXjF8wfsH4BeMXjF8wfsH4BeMXjF8wuYXJLUxuYXILk1uY3MLkFia3MLmFyS2C/3cHc3cwdwdzdzB3B3N3+AdxbcZ8",
        "encoding": "base64",
        "path": [
         "origins",
         "compressed_buffer"
        ]
       },
       {
        "data": "eNpNky9Ig2EQxhcGYjKZFATXTQ5BuEcsisXqiiAmDVociG04tFhcWFQU5pKIwrB9t2a2KQsiFhFNGhyiw7uP9+AJx3sf3/35ve9z1y428bC1LeNn99o5WUJp81D+Zt71vHEsbo+DX/ez8C1GI6ZdbGrkdhvPKJwuSu1gT+07r+n/h2878Fw7tfKyj4n6lbyWevp0fSduo6t997PwLUYjxnMi13tETeul0WttpI+FjWkpLw/pfP0Ll9WK1FYm1fjyuziv1cr7eu1y6wafvQ+xU79bY3Db2X1zX8P3fxHjHJHrd46a1kujlzFoMBQKhbmjqVkxy6o/A2QX62KW2dshvWlm90S6f2b9kDj8PZFMk+V+4stj0nvluUmbvKb10uhlDN1gIB4hHiEeIR4hHhAPiAfEA+IR4hHiEeIR0gukF0gvkF4gvUB6gfQC6QXSC6QXSC+QXqC5Bc0taG5BcwuaW9DcguYWNLeguQXNbf6OaXdAewfaO9DegfYOtHf4Bxv95zQ=",
        "encoding": "base64",
        "path": [
         "vectors",
         "compressed_buffer"
        ]
       }
      ],
      "model_module": "k3d",
      "model_module_version": "2.7.3",
      "model_name": "ObjectModel",
      "state": {
       "_view_count": null,
       "_view_module": null,
       "_view_module_version": "",
       "_view_name": null,
       "colors": {
        "compressed_buffer": {},
        "dtype": "uint32",
        "shape": [
         80,
         2
        ]
       },
       "compression_level": 0,
       "head_color": 255,
       "head_size": 1,
       "id": 140396567621248,
       "label_size": 1,
       "labels": [],
       "line_width": 0.01,
       "model_matrix": {
        "compressed_buffer": {},
        "dtype": "float32",
        "shape": [
         4,
         4
        ]
       },
       "name": "Vectors #1",
       "origin_color": 255,
       "origins": {
        "compressed_buffer": {},
        "dtype": "float32",
        "shape": [
         80,
         3
        ]
       },
       "type": "Vectors",
       "use_head": true,
       "vectors": {
        "compressed_buffer": {},
        "dtype": "float32",
        "shape": [
         80,
         3
        ]
       },
       "visible": true
      }
     },
     "2c21ab2dfa6649b8b66f8454cf277d35": {
      "buffers": [
       {
        "data": "eNolw2dslWUYgOHbHyb8MDExxhhjjAqCgIDQQSmlpaUtXXSP073X6fuNs7/D3puy9yqjQNl7j7KLbMqQPQREjTuuqI3PiVdypX4MaZ0howtkfQLZMrcr2LpB/qdQKIu7Q2kPKJcVPaHqM6iRdb3A3huU1PqA8TmYgX3BEdjvNRxBr2MGdcIMfgMz5E35Fmbo25j938Ho/y5G2HsYA97HCP9Afog+8CP0iM6yC/qgruiR3dCjuqNF9UAb3BMtupfsjRbTB21IX9kPLTYIFRcsQ1DxoaihYaiEATIclTgQlRQhB6GSI1EpUXIwalg0KjVGDkGlxaLS41AZ8XIoKjMBlZUok1DZyaicFDkMlZuKykuT6Wi2DLT8TLSCLJmNVpiDVhSYi1ach1ZiQy/JRy8tQC8rRC8vksXoFSUYlYGlGFVlGNXlsgKzphKztgqzrvr/9TU47LWyDkdDPQ5lx6k1SIVTl4aGy9BxmQYuh4nb6ZBO3C4nHrdLuvF4PHi9Xrw+H75Ay8Ln92MNHy5HYI0YiTVylByNNUqOHoM1Zqwch3/sePzjJuAfP1FOwj9hMtbEKViTpsppWJOnY02ZgTV1ppyFNa0Ra/psrBlz5FysmfOwZsnG+fgaF+CbvRDfnEX45i7GN2+JXIp3/jK8C5bjXbhCrsS7aBWexavxLGnCs3SNXIt72Trcy9fjXtEsN+BauRHXqk24VrfgatqMs2kLzjVbca7dhmPddhzrd+Bo3onZvAtzwx6MjXsxNu3DaNmP3nIAffNBtC2H0LYeRtt2BLX9qDxGw47jNOw8gX1XK/bdJ6nfc0qepm7vGer2naV2/zlqD5yn5mAb1YcuyItUHb5E5ZHLVB69QsWxq1Qcv0b5ieuUtd6gtLWd0pM3KTl1i+LTtyk6c4eis3cpPHePgvP3yW97gK3tIbYLj8j74jG5F5+Qc+kp2ZefkXXlOZlXX5Bx7SXp178m7cYrUtu/IaX9W5JvfkfSre9JvP0DCXd+JP7Ln4i7+zOx934h5v6vRD/4jaiHvxP56A8iHv9J+JO/CHv6N6HP/iH4q38Jft5ByIsOQl92EPaqg/8ABrdj6Q==",
        "encoding": "base64",
        "path": [
         "color_map",
         "compressed_buffer"
        ]
       },
       {
        "data": "eNrjuq5sw4AGls0+Yo0uli/UjCHGwNBgDwDL+QV/",
        "encoding": "base64",
        "path": [
         "model_matrix",
         "compressed_buffer"
        ]
       },
       {
        "data": "eNrl1c9LKlEUB/BJGFzoxtCFBLMcpoUIEUMYYVRCFBkWiZIUYTEwhGL+aPwLnBxNlBgYSqIwFKMkowisSCKJIQJxkcxyIFwoudGFCPZ8iphv9eDxVt7d/XA553zhci8A/PvKsGymV87iiWQyET/7QZQ/EAyFggE/1TWn3Wa1WKw2u/PHwVW9TqvV6Vd7K6pQVAX851Usl4s98Jrl+EKB57KvHTm/unticxyXY5/urs7bdngciSdT6XQqGY8cH7aI3KN8gRDNMHQo4KP2yN9G7DodNguOYbjF5nDuEq2DWxsmvVajVmu0etPGVrveyuLsJKqAYQU6Obu40uk8poQhuRyClWM9I8okEtlfhavXe/d5vlip1SpFPt+R1PPbB/9VrX7xH2/PqRbFLq7vMzm+VOJzmfvri1iTaOboJJpIsfk8m0pET44YGgA8pJfyB+lwNBqmg37KS3oAwE24nHYrbjYazbjV7nQRbgDAsc11o06DIgiq0RnXNzG8WdCwvDCjUkBSKaRQzSwsG1qNNROjw9CgSDQIDY9OaDoTIpBMLBSKZRDSmwUE/whbqtS/v+uVUley3Ge51mjUyp9cti23Dy/vXKHaaFQL3PvLw22TIrHLm0eWK9XrJY59vLmMRYADmgmfxpLpfKWSTydjp2GGPvCQpNe3H2KiLBtlQvs+L0l63AThcuxYMCOKGjHLjsNFEO5tHDOvGbRqRCxG1FrDmhnDtwGTYWl+CoWlICiF0an5JYOp2XhuenwElosEApEcHhmfnmtPqISHJEKBQCgZgpXdJFIxODAAiqX9nLff7nMfvld98h/9AlMm+BA=",
        "encoding": "base64",
        "path": [
         "voxels",
         "compressed_buffer"
        ]
       }
      ],
      "model_module": "k3d",
      "model_module_version": "2.7.3",
      "model_name": "ObjectModel",
      "state": {
       "_view_count": null,
       "_view_module": null,
       "_view_module_version": "",
       "_view_name": null,
       "color_map": {
        "compressed_buffer": {},
        "dtype": "uint32",
        "shape": [
         256
        ]
       },
       "compression_level": 0,
       "id": 140396567674736,
       "model_matrix": {
        "compressed_buffer": {},
        "dtype": "float32",
        "shape": [
         4,
         4
        ]
       },
       "name": "Voxels #1",
       "opacity": 1,
       "outlines": false,
       "outlines_color": 0,
       "type": "Voxels",
       "visible": true,
       "voxels": {
        "compressed_buffer": {},
        "dtype": "uint8",
        "shape": [
         8,
         12,
         20
        ]
       },
       "wireframe": false
      }
     },
     "3cfea149305b4907999c24561ef2dd2b": {
      "buffers": [
       {
        "data": "eNolw2dslWUYgOHbHyb8MDExxhhjjAqCgIDQQSmlpaUtXXSP073X6fuNs7/D3puy9yqjQNl7j7KLbMqQPQREjTuuqI3PiVdypX4MaZ0howtkfQLZMrcr2LpB/qdQKIu7Q2kPKJcVPaHqM6iRdb3A3huU1PqA8TmYgX3BEdjvNRxBr2MGdcIMfgMz5E35Fmbo25j938Ho/y5G2HsYA97HCP9Afog+8CP0iM6yC/qgruiR3dCjuqNF9UAb3BMtupfsjRbTB21IX9kPLTYIFRcsQ1DxoaihYaiEATIclTgQlRQhB6GSI1EpUXIwalg0KjVGDkGlxaLS41AZ8XIoKjMBlZUok1DZyaicFDkMlZuKykuT6Wi2DLT8TLSCLJmNVpiDVhSYi1ach1ZiQy/JRy8tQC8rRC8vksXoFSUYlYGlGFVlGNXlsgKzphKztgqzrvr/9TU47LWyDkdDPQ5lx6k1SIVTl4aGy9BxmQYuh4nb6ZBO3C4nHrdLuvF4PHi9Xrw+H75Ay8Ln92MNHy5HYI0YiTVylByNNUqOHoM1Zqwch3/sePzjJuAfP1FOwj9hMtbEKViTpsppWJOnY02ZgTV1ppyFNa0Ra/psrBlz5FysmfOwZsnG+fgaF+CbvRDfnEX45i7GN2+JXIp3/jK8C5bjXbhCrsS7aBWexavxLGnCs3SNXIt72Trcy9fjXtEsN+BauRHXqk24VrfgatqMs2kLzjVbca7dhmPddhzrd+Bo3onZvAtzwx6MjXsxNu3DaNmP3nIAffNBtC2H0LYeRtt2BLX9qDxGw47jNOw8gX1XK/bdJ6nfc0qepm7vGer2naV2/zlqD5yn5mAb1YcuyItUHb5E5ZHLVB69QsWxq1Qcv0b5ieuUtd6gtLWd0pM3KTl1i+LTtyk6c4eis3cpPHePgvP3yW97gK3tIbYLj8j74jG5F5+Qc+kp2ZefkXXlOZlXX5Bx7SXp178m7cYrUtu/IaX9W5JvfkfSre9JvP0DCXd+JP7Ln4i7+zOx934h5v6vRD/4jaiHvxP56A8iHv9J+JO/CHv6N6HP/iH4q38Jft5ByIsOQl92EPaqg/8ABrdj6Q==",
        "encoding": "base64",
        "path": [
         "color_map",
         "compressed_buffer"
        ]
       },
       {
        "data": "eNpjYFBwZMAABxwwxRjsMYUa7AFHpwJg",
        "encoding": "base64",
        "path": [
         "model_matrix",
         "compressed_buffer"
        ]
       },
       {
        "data": "eNpjYACBN19+////+8sbBji4eOvp+5///v18//TWRYjItr1Hz916/vXfv6/Pb507uncbUGjJinVb95269eb37ze3Tu3bum7FEoYp02bOXbRi08EbX77cOLhpxaK5M6dNae/o6OrpmzRz+alTy2dO6uvp6uhor6yoKCspykuPNDOLTM8rKimrqKjMyUpPjovws9fg4dGw94uIS07PymGIiQjydjJTE2FlFVEzc/IOiogBWuzlbG2kJsnNxMQtqWZk7ewFcaG+mrQgOxMTu6C0mj7CJyI8rIyMrDwiEB4A19heAQ==",
        "encoding": "base64",
        "path": [
         "voxels",
         "compressed_buffer"
        ]
       }
      ],
      "model_module": "k3d",
      "model_module_version": "2.7.3",
      "model_name": "ObjectModel",
      "state": {
       "_view_count": null,
       "_view_module": null,
       "_view_module_version": "",
       "_view_name": null,
       "color_map": {
        "compressed_buffer": {},
        "dtype": "uint32",
        "shape": [
         256
        ]
       },
       "compression_level": 0,
       "id": 140396567722448,
       "model_matrix": {
        "compressed_buffer": {},
        "dtype": "float32",
        "shape": [
         4,
         4
        ]
       },
       "name": "Voxels #1",
       "opacity": 1,
       "outlines": false,
       "outlines_color": 0,
       "type": "Voxels",
       "visible": true,
       "voxels": {
        "compressed_buffer": {},
        "dtype": "uint8",
        "shape": [
         1,
         12,
         20
        ]
       },
       "wireframe": false
      }
     },
     "4113941e85e04970a793e81d065c1f93": {
      "model_module": "@jupyter-widgets/base",
      "model_module_version": "1.2.0",
      "model_name": "LayoutModel",
      "state": {}
     },
     "4206f22d8c1e44fb8e85fbab3ccaf5ee": {
      "model_module": "@jupyter-widgets/base",
      "model_module_version": "1.2.0",
      "model_name": "LayoutModel",
      "state": {}
     },
     "44738dd768374a50a9071a42c26500b9": {
      "model_module": "@jupyter-widgets/base",
      "model_module_version": "1.2.0",
      "model_name": "LayoutModel",
      "state": {}
     },
     "48b7c24d8b6d49579fdea4cc4898c4bd": {
      "model_module": "k3d",
      "model_module_version": "2.7.3",
      "model_name": "PlotModel",
      "state": {
       "_backend_version": "2.7.3",
       "_dom_classes": [],
       "_view_count": null,
       "antialias": 3,
       "auto_rendering": true,
       "axes": [
        "x (um)",
        "y (um)",
        "z (um)"
       ],
       "axes_helper": 1,
       "background_color": 16777215,
       "camera": [
        0.010284874801788711,
        -0.015489812199268219,
        0.0010059874726398128,
        -2.4999996088445175e-05,
        -2.5000002452482727e-05,
        -2.5000007147901043e-05,
        0,
        0,
        1
       ],
       "camera_animation": [],
       "camera_auto_fit": true,
       "camera_fov": 60,
       "camera_no_pan": false,
       "camera_no_rotate": false,
       "camera_no_zoom": false,
       "clipping_planes": [],
       "colorbar_object_id": -1,
       "fps": 25,
       "fps_meter": false,
       "grid": [
        -1,
        -1,
        -1,
        1,
        1,
        1
       ],
       "grid_auto_fit": true,
       "grid_visible": true,
       "height": 512,
       "layout": "IPY_MODEL_686a8e5fa86b4bdd93088fc99b640f52",
       "lighting": 1.5,
       "menu_visibility": true,
       "mode": "view",
       "name": null,
       "object_ids": [
        140396567674736
       ],
       "rendering_steps": 1,
       "screenshot": "",
       "screenshot_scale": 2,
       "snapshot": "",
       "time": 0,
       "voxel_paint_color": 0
      }
     },
     "491d40c66fe7403d929bf03738758ff4": {
      "model_module": "@jupyter-widgets/base",
      "model_module_version": "1.2.0",
      "model_name": "LayoutModel",
      "state": {}
     },
     "49419f9b69c74c379c5560bee21dbd48": {
      "model_module": "@jupyter-widgets/base",
      "model_module_version": "1.2.0",
      "model_name": "LayoutModel",
      "state": {}
     },
     "49afcf915f834f79a38b47538bdf9676": {
      "model_module": "@jupyter-widgets/base",
      "model_module_version": "1.2.0",
      "model_name": "LayoutModel",
      "state": {}
     },
     "4b7f3519fec248a68ee6d0ce037d6eb2": {
      "model_module": "@jupyter-widgets/base",
      "model_module_version": "1.2.0",
      "model_name": "LayoutModel",
      "state": {}
     },
     "4fa2e35375394ce1bf07b86885eee739": {
      "model_module": "@jupyter-widgets/base",
      "model_module_version": "1.2.0",
      "model_name": "LayoutModel",
      "state": {}
     },
     "50af3cb632454f268de82e2c48f5beca": {
      "model_module": "@jupyter-widgets/output",
      "model_module_version": "1.0.0",
      "model_name": "OutputModel",
      "state": {
       "layout": "IPY_MODEL_c0b123b81357422a89200e47bb15ad11",
       "outputs": [
        {
         "data": {
          "application/vnd.jupyter.widget-view+json": {
           "model_id": "ed400decf83b424a84c45f64165351f7",
           "version_major": 2,
           "version_minor": 0
          },
          "text/plain": "Plot(antialias=3, axes=['x', 'y', 'z'], axes_helper=1.0, background_color=16777215, camera=[2, -3, 0.2, 0.0, 0…"
         },
         "metadata": {},
         "output_type": "display_data"
        }
       ]
      }
     },
     "55a65bf8b6e04f24a73c9dc73815c69a": {
      "model_module": "k3d",
      "model_module_version": "2.7.3",
      "model_name": "PlotModel",
      "state": {
       "_backend_version": "2.7.3",
       "_dom_classes": [],
       "_view_count": null,
       "antialias": 3,
       "auto_rendering": true,
       "axes": [
        "x (m)",
        "y (m)",
        "z (m)"
       ],
       "axes_helper": 1,
       "background_color": 16777215,
       "camera": [
        84.71979681592038,
        -65.20469514006155,
        10.746979618634622,
        24.750000033527613,
        24.750000033527613,
        4.749999940395355,
        0,
        0,
        1
       ],
       "camera_animation": [],
       "camera_auto_fit": true,
       "camera_fov": 60,
       "camera_no_pan": false,
       "camera_no_rotate": false,
       "camera_no_zoom": false,
       "clipping_planes": [],
       "colorbar_object_id": -1,
       "fps": 25,
       "fps_meter": false,
       "grid": [
        -1,
        -1,
        -1,
        1,
        1,
        1
       ],
       "grid_auto_fit": true,
       "grid_visible": true,
       "height": 512,
       "layout": "IPY_MODEL_4113941e85e04970a793e81d065c1f93",
       "lighting": 1.5,
       "menu_visibility": true,
       "mode": "view",
       "name": null,
       "object_ids": [
        140396567319552
       ],
       "rendering_steps": 1,
       "screenshot": "",
       "screenshot_scale": 2,
       "snapshot": "",
       "time": 0,
       "voxel_paint_color": 0
      }
     },
     "597e594b5b284f5ca722e713e319c074": {
      "model_module": "@jupyter-widgets/base",
      "model_module_version": "1.2.0",
      "model_name": "LayoutModel",
      "state": {}
     },
     "5e2a6224b211481fb9944e02f3e0a168": {
      "buffers": [
       {
        "data": "eNoLarnLEDSKR/EAYQCnbA/w",
        "encoding": "base64",
        "path": [
         "colors",
         "compressed_buffer"
        ]
       },
       {
        "data": "eNpjYGiwZ8AAxIsBAF7EAv0=",
        "encoding": "base64",
        "path": [
         "model_matrix",
         "compressed_buffer"
        ]
       },
       {
        "data": "eNpNk09IVHEQxy3s0GVzi00CoYPgpXLZzUWK3ny3y2YbWLGXKJY2gtKECPZBhhGSCxGLlR7KzaI/bo+gQx60tNiZRySUWNChCDY6lGDSsSgIkn5zak5vDt+Z+bzf9ztBY4yfzk7Iyvc5mbr9ujZ6oktWVV7IvZGmWsf6UW4rhFp7Y/UjpLXTeKcrnVBN0BijvZlb0F4ZKfCuq9Hw4clr0nL3AM/MfpW+o8Oy9kkHD5eqgt7LcujLak5+y8rQ85J8nszUWj6Mcf7noNbeq1w3ae009LY5BdW4XioOjEN73UzKZj5BZ7pd9PJMJK27Cuv6+V1PItyxMS67h4q8PBkNm6a3yN/OPs5uX5TsQpsstR7mTf4DObVns6SqCX78plt+XN8gv6vjNVoOuPX+Gq290rYkae00dDCZgGpcLy2Vb0J73UyaWahDZ7pd1Lw/ktZdjoHiN9rTytDQMMh5PxHGn/Ww/+cC75uLhl2PjvPHlfN8pbQo7h05lu/nS6lA3D9z8Wwv3/Fz4naze0/OXZznqV/va/q27utp7TR0rLwVqnG9dG6+Au11M8kfqENnul00vTOS1l2OgSbK7WllMDxkeMjwkOEhw0OGxzM8nuEhw0OGhwwPGR4yfsH4BeMXjF8wfsH4BeMXjF8wfsH4BeMXjF8wuYXJLUxuYXILk1uY3MLkFia3MLmFyS2C/3cHc3cwdwdzdzB3B3N3+AdxbcZ8",
        "encoding": "base64",
        "path": [
         "origins",
         "compressed_buffer"
        ]
       },
       {
        "data": "eNpNky9Ig2EQxhcGYjKZFATXTQ5BuEcsisXqiiAmDVociG04tFhcWFQU5pKIwrB9t2a2KQsiFhFNGhyiw7uP9+AJx3sf3/35ve9z1y428bC1LeNn99o5WUJp81D+Zt71vHEsbo+DX/ez8C1GI6ZdbGrkdhvPKJwuSu1gT+07r+n/h2878Fw7tfKyj4n6lbyWevp0fSduo6t997PwLUYjxnMi13tETeul0WttpI+FjWkpLw/pfP0Ll9WK1FYm1fjyuziv1cr7eu1y6wafvQ+xU79bY3Db2X1zX8P3fxHjHJHrd46a1kujlzFoMBQKhbmjqVkxy6o/A2QX62KW2dshvWlm90S6f2b9kDj8PZFMk+V+4stj0nvluUmbvKb10uhlDN1gIB4hHiEeIR4hHhAPiAfEA+IR4hHiEeIR0gukF0gvkF4gvUB6gfQC6QXSC6QXSC+QXqC5Bc0taG5BcwuaW9DcguYWNLeguQXNbf6OaXdAewfaO9DegfYOtHf4Bxv95zQ=",
        "encoding": "base64",
        "path": [
         "vectors",
         "compressed_buffer"
        ]
       }
      ],
      "model_module": "k3d",
      "model_module_version": "2.7.3",
      "model_name": "ObjectModel",
      "state": {
       "_view_count": null,
       "_view_module": null,
       "_view_module_version": "",
       "_view_name": null,
       "colors": {
        "compressed_buffer": {},
        "dtype": "uint32",
        "shape": [
         80,
         2
        ]
       },
       "compression_level": 0,
       "head_color": 255,
       "head_size": 1,
       "id": 140396567706208,
       "label_size": 1,
       "labels": [],
       "line_width": 0.01,
       "model_matrix": {
        "compressed_buffer": {},
        "dtype": "float32",
        "shape": [
         4,
         4
        ]
       },
       "name": "Vectors #1",
       "origin_color": 255,
       "origins": {
        "compressed_buffer": {},
        "dtype": "float32",
        "shape": [
         80,
         3
        ]
       },
       "type": "Vectors",
       "use_head": true,
       "vectors": {
        "compressed_buffer": {},
        "dtype": "float32",
        "shape": [
         80,
         3
        ]
       },
       "visible": true
      }
     },
     "65d344cef02449d0a2136a8e1708a930": {
      "model_module": "k3d",
      "model_module_version": "2.7.3",
      "model_name": "PlotModel",
      "state": {
       "_backend_version": "2.7.3",
       "_dom_classes": [],
       "_view_count": null,
       "antialias": 3,
       "auto_rendering": true,
       "axes": [
        "x (nm)",
        "y (nm)",
        "z (nm)"
       ],
       "axes_helper": 1,
       "background_color": 16777215,
       "camera": [
        10.284874878907916,
        -15.489812315567907,
        1.0059874815950491,
        -0.02499999664723873,
        -0.02500000223517418,
        -0.025000005960464478,
        0,
        0,
        1
       ],
       "camera_animation": [],
       "camera_auto_fit": true,
       "camera_fov": 60,
       "camera_no_pan": false,
       "camera_no_rotate": false,
       "camera_no_zoom": false,
       "clipping_planes": [],
       "colorbar_object_id": -1,
       "fps": 25,
       "fps_meter": false,
       "grid": [
        -1,
        -1,
        -1,
        1,
        1,
        1
       ],
       "grid_auto_fit": true,
       "grid_visible": true,
       "height": 512,
       "layout": "IPY_MODEL_e4ab1cbb94f94398a4185302b7971df8",
       "lighting": 1.5,
       "menu_visibility": true,
       "mode": "view",
       "name": null,
       "object_ids": [
        140397729831856
       ],
       "rendering_steps": 1,
       "screenshot": "",
       "screenshot_scale": 2,
       "snapshot": "",
       "time": 0,
       "voxel_paint_color": 0
      }
     },
     "686a8e5fa86b4bdd93088fc99b640f52": {
      "model_module": "@jupyter-widgets/base",
      "model_module_version": "1.2.0",
      "model_name": "LayoutModel",
      "state": {}
     },
     "6c38cf3900c24f2288efc532c5978e0c": {
      "buffers": [
       {
        "data": "eNrtwzENAAAIAzA0ThM25wURvG3SbCeqqqqqqqqq6usBLRliZA==",
        "encoding": "base64",
        "path": [
         "colors",
         "compressed_buffer"
        ]
       },
       {
        "data": "eNpjYGiwZ8AAxIsBAF7EAv0=",
        "encoding": "base64",
        "path": [
         "model_matrix",
         "compressed_buffer"
        ]
       },
       {
        "data": "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",
        "encoding": "base64",
        "path": [
         "origins",
         "compressed_buffer"
        ]
       },
       {
        "data": "eNpdmlvI5lUVxscyERtxJG8aiDIpMqeD2SRT73q8yEqDnCg6eaWGHUZUCtTyQlMyFYLEJBQUT5FX6qSGVu96JhJNqbAw0RxKNFIz8pDpZKbTXru9h9/7Xfx5N9+3D2vtvfZaz///PPv/5bs6Y8Oh/nPc5b9uvkz7HnJq3nDOfbMd1d7//31Ufe55/CA9dfuNrqf+1v7Xxz5y2ELt8bcv2umXLjhGP7rpgrz+ub/NdlR79FH1GWM5Z5/336ceEbfvvNdb1l3l7V86LnZecZvrKVuaTS57ar42r2vO9fd+L9qTf7j65dmOao8+qj5jrGrsmFM151hLtVZrJ9ZNrJtYN7FuYt3Euol1E+sm1s25bvPd2E9jP439NPbT2E9jP4399NzPmg/na5yvcb6e53vB1x7Ua689wNtPPN2HHf+IXn/xR/MTh31jtqPao4+qz68+c4l2XvpTn3z4cb51n+vUHh971pdr7/Tudee5njavpm9tPWFPNc919OnxNMb28WNO1ZxjLdVa1571Lj113qP1649sPVq/fvbB+vWZx56gOsf2W2v3/a556hxqnXo+ufEG1T62X2/9+a2q82u/sx3VHn1UfcbYPn7M2W0ba6nWGjaobBi2qWw7efND8dCWp3zupvf77NN2xbP3Pdb3qvav7WPf57n35ftcs55fPrZN7fGu5Z3+xabztfuSG/OoFx6a7aj26KPqM8b28WPOvp9jrX5ew4a+h8M2lW1br9krLlv/vE/a961+YsMb4qyXn/bBDxzpd550aPzn8Sf9k5992nX+LQ5cMTBjp/Zk7lk9ZVezz2Xb+666K9qT5+y9a7aj2qOPqs8Yqxo75uz7PNZSrTVsUNkwbFPZNmxW2dzaCfsT9ifsT9ifsD9hf8L+hP0J+xP2J+xP2J+wP2F/wv6c9rezSMRJIk6MODHixIgTI06MODHixIgTI06MODHiJBEnOeOkYhr3zrh3xr0z7p1x74x7t7LvuHfGvTPunXHvjHtn3DvPe9dyhZGXjLxk5CUjL63keuQlIy8ZecnIS555qc4K+dPIn0b+9Myfm29/UVUPzr50n9mOaueN29Uef+rSv+eVL96pb2673F/54Wv2nE+tceERT2rv3250PScf/k8df8zn8sNnHjzbUe3Rp/cbY3t+H3Oq5hxrqdb67MWn6cJz/+Q7zvhN/mDrd3T8Aff740c9ntW3jek2zNpSdWbGTu1jq0OadavVJ6Featbs0af3G2N7bRhzquYca3Xbhg0qG4ZtKtuW579ZG49+xtu/uiNbXKruTsVpOwPV3an4LV/neczaWGvN2C972n3QvD/tngj3XzOXjT693xjb68eYs9s/1up7O2xQ2TBsU9k2bFbZvPl3N8c1B77k9rsnr1SO+fHRj8a2/f7l9pvNf+04/5m+53WG7Sz7Wc+aX3s473TZxho3z7NiaLSj2qxlY2z3a8zZz2Ws1WNm2NDPYtimsm3YrLJ5+KLy5cyL/rF49YT/+gtvvyW/uOt18fB7XvZBz9+TF577xvjQ6S/1WKoYb7HuivOK0xavrliduKb2duat2v9pez0zlsdeaO7L6NPvzBirGjvm7Oc11lKtNWxQ2TBs6zE2bFbZPHxR+dLaS/iV8CvhV8KvhF8JvxJ+Jfwy/DL8SviV8CvhV8KvhF8JvxJ+LadfdWaIw0QcJuLQiEMjDo04NOLQiMMVPxGHRhwacWjEoRGHRhwm4jARhznjsN01Iz8Y+cHID0Z+MPKDkR+M/LCCD5AfjPxg5AcjPxj5wcgPRn7wzA8t1xl52MjDRh428rCRh408vPLegjxs5GEjDxt52MjDRh72zMM416pTRp0y6pRRp4w6ZdQpo04ZdcqoU3vyWt0z1E3PullYYPu2i33k+jftwVyFv+adqDG/v/JVfXDTlqxntKPao0+vx2OsauyYUzXn+ndcp+fee7evOGRDnvDibWqP99r5luR75MR9VfvnvSyfb778FX3slBOzntGOao8+vX6Psf29a8zZ7RlrqdYaNqhsuPqOz/c8cepNu5Y3Pfz1/k608e79suwtbFY21xyFzWqe+Q5a76MTqxbumbmkYqW9xwrvt5rv2KNPr+tjbH+XG3Oq5hxrdZuHDX3fhm0q24bNKpu/df0G7XjsBe8+5Yllw8EqDF+4uOFjFYYvvFznUBi+zqL2ZuKq+W5dNkwMXnbOHFl3deYG5In+TjL69Ho/xnafx5zdr7FWP4thQ4+HYZvKtmGzyubhi8qXM56+Oi7Z8oqfjweWLc9G1Y7Kuy3/9ppY+bjdpV4TK09X3M2YrliY92R+S6g9n+8cZTPxIXEg8R5x3Rjb/R1z9nMca/XYGzb0sxu2qWwbNqtsHr6ofBk+qnz8wGUPLtatW7ej/S5vuPvZxYH373b7XZ593L7xtu/vdvvNFgfxxyN295isO9funuve1T1o98F1F+Z3lDoL4iLiH+Ic4hniFuKTMWc/37FWv4fDhp4Lhm09VofNKpuHLypfho9HlY/1wN8l/E34m/A34W/C34S/CX8Nf9c+01/D34S/CX8T/ib8Tfib8HcJf5fT33bWiXhOxHMinhPxbMSzEc9GPBvxbMTzWjw049mIZyOejXg24tmI50Q8J+I5Ec8547ndZSMvGXnJyEtGXjLykpGXjLxk5KW13xdmXjLykpGXjLxk5CUjLxl5ychLnnmp5V6jXhj1wqgXRr0w6oVRL4x6sfZ76KwXRr0w6oVRL4x6YdQLo1541otW+4z6a9Rfo/4a9deov0b9NeqvUX+N+mvUX6P+etbf2jPgDQNvGHjDwBsG3jDwhoE3PPEG8EwAzwTwTADPBPBMAM8E8EwAzwTwTADP8Lt4AM8E8EwAzwTwTADPBPBMAM8E8EwAzwTwzAJ4JoBnAngmgGcCeCaAZwJ4JoBnAngmgGcCeCaAZwJ4JoBnAnhmATyzAJ4J4JkAngngmQCeCeCZAJ4J4JkAngngmQCeCeCZAJ4J4JkAngngmQCeWQDPLIBnFsAzATwTwDMBPBPAMwE8E8AzATwj4BkBzwTwTADPBPBMAM8E8EwAzwTwzAJ4ZgE8swCeWQDPBPBMAM8E8EwAzwTwTADPCHhGfOg/z5txzLvH+w88E8AzATyzAJ5ZAM8sgGcWwDMBPBPMZcynrAGsbazla3EM/DX8Tfib8Dfhb8LfhL8Jf5fwd+KZBfDMAnhmATwTwDPB90y+u/K9mt8F+L1j7TcdxLMRz0Y8G/FsxLMRz4l4TsRzIp4nnlkAzyyAZwJ4JoBngt+s+U2c3+vJMazlSJCXjLxk5CUjLxl5ychLRl4y8tLEMwvgmQXwTADPBPBMAM8EeVByq2s5XdQLo14Y9cKoF0a9MOqFUS8mnlkAzwTwTADPBPBMAM8E8EwAzwTwTADPBPBMAM8E8EwAzwTwTADPBPBMAM8E8EwAzwTwTIDvEPgOMf+D7xD4DrEugO8Q+I6VegG+Q+A7VuoI+I4A3xHgOwS+Q+A7BL5D4DsEvkPgOwS+Q+A7BL5D4DsCfEeA7wjwHQG+I8B3CHyHwHcIfIfAdwh8h8B3CHyHwHcIfIfAdwT4jgDfEeA7Vuog+I4A3yHmSvAdAt+xUjfBdwh8x0o9Bd8h8B0rdRZ8h8B3BOsv+I4A3xHgOwJ8R4DvEPgOge8Q+A6B7xD4DoHvEPgOge8Q+A6B7xD4DoHvCPAdAb4jwHcE+I4A3xHgOwS+Y0X7Q80C+ag136sMvxJ+JfxK+JXwK+FXwq+EX5PvCPAdK/gEfEeA71jhmsB3CHzHCp4B3yHwHSs4B3yHwHesnDP4DoHvCOIi8B0BviPAdwT4jgDfIfAdAt8h8B0C3yHwHQLfIfAdAt8h8B0C3xHgOwJ8R4DvCPAdAb5D4DsEvkPgOwS+Q+A7BL5D4DsEvkPgOwS+I8B3rOA68B0C3yHiPfAdAt+xggPBdwh8xwo+BN8h8B2CXkvQawl6LUGvJei1BL2WoNcS9FqCXkvQawl6LUGvJei1BL2WoNcS9FqCXkvQa63kdui1BL2WoNcS9ForOR96LUGvJei1BL2WoNcS9FqCXkvQawl6LUGvJei1BL2WoNcS9FqCXkvQawl6LUGvJei1BL2WoNcS9FqCXkvQawl6LUGvJei1BL2WoNcS9FqCXkvQawl6LUGvJei1BL2WoNcS9ForulTq9ajXWMPzJOxP2J+wP2F/wv6E/Qn7p15L0GsJei1BryXotQS9lqDXEvRagl5L0GsJei1BryXotQS9lqDXEvRagl5L0GsJeq2VWga9lqDXEvRagl5rpcZBryXotQS9lqDXEvRagl5L0GsJei1BryXotQS9lqDXEvRagl5L0GsJei1BryXotfboleoMoJcW9NKCXlrQSwt6aUEvLeilBb20oJcW9NKCXlrQSwt6aUEvLeilBb20oJcW9NKCXlrQSwt6aUEvLeilV7S91H+t4ZMT6ybWTaybWHcPFw69tKCXFvTSgl5a0EsLemlBLy3opQW9tKCXFvTSgl5a/wNw2TcB",
        "encoding": "base64",
        "path": [
         "vectors",
         "compressed_buffer"
        ]
       }
      ],
      "model_module": "k3d",
      "model_module_version": "2.7.3",
      "model_name": "ObjectModel",
      "state": {
       "_view_count": null,
       "_view_module": null,
       "_view_module_version": "",
       "_view_name": null,
       "colors": {
        "compressed_buffer": {},
        "dtype": "uint32",
        "shape": [
         1008,
         2
        ]
       },
       "compression_level": 0,
       "head_color": 255,
       "head_size": 1,
       "id": 140396567899680,
       "label_size": 1,
       "labels": [],
       "line_width": 0.01,
       "model_matrix": {
        "compressed_buffer": {},
        "dtype": "float32",
        "shape": [
         4,
         4
        ]
       },
       "name": "Vectors #1",
       "origin_color": 255,
       "origins": {
        "compressed_buffer": {},
        "dtype": "float32",
        "shape": [
         1008,
         3
        ]
       },
       "type": "Vectors",
       "use_head": true,
       "vectors": {
        "compressed_buffer": {},
        "dtype": "float32",
        "shape": [
         1008,
         3
        ]
       },
       "visible": true
      }
     },
     "6effa2454f85495fa16224352dcbbb36": {
      "model_module": "@jupyter-widgets/output",
      "model_module_version": "1.0.0",
      "model_name": "OutputModel",
      "state": {
       "layout": "IPY_MODEL_4b7f3519fec248a68ee6d0ce037d6eb2",
       "outputs": [
        {
         "data": {
          "application/vnd.jupyter.widget-view+json": {
           "model_id": "e97d9c13eea5471ba013ab050e5a2eeb",
           "version_major": 2,
           "version_minor": 0
          },
          "text/plain": "Plot(antialias=3, axes=['x', 'y', 'z'], axes_helper=1.0, background_color=16777215, camera=[2, -3, 0.2, 0.0, 0…"
         },
         "metadata": {},
         "output_type": "display_data"
        }
       ]
      }
     },
     "71f92471865d41508b29dec5575c7583": {
      "model_module": "@jupyter-widgets/base",
      "model_module_version": "1.2.0",
      "model_name": "LayoutModel",
      "state": {}
     },
     "72597b8782134b358d0eb5f77ebb293f": {
      "model_module": "@jupyter-widgets/output",
      "model_module_version": "1.0.0",
      "model_name": "OutputModel",
      "state": {
       "layout": "IPY_MODEL_49419f9b69c74c379c5560bee21dbd48",
       "outputs": [
        {
         "data": {
          "application/vnd.jupyter.widget-view+json": {
           "model_id": "65d344cef02449d0a2136a8e1708a930",
           "version_major": 2,
           "version_minor": 0
          },
          "text/plain": "Plot(antialias=3, axes=['x', 'y', 'z'], axes_helper=1.0, background_color=16777215, camera=[2, -3, 0.2, 0.0, 0…"
         },
         "metadata": {},
         "output_type": "display_data"
        }
       ]
      }
     },
     "77e0e4ca4f4e49e4a993f63a0e8a55c7": {
      "buffers": [
       {
        "data": "eNoDAAAAAAE=",
        "encoding": "base64",
        "path": [
         "colors",
         "compressed_buffer"
        ]
       },
       {
        "data": "eNpjYGiwZ8AAxIsBAF7EAv0=",
        "encoding": "base64",
        "path": [
         "model_matrix",
         "compressed_buffer"
        ]
       },
       {
        "data": "eNpN09FthEAMBFDSwZVCBR6XdqW4kjtKSSkRWQGPH0bLYj1p5G07n/n+bL/f/7g1+f0hF3fy5CG/jnPWmdbZXHfITX5/yMWd8G+Yyfmrn7wfa+5laAyNoTE0hsbQGBpDY2gMV97Nx5p7eVZenut8yE0+33cu7oR/w0zOT8+Vd/OxZt2ewlN4Ck/hKTyFp/AUnsJTeIq+Ql+hr9BX6Cv0FfoKfYW+Ql+hr9AXhsEwGAbDYBgMg2EwDIbB8Mxf3+69C3sX9i7sXdi7/AGjvpsl",
        "encoding": "base64",
        "path": [
         "positions",
         "compressed_buffer"
        ]
       }
      ],
      "model_module": "k3d",
      "model_module_version": "2.7.3",
      "model_name": "ObjectModel",
      "state": {
       "_view_count": null,
       "_view_module": null,
       "_view_module_version": "",
       "_view_name": null,
       "color": 5010096,
       "colors": {
        "compressed_buffer": {},
        "dtype": "uint32",
        "shape": [
         0
        ]
       },
       "compression_level": 0,
       "id": 140397729829504,
       "mesh_detail": 2,
       "model_matrix": {
        "compressed_buffer": {},
        "dtype": "float32",
        "shape": [
         4,
         4
        ]
       },
       "name": "Points #1",
       "opacity": 1,
       "point_size": 0.125,
       "positions": {
        "compressed_buffer": {},
        "dtype": "float32",
        "shape": [
         80,
         3
        ]
       },
       "shader": "3dSpecular",
       "type": "Points",
       "visible": true
      }
     },
     "784674f1afc74ef59faf2f2cf0d7da84": {
      "model_module": "@jupyter-widgets/output",
      "model_module_version": "1.0.0",
      "model_name": "OutputModel",
      "state": {
       "layout": "IPY_MODEL_ce456d20d0004dc7a26866a88de656b3",
       "outputs": [
        {
         "data": {
          "application/vnd.jupyter.widget-view+json": {
           "model_id": "55a65bf8b6e04f24a73c9dc73815c69a",
           "version_major": 2,
           "version_minor": 0
          },
          "text/plain": "Plot(antialias=3, axes=['x', 'y', 'z'], axes_helper=1.0, background_color=16777215, camera=[2, -3, 0.2, 0.0, 0…"
         },
         "metadata": {},
         "output_type": "display_data"
        }
       ]
      }
     },
     "7c2bcba27ef5418792d0d38d52230477": {
      "buffers": [
       {
        "data": "eNqL1WRgiAXiYFUI9lNCxTDxWKi6HC9bCHa3AONcF2MIdtJHxVBxmDqYvsKcLAjOygDjgsw0CM5IxY+h6mD6YOZUdE+E4N5JYFzeNwWCJ0zDj6HqYPpg5mRtOgjG6duOgXHqztNgnLznHAqGicPUwfTZ3fsOxiZP/oGxxQtUDBOHqQMASH2EsQ==",
        "encoding": "base64",
        "path": [
         "colors",
         "compressed_buffer"
        ]
       },
       {
        "data": "eNpjYGiwZ8AAxIsBAF7EAv0=",
        "encoding": "base64",
        "path": [
         "model_matrix",
         "compressed_buffer"
        ]
       },
       {
        "data": "eNpNkT9IQlEUxh+h0BRUIJGT9I9AIgSlB717HhYPFRSHFlHMLBqcMqglKhqCSHuWIEFQUA02BE7l1L0HoaEwiGwUDKKoaGgSIYK6U2f7hvOdH/y+SMmP/DolQsdZsdFrYKFZ5WfFjHiweXEy0dDu7Rkx8q5h+6cdZF5/UTFayYK8KYY96Di8Bdk90YOYjlyKDt+wcDoDGFiZFz+FIfGdNnDzq8K7xgbFtseL9TUr20oPiOUbDcvTDpDZaqrYmMiBvHmsuf/+V0F248KF/ppFlz8VJYzmc0uo5iy35YL4lLwQtrYZ3rMYwFb3nHjNx/nRqYF5/Yon9mP83OfFVLOTjS9F+VRZw4PVfpA5GVOxXtoFefO240ZL8w5k92PBhXshqy5/KsooqmafLlmEywiXES4jXEa4jHAZ4TLCZYTLCJcRn0B8AvEJxCcQn0B8AvEJxCdE/ncHsjuQ3YHsDmR3ILvDL7PQDfI=",
        "encoding": "base64",
        "path": [
         "origins",
         "compressed_buffer"
        ]
       },
       {
        "data": "eNpNkbFOAmEQhK+FhtBR0BgTCy0JIRY7BG0sDLHgCaQyJhCjiYWFDXboJZZX0vgCtP+/CQVPQMFbGAoqG3dJNkz1T3K78+3NlPsKs5dzLfdVbt1d47HWUV0t8sPyQ5rbns5Oflyn0DaTY8Z3Yve0vsGgOtO5drN9O/j47LQ/xFtD1N78vviUiV5pfh65TqH9W8y4b+yaZw7Poij666e2Xn6N0/1ue7j59vc12U3w2/xG84J7unfj4lu6fzdqr+sU2nkx4/8Tu+aZw9NYGiziCnGFuEJcIa4QV4grxBXiCnGF8gTlCcoTlCcoT1CeoDxBeaI89g7qHdQ7qHdQ76De8Q9eWAzY",
        "encoding": "base64",
        "path": [
         "vectors",
         "compressed_buffer"
        ]
       }
      ],
      "model_module": "k3d",
      "model_module_version": "2.7.3",
      "model_name": "ObjectModel",
      "state": {
       "_view_count": null,
       "_view_module": null,
       "_view_module_version": "",
       "_view_name": null,
       "colors": {
        "compressed_buffer": {},
        "dtype": "uint32",
        "shape": [
         48,
         2
        ]
       },
       "compression_level": 0,
       "head_color": 255,
       "head_size": 1,
       "id": 140396567319792,
       "label_size": 1,
       "labels": [],
       "line_width": 0.01,
       "model_matrix": {
        "compressed_buffer": {},
        "dtype": "float32",
        "shape": [
         4,
         4
        ]
       },
       "name": "Vectors #1",
       "origin_color": 255,
       "origins": {
        "compressed_buffer": {},
        "dtype": "float32",
        "shape": [
         48,
         3
        ]
       },
       "type": "Vectors",
       "use_head": true,
       "vectors": {
        "compressed_buffer": {},
        "dtype": "float32",
        "shape": [
         48,
         3
        ]
       },
       "visible": true
      }
     },
     "88ba809a54ce46b4973ba778aafad116": {
      "model_module": "@jupyter-widgets/base",
      "model_module_version": "1.2.0",
      "model_name": "LayoutModel",
      "state": {}
     },
     "89f93508faac4d1d874f8fca8fb56938": {
      "model_module": "@jupyter-widgets/output",
      "model_module_version": "1.0.0",
      "model_name": "OutputModel",
      "state": {
       "layout": "IPY_MODEL_49afcf915f834f79a38b47538bdf9676",
       "outputs": [
        {
         "data": {
          "application/vnd.jupyter.widget-view+json": {
           "model_id": "b18373d480454e9983329257b53c9148",
           "version_major": 2,
           "version_minor": 0
          },
          "text/plain": "Plot(antialias=3, axes=['x', 'y', 'z'], axes_helper=1.0, background_color=16777215, camera=[2, -3, 0.2, 0.0, 0…"
         },
         "metadata": {},
         "output_type": "display_data"
        }
       ]
      }
     },
     "8a7455dbc1fc4accaa6ea562c3ec5fa0": {
      "model_module": "@jupyter-widgets/base",
      "model_module_version": "1.2.0",
      "model_name": "LayoutModel",
      "state": {}
     },
     "9650443c734c41308ee77666e8084c43": {
      "buffers": [
       {
        "data": "eNoDAAAAAAE=",
        "encoding": "base64",
        "path": [
         "colors",
         "compressed_buffer"
        ]
       },
       {
        "data": "eNpjYGiwZ8AAxIsBAF7EAv0=",
        "encoding": "base64",
        "path": [
         "model_matrix",
         "compressed_buffer"
        ]
       },
       {
        "data": "eNpN09FthEAMBFDSwZVCBR6XdqW4kjtKSSkRWQGPH0bLYj1p5G07n/n+bL/f/7g1+f0hF3fy5CG/jnPWmdbZXHfITX5/yMWd8G+Yyfmrn7wfa+5laAyNoTE0hsbQGBpDY2gMV97Nx5p7eVZenut8yE0+33cu7oR/w0zOT8+Vd/OxZt2ewlN4Ck/hKTyFp/AUnsJTeIq+Ql+hr9BX6Cv0FfoKfYW+Ql+hr9AXhsEwGAbDYBgMg2EwDIbB8Mxf3+69C3sX9i7sXdi7/AGjvpsl",
        "encoding": "base64",
        "path": [
         "positions",
         "compressed_buffer"
        ]
       }
      ],
      "model_module": "k3d",
      "model_module_version": "2.7.3",
      "model_name": "ObjectModel",
      "state": {
       "_view_count": null,
       "_view_module": null,
       "_view_module_version": "",
       "_view_name": null,
       "color": 5010096,
       "colors": {
        "compressed_buffer": {},
        "dtype": "uint32",
        "shape": [
         0
        ]
       },
       "compression_level": 0,
       "id": 140396568013408,
       "mesh_detail": 2,
       "model_matrix": {
        "compressed_buffer": {},
        "dtype": "float32",
        "shape": [
         4,
         4
        ]
       },
       "name": "Points #1",
       "opacity": 1,
       "point_size": 0.125,
       "positions": {
        "compressed_buffer": {},
        "dtype": "float32",
        "shape": [
         80,
         3
        ]
       },
       "shader": "3dSpecular",
       "type": "Points",
       "visible": true
      }
     },
     "9e06f7c76bd545d8b4a7c38b22129b6e": {
      "model_module": "@jupyter-widgets/base",
      "model_module_version": "1.2.0",
      "model_name": "LayoutModel",
      "state": {}
     },
     "a011a8f177f94f90b34cecd9dd25cc19": {
      "buffers": [
       {
        "data": "eNpLWKfOAAAD3AE2",
        "encoding": "base64",
        "path": [
         "color_map",
         "compressed_buffer"
        ]
       },
       {
        "data": "eNpjYFBwZMAABxwwxRqwidkDAFK8AuE=",
        "encoding": "base64",
        "path": [
         "model_matrix",
         "compressed_buffer"
        ]
       },
       {
        "data": "eNrllUEOACEMAjv//7R7XQGj0Vs5TqItWLXqXnxSMlFQ6Jhba2u8l9TQ/vgpMlDo2O5+KauDXNIRLb2ZnkHhDdvPJWYg3mo1aj7m5I3HOsigXAT+fnTz222eG75XTf6jAc5KA/E=",
        "encoding": "base64",
        "path": [
         "voxels",
         "compressed_buffer"
        ]
       }
      ],
      "model_module": "k3d",
      "model_module_version": "2.7.3",
      "model_name": "ObjectModel",
      "state": {
       "_view_count": null,
       "_view_module": null,
       "_view_module_version": "",
       "_view_name": null,
       "color_map": {
        "compressed_buffer": {},
        "dtype": "uint32",
        "shape": []
       },
       "compression_level": 0,
       "id": 140397730598192,
       "model_matrix": {
        "compressed_buffer": {},
        "dtype": "float32",
        "shape": [
         4,
         4
        ]
       },
       "name": "Voxels #1",
       "opacity": 1,
       "outlines": false,
       "outlines_color": 0,
       "type": "Voxels",
       "visible": true,
       "voxels": {
        "compressed_buffer": {},
        "dtype": "uint8",
        "shape": [
         8,
         12,
         20
        ]
       },
       "wireframe": false
      }
     },
     "a54304fae91a41fcaa7717848e34bd02": {
      "model_module": "@jupyter-widgets/output",
      "model_module_version": "1.0.0",
      "model_name": "OutputModel",
      "state": {
       "layout": "IPY_MODEL_a63c93427dba4da29ade1953d92657ce",
       "outputs": [
        {
         "data": {
          "application/vnd.jupyter.widget-view+json": {
           "model_id": "48b7c24d8b6d49579fdea4cc4898c4bd",
           "version_major": 2,
           "version_minor": 0
          },
          "text/plain": "Plot(antialias=3, axes=['x', 'y', 'z'], axes_helper=1.0, background_color=16777215, camera=[2, -3, 0.2, 0.0, 0…"
         },
         "metadata": {},
         "output_type": "display_data"
        }
       ]
      }
     },
     "a63c93427dba4da29ade1953d92657ce": {
      "model_module": "@jupyter-widgets/base",
      "model_module_version": "1.2.0",
      "model_name": "LayoutModel",
      "state": {}
     },
     "ae814512c7894eef917ce76f8f69b397": {
      "model_module": "@jupyter-widgets/output",
      "model_module_version": "1.0.0",
      "model_name": "OutputModel",
      "state": {
       "layout": "IPY_MODEL_491d40c66fe7403d929bf03738758ff4",
       "outputs": [
        {
         "data": {
          "application/vnd.jupyter.widget-view+json": {
           "model_id": "cbc3c0ebe07b47b09293fd7d087505f9",
           "version_major": 2,
           "version_minor": 0
          },
          "text/plain": "Plot(antialias=3, axes=['x', 'y', 'z'], axes_helper=1.0, background_color=16777215, camera=[2, -3, 0.2, 0.0, 0…"
         },
         "metadata": {},
         "output_type": "display_data"
        }
       ]
      }
     },
     "b18373d480454e9983329257b53c9148": {
      "model_module": "k3d",
      "model_module_version": "2.7.3",
      "model_name": "PlotModel",
      "state": {
       "_backend_version": "2.7.3",
       "_dom_classes": [],
       "_view_count": null,
       "antialias": 3,
       "auto_rendering": true,
       "axes": [
        "x (nm)",
        "y (nm)",
        "z (nm)"
       ],
       "axes_helper": 1,
       "background_color": 16777215,
       "camera": [
        9.862991706364406,
        -14.79448755954661,
        0.9862991706364388,
        0,
        0,
        0,
        0,
        0,
        1
       ],
       "camera_animation": [],
       "camera_auto_fit": true,
       "camera_fov": 60,
       "camera_no_pan": false,
       "camera_no_rotate": false,
       "camera_no_zoom": false,
       "clipping_planes": [],
       "colorbar_object_id": -1,
       "fps": 25,
       "fps_meter": false,
       "grid": [
        -1,
        -1,
        -1,
        1,
        1,
        1
       ],
       "grid_auto_fit": true,
       "grid_visible": true,
       "height": 512,
       "layout": "IPY_MODEL_71f92471865d41508b29dec5575c7583",
       "lighting": 1.5,
       "menu_visibility": true,
       "mode": "view",
       "name": null,
       "object_ids": [
        140396567752416
       ],
       "rendering_steps": 1,
       "screenshot": "",
       "screenshot_scale": 2,
       "snapshot": "",
       "time": 0,
       "voxel_paint_color": 0
      }
     },
     "b1edfd94bbae4742980bbcb90b576c1c": {
      "buffers": [
       {
        "data": "eNqL1GBgiATiYFUI9lNCxTDxSKi6HC8bCHa3AONcF2MIdjZCxVBxmDqYvsKsdDAuyEyD4IxU/BiqDqavom8yGJf3TYHg/qkQPGEaKoaJQ9XB9GVuPgTG6duOgXHqztNgnLLrDAqGicPUwfRZPfgJxiZP/oGxxQtUDBOHqQMAlet5MQ==",
        "encoding": "base64",
        "path": [
         "colors",
         "compressed_buffer"
        ]
       },
       {
        "data": "eNpjYGiwZ8AAxIsBAF7EAv0=",
        "encoding": "base64",
        "path": [
         "model_matrix",
         "compressed_buffer"
        ]
       },
       {
        "data": "eNpNkbFLAmEYxq8gCKKpBsEgaBEaBDswO4/vfc/jdDOIliIisqHhinKpBBuMqIawwaDIpSFaWooIDrrvDbSG8g8IoXAoiMgpwqGC+Kbe7Rme5zf8nmbRwPvkNdX792mlbGLaz1H0skSfjwLHnloyv1ai7pCFjcGCqfJOxsaLRAeoTs+Sg1FvA9SWNmMYuPsmN6xTcNLA02mf6stD1Ldq4ryep2wjQl01gbPBX7m9F6Ev3cKZkBdX+WXLxoNaO6jO64mDE8cFUFsrl8L3kSooZiATw4fkD00dLkppGjje8ilcXJADcyae767T1Y0rP6oCNU2j27Qre+OWyprKz0c2jmbbQHUSFQfPOgugtm/lFA57FVBMxheMLxhfML5gfMH4gvEF4wvmB5gfYH6A+QHmB5gfYH6A+YHm/4/AfgT2I7Afgf0I7Ef4Awno6YU=",
        "encoding": "base64",
        "path": [
         "origins",
         "compressed_buffer"
        ]
       },
       {
        "data": "eNpNkSELAkEUhI+rRtMFs00MelrmGTVqtR/YDDZ/gCD4EyyK/0EQ95rxuhbBAw0Wy4licp/wcNIO7Lxv384kYU36cS5JWEuH+RGt511W+0a6mJWx2T2kPmqrdqa9x5lHZ2y22hvLtn6WbpQ5fyfqUe/1fcE6K8SfbvCJcIg/Mn3dVDvTemce5dqsZ6bGLJaT356VZsn5PUT30b38/I+pvNO8giAIOv5U7UzrG+bRP9isZ6bGJD6ID+KD+CA+iA/ig/igfED5gPIB5QPKB5QPKB9QPkj+PQr1KNSjUI9CPQr1KF/z7AdY",
        "encoding": "base64",
        "path": [
         "vectors",
         "compressed_buffer"
        ]
       }
      ],
      "model_module": "k3d",
      "model_module_version": "2.7.3",
      "model_name": "ObjectModel",
      "state": {
       "_view_count": null,
       "_view_module": null,
       "_view_module_version": "",
       "_view_name": null,
       "colors": {
        "compressed_buffer": {},
        "dtype": "uint32",
        "shape": [
         44,
         2
        ]
       },
       "compression_level": 0,
       "head_color": 255,
       "head_size": 1,
       "id": 140396567320368,
       "label_size": 1,
       "labels": [],
       "line_width": 0.01,
       "model_matrix": {
        "compressed_buffer": {},
        "dtype": "float32",
        "shape": [
         4,
         4
        ]
       },
       "name": "Vectors #3",
       "origin_color": 255,
       "origins": {
        "compressed_buffer": {},
        "dtype": "float32",
        "shape": [
         44,
         3
        ]
       },
       "type": "Vectors",
       "use_head": true,
       "vectors": {
        "compressed_buffer": {},
        "dtype": "float32",
        "shape": [
         44,
         3
        ]
       },
       "visible": true
      }
     },
     "b2bb17366f1e424da3b47275c1ce6159": {
      "model_module": "@jupyter-widgets/output",
      "model_module_version": "1.0.0",
      "model_name": "OutputModel",
      "state": {
       "layout": "IPY_MODEL_dc6bf21f0b6f41aa928c544a37d0133c",
       "outputs": [
        {
         "data": {
          "application/vnd.jupyter.widget-view+json": {
           "model_id": "ebca2eb285fc491a9e168cf06779b616",
           "version_major": 2,
           "version_minor": 0
          },
          "text/plain": "Plot(antialias=3, axes=['x (nm)', 'y (nm)', 'z (nm)'], axes_helper=1.0, background_color=16777215, camera=[2, …"
         },
         "metadata": {},
         "output_type": "display_data"
        }
       ]
      }
     },
     "c0b123b81357422a89200e47bb15ad11": {
      "model_module": "@jupyter-widgets/base",
      "model_module_version": "1.2.0",
      "model_name": "LayoutModel",
      "state": {}
     },
     "c668b63328db410da0e975791dc29c7e": {
      "model_module": "@jupyter-widgets/base",
      "model_module_version": "1.2.0",
      "model_name": "LayoutModel",
      "state": {}
     },
     "ca4db7d3254048719abe912bd468e902": {
      "buffers": [
       {
        "data": "eNoDAAAAAAE=",
        "encoding": "base64",
        "path": [
         "colors",
         "compressed_buffer"
        ]
       },
       {
        "data": "eNpjYGiwZ8AAxIsBAF7EAv0=",
        "encoding": "base64",
        "path": [
         "model_matrix",
         "compressed_buffer"
        ]
       },
       {
        "data": "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",
        "encoding": "base64",
        "path": [
         "positions",
         "compressed_buffer"
        ]
       }
      ],
      "model_module": "k3d",
      "model_module_version": "2.7.3",
      "model_name": "ObjectModel",
      "state": {
       "_view_count": null,
       "_view_module": null,
       "_view_module_version": "",
       "_view_name": null,
       "color": 5010096,
       "colors": {
        "compressed_buffer": {},
        "dtype": "uint32",
        "shape": [
         0
        ]
       },
       "compression_level": 0,
       "id": 140396567707504,
       "mesh_detail": 2,
       "model_matrix": {
        "compressed_buffer": {},
        "dtype": "float32",
        "shape": [
         4,
         4
        ]
       },
       "name": "Points #1",
       "opacity": 1,
       "point_size": 0.125,
       "positions": {
        "compressed_buffer": {},
        "dtype": "float32",
        "shape": [
         1008,
         3
        ]
       },
       "shader": "3dSpecular",
       "type": "Points",
       "visible": true
      }
     },
     "cbc3c0ebe07b47b09293fd7d087505f9": {
      "model_module": "k3d",
      "model_module_version": "2.7.3",
      "model_name": "PlotModel",
      "state": {
       "_backend_version": "2.7.3",
       "_dom_classes": [],
       "_view_count": null,
       "antialias": 3,
       "auto_rendering": true,
       "axes": [
        "x (nm)",
        "y (nm)",
        "z (nm)"
       ],
       "axes_helper": 1,
       "background_color": 16777215,
       "camera": [
        9.894458724668471,
        -14.841688087002707,
        0.9894458724668452,
        0,
        0,
        0,
        0,
        0,
        1
       ],
       "camera_animation": [],
       "camera_auto_fit": true,
       "camera_fov": 60,
       "camera_no_pan": false,
       "camera_no_rotate": false,
       "camera_no_zoom": false,
       "clipping_planes": [],
       "colorbar_object_id": -1,
       "fps": 25,
       "fps_meter": false,
       "grid": [
        -1,
        -1,
        -1,
        1,
        1,
        1
       ],
       "grid_auto_fit": true,
       "grid_visible": true,
       "height": 512,
       "layout": "IPY_MODEL_0863837af9b14cd1bf8daf0aa667e957",
       "lighting": 1.5,
       "menu_visibility": true,
       "mode": "view",
       "name": null,
       "object_ids": [
        140396567899680,
        140396567707504
       ],
       "rendering_steps": 1,
       "screenshot": "",
       "screenshot_scale": 2,
       "snapshot": "",
       "time": 0,
       "voxel_paint_color": 0
      }
     },
     "cd92d9936fa54feba3d31651421d1287": {
      "buffers": [
       {
        "data": "eNrbUOTDENRylyFjRShDkN8Rhs1FjQwJFZMZDnffYujp6WEo2XmG4ezWFAYASmwQpw==",
        "encoding": "base64",
        "path": [
         "color_map",
         "compressed_buffer"
        ]
       },
       {
        "data": "eNpjYPBwYoCDE44QGiYG44OAApC9wIEBBTTYAwCnEgUn",
        "encoding": "base64",
        "path": [
         "model_matrix",
         "compressed_buffer"
        ]
       },
       {
        "data": "eNpjZKQ9YKIDAABjBgEt",
        "encoding": "base64",
        "path": [
         "voxels",
         "compressed_buffer"
        ]
       }
      ],
      "model_module": "k3d",
      "model_module_version": "2.7.3",
      "model_name": "ObjectModel",
      "state": {
       "_view_count": null,
       "_view_module": null,
       "_view_module_version": "",
       "_view_name": null,
       "color_map": {
        "compressed_buffer": {},
        "dtype": "uint32",
        "shape": [
         10
        ]
       },
       "compression_level": 0,
       "id": 140396567319552,
       "model_matrix": {
        "compressed_buffer": {},
        "dtype": "float32",
        "shape": [
         4,
         4
        ]
       },
       "name": "Voxels #1",
       "opacity": 1,
       "outlines": false,
       "outlines_color": 0,
       "type": "Voxels",
       "visible": true,
       "voxels": {
        "compressed_buffer": {},
        "dtype": "uint8",
        "shape": [
         2,
         10,
         10
        ]
       },
       "wireframe": false
      }
     },
     "ce456d20d0004dc7a26866a88de656b3": {
      "model_module": "@jupyter-widgets/base",
      "model_module_version": "1.2.0",
      "model_name": "LayoutModel",
      "state": {}
     },
     "ceca022488664260a9c494ac2f25eaa5": {
      "model_module": "@jupyter-widgets/output",
      "model_module_version": "1.0.0",
      "model_name": "OutputModel",
      "state": {
       "layout": "IPY_MODEL_9e06f7c76bd545d8b4a7c38b22129b6e",
       "outputs": [
        {
         "data": {
          "application/vnd.jupyter.widget-view+json": {
           "model_id": "d103eb1760dd4c2e9896ce1cdd6aca44",
           "version_major": 2,
           "version_minor": 0
          },
          "text/plain": "Plot(antialias=3, axes=['x', 'y', 'z'], axes_helper=1.0, background_color=16777215, camera=[2, -3, 0.2, 0.0, 0…"
         },
         "metadata": {},
         "output_type": "display_data"
        }
       ]
      }
     },
     "d103eb1760dd4c2e9896ce1cdd6aca44": {
      "model_module": "k3d",
      "model_module_version": "2.7.3",
      "model_name": "PlotModel",
      "state": {
       "_backend_version": "2.7.3",
       "_dom_classes": [],
       "_view_count": null,
       "antialias": 3,
       "auto_rendering": true,
       "axes": [
        "x (nm)",
        "y (nm)",
        "z (nm)"
       ],
       "axes_helper": 1,
       "background_color": 16777215,
       "camera": [
        10.284874878907916,
        -15.489812315567907,
        1.0059874815950598,
        -0.02499999664723873,
        -0.02500000223517418,
        -0.025000005960464478,
        0,
        0,
        1
       ],
       "camera_animation": [],
       "camera_auto_fit": true,
       "camera_fov": 60,
       "camera_no_pan": false,
       "camera_no_rotate": false,
       "camera_no_zoom": false,
       "clipping_planes": [],
       "colorbar_object_id": -1,
       "fps": 25,
       "fps_meter": false,
       "grid": [
        -1,
        -1,
        -1,
        1,
        1,
        1
       ],
       "grid_auto_fit": true,
       "grid_visible": true,
       "height": 512,
       "layout": "IPY_MODEL_4206f22d8c1e44fb8e85fbab3ccaf5ee",
       "lighting": 1.5,
       "menu_visibility": true,
       "mode": "view",
       "name": null,
       "object_ids": [
        140397730598192
       ],
       "rendering_steps": 1,
       "screenshot": "",
       "screenshot_scale": 2,
       "snapshot": "",
       "time": 0,
       "voxel_paint_color": 0
      }
     },
     "d6cf931e4d1a4837b6060e72136cf682": {
      "model_module": "@jupyter-widgets/output",
      "model_module_version": "1.0.0",
      "model_name": "OutputModel",
      "state": {
       "layout": "IPY_MODEL_c668b63328db410da0e975791dc29c7e",
       "outputs": [
        {
         "data": {
          "application/vnd.jupyter.widget-view+json": {
           "model_id": "eb976fb3bad14376a675980f3c4601a4",
           "version_major": 2,
           "version_minor": 0
          },
          "text/plain": "Plot(antialias=3, axes=['x', 'y', 'z'], axes_helper=1.0, background_color=16777215, camera=[2, -3, 0.2, 0.0, 0…"
         },
         "metadata": {},
         "output_type": "display_data"
        }
       ]
      }
     },
     "dc6bf21f0b6f41aa928c544a37d0133c": {
      "model_module": "@jupyter-widgets/base",
      "model_module_version": "1.2.0",
      "model_name": "LayoutModel",
      "state": {}
     },
     "de3639ace0eb4a5998327abcb0895f46": {
      "buffers": [
       {
        "data": "eNpdzyEKAlEUheGLGAyzAIMgiOAKxGBwBSar2WA2mAwTzGZBt2AQ12Aw292A0SZc5713fkdf+AbmcO5hxko3C4ZiGXJ6vpFbcvdkKUWGnB532hlUUdDyZmQ+kl3y8GScIaenO3bYPclBtjKXwhtR/V0JOT3u2GHXr3KRo6ykJ3b+R06PO3bYnUhHrCvr6GXvaFa9/SKn971jh11bSPquZ/UMSulnyOnV/5R29tUzmEo7Q07vA0vq5hE=",
        "encoding": "base64",
        "path": [
         "colors",
         "compressed_buffer"
        ]
       },
       {
        "data": "eNpjYGiwZ8AAxIsBAF7EAv0=",
        "encoding": "base64",
        "path": [
         "model_matrix",
         "compressed_buffer"
        ]
       },
       {
        "data": "eNpNk09IVHEQxy3s0GVzi00CoYPgpXLZzUWK3ny3y2YbWLGXKJY2gtKECPZBhhGSCxGLlR7KzaI/bo+gQx60tNiZRySUWNChCDY6lGDSsSgIkn5zak5vDt+Z+bzf9ztBY4yfzk7Iyvc5mbr9ujZ6oktWVV7IvZGmWsf6UW4rhFp7Y/UjpLXTeKcrnVBN0BijvZlb0F4ZKfCuq9Hw4clr0nL3AM/MfpW+o8Oy9kkHD5eqgt7LcujLak5+y8rQ85J8nszUWj6Mcf7noNbeq1w3ae009LY5BdW4XioOjEN73UzKZj5BZ7pd9PJMJK27Cuv6+V1PItyxMS67h4q8PBkNm6a3yN/OPs5uX5TsQpsstR7mTf4DObVns6SqCX78plt+XN8gv6vjNVoOuPX+Gq290rYkae00dDCZgGpcLy2Vb0J73UyaWahDZ7pd1Lw/ktZdjoHiN9rTytDQMMh5PxHGn/Ww/+cC75uLhl2PjvPHlfN8pbQo7h05lu/nS6lA3D9z8Wwv3/Fz4naze0/OXZznqV/va/q27utp7TR0rLwVqnG9dG6+Au11M8kfqENnul00vTOS1l2OgSbK7WllMDxkeMjwkOEhw0OGxzM8nuEhw0OGhwwPGR4yfsH4BeMXjF8wfsH4BeMXjF8wfsH4BeMXjF8wuYXJLUxuYXILk1uY3MLkFia3MLmFyS2C/3cHc3cwdwdzdzB3B3N3+AdxbcZ8",
        "encoding": "base64",
        "path": [
         "origins",
         "compressed_buffer"
        ]
       },
       {
        "data": "eNpNky9Ig2EQxhcGYjKZFATXTQ5BuEcsisXqiiAmDVociG04tFhcWFQU5pKIwrB9t2a2KQsiFhFNGhyiw7uP9+AJx3sf3/35ve9z1y428bC1LeNn99o5WUJp81D+Zt71vHEsbo+DX/ez8C1GI6ZdbGrkdhvPKJwuSu1gT+07r+n/h2878Fw7tfKyj4n6lbyWevp0fSduo6t997PwLUYjxnMi13tETeul0WttpI+FjWkpLw/pfP0Ll9WK1FYm1fjyuziv1cr7eu1y6wafvQ+xU79bY3Db2X1zX8P3fxHjHJHrd46a1kujlzFoMBQKhbmjqVkxy6o/A2QX62KW2dshvWlm90S6f2b9kDj8PZFMk+V+4stj0nvluUmbvKb10uhlDN1gIB4hHiEeIR4hHhAPiAfEA+IR4hHiEeIR0gukF0gvkF4gvUB6gfQC6QXSC6QXSC+QXqC5Bc0taG5BcwuaW9DcguYWNLeguQXNbf6OaXdAewfaO9DegfYOtHf4Bxv95zQ=",
        "encoding": "base64",
        "path": [
         "vectors",
         "compressed_buffer"
        ]
       }
      ],
      "model_module": "k3d",
      "model_module_version": "2.7.3",
      "model_name": "ObjectModel",
      "state": {
       "_view_count": null,
       "_view_module": null,
       "_view_module_version": "",
       "_view_name": null,
       "colors": {
        "compressed_buffer": {},
        "dtype": "uint32",
        "shape": [
         80,
         2
        ]
       },
       "compression_level": 0,
       "head_color": 255,
       "head_size": 1,
       "id": 140396567794448,
       "label_size": 1,
       "labels": [],
       "line_width": 0.01,
       "model_matrix": {
        "compressed_buffer": {},
        "dtype": "float32",
        "shape": [
         4,
         4
        ]
       },
       "name": "Vectors #2",
       "origin_color": 255,
       "origins": {
        "compressed_buffer": {},
        "dtype": "float32",
        "shape": [
         80,
         3
        ]
       },
       "type": "Vectors",
       "use_head": true,
       "vectors": {
        "compressed_buffer": {},
        "dtype": "float32",
        "shape": [
         80,
         3
        ]
       },
       "visible": true
      }
     },
     "e4ab1cbb94f94398a4185302b7971df8": {
      "model_module": "@jupyter-widgets/base",
      "model_module_version": "1.2.0",
      "model_name": "LayoutModel",
      "state": {}
     },
     "e97d9c13eea5471ba013ab050e5a2eeb": {
      "model_module": "k3d",
      "model_module_version": "2.7.3",
      "model_name": "PlotModel",
      "state": {
       "_backend_version": "2.7.3",
       "_dom_classes": [],
       "_view_count": null,
       "antialias": 3,
       "auto_rendering": true,
       "axes": [
        "x (nm)",
        "y (nm)",
        "z (nm)"
       ],
       "axes_helper": 1,
       "background_color": 16777215,
       "camera": [
        5.746387514956,
        -8.619581272433999,
        0.5746387514956094,
        0,
        0,
        0,
        0,
        0,
        1
       ],
       "camera_animation": [],
       "camera_auto_fit": true,
       "camera_fov": 60,
       "camera_no_pan": false,
       "camera_no_rotate": false,
       "camera_no_zoom": false,
       "clipping_planes": [],
       "colorbar_object_id": -1,
       "fps": 25,
       "fps_meter": false,
       "grid": [
        -1,
        -1,
        -1,
        1,
        1,
        1
       ],
       "grid_auto_fit": true,
       "grid_visible": true,
       "height": 512,
       "layout": "IPY_MODEL_1dec8619a0ac476b8e85d27444afa7f2",
       "lighting": 1.5,
       "menu_visibility": true,
       "mode": "view",
       "name": null,
       "object_ids": [
        140396567621248,
        140397729829504
       ],
       "rendering_steps": 1,
       "screenshot": "",
       "screenshot_scale": 2,
       "snapshot": "",
       "time": 0,
       "voxel_paint_color": 0
      }
     },
     "eb976fb3bad14376a675980f3c4601a4": {
      "model_module": "k3d",
      "model_module_version": "2.7.3",
      "model_name": "PlotModel",
      "state": {
       "_backend_version": "2.7.3",
       "_dom_classes": [],
       "_view_count": null,
       "antialias": 3,
       "auto_rendering": true,
       "axes": [
        "x (nm)",
        "y (nm)",
        "z (nm)"
       ],
       "axes_helper": 1,
       "background_color": 16777215,
       "camera": [
        5.746387514956,
        -8.619581272433999,
        0.574638751495599,
        0,
        0,
        0,
        0,
        0,
        1
       ],
       "camera_animation": [],
       "camera_auto_fit": true,
       "camera_fov": 60,
       "camera_no_pan": false,
       "camera_no_rotate": false,
       "camera_no_zoom": false,
       "clipping_planes": [],
       "colorbar_object_id": -1,
       "fps": 25,
       "fps_meter": false,
       "grid": [
        -1,
        -1,
        -1,
        1,
        1,
        1
       ],
       "grid_auto_fit": true,
       "grid_visible": true,
       "height": 512,
       "layout": "IPY_MODEL_8a7455dbc1fc4accaa6ea562c3ec5fa0",
       "lighting": 1.5,
       "menu_visibility": true,
       "mode": "view",
       "name": null,
       "object_ids": [
        140396567706208,
        140396568013408
       ],
       "rendering_steps": 1,
       "screenshot": "",
       "screenshot_scale": 2,
       "snapshot": "",
       "time": 0,
       "voxel_paint_color": 0
      }
     },
     "ebca2eb285fc491a9e168cf06779b616": {
      "model_module": "k3d",
      "model_module_version": "2.7.3",
      "model_name": "PlotModel",
      "state": {
       "_backend_version": "2.7.3",
       "_dom_classes": [],
       "_view_count": null,
       "antialias": 3,
       "auto_rendering": true,
       "axes": [
        "x (nm)",
        "y (nm)",
        "z (nm)"
       ],
       "axes_helper": 1,
       "background_color": 16777215,
       "camera": [
        7.734779519267096,
        -11.700455430786631,
        0.7800303620524406,
        -0.06552410125732422,
        0,
        0,
        0,
        0,
        1
       ],
       "camera_animation": [],
       "camera_auto_fit": true,
       "camera_fov": 60,
       "camera_no_pan": false,
       "camera_no_rotate": false,
       "camera_no_zoom": false,
       "clipping_planes": [],
       "colorbar_object_id": -1,
       "fps": 25,
       "fps_meter": false,
       "grid": [
        -1,
        -1,
        -1,
        1,
        1,
        1
       ],
       "grid_auto_fit": true,
       "grid_visible": true,
       "height": 512,
       "layout": "IPY_MODEL_88ba809a54ce46b4973ba778aafad116",
       "lighting": 1.5,
       "menu_visibility": true,
       "mode": "view",
       "name": null,
       "object_ids": [
        140396567319792,
        140396567721584,
        140396567794448,
        140396567795312,
        140396567320368,
        140396567321040
       ],
       "rendering_steps": 1,
       "screenshot": "",
       "screenshot_scale": 2,
       "snapshot": "",
       "time": 0,
       "voxel_paint_color": 0
      }
     },
     "ed400decf83b424a84c45f64165351f7": {
      "model_module": "k3d",
      "model_module_version": "2.7.3",
      "model_name": "PlotModel",
      "state": {
       "_backend_version": "2.7.3",
       "_dom_classes": [],
       "_view_count": null,
       "antialias": 3,
       "auto_rendering": true,
       "axes": [
        "x (nm)",
        "y (nm)",
        "z (nm)"
       ],
       "axes_helper": 1,
       "background_color": 16777215,
       "camera": [
        10.284874878907916,
        -15.489812315567907,
        1.0059874815950491,
        -0.02499999664723873,
        -0.02500000223517418,
        -0.025000005960464478,
        0,
        0,
        1
       ],
       "camera_animation": [],
       "camera_auto_fit": true,
       "camera_fov": 60,
       "camera_no_pan": false,
       "camera_no_rotate": false,
       "camera_no_zoom": false,
       "clipping_planes": [],
       "colorbar_object_id": -1,
       "fps": 25,
       "fps_meter": false,
       "grid": [
        -1,
        -1,
        -1,
        1,
        1,
        1
       ],
       "grid_auto_fit": true,
       "grid_visible": true,
       "height": 512,
       "layout": "IPY_MODEL_597e594b5b284f5ca722e713e319c074",
       "lighting": 1.5,
       "menu_visibility": true,
       "mode": "view",
       "name": null,
       "object_ids": [
        140396567770496
       ],
       "rendering_steps": 1,
       "screenshot": "",
       "screenshot_scale": 2,
       "snapshot": "",
       "time": 0,
       "voxel_paint_color": 0
      }
     },
     "ee68d78694bf41f98cc1bccfdba52a6e": {
      "model_module": "k3d",
      "model_module_version": "2.7.3",
      "model_name": "PlotModel",
      "state": {
       "_backend_version": "2.7.3",
       "_dom_classes": [],
       "_view_count": null,
       "antialias": 3,
       "auto_rendering": true,
       "axes": [
        "x (nm)",
        "y (nm)",
        "z (nm)"
       ],
       "axes_helper": 1,
       "background_color": 16777215,
       "camera": [
        9.733137238263115,
        -14.662205854600705,
        0.9758137234910336,
        -0.02499999664723873,
        -0.02500000223517418,
        0,
        0,
        0,
        1
       ],
       "camera_animation": [],
       "camera_auto_fit": true,
       "camera_fov": 60,
       "camera_no_pan": false,
       "camera_no_rotate": false,
       "camera_no_zoom": false,
       "clipping_planes": [],
       "colorbar_object_id": -1,
       "fps": 25,
       "fps_meter": false,
       "grid": [
        -1,
        -1,
        -1,
        1,
        1,
        1
       ],
       "grid_auto_fit": true,
       "grid_visible": true,
       "height": 512,
       "layout": "IPY_MODEL_44738dd768374a50a9071a42c26500b9",
       "lighting": 1.5,
       "menu_visibility": true,
       "mode": "view",
       "name": null,
       "object_ids": [
        140396567722448
       ],
       "rendering_steps": 1,
       "screenshot": "",
       "screenshot_scale": 2,
       "snapshot": "",
       "time": 0,
       "voxel_paint_color": 0
      }
     },
     "f0dcc763b61c4dc991dc3c0324260386": {
      "buffers": [
       {
        "data": "eNoDAAAAAAE=",
        "encoding": "base64",
        "path": [
         "colors",
         "compressed_buffer"
        ]
       },
       {
        "data": "eNpjYGiwZ8AAxIsBAF7EAv0=",
        "encoding": "base64",
        "path": [
         "model_matrix",
         "compressed_buffer"
        ]
       },
       {
        "data": "eNpN0MsNwzAQA9FNYyRLSylbidVKSgkEfTwHQ3OQHgxWJVU91jc76O+DFu747b79qd9Y748ZmIEZmIEZmDkme+z32z8d9DxvC3eMt7eXf3vsfzq+4Au+4Au+4Au+sI+xj7GPsY+xj7GPsY+xD8yG2TAbZsNsmO0/IA5slQ==",
        "encoding": "base64",
        "path": [
         "positions",
         "compressed_buffer"
        ]
       }
      ],
      "model_module": "k3d",
      "model_module_version": "2.7.3",
      "model_name": "ObjectModel",
      "state": {
       "_view_count": null,
       "_view_module": null,
       "_view_module_version": "",
       "_view_name": null,
       "color": 5010096,
       "colors": {
        "compressed_buffer": {},
        "dtype": "uint32",
        "shape": [
         0
        ]
       },
       "compression_level": 0,
       "id": 140396567321040,
       "mesh_detail": 2,
       "model_matrix": {
        "compressed_buffer": {},
        "dtype": "float32",
        "shape": [
         4,
         4
        ]
       },
       "name": "Points #3",
       "opacity": 1,
       "point_size": 0.125,
       "positions": {
        "compressed_buffer": {},
        "dtype": "float32",
        "shape": [
         44,
         3
        ]
       },
       "shader": "3dSpecular",
       "type": "Points",
       "visible": true
      }
     },
     "f322e9c115ab4429aa7fd3c848febfbc": {
      "buffers": [
       {
        "data": "eNolw2dslWUYgOHbHyb8MDExxhhjjAqCgIDQQSmlpaUtXXSP073X6fuNs7/D3puy9yqjQNl7j7KLbMqQPQREjTuuqI3PiVdypX4MaZ0howtkfQLZMrcr2LpB/qdQKIu7Q2kPKJcVPaHqM6iRdb3A3huU1PqA8TmYgX3BEdjvNRxBr2MGdcIMfgMz5E35Fmbo25j938Ho/y5G2HsYA97HCP9Afog+8CP0iM6yC/qgruiR3dCjuqNF9UAb3BMtupfsjRbTB21IX9kPLTYIFRcsQ1DxoaihYaiEATIclTgQlRQhB6GSI1EpUXIwalg0KjVGDkGlxaLS41AZ8XIoKjMBlZUok1DZyaicFDkMlZuKykuT6Wi2DLT8TLSCLJmNVpiDVhSYi1ach1ZiQy/JRy8tQC8rRC8vksXoFSUYlYGlGFVlGNXlsgKzphKztgqzrvr/9TU47LWyDkdDPQ5lx6k1SIVTl4aGy9BxmQYuh4nb6ZBO3C4nHrdLuvF4PHi9Xrw+H75Ay8Ln92MNHy5HYI0YiTVylByNNUqOHoM1Zqwch3/sePzjJuAfP1FOwj9hMtbEKViTpsppWJOnY02ZgTV1ppyFNa0Ra/psrBlz5FysmfOwZsnG+fgaF+CbvRDfnEX45i7GN2+JXIp3/jK8C5bjXbhCrsS7aBWexavxLGnCs3SNXIt72Trcy9fjXtEsN+BauRHXqk24VrfgatqMs2kLzjVbca7dhmPddhzrd+Bo3onZvAtzwx6MjXsxNu3DaNmP3nIAffNBtC2H0LYeRtt2BLX9qDxGw47jNOw8gX1XK/bdJ6nfc0qepm7vGer2naV2/zlqD5yn5mAb1YcuyItUHb5E5ZHLVB69QsWxq1Qcv0b5ieuUtd6gtLWd0pM3KTl1i+LTtyk6c4eis3cpPHePgvP3yW97gK3tIbYLj8j74jG5F5+Qc+kp2ZefkXXlOZlXX5Bx7SXp178m7cYrUtu/IaX9W5JvfkfSre9JvP0DCXd+JP7Ln4i7+zOx934h5v6vRD/4jaiHvxP56A8iHv9J+JO/CHv6N6HP/iH4q38Jft5ByIsOQl92EPaqg/8ABrdj6Q==",
        "encoding": "base64",
        "path": [
         "color_map",
         "compressed_buffer"
        ]
       },
       {
        "data": "eNpjYFBwZMAABxwwxRqwidkDAFK8AuE=",
        "encoding": "base64",
        "path": [
         "model_matrix",
         "compressed_buffer"
        ]
       },
       {
        "data": "eNrl1U1IKlEUB3ASxIVuDF1IMMvBFiJEDGGEUQlRNGGRKEkRFgNDKOZH4252Tn4kSgwMJVEYDkZJRhFYkUQSQwTiomGWA+FCyY0uRLDnU8R8qwePt/Lu7o/LOecPl3tx/N9XlmGyvXKWSKZSycTZD/IHQ+FIJBwK+rvmcthtVqvN7nD9OLhq0MOw3rDaW1EDQRr8P69iuVzsgdccxxcKPJd77cj51d0Tk+e4PPN0d3XetsPjWCKVzmTSqUTs+LBFxJ4/EIqQFEVGQgH/HvHbsF2X025FEQS12p2uXax1cGvDbIB1Wq0ONpg3ttr1VhZnJyEVCKqgydnFlU7nMTUIKBQAqB7rGVEulcr/Kly93rtn+WKlVqsUebYj6ee3D/6rWv3iP96e0y2iL67vs3m+VOLz2fvrC7pJJHV0Ek+mGZZl0sn4yRFF4riX8PmDYTIaj0fJcNDvI7w47sHcLocNtZhMFtTmcLkxD46jyOa6Sa+DlEpIpzetbyJos6BxeWFGowJkMkClmVlYNrYa6yZGh4FBsXgQGB6d0HUmVAJyiUgkkQPK3ixC4R9hS5X693e9UupKjvss1xqNWvmTy7Xl9uHlnStUG41qgXt/ebhtUoy+vHlkuFK9XuKYx5tLOoYfkFT0lE5l2EqFzaTo0yhFHngJwhfYj1BxholTkf2AjyC8HgxzO3esiAmCTIh1x+nGMM82iljWjLBWKZEotbBxzYKg27jZuDQ/BYEyoVAGQlPzS0Zzs/Hc9PgIqBALBGIFODI+PdeeUA0OSUUCgUg6BKq7SWQS4cCAUCLr57z9dp/78L3qk//oF5tnwC4=",
        "encoding": "base64",
        "path": [
         "voxels",
         "compressed_buffer"
        ]
       }
      ],
      "model_module": "k3d",
      "model_module_version": "2.7.3",
      "model_name": "ObjectModel",
      "state": {
       "_view_count": null,
       "_view_module": null,
       "_view_module_version": "",
       "_view_name": null,
       "color_map": {
        "compressed_buffer": {},
        "dtype": "uint32",
        "shape": [
         256
        ]
       },
       "compression_level": 0,
       "id": 140396567770496,
       "model_matrix": {
        "compressed_buffer": {},
        "dtype": "float32",
        "shape": [
         4,
         4
        ]
       },
       "name": "Voxels #1",
       "opacity": 1,
       "outlines": false,
       "outlines_color": 0,
       "type": "Voxels",
       "visible": true,
       "voxels": {
        "compressed_buffer": {},
        "dtype": "uint8",
        "shape": [
         8,
         12,
         20
        ]
       },
       "wireframe": false
      }
     },
     "fb00b271a7c24a8896f8baa899bb8373": {
      "model_module": "@jupyter-widgets/output",
      "model_module_version": "1.0.0",
      "model_name": "OutputModel",
      "state": {
       "layout": "IPY_MODEL_4fa2e35375394ce1bf07b86885eee739",
       "outputs": [
        {
         "data": {
          "application/vnd.jupyter.widget-view+json": {
           "model_id": "ee68d78694bf41f98cc1bccfdba52a6e",
           "version_major": 2,
           "version_minor": 0
          },
          "text/plain": "Plot(antialias=3, axes=['x', 'y', 'z'], axes_helper=1.0, background_color=16777215, camera=[2, -3, 0.2, 0.0, 0…"
         },
         "metadata": {},
         "output_type": "display_data"
        }
       ]
      }
     },
     "fbae67d5eafd4f4d82a3607547fa6031": {
      "buffers": [
       {
        "data": "eNoDAAAAAAE=",
        "encoding": "base64",
        "path": [
         "colors",
         "compressed_buffer"
        ]
       },
       {
        "data": "eNpjYGiwZ8AAxIsBAF7EAv0=",
        "encoding": "base64",
        "path": [
         "model_matrix",
         "compressed_buffer"
        ]
       },
       {
        "data": "eNpNkMENwzAMA5UNMhHJ0TqKJmkySkcpUkfpPQwTgnVnsCpnVR/rXDnIrzey8Mb/3E/e6nOs/WEGzIAZMANmwMwwMd9n/3atvFyTg3zdTxbeGLsGE/M9yPPX8QpewSt4Ba/gFbyCV/DC9etl+jT6NPo0+jT6NPo0+gSzwWwwG8wGs8FsfwEVFozN",
        "encoding": "base64",
        "path": [
         "positions",
         "compressed_buffer"
        ]
       }
      ],
      "model_module": "k3d",
      "model_module_version": "2.7.3",
      "model_name": "ObjectModel",
      "state": {
       "_view_count": null,
       "_view_module": null,
       "_view_module_version": "",
       "_view_name": null,
       "color": 5010096,
       "colors": {
        "compressed_buffer": {},
        "dtype": "uint32",
        "shape": [
         0
        ]
       },
       "compression_level": 0,
       "id": 140396567721584,
       "mesh_detail": 2,
       "model_matrix": {
        "compressed_buffer": {},
        "dtype": "float32",
        "shape": [
         4,
         4
        ]
       },
       "name": "Points #1",
       "opacity": 1,
       "point_size": 0.125,
       "positions": {
        "compressed_buffer": {},
        "dtype": "float32",
        "shape": [
         48,
         3
        ]
       },
       "shader": "3dSpecular",
       "type": "Points",
       "visible": true
      }
     }
    },
    "version_major": 2,
    "version_minor": 0
   }
  }
 },
 "nbformat": 4,
 "nbformat_minor": 4
}
