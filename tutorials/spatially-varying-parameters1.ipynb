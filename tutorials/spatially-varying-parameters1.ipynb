{
 "cells": [
  {
   "cell_type": "markdown",
   "metadata": {},
   "source": [
    "# Spatially varying parameters 1\n",
    "\n",
    "In this tutorial, we explore different ways of defining a spatially varying parameter. As an example, we use the  Zeeman energy term.\n",
    "\n",
    "### Spatially constant $\\mathbf{H}$\n",
    "\n",
    "Let us start by assembling a simple simple simulation where $\\mathbf{H}$ does not vary in space. The sample is a \"one-dimensional\" chain of magnetic moments."
   ]
  },
  {
   "cell_type": "code",
   "execution_count": 1,
   "metadata": {},
   "outputs": [],
   "source": [
    "import oommfc as mc\n",
    "import discretisedfield as df\n",
    "import micromagneticmodel as mm\n",
    "\n",
    "p1 = (-10e-9, 0, 0)\n",
    "p2 = (10e-9, 1e-9, 1e-9)\n",
    "cell = (1e-9, 1e-9, 1e-9)\n",
    "region = df.Region(p1=p1, p2=p2)\n",
    "mesh = df.Mesh(region=region, cell=cell)"
   ]
  },
  {
   "cell_type": "markdown",
   "metadata": {},
   "source": [
    "The system has an energy equation, which consists of only Zeeman energy term."
   ]
  },
  {
   "cell_type": "code",
   "execution_count": 2,
   "metadata": {},
   "outputs": [],
   "source": [
    "H = (0, 0, 1e6)  # external magnetic field (A/m)\n",
    "system = mm.System(name='zeeman_constant_H')\n",
    "system.energy = mm.Zeeman(H=H)"
   ]
  },
  {
   "cell_type": "markdown",
   "metadata": {},
   "source": [
    "We are going to minimise the system's energy using `oommfc.MinDriver` later. Therefore, we do not have to define the system's dynamics equation. Finally, we need to define the system's magnetisation (`system.m`). We are going to make it random with $M_\\text{s}=8\\times10^{5} \\,\\text{Am}^{-1}$"
   ]
  },
  {
   "cell_type": "code",
   "execution_count": 3,
   "metadata": {},
   "outputs": [],
   "source": [
    "import random\n",
    "import discretisedfield as df\n",
    "\n",
    "Ms = 8e5  # saturation magnetisation (A/m)\n",
    "\n",
    "def m_fun(pos):\n",
    "    return [2*random.random()-1 for i in range(3)]\n",
    "\n",
    "system.m = df.Field(mesh, dim=3, value=m_fun, norm=Ms)"
   ]
  },
  {
   "cell_type": "markdown",
   "metadata": {},
   "source": [
    "The magnetisation, we set is"
   ]
  },
  {
   "cell_type": "code",
   "execution_count": 4,
   "metadata": {},
   "outputs": [
    {
     "data": {
      "application/vnd.jupyter.widget-view+json": {
       "model_id": "b359645faaae42539c67a3f3f6a84475",
       "version_major": 2,
       "version_minor": 0
      },
      "text/plain": [
       "Output()"
      ]
     },
     "metadata": {},
     "output_type": "display_data"
    }
   ],
   "source": [
    "system.m.k3d_vector(color_field=system.m.z)"
   ]
  },
  {
   "cell_type": "markdown",
   "metadata": {},
   "source": [
    "Now, we can minimise the system's energy by using `oommfc.MinDriver`."
   ]
  },
  {
   "cell_type": "code",
   "execution_count": 5,
   "metadata": {},
   "outputs": [
    {
     "name": "stdout",
     "output_type": "stream",
     "text": [
      "Running OOMMF (ExeOOMMFRunner) [2020/06/25 18:02]... (2.1 s)\n"
     ]
    }
   ],
   "source": [
    "md = mc.MinDriver()\n",
    "md.drive(system)"
   ]
  },
  {
   "cell_type": "markdown",
   "metadata": {},
   "source": [
    "We expect that now all magnetic moments are aligned parallel to the external magnetic field (in the $z$-direction)."
   ]
  },
  {
   "cell_type": "code",
   "execution_count": 6,
   "metadata": {},
   "outputs": [
    {
     "data": {
      "application/vnd.jupyter.widget-view+json": {
       "model_id": "ea2658cdb8394659aa53528e45ef3d18",
       "version_major": 2,
       "version_minor": 0
      },
      "text/plain": [
       "Output()"
      ]
     },
     "metadata": {},
     "output_type": "display_data"
    }
   ],
   "source": [
    "system.m.k3d_vector(color_field=system.m.z)"
   ]
  },
  {
   "cell_type": "markdown",
   "metadata": {},
   "source": [
    "### Spatially varying H\n",
    "\n",
    "There are two different ways how a parameter can be made spatially varying, by using:\n",
    "1. Dictionary\n",
    "2. `discretisedfield.Field`\n",
    "\n",
    "**Dictionary**\n",
    "\n",
    "In order to define a parameter using a dictionary, subregions must be defined in the mesh. Subregions are defined as a dictionary, whose keys are the strings and values are `discretisedfield.Region` objects, which take two corner points of the region as input parameters. "
   ]
  },
  {
   "cell_type": "code",
   "execution_count": 7,
   "metadata": {},
   "outputs": [],
   "source": [
    "p1 = (-10e-9, 0, 0)\n",
    "p2 = (10e-9, 1e-9, 1e-9)\n",
    "cell = (1e-9, 1e-9, 1e-9)\n",
    "subregions = {'subregion1': df.Region(p1=(-10e-9, 0, 0), p2=(0, 1e-9, 1e-9)),\n",
    "              'subregion2': df.Region(p1=(0, 0, 0), p2=(10e-9, 1e-9, 1e-9))}\n",
    "\n",
    "region = df.Region(p1=p1, p2=p2)\n",
    "mesh = df.Mesh(region=region, cell=cell, subregions=subregions)"
   ]
  },
  {
   "cell_type": "markdown",
   "metadata": {},
   "source": [
    "Let us say we want to apply the external magnetic field $\\mathbf{H}$ in region 1 in the $x$-direction and in region 2 in the negative $z$-direction. `H` is now defined as a dictionary:"
   ]
  },
  {
   "cell_type": "code",
   "execution_count": 8,
   "metadata": {},
   "outputs": [],
   "source": [
    "H = {'subregion1': (1e6, 0, 0), 'subregion2': (0, 0, -1e6)}"
   ]
  },
  {
   "cell_type": "markdown",
   "metadata": {},
   "source": [
    "The system object is"
   ]
  },
  {
   "cell_type": "code",
   "execution_count": 9,
   "metadata": {},
   "outputs": [],
   "source": [
    "system = mm.System(name='zeeman_dict_H')\n",
    "system.energy = mm.Zeeman(H=H)\n",
    "system.m = df.Field(mesh, dim=3, value=m_fun, norm=Ms)"
   ]
  },
  {
   "cell_type": "markdown",
   "metadata": {},
   "source": [
    "Its magnetisation is"
   ]
  },
  {
   "cell_type": "code",
   "execution_count": 10,
   "metadata": {},
   "outputs": [
    {
     "data": {
      "application/vnd.jupyter.widget-view+json": {
       "model_id": "6ab9d02805014d4b95dcbe28db11bbe8",
       "version_major": 2,
       "version_minor": 0
      },
      "text/plain": [
       "Output()"
      ]
     },
     "metadata": {},
     "output_type": "display_data"
    }
   ],
   "source": [
    "system.m.k3d_vector(color_field=system.m.z)"
   ]
  },
  {
   "cell_type": "markdown",
   "metadata": {},
   "source": [
    "After we minimise the energy"
   ]
  },
  {
   "cell_type": "code",
   "execution_count": 11,
   "metadata": {},
   "outputs": [
    {
     "name": "stdout",
     "output_type": "stream",
     "text": [
      "Running OOMMF (ExeOOMMFRunner) [2020/06/25 18:05]... (2.3 s)\n"
     ]
    }
   ],
   "source": [
    "md.drive(system)"
   ]
  },
  {
   "cell_type": "markdown",
   "metadata": {},
   "source": [
    "The magnetisation is as we expected."
   ]
  },
  {
   "cell_type": "code",
   "execution_count": 12,
   "metadata": {},
   "outputs": [
    {
     "data": {
      "application/vnd.jupyter.widget-view+json": {
       "model_id": "702183a7899a43ffa4f2d5519262ae9d",
       "version_major": 2,
       "version_minor": 0
      },
      "text/plain": [
       "Output()"
      ]
     },
     "metadata": {},
     "output_type": "display_data"
    }
   ],
   "source": [
    "system.m.k3d_vector(color_field=system.m.z)"
   ]
  },
  {
   "cell_type": "code",
   "execution_count": 13,
   "metadata": {},
   "outputs": [
    {
     "data": {
      "image/png": "[encoded data removed]",
      "text/plain": [
       "<Figure size 576x432 with 1 Axes>"
      ]
     },
     "metadata": {},
     "output_type": "display_data"
    }
   ],
   "source": [
    "mesh.mpl_subregions()"
   ]
  },
  {
   "cell_type": "code",
   "execution_count": 14,
   "metadata": {},
   "outputs": [
    {
     "data": {
      "application/vnd.jupyter.widget-view+json": {
       "model_id": "54d752f567f844f69211c29088f40df2",
       "version_major": 2,
       "version_minor": 0
      },
      "text/plain": [
       "Output()"
      ]
     },
     "metadata": {},
     "output_type": "display_data"
    }
   ],
   "source": [
    "mesh.k3d_subregions()"
   ]
  },
  {
   "cell_type": "markdown",
   "metadata": {},
   "source": [
    "**`discretisedfield.Field`**\n",
    "\n",
    "Let us say that the external magnetic field varies in space as\n",
    "\n",
    "$$\\mathbf{H}(x, y, z) = (c^{2}x, 0, c)$$\n",
    "\n",
    "where $c=10^{9}$ and the entire field is normalised with $H = 10^{6} \\,\\text{Am}^{-1}$. The value of a spatially varying field is set using a Python function."
   ]
  },
  {
   "cell_type": "code",
   "execution_count": 16,
   "metadata": {},
   "outputs": [],
   "source": [
    "def H_fun(point):\n",
    "    x, y, z = point\n",
    "    c = 1e9\n",
    "    return (c*c*x, 0, c)"
   ]
  },
  {
   "cell_type": "markdown",
   "metadata": {},
   "source": [
    "The external magnetic field is"
   ]
  },
  {
   "cell_type": "code",
   "execution_count": 18,
   "metadata": {},
   "outputs": [
    {
     "data": {
      "image/png": "[encoded data removed]",
      "text/plain": [
       "<Figure size 1080x216 with 2 Axes>"
      ]
     },
     "metadata": {},
     "output_type": "display_data"
    }
   ],
   "source": [
    "H = df.Field(mesh, dim=3, value=H_fun, norm=1e6)\n",
    "H.plane('y').mpl(figsize=(15, 3))"
   ]
  },
  {
   "cell_type": "markdown",
   "metadata": {},
   "source": [
    "The system is"
   ]
  },
  {
   "cell_type": "code",
   "execution_count": 19,
   "metadata": {},
   "outputs": [],
   "source": [
    "system = mm.System(name='zeeman_field_H')\n",
    "system.energy = mm.Zeeman(H=H)\n",
    "system.m = df.Field(mesh, dim=3, value=m_fun, norm=Ms)"
   ]
  },
  {
   "cell_type": "markdown",
   "metadata": {},
   "source": [
    "and its magnetisation is"
   ]
  },
  {
   "cell_type": "code",
   "execution_count": 20,
   "metadata": {},
   "outputs": [
    {
     "data": {
      "application/vnd.jupyter.widget-view+json": {
       "model_id": "8c9382a42ed246fe8c3afa48c9b4abcf",
       "version_major": 2,
       "version_minor": 0
      },
      "text/plain": [
       "Output()"
      ]
     },
     "metadata": {},
     "output_type": "display_data"
    }
   ],
   "source": [
    "system.m.k3d_vector(color_field=system.m.z)"
   ]
  },
  {
   "cell_type": "markdown",
   "metadata": {},
   "source": [
    "After the energy minimisation, the magnetisation is:"
   ]
  },
  {
   "cell_type": "code",
   "execution_count": 21,
   "metadata": {},
   "outputs": [
    {
     "name": "stdout",
     "output_type": "stream",
     "text": [
      "Running OOMMF (ExeOOMMFRunner) [2020/06/25 18:09]... (2.3 s)\n"
     ]
    },
    {
     "data": {
      "application/vnd.jupyter.widget-view+json": {
       "model_id": "78b8cb6f11384682955110df11a830d0",
       "version_major": 2,
       "version_minor": 0
      },
      "text/plain": [
       "Output()"
      ]
     },
     "metadata": {},
     "output_type": "display_data"
    }
   ],
   "source": [
    "md.drive(system)\n",
    "system.m.k3d_vector(color_field=system.m.z)"
   ]
  },
  {
   "cell_type": "code",
   "execution_count": null,
   "metadata": {},
   "outputs": [],
   "source": []
  }
 ],
 "metadata": {
  "kernelspec": {
   "display_name": "Python 3",
   "language": "python",
   "name": "python3"
  },
  "language_info": {
   "codemirror_mode": {
    "name": "ipython",
    "version": 3
   },
   "file_extension": ".py",
   "mimetype": "text/x-python",
   "name": "python",
   "nbconvert_exporter": "python",
   "pygments_lexer": "ipython3",
   "version": "3.8.3"
  },
  "widgets": {
   "application/vnd.jupyter.widget-state+json": {
    "state": {
     "0068605889fc445fb7340e6325121b9c": {
      "model_module": "@jupyter-widgets/base",
      "model_module_version": "1.2.0",
      "model_name": "LayoutModel",
      "state": {}
     },
     "05b9b2219de34b8d8723492461c2d72c": {
      "buffers": [
       {
        "data": "eNoDAAAAAAE=",
        "encoding": "base64",
        "path": [
         "colors",
         "compressed_buffer"
        ]
       },
       {
        "data": "eNpjYGiwZ8AAxIsBAF7EAv0=",
        "encoding": "base64",
        "path": [
         "model_matrix",
         "compressed_buffer"
        ]
       },
       {
        "data": "eNoDAAAAAAE=",
        "encoding": "base64",
        "path": [
         "opacities",
         "compressed_buffer"
        ]
       },
       {
        "data": "eNpjYJA4yMDAYA/BHEjsDwdgbEaGCwcQ4huQ2BOQ1CQgiSsgsQ/sR7AZkNlI+AASW8EByUwHJLuQ2BuQ1FxAEv+AxOZwRLAl4GwAunIcnQ==",
        "encoding": "base64",
        "path": [
         "positions",
         "compressed_buffer"
        ]
       }
      ],
      "model_module": "k3d",
      "model_module_version": "2.7.4",
      "model_name": "ObjectModel",
      "state": {
       "_view_count": null,
       "_view_module": null,
       "_view_module_version": "",
       "_view_name": null,
       "color": 5010096,
       "colorLegend": false,
       "colors": {
        "compressed_buffer": {},
        "dtype": "uint32",
        "shape": [
         0
        ]
       },
       "compression_level": 0,
       "id": 140015906054480,
       "mesh_detail": 2,
       "model_matrix": {
        "compressed_buffer": {},
        "dtype": "float32",
        "shape": [
         4,
         4
        ]
       },
       "name": "Points #1",
       "opacities": {
        "compressed_buffer": {},
        "dtype": "float32",
        "shape": [
         0
        ]
       },
       "opacity": 1,
       "point_size": 0.25,
       "positions": {
        "compressed_buffer": {},
        "dtype": "float32",
        "shape": [
         20,
         3
        ]
       },
       "shader": "3dSpecular",
       "type": "Points",
       "visible": true
      }
     },
     "05c49897306d4487a1e63aa546dc37f7": {
      "model_module": "@jupyter-widgets/base",
      "model_module_version": "1.2.0",
      "model_name": "LayoutModel",
      "state": {}
     },
     "0d9fa8d2e2794220b95bab243dc82127": {
      "buffers": [
       {
        "data": "eNoLPveEIRiI8+IiwbhowWowzlu5HYJt1cA4VpMBjCta2sG4IDMNjPOT4yDYgAGCl28BY4sX/8DY89o7MHa6/RmMc52NwDhYlQGMc1xNwNhPiQGMc1xNwbi8shKMAVXTM0E=",
        "encoding": "base64",
        "path": [
         "colors",
         "compressed_buffer"
        ]
       },
       {
        "data": "eNpjYGiwZ8AAxIsBAF7EAv0=",
        "encoding": "base64",
        "path": [
         "model_matrix",
         "compressed_buffer"
        ]
       },
       {
        "data": "eNoB8AAP/3+SEcHYzTs/dKpNPgAAEMESpxo/OBM2P4tH5sDwoFA9jgnJPhJAwcA4OUQ/ZBe0PsqUucBKoUI/7oFiP4mMlMAzrTM/ppV+P06ec8CowiY9m/4FP0/lDMAAC389l0QoP1B28r8AvCc+Zj8xPwBZcr7MR6w+xCN1Pyh2Mj04ckc/Vvu4PoLcxD/+1GI/6MbZPUNTBEB8mRc/7mosPoHWTUAC4Tk+ACUYPjZkg0AsMLA+jdZaP+g7rkDey6A+Zz6CPxEWzEBgPrA9vl1YPyBE9EBNXxk/3HiDP6EVAUEs8Ag/brlXP8g4H0HwEU8/Pl4UP1g8YfE=",
        "encoding": "base64",
        "path": [
         "origins",
         "compressed_buffer"
        ]
       },
       {
        "data": "eNoB8AAP/y6wTb9hN+++xioZPwAAgD+POFW+4kzYvlKHG7/i62U/yNlbPur+a79vcgi/ONGXPqdMGT+TQgW/3QNFvyWRkT7LtM6+Syt9v2byHD+rJ2s/b9M/vYrVGL+gHmA/XRKhvkHZST8AIiw/lv3EvoDTBr9ncKc+iUdqvzuxaT9x5A6/UwmOPjuQm737qUW/Ro5JP+llXT/eyzy+icopP/9LET9/DyM/gO0zP6C8ST+on58+Gq01vx4M4j1DaL4+znyEv/t7ej5o8FM/fbswv/2DiL5q+kq+uPGGv+NLXT+8Ao+923IvvwUZZ7/fIx6/8vEivoXGc/4=",
        "encoding": "base64",
        "path": [
         "vectors",
         "compressed_buffer"
        ]
       }
      ],
      "model_module": "k3d",
      "model_module_version": "2.7.4",
      "model_name": "ObjectModel",
      "state": {
       "_view_count": null,
       "_view_module": null,
       "_view_module_version": "",
       "_view_name": null,
       "colorLegend": false,
       "colors": {
        "compressed_buffer": {},
        "dtype": "uint32",
        "shape": [
         20,
         2
        ]
       },
       "compression_level": 0,
       "head_color": 255,
       "head_size": 1,
       "id": 140015905704976,
       "label_size": 1,
       "labels": [],
       "line_width": 0.01,
       "model_matrix": {
        "compressed_buffer": {},
        "dtype": "float32",
        "shape": [
         4,
         4
        ]
       },
       "name": "Vectors #1",
       "origin_color": 255,
       "origins": {
        "compressed_buffer": {},
        "dtype": "float32",
        "shape": [
         20,
         3
        ]
       },
       "type": "Vectors",
       "use_head": true,
       "vectors": {
        "compressed_buffer": {},
        "dtype": "float32",
        "shape": [
         20,
         3
        ]
       },
       "visible": true
      }
     },
     "0e1e559b9fef4bc6adef91d1ef83e2b0": {
      "model_module": "@jupyter-widgets/base",
      "model_module_version": "1.2.0",
      "model_name": "LayoutModel",
      "state": {}
     },
     "13224da25afb49f3b67accfea7202193": {
      "buffers": [
       {
        "data": "eNqr6OhlqADiQmNWMI4+dguMMzcfAmOLh7/BOG/VDjC2ePEPjP2UGMA4x8MSjHMddcE4x9UUjBO1GMA4x98FBRcu3QDGbjc+gHH+ym1gnBcfBcahZx6CccmcpWAMAKkHOHE=",
        "encoding": "base64",
        "path": [
         "colors",
         "compressed_buffer"
        ]
       },
       {
        "data": "eNpjYGiwZ8AAxIsBAF7EAv0=",
        "encoding": "base64",
        "path": [
         "model_matrix",
         "compressed_buffer"
        ]
       },
       {
        "data": "eNoB8AAP/2fgEcEYRGo/LQjtPqwmCcFYiCY+TNFyP8Hu5cCSHzE+YOklPki5xMASvV0/cp2APtxtuMAKK5I+SJZCPT3/mcCCP2w/IuaUPiPlZ8CWqkc/ILXEPEOBF8BaQNQ+loyFP/pnuL+IOy49duFTP+hBOb8y8V0/DjleP08wOT+7zWQ/aONWP+Pu1D/W8JU+RxCAP13zBUBKz0U/uHZIP9Xzd0C4LD0+zLhIP0jRiUAAAAAA2jyjPkg5vEBBEQA/ECOpPaKEz0AwtYM/gnKZPvZ1AEELKw8/VEAxP2cxAUE86RQ/vkgLPvf8EUE0bGY/lZy5PrgHZUU=",
        "encoding": "base64",
        "path": [
         "origins",
         "compressed_buffer"
        ]
       },
       {
        "data": "eNoB8AAP/yzzQ78wiFS/m76XPUBWEz7Uuyw/maJlv/MTIb83cCc/UAstP4hrNL8keju/HcX+PsHdBj/rqds+N61nP9HzHz8Df1i/vTPWPjmkfD4rVQ+/rrRzP9brh76a/i4+LRmLv8YA872POGo/68Inv6EH5T5k4ju/HXI8vzzB5L52m0m/z8YtvxZ3p75VHtQ+jiCAvxZlUD+Ungu/b+0Qv52eP7+kaSE/mHERvwHXxT4AAIA/S4a5Pn6UQ79hCQq6PLdVPwq+9jxhaoe//RrNPmJfh7+psPK9UQHFviPTWT/iSSe+oVs6PyVhQD9n2Ey/1saMPqa5cHs=",
        "encoding": "base64",
        "path": [
         "vectors",
         "compressed_buffer"
        ]
       }
      ],
      "model_module": "k3d",
      "model_module_version": "2.7.4",
      "model_name": "ObjectModel",
      "state": {
       "_view_count": null,
       "_view_module": null,
       "_view_module_version": "",
       "_view_name": null,
       "colorLegend": false,
       "colors": {
        "compressed_buffer": {},
        "dtype": "uint32",
        "shape": [
         20,
         2
        ]
       },
       "compression_level": 0,
       "head_color": 255,
       "head_size": 1,
       "id": 140015996648144,
       "label_size": 1,
       "labels": [],
       "line_width": 0.01,
       "model_matrix": {
        "compressed_buffer": {},
        "dtype": "float32",
        "shape": [
         4,
         4
        ]
       },
       "name": "Vectors #1",
       "origin_color": 255,
       "origins": {
        "compressed_buffer": {},
        "dtype": "float32",
        "shape": [
         20,
         3
        ]
       },
       "type": "Vectors",
       "use_head": true,
       "vectors": {
        "compressed_buffer": {},
        "dtype": "float32",
        "shape": [
         20,
         3
        ]
       },
       "visible": true
      }
     },
     "17a4297cc8ca4397b0ee6e6ad70edf3e": {
      "buffers": [
       {
        "data": "eNoDAAAAAAE=",
        "encoding": "base64",
        "path": [
         "colors",
         "compressed_buffer"
        ]
       },
       {
        "data": "eNpjYGiwZ8AAxIsBAF7EAv0=",
        "encoding": "base64",
        "path": [
         "model_matrix",
         "compressed_buffer"
        ]
       },
       {
        "data": "eNoDAAAAAAE=",
        "encoding": "base64",
        "path": [
         "opacities",
         "compressed_buffer"
        ]
       },
       {
        "data": "eNpjYJA4yMDAYA/BHEjsDwdgbEaGCwcQ4huQ2BOQ1CQgiSsgsQ/sR7AZkNlI+AASW8EByUwHJLuQ2BuQ1FxAEv+AxOZwRLAl4GwAunIcnQ==",
        "encoding": "base64",
        "path": [
         "positions",
         "compressed_buffer"
        ]
       }
      ],
      "model_module": "k3d",
      "model_module_version": "2.7.4",
      "model_name": "ObjectModel",
      "state": {
       "_view_count": null,
       "_view_module": null,
       "_view_module_version": "",
       "_view_name": null,
       "color": 5010096,
       "colorLegend": false,
       "colors": {
        "compressed_buffer": {},
        "dtype": "uint32",
        "shape": [
         0
        ]
       },
       "compression_level": 0,
       "id": 140015905702608,
       "mesh_detail": 2,
       "model_matrix": {
        "compressed_buffer": {},
        "dtype": "float32",
        "shape": [
         4,
         4
        ]
       },
       "name": "Points #1",
       "opacities": {
        "compressed_buffer": {},
        "dtype": "float32",
        "shape": [
         0
        ]
       },
       "opacity": 1,
       "point_size": 0.25,
       "positions": {
        "compressed_buffer": {},
        "dtype": "float32",
        "shape": [
         20,
         3
        ]
       },
       "shader": "3dSpecular",
       "type": "Points",
       "visible": true
      }
     },
     "195f7317dafd47dea9338f3aed8e2ff5": {
      "model_module": "k3d",
      "model_module_version": "2.7.4",
      "model_name": "PlotModel",
      "state": {
       "_backend_version": "2.7.4",
       "_dom_classes": [],
       "_view_count": null,
       "antialias": 3,
       "auto_rendering": true,
       "axes": [
        "x (nm)",
        "y (nm)",
        "z (nm)"
       ],
       "axes_helper": 1,
       "background_color": 16777215,
       "camera": [
        16.45959372007314,
        -24.194621305852593,
        2.146308023416478,
        -0.003487110137939453,
        0.49999993946403265,
        0.4999999403953552,
        0,
        0,
        1
       ],
       "camera_animation": [],
       "camera_auto_fit": true,
       "camera_fov": 60,
       "camera_no_pan": false,
       "camera_no_rotate": false,
       "camera_no_zoom": false,
       "clipping_planes": [],
       "colorbar_object_id": -1,
       "fps": 25,
       "fps_meter": false,
       "grid": [
        -1,
        -1,
        -1,
        1,
        1,
        1
       ],
       "grid_auto_fit": true,
       "grid_visible": true,
       "height": 512,
       "layout": "IPY_MODEL_28959bcbe4af42c7941f778e1b6015ea",
       "lighting": 1.5,
       "menu_visibility": true,
       "mode": "view",
       "name": null,
       "object_ids": [
        140015996648144,
        140016010117968
       ],
       "rendering_steps": 1,
       "screenshot": "",
       "screenshot_scale": 2,
       "snapshot": "",
       "time": 0,
       "voxel_paint_color": 0
      }
     },
     "1bb1fa38b0bc40bfbdf44ed20b62227c": {
      "model_module": "@jupyter-widgets/base",
      "model_module_version": "1.2.0",
      "model_name": "LayoutModel",
      "state": {}
     },
     "28959bcbe4af42c7941f778e1b6015ea": {
      "model_module": "@jupyter-widgets/base",
      "model_module_version": "1.2.0",
      "model_name": "LayoutModel",
      "state": {}
     },
     "3162b2fa8ff6494486daa2dab4105a21": {
      "model_module": "@jupyter-widgets/base",
      "model_module_version": "1.2.0",
      "model_name": "LayoutModel",
      "state": {}
     },
     "33cf504dedcd461d81d536a7a91b6ce4": {
      "model_module": "@jupyter-widgets/base",
      "model_module_version": "1.2.0",
      "model_name": "LayoutModel",
      "state": {}
     },
     "37fb3499e54843a7bfe63a38fb1cd35f": {
      "buffers": [
       {
        "data": "eNoDAAAAAAE=",
        "encoding": "base64",
        "path": [
         "colors",
         "compressed_buffer"
        ]
       },
       {
        "data": "eNpjYGiwZ8AAxIsBAF7EAv0=",
        "encoding": "base64",
        "path": [
         "model_matrix",
         "compressed_buffer"
        ]
       },
       {
        "data": "eNoDAAAAAAE=",
        "encoding": "base64",
        "path": [
         "opacities",
         "compressed_buffer"
        ]
       },
       {
        "data": "eNpjYJA4yMDAYA/BHEjsDwdgbEaGCwcQ4huQ2BOQ1CQgiSsgsQ/sR7AZkNlI+AASW8EByUwHJLuQ2BuQ1FxAEv+AxOZwRLAl4GwAunIcnQ==",
        "encoding": "base64",
        "path": [
         "positions",
         "compressed_buffer"
        ]
       }
      ],
      "model_module": "k3d",
      "model_module_version": "2.7.4",
      "model_name": "ObjectModel",
      "state": {
       "_view_count": null,
       "_view_module": null,
       "_view_module_version": "",
       "_view_name": null,
       "color": 5010096,
       "colorLegend": false,
       "colors": {
        "compressed_buffer": {},
        "dtype": "uint32",
        "shape": [
         0
        ]
       },
       "compression_level": 0,
       "id": 140017076922512,
       "mesh_detail": 2,
       "model_matrix": {
        "compressed_buffer": {},
        "dtype": "float32",
        "shape": [
         4,
         4
        ]
       },
       "name": "Points #1",
       "opacities": {
        "compressed_buffer": {},
        "dtype": "float32",
        "shape": [
         0
        ]
       },
       "opacity": 1,
       "point_size": 0.25,
       "positions": {
        "compressed_buffer": {},
        "dtype": "float32",
        "shape": [
         20,
         3
        ]
       },
       "shader": "3dSpecular",
       "type": "Points",
       "visible": true
      }
     },
     "426d9bd9fd7343f5afc8b49dcbdf962b": {
      "model_module": "@jupyter-widgets/base",
      "model_module_version": "1.2.0",
      "model_name": "LayoutModel",
      "state": {}
     },
     "488136312d9c40cf83d661c41d8979ec": {
      "model_module": "k3d",
      "model_module_version": "2.7.4",
      "model_name": "PlotModel",
      "state": {
       "_backend_version": "2.7.4",
       "_dom_classes": [],
       "_view_count": null,
       "antialias": 3,
       "auto_rendering": true,
       "axes": [
        "x (nm)",
        "y (nm)",
        "z (nm)"
       ],
       "axes_helper": 1,
       "background_color": 16777215,
       "camera": [
        16.015294166491724,
        -23.52294124973759,
        2.1015294166491696,
        0,
        0.5,
        0.5,
        0,
        0,
        1
       ],
       "camera_animation": [],
       "camera_auto_fit": true,
       "camera_fov": 60,
       "camera_no_pan": false,
       "camera_no_rotate": false,
       "camera_no_zoom": false,
       "clipping_planes": [],
       "colorbar_object_id": -1,
       "fps": 25,
       "fps_meter": false,
       "grid": [
        -1,
        -1,
        -1,
        1,
        1,
        1
       ],
       "grid_auto_fit": true,
       "grid_visible": true,
       "height": 512,
       "layout": "IPY_MODEL_0e1e559b9fef4bc6adef91d1ef83e2b0",
       "lighting": 1.5,
       "menu_visibility": true,
       "mode": "view",
       "name": null,
       "object_ids": [
        140017077317456,
        140015906054480
       ],
       "rendering_steps": 1,
       "screenshot": "",
       "screenshot_scale": 2,
       "snapshot": "",
       "time": 0,
       "voxel_paint_color": 0
      }
     },
     "4f85922e92034d6ba63d7cdd0fc05798": {
      "buffers": [
       {
        "data": "eNrzU2Jg8BvEGACWmxGB",
        "encoding": "base64",
        "path": [
         "colors",
         "compressed_buffer"
        ]
       },
       {
        "data": "eNpjYGiwZ8AAxIsBAF7EAv0=",
        "encoding": "base64",
        "path": [
         "model_matrix",
         "compressed_buffer"
        ]
       },
       {
        "data": "eNpjYJA4yMDAYM8ABhxI7A8HYGxGhgsHEOIbkNgTkNQkIIkrILEP7EewGZDZ9khqkNgKDkhmOiDZhcTegKTmApL4ByQ2hyOCLQFnAwCEUBex",
        "encoding": "base64",
        "path": [
         "origins",
         "compressed_buffer"
        ]
       },
       {
        "data": "eNrb9KB//SLeOesZGBrs9zj36sfMXWoAYi/NEV8fki6rD2IvDLdbP/2kK1jNqrd39bbt3qIHYksGGOnfiSgEi2fO9dI7++zpOhB7zrKLBiu+tm0AsXeZvFv3eEYq2MwmE3aDVVdiweLyDG/WW/7zB7PT1fM3iJRNB6uZHKFtkDDjKdjMM0pyG8RNWcHihRue6unMngJ2T3KM+vo62zcrQexgb27dJU9mgNWfilXbMEFhKtgNXmlu+gfjJMDs+NV5+o1KdWA1AInaWww=",
        "encoding": "base64",
        "path": [
         "vectors",
         "compressed_buffer"
        ]
       }
      ],
      "model_module": "k3d",
      "model_module_version": "2.7.4",
      "model_name": "ObjectModel",
      "state": {
       "_view_count": null,
       "_view_module": null,
       "_view_module_version": "",
       "_view_name": null,
       "colorLegend": false,
       "colors": {
        "compressed_buffer": {},
        "dtype": "uint32",
        "shape": [
         20,
         2
        ]
       },
       "compression_level": 0,
       "head_color": 255,
       "head_size": 1,
       "id": 140017077317456,
       "label_size": 1,
       "labels": [],
       "line_width": 0.01,
       "model_matrix": {
        "compressed_buffer": {},
        "dtype": "float32",
        "shape": [
         4,
         4
        ]
       },
       "name": "Vectors #1",
       "origin_color": 255,
       "origins": {
        "compressed_buffer": {},
        "dtype": "float32",
        "shape": [
         20,
         3
        ]
       },
       "type": "Vectors",
       "use_head": true,
       "vectors": {
        "compressed_buffer": {},
        "dtype": "float32",
        "shape": [
         20,
         3
        ]
       },
       "visible": true
      }
     },
     "50e3b17987354c87b7456ce26098512e": {
      "model_module": "@jupyter-widgets/base",
      "model_module_version": "1.2.0",
      "model_name": "LayoutModel",
      "state": {}
     },
     "542f40140aa74aee994159ee51e40deb": {
      "model_module": "@jupyter-widgets/output",
      "model_module_version": "1.0.0",
      "model_name": "OutputModel",
      "state": {
       "layout": "IPY_MODEL_1bb1fa38b0bc40bfbdf44ed20b62227c",
       "outputs": [
        {
         "data": {
          "application/vnd.jupyter.widget-view+json": {
           "model_id": "c0f755906df74f839cb9da8bb4822d7e",
           "version_major": 2,
           "version_minor": 0
          },
          "text/plain": "Plot(antialias=3, axes=['x', 'y', 'z'], axes_helper=1.0, background_color=16777215, camera=[2, -3, 0.2, 0.0, 0…"
         },
         "metadata": {},
         "output_type": "display_data"
        }
       ]
      }
     },
     "6a08ef0f487f4d73b3a3fb4a702ea5c1": {
      "buffers": [
       {
        "data": "eNoDAAAAAAE=",
        "encoding": "base64",
        "path": [
         "colors",
         "compressed_buffer"
        ]
       },
       {
        "data": "eNpjYGiwZ8AAxIsBAF7EAv0=",
        "encoding": "base64",
        "path": [
         "model_matrix",
         "compressed_buffer"
        ]
       },
       {
        "data": "eNoDAAAAAAE=",
        "encoding": "base64",
        "path": [
         "opacities",
         "compressed_buffer"
        ]
       },
       {
        "data": "eNpjYJA4yMDAYA/BHEjsDwdgbEaGCwcQ4huQ2BOQ1CQgiSsgsQ/sR7AZkNlI+AASW8EByUwHJLuQ2BuQ1FxAEv+AxOZwRLAl4GwAunIcnQ==",
        "encoding": "base64",
        "path": [
         "positions",
         "compressed_buffer"
        ]
       }
      ],
      "model_module": "k3d",
      "model_module_version": "2.7.4",
      "model_name": "ObjectModel",
      "state": {
       "_view_count": null,
       "_view_module": null,
       "_view_module_version": "",
       "_view_name": null,
       "color": 5010096,
       "colorLegend": false,
       "colors": {
        "compressed_buffer": {},
        "dtype": "uint32",
        "shape": [
         0
        ]
       },
       "compression_level": 0,
       "id": 140015905832016,
       "mesh_detail": 2,
       "model_matrix": {
        "compressed_buffer": {},
        "dtype": "float32",
        "shape": [
         4,
         4
        ]
       },
       "name": "Points #1",
       "opacities": {
        "compressed_buffer": {},
        "dtype": "float32",
        "shape": [
         0
        ]
       },
       "opacity": 1,
       "point_size": 0.25,
       "positions": {
        "compressed_buffer": {},
        "dtype": "float32",
        "shape": [
         20,
         3
        ]
       },
       "shader": "3dSpecular",
       "type": "Points",
       "visible": true
      }
     },
     "6bdedb73eb534d59a55817eff9e1c682": {
      "model_module": "k3d",
      "model_module_version": "2.7.4",
      "model_name": "PlotModel",
      "state": {
       "_backend_version": "2.7.4",
       "_dom_classes": [],
       "_view_count": null,
       "antialias": 3,
       "auto_rendering": true,
       "axes": [
        "x (nm)",
        "y (nm)",
        "z (nm)"
       ],
       "axes_helper": 1,
       "background_color": 16777215,
       "camera": [
        11.531632654209208,
        -16.797448981313828,
        1.6531632803220928,
        0,
        0.5,
        0.5000000149011612,
        0,
        0,
        1
       ],
       "camera_animation": [],
       "camera_auto_fit": true,
       "camera_fov": 60,
       "camera_no_pan": false,
       "camera_no_rotate": false,
       "camera_no_zoom": false,
       "clipping_planes": [],
       "colorbar_object_id": -1,
       "fps": 25,
       "fps_meter": false,
       "grid": [
        -1,
        -1,
        -1,
        1,
        1,
        1
       ],
       "grid_auto_fit": true,
       "grid_visible": true,
       "height": 512,
       "layout": "IPY_MODEL_50e3b17987354c87b7456ce26098512e",
       "lighting": 1.5,
       "menu_visibility": true,
       "mode": "view",
       "name": null,
       "object_ids": [
        140017128162064,
        140015905702608
       ],
       "rendering_steps": 1,
       "screenshot": "",
       "screenshot_scale": 2,
       "snapshot": "",
       "time": 0,
       "voxel_paint_color": 0
      }
     },
     "6ced872cd47f4c3b818059a2b383a40c": {
      "model_module": "@jupyter-widgets/output",
      "model_module_version": "1.0.0",
      "model_name": "OutputModel",
      "state": {
       "layout": "IPY_MODEL_33cf504dedcd461d81d536a7a91b6ce4",
       "outputs": [
        {
         "data": {
          "application/vnd.jupyter.widget-view+json": {
           "model_id": "f4c75598db154d7aa250f851d892ad51",
           "version_major": 2,
           "version_minor": 0
          },
          "text/plain": "Plot(antialias=3, axes=['x', 'y', 'z'], axes_helper=1.0, background_color=16777215, camera=[2, -3, 0.2, 0.0, 0…"
         },
         "metadata": {},
         "output_type": "display_data"
        }
       ]
      }
     },
     "89460fcab4fa48078fdb933f9f190269": {
      "buffers": [
       {
        "data": "eNoDAAAAAAE=",
        "encoding": "base64",
        "path": [
         "colors",
         "compressed_buffer"
        ]
       },
       {
        "data": "eNpjYGiwZ8AAxIsBAF7EAv0=",
        "encoding": "base64",
        "path": [
         "model_matrix",
         "compressed_buffer"
        ]
       },
       {
        "data": "eNoDAAAAAAE=",
        "encoding": "base64",
        "path": [
         "opacities",
         "compressed_buffer"
        ]
       },
       {
        "data": "eNpjYJA4yMDAYA/BHEjsDwdgbEaGCwcQ4huQ2BOQ1CQgiSsgsQ/sR7AZkNlI+AASW8EByUwHJLuQ2BuQ1FxAEv+AxOZwRLAl4GwAunIcnQ==",
        "encoding": "base64",
        "path": [
         "positions",
         "compressed_buffer"
        ]
       }
      ],
      "model_module": "k3d",
      "model_module_version": "2.7.4",
      "model_name": "ObjectModel",
      "state": {
       "_view_count": null,
       "_view_module": null,
       "_view_module_version": "",
       "_view_name": null,
       "color": 5010096,
       "colorLegend": false,
       "colors": {
        "compressed_buffer": {},
        "dtype": "uint32",
        "shape": [
         0
        ]
       },
       "compression_level": 0,
       "id": 140016010117968,
       "mesh_detail": 2,
       "model_matrix": {
        "compressed_buffer": {},
        "dtype": "float32",
        "shape": [
         4,
         4
        ]
       },
       "name": "Points #1",
       "opacities": {
        "compressed_buffer": {},
        "dtype": "float32",
        "shape": [
         0
        ]
       },
       "opacity": 1,
       "point_size": 0.25,
       "positions": {
        "compressed_buffer": {},
        "dtype": "float32",
        "shape": [
         20,
         3
        ]
       },
       "shader": "3dSpecular",
       "type": "Points",
       "visible": true
      }
     },
     "902cc117709345d0a88c2f6e35d005d1": {
      "model_module": "@jupyter-widgets/base",
      "model_module_version": "1.2.0",
      "model_name": "LayoutModel",
      "state": {}
     },
     "946a15f7dac2425d8fb7118d1654a337": {
      "model_module": "@jupyter-widgets/output",
      "model_module_version": "1.0.0",
      "model_name": "OutputModel",
      "state": {
       "layout": "IPY_MODEL_426d9bd9fd7343f5afc8b49dcbdf962b",
       "outputs": [
        {
         "data": {
          "application/vnd.jupyter.widget-view+json": {
           "model_id": "9c831664e6c949bbae0d11a834262d21",
           "version_major": 2,
           "version_minor": 0
          },
          "text/plain": "Plot(antialias=3, axes=['x', 'y', 'z'], axes_helper=1.0, background_color=16777215, camera=[2, -3, 0.2, 0.0, 0…"
         },
         "metadata": {},
         "output_type": "display_data"
        }
       ]
      }
     },
     "96990f97ca29435b947998745c215bc5": {
      "model_module": "@jupyter-widgets/output",
      "model_module_version": "1.0.0",
      "model_name": "OutputModel",
      "state": {
       "layout": "IPY_MODEL_99a55990cec940f693ffc7ad482fa7d9",
       "outputs": [
        {
         "data": {
          "application/vnd.jupyter.widget-view+json": {
           "model_id": "195f7317dafd47dea9338f3aed8e2ff5",
           "version_major": 2,
           "version_minor": 0
          },
          "text/plain": "Plot(antialias=3, axes=['x', 'y', 'z'], axes_helper=1.0, background_color=16777215, camera=[2, -3, 0.2, 0.0, 0…"
         },
         "metadata": {},
         "output_type": "display_data"
        }
       ]
      }
     },
     "99a55990cec940f693ffc7ad482fa7d9": {
      "model_module": "@jupyter-widgets/base",
      "model_module_version": "1.2.0",
      "model_name": "LayoutModel",
      "state": {}
     },
     "9c831664e6c949bbae0d11a834262d21": {
      "model_module": "k3d",
      "model_module_version": "2.7.4",
      "model_name": "PlotModel",
      "state": {
       "_backend_version": "2.7.4",
       "_dom_classes": [],
       "_view_count": null,
       "antialias": 3,
       "auto_rendering": true,
       "axes": [
        "x (nm)",
        "y (nm)",
        "z (nm)"
       ],
       "axes_helper": 1,
       "background_color": 16777215,
       "camera": [
        21.406034222066644,
        -31.775786028534526,
        2.65171912724231,
        -0.11115646362304688,
        0.5,
        0.5000000586733222,
        0,
        0,
        1
       ],
       "camera_animation": [],
       "camera_auto_fit": true,
       "camera_fov": 60,
       "camera_no_pan": false,
       "camera_no_rotate": false,
       "camera_no_zoom": false,
       "clipping_planes": [],
       "colorbar_object_id": -1,
       "fps": 25,
       "fps_meter": false,
       "grid": [
        -1,
        -1,
        -1,
        1,
        1,
        1
       ],
       "grid_auto_fit": true,
       "grid_visible": true,
       "height": 512,
       "layout": "IPY_MODEL_3162b2fa8ff6494486daa2dab4105a21",
       "lighting": 1.5,
       "menu_visibility": true,
       "mode": "view",
       "name": null,
       "object_ids": [
        140016671830160,
        140016671876496
       ],
       "rendering_steps": 1,
       "screenshot": "",
       "screenshot_scale": 2,
       "snapshot": "",
       "time": 0,
       "voxel_paint_color": 0
      }
     },
     "a4a982a4e0b84e5f9393b6c7c5dd189e": {
      "model_module": "@jupyter-widgets/output",
      "model_module_version": "1.0.0",
      "model_name": "OutputModel",
      "state": {
       "layout": "IPY_MODEL_f238a88045f2414c93765944d87c6b1b",
       "outputs": [
        {
         "data": {
          "application/vnd.jupyter.widget-view+json": {
           "model_id": "488136312d9c40cf83d661c41d8979ec",
           "version_major": 2,
           "version_minor": 0
          },
          "text/plain": "Plot(antialias=3, axes=['x', 'y', 'z'], axes_helper=1.0, background_color=16777215, camera=[2, -3, 0.2, 0.0, 0…"
         },
         "metadata": {},
         "output_type": "display_data"
        }
       ]
      }
     },
     "ae8c6b19f09a4da3921801112063a63d": {
      "buffers": [
       {
        "data": "eNormbOMoQSIc8L9IdjbDowLMlLBOMfHHoK9bMEYJu5z+RUYp+kwgHHRorVgbPXgJxgHXHwOxjB9aTtOgHFFezcY+ykxgHH0sVtgnBsXAcYWL/6Bcb4BAxgDANk+No0=",
        "encoding": "base64",
        "path": [
         "colors",
         "compressed_buffer"
        ]
       },
       {
        "data": "eNpjYGiwZ8AAxIsBAF7EAv0=",
        "encoding": "base64",
        "path": [
         "model_matrix",
         "compressed_buffer"
        ]
       },
       {
        "data": "eNoB8AAP/5iOHcH0MdA9im/fPvU3DsG8Snc+PoBBP7bf+cDomk0/QGtPP0OLxMDORRQ+MJsrP4ixvcD2PRE/UDFPPy0/jcB6tGs/84VQPxrJSMCU4hg+nm8rP77TC8Ag+FI/3ENgPmlq1b+gDTM/Dt12PwAAgL+g4ig/fanSPkwKVT+6MXM+tqA1PoP56z9Ma0c+UPdsPsHJHEDQGJk90/NQP8XidkDiUhc+IEClPrVwgUAEU0Y/1IoHP0LCq0BAGtk+zESBP6ipwEBsFfU+ju+JPmKd90DdHWw/xks4P4J8A0FU5kk/OKIcPk4yGUEoDUg/gBFyP4qMaKw=",
        "encoding": "base64",
        "path": [
         "origins",
         "compressed_buffer"
        ]
       },
       {
        "data": "eNoB8AAP//fSMT+D80s/2kECPp/+Rj+iWgQ/fAADv1n7HT/RNRu/gNYev91LN78Z3TU/vmyuvnwYWz+07wm+oGIev6Y0ML70aFe/5gshvze3Ob+2jjM/d76tvhRiIb9B8CW/Et4PP0tTqz5/Nsy+HLptvwAAgD+AiqO+C1o1PpkUKr8jZwY/pS8lPwzmL79aShw/WIQJP8qPzT3MuVk/puchvx8WN7+PVjQ/wH+1Pq30aD8Hpgy/jlpxvbO3hz4Blxs+l4mCv5dldT9CqS494yDsPk2s8766O1i/Gi/hvsxvED+ozBO/5K4xP+omGb5RGhC//yJkv4msa+c=",
        "encoding": "base64",
        "path": [
         "vectors",
         "compressed_buffer"
        ]
       }
      ],
      "model_module": "k3d",
      "model_module_version": "2.7.4",
      "model_name": "ObjectModel",
      "state": {
       "_view_count": null,
       "_view_module": null,
       "_view_module_version": "",
       "_view_name": null,
       "colorLegend": false,
       "colors": {
        "compressed_buffer": {},
        "dtype": "uint32",
        "shape": [
         20,
         2
        ]
       },
       "compression_level": 0,
       "head_color": 255,
       "head_size": 1,
       "id": 140016671830160,
       "label_size": 1,
       "labels": [],
       "line_width": 0.01,
       "model_matrix": {
        "compressed_buffer": {},
        "dtype": "float32",
        "shape": [
         4,
         4
        ]
       },
       "name": "Vectors #1",
       "origin_color": 255,
       "origins": {
        "compressed_buffer": {},
        "dtype": "float32",
        "shape": [
         20,
         3
        ]
       },
       "type": "Vectors",
       "use_head": true,
       "vectors": {
        "compressed_buffer": {},
        "dtype": "float32",
        "shape": [
         20,
         3
        ]
       },
       "visible": true
      }
     },
     "b11f46c6683c4e11840fa2a09a76ea7c": {
      "buffers": [
       {
        "data": "eNrzU2Jg8APiEFUIjtWE4AxdCC40ZgXjPGtFMM7xsALj3LgIMK7o6AVjixf/UDBMHKYOpg9mDsxcmD0we2Hu8IO6CwCsASTN",
        "encoding": "base64",
        "path": [
         "colors",
         "compressed_buffer"
        ]
       },
       {
        "data": "eNpjYGiwZ8AAxIsBAF7EAv0=",
        "encoding": "base64",
        "path": [
         "model_matrix",
         "compressed_buffer"
        ]
       },
       {
        "data": "eNpjYBA4yMDAYF/J+9TuFBMDmJ385qFdA++DAyD2ql937VwkD4DZO2/fsDunvQDMPv35ol2RdwOYvVnjhN06fkcwO8Njp91TeSYwWyhtgV18Sdd+EHtZTpJdzcOefSD2DnE/WyDbDsYGqrGHqQHqdYDpBZrpADMTaJcDzC6gGxxgbgC6zQHmNqCbHWBuBvrFEeYXBgYBR5gfAfZlTmU=",
        "encoding": "base64",
        "path": [
         "origins",
         "compressed_buffer"
        ]
       },
       {
        "data": "eNpjYGjY7/bRysBsynXbHcvq99umv9N/OeeDLYtG/X4RE8EN4aIcdmey6/YLRxvoS0+UsVN2rt1/fO53/SsGFna3PKr3Hzi/bL1xbLzd1Kby/eb3jfUN83vtrjLk75cRF1l/13i/XYte2P6vWifXrz3JZ89p+2zfhHMG6zlt00Bsu61/NfRBbKAa+/d/luqD1AD12u/ef1wfpBdopr2jvpAByEygXfYXl7xfB7IL6Ab7+RzpepeBbgC6zX7fUU5dkNuAbra3m6QAdjPQL/bv5wmsB/mFgaHB/mDH5PUgPwIA24Vm6g==",
        "encoding": "base64",
        "path": [
         "vectors",
         "compressed_buffer"
        ]
       }
      ],
      "model_module": "k3d",
      "model_module_version": "2.7.4",
      "model_name": "ObjectModel",
      "state": {
       "_view_count": null,
       "_view_module": null,
       "_view_module_version": "",
       "_view_name": null,
       "colorLegend": false,
       "colors": {
        "compressed_buffer": {},
        "dtype": "uint32",
        "shape": [
         20,
         2
        ]
       },
       "compression_level": 0,
       "head_color": 255,
       "head_size": 1,
       "id": 140017128162064,
       "label_size": 1,
       "labels": [],
       "line_width": 0.01,
       "model_matrix": {
        "compressed_buffer": {},
        "dtype": "float32",
        "shape": [
         4,
         4
        ]
       },
       "name": "Vectors #1",
       "origin_color": 255,
       "origins": {
        "compressed_buffer": {},
        "dtype": "float32",
        "shape": [
         20,
         3
        ]
       },
       "type": "Vectors",
       "use_head": true,
       "vectors": {
        "compressed_buffer": {},
        "dtype": "float32",
        "shape": [
         20,
         3
        ]
       },
       "visible": true
      }
     },
     "b87aa7ec52e141e1a36ed677ac805d2d": {
      "buffers": [
       {
        "data": "eNoDAAAAAAE=",
        "encoding": "base64",
        "path": [
         "colors",
         "compressed_buffer"
        ]
       },
       {
        "data": "eNpjYGiwZ8AAxIsBAF7EAv0=",
        "encoding": "base64",
        "path": [
         "model_matrix",
         "compressed_buffer"
        ]
       },
       {
        "data": "eNoDAAAAAAE=",
        "encoding": "base64",
        "path": [
         "opacities",
         "compressed_buffer"
        ]
       },
       {
        "data": "eNpjYJA4yMDAYA/BHEjsDwdgbEaGCwcQ4huQ2BOQ1CQgiSsgsQ/sR7AZkNlI+AASW8EByUwHJLuQ2BuQ1FxAEv+AxOZwRLAl4GwAunIcnQ==",
        "encoding": "base64",
        "path": [
         "positions",
         "compressed_buffer"
        ]
       }
      ],
      "model_module": "k3d",
      "model_module_version": "2.7.4",
      "model_name": "ObjectModel",
      "state": {
       "_view_count": null,
       "_view_module": null,
       "_view_module_version": "",
       "_view_name": null,
       "color": 5010096,
       "colorLegend": false,
       "colors": {
        "compressed_buffer": {},
        "dtype": "uint32",
        "shape": [
         0
        ]
       },
       "compression_level": 0,
       "id": 140016671876496,
       "mesh_detail": 2,
       "model_matrix": {
        "compressed_buffer": {},
        "dtype": "float32",
        "shape": [
         4,
         4
        ]
       },
       "name": "Points #1",
       "opacities": {
        "compressed_buffer": {},
        "dtype": "float32",
        "shape": [
         0
        ]
       },
       "opacity": 1,
       "point_size": 0.25,
       "positions": {
        "compressed_buffer": {},
        "dtype": "float32",
        "shape": [
         20,
         3
        ]
       },
       "shader": "3dSpecular",
       "type": "Points",
       "visible": true
      }
     },
     "b884c68e1a4c452c95a403ce50185cc7": {
      "model_module": "@jupyter-widgets/output",
      "model_module_version": "1.0.0",
      "model_name": "OutputModel",
      "state": {
       "layout": "IPY_MODEL_05c49897306d4487a1e63aa546dc37f7",
       "outputs": [
        {
         "data": {
          "application/vnd.jupyter.widget-view+json": {
           "model_id": "6bdedb73eb534d59a55817eff9e1c682",
           "version_major": 2,
           "version_minor": 0
          },
          "text/plain": "Plot(antialias=3, axes=['x', 'y', 'z'], axes_helper=1.0, background_color=16777215, camera=[2, -3, 0.2, 0.0, 0…"
         },
         "metadata": {},
         "output_type": "display_data"
        }
       ]
      }
     },
     "c0f755906df74f839cb9da8bb4822d7e": {
      "model_module": "k3d",
      "model_module_version": "2.7.4",
      "model_name": "PlotModel",
      "state": {
       "_backend_version": "2.7.4",
       "_dom_classes": [],
       "_view_count": null,
       "antialias": 3,
       "auto_rendering": true,
       "axes": [
        "x (nm)",
        "y (nm)",
        "z (nm)"
       ],
       "axes_helper": 1,
       "background_color": 16777215,
       "camera": [
        16.559093194287616,
        -24.3014192984724,
        2.153427953293596,
        0.02481365203857422,
        0.5000000149011612,
        0.4999999990686774,
        0,
        0,
        1
       ],
       "camera_animation": [],
       "camera_auto_fit": true,
       "camera_fov": 60,
       "camera_no_pan": false,
       "camera_no_rotate": false,
       "camera_no_zoom": false,
       "clipping_planes": [],
       "colorbar_object_id": -1,
       "fps": 25,
       "fps_meter": false,
       "grid": [
        -1,
        -1,
        -1,
        1,
        1,
        1
       ],
       "grid_auto_fit": true,
       "grid_visible": true,
       "height": 512,
       "layout": "IPY_MODEL_0068605889fc445fb7340e6325121b9c",
       "lighting": 1.5,
       "menu_visibility": true,
       "mode": "view",
       "name": null,
       "object_ids": [
        140015905704976,
        140015905832016
       ],
       "rendering_steps": 1,
       "screenshot": "",
       "screenshot_scale": 2,
       "snapshot": "",
       "time": 0,
       "voxel_paint_color": 0
      }
     },
     "c70cd2977abf44cfbd9616aa6df3c9a3": {
      "buffers": [
       {
        "data": "eNqzePGPwYKK2E+JgaoYAGLTMxk=",
        "encoding": "base64",
        "path": [
         "colors",
         "compressed_buffer"
        ]
       },
       {
        "data": "eNpjYGiwZ8AAxIsBAF7EAv0=",
        "encoding": "base64",
        "path": [
         "model_matrix",
         "compressed_buffer"
        ]
       },
       {
        "data": "eNpjYFA4yMDAYA/BAkhsBjibkeHBAYT4AST2AiR2AxLbAYnNgKxmP5I4TAxkJhJbwQHGZmRIcECIT0Bib0BScwFJ/AMSm8MRwZaAswE7OyDu",
        "encoding": "base64",
        "path": [
         "origins",
         "compressed_buffer"
        ]
       },
       {
        "data": "eNpjYGiwV75wR88qiXc9A4h9eZ1OY6ShLoj9e9aHdcKCz9aC2J6rovXvZ3xZB2I7/OjSvVFyFqym91i7bq23mh6I/eHNp7VaWse0QexyrqfrzsxWAYsH2MxfK21tBlbPd1R4neyhc3rHF3euMwzSAMnvr49q1xX8o60PYt9qY1n/m/URSO3+ubUH19Wo3gTZuf/g7cNr3/2QArll/+4HpmtWG0uC2bUa39aEuV8As5uLb+rMW7FQB8Ru17q19u4fHjBb8L6GHqvcc7CZAG3vYc4=",
        "encoding": "base64",
        "path": [
         "vectors",
         "compressed_buffer"
        ]
       }
      ],
      "model_module": "k3d",
      "model_module_version": "2.7.4",
      "model_name": "ObjectModel",
      "state": {
       "_view_count": null,
       "_view_module": null,
       "_view_module_version": "",
       "_view_name": null,
       "colorLegend": false,
       "colors": {
        "compressed_buffer": {},
        "dtype": "uint32",
        "shape": [
         20,
         2
        ]
       },
       "compression_level": 0,
       "head_color": 255,
       "head_size": 1,
       "id": 140017077316368,
       "label_size": 1,
       "labels": [],
       "line_width": 0.01,
       "model_matrix": {
        "compressed_buffer": {},
        "dtype": "float32",
        "shape": [
         4,
         4
        ]
       },
       "name": "Vectors #1",
       "origin_color": 255,
       "origins": {
        "compressed_buffer": {},
        "dtype": "float32",
        "shape": [
         20,
         3
        ]
       },
       "type": "Vectors",
       "use_head": true,
       "vectors": {
        "compressed_buffer": {},
        "dtype": "float32",
        "shape": [
         20,
         3
        ]
       },
       "visible": true
      }
     },
     "f238a88045f2414c93765944d87c6b1b": {
      "model_module": "@jupyter-widgets/base",
      "model_module_version": "1.2.0",
      "model_name": "LayoutModel",
      "state": {}
     },
     "f4c75598db154d7aa250f851d892ad51": {
      "model_module": "k3d",
      "model_module_version": "2.7.4",
      "model_name": "PlotModel",
      "state": {
       "_backend_version": "2.7.4",
       "_dom_classes": [],
       "_view_count": null,
       "antialias": 3,
       "auto_rendering": true,
       "axes": [
        "x (nm)",
        "y (nm)",
        "z (nm)"
       ],
       "axes_helper": 1,
       "background_color": 16777215,
       "camera": [
        16.138896925893096,
        -23.989595388839646,
        2.1326396918442487,
        -0.1875,
        0.5,
        0.49999999925494193,
        0,
        0,
        1
       ],
       "camera_animation": [],
       "camera_auto_fit": true,
       "camera_fov": 60,
       "camera_no_pan": false,
       "camera_no_rotate": false,
       "camera_no_zoom": false,
       "clipping_planes": [],
       "colorbar_object_id": -1,
       "fps": 25,
       "fps_meter": false,
       "grid": [
        -1,
        -1,
        -1,
        1,
        1,
        1
       ],
       "grid_auto_fit": true,
       "grid_visible": true,
       "height": 512,
       "layout": "IPY_MODEL_902cc117709345d0a88c2f6e35d005d1",
       "lighting": 1.5,
       "menu_visibility": true,
       "mode": "view",
       "name": null,
       "object_ids": [
        140017077316368,
        140017076922512
       ],
       "rendering_steps": 1,
       "screenshot": "",
       "screenshot_scale": 2,
       "snapshot": "",
       "time": 0,
       "voxel_paint_color": 0
      }
     }
    },
    "version_major": 2,
    "version_minor": 0
   }
  }
 },
 "nbformat": 4,
 "nbformat_minor": 4
}
