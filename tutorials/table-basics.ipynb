{
 "cells": [
  {
   "cell_type": "markdown",
   "metadata": {},
   "source": [
    "# Table basics\n",
    "\n",
    "OOMMF saves the scalar data of micromagnetic simulations in `.odt` files, whereas mumax$^{3}$ saves it in `.txt` files. `ubermagtable` is a convenience tool which provides functions for reading, manipulating, and visualising data from those files.\n",
    "\n",
    "As an example, we are going to use a simple macrospin example:"
   ]
  },
  {
   "cell_type": "code",
   "execution_count": 2,
   "metadata": {},
   "outputs": [
    {
     "name": "stdout",
     "output_type": "stream",
     "text": [
      "Running OOMMF (ExeOOMMFRunner) [2020/07/02 15:14]... (2.9 s)\n"
     ]
    }
   ],
   "source": [
    "import oommfc as mc\n",
    "import discretisedfield as df\n",
    "import micromagneticmodel as mm\n",
    "\n",
    "# Define a macrospin mesh (i.e. one discretisation cell).\n",
    "p1 = (0, 0, 0)  # first point of the mesh domain (m)\n",
    "p2 = (1e-9, 1e-9, 1e-9)  # second point of the mesh domain (m)\n",
    "n = (1, 1, 1)  # discretisation cell size (m)\n",
    "\n",
    "Ms = 8e6  # magnetisation saturation (A/m)\n",
    "H = (0, 0, 2e6)  # external magnetic field (A/m)\n",
    "gamma0 = 2.211e5  # gyromagnetic ratio (m/As)\n",
    "alpha = 0.1  # Gilbert damping\n",
    "\n",
    "region = df.Region(p1=p1, p2=p2)\n",
    "mesh = df.Mesh(region=region, n=n)\n",
    "\n",
    "system = mm.System(name='macrospin')\n",
    "system.energy = mm.Zeeman(H=H)\n",
    "system.dynamics = mm.Precession(gamma0=gamma0) + mm.Damping(alpha=alpha)\n",
    "system.m = df.Field(mesh, dim=3, value=(1, 0, 0), norm=Ms)\n",
    "\n",
    "td = mc.TimeDriver()\n",
    "td.drive(system, t=0.1e-9, n=200)"
   ]
  },
  {
   "cell_type": "markdown",
   "metadata": {},
   "source": [
    "Table data is now loaded into `pandas.DataFrame` and it can be accessed via `data` attribute."
   ]
  },
  {
   "cell_type": "code",
   "execution_count": 4,
   "metadata": {},
   "outputs": [
    {
     "data": {
      "text/html": [
       "<div>\n",
       "<style scoped>\n",
       "    .dataframe tbody tr th:only-of-type {\n",
       "        vertical-align: middle;\n",
       "    }\n",
       "\n",
       "    .dataframe tbody tr th {\n",
       "        vertical-align: top;\n",
       "    }\n",
       "\n",
       "    .dataframe thead th {\n",
       "        text-align: right;\n",
       "    }\n",
       "</style>\n",
       "<table border=\"1\" class=\"dataframe\">\n",
       "  <thead>\n",
       "    <tr style=\"text-align: right;\">\n",
       "      <th></th>\n",
       "      <th>E</th>\n",
       "      <th>E_calc_count</th>\n",
       "      <th>max_dm/dt</th>\n",
       "      <th>dE/dt</th>\n",
       "      <th>delta_E</th>\n",
       "      <th>E_zeeman</th>\n",
       "      <th>iteration</th>\n",
       "      <th>stage_iteration</th>\n",
       "      <th>stage</th>\n",
       "      <th>mx</th>\n",
       "      <th>my</th>\n",
       "      <th>mz</th>\n",
       "      <th>last_time_step</th>\n",
       "      <th>t</th>\n",
       "    </tr>\n",
       "  </thead>\n",
       "  <tbody>\n",
       "    <tr>\n",
       "      <th>0</th>\n",
       "      <td>-4.400762e-22</td>\n",
       "      <td>37.0</td>\n",
       "      <td>25204.415522</td>\n",
       "      <td>-8.798712e-10</td>\n",
       "      <td>-3.269612e-22</td>\n",
       "      <td>-4.400762e-22</td>\n",
       "      <td>6.0</td>\n",
       "      <td>6.0</td>\n",
       "      <td>0.0</td>\n",
       "      <td>0.975901</td>\n",
       "      <td>0.217115</td>\n",
       "      <td>0.021888</td>\n",
       "      <td>3.715017e-13</td>\n",
       "      <td>5.000000e-13</td>\n",
       "    </tr>\n",
       "    <tr>\n",
       "      <th>1</th>\n",
       "      <td>-8.797309e-22</td>\n",
       "      <td>44.0</td>\n",
       "      <td>25186.311578</td>\n",
       "      <td>-8.786077e-10</td>\n",
       "      <td>-4.396547e-22</td>\n",
       "      <td>-8.797309e-22</td>\n",
       "      <td>8.0</td>\n",
       "      <td>1.0</td>\n",
       "      <td>1.0</td>\n",
       "      <td>0.904810</td>\n",
       "      <td>0.423562</td>\n",
       "      <td>0.043754</td>\n",
       "      <td>5.000000e-13</td>\n",
       "      <td>1.000000e-12</td>\n",
       "    </tr>\n",
       "    <tr>\n",
       "      <th>2</th>\n",
       "      <td>-1.318544e-21</td>\n",
       "      <td>51.0</td>\n",
       "      <td>25156.186455</td>\n",
       "      <td>-8.765071e-10</td>\n",
       "      <td>-4.388134e-22</td>\n",
       "      <td>-1.318544e-21</td>\n",
       "      <td>10.0</td>\n",
       "      <td>1.0</td>\n",
       "      <td>2.0</td>\n",
       "      <td>0.790286</td>\n",
       "      <td>0.609218</td>\n",
       "      <td>0.065579</td>\n",
       "      <td>5.000000e-13</td>\n",
       "      <td>1.500000e-12</td>\n",
       "    </tr>\n",
       "    <tr>\n",
       "      <th>3</th>\n",
       "      <td>-1.756100e-21</td>\n",
       "      <td>58.0</td>\n",
       "      <td>25114.112032</td>\n",
       "      <td>-8.735776e-10</td>\n",
       "      <td>-4.375555e-22</td>\n",
       "      <td>-1.756100e-21</td>\n",
       "      <td>12.0</td>\n",
       "      <td>1.0</td>\n",
       "      <td>3.0</td>\n",
       "      <td>0.638055</td>\n",
       "      <td>0.765021</td>\n",
       "      <td>0.087341</td>\n",
       "      <td>5.000000e-13</td>\n",
       "      <td>2.000000e-12</td>\n",
       "    </tr>\n",
       "    <tr>\n",
       "      <th>4</th>\n",
       "      <td>-2.191985e-21</td>\n",
       "      <td>65.0</td>\n",
       "      <td>25060.188355</td>\n",
       "      <td>-8.698302e-10</td>\n",
       "      <td>-4.358857e-22</td>\n",
       "      <td>-2.191985e-21</td>\n",
       "      <td>14.0</td>\n",
       "      <td>1.0</td>\n",
       "      <td>4.0</td>\n",
       "      <td>0.455710</td>\n",
       "      <td>0.883427</td>\n",
       "      <td>0.109020</td>\n",
       "      <td>5.000000e-13</td>\n",
       "      <td>2.500000e-12</td>\n",
       "    </tr>\n",
       "    <tr>\n",
       "      <th>...</th>\n",
       "      <td>...</td>\n",
       "      <td>...</td>\n",
       "      <td>...</td>\n",
       "      <td>...</td>\n",
       "      <td>...</td>\n",
       "      <td>...</td>\n",
       "      <td>...</td>\n",
       "      <td>...</td>\n",
       "      <td>...</td>\n",
       "      <td>...</td>\n",
       "      <td>...</td>\n",
       "      <td>...</td>\n",
       "      <td>...</td>\n",
       "      <td>...</td>\n",
       "    </tr>\n",
       "    <tr>\n",
       "      <th>195</th>\n",
       "      <td>-2.009865e-20</td>\n",
       "      <td>1402.0</td>\n",
       "      <td>690.438568</td>\n",
       "      <td>-6.602614e-13</td>\n",
       "      <td>-3.374608e-25</td>\n",
       "      <td>-2.009865e-20</td>\n",
       "      <td>396.0</td>\n",
       "      <td>1.0</td>\n",
       "      <td>195.0</td>\n",
       "      <td>0.013011</td>\n",
       "      <td>-0.024099</td>\n",
       "      <td>0.999625</td>\n",
       "      <td>5.000000e-13</td>\n",
       "      <td>9.800000e-11</td>\n",
       "    </tr>\n",
       "    <tr>\n",
       "      <th>196</th>\n",
       "      <td>-2.009897e-20</td>\n",
       "      <td>1409.0</td>\n",
       "      <td>675.493807</td>\n",
       "      <td>-6.319876e-13</td>\n",
       "      <td>-3.230101e-25</td>\n",
       "      <td>-2.009897e-20</td>\n",
       "      <td>398.0</td>\n",
       "      <td>1.0</td>\n",
       "      <td>196.0</td>\n",
       "      <td>0.017545</td>\n",
       "      <td>-0.020251</td>\n",
       "      <td>0.999641</td>\n",
       "      <td>5.000000e-13</td>\n",
       "      <td>9.850000e-11</td>\n",
       "    </tr>\n",
       "    <tr>\n",
       "      <th>197</th>\n",
       "      <td>-2.009928e-20</td>\n",
       "      <td>1416.0</td>\n",
       "      <td>660.872303</td>\n",
       "      <td>-6.049242e-13</td>\n",
       "      <td>-3.091780e-25</td>\n",
       "      <td>-2.009928e-20</td>\n",
       "      <td>400.0</td>\n",
       "      <td>1.0</td>\n",
       "      <td>197.0</td>\n",
       "      <td>0.021059</td>\n",
       "      <td>-0.015612</td>\n",
       "      <td>0.999656</td>\n",
       "      <td>5.000000e-13</td>\n",
       "      <td>9.900000e-11</td>\n",
       "    </tr>\n",
       "    <tr>\n",
       "      <th>198</th>\n",
       "      <td>-2.009958e-20</td>\n",
       "      <td>1423.0</td>\n",
       "      <td>646.567078</td>\n",
       "      <td>-5.790193e-13</td>\n",
       "      <td>-2.959381e-25</td>\n",
       "      <td>-2.009958e-20</td>\n",
       "      <td>402.0</td>\n",
       "      <td>1.0</td>\n",
       "      <td>198.0</td>\n",
       "      <td>0.023428</td>\n",
       "      <td>-0.010435</td>\n",
       "      <td>0.999671</td>\n",
       "      <td>5.000000e-13</td>\n",
       "      <td>9.950000e-11</td>\n",
       "    </tr>\n",
       "    <tr>\n",
       "      <th>199</th>\n",
       "      <td>-2.009986e-20</td>\n",
       "      <td>1430.0</td>\n",
       "      <td>632.571305</td>\n",
       "      <td>-5.542233e-13</td>\n",
       "      <td>-2.832649e-25</td>\n",
       "      <td>-2.009986e-20</td>\n",
       "      <td>404.0</td>\n",
       "      <td>1.0</td>\n",
       "      <td>199.0</td>\n",
       "      <td>0.024591</td>\n",
       "      <td>-0.004988</td>\n",
       "      <td>0.999685</td>\n",
       "      <td>5.000000e-13</td>\n",
       "      <td>1.000000e-10</td>\n",
       "    </tr>\n",
       "  </tbody>\n",
       "</table>\n",
       "<p>200 rows × 14 columns</p>\n",
       "</div>"
      ],
      "text/plain": [
       "                E  E_calc_count     max_dm/dt         dE/dt       delta_E  \\\n",
       "0   -4.400762e-22          37.0  25204.415522 -8.798712e-10 -3.269612e-22   \n",
       "1   -8.797309e-22          44.0  25186.311578 -8.786077e-10 -4.396547e-22   \n",
       "2   -1.318544e-21          51.0  25156.186455 -8.765071e-10 -4.388134e-22   \n",
       "3   -1.756100e-21          58.0  25114.112032 -8.735776e-10 -4.375555e-22   \n",
       "4   -2.191985e-21          65.0  25060.188355 -8.698302e-10 -4.358857e-22   \n",
       "..            ...           ...           ...           ...           ...   \n",
       "195 -2.009865e-20        1402.0    690.438568 -6.602614e-13 -3.374608e-25   \n",
       "196 -2.009897e-20        1409.0    675.493807 -6.319876e-13 -3.230101e-25   \n",
       "197 -2.009928e-20        1416.0    660.872303 -6.049242e-13 -3.091780e-25   \n",
       "198 -2.009958e-20        1423.0    646.567078 -5.790193e-13 -2.959381e-25   \n",
       "199 -2.009986e-20        1430.0    632.571305 -5.542233e-13 -2.832649e-25   \n",
       "\n",
       "         E_zeeman  iteration  stage_iteration  stage        mx        my  \\\n",
       "0   -4.400762e-22        6.0              6.0    0.0  0.975901  0.217115   \n",
       "1   -8.797309e-22        8.0              1.0    1.0  0.904810  0.423562   \n",
       "2   -1.318544e-21       10.0              1.0    2.0  0.790286  0.609218   \n",
       "3   -1.756100e-21       12.0              1.0    3.0  0.638055  0.765021   \n",
       "4   -2.191985e-21       14.0              1.0    4.0  0.455710  0.883427   \n",
       "..            ...        ...              ...    ...       ...       ...   \n",
       "195 -2.009865e-20      396.0              1.0  195.0  0.013011 -0.024099   \n",
       "196 -2.009897e-20      398.0              1.0  196.0  0.017545 -0.020251   \n",
       "197 -2.009928e-20      400.0              1.0  197.0  0.021059 -0.015612   \n",
       "198 -2.009958e-20      402.0              1.0  198.0  0.023428 -0.010435   \n",
       "199 -2.009986e-20      404.0              1.0  199.0  0.024591 -0.004988   \n",
       "\n",
       "           mz  last_time_step             t  \n",
       "0    0.021888    3.715017e-13  5.000000e-13  \n",
       "1    0.043754    5.000000e-13  1.000000e-12  \n",
       "2    0.065579    5.000000e-13  1.500000e-12  \n",
       "3    0.087341    5.000000e-13  2.000000e-12  \n",
       "4    0.109020    5.000000e-13  2.500000e-12  \n",
       "..        ...             ...           ...  \n",
       "195  0.999625    5.000000e-13  9.800000e-11  \n",
       "196  0.999641    5.000000e-13  9.850000e-11  \n",
       "197  0.999656    5.000000e-13  9.900000e-11  \n",
       "198  0.999671    5.000000e-13  9.950000e-11  \n",
       "199  0.999685    5.000000e-13  1.000000e-10  \n",
       "\n",
       "[200 rows x 14 columns]"
      ]
     },
     "execution_count": 4,
     "metadata": {},
     "output_type": "execute_result"
    }
   ],
   "source": [
    "system.table.data"
   ]
  },
  {
   "cell_type": "markdown",
   "metadata": {},
   "source": [
    "Apart from the data, units for individual columns are stored in `units` attribute."
   ]
  },
  {
   "cell_type": "code",
   "execution_count": 5,
   "metadata": {},
   "outputs": [
    {
     "data": {
      "text/plain": [
       "{'E': 'J',\n",
       " 'E_calc_count': '',\n",
       " 'max_dm/dt': 'deg/ns',\n",
       " 'dE/dt': 'J/s',\n",
       " 'delta_E': 'J',\n",
       " 'E_zeeman': 'J',\n",
       " 'iteration': '',\n",
       " 'stage_iteration': '',\n",
       " 'stage': '',\n",
       " 'mx': '',\n",
       " 'my': '',\n",
       " 'mz': '',\n",
       " 'last_time_step': 's',\n",
       " 't': 's'}"
      ]
     },
     "execution_count": 5,
     "metadata": {},
     "output_type": "execute_result"
    }
   ],
   "source": [
    "system.table.units"
   ]
  },
  {
   "cell_type": "markdown",
   "metadata": {},
   "source": [
    "This returns a dictionary, whose keys are column names and its values are the units. If table data was obtained by using time driver, table data store different values which are all a function of time. Column names of all time-dependent data can be obtained using `data_columns`:"
   ]
  },
  {
   "cell_type": "code",
   "execution_count": 7,
   "metadata": {},
   "outputs": [
    {
     "data": {
      "text/plain": [
       "['E',\n",
       " 'E_calc_count',\n",
       " 'max_dm/dt',\n",
       " 'dE/dt',\n",
       " 'delta_E',\n",
       " 'E_zeeman',\n",
       " 'iteration',\n",
       " 'stage_iteration',\n",
       " 'stage',\n",
       " 'mx',\n",
       " 'my',\n",
       " 'mz',\n",
       " 'last_time_step']"
      ]
     },
     "execution_count": 7,
     "metadata": {},
     "output_type": "execute_result"
    }
   ],
   "source": [
    "system.table.data_columns"
   ]
  },
  {
   "cell_type": "markdown",
   "metadata": {},
   "source": [
    "Similarly, column name storing time data is:"
   ]
  },
  {
   "cell_type": "code",
   "execution_count": 8,
   "metadata": {},
   "outputs": [
    {
     "data": {
      "text/plain": [
       "'t'"
      ]
     },
     "execution_count": 8,
     "metadata": {},
     "output_type": "execute_result"
    }
   ],
   "source": [
    "system.table.time_column"
   ]
  },
  {
   "cell_type": "markdown",
   "metadata": {},
   "source": [
    "The total length of time interval over which data was recorded is:"
   ]
  },
  {
   "cell_type": "code",
   "execution_count": 9,
   "metadata": {},
   "outputs": [
    {
     "data": {
      "text/plain": [
       "1e-10"
      ]
     },
     "execution_count": 9,
     "metadata": {},
     "output_type": "execute_result"
    }
   ],
   "source": [
    "system.table.length"
   ]
  }
 ],
 "metadata": {
  "kernelspec": {
   "display_name": "Python 3",
   "language": "python",
   "name": "python3"
  },
  "language_info": {
   "codemirror_mode": {
    "name": "ipython",
    "version": 3
   },
   "file_extension": ".py",
   "mimetype": "text/x-python",
   "name": "python",
   "nbconvert_exporter": "python",
   "pygments_lexer": "ipython3",
   "version": "3.8.3"
  }
 },
 "nbformat": 4,
 "nbformat_minor": 4
}
