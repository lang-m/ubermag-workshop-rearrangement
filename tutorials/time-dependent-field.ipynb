{
 "cells": [
  {
   "cell_type": "markdown",
   "metadata": {},
   "source": [
    "# Time-varying field\n",
    "\n",
    "In this tutorial, we introduce how a time-dependent external magnetic field can be defined in energy equation. We start by importing the modules we are going to use:"
   ]
  },
  {
   "cell_type": "code",
   "execution_count": 13,
   "metadata": {},
   "outputs": [],
   "source": [
    "import oommfc as mc\n",
    "import discretisedfield as df\n",
    "import micromagneticmodel as mm"
   ]
  },
  {
   "cell_type": "markdown",
   "metadata": {},
   "source": [
    "For the sample, we choose a one-dimensional chain of magnetic moments."
   ]
  },
  {
   "cell_type": "code",
   "execution_count": 14,
   "metadata": {},
   "outputs": [],
   "source": [
    "p1 = (-10e-9, 0, 0)\n",
    "p2 = (10e-9, 1e-9, 1e-9)\n",
    "cell = (1e-9, 1e-9, 1e-9)\n",
    "region = df.Region(p1=p1, p2=p2)\n",
    "mesh = df.Mesh(region=region, cell=cell)"
   ]
  },
  {
   "cell_type": "markdown",
   "metadata": {},
   "source": [
    "The mesh is:"
   ]
  },
  {
   "cell_type": "code",
   "execution_count": 15,
   "metadata": {},
   "outputs": [
    {
     "data": {
      "application/vnd.jupyter.widget-view+json": {
       "model_id": "a11ee9339e6744ac875aeac123d5f4cd",
       "version_major": 2,
       "version_minor": 0
      },
      "text/plain": [
       "Output()"
      ]
     },
     "metadata": {},
     "output_type": "display_data"
    }
   ],
   "source": [
    "mesh.k3d()"
   ]
  },
  {
   "cell_type": "markdown",
   "metadata": {},
   "source": [
    "Now, we can define the system object and add a time-dependent sine-wave field to our energy equation. We need to pass:\n",
    "\n",
    "- Field `H` which is multiplied by time-dependent function at each time step,\n",
    "- wave shape `wave='sin'`\n",
    "- frequency `f`, and\n",
    "- time shift `t0`.\n",
    "\n",
    "Accordingly, the time-dependent Zeeman field is then:\n",
    "\n",
    "$$\\mathbf{H}(t) = \\mathbf{H}_\\text{amp}\\sin(2\\pi f (t-t_{0}))$$"
   ]
  },
  {
   "cell_type": "code",
   "execution_count": 26,
   "metadata": {},
   "outputs": [],
   "source": [
    "system = mm.System(name='time_dependent_field')\n",
    "\n",
    "system.energy = mm.Exchange(A=1.6e-11) + mm.Zeeman(H=(1e6, 2e6, 3e6), wave='sin', f=1e9, t0=1e-9)\n",
    "system.dynamics = mm.Precession(gamma0=mm.consts.gamma0) + mm.Damping(alpha=1e-5)\n",
    "\n",
    "system.m = df.Field(mesh, dim=3, value=(0, 0, 1), norm=1.1e6)"
   ]
  },
  {
   "cell_type": "markdown",
   "metadata": {},
   "source": [
    "Now, we can run the simulation using `TimeDriver`:"
   ]
  },
  {
   "cell_type": "code",
   "execution_count": 27,
   "metadata": {},
   "outputs": [
    {
     "name": "stdout",
     "output_type": "stream",
     "text": [
      "Running OOMMF (ExeOOMMFRunner) [2020/07/02 14:25]... (4.7 s)\n"
     ]
    }
   ],
   "source": [
    "td = mc.TimeDriver()\n",
    "td.drive(system, t=5e-9, n=200)"
   ]
  },
  {
   "cell_type": "markdown",
   "metadata": {},
   "source": [
    "In the system table, there are columns with field values:"
   ]
  },
  {
   "cell_type": "code",
   "execution_count": 28,
   "metadata": {},
   "outputs": [
    {
     "data": {
      "text/html": [
       "<div>\n",
       "<style scoped>\n",
       "    .dataframe tbody tr th:only-of-type {\n",
       "        vertical-align: middle;\n",
       "    }\n",
       "\n",
       "    .dataframe tbody tr th {\n",
       "        vertical-align: top;\n",
       "    }\n",
       "\n",
       "    .dataframe thead th {\n",
       "        text-align: right;\n",
       "    }\n",
       "</style>\n",
       "<table border=\"1\" class=\"dataframe\">\n",
       "  <thead>\n",
       "    <tr style=\"text-align: right;\">\n",
       "      <th></th>\n",
       "      <th>E</th>\n",
       "      <th>E_calc_count</th>\n",
       "      <th>max_dm/dt</th>\n",
       "      <th>dE/dt</th>\n",
       "      <th>delta_E</th>\n",
       "      <th>E_exchange</th>\n",
       "      <th>max_spin_ang_exchange</th>\n",
       "      <th>max_spin_ang_exchange</th>\n",
       "      <th>max_spin_ang_exchange</th>\n",
       "      <th>E_zeeman</th>\n",
       "      <th>...</th>\n",
       "      <th>By_zeeman</th>\n",
       "      <th>Bz_zeeman</th>\n",
       "      <th>iteration</th>\n",
       "      <th>stage_iteration</th>\n",
       "      <th>stage</th>\n",
       "      <th>mx</th>\n",
       "      <th>my</th>\n",
       "      <th>mz</th>\n",
       "      <th>last_time_step</th>\n",
       "      <th>t</th>\n",
       "    </tr>\n",
       "  </thead>\n",
       "  <tbody>\n",
       "    <tr>\n",
       "      <th>0</th>\n",
       "      <td>-1.297563e-20</td>\n",
       "      <td>25.0</td>\n",
       "      <td>4.434031e+03</td>\n",
       "      <td>-5.147568e-10</td>\n",
       "      <td>-1.812700e-21</td>\n",
       "      <td>0.0</td>\n",
       "      <td>0.0</td>\n",
       "      <td>0.0</td>\n",
       "      <td>0.0</td>\n",
       "      <td>-1.297563e-20</td>\n",
       "      <td>...</td>\n",
       "      <td>3.931627e+02</td>\n",
       "      <td>5.897440e+02</td>\n",
       "      <td>3.0</td>\n",
       "      <td>3.0</td>\n",
       "      <td>0.0</td>\n",
       "      <td>0.758989</td>\n",
       "      <td>0.183653</td>\n",
       "      <td>0.624666</td>\n",
       "      <td>3.515634e-12</td>\n",
       "      <td>2.500000e-11</td>\n",
       "    </tr>\n",
       "    <tr>\n",
       "      <th>1</th>\n",
       "      <td>-2.562001e-20</td>\n",
       "      <td>56.0</td>\n",
       "      <td>8.766104e+03</td>\n",
       "      <td>-4.954602e-10</td>\n",
       "      <td>-1.204656e-21</td>\n",
       "      <td>0.0</td>\n",
       "      <td>0.0</td>\n",
       "      <td>0.0</td>\n",
       "      <td>0.0</td>\n",
       "      <td>-2.562001e-20</td>\n",
       "      <td>...</td>\n",
       "      <td>7.766444e+02</td>\n",
       "      <td>1.164967e+03</td>\n",
       "      <td>9.0</td>\n",
       "      <td>5.0</td>\n",
       "      <td>1.0</td>\n",
       "      <td>0.090633</td>\n",
       "      <td>-0.038564</td>\n",
       "      <td>0.995137</td>\n",
       "      <td>2.425770e-12</td>\n",
       "      <td>5.000000e-11</td>\n",
       "    </tr>\n",
       "    <tr>\n",
       "      <th>2</th>\n",
       "      <td>-3.759093e-20</td>\n",
       "      <td>105.0</td>\n",
       "      <td>1.290846e+04</td>\n",
       "      <td>-4.636140e-10</td>\n",
       "      <td>-1.221901e-21</td>\n",
       "      <td>0.0</td>\n",
       "      <td>0.0</td>\n",
       "      <td>0.0</td>\n",
       "      <td>0.0</td>\n",
       "      <td>-3.759093e-20</td>\n",
       "      <td>...</td>\n",
       "      <td>1.141003e+03</td>\n",
       "      <td>1.711504e+03</td>\n",
       "      <td>17.0</td>\n",
       "      <td>7.0</td>\n",
       "      <td>2.0</td>\n",
       "      <td>0.784284</td>\n",
       "      <td>0.261449</td>\n",
       "      <td>0.562622</td>\n",
       "      <td>2.631440e-12</td>\n",
       "      <td>7.500000e-11</td>\n",
       "    </tr>\n",
       "    <tr>\n",
       "      <th>3</th>\n",
       "      <td>-4.863542e-20</td>\n",
       "      <td>184.0</td>\n",
       "      <td>1.673341e+04</td>\n",
       "      <td>-4.207088e-10</td>\n",
       "      <td>-6.112468e-22</td>\n",
       "      <td>0.0</td>\n",
       "      <td>0.0</td>\n",
       "      <td>0.0</td>\n",
       "      <td>0.0</td>\n",
       "      <td>-4.863542e-20</td>\n",
       "      <td>...</td>\n",
       "      <td>1.477265e+03</td>\n",
       "      <td>2.215898e+03</td>\n",
       "      <td>30.0</td>\n",
       "      <td>12.0</td>\n",
       "      <td>3.0</td>\n",
       "      <td>0.015202</td>\n",
       "      <td>-0.010857</td>\n",
       "      <td>0.999825</td>\n",
       "      <td>1.449728e-12</td>\n",
       "      <td>1.000000e-10</td>\n",
       "    </tr>\n",
       "    <tr>\n",
       "      <th>4</th>\n",
       "      <td>-5.848036e-20</td>\n",
       "      <td>299.0</td>\n",
       "      <td>2.014752e+04</td>\n",
       "      <td>-3.675974e-10</td>\n",
       "      <td>-2.915541e-22</td>\n",
       "      <td>0.0</td>\n",
       "      <td>0.0</td>\n",
       "      <td>0.0</td>\n",
       "      <td>0.0</td>\n",
       "      <td>-5.848036e-20</td>\n",
       "      <td>...</td>\n",
       "      <td>1.777153e+03</td>\n",
       "      <td>2.665730e+03</td>\n",
       "      <td>48.0</td>\n",
       "      <td>17.0</td>\n",
       "      <td>4.0</td>\n",
       "      <td>0.497085</td>\n",
       "      <td>-0.051994</td>\n",
       "      <td>0.866143</td>\n",
       "      <td>7.913664e-13</td>\n",
       "      <td>1.250000e-10</td>\n",
       "    </tr>\n",
       "    <tr>\n",
       "      <th>...</th>\n",
       "      <td>...</td>\n",
       "      <td>...</td>\n",
       "      <td>...</td>\n",
       "      <td>...</td>\n",
       "      <td>...</td>\n",
       "      <td>...</td>\n",
       "      <td>...</td>\n",
       "      <td>...</td>\n",
       "      <td>...</td>\n",
       "      <td>...</td>\n",
       "      <td>...</td>\n",
       "      <td>...</td>\n",
       "      <td>...</td>\n",
       "      <td>...</td>\n",
       "      <td>...</td>\n",
       "      <td>...</td>\n",
       "      <td>...</td>\n",
       "      <td>...</td>\n",
       "      <td>...</td>\n",
       "      <td>...</td>\n",
       "      <td>...</td>\n",
       "    </tr>\n",
       "    <tr>\n",
       "      <th>195</th>\n",
       "      <td>4.436379e-20</td>\n",
       "      <td>20614.0</td>\n",
       "      <td>1.906705e+04</td>\n",
       "      <td>-3.837992e-10</td>\n",
       "      <td>-2.268306e-22</td>\n",
       "      <td>0.0</td>\n",
       "      <td>0.0</td>\n",
       "      <td>0.0</td>\n",
       "      <td>0.0</td>\n",
       "      <td>4.436379e-20</td>\n",
       "      <td>...</td>\n",
       "      <td>-1.477265e+03</td>\n",
       "      <td>-2.215898e+03</td>\n",
       "      <td>3450.0</td>\n",
       "      <td>15.0</td>\n",
       "      <td>195.0</td>\n",
       "      <td>-0.020176</td>\n",
       "      <td>-0.114665</td>\n",
       "      <td>0.993199</td>\n",
       "      <td>5.918021e-13</td>\n",
       "      <td>4.900000e-09</td>\n",
       "    </tr>\n",
       "    <tr>\n",
       "      <th>196</th>\n",
       "      <td>3.422674e-20</td>\n",
       "      <td>20687.0</td>\n",
       "      <td>1.474584e+04</td>\n",
       "      <td>-4.221479e-10</td>\n",
       "      <td>-5.046823e-22</td>\n",
       "      <td>0.0</td>\n",
       "      <td>0.0</td>\n",
       "      <td>0.0</td>\n",
       "      <td>0.0</td>\n",
       "      <td>3.422674e-20</td>\n",
       "      <td>...</td>\n",
       "      <td>-1.141003e+03</td>\n",
       "      <td>-1.711504e+03</td>\n",
       "      <td>3463.0</td>\n",
       "      <td>12.0</td>\n",
       "      <td>196.0</td>\n",
       "      <td>0.848044</td>\n",
       "      <td>0.209072</td>\n",
       "      <td>0.486939</td>\n",
       "      <td>1.197700e-12</td>\n",
       "      <td>4.925000e-09</td>\n",
       "    </tr>\n",
       "    <tr>\n",
       "      <th>197</th>\n",
       "      <td>2.328011e-20</td>\n",
       "      <td>20742.0</td>\n",
       "      <td>1.004530e+04</td>\n",
       "      <td>-4.502211e-10</td>\n",
       "      <td>-1.083878e-21</td>\n",
       "      <td>0.0</td>\n",
       "      <td>0.0</td>\n",
       "      <td>0.0</td>\n",
       "      <td>0.0</td>\n",
       "      <td>2.328011e-20</td>\n",
       "      <td>...</td>\n",
       "      <td>-7.766444e+02</td>\n",
       "      <td>-1.164967e+03</td>\n",
       "      <td>3473.0</td>\n",
       "      <td>9.0</td>\n",
       "      <td>197.0</td>\n",
       "      <td>0.063640</td>\n",
       "      <td>-0.149399</td>\n",
       "      <td>0.986727</td>\n",
       "      <td>2.412896e-12</td>\n",
       "      <td>4.950000e-09</td>\n",
       "    </tr>\n",
       "    <tr>\n",
       "      <th>198</th>\n",
       "      <td>1.178128e-20</td>\n",
       "      <td>20779.0</td>\n",
       "      <td>5.087140e+03</td>\n",
       "      <td>-4.673789e-10</td>\n",
       "      <td>-2.358762e-21</td>\n",
       "      <td>0.0</td>\n",
       "      <td>0.0</td>\n",
       "      <td>0.0</td>\n",
       "      <td>0.0</td>\n",
       "      <td>1.178128e-20</td>\n",
       "      <td>...</td>\n",
       "      <td>-3.931627e+02</td>\n",
       "      <td>-5.897440e+02</td>\n",
       "      <td>3480.0</td>\n",
       "      <td>6.0</td>\n",
       "      <td>198.0</td>\n",
       "      <td>0.822805</td>\n",
       "      <td>0.116178</td>\n",
       "      <td>0.556322</td>\n",
       "      <td>5.059389e-12</td>\n",
       "      <td>4.975000e-09</td>\n",
       "    </tr>\n",
       "    <tr>\n",
       "      <th>199</th>\n",
       "      <td>6.088592e-34</td>\n",
       "      <td>20804.0</td>\n",
       "      <td>2.629445e-10</td>\n",
       "      <td>-4.731610e-10</td>\n",
       "      <td>-2.217703e-21</td>\n",
       "      <td>0.0</td>\n",
       "      <td>0.0</td>\n",
       "      <td>0.0</td>\n",
       "      <td>0.0</td>\n",
       "      <td>6.088592e-34</td>\n",
       "      <td>...</td>\n",
       "      <td>-2.032019e-11</td>\n",
       "      <td>-3.048028e-11</td>\n",
       "      <td>3485.0</td>\n",
       "      <td>4.0</td>\n",
       "      <td>199.0</td>\n",
       "      <td>-0.041748</td>\n",
       "      <td>-0.107200</td>\n",
       "      <td>0.993361</td>\n",
       "      <td>4.687671e-12</td>\n",
       "      <td>5.000000e-09</td>\n",
       "    </tr>\n",
       "  </tbody>\n",
       "</table>\n",
       "<p>200 rows × 22 columns</p>\n",
       "</div>"
      ],
      "text/plain": [
       "                E  E_calc_count     max_dm/dt         dE/dt       delta_E  \\\n",
       "0   -1.297563e-20          25.0  4.434031e+03 -5.147568e-10 -1.812700e-21   \n",
       "1   -2.562001e-20          56.0  8.766104e+03 -4.954602e-10 -1.204656e-21   \n",
       "2   -3.759093e-20         105.0  1.290846e+04 -4.636140e-10 -1.221901e-21   \n",
       "3   -4.863542e-20         184.0  1.673341e+04 -4.207088e-10 -6.112468e-22   \n",
       "4   -5.848036e-20         299.0  2.014752e+04 -3.675974e-10 -2.915541e-22   \n",
       "..            ...           ...           ...           ...           ...   \n",
       "195  4.436379e-20       20614.0  1.906705e+04 -3.837992e-10 -2.268306e-22   \n",
       "196  3.422674e-20       20687.0  1.474584e+04 -4.221479e-10 -5.046823e-22   \n",
       "197  2.328011e-20       20742.0  1.004530e+04 -4.502211e-10 -1.083878e-21   \n",
       "198  1.178128e-20       20779.0  5.087140e+03 -4.673789e-10 -2.358762e-21   \n",
       "199  6.088592e-34       20804.0  2.629445e-10 -4.731610e-10 -2.217703e-21   \n",
       "\n",
       "     E_exchange  max_spin_ang_exchange  max_spin_ang_exchange  \\\n",
       "0           0.0                    0.0                    0.0   \n",
       "1           0.0                    0.0                    0.0   \n",
       "2           0.0                    0.0                    0.0   \n",
       "3           0.0                    0.0                    0.0   \n",
       "4           0.0                    0.0                    0.0   \n",
       "..          ...                    ...                    ...   \n",
       "195         0.0                    0.0                    0.0   \n",
       "196         0.0                    0.0                    0.0   \n",
       "197         0.0                    0.0                    0.0   \n",
       "198         0.0                    0.0                    0.0   \n",
       "199         0.0                    0.0                    0.0   \n",
       "\n",
       "     max_spin_ang_exchange      E_zeeman  ...     By_zeeman     Bz_zeeman  \\\n",
       "0                      0.0 -1.297563e-20  ...  3.931627e+02  5.897440e+02   \n",
       "1                      0.0 -2.562001e-20  ...  7.766444e+02  1.164967e+03   \n",
       "2                      0.0 -3.759093e-20  ...  1.141003e+03  1.711504e+03   \n",
       "3                      0.0 -4.863542e-20  ...  1.477265e+03  2.215898e+03   \n",
       "4                      0.0 -5.848036e-20  ...  1.777153e+03  2.665730e+03   \n",
       "..                     ...           ...  ...           ...           ...   \n",
       "195                    0.0  4.436379e-20  ... -1.477265e+03 -2.215898e+03   \n",
       "196                    0.0  3.422674e-20  ... -1.141003e+03 -1.711504e+03   \n",
       "197                    0.0  2.328011e-20  ... -7.766444e+02 -1.164967e+03   \n",
       "198                    0.0  1.178128e-20  ... -3.931627e+02 -5.897440e+02   \n",
       "199                    0.0  6.088592e-34  ... -2.032019e-11 -3.048028e-11   \n",
       "\n",
       "     iteration  stage_iteration  stage        mx        my        mz  \\\n",
       "0          3.0              3.0    0.0  0.758989  0.183653  0.624666   \n",
       "1          9.0              5.0    1.0  0.090633 -0.038564  0.995137   \n",
       "2         17.0              7.0    2.0  0.784284  0.261449  0.562622   \n",
       "3         30.0             12.0    3.0  0.015202 -0.010857  0.999825   \n",
       "4         48.0             17.0    4.0  0.497085 -0.051994  0.866143   \n",
       "..         ...              ...    ...       ...       ...       ...   \n",
       "195     3450.0             15.0  195.0 -0.020176 -0.114665  0.993199   \n",
       "196     3463.0             12.0  196.0  0.848044  0.209072  0.486939   \n",
       "197     3473.0              9.0  197.0  0.063640 -0.149399  0.986727   \n",
       "198     3480.0              6.0  198.0  0.822805  0.116178  0.556322   \n",
       "199     3485.0              4.0  199.0 -0.041748 -0.107200  0.993361   \n",
       "\n",
       "     last_time_step             t  \n",
       "0      3.515634e-12  2.500000e-11  \n",
       "1      2.425770e-12  5.000000e-11  \n",
       "2      2.631440e-12  7.500000e-11  \n",
       "3      1.449728e-12  1.000000e-10  \n",
       "4      7.913664e-13  1.250000e-10  \n",
       "..              ...           ...  \n",
       "195    5.918021e-13  4.900000e-09  \n",
       "196    1.197700e-12  4.925000e-09  \n",
       "197    2.412896e-12  4.950000e-09  \n",
       "198    5.059389e-12  4.975000e-09  \n",
       "199    4.687671e-12  5.000000e-09  \n",
       "\n",
       "[200 rows x 22 columns]"
      ]
     },
     "execution_count": 28,
     "metadata": {},
     "output_type": "execute_result"
    }
   ],
   "source": [
    "system.table.data"
   ]
  },
  {
   "cell_type": "code",
   "execution_count": 29,
   "metadata": {},
   "outputs": [
    {
     "data": {
      "image/png": "[encoded data removed]",
      "text/plain": [
       "<Figure size 576x432 with 1 Axes>"
      ]
     },
     "metadata": {},
     "output_type": "display_data"
    }
   ],
   "source": [
    "system.table.mpl(yaxis=['Bx_zeeman', 'By_zeeman', 'Bz_zeeman'])"
   ]
  },
  {
   "cell_type": "markdown",
   "metadata": {},
   "source": [
    "Similarly, we can define a cardinal sine wave (\"sinc pulse\"). We need to pass:\n",
    "\n",
    "- Field `H` which is multiplied by time-dependent function at each time step,\n",
    "- wave shape `wave='sinc'`\n",
    "- cut-off frequency `f`, and\n",
    "- time shift `t0`.\n",
    "\n",
    "Accordingly, the time-dependent Zeeman field is then:\n",
    "\n",
    "$$\\mathbf{H}(t) = \\mathbf{H}_\\text{amp}\\text{sinc}(2\\pi f_{c} (t-t_{0})) = \\mathbf{H}_\\text{amp}\\frac{\\text{sinc}(2\\pi f_{c} (t-t_{0}))}{2\\pi f_{c} (t-t_{0})}$$"
   ]
  },
  {
   "cell_type": "code",
   "execution_count": 31,
   "metadata": {},
   "outputs": [
    {
     "name": "stdout",
     "output_type": "stream",
     "text": [
      "Running OOMMF (ExeOOMMFRunner) [2020/07/02 14:30]... (3.6 s)\n"
     ]
    },
    {
     "data": {
      "image/png": "[encoded data removed]",
      "text/plain": [
       "<Figure size 576x432 with 1 Axes>"
      ]
     },
     "metadata": {},
     "output_type": "display_data"
    }
   ],
   "source": [
    "system = mm.System(name='time_dependent_field')\n",
    "\n",
    "system.energy = (mm.Exchange(A=1.6e-11) +\n",
    "                 mm.Zeeman(H=(1e6, 2e6, 3e6), wave='sinc', f=1e9, t0=5e-9))\n",
    "system.dynamics = mm.Precession(gamma0=mm.consts.gamma0) + mm.Damping(alpha=1e-5)\n",
    "\n",
    "system.m = df.Field(mesh, dim=3, value=(0, 0, 1), norm=1.1e6)\n",
    "\n",
    "td = mc.TimeDriver()\n",
    "td.drive(system, t=10e-9, n=200)\n",
    "\n",
    "system.table.mpl(yaxis=['Bx_zeeman', 'By_zeeman', 'Bz_zeeman'])"
   ]
  }
 ],
 "metadata": {
  "kernelspec": {
   "display_name": "Python 3",
   "language": "python",
   "name": "python3"
  },
  "language_info": {
   "codemirror_mode": {
    "name": "ipython",
    "version": 3
   },
   "file_extension": ".py",
   "mimetype": "text/x-python",
   "name": "python",
   "nbconvert_exporter": "python",
   "pygments_lexer": "ipython3",
   "version": "3.8.3"
  },
  "widgets": {
   "application/vnd.jupyter.widget-state+json": {
    "state": {
     "8ff66df849444027a09f2505c160d8e7": {
      "model_module": "@jupyter-widgets/base",
      "model_module_version": "1.2.0",
      "model_name": "LayoutModel",
      "state": {}
     },
     "9ca076dd2f624d909f5ad3c00f9dba15": {
      "model_module": "@jupyter-widgets/base",
      "model_module_version": "1.2.0",
      "model_name": "LayoutModel",
      "state": {}
     },
     "b103e5927d7040488e3e9c641e449e37": {
      "model_module": "k3d",
      "model_module_version": "2.7.4",
      "model_name": "PlotModel",
      "state": {
       "_backend_version": "2.7.4",
       "_dom_classes": [],
       "_view_count": null,
       "antialias": 3,
       "auto_rendering": true,
       "axes": [
        "x (nm)",
        "y (nm)",
        "z (nm)"
       ],
       "axes_helper": 1,
       "background_color": 16777215,
       "camera": [
        141.0506683940143,
        -212.2010025072024,
        18.880066776443996,
        -0.2499999664723873,
        -0.2499999664723873,
        4.749999940395355,
        0,
        0,
        1
       ],
       "camera_animation": [],
       "camera_auto_fit": true,
       "camera_fov": 60,
       "camera_no_pan": false,
       "camera_no_rotate": false,
       "camera_no_zoom": false,
       "clipping_planes": [],
       "colorbar_object_id": -1,
       "fps": 25,
       "fps_meter": false,
       "grid": [
        -1,
        -1,
        -1,
        1,
        1,
        1
       ],
       "grid_auto_fit": true,
       "grid_visible": true,
       "height": 512,
       "layout": "IPY_MODEL_9ca076dd2f624d909f5ad3c00f9dba15",
       "lighting": 1.5,
       "menu_visibility": true,
       "mode": "view",
       "name": null,
       "object_ids": [
        140045066807504
       ],
       "rendering_steps": 1,
       "screenshot": "",
       "screenshot_scale": 2,
       "snapshot": "",
       "time": 0,
       "voxel_paint_color": 0
      }
     },
     "b93f42b8060d44bb87e6ede0ba464673": {
      "buffers": [
       {
        "data": "eNolw2dslWUYgOHbHyb8MDExxhhjjAqCgIDQQSmlpaUtXXSP073X6fuNs7/D3puy9yqjQNl7j7KLbMqQPQREjTuuqI3PiVdypX4MaZ0howtkfQLZMrcr2LpB/qdQKIu7Q2kPKJcVPaHqM6iRdb3A3huU1PqA8TmYgX3BEdjvNRxBr2MGdcIMfgMz5E35Fmbo25j938Ho/y5G2HsYA97HCP9Afog+8CP0iM6yC/qgruiR3dCjuqNF9UAb3BMtupfsjRbTB21IX9kPLTYIFRcsQ1DxoaihYaiEATIclTgQlRQhB6GSI1EpUXIwalg0KjVGDkGlxaLS41AZ8XIoKjMBlZUok1DZyaicFDkMlZuKykuT6Wi2DLT8TLSCLJmNVpiDVhSYi1ach1ZiQy/JRy8tQC8rRC8vksXoFSUYlYGlGFVlGNXlsgKzphKztgqzrvr/9TU47LWyDkdDPQ5lx6k1SIVTl4aGy9BxmQYuh4nb6ZBO3C4nHrdLuvF4PHi9Xrw+H75Ay8Ln92MNHy5HYI0YiTVylByNNUqOHoM1Zqwch3/sePzjJuAfP1FOwj9hMtbEKViTpsppWJOnY02ZgTV1ppyFNa0Ra/psrBlz5FysmfOwZsnG+fgaF+CbvRDfnEX45i7GN2+JXIp3/jK8C5bjXbhCrsS7aBWexavxLGnCs3SNXIt72Trcy9fjXtEsN+BauRHXqk24VrfgatqMs2kLzjVbca7dhmPddhzrd+Bo3onZvAtzwx6MjXsxNu3DaNmP3nIAffNBtC2H0LYeRtt2BLX9qDxGw47jNOw8gX1XK/bdJ6nfc0qepm7vGer2naV2/zlqD5yn5mAb1YcuyItUHb5E5ZHLVB69QsWxq1Qcv0b5ieuUtd6gtLWd0pM3KTl1i+LTtyk6c4eis3cpPHePgvP3yW97gK3tIbYLj8j74jG5F5+Qc+kp2ZefkXXlOZlXX5Bx7SXp178m7cYrUtu/IaX9W5JvfkfSre9JvP0DCXd+JP7Ln4i7+zOx934h5v6vRD/4jaiHvxP56A8iHv9J+JO/CHv6N6HP/iH4q38Jft5ByIsOQl92EPaqg/8ABrdj6Q==",
        "encoding": "base64",
        "path": [
         "color_map",
         "compressed_buffer"
        ]
       },
       {
        "data": "eNpjYDjhxIABsIkpODIwLHBAFWuwBwCEoAQV",
        "encoding": "base64",
        "path": [
         "model_matrix",
         "compressed_buffer"
        ]
       },
       {
        "data": "eNrtkbENxCAMRRUU0TABRXrGYQAWYRVmYBEmoGAC6iAowM5JOd1FJ/mKSEkXl0/f8vf/23ZqEAEQfwj0VkrrcFAcNccQYq4Dv2hN3hpjfVo/EGpyWkmptEsV3rKevV4E52LRPvddiC1aJWbGZqFsbDuDEozkbJoYlyYU+MeoXeoG5YX0TP1GZkBmdf08fdzcxwvqtYlX",
        "encoding": "base64",
        "path": [
         "voxels",
         "compressed_buffer"
        ]
       }
      ],
      "model_module": "k3d",
      "model_module_version": "2.7.4",
      "model_name": "ObjectModel",
      "state": {
       "_view_count": null,
       "_view_module": null,
       "_view_module_version": "",
       "_view_name": null,
       "colorLegend": false,
       "color_map": {
        "compressed_buffer": {},
        "dtype": "uint32",
        "shape": [
         256
        ]
       },
       "compression_level": 0,
       "id": 140045066807504,
       "model_matrix": {
        "compressed_buffer": {},
        "dtype": "float32",
        "shape": [
         4,
         4
        ]
       },
       "name": "Voxels #1",
       "opacity": 1,
       "outlines": false,
       "outlines_color": 0,
       "type": "Voxels",
       "visible": true,
       "voxels": {
        "compressed_buffer": {},
        "dtype": "uint8",
        "shape": [
         2,
         20,
         20
        ]
       },
       "wireframe": false
      }
     },
     "f92e416a943b432c8141e3f65c0959d1": {
      "model_module": "@jupyter-widgets/output",
      "model_module_version": "1.0.0",
      "model_name": "OutputModel",
      "state": {
       "layout": "IPY_MODEL_8ff66df849444027a09f2505c160d8e7",
       "outputs": [
        {
         "data": {
          "application/vnd.jupyter.widget-view+json": {
           "model_id": "b103e5927d7040488e3e9c641e449e37",
           "version_major": 2,
           "version_minor": 0
          },
          "text/plain": "Plot(antialias=3, axes=['x', 'y', 'z'], axes_helper=1.0, background_color=16777215, camera=[2, -3, 0.2, 0.0, 0…"
         },
         "metadata": {},
         "output_type": "display_data"
        }
       ]
      }
     }
    },
    "version_major": 2,
    "version_minor": 0
   }
  }
 },
 "nbformat": 4,
 "nbformat_minor": 4
}
