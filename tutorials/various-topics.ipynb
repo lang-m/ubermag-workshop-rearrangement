{
 "cells": [
  {
   "cell_type": "markdown",
   "metadata": {},
   "source": [
    "# Various topics"
   ]
  },
  {
   "cell_type": "code",
   "execution_count": 1,
   "metadata": {},
   "outputs": [],
   "source": [
    "import discretisedfield as df\n",
    "\n",
    "p1 = (0, 0, 0)\n",
    "p2 = (6, 7, 5)\n",
    "cell = (1, 1, 1)\n",
    "\n",
    "mesh = df.Mesh(p1=p1, p2=p2, cell=cell, subregions={'r1': df.Region(p1=(0, 0, 0), p2=(5, 5, 2)),\n",
    "                                                    'r2': df.Region(p1=(0, 0, 2), p2=(5, 5, 5))})"
   ]
  },
  {
   "cell_type": "code",
   "execution_count": 2,
   "metadata": {},
   "outputs": [
    {
     "name": "stdout",
     "output_type": "stream",
     "text": [
      "(0.5, 0.5, 0.5)\n",
      "(1.5, 0.5, 0.5)\n",
      "(2.5, 0.5, 0.5)\n",
      "(3.5, 0.5, 0.5)\n",
      "(4.5, 0.5, 0.5)\n",
      "(5.5, 0.5, 0.5)\n",
      "(0.5, 1.5, 0.5)\n",
      "(1.5, 1.5, 0.5)\n",
      "(2.5, 1.5, 0.5)\n",
      "(3.5, 1.5, 0.5)\n",
      "(4.5, 1.5, 0.5)\n",
      "(5.5, 1.5, 0.5)\n",
      "(0.5, 2.5, 0.5)\n",
      "(1.5, 2.5, 0.5)\n",
      "(2.5, 2.5, 0.5)\n",
      "(3.5, 2.5, 0.5)\n",
      "(4.5, 2.5, 0.5)\n",
      "(5.5, 2.5, 0.5)\n",
      "(0.5, 3.5, 0.5)\n",
      "(1.5, 3.5, 0.5)\n",
      "(2.5, 3.5, 0.5)\n",
      "(3.5, 3.5, 0.5)\n",
      "(4.5, 3.5, 0.5)\n",
      "(5.5, 3.5, 0.5)\n",
      "(0.5, 4.5, 0.5)\n",
      "(1.5, 4.5, 0.5)\n",
      "(2.5, 4.5, 0.5)\n",
      "(3.5, 4.5, 0.5)\n",
      "(4.5, 4.5, 0.5)\n",
      "(5.5, 4.5, 0.5)\n",
      "(0.5, 5.5, 0.5)\n",
      "(1.5, 5.5, 0.5)\n",
      "(2.5, 5.5, 0.5)\n",
      "(3.5, 5.5, 0.5)\n",
      "(4.5, 5.5, 0.5)\n",
      "(5.5, 5.5, 0.5)\n",
      "(0.5, 6.5, 0.5)\n",
      "(1.5, 6.5, 0.5)\n",
      "(2.5, 6.5, 0.5)\n",
      "(3.5, 6.5, 0.5)\n",
      "(4.5, 6.5, 0.5)\n",
      "(5.5, 6.5, 0.5)\n",
      "(0.5, 0.5, 1.5)\n",
      "(1.5, 0.5, 1.5)\n",
      "(2.5, 0.5, 1.5)\n",
      "(3.5, 0.5, 1.5)\n",
      "(4.5, 0.5, 1.5)\n",
      "(5.5, 0.5, 1.5)\n",
      "(0.5, 1.5, 1.5)\n",
      "(1.5, 1.5, 1.5)\n",
      "(2.5, 1.5, 1.5)\n",
      "(3.5, 1.5, 1.5)\n",
      "(4.5, 1.5, 1.5)\n",
      "(5.5, 1.5, 1.5)\n",
      "(0.5, 2.5, 1.5)\n",
      "(1.5, 2.5, 1.5)\n",
      "(2.5, 2.5, 1.5)\n",
      "(3.5, 2.5, 1.5)\n",
      "(4.5, 2.5, 1.5)\n",
      "(5.5, 2.5, 1.5)\n",
      "(0.5, 3.5, 1.5)\n",
      "(1.5, 3.5, 1.5)\n",
      "(2.5, 3.5, 1.5)\n",
      "(3.5, 3.5, 1.5)\n",
      "(4.5, 3.5, 1.5)\n",
      "(5.5, 3.5, 1.5)\n",
      "(0.5, 4.5, 1.5)\n",
      "(1.5, 4.5, 1.5)\n",
      "(2.5, 4.5, 1.5)\n",
      "(3.5, 4.5, 1.5)\n",
      "(4.5, 4.5, 1.5)\n",
      "(5.5, 4.5, 1.5)\n",
      "(0.5, 5.5, 1.5)\n",
      "(1.5, 5.5, 1.5)\n",
      "(2.5, 5.5, 1.5)\n",
      "(3.5, 5.5, 1.5)\n",
      "(4.5, 5.5, 1.5)\n",
      "(5.5, 5.5, 1.5)\n",
      "(0.5, 6.5, 1.5)\n",
      "(1.5, 6.5, 1.5)\n",
      "(2.5, 6.5, 1.5)\n",
      "(3.5, 6.5, 1.5)\n",
      "(4.5, 6.5, 1.5)\n",
      "(5.5, 6.5, 1.5)\n",
      "(0.5, 0.5, 2.5)\n",
      "(1.5, 0.5, 2.5)\n",
      "(2.5, 0.5, 2.5)\n",
      "(3.5, 0.5, 2.5)\n",
      "(4.5, 0.5, 2.5)\n",
      "(5.5, 0.5, 2.5)\n",
      "(0.5, 1.5, 2.5)\n",
      "(1.5, 1.5, 2.5)\n",
      "(2.5, 1.5, 2.5)\n",
      "(3.5, 1.5, 2.5)\n",
      "(4.5, 1.5, 2.5)\n",
      "(5.5, 1.5, 2.5)\n",
      "(0.5, 2.5, 2.5)\n",
      "(1.5, 2.5, 2.5)\n",
      "(2.5, 2.5, 2.5)\n",
      "(3.5, 2.5, 2.5)\n",
      "(4.5, 2.5, 2.5)\n",
      "(5.5, 2.5, 2.5)\n",
      "(0.5, 3.5, 2.5)\n",
      "(1.5, 3.5, 2.5)\n",
      "(2.5, 3.5, 2.5)\n",
      "(3.5, 3.5, 2.5)\n",
      "(4.5, 3.5, 2.5)\n",
      "(5.5, 3.5, 2.5)\n",
      "(0.5, 4.5, 2.5)\n",
      "(1.5, 4.5, 2.5)\n",
      "(2.5, 4.5, 2.5)\n",
      "(3.5, 4.5, 2.5)\n",
      "(4.5, 4.5, 2.5)\n",
      "(5.5, 4.5, 2.5)\n",
      "(0.5, 5.5, 2.5)\n",
      "(1.5, 5.5, 2.5)\n",
      "(2.5, 5.5, 2.5)\n",
      "(3.5, 5.5, 2.5)\n",
      "(4.5, 5.5, 2.5)\n",
      "(5.5, 5.5, 2.5)\n",
      "(0.5, 6.5, 2.5)\n",
      "(1.5, 6.5, 2.5)\n",
      "(2.5, 6.5, 2.5)\n",
      "(3.5, 6.5, 2.5)\n",
      "(4.5, 6.5, 2.5)\n",
      "(5.5, 6.5, 2.5)\n",
      "(0.5, 0.5, 3.5)\n",
      "(1.5, 0.5, 3.5)\n",
      "(2.5, 0.5, 3.5)\n",
      "(3.5, 0.5, 3.5)\n",
      "(4.5, 0.5, 3.5)\n",
      "(5.5, 0.5, 3.5)\n",
      "(0.5, 1.5, 3.5)\n",
      "(1.5, 1.5, 3.5)\n",
      "(2.5, 1.5, 3.5)\n",
      "(3.5, 1.5, 3.5)\n",
      "(4.5, 1.5, 3.5)\n",
      "(5.5, 1.5, 3.5)\n",
      "(0.5, 2.5, 3.5)\n",
      "(1.5, 2.5, 3.5)\n",
      "(2.5, 2.5, 3.5)\n",
      "(3.5, 2.5, 3.5)\n",
      "(4.5, 2.5, 3.5)\n",
      "(5.5, 2.5, 3.5)\n",
      "(0.5, 3.5, 3.5)\n",
      "(1.5, 3.5, 3.5)\n",
      "(2.5, 3.5, 3.5)\n",
      "(3.5, 3.5, 3.5)\n",
      "(4.5, 3.5, 3.5)\n",
      "(5.5, 3.5, 3.5)\n",
      "(0.5, 4.5, 3.5)\n",
      "(1.5, 4.5, 3.5)\n",
      "(2.5, 4.5, 3.5)\n",
      "(3.5, 4.5, 3.5)\n",
      "(4.5, 4.5, 3.5)\n",
      "(5.5, 4.5, 3.5)\n",
      "(0.5, 5.5, 3.5)\n",
      "(1.5, 5.5, 3.5)\n",
      "(2.5, 5.5, 3.5)\n",
      "(3.5, 5.5, 3.5)\n",
      "(4.5, 5.5, 3.5)\n",
      "(5.5, 5.5, 3.5)\n",
      "(0.5, 6.5, 3.5)\n",
      "(1.5, 6.5, 3.5)\n",
      "(2.5, 6.5, 3.5)\n",
      "(3.5, 6.5, 3.5)\n",
      "(4.5, 6.5, 3.5)\n",
      "(5.5, 6.5, 3.5)\n",
      "(0.5, 0.5, 4.5)\n",
      "(1.5, 0.5, 4.5)\n",
      "(2.5, 0.5, 4.5)\n",
      "(3.5, 0.5, 4.5)\n",
      "(4.5, 0.5, 4.5)\n",
      "(5.5, 0.5, 4.5)\n",
      "(0.5, 1.5, 4.5)\n",
      "(1.5, 1.5, 4.5)\n",
      "(2.5, 1.5, 4.5)\n",
      "(3.5, 1.5, 4.5)\n",
      "(4.5, 1.5, 4.5)\n",
      "(5.5, 1.5, 4.5)\n",
      "(0.5, 2.5, 4.5)\n",
      "(1.5, 2.5, 4.5)\n",
      "(2.5, 2.5, 4.5)\n",
      "(3.5, 2.5, 4.5)\n",
      "(4.5, 2.5, 4.5)\n",
      "(5.5, 2.5, 4.5)\n",
      "(0.5, 3.5, 4.5)\n",
      "(1.5, 3.5, 4.5)\n",
      "(2.5, 3.5, 4.5)\n",
      "(3.5, 3.5, 4.5)\n",
      "(4.5, 3.5, 4.5)\n",
      "(5.5, 3.5, 4.5)\n",
      "(0.5, 4.5, 4.5)\n",
      "(1.5, 4.5, 4.5)\n",
      "(2.5, 4.5, 4.5)\n",
      "(3.5, 4.5, 4.5)\n",
      "(4.5, 4.5, 4.5)\n",
      "(5.5, 4.5, 4.5)\n",
      "(0.5, 5.5, 4.5)\n",
      "(1.5, 5.5, 4.5)\n",
      "(2.5, 5.5, 4.5)\n",
      "(3.5, 5.5, 4.5)\n",
      "(4.5, 5.5, 4.5)\n",
      "(5.5, 5.5, 4.5)\n",
      "(0.5, 6.5, 4.5)\n",
      "(1.5, 6.5, 4.5)\n",
      "(2.5, 6.5, 4.5)\n",
      "(3.5, 6.5, 4.5)\n",
      "(4.5, 6.5, 4.5)\n",
      "(5.5, 6.5, 4.5)\n"
     ]
    }
   ],
   "source": [
    "for coordinate in mesh:\n",
    "    print(coordinate)"
   ]
  },
  {
   "cell_type": "code",
   "execution_count": 3,
   "metadata": {},
   "outputs": [
    {
     "data": {
      "text/plain": [
       "210"
      ]
     },
     "execution_count": 3,
     "metadata": {},
     "output_type": "execute_result"
    }
   ],
   "source": [
    "len(mesh)"
   ]
  },
  {
   "cell_type": "code",
   "execution_count": 4,
   "metadata": {},
   "outputs": [
    {
     "data": {
      "text/plain": [
       "[(0.5, 0.5, 0.5),\n",
       " (1.5, 0.5, 0.5),\n",
       " (2.5, 0.5, 0.5),\n",
       " (3.5, 0.5, 0.5),\n",
       " (4.5, 0.5, 0.5),\n",
       " (5.5, 0.5, 0.5),\n",
       " (0.5, 1.5, 0.5),\n",
       " (1.5, 1.5, 0.5),\n",
       " (2.5, 1.5, 0.5),\n",
       " (3.5, 1.5, 0.5),\n",
       " (4.5, 1.5, 0.5),\n",
       " (5.5, 1.5, 0.5),\n",
       " (0.5, 2.5, 0.5),\n",
       " (1.5, 2.5, 0.5),\n",
       " (2.5, 2.5, 0.5),\n",
       " (3.5, 2.5, 0.5),\n",
       " (4.5, 2.5, 0.5),\n",
       " (5.5, 2.5, 0.5),\n",
       " (0.5, 3.5, 0.5),\n",
       " (1.5, 3.5, 0.5),\n",
       " (2.5, 3.5, 0.5),\n",
       " (3.5, 3.5, 0.5),\n",
       " (4.5, 3.5, 0.5),\n",
       " (5.5, 3.5, 0.5),\n",
       " (0.5, 4.5, 0.5),\n",
       " (1.5, 4.5, 0.5),\n",
       " (2.5, 4.5, 0.5),\n",
       " (3.5, 4.5, 0.5),\n",
       " (4.5, 4.5, 0.5),\n",
       " (5.5, 4.5, 0.5),\n",
       " (0.5, 5.5, 0.5),\n",
       " (1.5, 5.5, 0.5),\n",
       " (2.5, 5.5, 0.5),\n",
       " (3.5, 5.5, 0.5),\n",
       " (4.5, 5.5, 0.5),\n",
       " (5.5, 5.5, 0.5),\n",
       " (0.5, 6.5, 0.5),\n",
       " (1.5, 6.5, 0.5),\n",
       " (2.5, 6.5, 0.5),\n",
       " (3.5, 6.5, 0.5),\n",
       " (4.5, 6.5, 0.5),\n",
       " (5.5, 6.5, 0.5),\n",
       " (0.5, 0.5, 1.5),\n",
       " (1.5, 0.5, 1.5),\n",
       " (2.5, 0.5, 1.5),\n",
       " (3.5, 0.5, 1.5),\n",
       " (4.5, 0.5, 1.5),\n",
       " (5.5, 0.5, 1.5),\n",
       " (0.5, 1.5, 1.5),\n",
       " (1.5, 1.5, 1.5),\n",
       " (2.5, 1.5, 1.5),\n",
       " (3.5, 1.5, 1.5),\n",
       " (4.5, 1.5, 1.5),\n",
       " (5.5, 1.5, 1.5),\n",
       " (0.5, 2.5, 1.5),\n",
       " (1.5, 2.5, 1.5),\n",
       " (2.5, 2.5, 1.5),\n",
       " (3.5, 2.5, 1.5),\n",
       " (4.5, 2.5, 1.5),\n",
       " (5.5, 2.5, 1.5),\n",
       " (0.5, 3.5, 1.5),\n",
       " (1.5, 3.5, 1.5),\n",
       " (2.5, 3.5, 1.5),\n",
       " (3.5, 3.5, 1.5),\n",
       " (4.5, 3.5, 1.5),\n",
       " (5.5, 3.5, 1.5),\n",
       " (0.5, 4.5, 1.5),\n",
       " (1.5, 4.5, 1.5),\n",
       " (2.5, 4.5, 1.5),\n",
       " (3.5, 4.5, 1.5),\n",
       " (4.5, 4.5, 1.5),\n",
       " (5.5, 4.5, 1.5),\n",
       " (0.5, 5.5, 1.5),\n",
       " (1.5, 5.5, 1.5),\n",
       " (2.5, 5.5, 1.5),\n",
       " (3.5, 5.5, 1.5),\n",
       " (4.5, 5.5, 1.5),\n",
       " (5.5, 5.5, 1.5),\n",
       " (0.5, 6.5, 1.5),\n",
       " (1.5, 6.5, 1.5),\n",
       " (2.5, 6.5, 1.5),\n",
       " (3.5, 6.5, 1.5),\n",
       " (4.5, 6.5, 1.5),\n",
       " (5.5, 6.5, 1.5),\n",
       " (0.5, 0.5, 2.5),\n",
       " (1.5, 0.5, 2.5),\n",
       " (2.5, 0.5, 2.5),\n",
       " (3.5, 0.5, 2.5),\n",
       " (4.5, 0.5, 2.5),\n",
       " (5.5, 0.5, 2.5),\n",
       " (0.5, 1.5, 2.5),\n",
       " (1.5, 1.5, 2.5),\n",
       " (2.5, 1.5, 2.5),\n",
       " (3.5, 1.5, 2.5),\n",
       " (4.5, 1.5, 2.5),\n",
       " (5.5, 1.5, 2.5),\n",
       " (0.5, 2.5, 2.5),\n",
       " (1.5, 2.5, 2.5),\n",
       " (2.5, 2.5, 2.5),\n",
       " (3.5, 2.5, 2.5),\n",
       " (4.5, 2.5, 2.5),\n",
       " (5.5, 2.5, 2.5),\n",
       " (0.5, 3.5, 2.5),\n",
       " (1.5, 3.5, 2.5),\n",
       " (2.5, 3.5, 2.5),\n",
       " (3.5, 3.5, 2.5),\n",
       " (4.5, 3.5, 2.5),\n",
       " (5.5, 3.5, 2.5),\n",
       " (0.5, 4.5, 2.5),\n",
       " (1.5, 4.5, 2.5),\n",
       " (2.5, 4.5, 2.5),\n",
       " (3.5, 4.5, 2.5),\n",
       " (4.5, 4.5, 2.5),\n",
       " (5.5, 4.5, 2.5),\n",
       " (0.5, 5.5, 2.5),\n",
       " (1.5, 5.5, 2.5),\n",
       " (2.5, 5.5, 2.5),\n",
       " (3.5, 5.5, 2.5),\n",
       " (4.5, 5.5, 2.5),\n",
       " (5.5, 5.5, 2.5),\n",
       " (0.5, 6.5, 2.5),\n",
       " (1.5, 6.5, 2.5),\n",
       " (2.5, 6.5, 2.5),\n",
       " (3.5, 6.5, 2.5),\n",
       " (4.5, 6.5, 2.5),\n",
       " (5.5, 6.5, 2.5),\n",
       " (0.5, 0.5, 3.5),\n",
       " (1.5, 0.5, 3.5),\n",
       " (2.5, 0.5, 3.5),\n",
       " (3.5, 0.5, 3.5),\n",
       " (4.5, 0.5, 3.5),\n",
       " (5.5, 0.5, 3.5),\n",
       " (0.5, 1.5, 3.5),\n",
       " (1.5, 1.5, 3.5),\n",
       " (2.5, 1.5, 3.5),\n",
       " (3.5, 1.5, 3.5),\n",
       " (4.5, 1.5, 3.5),\n",
       " (5.5, 1.5, 3.5),\n",
       " (0.5, 2.5, 3.5),\n",
       " (1.5, 2.5, 3.5),\n",
       " (2.5, 2.5, 3.5),\n",
       " (3.5, 2.5, 3.5),\n",
       " (4.5, 2.5, 3.5),\n",
       " (5.5, 2.5, 3.5),\n",
       " (0.5, 3.5, 3.5),\n",
       " (1.5, 3.5, 3.5),\n",
       " (2.5, 3.5, 3.5),\n",
       " (3.5, 3.5, 3.5),\n",
       " (4.5, 3.5, 3.5),\n",
       " (5.5, 3.5, 3.5),\n",
       " (0.5, 4.5, 3.5),\n",
       " (1.5, 4.5, 3.5),\n",
       " (2.5, 4.5, 3.5),\n",
       " (3.5, 4.5, 3.5),\n",
       " (4.5, 4.5, 3.5),\n",
       " (5.5, 4.5, 3.5),\n",
       " (0.5, 5.5, 3.5),\n",
       " (1.5, 5.5, 3.5),\n",
       " (2.5, 5.5, 3.5),\n",
       " (3.5, 5.5, 3.5),\n",
       " (4.5, 5.5, 3.5),\n",
       " (5.5, 5.5, 3.5),\n",
       " (0.5, 6.5, 3.5),\n",
       " (1.5, 6.5, 3.5),\n",
       " (2.5, 6.5, 3.5),\n",
       " (3.5, 6.5, 3.5),\n",
       " (4.5, 6.5, 3.5),\n",
       " (5.5, 6.5, 3.5),\n",
       " (0.5, 0.5, 4.5),\n",
       " (1.5, 0.5, 4.5),\n",
       " (2.5, 0.5, 4.5),\n",
       " (3.5, 0.5, 4.5),\n",
       " (4.5, 0.5, 4.5),\n",
       " (5.5, 0.5, 4.5),\n",
       " (0.5, 1.5, 4.5),\n",
       " (1.5, 1.5, 4.5),\n",
       " (2.5, 1.5, 4.5),\n",
       " (3.5, 1.5, 4.5),\n",
       " (4.5, 1.5, 4.5),\n",
       " (5.5, 1.5, 4.5),\n",
       " (0.5, 2.5, 4.5),\n",
       " (1.5, 2.5, 4.5),\n",
       " (2.5, 2.5, 4.5),\n",
       " (3.5, 2.5, 4.5),\n",
       " (4.5, 2.5, 4.5),\n",
       " (5.5, 2.5, 4.5),\n",
       " (0.5, 3.5, 4.5),\n",
       " (1.5, 3.5, 4.5),\n",
       " (2.5, 3.5, 4.5),\n",
       " (3.5, 3.5, 4.5),\n",
       " (4.5, 3.5, 4.5),\n",
       " (5.5, 3.5, 4.5),\n",
       " (0.5, 4.5, 4.5),\n",
       " (1.5, 4.5, 4.5),\n",
       " (2.5, 4.5, 4.5),\n",
       " (3.5, 4.5, 4.5),\n",
       " (4.5, 4.5, 4.5),\n",
       " (5.5, 4.5, 4.5),\n",
       " (0.5, 5.5, 4.5),\n",
       " (1.5, 5.5, 4.5),\n",
       " (2.5, 5.5, 4.5),\n",
       " (3.5, 5.5, 4.5),\n",
       " (4.5, 5.5, 4.5),\n",
       " (5.5, 5.5, 4.5),\n",
       " (0.5, 6.5, 4.5),\n",
       " (1.5, 6.5, 4.5),\n",
       " (2.5, 6.5, 4.5),\n",
       " (3.5, 6.5, 4.5),\n",
       " (4.5, 6.5, 4.5),\n",
       " (5.5, 6.5, 4.5)]"
      ]
     },
     "execution_count": 4,
     "metadata": {},
     "output_type": "execute_result"
    }
   ],
   "source": [
    "list(mesh)"
   ]
  },
  {
   "cell_type": "code",
   "execution_count": 5,
   "metadata": {},
   "outputs": [
    {
     "data": {
      "text/plain": [
       "<generator object Mesh.indices at 0x7fcd32c1eeb0>"
      ]
     },
     "execution_count": 5,
     "metadata": {},
     "output_type": "execute_result"
    }
   ],
   "source": [
    "mesh.indices"
   ]
  },
  {
   "cell_type": "code",
   "execution_count": 6,
   "metadata": {},
   "outputs": [
    {
     "data": {
      "text/plain": [
       "[(0, 0, 0),\n",
       " (1, 0, 0),\n",
       " (2, 0, 0),\n",
       " (3, 0, 0),\n",
       " (4, 0, 0),\n",
       " (5, 0, 0),\n",
       " (0, 1, 0),\n",
       " (1, 1, 0),\n",
       " (2, 1, 0),\n",
       " (3, 1, 0),\n",
       " (4, 1, 0),\n",
       " (5, 1, 0),\n",
       " (0, 2, 0),\n",
       " (1, 2, 0),\n",
       " (2, 2, 0),\n",
       " (3, 2, 0),\n",
       " (4, 2, 0),\n",
       " (5, 2, 0),\n",
       " (0, 3, 0),\n",
       " (1, 3, 0),\n",
       " (2, 3, 0),\n",
       " (3, 3, 0),\n",
       " (4, 3, 0),\n",
       " (5, 3, 0),\n",
       " (0, 4, 0),\n",
       " (1, 4, 0),\n",
       " (2, 4, 0),\n",
       " (3, 4, 0),\n",
       " (4, 4, 0),\n",
       " (5, 4, 0),\n",
       " (0, 5, 0),\n",
       " (1, 5, 0),\n",
       " (2, 5, 0),\n",
       " (3, 5, 0),\n",
       " (4, 5, 0),\n",
       " (5, 5, 0),\n",
       " (0, 6, 0),\n",
       " (1, 6, 0),\n",
       " (2, 6, 0),\n",
       " (3, 6, 0),\n",
       " (4, 6, 0),\n",
       " (5, 6, 0),\n",
       " (0, 0, 1),\n",
       " (1, 0, 1),\n",
       " (2, 0, 1),\n",
       " (3, 0, 1),\n",
       " (4, 0, 1),\n",
       " (5, 0, 1),\n",
       " (0, 1, 1),\n",
       " (1, 1, 1),\n",
       " (2, 1, 1),\n",
       " (3, 1, 1),\n",
       " (4, 1, 1),\n",
       " (5, 1, 1),\n",
       " (0, 2, 1),\n",
       " (1, 2, 1),\n",
       " (2, 2, 1),\n",
       " (3, 2, 1),\n",
       " (4, 2, 1),\n",
       " (5, 2, 1),\n",
       " (0, 3, 1),\n",
       " (1, 3, 1),\n",
       " (2, 3, 1),\n",
       " (3, 3, 1),\n",
       " (4, 3, 1),\n",
       " (5, 3, 1),\n",
       " (0, 4, 1),\n",
       " (1, 4, 1),\n",
       " (2, 4, 1),\n",
       " (3, 4, 1),\n",
       " (4, 4, 1),\n",
       " (5, 4, 1),\n",
       " (0, 5, 1),\n",
       " (1, 5, 1),\n",
       " (2, 5, 1),\n",
       " (3, 5, 1),\n",
       " (4, 5, 1),\n",
       " (5, 5, 1),\n",
       " (0, 6, 1),\n",
       " (1, 6, 1),\n",
       " (2, 6, 1),\n",
       " (3, 6, 1),\n",
       " (4, 6, 1),\n",
       " (5, 6, 1),\n",
       " (0, 0, 2),\n",
       " (1, 0, 2),\n",
       " (2, 0, 2),\n",
       " (3, 0, 2),\n",
       " (4, 0, 2),\n",
       " (5, 0, 2),\n",
       " (0, 1, 2),\n",
       " (1, 1, 2),\n",
       " (2, 1, 2),\n",
       " (3, 1, 2),\n",
       " (4, 1, 2),\n",
       " (5, 1, 2),\n",
       " (0, 2, 2),\n",
       " (1, 2, 2),\n",
       " (2, 2, 2),\n",
       " (3, 2, 2),\n",
       " (4, 2, 2),\n",
       " (5, 2, 2),\n",
       " (0, 3, 2),\n",
       " (1, 3, 2),\n",
       " (2, 3, 2),\n",
       " (3, 3, 2),\n",
       " (4, 3, 2),\n",
       " (5, 3, 2),\n",
       " (0, 4, 2),\n",
       " (1, 4, 2),\n",
       " (2, 4, 2),\n",
       " (3, 4, 2),\n",
       " (4, 4, 2),\n",
       " (5, 4, 2),\n",
       " (0, 5, 2),\n",
       " (1, 5, 2),\n",
       " (2, 5, 2),\n",
       " (3, 5, 2),\n",
       " (4, 5, 2),\n",
       " (5, 5, 2),\n",
       " (0, 6, 2),\n",
       " (1, 6, 2),\n",
       " (2, 6, 2),\n",
       " (3, 6, 2),\n",
       " (4, 6, 2),\n",
       " (5, 6, 2),\n",
       " (0, 0, 3),\n",
       " (1, 0, 3),\n",
       " (2, 0, 3),\n",
       " (3, 0, 3),\n",
       " (4, 0, 3),\n",
       " (5, 0, 3),\n",
       " (0, 1, 3),\n",
       " (1, 1, 3),\n",
       " (2, 1, 3),\n",
       " (3, 1, 3),\n",
       " (4, 1, 3),\n",
       " (5, 1, 3),\n",
       " (0, 2, 3),\n",
       " (1, 2, 3),\n",
       " (2, 2, 3),\n",
       " (3, 2, 3),\n",
       " (4, 2, 3),\n",
       " (5, 2, 3),\n",
       " (0, 3, 3),\n",
       " (1, 3, 3),\n",
       " (2, 3, 3),\n",
       " (3, 3, 3),\n",
       " (4, 3, 3),\n",
       " (5, 3, 3),\n",
       " (0, 4, 3),\n",
       " (1, 4, 3),\n",
       " (2, 4, 3),\n",
       " (3, 4, 3),\n",
       " (4, 4, 3),\n",
       " (5, 4, 3),\n",
       " (0, 5, 3),\n",
       " (1, 5, 3),\n",
       " (2, 5, 3),\n",
       " (3, 5, 3),\n",
       " (4, 5, 3),\n",
       " (5, 5, 3),\n",
       " (0, 6, 3),\n",
       " (1, 6, 3),\n",
       " (2, 6, 3),\n",
       " (3, 6, 3),\n",
       " (4, 6, 3),\n",
       " (5, 6, 3),\n",
       " (0, 0, 4),\n",
       " (1, 0, 4),\n",
       " (2, 0, 4),\n",
       " (3, 0, 4),\n",
       " (4, 0, 4),\n",
       " (5, 0, 4),\n",
       " (0, 1, 4),\n",
       " (1, 1, 4),\n",
       " (2, 1, 4),\n",
       " (3, 1, 4),\n",
       " (4, 1, 4),\n",
       " (5, 1, 4),\n",
       " (0, 2, 4),\n",
       " (1, 2, 4),\n",
       " (2, 2, 4),\n",
       " (3, 2, 4),\n",
       " (4, 2, 4),\n",
       " (5, 2, 4),\n",
       " (0, 3, 4),\n",
       " (1, 3, 4),\n",
       " (2, 3, 4),\n",
       " (3, 3, 4),\n",
       " (4, 3, 4),\n",
       " (5, 3, 4),\n",
       " (0, 4, 4),\n",
       " (1, 4, 4),\n",
       " (2, 4, 4),\n",
       " (3, 4, 4),\n",
       " (4, 4, 4),\n",
       " (5, 4, 4),\n",
       " (0, 5, 4),\n",
       " (1, 5, 4),\n",
       " (2, 5, 4),\n",
       " (3, 5, 4),\n",
       " (4, 5, 4),\n",
       " (5, 5, 4),\n",
       " (0, 6, 4),\n",
       " (1, 6, 4),\n",
       " (2, 6, 4),\n",
       " (3, 6, 4),\n",
       " (4, 6, 4),\n",
       " (5, 6, 4)]"
      ]
     },
     "execution_count": 6,
     "metadata": {},
     "output_type": "execute_result"
    }
   ],
   "source": [
    "list(mesh.indices)"
   ]
  },
  {
   "cell_type": "code",
   "execution_count": 7,
   "metadata": {},
   "outputs": [
    {
     "data": {
      "text/plain": [
       "True"
      ]
     },
     "execution_count": 7,
     "metadata": {},
     "output_type": "execute_result"
    }
   ],
   "source": [
    "mesh == mesh"
   ]
  },
  {
   "cell_type": "code",
   "execution_count": 8,
   "metadata": {},
   "outputs": [
    {
     "data": {
      "text/plain": [
       "Mesh(region=Region(p1=(0, 0, 0), p2=(6, 7, 5)), n=(6, 7, 5), bc='', subregions={'r1': Region(p1=(0, 0, 0), p2=(5, 5, 2)), 'r2': Region(p1=(0, 0, 2), p2=(5, 5, 5))})"
      ]
     },
     "execution_count": 8,
     "metadata": {},
     "output_type": "execute_result"
    }
   ],
   "source": [
    "mesh"
   ]
  },
  {
   "cell_type": "code",
   "execution_count": 9,
   "metadata": {},
   "outputs": [
    {
     "data": {
      "text/plain": [
       "(0.5, 0.5, 0.5)"
      ]
     },
     "execution_count": 9,
     "metadata": {},
     "output_type": "execute_result"
    }
   ],
   "source": [
    "mesh.index2point((0, 0, 0))"
   ]
  },
  {
   "cell_type": "code",
   "execution_count": 10,
   "metadata": {},
   "outputs": [
    {
     "data": {
      "text/plain": [
       "(0, 0, 0)"
      ]
     },
     "execution_count": 10,
     "metadata": {},
     "output_type": "execute_result"
    }
   ],
   "source": [
    "mesh.point2index((1, 1, 1))"
   ]
  },
  {
   "cell_type": "code",
   "execution_count": 11,
   "metadata": {},
   "outputs": [
    {
     "data": {
      "text/plain": [
       "(0, 0, 1)"
      ]
     },
     "execution_count": 11,
     "metadata": {},
     "output_type": "execute_result"
    }
   ],
   "source": [
    "mesh.point2index((0.5, 1, 1.5))"
   ]
  },
  {
   "cell_type": "code",
   "execution_count": 12,
   "metadata": {},
   "outputs": [
    {
     "data": {
      "text/plain": [
       "[(1, 0, 0), (0, 1, 0), (0, 0, 1)]"
      ]
     },
     "execution_count": 12,
     "metadata": {},
     "output_type": "execute_result"
    }
   ],
   "source": [
    "mesh.neighbours((0, 0, 0))"
   ]
  },
  {
   "cell_type": "code",
   "execution_count": 13,
   "metadata": {},
   "outputs": [
    {
     "data": {
      "text/plain": [
       "[(2, 3, 3), (4, 3, 3), (3, 2, 3), (3, 4, 3), (3, 3, 2), (3, 3, 4)]"
      ]
     },
     "execution_count": 13,
     "metadata": {},
     "output_type": "execute_result"
    }
   ],
   "source": [
    "mesh.neighbours((3, 3, 3))"
   ]
  },
  {
   "cell_type": "code",
   "execution_count": 14,
   "metadata": {},
   "outputs": [
    {
     "data": {
      "text/plain": [
       "<generator object Mesh.line at 0x7fcd32c39900>"
      ]
     },
     "execution_count": 14,
     "metadata": {},
     "output_type": "execute_result"
    }
   ],
   "source": [
    "mesh.line(p1=(0, 0, 0), p2=(5, 5, 5), n=5)"
   ]
  },
  {
   "cell_type": "code",
   "execution_count": 15,
   "metadata": {},
   "outputs": [
    {
     "data": {
      "text/plain": [
       "[(0.0, 0.0, 0.0),\n",
       " (1.25, 1.25, 1.25),\n",
       " (2.5, 2.5, 2.5),\n",
       " (3.75, 3.75, 3.75),\n",
       " (5.0, 5.0, 5.0)]"
      ]
     },
     "execution_count": 15,
     "metadata": {},
     "output_type": "execute_result"
    }
   ],
   "source": [
    "list(mesh.line(p1=(0, 0, 0), p2=(5, 5, 5), n=5))"
   ]
  },
  {
   "cell_type": "code",
   "execution_count": 16,
   "metadata": {},
   "outputs": [
    {
     "data": {
      "text/plain": [
       "{'r1': Region(p1=(0, 0, 0), p2=(5, 5, 2)),\n",
       " 'r2': Region(p1=(0, 0, 2), p2=(5, 5, 5))}"
      ]
     },
     "execution_count": 16,
     "metadata": {},
     "output_type": "execute_result"
    }
   ],
   "source": [
    "mesh.subregions"
   ]
  },
  {
   "cell_type": "code",
   "execution_count": 17,
   "metadata": {},
   "outputs": [
    {
     "data": {
      "text/plain": [
       "Mesh(region=Region(p1=(0, 0, 0), p2=(5, 5, 2)), n=(5, 5, 2), bc='', subregions={})"
      ]
     },
     "execution_count": 17,
     "metadata": {},
     "output_type": "execute_result"
    }
   ],
   "source": [
    "mesh['r1']"
   ]
  },
  {
   "cell_type": "code",
   "execution_count": 18,
   "metadata": {},
   "outputs": [
    {
     "data": {
      "application/vnd.jupyter.widget-view+json": {
       "model_id": "92db4d0280cc4eedb2955f36d130cd77",
       "version_major": 2,
       "version_minor": 0
      },
      "text/plain": [
       "Output()"
      ]
     },
     "metadata": {},
     "output_type": "display_data"
    }
   ],
   "source": [
    "mesh['r1'].k3d()"
   ]
  },
  {
   "cell_type": "code",
   "execution_count": 19,
   "metadata": {},
   "outputs": [
    {
     "data": {
      "application/vnd.jupyter.widget-view+json": {
       "model_id": "2ee48f5d02574a91b76af905f8bd7dbc",
       "version_major": 2,
       "version_minor": 0
      },
      "text/plain": [
       "Output()"
      ]
     },
     "metadata": {},
     "output_type": "display_data"
    }
   ],
   "source": [
    "mesh['r2'].k3d()"
   ]
  },
  {
   "cell_type": "code",
   "execution_count": 20,
   "metadata": {},
   "outputs": [],
   "source": [
    "field = df.Field(mesh, dim=3, value=(0, 0, 1))"
   ]
  },
  {
   "cell_type": "code",
   "execution_count": 21,
   "metadata": {},
   "outputs": [
    {
     "data": {
      "text/plain": [
       "(0, 0, 1)"
      ]
     },
     "execution_count": 21,
     "metadata": {},
     "output_type": "execute_result"
    }
   ],
   "source": [
    "field.value"
   ]
  },
  {
   "cell_type": "code",
   "execution_count": 22,
   "metadata": {},
   "outputs": [
    {
     "data": {
      "text/plain": [
       "array([[[[0., 0., 1.],\n",
       "         [0., 0., 1.],\n",
       "         [0., 0., 1.],\n",
       "         [0., 0., 1.],\n",
       "         [0., 0., 1.]],\n",
       "\n",
       "        [[0., 0., 1.],\n",
       "         [0., 0., 1.],\n",
       "         [0., 0., 1.],\n",
       "         [0., 0., 1.],\n",
       "         [0., 0., 1.]],\n",
       "\n",
       "        [[0., 0., 1.],\n",
       "         [0., 0., 1.],\n",
       "         [0., 0., 1.],\n",
       "         [0., 0., 1.],\n",
       "         [0., 0., 1.]],\n",
       "\n",
       "        [[0., 0., 1.],\n",
       "         [0., 0., 1.],\n",
       "         [0., 0., 1.],\n",
       "         [0., 0., 1.],\n",
       "         [0., 0., 1.]],\n",
       "\n",
       "        [[0., 0., 1.],\n",
       "         [0., 0., 1.],\n",
       "         [0., 0., 1.],\n",
       "         [0., 0., 1.],\n",
       "         [0., 0., 1.]],\n",
       "\n",
       "        [[0., 0., 1.],\n",
       "         [0., 0., 1.],\n",
       "         [0., 0., 1.],\n",
       "         [0., 0., 1.],\n",
       "         [0., 0., 1.]],\n",
       "\n",
       "        [[0., 0., 1.],\n",
       "         [0., 0., 1.],\n",
       "         [0., 0., 1.],\n",
       "         [0., 0., 1.],\n",
       "         [0., 0., 1.]]],\n",
       "\n",
       "\n",
       "       [[[0., 0., 1.],\n",
       "         [0., 0., 1.],\n",
       "         [0., 0., 1.],\n",
       "         [0., 0., 1.],\n",
       "         [0., 0., 1.]],\n",
       "\n",
       "        [[0., 0., 1.],\n",
       "         [0., 0., 1.],\n",
       "         [0., 0., 1.],\n",
       "         [0., 0., 1.],\n",
       "         [0., 0., 1.]],\n",
       "\n",
       "        [[0., 0., 1.],\n",
       "         [0., 0., 1.],\n",
       "         [0., 0., 1.],\n",
       "         [0., 0., 1.],\n",
       "         [0., 0., 1.]],\n",
       "\n",
       "        [[0., 0., 1.],\n",
       "         [0., 0., 1.],\n",
       "         [0., 0., 1.],\n",
       "         [0., 0., 1.],\n",
       "         [0., 0., 1.]],\n",
       "\n",
       "        [[0., 0., 1.],\n",
       "         [0., 0., 1.],\n",
       "         [0., 0., 1.],\n",
       "         [0., 0., 1.],\n",
       "         [0., 0., 1.]],\n",
       "\n",
       "        [[0., 0., 1.],\n",
       "         [0., 0., 1.],\n",
       "         [0., 0., 1.],\n",
       "         [0., 0., 1.],\n",
       "         [0., 0., 1.]],\n",
       "\n",
       "        [[0., 0., 1.],\n",
       "         [0., 0., 1.],\n",
       "         [0., 0., 1.],\n",
       "         [0., 0., 1.],\n",
       "         [0., 0., 1.]]],\n",
       "\n",
       "\n",
       "       [[[0., 0., 1.],\n",
       "         [0., 0., 1.],\n",
       "         [0., 0., 1.],\n",
       "         [0., 0., 1.],\n",
       "         [0., 0., 1.]],\n",
       "\n",
       "        [[0., 0., 1.],\n",
       "         [0., 0., 1.],\n",
       "         [0., 0., 1.],\n",
       "         [0., 0., 1.],\n",
       "         [0., 0., 1.]],\n",
       "\n",
       "        [[0., 0., 1.],\n",
       "         [0., 0., 1.],\n",
       "         [0., 0., 1.],\n",
       "         [0., 0., 1.],\n",
       "         [0., 0., 1.]],\n",
       "\n",
       "        [[0., 0., 1.],\n",
       "         [0., 0., 1.],\n",
       "         [0., 0., 1.],\n",
       "         [0., 0., 1.],\n",
       "         [0., 0., 1.]],\n",
       "\n",
       "        [[0., 0., 1.],\n",
       "         [0., 0., 1.],\n",
       "         [0., 0., 1.],\n",
       "         [0., 0., 1.],\n",
       "         [0., 0., 1.]],\n",
       "\n",
       "        [[0., 0., 1.],\n",
       "         [0., 0., 1.],\n",
       "         [0., 0., 1.],\n",
       "         [0., 0., 1.],\n",
       "         [0., 0., 1.]],\n",
       "\n",
       "        [[0., 0., 1.],\n",
       "         [0., 0., 1.],\n",
       "         [0., 0., 1.],\n",
       "         [0., 0., 1.],\n",
       "         [0., 0., 1.]]],\n",
       "\n",
       "\n",
       "       [[[0., 0., 1.],\n",
       "         [0., 0., 1.],\n",
       "         [0., 0., 1.],\n",
       "         [0., 0., 1.],\n",
       "         [0., 0., 1.]],\n",
       "\n",
       "        [[0., 0., 1.],\n",
       "         [0., 0., 1.],\n",
       "         [0., 0., 1.],\n",
       "         [0., 0., 1.],\n",
       "         [0., 0., 1.]],\n",
       "\n",
       "        [[0., 0., 1.],\n",
       "         [0., 0., 1.],\n",
       "         [0., 0., 1.],\n",
       "         [0., 0., 1.],\n",
       "         [0., 0., 1.]],\n",
       "\n",
       "        [[0., 0., 1.],\n",
       "         [0., 0., 1.],\n",
       "         [0., 0., 1.],\n",
       "         [0., 0., 1.],\n",
       "         [0., 0., 1.]],\n",
       "\n",
       "        [[0., 0., 1.],\n",
       "         [0., 0., 1.],\n",
       "         [0., 0., 1.],\n",
       "         [0., 0., 1.],\n",
       "         [0., 0., 1.]],\n",
       "\n",
       "        [[0., 0., 1.],\n",
       "         [0., 0., 1.],\n",
       "         [0., 0., 1.],\n",
       "         [0., 0., 1.],\n",
       "         [0., 0., 1.]],\n",
       "\n",
       "        [[0., 0., 1.],\n",
       "         [0., 0., 1.],\n",
       "         [0., 0., 1.],\n",
       "         [0., 0., 1.],\n",
       "         [0., 0., 1.]]],\n",
       "\n",
       "\n",
       "       [[[0., 0., 1.],\n",
       "         [0., 0., 1.],\n",
       "         [0., 0., 1.],\n",
       "         [0., 0., 1.],\n",
       "         [0., 0., 1.]],\n",
       "\n",
       "        [[0., 0., 1.],\n",
       "         [0., 0., 1.],\n",
       "         [0., 0., 1.],\n",
       "         [0., 0., 1.],\n",
       "         [0., 0., 1.]],\n",
       "\n",
       "        [[0., 0., 1.],\n",
       "         [0., 0., 1.],\n",
       "         [0., 0., 1.],\n",
       "         [0., 0., 1.],\n",
       "         [0., 0., 1.]],\n",
       "\n",
       "        [[0., 0., 1.],\n",
       "         [0., 0., 1.],\n",
       "         [0., 0., 1.],\n",
       "         [0., 0., 1.],\n",
       "         [0., 0., 1.]],\n",
       "\n",
       "        [[0., 0., 1.],\n",
       "         [0., 0., 1.],\n",
       "         [0., 0., 1.],\n",
       "         [0., 0., 1.],\n",
       "         [0., 0., 1.]],\n",
       "\n",
       "        [[0., 0., 1.],\n",
       "         [0., 0., 1.],\n",
       "         [0., 0., 1.],\n",
       "         [0., 0., 1.],\n",
       "         [0., 0., 1.]],\n",
       "\n",
       "        [[0., 0., 1.],\n",
       "         [0., 0., 1.],\n",
       "         [0., 0., 1.],\n",
       "         [0., 0., 1.],\n",
       "         [0., 0., 1.]]],\n",
       "\n",
       "\n",
       "       [[[0., 0., 1.],\n",
       "         [0., 0., 1.],\n",
       "         [0., 0., 1.],\n",
       "         [0., 0., 1.],\n",
       "         [0., 0., 1.]],\n",
       "\n",
       "        [[0., 0., 1.],\n",
       "         [0., 0., 1.],\n",
       "         [0., 0., 1.],\n",
       "         [0., 0., 1.],\n",
       "         [0., 0., 1.]],\n",
       "\n",
       "        [[0., 0., 1.],\n",
       "         [0., 0., 1.],\n",
       "         [0., 0., 1.],\n",
       "         [0., 0., 1.],\n",
       "         [0., 0., 1.]],\n",
       "\n",
       "        [[0., 0., 1.],\n",
       "         [0., 0., 1.],\n",
       "         [0., 0., 1.],\n",
       "         [0., 0., 1.],\n",
       "         [0., 0., 1.]],\n",
       "\n",
       "        [[0., 0., 1.],\n",
       "         [0., 0., 1.],\n",
       "         [0., 0., 1.],\n",
       "         [0., 0., 1.],\n",
       "         [0., 0., 1.]],\n",
       "\n",
       "        [[0., 0., 1.],\n",
       "         [0., 0., 1.],\n",
       "         [0., 0., 1.],\n",
       "         [0., 0., 1.],\n",
       "         [0., 0., 1.]],\n",
       "\n",
       "        [[0., 0., 1.],\n",
       "         [0., 0., 1.],\n",
       "         [0., 0., 1.],\n",
       "         [0., 0., 1.],\n",
       "         [0., 0., 1.]]]])"
      ]
     },
     "execution_count": 22,
     "metadata": {},
     "output_type": "execute_result"
    }
   ],
   "source": [
    "field.array"
   ]
  },
  {
   "cell_type": "code",
   "execution_count": 23,
   "metadata": {},
   "outputs": [],
   "source": [
    "field.value = (1, 1, 1)"
   ]
  },
  {
   "cell_type": "code",
   "execution_count": 24,
   "metadata": {},
   "outputs": [
    {
     "data": {
      "text/plain": [
       "(1, 1, 1)"
      ]
     },
     "execution_count": 24,
     "metadata": {},
     "output_type": "execute_result"
    }
   ],
   "source": [
    "field.value"
   ]
  },
  {
   "cell_type": "code",
   "execution_count": 25,
   "metadata": {},
   "outputs": [
    {
     "data": {
      "image/png": "[encoded data removed]",
      "text/plain": [
       "<Figure size 576x432 with 2 Axes>"
      ]
     },
     "metadata": {},
     "output_type": "display_data"
    }
   ],
   "source": [
    "field.plane('z').mpl()"
   ]
  },
  {
   "cell_type": "code",
   "execution_count": 26,
   "metadata": {},
   "outputs": [
    {
     "data": {
      "text/plain": [
       "(1.0, 1.0, 1.0)"
      ]
     },
     "execution_count": 26,
     "metadata": {},
     "output_type": "execute_result"
    }
   ],
   "source": [
    "field.average"
   ]
  },
  {
   "cell_type": "code",
   "execution_count": 27,
   "metadata": {},
   "outputs": [
    {
     "data": {
      "text/plain": [
       "array([[[[1., 1., 1.],\n",
       "         [1., 1., 1.],\n",
       "         [1., 1., 1.],\n",
       "         [1., 1., 1.],\n",
       "         [1., 1., 1.]],\n",
       "\n",
       "        [[1., 1., 1.],\n",
       "         [1., 1., 1.],\n",
       "         [1., 1., 1.],\n",
       "         [1., 1., 1.],\n",
       "         [1., 1., 1.]],\n",
       "\n",
       "        [[1., 1., 1.],\n",
       "         [1., 1., 1.],\n",
       "         [1., 1., 1.],\n",
       "         [1., 1., 1.],\n",
       "         [1., 1., 1.]],\n",
       "\n",
       "        [[1., 1., 1.],\n",
       "         [1., 1., 1.],\n",
       "         [1., 1., 1.],\n",
       "         [1., 1., 1.],\n",
       "         [1., 1., 1.]],\n",
       "\n",
       "        [[1., 1., 1.],\n",
       "         [1., 1., 1.],\n",
       "         [1., 1., 1.],\n",
       "         [1., 1., 1.],\n",
       "         [1., 1., 1.]],\n",
       "\n",
       "        [[1., 1., 1.],\n",
       "         [1., 1., 1.],\n",
       "         [1., 1., 1.],\n",
       "         [1., 1., 1.],\n",
       "         [1., 1., 1.]],\n",
       "\n",
       "        [[1., 1., 1.],\n",
       "         [1., 1., 1.],\n",
       "         [1., 1., 1.],\n",
       "         [1., 1., 1.],\n",
       "         [1., 1., 1.]]],\n",
       "\n",
       "\n",
       "       [[[1., 1., 1.],\n",
       "         [1., 1., 1.],\n",
       "         [1., 1., 1.],\n",
       "         [1., 1., 1.],\n",
       "         [1., 1., 1.]],\n",
       "\n",
       "        [[1., 1., 1.],\n",
       "         [1., 1., 1.],\n",
       "         [1., 1., 1.],\n",
       "         [1., 1., 1.],\n",
       "         [1., 1., 1.]],\n",
       "\n",
       "        [[1., 1., 1.],\n",
       "         [1., 1., 1.],\n",
       "         [1., 1., 1.],\n",
       "         [1., 1., 1.],\n",
       "         [1., 1., 1.]],\n",
       "\n",
       "        [[1., 1., 1.],\n",
       "         [1., 1., 1.],\n",
       "         [1., 1., 1.],\n",
       "         [1., 1., 1.],\n",
       "         [1., 1., 1.]],\n",
       "\n",
       "        [[1., 1., 1.],\n",
       "         [1., 1., 1.],\n",
       "         [1., 1., 1.],\n",
       "         [1., 1., 1.],\n",
       "         [1., 1., 1.]],\n",
       "\n",
       "        [[1., 1., 1.],\n",
       "         [1., 1., 1.],\n",
       "         [1., 1., 1.],\n",
       "         [1., 1., 1.],\n",
       "         [1., 1., 1.]],\n",
       "\n",
       "        [[1., 1., 1.],\n",
       "         [1., 1., 1.],\n",
       "         [1., 1., 1.],\n",
       "         [1., 1., 1.],\n",
       "         [1., 1., 1.]]],\n",
       "\n",
       "\n",
       "       [[[1., 1., 1.],\n",
       "         [1., 1., 1.],\n",
       "         [1., 1., 1.],\n",
       "         [1., 1., 1.],\n",
       "         [1., 1., 1.]],\n",
       "\n",
       "        [[1., 1., 1.],\n",
       "         [1., 1., 1.],\n",
       "         [1., 1., 1.],\n",
       "         [1., 1., 1.],\n",
       "         [1., 1., 1.]],\n",
       "\n",
       "        [[1., 1., 1.],\n",
       "         [1., 1., 1.],\n",
       "         [1., 1., 1.],\n",
       "         [1., 1., 1.],\n",
       "         [1., 1., 1.]],\n",
       "\n",
       "        [[1., 1., 1.],\n",
       "         [1., 1., 1.],\n",
       "         [1., 1., 1.],\n",
       "         [1., 1., 1.],\n",
       "         [1., 1., 1.]],\n",
       "\n",
       "        [[1., 1., 1.],\n",
       "         [1., 1., 1.],\n",
       "         [1., 1., 1.],\n",
       "         [1., 1., 1.],\n",
       "         [1., 1., 1.]],\n",
       "\n",
       "        [[1., 1., 1.],\n",
       "         [1., 1., 1.],\n",
       "         [1., 1., 1.],\n",
       "         [1., 1., 1.],\n",
       "         [1., 1., 1.]],\n",
       "\n",
       "        [[1., 1., 1.],\n",
       "         [1., 1., 1.],\n",
       "         [1., 1., 1.],\n",
       "         [1., 1., 1.],\n",
       "         [1., 1., 1.]]],\n",
       "\n",
       "\n",
       "       [[[1., 1., 1.],\n",
       "         [1., 1., 1.],\n",
       "         [1., 1., 1.],\n",
       "         [1., 1., 1.],\n",
       "         [1., 1., 1.]],\n",
       "\n",
       "        [[1., 1., 1.],\n",
       "         [1., 1., 1.],\n",
       "         [1., 1., 1.],\n",
       "         [1., 1., 1.],\n",
       "         [1., 1., 1.]],\n",
       "\n",
       "        [[1., 1., 1.],\n",
       "         [1., 1., 1.],\n",
       "         [1., 1., 1.],\n",
       "         [1., 1., 1.],\n",
       "         [1., 1., 1.]],\n",
       "\n",
       "        [[1., 1., 1.],\n",
       "         [1., 1., 1.],\n",
       "         [1., 1., 1.],\n",
       "         [1., 1., 1.],\n",
       "         [1., 1., 1.]],\n",
       "\n",
       "        [[1., 1., 1.],\n",
       "         [1., 1., 1.],\n",
       "         [1., 1., 1.],\n",
       "         [1., 1., 1.],\n",
       "         [1., 1., 1.]],\n",
       "\n",
       "        [[1., 1., 1.],\n",
       "         [1., 1., 1.],\n",
       "         [1., 1., 1.],\n",
       "         [1., 1., 1.],\n",
       "         [1., 1., 1.]],\n",
       "\n",
       "        [[1., 1., 1.],\n",
       "         [1., 1., 1.],\n",
       "         [1., 1., 1.],\n",
       "         [1., 1., 1.],\n",
       "         [1., 1., 1.]]],\n",
       "\n",
       "\n",
       "       [[[1., 1., 1.],\n",
       "         [1., 1., 1.],\n",
       "         [1., 1., 1.],\n",
       "         [1., 1., 1.],\n",
       "         [1., 1., 1.]],\n",
       "\n",
       "        [[1., 1., 1.],\n",
       "         [1., 1., 1.],\n",
       "         [1., 1., 1.],\n",
       "         [1., 1., 1.],\n",
       "         [1., 1., 1.]],\n",
       "\n",
       "        [[1., 1., 1.],\n",
       "         [1., 1., 1.],\n",
       "         [1., 1., 1.],\n",
       "         [1., 1., 1.],\n",
       "         [1., 1., 1.]],\n",
       "\n",
       "        [[1., 1., 1.],\n",
       "         [1., 1., 1.],\n",
       "         [1., 1., 1.],\n",
       "         [1., 1., 1.],\n",
       "         [1., 1., 1.]],\n",
       "\n",
       "        [[1., 1., 1.],\n",
       "         [1., 1., 1.],\n",
       "         [1., 1., 1.],\n",
       "         [1., 1., 1.],\n",
       "         [1., 1., 1.]],\n",
       "\n",
       "        [[1., 1., 1.],\n",
       "         [1., 1., 1.],\n",
       "         [1., 1., 1.],\n",
       "         [1., 1., 1.],\n",
       "         [1., 1., 1.]],\n",
       "\n",
       "        [[1., 1., 1.],\n",
       "         [1., 1., 1.],\n",
       "         [1., 1., 1.],\n",
       "         [1., 1., 1.],\n",
       "         [1., 1., 1.]]],\n",
       "\n",
       "\n",
       "       [[[1., 1., 1.],\n",
       "         [1., 1., 1.],\n",
       "         [1., 1., 1.],\n",
       "         [1., 1., 1.],\n",
       "         [1., 1., 1.]],\n",
       "\n",
       "        [[1., 1., 1.],\n",
       "         [1., 1., 1.],\n",
       "         [1., 1., 1.],\n",
       "         [1., 1., 1.],\n",
       "         [1., 1., 1.]],\n",
       "\n",
       "        [[1., 1., 1.],\n",
       "         [1., 1., 1.],\n",
       "         [1., 1., 1.],\n",
       "         [1., 1., 1.],\n",
       "         [1., 1., 1.]],\n",
       "\n",
       "        [[1., 1., 1.],\n",
       "         [1., 1., 1.],\n",
       "         [1., 1., 1.],\n",
       "         [1., 1., 1.],\n",
       "         [1., 1., 1.]],\n",
       "\n",
       "        [[1., 1., 1.],\n",
       "         [1., 1., 1.],\n",
       "         [1., 1., 1.],\n",
       "         [1., 1., 1.],\n",
       "         [1., 1., 1.]],\n",
       "\n",
       "        [[1., 1., 1.],\n",
       "         [1., 1., 1.],\n",
       "         [1., 1., 1.],\n",
       "         [1., 1., 1.],\n",
       "         [1., 1., 1.]],\n",
       "\n",
       "        [[1., 1., 1.],\n",
       "         [1., 1., 1.],\n",
       "         [1., 1., 1.],\n",
       "         [1., 1., 1.],\n",
       "         [1., 1., 1.]]]])"
      ]
     },
     "execution_count": 27,
     "metadata": {},
     "output_type": "execute_result"
    }
   ],
   "source": [
    "field.array"
   ]
  },
  {
   "cell_type": "code",
   "execution_count": 28,
   "metadata": {},
   "outputs": [],
   "source": [
    "field.array[:, :, :, 0] = 4"
   ]
  },
  {
   "cell_type": "code",
   "execution_count": 29,
   "metadata": {},
   "outputs": [
    {
     "data": {
      "text/plain": [
       "(4.0, 1.0, 1.0)"
      ]
     },
     "execution_count": 29,
     "metadata": {},
     "output_type": "execute_result"
    }
   ],
   "source": [
    "field.average"
   ]
  },
  {
   "cell_type": "code",
   "execution_count": 30,
   "metadata": {},
   "outputs": [
    {
     "data": {
      "text/plain": [
       "array([[[[4., 1., 1.],\n",
       "         [4., 1., 1.],\n",
       "         [4., 1., 1.],\n",
       "         [4., 1., 1.],\n",
       "         [4., 1., 1.]],\n",
       "\n",
       "        [[4., 1., 1.],\n",
       "         [4., 1., 1.],\n",
       "         [4., 1., 1.],\n",
       "         [4., 1., 1.],\n",
       "         [4., 1., 1.]],\n",
       "\n",
       "        [[4., 1., 1.],\n",
       "         [4., 1., 1.],\n",
       "         [4., 1., 1.],\n",
       "         [4., 1., 1.],\n",
       "         [4., 1., 1.]],\n",
       "\n",
       "        [[4., 1., 1.],\n",
       "         [4., 1., 1.],\n",
       "         [4., 1., 1.],\n",
       "         [4., 1., 1.],\n",
       "         [4., 1., 1.]],\n",
       "\n",
       "        [[4., 1., 1.],\n",
       "         [4., 1., 1.],\n",
       "         [4., 1., 1.],\n",
       "         [4., 1., 1.],\n",
       "         [4., 1., 1.]],\n",
       "\n",
       "        [[4., 1., 1.],\n",
       "         [4., 1., 1.],\n",
       "         [4., 1., 1.],\n",
       "         [4., 1., 1.],\n",
       "         [4., 1., 1.]],\n",
       "\n",
       "        [[4., 1., 1.],\n",
       "         [4., 1., 1.],\n",
       "         [4., 1., 1.],\n",
       "         [4., 1., 1.],\n",
       "         [4., 1., 1.]]],\n",
       "\n",
       "\n",
       "       [[[4., 1., 1.],\n",
       "         [4., 1., 1.],\n",
       "         [4., 1., 1.],\n",
       "         [4., 1., 1.],\n",
       "         [4., 1., 1.]],\n",
       "\n",
       "        [[4., 1., 1.],\n",
       "         [4., 1., 1.],\n",
       "         [4., 1., 1.],\n",
       "         [4., 1., 1.],\n",
       "         [4., 1., 1.]],\n",
       "\n",
       "        [[4., 1., 1.],\n",
       "         [4., 1., 1.],\n",
       "         [4., 1., 1.],\n",
       "         [4., 1., 1.],\n",
       "         [4., 1., 1.]],\n",
       "\n",
       "        [[4., 1., 1.],\n",
       "         [4., 1., 1.],\n",
       "         [4., 1., 1.],\n",
       "         [4., 1., 1.],\n",
       "         [4., 1., 1.]],\n",
       "\n",
       "        [[4., 1., 1.],\n",
       "         [4., 1., 1.],\n",
       "         [4., 1., 1.],\n",
       "         [4., 1., 1.],\n",
       "         [4., 1., 1.]],\n",
       "\n",
       "        [[4., 1., 1.],\n",
       "         [4., 1., 1.],\n",
       "         [4., 1., 1.],\n",
       "         [4., 1., 1.],\n",
       "         [4., 1., 1.]],\n",
       "\n",
       "        [[4., 1., 1.],\n",
       "         [4., 1., 1.],\n",
       "         [4., 1., 1.],\n",
       "         [4., 1., 1.],\n",
       "         [4., 1., 1.]]],\n",
       "\n",
       "\n",
       "       [[[4., 1., 1.],\n",
       "         [4., 1., 1.],\n",
       "         [4., 1., 1.],\n",
       "         [4., 1., 1.],\n",
       "         [4., 1., 1.]],\n",
       "\n",
       "        [[4., 1., 1.],\n",
       "         [4., 1., 1.],\n",
       "         [4., 1., 1.],\n",
       "         [4., 1., 1.],\n",
       "         [4., 1., 1.]],\n",
       "\n",
       "        [[4., 1., 1.],\n",
       "         [4., 1., 1.],\n",
       "         [4., 1., 1.],\n",
       "         [4., 1., 1.],\n",
       "         [4., 1., 1.]],\n",
       "\n",
       "        [[4., 1., 1.],\n",
       "         [4., 1., 1.],\n",
       "         [4., 1., 1.],\n",
       "         [4., 1., 1.],\n",
       "         [4., 1., 1.]],\n",
       "\n",
       "        [[4., 1., 1.],\n",
       "         [4., 1., 1.],\n",
       "         [4., 1., 1.],\n",
       "         [4., 1., 1.],\n",
       "         [4., 1., 1.]],\n",
       "\n",
       "        [[4., 1., 1.],\n",
       "         [4., 1., 1.],\n",
       "         [4., 1., 1.],\n",
       "         [4., 1., 1.],\n",
       "         [4., 1., 1.]],\n",
       "\n",
       "        [[4., 1., 1.],\n",
       "         [4., 1., 1.],\n",
       "         [4., 1., 1.],\n",
       "         [4., 1., 1.],\n",
       "         [4., 1., 1.]]],\n",
       "\n",
       "\n",
       "       [[[4., 1., 1.],\n",
       "         [4., 1., 1.],\n",
       "         [4., 1., 1.],\n",
       "         [4., 1., 1.],\n",
       "         [4., 1., 1.]],\n",
       "\n",
       "        [[4., 1., 1.],\n",
       "         [4., 1., 1.],\n",
       "         [4., 1., 1.],\n",
       "         [4., 1., 1.],\n",
       "         [4., 1., 1.]],\n",
       "\n",
       "        [[4., 1., 1.],\n",
       "         [4., 1., 1.],\n",
       "         [4., 1., 1.],\n",
       "         [4., 1., 1.],\n",
       "         [4., 1., 1.]],\n",
       "\n",
       "        [[4., 1., 1.],\n",
       "         [4., 1., 1.],\n",
       "         [4., 1., 1.],\n",
       "         [4., 1., 1.],\n",
       "         [4., 1., 1.]],\n",
       "\n",
       "        [[4., 1., 1.],\n",
       "         [4., 1., 1.],\n",
       "         [4., 1., 1.],\n",
       "         [4., 1., 1.],\n",
       "         [4., 1., 1.]],\n",
       "\n",
       "        [[4., 1., 1.],\n",
       "         [4., 1., 1.],\n",
       "         [4., 1., 1.],\n",
       "         [4., 1., 1.],\n",
       "         [4., 1., 1.]],\n",
       "\n",
       "        [[4., 1., 1.],\n",
       "         [4., 1., 1.],\n",
       "         [4., 1., 1.],\n",
       "         [4., 1., 1.],\n",
       "         [4., 1., 1.]]],\n",
       "\n",
       "\n",
       "       [[[4., 1., 1.],\n",
       "         [4., 1., 1.],\n",
       "         [4., 1., 1.],\n",
       "         [4., 1., 1.],\n",
       "         [4., 1., 1.]],\n",
       "\n",
       "        [[4., 1., 1.],\n",
       "         [4., 1., 1.],\n",
       "         [4., 1., 1.],\n",
       "         [4., 1., 1.],\n",
       "         [4., 1., 1.]],\n",
       "\n",
       "        [[4., 1., 1.],\n",
       "         [4., 1., 1.],\n",
       "         [4., 1., 1.],\n",
       "         [4., 1., 1.],\n",
       "         [4., 1., 1.]],\n",
       "\n",
       "        [[4., 1., 1.],\n",
       "         [4., 1., 1.],\n",
       "         [4., 1., 1.],\n",
       "         [4., 1., 1.],\n",
       "         [4., 1., 1.]],\n",
       "\n",
       "        [[4., 1., 1.],\n",
       "         [4., 1., 1.],\n",
       "         [4., 1., 1.],\n",
       "         [4., 1., 1.],\n",
       "         [4., 1., 1.]],\n",
       "\n",
       "        [[4., 1., 1.],\n",
       "         [4., 1., 1.],\n",
       "         [4., 1., 1.],\n",
       "         [4., 1., 1.],\n",
       "         [4., 1., 1.]],\n",
       "\n",
       "        [[4., 1., 1.],\n",
       "         [4., 1., 1.],\n",
       "         [4., 1., 1.],\n",
       "         [4., 1., 1.],\n",
       "         [4., 1., 1.]]],\n",
       "\n",
       "\n",
       "       [[[4., 1., 1.],\n",
       "         [4., 1., 1.],\n",
       "         [4., 1., 1.],\n",
       "         [4., 1., 1.],\n",
       "         [4., 1., 1.]],\n",
       "\n",
       "        [[4., 1., 1.],\n",
       "         [4., 1., 1.],\n",
       "         [4., 1., 1.],\n",
       "         [4., 1., 1.],\n",
       "         [4., 1., 1.]],\n",
       "\n",
       "        [[4., 1., 1.],\n",
       "         [4., 1., 1.],\n",
       "         [4., 1., 1.],\n",
       "         [4., 1., 1.],\n",
       "         [4., 1., 1.]],\n",
       "\n",
       "        [[4., 1., 1.],\n",
       "         [4., 1., 1.],\n",
       "         [4., 1., 1.],\n",
       "         [4., 1., 1.],\n",
       "         [4., 1., 1.]],\n",
       "\n",
       "        [[4., 1., 1.],\n",
       "         [4., 1., 1.],\n",
       "         [4., 1., 1.],\n",
       "         [4., 1., 1.],\n",
       "         [4., 1., 1.]],\n",
       "\n",
       "        [[4., 1., 1.],\n",
       "         [4., 1., 1.],\n",
       "         [4., 1., 1.],\n",
       "         [4., 1., 1.],\n",
       "         [4., 1., 1.]],\n",
       "\n",
       "        [[4., 1., 1.],\n",
       "         [4., 1., 1.],\n",
       "         [4., 1., 1.],\n",
       "         [4., 1., 1.],\n",
       "         [4., 1., 1.]]]])"
      ]
     },
     "execution_count": 30,
     "metadata": {},
     "output_type": "execute_result"
    }
   ],
   "source": [
    "field.value"
   ]
  },
  {
   "cell_type": "code",
   "execution_count": 31,
   "metadata": {},
   "outputs": [
    {
     "data": {
      "text/plain": [
       "True"
      ]
     },
     "execution_count": 31,
     "metadata": {},
     "output_type": "execute_result"
    }
   ],
   "source": [
    "field == df.Field(mesh, dim=3, value = (4, 1, 1))"
   ]
  },
  {
   "cell_type": "code",
   "execution_count": 32,
   "metadata": {},
   "outputs": [
    {
     "data": {
      "text/plain": [
       "False"
      ]
     },
     "execution_count": 32,
     "metadata": {},
     "output_type": "execute_result"
    }
   ],
   "source": [
    "field != df.Field(mesh, dim=3, value = (4, 1, 1))"
   ]
  },
  {
   "cell_type": "code",
   "execution_count": 33,
   "metadata": {},
   "outputs": [
    {
     "data": {
      "text/plain": [
       "Field(mesh=Mesh(region=Region(p1=(0, 0, 0), p2=(6, 7, 5)), n=(6, 7, 5), bc='', subregions={'r1': Region(p1=(0, 0, 0), p2=(5, 5, 2)), 'r2': Region(p1=(0, 0, 2), p2=(5, 5, 5))}), dim=1)"
      ]
     },
     "execution_count": 33,
     "metadata": {},
     "output_type": "execute_result"
    }
   ],
   "source": [
    "field.norm"
   ]
  },
  {
   "cell_type": "code",
   "execution_count": 34,
   "metadata": {},
   "outputs": [
    {
     "data": {
      "text/plain": [
       "1"
      ]
     },
     "execution_count": 34,
     "metadata": {},
     "output_type": "execute_result"
    }
   ],
   "source": [
    "field.norm.dim"
   ]
  },
  {
   "cell_type": "code",
   "execution_count": 35,
   "metadata": {},
   "outputs": [
    {
     "data": {
      "text/plain": [
       "4.242640687119284"
      ]
     },
     "execution_count": 35,
     "metadata": {},
     "output_type": "execute_result"
    }
   ],
   "source": [
    "field.norm.average"
   ]
  },
  {
   "cell_type": "code",
   "execution_count": 36,
   "metadata": {},
   "outputs": [],
   "source": [
    "field.norm = 2"
   ]
  },
  {
   "cell_type": "code",
   "execution_count": 37,
   "metadata": {},
   "outputs": [
    {
     "data": {
      "text/plain": [
       "2.0"
      ]
     },
     "execution_count": 37,
     "metadata": {},
     "output_type": "execute_result"
    }
   ],
   "source": [
    "field.norm.average"
   ]
  },
  {
   "cell_type": "code",
   "execution_count": 38,
   "metadata": {},
   "outputs": [
    {
     "data": {
      "text/plain": [
       "(1.8856180831641214, 0.47140452079103035, 0.47140452079103035)"
      ]
     },
     "execution_count": 38,
     "metadata": {},
     "output_type": "execute_result"
    }
   ],
   "source": [
    "field.average"
   ]
  },
  {
   "cell_type": "code",
   "execution_count": 39,
   "metadata": {},
   "outputs": [
    {
     "data": {
      "text/plain": [
       "True"
      ]
     },
     "execution_count": 39,
     "metadata": {},
     "output_type": "execute_result"
    }
   ],
   "source": [
    "abs(field) == field.norm"
   ]
  },
  {
   "cell_type": "code",
   "execution_count": 40,
   "metadata": {},
   "outputs": [
    {
     "data": {
      "text/plain": [
       "Field(mesh=Mesh(region=Region(p1=(0, 0, 0), p2=(6, 7, 5)), n=(6, 7, 5), bc='', subregions={'r1': Region(p1=(0, 0, 0), p2=(5, 5, 2)), 'r2': Region(p1=(0, 0, 2), p2=(5, 5, 5))}), dim=3)"
      ]
     },
     "execution_count": 40,
     "metadata": {},
     "output_type": "execute_result"
    }
   ],
   "source": [
    "field.orientation"
   ]
  },
  {
   "cell_type": "code",
   "execution_count": 41,
   "metadata": {},
   "outputs": [
    {
     "data": {
      "text/plain": [
       "1.0"
      ]
     },
     "execution_count": 41,
     "metadata": {},
     "output_type": "execute_result"
    }
   ],
   "source": [
    "field.orientation.norm.average"
   ]
  },
  {
   "cell_type": "code",
   "execution_count": 42,
   "metadata": {},
   "outputs": [
    {
     "data": {
      "text/plain": [
       "Field(mesh=Mesh(region=Region(p1=(0, 0, 0), p2=(6, 7, 5)), n=(6, 7, 5), bc='', subregions={'r1': Region(p1=(0, 0, 0), p2=(5, 5, 2)), 'r2': Region(p1=(0, 0, 2), p2=(5, 5, 5))}), dim=3)"
      ]
     },
     "execution_count": 42,
     "metadata": {},
     "output_type": "execute_result"
    }
   ],
   "source": [
    "field"
   ]
  },
  {
   "cell_type": "code",
   "execution_count": 43,
   "metadata": {},
   "outputs": [
    {
     "data": {
      "text/plain": [
       "(1.885618083164127, 0.47140452079103173, 0.47140452079103173)"
      ]
     },
     "execution_count": 43,
     "metadata": {},
     "output_type": "execute_result"
    }
   ],
   "source": [
    "field((3, 2, 2))"
   ]
  },
  {
   "cell_type": "code",
   "execution_count": 44,
   "metadata": {},
   "outputs": [
    {
     "data": {
      "text/plain": [
       "Field(mesh=Mesh(region=Region(p1=(0, 0, 0), p2=(5, 5, 2)), n=(5, 5, 2), bc='', subregions={}), dim=3)"
      ]
     },
     "execution_count": 44,
     "metadata": {},
     "output_type": "execute_result"
    }
   ],
   "source": [
    "field['r1']"
   ]
  },
  {
   "cell_type": "code",
   "execution_count": 45,
   "metadata": {},
   "outputs": [],
   "source": [
    "field.value = (1, 1, 1)"
   ]
  },
  {
   "cell_type": "code",
   "execution_count": 46,
   "metadata": {},
   "outputs": [
    {
     "data": {
      "text/plain": [
       "[((0.5, 0.5, 0.5), (1.0, 1.0, 1.0)),\n",
       " ((1.5, 0.5, 0.5), (1.0, 1.0, 1.0)),\n",
       " ((2.5, 0.5, 0.5), (1.0, 1.0, 1.0)),\n",
       " ((3.5, 0.5, 0.5), (1.0, 1.0, 1.0)),\n",
       " ((4.5, 0.5, 0.5), (1.0, 1.0, 1.0)),\n",
       " ((5.5, 0.5, 0.5), (1.0, 1.0, 1.0)),\n",
       " ((0.5, 1.5, 0.5), (1.0, 1.0, 1.0)),\n",
       " ((1.5, 1.5, 0.5), (1.0, 1.0, 1.0)),\n",
       " ((2.5, 1.5, 0.5), (1.0, 1.0, 1.0)),\n",
       " ((3.5, 1.5, 0.5), (1.0, 1.0, 1.0)),\n",
       " ((4.5, 1.5, 0.5), (1.0, 1.0, 1.0)),\n",
       " ((5.5, 1.5, 0.5), (1.0, 1.0, 1.0)),\n",
       " ((0.5, 2.5, 0.5), (1.0, 1.0, 1.0)),\n",
       " ((1.5, 2.5, 0.5), (1.0, 1.0, 1.0)),\n",
       " ((2.5, 2.5, 0.5), (1.0, 1.0, 1.0)),\n",
       " ((3.5, 2.5, 0.5), (1.0, 1.0, 1.0)),\n",
       " ((4.5, 2.5, 0.5), (1.0, 1.0, 1.0)),\n",
       " ((5.5, 2.5, 0.5), (1.0, 1.0, 1.0)),\n",
       " ((0.5, 3.5, 0.5), (1.0, 1.0, 1.0)),\n",
       " ((1.5, 3.5, 0.5), (1.0, 1.0, 1.0)),\n",
       " ((2.5, 3.5, 0.5), (1.0, 1.0, 1.0)),\n",
       " ((3.5, 3.5, 0.5), (1.0, 1.0, 1.0)),\n",
       " ((4.5, 3.5, 0.5), (1.0, 1.0, 1.0)),\n",
       " ((5.5, 3.5, 0.5), (1.0, 1.0, 1.0)),\n",
       " ((0.5, 4.5, 0.5), (1.0, 1.0, 1.0)),\n",
       " ((1.5, 4.5, 0.5), (1.0, 1.0, 1.0)),\n",
       " ((2.5, 4.5, 0.5), (1.0, 1.0, 1.0)),\n",
       " ((3.5, 4.5, 0.5), (1.0, 1.0, 1.0)),\n",
       " ((4.5, 4.5, 0.5), (1.0, 1.0, 1.0)),\n",
       " ((5.5, 4.5, 0.5), (1.0, 1.0, 1.0)),\n",
       " ((0.5, 5.5, 0.5), (1.0, 1.0, 1.0)),\n",
       " ((1.5, 5.5, 0.5), (1.0, 1.0, 1.0)),\n",
       " ((2.5, 5.5, 0.5), (1.0, 1.0, 1.0)),\n",
       " ((3.5, 5.5, 0.5), (1.0, 1.0, 1.0)),\n",
       " ((4.5, 5.5, 0.5), (1.0, 1.0, 1.0)),\n",
       " ((5.5, 5.5, 0.5), (1.0, 1.0, 1.0)),\n",
       " ((0.5, 6.5, 0.5), (1.0, 1.0, 1.0)),\n",
       " ((1.5, 6.5, 0.5), (1.0, 1.0, 1.0)),\n",
       " ((2.5, 6.5, 0.5), (1.0, 1.0, 1.0)),\n",
       " ((3.5, 6.5, 0.5), (1.0, 1.0, 1.0)),\n",
       " ((4.5, 6.5, 0.5), (1.0, 1.0, 1.0)),\n",
       " ((5.5, 6.5, 0.5), (1.0, 1.0, 1.0)),\n",
       " ((0.5, 0.5, 1.5), (1.0, 1.0, 1.0)),\n",
       " ((1.5, 0.5, 1.5), (1.0, 1.0, 1.0)),\n",
       " ((2.5, 0.5, 1.5), (1.0, 1.0, 1.0)),\n",
       " ((3.5, 0.5, 1.5), (1.0, 1.0, 1.0)),\n",
       " ((4.5, 0.5, 1.5), (1.0, 1.0, 1.0)),\n",
       " ((5.5, 0.5, 1.5), (1.0, 1.0, 1.0)),\n",
       " ((0.5, 1.5, 1.5), (1.0, 1.0, 1.0)),\n",
       " ((1.5, 1.5, 1.5), (1.0, 1.0, 1.0)),\n",
       " ((2.5, 1.5, 1.5), (1.0, 1.0, 1.0)),\n",
       " ((3.5, 1.5, 1.5), (1.0, 1.0, 1.0)),\n",
       " ((4.5, 1.5, 1.5), (1.0, 1.0, 1.0)),\n",
       " ((5.5, 1.5, 1.5), (1.0, 1.0, 1.0)),\n",
       " ((0.5, 2.5, 1.5), (1.0, 1.0, 1.0)),\n",
       " ((1.5, 2.5, 1.5), (1.0, 1.0, 1.0)),\n",
       " ((2.5, 2.5, 1.5), (1.0, 1.0, 1.0)),\n",
       " ((3.5, 2.5, 1.5), (1.0, 1.0, 1.0)),\n",
       " ((4.5, 2.5, 1.5), (1.0, 1.0, 1.0)),\n",
       " ((5.5, 2.5, 1.5), (1.0, 1.0, 1.0)),\n",
       " ((0.5, 3.5, 1.5), (1.0, 1.0, 1.0)),\n",
       " ((1.5, 3.5, 1.5), (1.0, 1.0, 1.0)),\n",
       " ((2.5, 3.5, 1.5), (1.0, 1.0, 1.0)),\n",
       " ((3.5, 3.5, 1.5), (1.0, 1.0, 1.0)),\n",
       " ((4.5, 3.5, 1.5), (1.0, 1.0, 1.0)),\n",
       " ((5.5, 3.5, 1.5), (1.0, 1.0, 1.0)),\n",
       " ((0.5, 4.5, 1.5), (1.0, 1.0, 1.0)),\n",
       " ((1.5, 4.5, 1.5), (1.0, 1.0, 1.0)),\n",
       " ((2.5, 4.5, 1.5), (1.0, 1.0, 1.0)),\n",
       " ((3.5, 4.5, 1.5), (1.0, 1.0, 1.0)),\n",
       " ((4.5, 4.5, 1.5), (1.0, 1.0, 1.0)),\n",
       " ((5.5, 4.5, 1.5), (1.0, 1.0, 1.0)),\n",
       " ((0.5, 5.5, 1.5), (1.0, 1.0, 1.0)),\n",
       " ((1.5, 5.5, 1.5), (1.0, 1.0, 1.0)),\n",
       " ((2.5, 5.5, 1.5), (1.0, 1.0, 1.0)),\n",
       " ((3.5, 5.5, 1.5), (1.0, 1.0, 1.0)),\n",
       " ((4.5, 5.5, 1.5), (1.0, 1.0, 1.0)),\n",
       " ((5.5, 5.5, 1.5), (1.0, 1.0, 1.0)),\n",
       " ((0.5, 6.5, 1.5), (1.0, 1.0, 1.0)),\n",
       " ((1.5, 6.5, 1.5), (1.0, 1.0, 1.0)),\n",
       " ((2.5, 6.5, 1.5), (1.0, 1.0, 1.0)),\n",
       " ((3.5, 6.5, 1.5), (1.0, 1.0, 1.0)),\n",
       " ((4.5, 6.5, 1.5), (1.0, 1.0, 1.0)),\n",
       " ((5.5, 6.5, 1.5), (1.0, 1.0, 1.0)),\n",
       " ((0.5, 0.5, 2.5), (1.0, 1.0, 1.0)),\n",
       " ((1.5, 0.5, 2.5), (1.0, 1.0, 1.0)),\n",
       " ((2.5, 0.5, 2.5), (1.0, 1.0, 1.0)),\n",
       " ((3.5, 0.5, 2.5), (1.0, 1.0, 1.0)),\n",
       " ((4.5, 0.5, 2.5), (1.0, 1.0, 1.0)),\n",
       " ((5.5, 0.5, 2.5), (1.0, 1.0, 1.0)),\n",
       " ((0.5, 1.5, 2.5), (1.0, 1.0, 1.0)),\n",
       " ((1.5, 1.5, 2.5), (1.0, 1.0, 1.0)),\n",
       " ((2.5, 1.5, 2.5), (1.0, 1.0, 1.0)),\n",
       " ((3.5, 1.5, 2.5), (1.0, 1.0, 1.0)),\n",
       " ((4.5, 1.5, 2.5), (1.0, 1.0, 1.0)),\n",
       " ((5.5, 1.5, 2.5), (1.0, 1.0, 1.0)),\n",
       " ((0.5, 2.5, 2.5), (1.0, 1.0, 1.0)),\n",
       " ((1.5, 2.5, 2.5), (1.0, 1.0, 1.0)),\n",
       " ((2.5, 2.5, 2.5), (1.0, 1.0, 1.0)),\n",
       " ((3.5, 2.5, 2.5), (1.0, 1.0, 1.0)),\n",
       " ((4.5, 2.5, 2.5), (1.0, 1.0, 1.0)),\n",
       " ((5.5, 2.5, 2.5), (1.0, 1.0, 1.0)),\n",
       " ((0.5, 3.5, 2.5), (1.0, 1.0, 1.0)),\n",
       " ((1.5, 3.5, 2.5), (1.0, 1.0, 1.0)),\n",
       " ((2.5, 3.5, 2.5), (1.0, 1.0, 1.0)),\n",
       " ((3.5, 3.5, 2.5), (1.0, 1.0, 1.0)),\n",
       " ((4.5, 3.5, 2.5), (1.0, 1.0, 1.0)),\n",
       " ((5.5, 3.5, 2.5), (1.0, 1.0, 1.0)),\n",
       " ((0.5, 4.5, 2.5), (1.0, 1.0, 1.0)),\n",
       " ((1.5, 4.5, 2.5), (1.0, 1.0, 1.0)),\n",
       " ((2.5, 4.5, 2.5), (1.0, 1.0, 1.0)),\n",
       " ((3.5, 4.5, 2.5), (1.0, 1.0, 1.0)),\n",
       " ((4.5, 4.5, 2.5), (1.0, 1.0, 1.0)),\n",
       " ((5.5, 4.5, 2.5), (1.0, 1.0, 1.0)),\n",
       " ((0.5, 5.5, 2.5), (1.0, 1.0, 1.0)),\n",
       " ((1.5, 5.5, 2.5), (1.0, 1.0, 1.0)),\n",
       " ((2.5, 5.5, 2.5), (1.0, 1.0, 1.0)),\n",
       " ((3.5, 5.5, 2.5), (1.0, 1.0, 1.0)),\n",
       " ((4.5, 5.5, 2.5), (1.0, 1.0, 1.0)),\n",
       " ((5.5, 5.5, 2.5), (1.0, 1.0, 1.0)),\n",
       " ((0.5, 6.5, 2.5), (1.0, 1.0, 1.0)),\n",
       " ((1.5, 6.5, 2.5), (1.0, 1.0, 1.0)),\n",
       " ((2.5, 6.5, 2.5), (1.0, 1.0, 1.0)),\n",
       " ((3.5, 6.5, 2.5), (1.0, 1.0, 1.0)),\n",
       " ((4.5, 6.5, 2.5), (1.0, 1.0, 1.0)),\n",
       " ((5.5, 6.5, 2.5), (1.0, 1.0, 1.0)),\n",
       " ((0.5, 0.5, 3.5), (1.0, 1.0, 1.0)),\n",
       " ((1.5, 0.5, 3.5), (1.0, 1.0, 1.0)),\n",
       " ((2.5, 0.5, 3.5), (1.0, 1.0, 1.0)),\n",
       " ((3.5, 0.5, 3.5), (1.0, 1.0, 1.0)),\n",
       " ((4.5, 0.5, 3.5), (1.0, 1.0, 1.0)),\n",
       " ((5.5, 0.5, 3.5), (1.0, 1.0, 1.0)),\n",
       " ((0.5, 1.5, 3.5), (1.0, 1.0, 1.0)),\n",
       " ((1.5, 1.5, 3.5), (1.0, 1.0, 1.0)),\n",
       " ((2.5, 1.5, 3.5), (1.0, 1.0, 1.0)),\n",
       " ((3.5, 1.5, 3.5), (1.0, 1.0, 1.0)),\n",
       " ((4.5, 1.5, 3.5), (1.0, 1.0, 1.0)),\n",
       " ((5.5, 1.5, 3.5), (1.0, 1.0, 1.0)),\n",
       " ((0.5, 2.5, 3.5), (1.0, 1.0, 1.0)),\n",
       " ((1.5, 2.5, 3.5), (1.0, 1.0, 1.0)),\n",
       " ((2.5, 2.5, 3.5), (1.0, 1.0, 1.0)),\n",
       " ((3.5, 2.5, 3.5), (1.0, 1.0, 1.0)),\n",
       " ((4.5, 2.5, 3.5), (1.0, 1.0, 1.0)),\n",
       " ((5.5, 2.5, 3.5), (1.0, 1.0, 1.0)),\n",
       " ((0.5, 3.5, 3.5), (1.0, 1.0, 1.0)),\n",
       " ((1.5, 3.5, 3.5), (1.0, 1.0, 1.0)),\n",
       " ((2.5, 3.5, 3.5), (1.0, 1.0, 1.0)),\n",
       " ((3.5, 3.5, 3.5), (1.0, 1.0, 1.0)),\n",
       " ((4.5, 3.5, 3.5), (1.0, 1.0, 1.0)),\n",
       " ((5.5, 3.5, 3.5), (1.0, 1.0, 1.0)),\n",
       " ((0.5, 4.5, 3.5), (1.0, 1.0, 1.0)),\n",
       " ((1.5, 4.5, 3.5), (1.0, 1.0, 1.0)),\n",
       " ((2.5, 4.5, 3.5), (1.0, 1.0, 1.0)),\n",
       " ((3.5, 4.5, 3.5), (1.0, 1.0, 1.0)),\n",
       " ((4.5, 4.5, 3.5), (1.0, 1.0, 1.0)),\n",
       " ((5.5, 4.5, 3.5), (1.0, 1.0, 1.0)),\n",
       " ((0.5, 5.5, 3.5), (1.0, 1.0, 1.0)),\n",
       " ((1.5, 5.5, 3.5), (1.0, 1.0, 1.0)),\n",
       " ((2.5, 5.5, 3.5), (1.0, 1.0, 1.0)),\n",
       " ((3.5, 5.5, 3.5), (1.0, 1.0, 1.0)),\n",
       " ((4.5, 5.5, 3.5), (1.0, 1.0, 1.0)),\n",
       " ((5.5, 5.5, 3.5), (1.0, 1.0, 1.0)),\n",
       " ((0.5, 6.5, 3.5), (1.0, 1.0, 1.0)),\n",
       " ((1.5, 6.5, 3.5), (1.0, 1.0, 1.0)),\n",
       " ((2.5, 6.5, 3.5), (1.0, 1.0, 1.0)),\n",
       " ((3.5, 6.5, 3.5), (1.0, 1.0, 1.0)),\n",
       " ((4.5, 6.5, 3.5), (1.0, 1.0, 1.0)),\n",
       " ((5.5, 6.5, 3.5), (1.0, 1.0, 1.0)),\n",
       " ((0.5, 0.5, 4.5), (1.0, 1.0, 1.0)),\n",
       " ((1.5, 0.5, 4.5), (1.0, 1.0, 1.0)),\n",
       " ((2.5, 0.5, 4.5), (1.0, 1.0, 1.0)),\n",
       " ((3.5, 0.5, 4.5), (1.0, 1.0, 1.0)),\n",
       " ((4.5, 0.5, 4.5), (1.0, 1.0, 1.0)),\n",
       " ((5.5, 0.5, 4.5), (1.0, 1.0, 1.0)),\n",
       " ((0.5, 1.5, 4.5), (1.0, 1.0, 1.0)),\n",
       " ((1.5, 1.5, 4.5), (1.0, 1.0, 1.0)),\n",
       " ((2.5, 1.5, 4.5), (1.0, 1.0, 1.0)),\n",
       " ((3.5, 1.5, 4.5), (1.0, 1.0, 1.0)),\n",
       " ((4.5, 1.5, 4.5), (1.0, 1.0, 1.0)),\n",
       " ((5.5, 1.5, 4.5), (1.0, 1.0, 1.0)),\n",
       " ((0.5, 2.5, 4.5), (1.0, 1.0, 1.0)),\n",
       " ((1.5, 2.5, 4.5), (1.0, 1.0, 1.0)),\n",
       " ((2.5, 2.5, 4.5), (1.0, 1.0, 1.0)),\n",
       " ((3.5, 2.5, 4.5), (1.0, 1.0, 1.0)),\n",
       " ((4.5, 2.5, 4.5), (1.0, 1.0, 1.0)),\n",
       " ((5.5, 2.5, 4.5), (1.0, 1.0, 1.0)),\n",
       " ((0.5, 3.5, 4.5), (1.0, 1.0, 1.0)),\n",
       " ((1.5, 3.5, 4.5), (1.0, 1.0, 1.0)),\n",
       " ((2.5, 3.5, 4.5), (1.0, 1.0, 1.0)),\n",
       " ((3.5, 3.5, 4.5), (1.0, 1.0, 1.0)),\n",
       " ((4.5, 3.5, 4.5), (1.0, 1.0, 1.0)),\n",
       " ((5.5, 3.5, 4.5), (1.0, 1.0, 1.0)),\n",
       " ((0.5, 4.5, 4.5), (1.0, 1.0, 1.0)),\n",
       " ((1.5, 4.5, 4.5), (1.0, 1.0, 1.0)),\n",
       " ((2.5, 4.5, 4.5), (1.0, 1.0, 1.0)),\n",
       " ((3.5, 4.5, 4.5), (1.0, 1.0, 1.0)),\n",
       " ((4.5, 4.5, 4.5), (1.0, 1.0, 1.0)),\n",
       " ((5.5, 4.5, 4.5), (1.0, 1.0, 1.0)),\n",
       " ((0.5, 5.5, 4.5), (1.0, 1.0, 1.0)),\n",
       " ((1.5, 5.5, 4.5), (1.0, 1.0, 1.0)),\n",
       " ((2.5, 5.5, 4.5), (1.0, 1.0, 1.0)),\n",
       " ((3.5, 5.5, 4.5), (1.0, 1.0, 1.0)),\n",
       " ((4.5, 5.5, 4.5), (1.0, 1.0, 1.0)),\n",
       " ((5.5, 5.5, 4.5), (1.0, 1.0, 1.0)),\n",
       " ((0.5, 6.5, 4.5), (1.0, 1.0, 1.0)),\n",
       " ((1.5, 6.5, 4.5), (1.0, 1.0, 1.0)),\n",
       " ((2.5, 6.5, 4.5), (1.0, 1.0, 1.0)),\n",
       " ((3.5, 6.5, 4.5), (1.0, 1.0, 1.0)),\n",
       " ((4.5, 6.5, 4.5), (1.0, 1.0, 1.0)),\n",
       " ((5.5, 6.5, 4.5), (1.0, 1.0, 1.0))]"
      ]
     },
     "execution_count": 46,
     "metadata": {},
     "output_type": "execute_result"
    }
   ],
   "source": [
    "list(field)"
   ]
  },
  {
   "cell_type": "code",
   "execution_count": 47,
   "metadata": {},
   "outputs": [
    {
     "name": "stdout",
     "output_type": "stream",
     "text": [
      "(0.5, 0.5, 0.5) (1.0, 1.0, 1.0)\n",
      "(1.5, 0.5, 0.5) (1.0, 1.0, 1.0)\n",
      "(2.5, 0.5, 0.5) (1.0, 1.0, 1.0)\n",
      "(3.5, 0.5, 0.5) (1.0, 1.0, 1.0)\n",
      "(4.5, 0.5, 0.5) (1.0, 1.0, 1.0)\n",
      "(5.5, 0.5, 0.5) (1.0, 1.0, 1.0)\n",
      "(0.5, 1.5, 0.5) (1.0, 1.0, 1.0)\n",
      "(1.5, 1.5, 0.5) (1.0, 1.0, 1.0)\n",
      "(2.5, 1.5, 0.5) (1.0, 1.0, 1.0)\n",
      "(3.5, 1.5, 0.5) (1.0, 1.0, 1.0)\n",
      "(4.5, 1.5, 0.5) (1.0, 1.0, 1.0)\n",
      "(5.5, 1.5, 0.5) (1.0, 1.0, 1.0)\n",
      "(0.5, 2.5, 0.5) (1.0, 1.0, 1.0)\n",
      "(1.5, 2.5, 0.5) (1.0, 1.0, 1.0)\n",
      "(2.5, 2.5, 0.5) (1.0, 1.0, 1.0)\n",
      "(3.5, 2.5, 0.5) (1.0, 1.0, 1.0)\n",
      "(4.5, 2.5, 0.5) (1.0, 1.0, 1.0)\n",
      "(5.5, 2.5, 0.5) (1.0, 1.0, 1.0)\n",
      "(0.5, 3.5, 0.5) (1.0, 1.0, 1.0)\n",
      "(1.5, 3.5, 0.5) (1.0, 1.0, 1.0)\n",
      "(2.5, 3.5, 0.5) (1.0, 1.0, 1.0)\n",
      "(3.5, 3.5, 0.5) (1.0, 1.0, 1.0)\n",
      "(4.5, 3.5, 0.5) (1.0, 1.0, 1.0)\n",
      "(5.5, 3.5, 0.5) (1.0, 1.0, 1.0)\n",
      "(0.5, 4.5, 0.5) (1.0, 1.0, 1.0)\n",
      "(1.5, 4.5, 0.5) (1.0, 1.0, 1.0)\n",
      "(2.5, 4.5, 0.5) (1.0, 1.0, 1.0)\n",
      "(3.5, 4.5, 0.5) (1.0, 1.0, 1.0)\n",
      "(4.5, 4.5, 0.5) (1.0, 1.0, 1.0)\n",
      "(5.5, 4.5, 0.5) (1.0, 1.0, 1.0)\n",
      "(0.5, 5.5, 0.5) (1.0, 1.0, 1.0)\n",
      "(1.5, 5.5, 0.5) (1.0, 1.0, 1.0)\n",
      "(2.5, 5.5, 0.5) (1.0, 1.0, 1.0)\n",
      "(3.5, 5.5, 0.5) (1.0, 1.0, 1.0)\n",
      "(4.5, 5.5, 0.5) (1.0, 1.0, 1.0)\n",
      "(5.5, 5.5, 0.5) (1.0, 1.0, 1.0)\n",
      "(0.5, 6.5, 0.5) (1.0, 1.0, 1.0)\n",
      "(1.5, 6.5, 0.5) (1.0, 1.0, 1.0)\n",
      "(2.5, 6.5, 0.5) (1.0, 1.0, 1.0)\n",
      "(3.5, 6.5, 0.5) (1.0, 1.0, 1.0)\n",
      "(4.5, 6.5, 0.5) (1.0, 1.0, 1.0)\n",
      "(5.5, 6.5, 0.5) (1.0, 1.0, 1.0)\n",
      "(0.5, 0.5, 1.5) (1.0, 1.0, 1.0)\n",
      "(1.5, 0.5, 1.5) (1.0, 1.0, 1.0)\n",
      "(2.5, 0.5, 1.5) (1.0, 1.0, 1.0)\n",
      "(3.5, 0.5, 1.5) (1.0, 1.0, 1.0)\n",
      "(4.5, 0.5, 1.5) (1.0, 1.0, 1.0)\n",
      "(5.5, 0.5, 1.5) (1.0, 1.0, 1.0)\n",
      "(0.5, 1.5, 1.5) (1.0, 1.0, 1.0)\n",
      "(1.5, 1.5, 1.5) (1.0, 1.0, 1.0)\n",
      "(2.5, 1.5, 1.5) (1.0, 1.0, 1.0)\n",
      "(3.5, 1.5, 1.5) (1.0, 1.0, 1.0)\n",
      "(4.5, 1.5, 1.5) (1.0, 1.0, 1.0)\n",
      "(5.5, 1.5, 1.5) (1.0, 1.0, 1.0)\n",
      "(0.5, 2.5, 1.5) (1.0, 1.0, 1.0)\n",
      "(1.5, 2.5, 1.5) (1.0, 1.0, 1.0)\n",
      "(2.5, 2.5, 1.5) (1.0, 1.0, 1.0)\n",
      "(3.5, 2.5, 1.5) (1.0, 1.0, 1.0)\n",
      "(4.5, 2.5, 1.5) (1.0, 1.0, 1.0)\n",
      "(5.5, 2.5, 1.5) (1.0, 1.0, 1.0)\n",
      "(0.5, 3.5, 1.5) (1.0, 1.0, 1.0)\n",
      "(1.5, 3.5, 1.5) (1.0, 1.0, 1.0)\n",
      "(2.5, 3.5, 1.5) (1.0, 1.0, 1.0)\n",
      "(3.5, 3.5, 1.5) (1.0, 1.0, 1.0)\n",
      "(4.5, 3.5, 1.5) (1.0, 1.0, 1.0)\n",
      "(5.5, 3.5, 1.5) (1.0, 1.0, 1.0)\n",
      "(0.5, 4.5, 1.5) (1.0, 1.0, 1.0)\n",
      "(1.5, 4.5, 1.5) (1.0, 1.0, 1.0)\n",
      "(2.5, 4.5, 1.5) (1.0, 1.0, 1.0)\n",
      "(3.5, 4.5, 1.5) (1.0, 1.0, 1.0)\n",
      "(4.5, 4.5, 1.5) (1.0, 1.0, 1.0)\n",
      "(5.5, 4.5, 1.5) (1.0, 1.0, 1.0)\n",
      "(0.5, 5.5, 1.5) (1.0, 1.0, 1.0)\n",
      "(1.5, 5.5, 1.5) (1.0, 1.0, 1.0)\n",
      "(2.5, 5.5, 1.5) (1.0, 1.0, 1.0)\n",
      "(3.5, 5.5, 1.5) (1.0, 1.0, 1.0)\n",
      "(4.5, 5.5, 1.5) (1.0, 1.0, 1.0)\n",
      "(5.5, 5.5, 1.5) (1.0, 1.0, 1.0)\n",
      "(0.5, 6.5, 1.5) (1.0, 1.0, 1.0)\n",
      "(1.5, 6.5, 1.5) (1.0, 1.0, 1.0)\n",
      "(2.5, 6.5, 1.5) (1.0, 1.0, 1.0)\n",
      "(3.5, 6.5, 1.5) (1.0, 1.0, 1.0)\n",
      "(4.5, 6.5, 1.5) (1.0, 1.0, 1.0)\n",
      "(5.5, 6.5, 1.5) (1.0, 1.0, 1.0)\n",
      "(0.5, 0.5, 2.5) (1.0, 1.0, 1.0)\n",
      "(1.5, 0.5, 2.5) (1.0, 1.0, 1.0)\n",
      "(2.5, 0.5, 2.5) (1.0, 1.0, 1.0)\n",
      "(3.5, 0.5, 2.5) (1.0, 1.0, 1.0)\n",
      "(4.5, 0.5, 2.5) (1.0, 1.0, 1.0)\n",
      "(5.5, 0.5, 2.5) (1.0, 1.0, 1.0)\n",
      "(0.5, 1.5, 2.5) (1.0, 1.0, 1.0)\n",
      "(1.5, 1.5, 2.5) (1.0, 1.0, 1.0)\n",
      "(2.5, 1.5, 2.5) (1.0, 1.0, 1.0)\n",
      "(3.5, 1.5, 2.5) (1.0, 1.0, 1.0)\n",
      "(4.5, 1.5, 2.5) (1.0, 1.0, 1.0)\n",
      "(5.5, 1.5, 2.5) (1.0, 1.0, 1.0)\n",
      "(0.5, 2.5, 2.5) (1.0, 1.0, 1.0)\n",
      "(1.5, 2.5, 2.5) (1.0, 1.0, 1.0)\n",
      "(2.5, 2.5, 2.5) (1.0, 1.0, 1.0)\n",
      "(3.5, 2.5, 2.5) (1.0, 1.0, 1.0)\n",
      "(4.5, 2.5, 2.5) (1.0, 1.0, 1.0)\n",
      "(5.5, 2.5, 2.5) (1.0, 1.0, 1.0)\n",
      "(0.5, 3.5, 2.5) (1.0, 1.0, 1.0)\n",
      "(1.5, 3.5, 2.5) (1.0, 1.0, 1.0)\n",
      "(2.5, 3.5, 2.5) (1.0, 1.0, 1.0)\n",
      "(3.5, 3.5, 2.5) (1.0, 1.0, 1.0)\n",
      "(4.5, 3.5, 2.5) (1.0, 1.0, 1.0)\n",
      "(5.5, 3.5, 2.5) (1.0, 1.0, 1.0)\n",
      "(0.5, 4.5, 2.5) (1.0, 1.0, 1.0)\n",
      "(1.5, 4.5, 2.5) (1.0, 1.0, 1.0)\n",
      "(2.5, 4.5, 2.5) (1.0, 1.0, 1.0)\n",
      "(3.5, 4.5, 2.5) (1.0, 1.0, 1.0)\n",
      "(4.5, 4.5, 2.5) (1.0, 1.0, 1.0)\n",
      "(5.5, 4.5, 2.5) (1.0, 1.0, 1.0)\n",
      "(0.5, 5.5, 2.5) (1.0, 1.0, 1.0)\n",
      "(1.5, 5.5, 2.5) (1.0, 1.0, 1.0)\n",
      "(2.5, 5.5, 2.5) (1.0, 1.0, 1.0)\n",
      "(3.5, 5.5, 2.5) (1.0, 1.0, 1.0)\n",
      "(4.5, 5.5, 2.5) (1.0, 1.0, 1.0)\n",
      "(5.5, 5.5, 2.5) (1.0, 1.0, 1.0)\n",
      "(0.5, 6.5, 2.5) (1.0, 1.0, 1.0)\n",
      "(1.5, 6.5, 2.5) (1.0, 1.0, 1.0)\n",
      "(2.5, 6.5, 2.5) (1.0, 1.0, 1.0)\n",
      "(3.5, 6.5, 2.5) (1.0, 1.0, 1.0)\n",
      "(4.5, 6.5, 2.5) (1.0, 1.0, 1.0)\n",
      "(5.5, 6.5, 2.5) (1.0, 1.0, 1.0)\n",
      "(0.5, 0.5, 3.5) (1.0, 1.0, 1.0)\n",
      "(1.5, 0.5, 3.5) (1.0, 1.0, 1.0)\n",
      "(2.5, 0.5, 3.5) (1.0, 1.0, 1.0)\n",
      "(3.5, 0.5, 3.5) (1.0, 1.0, 1.0)\n",
      "(4.5, 0.5, 3.5) (1.0, 1.0, 1.0)\n",
      "(5.5, 0.5, 3.5) (1.0, 1.0, 1.0)\n",
      "(0.5, 1.5, 3.5) (1.0, 1.0, 1.0)\n",
      "(1.5, 1.5, 3.5) (1.0, 1.0, 1.0)\n",
      "(2.5, 1.5, 3.5) (1.0, 1.0, 1.0)\n",
      "(3.5, 1.5, 3.5) (1.0, 1.0, 1.0)\n",
      "(4.5, 1.5, 3.5) (1.0, 1.0, 1.0)\n",
      "(5.5, 1.5, 3.5) (1.0, 1.0, 1.0)\n",
      "(0.5, 2.5, 3.5) (1.0, 1.0, 1.0)\n",
      "(1.5, 2.5, 3.5) (1.0, 1.0, 1.0)\n",
      "(2.5, 2.5, 3.5) (1.0, 1.0, 1.0)\n",
      "(3.5, 2.5, 3.5) (1.0, 1.0, 1.0)\n",
      "(4.5, 2.5, 3.5) (1.0, 1.0, 1.0)\n",
      "(5.5, 2.5, 3.5) (1.0, 1.0, 1.0)\n",
      "(0.5, 3.5, 3.5) (1.0, 1.0, 1.0)\n",
      "(1.5, 3.5, 3.5) (1.0, 1.0, 1.0)\n",
      "(2.5, 3.5, 3.5) (1.0, 1.0, 1.0)\n",
      "(3.5, 3.5, 3.5) (1.0, 1.0, 1.0)\n",
      "(4.5, 3.5, 3.5) (1.0, 1.0, 1.0)\n",
      "(5.5, 3.5, 3.5) (1.0, 1.0, 1.0)\n",
      "(0.5, 4.5, 3.5) (1.0, 1.0, 1.0)\n",
      "(1.5, 4.5, 3.5) (1.0, 1.0, 1.0)\n",
      "(2.5, 4.5, 3.5) (1.0, 1.0, 1.0)\n",
      "(3.5, 4.5, 3.5) (1.0, 1.0, 1.0)\n",
      "(4.5, 4.5, 3.5) (1.0, 1.0, 1.0)\n",
      "(5.5, 4.5, 3.5) (1.0, 1.0, 1.0)\n",
      "(0.5, 5.5, 3.5) (1.0, 1.0, 1.0)\n",
      "(1.5, 5.5, 3.5) (1.0, 1.0, 1.0)\n",
      "(2.5, 5.5, 3.5) (1.0, 1.0, 1.0)\n",
      "(3.5, 5.5, 3.5) (1.0, 1.0, 1.0)\n",
      "(4.5, 5.5, 3.5) (1.0, 1.0, 1.0)\n",
      "(5.5, 5.5, 3.5) (1.0, 1.0, 1.0)\n",
      "(0.5, 6.5, 3.5) (1.0, 1.0, 1.0)\n",
      "(1.5, 6.5, 3.5) (1.0, 1.0, 1.0)\n",
      "(2.5, 6.5, 3.5) (1.0, 1.0, 1.0)\n",
      "(3.5, 6.5, 3.5) (1.0, 1.0, 1.0)\n",
      "(4.5, 6.5, 3.5) (1.0, 1.0, 1.0)\n",
      "(5.5, 6.5, 3.5) (1.0, 1.0, 1.0)\n",
      "(0.5, 0.5, 4.5) (1.0, 1.0, 1.0)\n",
      "(1.5, 0.5, 4.5) (1.0, 1.0, 1.0)\n",
      "(2.5, 0.5, 4.5) (1.0, 1.0, 1.0)\n",
      "(3.5, 0.5, 4.5) (1.0, 1.0, 1.0)\n",
      "(4.5, 0.5, 4.5) (1.0, 1.0, 1.0)\n",
      "(5.5, 0.5, 4.5) (1.0, 1.0, 1.0)\n",
      "(0.5, 1.5, 4.5) (1.0, 1.0, 1.0)\n",
      "(1.5, 1.5, 4.5) (1.0, 1.0, 1.0)\n",
      "(2.5, 1.5, 4.5) (1.0, 1.0, 1.0)\n",
      "(3.5, 1.5, 4.5) (1.0, 1.0, 1.0)\n",
      "(4.5, 1.5, 4.5) (1.0, 1.0, 1.0)\n",
      "(5.5, 1.5, 4.5) (1.0, 1.0, 1.0)\n",
      "(0.5, 2.5, 4.5) (1.0, 1.0, 1.0)\n",
      "(1.5, 2.5, 4.5) (1.0, 1.0, 1.0)\n",
      "(2.5, 2.5, 4.5) (1.0, 1.0, 1.0)\n",
      "(3.5, 2.5, 4.5) (1.0, 1.0, 1.0)\n",
      "(4.5, 2.5, 4.5) (1.0, 1.0, 1.0)\n",
      "(5.5, 2.5, 4.5) (1.0, 1.0, 1.0)\n",
      "(0.5, 3.5, 4.5) (1.0, 1.0, 1.0)\n",
      "(1.5, 3.5, 4.5) (1.0, 1.0, 1.0)\n",
      "(2.5, 3.5, 4.5) (1.0, 1.0, 1.0)\n",
      "(3.5, 3.5, 4.5) (1.0, 1.0, 1.0)\n",
      "(4.5, 3.5, 4.5) (1.0, 1.0, 1.0)\n",
      "(5.5, 3.5, 4.5) (1.0, 1.0, 1.0)\n",
      "(0.5, 4.5, 4.5) (1.0, 1.0, 1.0)\n",
      "(1.5, 4.5, 4.5) (1.0, 1.0, 1.0)\n",
      "(2.5, 4.5, 4.5) (1.0, 1.0, 1.0)\n",
      "(3.5, 4.5, 4.5) (1.0, 1.0, 1.0)\n",
      "(4.5, 4.5, 4.5) (1.0, 1.0, 1.0)\n",
      "(5.5, 4.5, 4.5) (1.0, 1.0, 1.0)\n",
      "(0.5, 5.5, 4.5) (1.0, 1.0, 1.0)\n",
      "(1.5, 5.5, 4.5) (1.0, 1.0, 1.0)\n",
      "(2.5, 5.5, 4.5) (1.0, 1.0, 1.0)\n",
      "(3.5, 5.5, 4.5) (1.0, 1.0, 1.0)\n",
      "(4.5, 5.5, 4.5) (1.0, 1.0, 1.0)\n",
      "(5.5, 5.5, 4.5) (1.0, 1.0, 1.0)\n",
      "(0.5, 6.5, 4.5) (1.0, 1.0, 1.0)\n",
      "(1.5, 6.5, 4.5) (1.0, 1.0, 1.0)\n",
      "(2.5, 6.5, 4.5) (1.0, 1.0, 1.0)\n",
      "(3.5, 6.5, 4.5) (1.0, 1.0, 1.0)\n",
      "(4.5, 6.5, 4.5) (1.0, 1.0, 1.0)\n",
      "(5.5, 6.5, 4.5) (1.0, 1.0, 1.0)\n"
     ]
    }
   ],
   "source": [
    "for coord, value in field:\n",
    "    print(coord, value)"
   ]
  },
  {
   "cell_type": "code",
   "execution_count": 48,
   "metadata": {},
   "outputs": [
    {
     "data": {
      "text/plain": [
       "True"
      ]
     },
     "execution_count": 48,
     "metadata": {},
     "output_type": "execute_result"
    }
   ],
   "source": [
    "field == +field"
   ]
  },
  {
   "cell_type": "code",
   "execution_count": 49,
   "metadata": {},
   "outputs": [
    {
     "data": {
      "text/plain": [
       "(-1.0, -1.0, -1.0)"
      ]
     },
     "execution_count": 49,
     "metadata": {},
     "output_type": "execute_result"
    }
   ],
   "source": [
    "(-field).average"
   ]
  },
  {
   "cell_type": "code",
   "execution_count": 50,
   "metadata": {},
   "outputs": [
    {
     "data": {
      "text/plain": [
       "-1.0"
      ]
     },
     "execution_count": 50,
     "metadata": {},
     "output_type": "execute_result"
    }
   ],
   "source": [
    "(-field.x**3).average"
   ]
  },
  {
   "cell_type": "code",
   "execution_count": 51,
   "metadata": {},
   "outputs": [
    {
     "data": {
      "text/plain": [
       "-1.0"
      ]
     },
     "execution_count": 51,
     "metadata": {},
     "output_type": "execute_result"
    }
   ],
   "source": [
    "(-field.x**2).average"
   ]
  },
  {
   "cell_type": "code",
   "execution_count": 52,
   "metadata": {},
   "outputs": [
    {
     "data": {
      "text/plain": [
       "Field(mesh=Mesh(region=Region(p1=(0, 0, 0), p2=(6, 7, 5)), n=(6, 7, 5), bc='', subregions={'r1': Region(p1=(0, 0, 0), p2=(5, 5, 2)), 'r2': Region(p1=(0, 0, 2), p2=(5, 5, 5))}), dim=3)"
      ]
     },
     "execution_count": 52,
     "metadata": {},
     "output_type": "execute_result"
    }
   ],
   "source": [
    "2*field + 6*field"
   ]
  },
  {
   "cell_type": "code",
   "execution_count": 53,
   "metadata": {},
   "outputs": [
    {
     "data": {
      "text/plain": [
       "Field(mesh=Mesh(region=Region(p1=(0, 0, 0), p2=(5, 5, 2)), n=(5, 5, 2), bc='', subregions={}), dim=3)"
      ]
     },
     "execution_count": 53,
     "metadata": {},
     "output_type": "execute_result"
    }
   ],
   "source": [
    "field['r1']"
   ]
  },
  {
   "cell_type": "code",
   "execution_count": 54,
   "metadata": {},
   "outputs": [
    {
     "data": {
      "text/plain": [
       "Field(mesh=Mesh(region=Region(p1=(0.0, 0.0, 2.0), p2=(6.0, 7.0, 3.0)), n=(6, 7, 1), bc='', subregions={}), dim=3)"
      ]
     },
     "execution_count": 54,
     "metadata": {},
     "output_type": "execute_result"
    }
   ],
   "source": [
    "field.project('z')"
   ]
  },
  {
   "cell_type": "code",
   "execution_count": 55,
   "metadata": {},
   "outputs": [
    {
     "data": {
      "text/plain": [
       "True"
      ]
     },
     "execution_count": 55,
     "metadata": {},
     "output_type": "execute_result"
    }
   ],
   "source": [
    "field == field"
   ]
  }
 ],
 "metadata": {
  "kernelspec": {
   "display_name": "Python 3",
   "language": "python",
   "name": "python3"
  },
  "language_info": {
   "codemirror_mode": {
    "name": "ipython",
    "version": 3
   },
   "file_extension": ".py",
   "mimetype": "text/x-python",
   "name": "python",
   "nbconvert_exporter": "python",
   "pygments_lexer": "ipython3",
   "version": "3.8.3"
  }
 },
 "nbformat": 4,
 "nbformat_minor": 4
}
